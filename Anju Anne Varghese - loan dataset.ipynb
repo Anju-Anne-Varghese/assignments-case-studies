{
 "cells": [
  {
   "cell_type": "markdown",
   "id": "bd225595",
   "metadata": {},
   "source": [
    "# LOAN DATASET"
   ]
  },
  {
   "cell_type": "code",
   "execution_count": 1,
   "id": "3677064c",
   "metadata": {},
   "outputs": [],
   "source": [
    "# importing libraries\n",
    "import pandas as pd\n",
    "import numpy as np\n",
    "import matplotlib.pyplot as plt\n",
    "import seaborn as sns\n",
    "from sklearn.preprocessing import LabelEncoder\n",
    "from sklearn.preprocessing import MinMaxScaler\n",
    "from sklearn.model_selection import train_test_split\n",
    "from sklearn.linear_model import LogisticRegression\n",
    "from sklearn.neighbors import KNeighborsClassifier\n",
    "from sklearn.svm import SVC\n",
    "from sklearn.tree import DecisionTreeClassifier\n",
    "from sklearn.ensemble import RandomForestClassifier\n",
    "from sklearn. metrics import confusion_matrix, precision_score, recall_score, f1_score, accuracy_score"
   ]
  },
  {
   "cell_type": "code",
   "execution_count": 2,
   "id": "f67bc443",
   "metadata": {},
   "outputs": [],
   "source": [
    "# loading into python\n",
    "data = pd.read_csv('C:/Users/Asus/NORKA/06th jan 2023/DATA/loan_dataset.csv')"
   ]
  },
  {
   "cell_type": "code",
   "execution_count": 3,
   "id": "b7c87368",
   "metadata": {},
   "outputs": [
    {
     "name": "stdout",
     "output_type": "stream",
     "text": [
      "<class 'pandas.core.frame.DataFrame'>\n",
      "RangeIndex: 116058 entries, 0 to 116057\n",
      "Data columns (total 29 columns):\n",
      " #   Column                    Non-Null Count   Dtype  \n",
      "---  ------                    --------------   -----  \n",
      " 0   loan_id                   116058 non-null  int64  \n",
      " 1   source                    116058 non-null  object \n",
      " 2   financial_institution     116058 non-null  object \n",
      " 3   interest_rate             116058 non-null  float64\n",
      " 4   unpaid_principal_bal      116058 non-null  int64  \n",
      " 5   loan_term                 116058 non-null  int64  \n",
      " 6   origination_date          116058 non-null  object \n",
      " 7   first_payment_date        116058 non-null  object \n",
      " 8   loan_to_value             116058 non-null  int64  \n",
      " 9   number_of_borrowers       116058 non-null  float64\n",
      " 10  debt_to_income_ratio      116058 non-null  float64\n",
      " 11  borrower_credit_score     116058 non-null  float64\n",
      " 12  loan_purpose              116058 non-null  object \n",
      " 13  insurance_percent         116058 non-null  float64\n",
      " 14  co-borrower_credit_score  116058 non-null  float64\n",
      " 15  insurance_type            116058 non-null  float64\n",
      " 16  m1                        116058 non-null  int64  \n",
      " 17  m2                        116058 non-null  int64  \n",
      " 18  m3                        116058 non-null  int64  \n",
      " 19  m4                        116058 non-null  int64  \n",
      " 20  m5                        116058 non-null  int64  \n",
      " 21  m6                        116058 non-null  int64  \n",
      " 22  m7                        116058 non-null  int64  \n",
      " 23  m8                        116058 non-null  int64  \n",
      " 24  m9                        116058 non-null  int64  \n",
      " 25  m10                       116058 non-null  int64  \n",
      " 26  m11                       116058 non-null  int64  \n",
      " 27  m12                       116058 non-null  int64  \n",
      " 28  m13                       116058 non-null  int64  \n",
      "dtypes: float64(7), int64(17), object(5)\n",
      "memory usage: 25.7+ MB\n"
     ]
    }
   ],
   "source": [
    "# Print information about the dataset\n",
    "data.info()"
   ]
  },
  {
   "cell_type": "markdown",
   "id": "78892c1a",
   "metadata": {},
   "source": [
    "~  source , financial_institution, origination_date, first_payment_date, loan_purpose are of object type "
   ]
  },
  {
   "cell_type": "markdown",
   "id": "d7e22047",
   "metadata": {},
   "source": [
    "### CHECKING FOR NULL VALUES"
   ]
  },
  {
   "cell_type": "code",
   "execution_count": 4,
   "id": "9a48acab",
   "metadata": {},
   "outputs": [
    {
     "data": {
      "text/plain": [
       "loan_id                     0\n",
       "source                      0\n",
       "financial_institution       0\n",
       "interest_rate               0\n",
       "unpaid_principal_bal        0\n",
       "loan_term                   0\n",
       "origination_date            0\n",
       "first_payment_date          0\n",
       "loan_to_value               0\n",
       "number_of_borrowers         0\n",
       "debt_to_income_ratio        0\n",
       "borrower_credit_score       0\n",
       "loan_purpose                0\n",
       "insurance_percent           0\n",
       "co-borrower_credit_score    0\n",
       "insurance_type              0\n",
       "m1                          0\n",
       "m2                          0\n",
       "m3                          0\n",
       "m4                          0\n",
       "m5                          0\n",
       "m6                          0\n",
       "m7                          0\n",
       "m8                          0\n",
       "m9                          0\n",
       "m10                         0\n",
       "m11                         0\n",
       "m12                         0\n",
       "m13                         0\n",
       "dtype: int64"
      ]
     },
     "execution_count": 4,
     "metadata": {},
     "output_type": "execute_result"
    }
   ],
   "source": [
    "# number of null values in the dataframe \n",
    "data.isnull().sum()"
   ]
  },
  {
   "cell_type": "code",
   "execution_count": 5,
   "id": "f9090b60",
   "metadata": {},
   "outputs": [
    {
     "data": {
      "text/html": [
       "<div>\n",
       "<style scoped>\n",
       "    .dataframe tbody tr th:only-of-type {\n",
       "        vertical-align: middle;\n",
       "    }\n",
       "\n",
       "    .dataframe tbody tr th {\n",
       "        vertical-align: top;\n",
       "    }\n",
       "\n",
       "    .dataframe thead th {\n",
       "        text-align: right;\n",
       "    }\n",
       "</style>\n",
       "<table border=\"1\" class=\"dataframe\">\n",
       "  <thead>\n",
       "    <tr style=\"text-align: right;\">\n",
       "      <th></th>\n",
       "      <th>loan_id</th>\n",
       "      <th>source</th>\n",
       "      <th>financial_institution</th>\n",
       "      <th>interest_rate</th>\n",
       "      <th>unpaid_principal_bal</th>\n",
       "      <th>loan_term</th>\n",
       "      <th>origination_date</th>\n",
       "      <th>first_payment_date</th>\n",
       "      <th>loan_to_value</th>\n",
       "      <th>number_of_borrowers</th>\n",
       "      <th>...</th>\n",
       "      <th>m4</th>\n",
       "      <th>m5</th>\n",
       "      <th>m6</th>\n",
       "      <th>m7</th>\n",
       "      <th>m8</th>\n",
       "      <th>m9</th>\n",
       "      <th>m10</th>\n",
       "      <th>m11</th>\n",
       "      <th>m12</th>\n",
       "      <th>m13</th>\n",
       "    </tr>\n",
       "  </thead>\n",
       "  <tbody>\n",
       "    <tr>\n",
       "      <th>0</th>\n",
       "      <td>268055008619</td>\n",
       "      <td>Z</td>\n",
       "      <td>Turner, Baldwin and Rhodes</td>\n",
       "      <td>4.250</td>\n",
       "      <td>214000</td>\n",
       "      <td>360</td>\n",
       "      <td>2012-03-01</td>\n",
       "      <td>05/2012</td>\n",
       "      <td>95</td>\n",
       "      <td>1.0</td>\n",
       "      <td>...</td>\n",
       "      <td>0</td>\n",
       "      <td>0</td>\n",
       "      <td>0</td>\n",
       "      <td>1</td>\n",
       "      <td>0</td>\n",
       "      <td>0</td>\n",
       "      <td>0</td>\n",
       "      <td>0</td>\n",
       "      <td>0</td>\n",
       "      <td>1</td>\n",
       "    </tr>\n",
       "    <tr>\n",
       "      <th>1</th>\n",
       "      <td>672831657627</td>\n",
       "      <td>Y</td>\n",
       "      <td>Swanson, Newton and Miller</td>\n",
       "      <td>4.875</td>\n",
       "      <td>144000</td>\n",
       "      <td>360</td>\n",
       "      <td>2012-01-01</td>\n",
       "      <td>03/2012</td>\n",
       "      <td>72</td>\n",
       "      <td>1.0</td>\n",
       "      <td>...</td>\n",
       "      <td>0</td>\n",
       "      <td>0</td>\n",
       "      <td>0</td>\n",
       "      <td>0</td>\n",
       "      <td>0</td>\n",
       "      <td>0</td>\n",
       "      <td>0</td>\n",
       "      <td>1</td>\n",
       "      <td>0</td>\n",
       "      <td>1</td>\n",
       "    </tr>\n",
       "    <tr>\n",
       "      <th>2</th>\n",
       "      <td>742515242108</td>\n",
       "      <td>Z</td>\n",
       "      <td>Thornton-Davis</td>\n",
       "      <td>3.250</td>\n",
       "      <td>366000</td>\n",
       "      <td>180</td>\n",
       "      <td>2012-01-01</td>\n",
       "      <td>03/2012</td>\n",
       "      <td>49</td>\n",
       "      <td>1.0</td>\n",
       "      <td>...</td>\n",
       "      <td>0</td>\n",
       "      <td>0</td>\n",
       "      <td>0</td>\n",
       "      <td>0</td>\n",
       "      <td>0</td>\n",
       "      <td>0</td>\n",
       "      <td>0</td>\n",
       "      <td>0</td>\n",
       "      <td>0</td>\n",
       "      <td>1</td>\n",
       "    </tr>\n",
       "    <tr>\n",
       "      <th>3</th>\n",
       "      <td>601385667462</td>\n",
       "      <td>X</td>\n",
       "      <td>OTHER</td>\n",
       "      <td>4.750</td>\n",
       "      <td>135000</td>\n",
       "      <td>360</td>\n",
       "      <td>2012-02-01</td>\n",
       "      <td>04/2012</td>\n",
       "      <td>46</td>\n",
       "      <td>2.0</td>\n",
       "      <td>...</td>\n",
       "      <td>0</td>\n",
       "      <td>0</td>\n",
       "      <td>0</td>\n",
       "      <td>0</td>\n",
       "      <td>0</td>\n",
       "      <td>1</td>\n",
       "      <td>1</td>\n",
       "      <td>1</td>\n",
       "      <td>1</td>\n",
       "      <td>1</td>\n",
       "    </tr>\n",
       "    <tr>\n",
       "      <th>4</th>\n",
       "      <td>273870029961</td>\n",
       "      <td>X</td>\n",
       "      <td>OTHER</td>\n",
       "      <td>4.750</td>\n",
       "      <td>124000</td>\n",
       "      <td>360</td>\n",
       "      <td>2012-02-01</td>\n",
       "      <td>04/2012</td>\n",
       "      <td>80</td>\n",
       "      <td>1.0</td>\n",
       "      <td>...</td>\n",
       "      <td>3</td>\n",
       "      <td>4</td>\n",
       "      <td>5</td>\n",
       "      <td>6</td>\n",
       "      <td>7</td>\n",
       "      <td>8</td>\n",
       "      <td>9</td>\n",
       "      <td>10</td>\n",
       "      <td>11</td>\n",
       "      <td>1</td>\n",
       "    </tr>\n",
       "  </tbody>\n",
       "</table>\n",
       "<p>5 rows × 29 columns</p>\n",
       "</div>"
      ],
      "text/plain": [
       "        loan_id source       financial_institution  interest_rate  \\\n",
       "0  268055008619      Z  Turner, Baldwin and Rhodes          4.250   \n",
       "1  672831657627      Y  Swanson, Newton and Miller          4.875   \n",
       "2  742515242108      Z              Thornton-Davis          3.250   \n",
       "3  601385667462      X                       OTHER          4.750   \n",
       "4  273870029961      X                       OTHER          4.750   \n",
       "\n",
       "   unpaid_principal_bal  loan_term origination_date first_payment_date  \\\n",
       "0                214000        360       2012-03-01            05/2012   \n",
       "1                144000        360       2012-01-01            03/2012   \n",
       "2                366000        180       2012-01-01            03/2012   \n",
       "3                135000        360       2012-02-01            04/2012   \n",
       "4                124000        360       2012-02-01            04/2012   \n",
       "\n",
       "   loan_to_value  number_of_borrowers  ...  m4  m5 m6  m7  m8  m9  m10  m11  \\\n",
       "0             95                  1.0  ...   0   0  0   1   0   0    0    0   \n",
       "1             72                  1.0  ...   0   0  0   0   0   0    0    1   \n",
       "2             49                  1.0  ...   0   0  0   0   0   0    0    0   \n",
       "3             46                  2.0  ...   0   0  0   0   0   1    1    1   \n",
       "4             80                  1.0  ...   3   4  5   6   7   8    9   10   \n",
       "\n",
       "   m12  m13  \n",
       "0    0    1  \n",
       "1    0    1  \n",
       "2    0    1  \n",
       "3    1    1  \n",
       "4   11    1  \n",
       "\n",
       "[5 rows x 29 columns]"
      ]
     },
     "execution_count": 5,
     "metadata": {},
     "output_type": "execute_result"
    }
   ],
   "source": [
    "# display the first 5 rows of the dataframe\n",
    "data.head()"
   ]
  },
  {
   "cell_type": "markdown",
   "id": "1e24d9e7",
   "metadata": {},
   "source": [
    "### CHECKING FOR DUPLICATES"
   ]
  },
  {
   "cell_type": "code",
   "execution_count": 6,
   "id": "ee37bb33",
   "metadata": {},
   "outputs": [
    {
     "data": {
      "text/html": [
       "<div>\n",
       "<style scoped>\n",
       "    .dataframe tbody tr th:only-of-type {\n",
       "        vertical-align: middle;\n",
       "    }\n",
       "\n",
       "    .dataframe tbody tr th {\n",
       "        vertical-align: top;\n",
       "    }\n",
       "\n",
       "    .dataframe thead th {\n",
       "        text-align: right;\n",
       "    }\n",
       "</style>\n",
       "<table border=\"1\" class=\"dataframe\">\n",
       "  <thead>\n",
       "    <tr style=\"text-align: right;\">\n",
       "      <th></th>\n",
       "      <th>loan_id</th>\n",
       "      <th>source</th>\n",
       "      <th>financial_institution</th>\n",
       "      <th>interest_rate</th>\n",
       "      <th>unpaid_principal_bal</th>\n",
       "      <th>loan_term</th>\n",
       "      <th>origination_date</th>\n",
       "      <th>first_payment_date</th>\n",
       "      <th>loan_to_value</th>\n",
       "      <th>number_of_borrowers</th>\n",
       "      <th>...</th>\n",
       "      <th>m4</th>\n",
       "      <th>m5</th>\n",
       "      <th>m6</th>\n",
       "      <th>m7</th>\n",
       "      <th>m8</th>\n",
       "      <th>m9</th>\n",
       "      <th>m10</th>\n",
       "      <th>m11</th>\n",
       "      <th>m12</th>\n",
       "      <th>m13</th>\n",
       "    </tr>\n",
       "  </thead>\n",
       "  <tbody>\n",
       "  </tbody>\n",
       "</table>\n",
       "<p>0 rows × 29 columns</p>\n",
       "</div>"
      ],
      "text/plain": [
       "Empty DataFrame\n",
       "Columns: [loan_id, source, financial_institution, interest_rate, unpaid_principal_bal, loan_term, origination_date, first_payment_date, loan_to_value, number_of_borrowers, debt_to_income_ratio, borrower_credit_score, loan_purpose, insurance_percent, co-borrower_credit_score, insurance_type, m1, m2, m3, m4, m5, m6, m7, m8, m9, m10, m11, m12, m13]\n",
       "Index: []\n",
       "\n",
       "[0 rows x 29 columns]"
      ]
     },
     "execution_count": 6,
     "metadata": {},
     "output_type": "execute_result"
    }
   ],
   "source": [
    "# display the rows having duplicates \n",
    "data[data.duplicated()]"
   ]
  },
  {
   "cell_type": "markdown",
   "id": "a33912ad",
   "metadata": {},
   "source": [
    "~ no duplicate rows in the dataset"
   ]
  },
  {
   "cell_type": "code",
   "execution_count": 7,
   "id": "727655df",
   "metadata": {},
   "outputs": [
    {
     "data": {
      "text/plain": [
       "116058"
      ]
     },
     "execution_count": 7,
     "metadata": {},
     "output_type": "execute_result"
    }
   ],
   "source": [
    "# count of unique values in the column\n",
    "data['loan_id'].nunique()"
   ]
  },
  {
   "cell_type": "markdown",
   "id": "98937b80",
   "metadata": {},
   "source": [
    "~ There are 116058 rows and 'loan_id' column is having 116058 unique values, hence it will not contribute much to the machine learning model. It can be removed."
   ]
  },
  {
   "cell_type": "code",
   "execution_count": 8,
   "id": "a2377056",
   "metadata": {},
   "outputs": [
    {
     "data": {
      "text/plain": [
       "19"
      ]
     },
     "execution_count": 8,
     "metadata": {},
     "output_type": "execute_result"
    }
   ],
   "source": [
    "# count of unique values in the column\n",
    "data['financial_institution'].nunique()"
   ]
  },
  {
   "cell_type": "code",
   "execution_count": 9,
   "id": "ee2eeed0",
   "metadata": {},
   "outputs": [
    {
     "data": {
      "text/plain": [
       "3"
      ]
     },
     "execution_count": 9,
     "metadata": {},
     "output_type": "execute_result"
    }
   ],
   "source": [
    "# count of unique values in the column\n",
    "data['loan_purpose'].nunique()"
   ]
  },
  {
   "cell_type": "code",
   "execution_count": 10,
   "id": "2d392196",
   "metadata": {},
   "outputs": [],
   "source": [
    "# removing 'loan_id', 'financial_institution', 'loan_purpose' columns from the dataframe\n",
    "data = data.drop(['loan_id', 'financial_institution', 'loan_purpose'], axis = 1)"
   ]
  },
  {
   "cell_type": "markdown",
   "id": "346898eb",
   "metadata": {},
   "source": [
    "### CHECKING FOR OUTLIERS "
   ]
  },
  {
   "cell_type": "markdown",
   "id": "bb96aaa9",
   "metadata": {},
   "source": [
    "##### Outliers' in 'interest_rate' column\n"
   ]
  },
  {
   "cell_type": "code",
   "execution_count": 11,
   "id": "42bd92fb",
   "metadata": {},
   "outputs": [
    {
     "data": {
      "image/png": "[encoded data removed]",
      "text/plain": [
       "<Figure size 640x480 with 1 Axes>"
      ]
     },
     "metadata": {},
     "output_type": "display_data"
    }
   ],
   "source": [
    "# Boxplot of 'interest_rate' column to check outliers\n",
    "plt.boxplot(data['interest_rate'])\n",
    "\n",
    "# display title\n",
    "plt.title(\"Boxplot of interest_rate\")\n",
    "\n",
    "# display figures\n",
    "plt.show()"
   ]
  },
  {
   "cell_type": "code",
   "execution_count": 12,
   "id": "76b5d758",
   "metadata": {},
   "outputs": [
    {
     "data": {
      "text/plain": [
       "\"Outliers of 'interest_rate' column = [5.125, 5.5, 5.125, 5.25, 5.125, 5.25, 5.25, 5.375, 5.125, 5.25, 5.75, 5.5, 5.375, 5.375, 5.5, 5.5, 5.125, 5.875, 5.5, 5.125, 5.125, 5.25, 5.375, 5.125, 5.375, 5.125, 5.125, 5.5, 5.125, 5.375, 5.375, 5.75, 5.5, 5.125, 5.5, 5.375, 5.25, 5.375, 5.375, 5.25, 5.625, 5.125, 5.125, 5.375, 5.25, 5.125, 5.125, 5.5, 5.375, 5.375, 5.75, 5.375, 5.125, 5.5, 5.125, 5.25, 5.25, 5.75, 5.125, 5.75, 5.375, 5.375, 5.125, 6.25, 5.5, 5.125, 5.375, 5.25, 5.125, 5.375, 5.25, 5.125, 5.5, 5.375, 5.25, 5.375, 5.125, 5.375, 5.25, 5.375, 5.25, 5.125, 5.25, 5.25, 5.625, 5.375, 5.25, 5.25, 5.125, 5.125, 5.375, 5.25, 5.25, 5.125, 5.69, 5.125, 5.5, 5.125, 5.375, 5.125, 5.25, 5.125, 5.125, 5.375, 5.125, 5.125, 5.25, 5.125, 5.125, 5.25, 5.25, 2.375, 5.125, 5.25, 5.375, 5.125, 5.375, 5.125, 5.375, 5.125, 5.125, 5.25, 5.375, 5.375, 5.75, 5.25, 5.25, 5.25, 5.125, 2.5, 5.125, 5.25, 5.375, 5.125, 5.125, 5.375, 5.375, 5.375, 5.125, 5.25, 5.5, 5.5, 5.375, 5.125, 5.25, 5.25, 5.25, 5.25, 5.625, 5.375, 5.125, 5.375, 5.25, 5.5, 5.375, 5.125, 5.25, 6.0, 5.25, 5.375, 5.25, 5.375, 5.25, 5.125, 5.25, 5.125, 2.375, 5.25, 5.125, 5.25, 5.309, 5.375, 5.21, 2.5, 5.25, 5.125, 5.375, 5.25, 5.375, 5.25, 5.25, 5.125, 5.125, 5.25, 5.375, 5.25, 5.375, 5.25, 5.625, 5.125, 5.25, 5.75, 5.125, 5.5, 5.25, 5.25, 5.375, 5.25, 5.375, 5.125, 5.625, 5.5, 5.25, 5.375, 5.125, 5.125, 5.25, 5.375, 5.25, 5.625, 5.125, 5.375, 5.125, 5.25, 5.25, 5.25, 5.25, 5.25, 5.375, 5.125, 5.125, 5.125, 6.0, 5.125, 5.375, 5.125, 5.25, 5.375, 5.25, 5.115, 5.5, 5.25, 5.125, 5.125, 5.5, 5.75, 5.5, 5.25, 5.25, 5.125, 5.125, 5.375, 5.625, 5.25, 5.25, 5.25, 5.5, 5.25, 5.125, 5.5, 5.375, 5.25, 5.125, 5.375, 5.125, 6.625, 5.125, 5.125, 5.375, 5.125, 5.125, 5.25, 5.125, 5.875, 5.25, 5.125, 5.125, 5.125, 5.125, 5.25, 5.25, 5.25, 5.25, 5.101, 5.125, 5.375, 5.125, 5.125, 5.375, 5.5, 5.25, 5.125, 5.375, 5.5, 5.5, 5.25, 5.875, 5.125, 5.25, 5.5, 5.125, 5.125, 5.5, 5.125, 5.125, 5.125, 5.125, 5.5, 5.125, 5.125, 5.125, 5.25, 5.125, 5.125, 5.125, 5.25, 5.25, 5.25, 5.5, 5.375, 5.25, 5.25, 5.375, 5.5, 5.5, 5.375, 5.25, 5.25, 5.25, 5.125, 5.375, 5.125, 5.25, 5.125, 5.25, 5.25, 5.125, 5.125, 5.43, 5.375, 5.375, 5.125, 5.25, 5.25, 5.25, 5.25, 5.25, 5.25, 5.375, 5.25, 5.125, 5.875, 5.125, 5.375, 5.125, 5.125, 5.25, 5.625, 5.25, 5.375, 5.125, 5.25, 5.34, 5.25, 5.103, 5.125, 5.25, 5.375, 5.125, 5.375, 5.125, 5.375, 5.375, 5.25, 5.25, 5.125, 5.125, 5.25, 5.25, 5.75, 5.375, 5.125, 5.125, 5.375, 5.125, 5.125, 5.5, 2.375, 5.375, 5.125, 5.375, 5.25, 5.375, 5.125, 5.625, 5.375, 5.125, 5.375, 5.125, 5.5, 5.125, 5.125, 5.5, 5.125, 5.25, 5.375, 5.25, 5.125, 5.46, 5.125, 5.375, 5.125, 5.25, 5.125, 5.1720000000000015, 5.125, 5.375, 5.375, 5.5, 5.75, 5.25, 5.5, 5.125, 5.25, 5.125, 5.375, 5.125, 5.625, 5.125, 5.375, 2.5, 6.0, 5.25, 5.25, 5.125, 5.25, 5.125, 5.25, 5.125, 5.125, 5.25, 5.25, 6.5, 5.25, 5.5, 5.5, 5.375, 5.125, 5.5, 5.25, 5.125, 5.25, 5.125, 5.325, 5.125, 5.375, 5.125, 5.25, 5.125, 5.875, 5.375, 5.25, 5.625, 5.125, 5.125, 5.375, 5.25, 5.375, 5.25, 5.375, 5.125, 5.125, 5.375, 5.25, 5.375, 5.375, 5.25, 5.25, 5.125, 5.375, 5.25, 5.125, 5.25, 5.375, 5.25, 5.125, 5.375, 5.5, 5.625, 5.375, 5.25, 5.25, 5.375, 5.125, 5.125, 5.25, 5.25, 5.375, 5.08, 5.375, 5.375, 5.25, 5.5, 5.5, 5.125, 5.125, 5.375, 5.125, 5.125, 5.5, 5.25, 5.375, 5.375, 5.125, 5.25, 5.125, 5.25, 5.25, 5.25, 5.125, 5.295, 5.125, 5.25, 5.25, 5.125, 5.5, 5.125, 5.375, 5.25, 5.25, 5.25, 5.25, 2.5, 5.625, 5.25, 5.125, 5.375, 5.25, 5.25, 5.25, 5.125, 5.5, 5.5, 5.375, 5.75, 5.25, 5.125, 5.25, 5.375, 5.375, 5.625, 5.375, 5.25, 5.375, 5.75, 5.25, 5.5, 5.375, 5.125, 5.25, 5.125, 5.125, 5.125, 5.25, 5.625, 5.375, 5.125, 5.25, 5.125, 5.375, 5.5, 5.375, 5.375, 5.375, 5.5, 5.125, 5.25, 5.5, 5.25, 5.5, 5.125, 5.5, 5.5, 5.5, 5.125, 5.125, 5.125, 5.375, 5.125, 5.25, 5.25, 5.375, 5.28, 5.375, 5.375, 5.5, 5.25, 5.25, 5.5, 5.625, 5.375, 5.125, 5.375, 5.125, 5.125, 5.625, 5.25, 5.5, 5.25, 5.25, 5.25, 5.375, 5.125, 5.125, 5.625, 5.125, 5.125, 5.125, 5.125, 5.125, 5.125, 5.375, 5.25, 5.375, 2.375, 5.125, 5.125, 5.375, 5.125, 5.125, 5.125, 5.125, 5.125, 5.375, 5.375, 5.25, 5.25, 5.25, 5.125, 5.25, 5.25, 5.403, 5.25, 5.375, 5.125, 5.25, 5.5, 5.5, 5.125, 5.125, 5.125, 5.34, 5.125, 5.375, 5.375, 5.125, 5.25, 5.5, 5.125, 5.25, 5.125, 5.375, 5.5, 5.375, 2.375, 5.125, 5.125, 5.25, 5.125, 5.25, 5.125, 5.125, 5.5, 5.375, 5.375, 5.125, 5.25, 6.0, 5.25, 5.375, 5.5, 5.125, 5.25, 5.5, 5.375, 5.625, 5.25, 5.125, 5.5, 5.25, 5.125, 5.483, 5.375, 5.25, 5.125, 5.25, 5.375, 5.375, 5.125, 5.375, 5.375, 5.127000000000002, 5.75, 5.25, 5.5, 5.375, 5.25, 5.125, 5.125, 5.125, 5.125, 5.25, 5.375, 5.625, 5.25, 5.125, 5.125, 5.375, 5.25, 5.25, 5.125, 5.125, 5.5, 5.125, 6.5, 5.125, 5.25, 5.375, 5.125, 5.625, 5.375, 5.25, 5.25, 5.14, 5.5, 5.125, 5.125, 5.375, 5.25, 5.125, 5.125, 5.125, 5.125, 5.375, 5.5, 5.5, 5.625, 5.75, 5.125, 5.125, 5.125, 5.125, 5.1320000000000014, 5.25, 5.125, 5.5, 5.125, 5.25, 5.375, 5.375, 5.25, 5.125, 5.5, 5.5, 5.25, 2.5, 5.375, 5.25, 5.25, 5.375, 5.25, 5.375, 5.25, 5.25, 5.625, 5.125, 6.75, 5.5, 5.75, 5.125, 5.125, 5.125, 5.25, 5.25, 2.5, 5.25, 5.18, 5.125, 5.125, 5.5, 5.25, 5.25, 5.125, 5.25, 5.125, 5.375, 2.375, 5.25, 5.125, 5.125, 5.125, 5.375, 5.25, 5.25, 5.25, 5.375, 5.25, 5.5, 5.375, 5.56, 5.375, 5.25, 5.5, 5.25, 5.125, 5.25, 5.375, 5.25, 5.25, 5.5, 5.5, 5.125, 5.125, 5.25, 5.25, 5.25, 5.25, 5.25, 5.25, 5.625, 5.25, 5.375, 5.375, 5.125, 5.125, 5.125, 5.5, 5.25, 5.125, 5.125, 5.125, 5.25, 5.25, 5.75, 5.625, 5.25, 5.125, 5.375, 5.375, 5.25, 5.097, 5.25, 5.5, 5.25, 5.375, 5.75, 5.375, 5.875, 5.375, 5.125, 5.375, 5.25, 5.375, 5.47, 5.125, 5.375, 5.25, 5.375, 5.125, 5.5, 5.375, 5.125, 5.25, 5.25, 5.125, 5.5, 5.125, 2.375, 5.375, 5.25, 5.25, 5.125, 5.25, 5.625, 5.5, 5.375, 5.375, 5.875, 5.5, 5.25, 5.25, 5.375, 5.25, 5.25, 5.25, 5.5, 5.25, 2.5, 5.625, 5.125, 5.375, 5.375, 5.25, 5.125, 5.125, 5.25, 5.125, 5.5, 5.375, 5.25, 5.375, 2.25, 5.625, 5.125, 5.25, 5.125, 5.125, 5.25, 5.375, 5.375, 5.125, 5.125, 5.125, 5.125, 5.375, 5.125, 5.25, 5.25, 5.375, 5.125, 5.375, 5.25, 5.125, 5.375, 5.875, 5.125, 5.375, 5.375, 5.625, 5.125, 5.25, 5.25, 5.25, 5.125, 5.5, 5.25, 5.5]\""
      ]
     },
     "execution_count": 12,
     "metadata": {},
     "output_type": "execute_result"
    }
   ],
   "source": [
    "# First Quartile of 'interest_rate' column\n",
    "Q1_ir = np.percentile(data['interest_rate'], 25, interpolation='midpoint')\n",
    "# Second Quartile of 'interest_rate' column\n",
    "Q2_ir = np.percentile(data['interest_rate'], 50, interpolation='midpoint')\n",
    "# Third Quartile of 'interest_rate' column\n",
    "Q3_ir = np.percentile(data['interest_rate'], 75, interpolation='midpoint')\n",
    "# (interquartile range) IQR of  'interest_rate' column\n",
    "IQR_ir = Q3_ir-Q1_ir\n",
    "# lower whisker of 'interest_rate'  column\n",
    "low_ir = Q1_ir-1.5*IQR_ir \n",
    "# upper whisker of 'interest_rate' column\n",
    "up_ir = Q3_ir+1.5*IQR_ir\n",
    "\n",
    "# to find the outliers  in 'interest_rate' column and display it\n",
    "outlier_ir = [] \n",
    "for x_ir in data['interest_rate']:\n",
    "    if((x_ir>up_ir) or (x_ir<low_ir)):\n",
    "        outlier_ir.append(x_ir)\n",
    "f\"Outliers of 'interest_rate' column = {outlier_ir}\"\n"
   ]
  },
  {
   "cell_type": "markdown",
   "id": "d43d28c0",
   "metadata": {},
   "source": [
    "##### Outliers' in 'unpaid_principal_bal' column"
   ]
  },
  {
   "cell_type": "code",
   "execution_count": 13,
   "id": "6993a086",
   "metadata": {},
   "outputs": [
    {
     "data": {
      "image/png": "[encoded data removed]",
      "text/plain": [
       "<Figure size 640x480 with 1 Axes>"
      ]
     },
     "metadata": {},
     "output_type": "display_data"
    }
   ],
   "source": [
    "# Boxplot of 'unpaid_principal_bal' column to check outliers\n",
    "plt.boxplot(data['unpaid_principal_bal'])\n",
    "\n",
    "# display title\n",
    "plt.title(\"Boxplot of unpaid_principal_bal\")\n",
    "\n",
    "# display figures\n",
    "plt.show()"
   ]
  },
  {
   "cell_type": "code",
   "execution_count": 14,
   "id": "47fa7a66",
   "metadata": {},
   "outputs": [
    {
     "data": {
      "text/plain": [
       "\"Outliers of 'unpaid_principal_bal' column = [520000, 588000, 610000, 590000, 520000, 621000, 626000, 526000, 626000, 590000, 623000, 605000, 600000, 557000, 625000, 540000, 603000, 626000, 555000, 620000, 609000, 530000, 562000, 625000, 544000, 625000, 580000, 556000, 550000, 605000, 600000, 531000, 623000, 616000, 546000, 581000, 540000, 625000, 534000, 523000, 526000, 539000, 626000, 600000, 610000, 606000, 613000, 600000, 547000, 619000, 555000, 590000, 615000, 626000, 626000, 522000, 536000, 574000, 612000, 571000, 535000, 607000, 595000, 626000, 617000, 517000, 626000, 525000, 580000, 560000, 560000, 581000, 582000, 546000, 582000, 626000, 570000, 595000, 625000, 571000, 625000, 626000, 689000, 543000, 626000, 615000, 580000, 522000, 575000, 618000, 529000, 600000, 626000, 525000, 626000, 598000, 560000, 595000, 558000, 613000, 532000, 608000, 618000, 600000, 578000, 625000, 566000, 625000, 520000, 544000, 569000, 578000, 529000, 539000, 602000, 600000, 548000, 529000, 541000, 626000, 532000, 625000, 625000, 553000, 626000, 625000, 626000, 626000, 593000, 626000, 585000, 590000, 616000, 625000, 589000, 626000, 625000, 518000, 600000, 585000, 610000, 605000, 626000, 539000, 625000, 600000, 560000, 616000, 517000, 543000, 626000, 588000, 625000, 548000, 597000, 540000, 620000, 520000, 626000, 572000, 546000, 561000, 626000, 551000, 563000, 619000, 626000, 600000, 608000, 555000, 626000, 613000, 577000, 584000, 626000, 626000, 552000, 626000, 564000, 604000, 586000, 534000, 544000, 533000, 609000, 625000, 570000, 600000, 569000, 626000, 625000, 552000, 532000, 610000, 575000, 548000, 588000, 579000, 626000, 526000, 626000, 542000, 521000, 613000, 610000, 600000, 612000, 626000, 645000, 526000, 556000, 534000, 640000, 543000, 600000, 625000, 600000, 544000, 569000, 600000, 610000, 605000, 530000, 626000, 626000, 621000, 526000, 572000, 561000, 592000, 542000, 524000, 580000, 594000, 545000, 525000, 594000, 623000, 564000, 608000, 718000, 518000, 523000, 543000, 540000, 626000, 600000, 625000, 550000, 537000, 626000, 540000, 616000, 585000, 625000, 582000, 583000, 520000, 590000, 540000, 618000, 610000, 625000, 520000, 528000, 626000, 642000, 540000, 530000, 595000, 540000, 574000, 626000, 534000, 541000, 603000, 540000, 626000, 526000, 534000, 592000, 521000, 528000, 542000, 546000, 626000, 520000, 626000, 626000, 617000, 527000, 626000, 525000, 553000, 522000, 521000, 645000, 619000, 626000, 557000, 541000, 597000, 794000, 586000, 563000, 587000, 540000, 592000, 534000, 517000, 602000, 619000, 606000, 626000, 625000, 540000, 540000, 626000, 549000, 727000, 520000, 525000, 546000, 544000, 591000, 610000, 552000, 559000, 577000, 592000, 599000, 568000, 530000, 536000, 626000, 626000, 626000, 596000, 539000, 523000, 562000, 570000, 626000, 597000, 626000, 625000, 596000, 539000, 626000, 533000, 592000, 542000, 558000, 542000, 623000, 565000, 626000, 540000, 543000, 546000, 600000, 516000, 625000, 565000, 577000, 626000, 546000, 537000, 579000, 577000, 614000, 557000, 625000, 626000, 610000, 705000, 560000, 626000, 577000, 529000, 626000, 607000, 570000, 532000, 585000, 524000, 543000, 617000, 521000, 587000, 527000, 610000, 585000, 626000, 580000, 590000, 619000, 558000, 625000, 521000, 625000, 547000, 626000, 626000, 620000, 622000, 550000, 572000, 592000, 625000, 600000, 574000, 558000, 526000, 533000, 534000, 566000, 566000, 558000, 626000, 602000, 583000, 626000, 626000, 626000, 552000, 536000, 625000, 522000, 552000, 610000, 525000, 578000, 528000, 625000, 625000, 618000, 516000, 540000, 625000, 560000, 529000, 626000, 576000, 580000, 522000, 626000, 606000, 570000, 521000, 626000, 626000, 581000, 626000, 623000, 516000, 566000, 558000, 545000, 528000, 601000, 571000, 520000, 520000, 626000, 626000, 600000, 550000, 572000, 623000, 578000, 522000, 588000, 527000, 561000, 620000, 625000, 709000, 554000, 546000, 626000, 540000, 571000, 546000, 518000, 626000, 520000, 606000, 609000, 581000, 570000, 575000, 566000, 564000, 537000, 586000, 563000, 528000, 546000, 567000, 520000, 555000, 599000, 554000, 645000, 625000, 590000, 626000, 623000, 680000, 537000, 540000, 608000, 552000, 534000, 624000, 569000, 532000, 544000, 580000, 626000, 560000, 626000, 626000, 656000, 617000, 585000, 587000, 523000, 551000, 626000, 622000, 546000, 525000, 626000, 568000, 578000, 558000, 605000, 521000, 518000, 536000, 626000, 564000, 598000, 588000, 553000, 640000, 550000, 578000, 570000, 625000, 531000, 523000, 570000, 608000, 520000, 609000, 968000, 540000, 579000, 540000, 612000, 540000, 516000, 568000, 559000, 520000, 545000, 626000, 600000, 612000, 594000, 626000, 613000, 521000, 532000, 624000, 598000, 593000, 619000, 546000, 625000, 626000, 626000, 560000, 545000, 600000, 575000, 576000, 608000, 545000, 546000, 600000, 534000, 591000, 552000, 610000, 626000, 534000, 625000, 547000, 625000, 533000, 537000, 532000, 605000, 533000, 620000, 534000, 534000, 600000, 621000, 626000, 595000, 520000, 583000, 525000, 578000, 546000, 527000, 566000, 626000, 544000, 600000, 522000, 564000, 625000, 529000, 708000, 549000, 571000, 580000, 526000, 606000, 605000, 626000, 536000, 577000, 603000, 625000, 518000, 571000, 600000, 533000, 599000, 596000, 550000, 520000, 523000, 626000, 585000, 626000, 588000, 535000, 548000, 540000, 595000, 599000, 574000, 529000, 552000, 528000, 626000, 611000, 600000, 592000, 594000, 626000, 575000, 626000, 552000, 530000, 585000, 584000, 626000, 592000, 519000, 559000, 522000, 540000, 626000, 608000, 626000, 516000, 563000, 545000, 613000, 523000, 626000, 546000, 521000, 626000, 565000, 626000, 576000, 547000, 583000, 626000, 538000, 575000, 619000, 584000, 527000, 569000, 626000, 574000, 588000, 575000, 524000, 610000, 543000, 626000, 576000, 516000, 549000, 536000, 522000, 626000, 595000, 546000, 541000, 600000, 540000, 537000, 534000, 584000, 546000, 558000, 625000, 540000, 626000, 588000, 580000, 626000, 625000, 621000, 525000, 585000, 541000, 574000, 625000, 572000, 625000, 572000, 603000, 551000, 532000, 600000, 575000, 625000, 570000, 626000, 556000, 565000, 625000, 564000, 600000, 626000, 544000, 620000, 626000, 594000, 590000, 626000, 626000, 613000, 626000, 528000, 561000, 536000, 603000, 530000, 527000, 626000, 626000, 625000, 575000, 625000, 590000, 626000, 620000, 566000, 558000, 520000, 521000, 527000, 571000, 614000, 622000, 521000, 625000, 534000, 537000, 576000, 600000, 522000, 579000, 620000, 544000, 615000, 626000, 626000, 592000, 602000, 534000, 588000, 625000, 531000, 570000, 590000, 594000, 604000, 551000, 520000, 599000, 626000, 625000, 523000, 579000, 575000, 626000, 531000, 626000, 555000, 556000, 624000, 626000, 568000, 525000, 626000, 533000, 519000, 596000, 540000, 520000, 626000, 626000, 554000, 608000, 600000, 593000, 595000, 555000, 626000, 536000, 626000, 625000, 551000, 576000, 715000, 567000, 603000, 604000, 530000, 626000, 546000, 571000, 567000, 597000, 530000, 548000, 566000, 592000, 626000, 564000, 570000, 625000, 533000, 540000, 520000, 551000, 620000, 570000, 590000, 538000, 626000, 600000, 594000, 600000, 563000, 707000, 620000, 564000, 545000, 577000, 538000, 529000, 533000, 556000, 520000, 545000, 537000, 560000, 595000, 626000, 581000, 626000, 600000, 522000, 624000, 626000, 595000, 626000, 555000, 534000, 606000, 580000, 626000, 534000, 531000, 581000, 571000, 620000, 619000, 548000, 568000, 569000, 540000, 562000, 551000, 720000, 545000, 544000, 587000, 624000, 580000, 599000, 534000, 604000, 625000, 526000, 558000, 626000, 600000, 604000, 615000, 625000, 553000, 550000, 625000, 626000, 520000, 540000, 528000, 626000, 523000, 626000, 534000, 609000, 559000, 625000, 616000, 575000, 625000, 541000, 540000, 560000, 585000, 566000, 529000, 626000, 598000, 536000, 533000, 588000, 610000, 626000, 534000, 626000, 523000, 520000, 520000, 580000, 549000, 580000, 591000, 546000, 542000, 605000, 540000, 564000, 570000, 521000, 603000, 575000, 520000, 542000, 625000, 600000, 625000, 566000, 560000, 536000, 626000, 802000, 625000, 558000, 582000, 596000, 603000, 595000, 527000, 560000, 580000, 530000, 635000, 550000, 548000, 626000, 626000, 540000, 544000, 517000, 626000, 528000, 539000, 538000, 521000, 626000, 620000, 625000, 570000, 570000, 559000, 568000, 556000, 525000, 626000, 626000, 555000, 536000, 534000, 580000, 578000, 626000, 623000, 626000, 560000, 546000, 544000, 567000, 625000, 626000, 615000, 519000, 558000, 626000, 536000, 603000, 626000, 609000, 566000, 608000, 626000, 576000, 625000, 524000, 545000, 572000, 626000, 625000, 548000, 626000, 568000, 546000, 548000, 540000, 540000, 560000, 624000, 568000, 566000, 626000, 520000, 626000, 569000, 526000, 533000, 534000, 551000, 626000, 626000, 578000, 549000, 592000, 615000, 584000, 530000, 534000, 519000, 600000, 533000, 537000, 568000, 625000, 562000, 600000, 625000, 721000, 599000, 600000, 546000, 621000, 549000, 612000, 522000, 586000, 625000, 626000, 560000, 517000, 546000, 560000, 577000, 626000, 585000, 556000, 546000, 620000, 573000, 585000, 516000, 585000, 624000, 550000, 915000, 570000, 625000, 600000, 525000, 517000, 575000, 626000, 635000, 585000, 516000, 624000, 626000, 600000, 553000, 574000, 625000, 591000, 791000, 568000, 525000, 560000, 625000, 574000, 573000, 645000, 626000, 626000, 558000, 540000, 626000, 720000, 575000, 566000, 536000, 570000, 545000, 525000, 593000, 563000, 588000, 554000, 626000, 520000, 625000, 522000, 576000, 605000, 600000, 533000, 625000, 595000, 546000, 601000, 535000, 620000, 705000, 566000, 626000, 585000, 545000, 524000, 546000, 577000, 610000, 604000, 575000, 567000, 538000, 605000, 522000, 548000, 525000, 626000, 626000, 626000, 550000, 520000, 534000, 600000, 523000, 546000, 555000, 528000, 525000, 588000, 626000, 575000, 560000, 528000, 559000, 626000, 607000, 620000, 563000, 562000, 588000, 597000, 626000, 625000, 626000, 553000, 560000, 572000, 575000, 557000, 543000, 626000, 620000, 665000, 550000, 569000, 626000, 520000, 546000, 535000, 578000, 533000, 546000, 590000, 517000, 520000, 626000, 538000, 608000, 626000, 591000, 576000, 595000, 562000, 532000, 613000, 551000, 556000, 525000, 604000, 626000, 626000, 600000, 520000, 548000, 543000, 555000, 562000, 600000, 568000, 566000, 529000, 612000, 600000, 583000, 588000, 573000, 558000, 558000, 587000, 531000, 564000, 555000, 569000, 625000, 577000, 540000, 626000, 596000, 594000, 542000, 554000, 545000, 582000, 600000, 626000, 565000, 1200000, 564000, 557000, 554000, 551000, 626000, 556000, 610000, 532000, 559000, 626000, 617000, 567000, 546000, 626000, 546000, 626000, 626000, 626000, 626000, 569000, 545000, 610000, 535000, 626000, 604000, 626000, 540000, 520000, 560000, 534000, 551000, 626000, 577000, 551000, 600000, 543000, 521000, 600000, 532000, 555000, 530000, 626000, 626000, 522000, 626000, 600000, 554000, 551000, 543000, 626000, 621000, 536000, 598000, 540000, 605000, 626000, 624000, 608000, 556000, 535000, 600000, 626000, 595000, 546000, 590000, 625000, 533000, 540000, 625000, 576000, 625000, 548000, 603000, 550000, 750000, 603000, 525000, 545000, 585000, 525000, 590000, 556000, 585000, 520000, 625000, 604000, 626000, 570000, 553000, 608000, 568000, 626000, 570000, 519000, 626000, 626000, 602000, 548000, 538000, 685000, 546000, 625000, 531000, 600000, 626000, 580000, 603000, 520000, 558000, 517000, 531000, 524000, 626000, 546000, 523000, 516000, 570000, 528000, 742000, 595000, 590000, 605000, 525000, 554000, 570000, 620000, 626000, 610000, 548000, 527000, 622000, 519000, 560000, 574000, 570000, 625000, 605000, 625000, 540000, 625000, 620000, 530000, 541000, 551000, 625000, 609000, 563000, 580000, 616000, 528000, 550000, 626000, 530000, 519000, 626000, 592000, 540000, 619000, 625000, 575000, 531000, 603000, 565000, 542000, 603000, 542000, 556000, 590000, 618000, 536000, 765000, 626000, 802000, 542000, 525000, 613000, 542000, 584000, 551000, 626000, 531000, 575000, 542000, 536000, 599000, 563000, 594000, 582000, 518000, 609000, 597000, 626000, 592000, 535000, 588000, 535000, 590000, 626000, 604000, 544000, 516000, 586000, 583000, 522000, 558000, 623000, 586000, 615000, 588000, 553000, 555000, 602000, 599000, 520000, 540000, 546000, 626000, 625000, 546000, 560000, 592000, 540000, 540000, 625000, 563000, 540000, 602000, 615000, 563000, 523000, 521000, 517000, 560000, 521000, 579000, 620000, 528000, 626000, 540000, 610000, 626000, 580000, 555000, 600000, 626000, 540000, 620000, 522000, 560000, 525000, 592000, 546000, 626000, 621000, 535000, 596000, 578000, 625000, 608000, 552000, 528000, 623000, 626000, 612000, 660000, 548000, 550000, 626000, 632000, 578000, 548000, 625000, 607000, 527000, 520000, 680000, 576000, 533000, 557000, 583000, 626000, 626000, 623000, 543000, 602000, 623000, 567000, 520000, 580000, 625000, 626000, 536000, 612000, 607000, 626000, 535000, 582000, 626000, 573000, 625000, 611000, 560000, 600000, 590000, 545000, 568000, 586000, 545000, 686000, 565000, 553000, 534000, 566000, 559000, 585000, 569000, 581000, 546000, 546000, 626000, 625000, 626000, 580000, 613000, 625000, 570000, 610000, 544000, 585000, 592000, 528000, 626000, 520000, 546000, 545000, 610000, 551000, 528000, 604000, 518000, 529000, 600000, 626000, 528000, 531000, 593000, 524000, 626000, 626000, 626000, 626000, 608000, 575000, 592000, 626000, 556000, 536000, 568000, 626000, 520000, 600000, 521000, 576000, 543000, 588000, 672000, 582000, 625000, 530000, 625000, 608000, 550000, 595000, 530000, 563000, 600000, 626000, 611000, 517000, 553000, 551000, 516000, 525000, 535000, 534000, 532000, 620000, 625000, 536000, 538000, 545000, 600000, 611000, 580000, 584000, 583000, 597000, 626000, 575000, 546000, 532000, 616000, 616000, 639000, 570000, 545000, 626000, 619000, 615000, 565000, 575000, 611000, 589000, 530000, 530000, 616000, 544000, 608000, 610000, 602000, 600000, 540000, 600000, 603000, 604000, 625000, 626000, 583000, 615000, 619000, 524000, 639000, 626000, 555000, 626000, 555000, 588000, 546000, 570000, 519000, 580000, 540000]\""
      ]
     },
     "execution_count": 14,
     "metadata": {},
     "output_type": "execute_result"
    }
   ],
   "source": [
    "# First Quartile of 'unpaid_principal_bal' column\n",
    "Q1_upb = np.percentile(data['unpaid_principal_bal'], 25, interpolation='midpoint')\n",
    "# Second Quartile of 'unpaid_principal_bal' column\n",
    "Q2_upb = np.percentile(data['unpaid_principal_bal'], 50, interpolation='midpoint')\n",
    "# Third Quartile of 'unpaid_principal_bal' column\n",
    "Q3_upb = np.percentile(data['unpaid_principal_bal'], 75, interpolation='midpoint')\n",
    "# (interquartile range) IQR of  'unpaid_principal_bal' column\n",
    "IQR_upb = Q3_upb-Q1_upb\n",
    "# lower whisker of 'unpaid_principal_bal'  column\n",
    "low_upb = Q1_upb-1.5*IQR_upb\n",
    "# upper whisker of 'unpaid_principal_bal' column\n",
    "up_upb = Q3_upb+1.5*IQR_upb\n",
    "\n",
    "# to find the outliers  in 'unpaid_principal_bal' column and display it\n",
    "outlier_upb = [] \n",
    "for x_upb in data['unpaid_principal_bal']:\n",
    "    if((x_upb>up_upb) or (x_upb<low_upb)):\n",
    "        outlier_upb.append(x_upb)\n",
    "f\"Outliers of 'unpaid_principal_bal' column = {outlier_upb}\"\n"
   ]
  },
  {
   "cell_type": "markdown",
   "id": "7f21706e",
   "metadata": {},
   "source": [
    "##### Outliers' in 'loan_term' column"
   ]
  },
  {
   "cell_type": "code",
   "execution_count": 15,
   "id": "cad65fa0",
   "metadata": {},
   "outputs": [
    {
     "data": {
      "image/png": "[encoded data removed]",
      "text/plain": [
       "<Figure size 640x480 with 1 Axes>"
      ]
     },
     "metadata": {},
     "output_type": "display_data"
    }
   ],
   "source": [
    "# Boxplot of 'loan_term' column to check outliers\n",
    "plt.boxplot(data['loan_term'])\n",
    "\n",
    "# display title\n",
    "plt.title(\"Boxplot of loan_term\")\n",
    "\n",
    "# display figures\n",
    "plt.show()"
   ]
  },
  {
   "cell_type": "markdown",
   "id": "40d4aea7",
   "metadata": {},
   "source": [
    "~ no outliers present"
   ]
  },
  {
   "cell_type": "markdown",
   "id": "f6d5473d",
   "metadata": {},
   "source": [
    "##### Outliers' in 'loan_to_value' column"
   ]
  },
  {
   "cell_type": "code",
   "execution_count": 16,
   "id": "f6254ab1",
   "metadata": {},
   "outputs": [
    {
     "data": {
      "image/png": "[encoded data removed]",
      "text/plain": [
       "<Figure size 640x480 with 1 Axes>"
      ]
     },
     "metadata": {},
     "output_type": "display_data"
    }
   ],
   "source": [
    "# Boxplot of 'loan_to_value' column to check outliers\n",
    "plt.boxplot(data['loan_to_value'])\n",
    "\n",
    "# display title\n",
    "plt.title(\"Boxplot of loan_to_value\")\n",
    "\n",
    "# display figures\n",
    "plt.show()"
   ]
  },
  {
   "cell_type": "code",
   "execution_count": 17,
   "id": "29c0a912",
   "metadata": {},
   "outputs": [
    {
     "data": {
      "text/plain": [
       "\"Outliers of 'loan_to_value' column = [20, 21, 20, 11, 19, 22, 22, 19, 20, 18, 20, 12, 16, 22, 22, 17, 21, 19, 20, 21, 19, 17, 22, 19, 16, 15, 22, 20, 15, 21, 12, 16, 22, 14, 14, 12, 14, 18, 21, 21, 17, 21, 16, 21, 21, 19, 21, 19, 18, 13, 11, 22, 17, 22, 20, 19, 16, 6, 17, 18, 19, 22, 22, 19, 19, 21, 20, 22, 12, 7, 11, 19, 17, 22, 22, 14, 22, 19, 21, 18, 17, 22, 22, 17, 19, 22, 10, 21, 20, 19, 17, 19, 22, 20, 11, 13, 20, 16, 19, 19, 21, 20, 11, 22, 22, 20, 22, 19, 16, 21, 12, 17, 10, 17, 18, 17, 20, 15, 10, 21, 16, 14, 21, 19, 22, 22, 20, 19, 21, 20, 14, 17, 21, 22, 21, 20, 22, 21, 14, 16, 14, 19, 20, 13, 19, 13, 20, 12, 16, 20, 14, 22, 16, 22, 10, 20, 20, 16, 11, 20, 21, 18, 19, 19, 22, 22, 22, 20, 22, 17, 14, 20, 22, 20, 20, 11, 21, 22, 17, 17, 22, 22, 14, 21, 22, 22, 20, 21, 19, 14, 15, 22, 16, 17, 21, 18, 21, 17, 21, 8, 20, 22, 20, 22, 11, 18, 18, 17, 16, 18, 15, 16, 18, 20, 17, 18, 20, 20, 18, 21, 16, 13, 10, 13, 16, 16, 13, 18, 20, 16, 19, 17, 19, 19, 19, 17, 18, 20, 19, 10, 15, 22, 21, 22, 16, 19, 13, 20, 19, 21, 22, 18, 22, 18, 21, 13, 21, 16, 15, 13, 11, 21, 21, 12, 20, 21, 20, 16, 21, 14, 17, 22, 17, 17, 17, 9, 22, 16, 14, 20, 18, 14, 20, 15, 18, 11, 19, 16, 17, 22, 21, 16, 22, 19, 12, 19, 14, 19, 20, 14, 19, 21, 15, 20, 18, 21, 20, 21, 16, 13, 16, 16, 8, 22, 14, 21, 19, 14, 16, 22, 20, 21, 19, 20, 18, 21, 21, 19, 15, 19, 14, 12, 19, 20, 18, 21, 19, 10, 18, 21, 12, 10, 11, 22, 22, 19, 22, 20, 22, 19, 17, 16, 17, 19, 22, 22, 18, 19, 12, 16, 21, 22, 17, 21, 16, 10, 20, 20, 21, 16, 20, 22, 22, 15, 19, 17, 15, 18, 14, 15, 20, 21, 17, 17, 21, 18, 14, 12, 21, 22, 22, 12, 15, 22, 16, 22, 19, 19, 21, 20, 16, 18, 8, 13, 16, 20, 14, 19, 18, 22, 22, 19, 19, 22, 22, 22, 20, 20, 20, 14, 16, 15, 19, 18, 19, 16, 13, 19, 21, 18, 18, 21, 14, 15, 19, 16, 17, 17, 20, 18, 21, 14, 11, 21, 22, 22, 19, 20, 22, 18, 13, 20, 21, 19, 22, 21, 11, 14, 15, 18, 18, 19, 19, 19, 10, 14, 12, 22, 22, 16, 22, 17, 19, 19, 22, 22, 14, 18, 22, 16, 13, 21, 21, 22, 22, 22, 16, 21, 21, 12, 16, 17, 15, 11, 12, 19, 12, 14, 19, 20, 22, 21, 9, 16, 16, 16, 16, 18, 19, 20, 14, 17, 16, 21, 21, 22, 20, 11, 17, 16, 18, 20, 19, 15, 21, 15, 21, 21, 21, 15, 22, 16, 18, 19, 22, 12, 22, 18, 20, 19, 15, 15, 14, 14, 18, 20, 20, 18, 22, 18, 22, 19, 21, 17, 21, 19, 22, 20, 11, 22, 13, 20, 19, 16, 20, 20, 20, 22, 15, 16, 15, 20, 20, 17, 18, 17, 18, 21, 10, 20, 13, 21, 21, 9, 16, 19, 21, 21, 21, 21, 21, 15, 22, 19, 21, 18, 22, 22, 19, 18, 20, 17, 21, 19, 15, 17, 13, 21, 18, 17, 19, 9, 12, 21, 20, 22, 22, 13, 18, 21, 19, 22, 13, 19, 18, 18, 21, 22, 17, 9, 22, 22, 16, 12, 19, 19, 16, 18, 16, 15, 17, 16, 21, 15, 20, 21, 13, 19, 12, 14, 18, 18, 12, 11, 11, 6, 20, 22, 19, 7, 21, 19, 16, 22, 18, 19, 12, 20, 11, 10, 22, 22, 19, 21, 18, 22, 12, 20, 20, 20, 17, 21, 10, 8, 20, 18, 15, 20, 21, 17, 18, 20, 16, 16, 19, 22, 12, 21, 22, 20, 21, 10, 21, 19, 19, 19, 19, 10, 14, 21, 17, 16, 20, 21, 20, 20, 20, 15, 10, 15, 16, 18, 22, 17, 20, 13, 18, 15, 19, 19, 22, 18, 22, 16, 18, 17, 17, 19, 20, 19, 18, 19, 22, 21, 21, 18, 12, 16, 22, 18, 22, 11, 20, 12, 10, 11, 19, 19, 22, 10, 17, 21, 22, 21, 20, 15, 22, 13, 21, 20, 16, 15, 21, 22, 13, 15, 20, 18, 17, 21, 14, 21, 21, 18, 20, 22, 21, 15, 20, 17, 22, 19, 17, 17, 12, 17, 15, 19, 21, 14, 19, 17, 21, 22, 13, 21, 22, 19, 12, 15, 22, 22, 14, 21, 18, 17, 17, 13, 20, 19, 21, 22, 22, 20, 14, 19, 17, 17, 17, 17, 21, 13, 19, 16, 14, 14, 17, 19, 21, 11, 17, 15, 22, 21, 22, 21, 18, 21, 21, 19, 20, 15, 20, 19, 22, 14, 15, 9, 20, 13, 14, 21, 22, 22, 18, 17, 11, 16, 18, 22, 18, 19, 18, 21, 21, 11, 22, 21, 14, 21, 21, 14, 20, 19, 18, 20, 14, 21, 21, 20, 20, 20, 17, 20, 9, 8, 12, 7, 20, 22, 21, 20, 19, 22, 21, 17, 22, 13, 22, 19, 13, 22, 14, 21, 22, 17, 20, 17, 13, 22, 18, 10, 21, 17, 22, 14, 20, 19, 12, 21, 19, 7, 16, 22, 15, 21, 20, 18, 16, 22, 8, 18, 11, 20, 15, 22, 15, 20, 22, 20, 10, 20, 17, 17, 14, 12, 19, 18, 19, 18, 15, 22, 14, 21, 21, 20, 22, 19, 9, 15, 16, 19, 18, 20, 21, 20, 22, 18, 16, 22, 16, 18, 18, 8, 20, 18, 20, 16, 10, 19, 19, 22, 20, 19, 13, 17, 16, 21, 16, 16, 17, 18, 13, 13, 21, 21, 11, 19, 19, 20, 20, 18, 20, 18, 10, 21, 21, 20, 22, 16, 14, 16, 7, 19, 15, 22, 20, 12, 20, 19, 19, 14, 18, 21, 19, 11, 22, 17, 22, 22, 16, 18, 21, 21, 10, 18, 22, 22, 19, 12, 16, 13, 13, 20, 19, 15, 6, 16, 22, 19, 19, 19, 14, 16, 18, 21, 21, 12, 12, 20, 22, 16, 14, 20, 22, 18, 22, 22, 17, 20, 13, 17, 17, 18, 22, 22, 19, 21, 22, 19, 17, 12, 21, 19, 22, 16, 22, 16, 21, 21, 22, 22, 20, 17, 20, 22, 21, 20, 21, 11, 19, 20, 21, 14, 22, 21, 20, 11, 9, 22, 14, 7, 12, 21, 14, 20, 14, 22, 18, 12, 16, 21, 22, 17, 21, 20, 20, 15, 22, 10, 22, 17, 22, 14, 20, 14, 21, 21, 19, 18, 20, 19, 21, 22, 15, 18, 21, 21, 10, 19, 13, 19, 20, 19, 15, 19, 17, 21, 22, 20, 8, 19, 18, 14, 22, 19, 19, 16, 21, 19, 22, 19, 20, 18, 17, 22, 19, 19, 18, 13, 20, 18, 10, 9, 21, 18, 21, 21, 17, 19, 21, 22, 17, 19, 16, 13, 16, 16, 20, 21, 12, 19, 18, 16, 17, 20, 22, 15, 19, 12, 17, 13, 22, 16, 17, 18, 19, 20, 20, 11, 11, 19, 19, 17, 17, 18, 19, 21, 21, 11, 20, 14, 15, 22, 21, 22, 22, 18, 20, 14, 17, 22, 19, 17, 13, 22, 18, 19, 13, 14, 12, 16, 15, 16, 22, 22, 15, 22, 16, 8, 17, 20, 18, 22, 18, 19, 22, 21, 20, 19, 15, 16, 11, 21, 15, 22, 22, 21, 18, 18, 22, 18, 22, 15, 21, 19, 20, 14, 12, 12, 21, 14, 10, 18, 21, 19, 20, 19, 22, 22, 22, 15, 22, 21, 20, 22, 12, 20, 20, 22, 19, 13, 21, 22, 22, 12, 19, 7, 9, 20, 15, 21, 21, 14, 16, 19, 19, 14, 22, 18, 6, 21, 19, 15, 13, 21, 21, 21, 21, 21, 14, 21, 19, 18, 21, 22, 18, 20, 18, 19, 8, 17, 15, 21, 19, 15, 15, 16, 17, 18, 15, 10, 22, 19, 22, 20, 22, 17, 16, 20, 16, 14, 19, 15, 12, 21, 17, 19, 19, 19, 18, 20, 14, 19, 18, 17, 21, 17, 20, 22, 16, 19, 21, 15, 17, 18, 6, 13, 22, 11, 19, 19, 21, 17, 15, 18, 17, 22, 21, 21, 20, 19, 22, 20, 20, 7, 17, 20, 19, 21, 21, 20, 19, 15, 22, 17, 22, 20, 20, 21, 20, 19, 21, 21, 19, 22, 21, 15, 17, 16, 14, 18, 18, 22, 15, 20, 22, 18, 19, 20, 22, 22, 19, 22, 14, 19, 20, 18, 12, 20, 17, 20, 13, 18, 18, 21, 21, 21, 12, 22, 18, 14, 14, 19, 19, 21]\""
      ]
     },
     "execution_count": 17,
     "metadata": {},
     "output_type": "execute_result"
    }
   ],
   "source": [
    "# First Quartile of 'loan_to_value' column\n",
    "Q1_ltv = np.percentile(data['loan_to_value'], 25, interpolation='midpoint')\n",
    "# Second Quartile of 'loan_to_value' column\n",
    "Q2_ltv = np.percentile(data['loan_to_value'], 50, interpolation='midpoint')\n",
    "# Third Quartile of 'loan_to_value' column\n",
    "Q3_ltv = np.percentile(data['loan_to_value'], 75, interpolation='midpoint')\n",
    "# (interquartile range) IQR of  'loan_to_value' column\n",
    "IQR_ltv = Q3_ltv-Q1_ltv\n",
    "# lower whisker of 'loan_to_value'  column\n",
    "low_ltv = Q1_ltv-1.5*IQR_ltv \n",
    "# upper whisker of 'loan_to_value' column\n",
    "up_ltv = Q3_ltv+1.5*IQR_ltv\n",
    "\n",
    "# to find the outliers  in 'loan_to_value' column and display it\n",
    "outlier_ltv = [] \n",
    "for x_ltv in data['loan_to_value']:\n",
    "    if((x_ltv>up_ltv) or (x_ltv<low_ltv)):\n",
    "        outlier_ltv.append(x_ltv)\n",
    "f\"Outliers of 'loan_to_value' column = {outlier_ltv}\"\n"
   ]
  },
  {
   "cell_type": "markdown",
   "id": "f7f4d46c",
   "metadata": {},
   "source": [
    "##### Outliers' in 'debt_to_income_ratio' column"
   ]
  },
  {
   "cell_type": "code",
   "execution_count": 18,
   "id": "d112cff8",
   "metadata": {},
   "outputs": [
    {
     "data": {
      "image/png": "[encoded data removed]",
      "text/plain": [
       "<Figure size 640x480 with 1 Axes>"
      ]
     },
     "metadata": {},
     "output_type": "display_data"
    }
   ],
   "source": [
    "# Boxplot of 'debt_to_income_ratio' column to check outliers\n",
    "plt.boxplot(data['debt_to_income_ratio'])\n",
    "\n",
    "# display title\n",
    "plt.title(\"Boxplot of debt_to_income_ratio\")\n",
    "\n",
    "# display figures\n",
    "plt.show()"
   ]
  },
  {
   "cell_type": "code",
   "execution_count": 19,
   "id": "022dee16",
   "metadata": {},
   "outputs": [
    {
     "data": {
      "text/plain": [
       "\"Outliers of 'debt_to_income_ratio' column = [64.0]\""
      ]
     },
     "execution_count": 19,
     "metadata": {},
     "output_type": "execute_result"
    }
   ],
   "source": [
    "# First Quartile of 'debt_to_income_ratio' column\n",
    "Q1_dtic = np.percentile(data['debt_to_income_ratio'], 25, interpolation='midpoint')\n",
    "# Second Quartile of 'debt_to_income_ratio' column\n",
    "Q2_dtic = np.percentile(data['debt_to_income_ratio'], 50, interpolation='midpoint')\n",
    "# Third Quartile of 'debt_to_income_ratio' column\n",
    "Q3_dtic = np.percentile(data['debt_to_income_ratio'], 75, interpolation='midpoint')\n",
    "# (interquartile range) IQR of  'debt_to_income_ratio' column\n",
    "IQR_dtic = Q3_dtic-Q1_dtic\n",
    "# lower whisker of 'debt_to_income_ratio'  column\n",
    "low_dtic = Q1_dtic-1.5*IQR_dtic \n",
    "# upper whisker of 'debt_to_income_ratio' column\n",
    "up_dtic = Q3_dtic+1.5*IQR_dtic\n",
    "\n",
    "# to find the outliers  in 'debt_to_income_ratio' column and display it\n",
    "outlier_dtic = [] \n",
    "for x_dtic in data['debt_to_income_ratio']:\n",
    "    if((x_dtic>up_dtic) or (x_dtic<low_dtic)):\n",
    "        outlier_dtic.append(x_dtic)\n",
    "f\"Outliers of 'debt_to_income_ratio' column = {outlier_dtic}\"\n"
   ]
  },
  {
   "cell_type": "markdown",
   "id": "2e539398",
   "metadata": {},
   "source": [
    "##### Outliers' in 'borrower_credit_score' column"
   ]
  },
  {
   "cell_type": "code",
   "execution_count": 20,
   "id": "bcd74737",
   "metadata": {},
   "outputs": [
    {
     "data": {
      "image/png": "[encoded data removed]",
      "text/plain": [
       "<Figure size 640x480 with 1 Axes>"
      ]
     },
     "metadata": {},
     "output_type": "display_data"
    }
   ],
   "source": [
    "# Boxplot of 'borrower_credit_score' column to check outliers\n",
    "plt.boxplot(data['borrower_credit_score'])\n",
    "\n",
    "# display title\n",
    "plt.title(\"Boxplot of borrower_credit_score\")\n",
    "\n",
    "# display figures\n",
    "plt.show()"
   ]
  },
  {
   "cell_type": "code",
   "execution_count": 21,
   "id": "68ecec22",
   "metadata": {},
   "outputs": [
    {
     "data": {
      "text/plain": [
       "\"Outliers of 'borrower_credit_score' column = [633.0, 675.0, 652.0, 669.0, 640.0, 621.0, 667.0, 669.0, 630.0, 661.0, 650.0, 667.0, 627.0, 648.0, 641.0, 650.0, 626.0, 675.0, 672.0, 654.0, 640.0, 669.0, 669.0, 641.0, 668.0, 672.0, 635.0, 677.0, 665.0, 639.0, 637.0, 674.0, 676.0, 667.0, 650.0, 659.0, 673.0, 643.0, 645.0, 640.0, 666.0, 672.0, 663.0, 657.0, 658.0, 660.0, 637.0, 621.0, 660.0, 663.0, 645.0, 664.0, 646.0, 663.0, 655.0, 643.0, 655.0, 657.0, 669.0, 650.0, 670.0, 658.0, 626.0, 621.0, 629.0, 633.0, 654.0, 624.0, 666.0, 673.0, 672.0, 665.0, 668.0, 669.0, 670.0, 670.0, 638.0, 632.0, 649.0, 649.0, 653.0, 672.0, 644.0, 648.0, 649.0, 660.0, 671.0, 656.0, 650.0, 649.0, 652.0, 660.0, 673.0, 645.0, 634.0, 662.0, 643.0, 662.0, 652.0, 651.0, 660.0, 635.0, 655.0, 674.0, 651.0, 636.0, 664.0, 656.0, 660.0, 643.0, 639.0, 649.0, 661.0, 635.0, 627.0, 661.0, 625.0, 644.0, 635.0, 654.0, 647.0, 656.0, 641.0, 624.0, 669.0, 667.0, 675.0, 641.0, 667.0, 642.0, 659.0, 673.0, 668.0, 661.0, 620.0, 676.0, 669.0, 636.0, 673.0, 672.0, 651.0, 672.0, 631.0, 625.0, 657.0, 641.0, 674.0, 675.0, 668.0, 669.0, 630.0, 627.0, 669.0, 626.0, 677.0, 620.0, 634.0, 643.0, 653.0, 647.0, 657.0, 638.0, 660.0, 634.0, 671.0, 655.0, 677.0, 655.0, 639.0, 661.0, 480.0, 662.0, 663.0, 674.0, 674.0, 0.0, 655.0, 669.0, 675.0, 630.0, 659.0, 674.0, 637.0, 662.0, 663.0, 664.0, 640.0, 674.0, 658.0, 673.0, 670.0, 664.0, 661.0, 640.0, 672.0, 650.0, 672.0, 643.0, 665.0, 676.0, 634.0, 620.0, 670.0, 662.0, 623.0, 668.0, 651.0, 650.0, 659.0, 664.0, 650.0, 666.0, 669.0, 632.0, 662.0, 675.0, 643.0, 671.0, 626.0, 634.0, 661.0, 670.0, 660.0, 654.0, 646.0, 639.0, 650.0, 662.0, 625.0, 668.0, 673.0, 653.0, 675.0, 675.0, 666.0, 654.0, 662.0, 666.0, 677.0, 675.0, 655.0, 664.0, 676.0, 665.0, 668.0, 675.0, 659.0, 663.0, 647.0, 626.0, 642.0, 669.0, 643.0, 663.0, 663.0, 657.0, 663.0, 654.0, 656.0, 668.0, 665.0, 667.0, 653.0, 662.0, 649.0, 659.0, 673.0, 670.0, 672.0, 669.0, 637.0, 671.0, 669.0, 659.0, 645.0, 665.0, 670.0, 662.0, 643.0, 643.0, 658.0, 673.0, 667.0, 641.0, 675.0, 632.0, 658.0, 677.0, 625.0, 671.0, 667.0, 673.0, 663.0, 0.0, 633.0, 663.0, 676.0, 673.0, 671.0, 647.0, 634.0, 654.0, 666.0, 660.0, 653.0, 635.0, 632.0, 640.0, 644.0, 646.0, 641.0, 657.0, 658.0, 647.0, 659.0, 675.0, 622.0, 667.0, 669.0, 661.0, 672.0, 676.0, 646.0, 629.0, 645.0, 665.0, 666.0, 670.0, 640.0, 668.0, 669.0, 650.0, 663.0, 661.0, 674.0, 637.0, 627.0, 639.0, 658.0, 626.0, 621.0, 659.0, 647.0, 671.0, 663.0, 666.0, 658.0, 649.0, 666.0, 663.0, 654.0, 633.0, 666.0, 668.0, 663.0, 670.0, 672.0, 644.0, 670.0, 655.0, 676.0, 638.0, 662.0, 654.0, 650.0, 630.0, 662.0, 630.0, 675.0, 671.0, 668.0, 673.0, 675.0, 654.0, 651.0, 651.0, 671.0, 670.0, 668.0, 666.0, 668.0, 648.0, 653.0, 666.0, 676.0, 671.0, 676.0, 640.0, 627.0, 655.0, 664.0, 673.0, 658.0, 658.0, 662.0, 661.0, 662.0, 666.0, 650.0, 660.0, 669.0, 672.0, 637.0, 673.0, 635.0, 670.0, 648.0, 646.0, 670.0, 670.0, 660.0, 647.0, 666.0, 668.0, 664.0, 673.0, 652.0, 647.0, 655.0, 670.0, 647.0, 651.0, 671.0, 667.0, 650.0, 649.0, 670.0, 628.0, 626.0, 676.0, 677.0, 668.0, 673.0, 675.0, 655.0, 675.0, 665.0, 626.0, 667.0, 666.0, 632.0, 667.0, 650.0, 650.0, 668.0, 675.0, 662.0, 638.0, 628.0, 651.0, 665.0, 654.0, 648.0, 629.0, 626.0, 657.0, 641.0, 677.0, 663.0, 669.0, 667.0, 653.0, 671.0, 622.0, 650.0, 662.0, 666.0, 670.0, 630.0, 629.0, 668.0, 648.0, 624.0, 631.0, 665.0, 0.0, 664.0, 668.0, 672.0, 674.0, 667.0, 676.0, 646.0, 674.0, 671.0, 650.0, 668.0, 676.0, 645.0, 669.0, 672.0, 627.0, 677.0, 633.0, 652.0, 673.0, 653.0, 668.0, 638.0, 664.0, 646.0, 675.0, 666.0, 620.0, 623.0, 676.0, 664.0, 650.0, 637.0, 666.0, 635.0, 621.0, 674.0, 668.0, 673.0, 666.0, 621.0, 676.0, 660.0, 635.0, 653.0, 665.0, 629.0, 661.0, 665.0, 0.0, 664.0, 672.0, 675.0, 675.0, 677.0, 676.0, 662.0, 666.0, 663.0, 675.0, 665.0, 672.0, 670.0, 650.0, 649.0, 675.0, 669.0, 655.0, 673.0, 657.0, 642.0, 670.0, 659.0, 663.0, 671.0, 636.0, 663.0, 622.0, 673.0, 620.0, 671.0, 675.0, 656.0, 676.0, 636.0, 672.0, 674.0, 632.0, 636.0, 623.0, 664.0, 658.0, 672.0, 673.0, 664.0, 656.0, 675.0, 647.0, 666.0, 635.0, 677.0, 637.0, 640.0, 673.0, 649.0, 655.0, 661.0, 652.0, 660.0, 661.0, 658.0, 664.0, 667.0, 642.0, 673.0, 666.0, 675.0, 653.0, 671.0, 658.0, 656.0, 638.0, 654.0, 663.0, 647.0, 641.0, 659.0, 646.0, 657.0, 655.0, 645.0, 677.0, 664.0, 665.0, 652.0, 632.0, 660.0, 0.0, 676.0, 660.0, 656.0, 666.0, 676.0, 677.0, 663.0, 661.0, 643.0, 631.0, 653.0, 677.0, 657.0, 668.0, 654.0, 677.0, 658.0, 641.0, 645.0, 653.0, 676.0, 673.0, 671.0, 670.0, 630.0, 668.0, 659.0, 640.0, 674.0, 667.0, 664.0, 637.0, 666.0, 677.0, 675.0, 638.0, 672.0, 643.0, 673.0, 665.0, 647.0, 669.0, 677.0, 656.0, 651.0, 623.0, 652.0, 647.0, 665.0, 676.0, 653.0, 648.0, 668.0, 651.0, 677.0, 676.0, 673.0, 670.0, 668.0, 622.0, 665.0, 673.0, 671.0, 644.0, 635.0, 628.0, 647.0, 676.0, 653.0, 677.0, 676.0, 0.0, 0.0, 655.0, 641.0, 662.0, 674.0, 669.0, 665.0, 672.0, 671.0, 626.0, 626.0, 641.0, 650.0, 672.0, 666.0, 656.0, 675.0, 674.0, 653.0, 672.0, 665.0, 634.0, 663.0, 672.0, 630.0, 654.0, 643.0, 669.0, 677.0, 659.0, 650.0, 674.0, 661.0, 661.0, 630.0, 646.0, 673.0, 651.0, 658.0, 632.0, 656.0, 657.0, 637.0, 638.0, 636.0, 672.0, 663.0, 660.0, 627.0, 638.0, 637.0, 667.0, 677.0, 664.0, 675.0, 653.0, 662.0, 674.0, 661.0, 675.0, 670.0, 676.0, 639.0, 665.0, 672.0, 656.0, 667.0, 676.0, 663.0, 653.0, 677.0, 640.0, 652.0, 673.0, 630.0, 675.0, 639.0, 670.0, 670.0, 644.0, 670.0, 662.0, 654.0, 652.0, 662.0, 665.0, 677.0, 622.0, 677.0, 677.0, 649.0, 662.0, 676.0, 656.0, 666.0, 658.0, 649.0, 676.0, 661.0, 666.0, 669.0, 670.0, 667.0, 627.0, 670.0, 662.0, 648.0, 665.0, 653.0, 657.0, 676.0, 643.0, 664.0, 666.0, 663.0, 654.0, 676.0, 670.0, 666.0, 662.0, 664.0, 665.0, 664.0, 631.0, 670.0, 632.0, 654.0, 666.0, 657.0, 630.0, 669.0, 657.0, 662.0, 628.0, 647.0, 642.0, 644.0, 653.0, 671.0, 670.0, 661.0, 675.0, 669.0, 670.0, 667.0, 653.0, 645.0, 623.0, 640.0, 653.0, 665.0, 644.0, 671.0, 673.0, 672.0, 665.0, 650.0, 0.0, 666.0, 673.0, 662.0, 635.0, 648.0, 648.0, 674.0, 649.0, 649.0, 666.0, 647.0, 663.0, 648.0, 645.0, 670.0, 646.0, 638.0, 623.0, 655.0, 673.0, 630.0, 666.0, 651.0, 672.0, 653.0, 654.0, 642.0, 624.0, 670.0, 653.0, 649.0, 669.0, 632.0, 671.0, 656.0, 661.0, 661.0, 676.0, 661.0, 646.0, 674.0, 648.0, 667.0, 670.0, 673.0, 669.0, 673.0, 634.0, 634.0, 660.0, 660.0, 663.0, 664.0, 633.0, 646.0, 675.0, 630.0, 660.0, 660.0, 646.0, 649.0, 653.0, 673.0, 663.0, 620.0, 673.0, 676.0, 659.0, 675.0, 663.0, 638.0, 0.0, 654.0, 666.0, 675.0, 677.0, 661.0, 677.0, 663.0, 670.0, 661.0, 672.0, 661.0, 662.0, 662.0, 640.0, 653.0, 674.0, 668.0, 621.0, 673.0, 658.0, 677.0, 674.0, 673.0, 668.0, 659.0, 664.0, 667.0, 654.0, 663.0, 646.0, 635.0, 641.0, 666.0, 648.0, 666.0, 656.0, 675.0, 661.0, 665.0, 663.0, 638.0, 627.0, 658.0, 621.0, 657.0, 633.0, 677.0, 653.0, 667.0, 635.0, 657.0, 658.0, 620.0, 671.0, 646.0, 0.0, 671.0, 669.0, 674.0, 658.0, 655.0, 657.0, 661.0, 664.0, 675.0, 670.0, 632.0, 671.0, 664.0, 638.0, 630.0, 661.0, 631.0, 651.0, 667.0, 650.0, 677.0, 671.0, 660.0, 644.0, 677.0, 673.0, 675.0, 651.0, 654.0, 663.0, 664.0, 669.0, 677.0, 662.0, 648.0, 653.0, 672.0, 673.0, 641.0, 655.0, 654.0, 622.0, 658.0, 643.0, 659.0, 660.0, 676.0, 674.0, 647.0, 666.0, 646.0, 665.0, 657.0, 666.0, 645.0, 659.0, 672.0, 663.0, 658.0, 625.0, 633.0, 631.0, 675.0, 644.0, 629.0, 636.0, 663.0, 670.0, 662.0, 662.0, 675.0, 664.0, 659.0, 644.0, 644.0, 669.0, 624.0, 646.0, 629.0, 662.0, 675.0, 676.0, 675.0, 664.0, 624.0, 631.0, 665.0, 645.0, 663.0, 645.0, 631.0, 673.0, 658.0, 635.0, 651.0, 653.0, 640.0, 674.0, 657.0, 676.0, 647.0, 668.0, 675.0, 641.0, 667.0, 660.0, 630.0, 671.0, 676.0, 663.0, 656.0, 671.0, 665.0, 669.0, 674.0, 676.0, 668.0, 648.0, 640.0, 670.0, 637.0, 651.0, 649.0, 676.0, 667.0, 664.0, 628.0, 675.0, 658.0, 668.0, 654.0, 672.0, 661.0, 664.0, 670.0, 654.0, 664.0, 662.0, 672.0, 662.0, 630.0, 635.0, 675.0, 661.0, 670.0, 638.0, 664.0, 665.0, 664.0, 653.0, 641.0, 666.0, 672.0, 669.0, 672.0, 654.0, 638.0, 675.0, 662.0, 650.0, 667.0, 672.0, 627.0, 669.0, 642.0, 667.0, 677.0, 675.0, 667.0, 655.0, 664.0, 661.0, 672.0, 664.0, 669.0, 631.0, 621.0, 674.0, 622.0, 648.0, 658.0, 649.0, 677.0, 654.0, 674.0, 668.0, 660.0, 665.0, 653.0, 660.0, 661.0, 654.0, 641.0, 641.0, 674.0, 676.0, 673.0, 667.0, 0.0, 655.0, 652.0, 670.0, 641.0, 676.0, 650.0, 636.0, 672.0, 649.0, 677.0, 668.0, 662.0, 661.0, 630.0, 659.0, 670.0, 673.0, 649.0, 661.0, 673.0, 651.0, 645.0, 665.0, 656.0, 673.0, 675.0, 673.0, 672.0, 673.0, 677.0, 634.0, 674.0, 665.0, 645.0, 620.0, 666.0, 652.0, 675.0, 651.0, 677.0, 672.0, 662.0, 637.0, 662.0, 660.0, 636.0, 675.0, 635.0, 651.0, 639.0, 0.0, 662.0, 669.0, 641.0, 670.0, 675.0, 675.0, 640.0, 0.0, 654.0, 675.0, 661.0, 671.0, 641.0, 643.0, 639.0, 660.0, 628.0, 656.0, 677.0, 642.0, 662.0, 663.0, 644.0, 645.0, 673.0, 676.0, 670.0, 649.0, 674.0, 655.0, 672.0, 660.0, 673.0, 666.0, 648.0, 672.0, 672.0, 665.0, 655.0, 644.0, 652.0, 669.0, 674.0, 650.0, 623.0, 642.0, 673.0, 647.0, 665.0, 671.0, 642.0, 657.0, 649.0, 623.0, 672.0, 653.0, 673.0, 645.0, 0.0, 0.0, 673.0, 620.0, 669.0, 646.0, 672.0, 676.0, 625.0, 632.0, 648.0, 635.0, 641.0, 658.0, 658.0, 666.0, 665.0, 655.0, 676.0, 664.0, 669.0, 643.0, 668.0, 672.0, 661.0, 675.0, 661.0, 632.0, 645.0, 674.0, 665.0, 663.0, 620.0, 652.0, 671.0, 652.0, 671.0, 676.0, 625.0, 656.0, 627.0, 666.0, 656.0, 660.0, 659.0, 656.0, 673.0, 660.0, 672.0, 667.0, 675.0, 645.0, 673.0, 677.0, 673.0, 668.0, 628.0, 666.0, 667.0, 673.0, 662.0, 631.0, 649.0, 637.0, 627.0, 660.0, 669.0, 677.0, 654.0, 643.0, 626.0, 630.0, 663.0, 672.0, 676.0, 676.0, 676.0, 661.0, 669.0, 676.0, 670.0, 656.0, 649.0, 628.0, 668.0, 677.0, 655.0, 660.0, 660.0, 650.0, 649.0, 664.0, 667.0, 643.0, 670.0, 664.0, 672.0, 664.0, 655.0, 663.0, 672.0, 655.0, 661.0, 648.0, 648.0, 655.0, 653.0, 632.0, 677.0, 663.0, 641.0, 670.0, 657.0, 626.0, 677.0, 657.0, 654.0, 670.0, 667.0, 670.0, 676.0, 677.0, 666.0, 670.0, 628.0, 662.0, 662.0, 638.0, 646.0, 672.0, 657.0, 675.0, 677.0, 670.0, 654.0, 667.0, 661.0, 638.0, 670.0, 644.0, 648.0, 643.0, 663.0, 668.0, 671.0, 658.0, 660.0, 644.0, 647.0, 674.0, 660.0, 638.0, 665.0, 673.0, 675.0, 654.0, 675.0, 637.0, 641.0, 0.0, 633.0, 661.0, 664.0, 655.0, 664.0, 648.0, 662.0, 677.0, 667.0, 647.0, 652.0, 621.0, 629.0, 665.0, 661.0, 642.0, 653.0, 677.0, 627.0, 630.0, 645.0, 648.0, 647.0, 676.0, 658.0, 645.0, 677.0, 666.0, 665.0, 675.0, 658.0, 642.0, 673.0, 659.0, 0.0, 661.0, 625.0, 670.0, 665.0, 677.0, 677.0, 659.0, 630.0, 670.0, 672.0, 636.0, 676.0, 675.0, 661.0, 676.0, 664.0, 666.0, 644.0, 672.0, 671.0, 643.0, 647.0, 669.0, 626.0, 621.0, 648.0, 634.0, 637.0, 665.0, 671.0, 673.0, 648.0, 663.0, 661.0, 667.0, 636.0, 677.0, 655.0, 647.0, 650.0, 644.0, 658.0, 631.0, 636.0, 653.0, 627.0, 673.0, 642.0, 672.0, 647.0, 675.0, 653.0, 661.0, 672.0, 653.0, 666.0, 0.0, 627.0, 663.0, 672.0, 666.0, 665.0, 677.0, 632.0, 666.0, 666.0, 659.0, 630.0, 633.0, 664.0, 677.0, 0.0, 677.0, 670.0, 674.0, 666.0, 669.0, 659.0, 654.0, 671.0, 625.0, 671.0, 642.0, 640.0, 661.0, 676.0, 674.0, 664.0, 666.0, 672.0, 662.0, 645.0, 673.0, 662.0, 637.0, 673.0, 670.0, 668.0, 621.0, 665.0, 668.0, 658.0, 672.0, 656.0, 631.0, 669.0, 672.0, 660.0, 672.0, 671.0, 653.0, 633.0, 665.0, 626.0, 654.0, 646.0, 670.0, 0.0, 660.0, 664.0, 672.0, 658.0, 641.0, 635.0, 651.0, 647.0, 676.0, 636.0, 651.0, 655.0, 631.0, 675.0, 675.0, 651.0, 630.0, 670.0, 620.0, 668.0, 660.0, 666.0, 634.0, 673.0, 643.0, 671.0, 676.0, 645.0, 667.0, 645.0, 662.0, 637.0, 674.0, 653.0, 673.0, 666.0, 631.0, 644.0, 643.0, 649.0, 676.0, 650.0, 675.0, 668.0, 677.0, 637.0, 673.0, 644.0, 669.0, 676.0, 644.0, 626.0, 663.0, 677.0, 666.0, 627.0, 672.0, 672.0, 632.0, 670.0, 641.0, 645.0, 0.0, 673.0, 641.0, 644.0, 660.0, 670.0, 632.0, 668.0, 672.0, 643.0, 630.0, 643.0, 649.0, 662.0, 637.0, 672.0, 641.0, 670.0, 674.0, 652.0, 677.0, 657.0, 654.0, 0.0, 655.0, 675.0, 642.0, 626.0, 648.0, 640.0, 659.0, 665.0, 669.0, 664.0, 651.0, 656.0, 676.0, 657.0, 657.0, 673.0, 642.0, 676.0, 673.0, 668.0, 668.0, 670.0, 670.0, 674.0, 676.0, 676.0, 668.0, 666.0, 649.0, 663.0, 0.0, 671.0, 667.0, 646.0, 650.0, 677.0, 673.0, 668.0, 665.0, 666.0, 642.0, 672.0, 672.0, 662.0, 668.0, 653.0, 658.0, 655.0, 621.0, 663.0, 655.0, 661.0, 642.0, 659.0, 664.0, 675.0, 658.0, 663.0, 674.0, 655.0, 671.0, 649.0, 657.0, 636.0, 653.0, 646.0, 677.0, 661.0, 674.0, 644.0, 676.0, 655.0, 670.0, 647.0, 671.0, 665.0, 0.0, 653.0, 669.0, 647.0, 668.0, 675.0, 653.0, 626.0, 666.0, 662.0, 661.0, 655.0, 628.0, 655.0, 621.0, 662.0, 672.0, 630.0, 670.0, 651.0, 651.0, 657.0, 665.0, 674.0, 0.0, 663.0, 0.0, 665.0, 674.0, 671.0, 667.0, 0.0, 675.0, 650.0, 655.0, 665.0, 669.0, 668.0, 625.0, 623.0, 643.0, 643.0, 669.0, 671.0, 648.0, 660.0, 653.0, 626.0, 0.0, 669.0, 675.0, 639.0, 658.0, 657.0, 629.0, 670.0, 667.0, 655.0, 644.0, 668.0, 625.0, 661.0, 675.0, 661.0, 671.0, 664.0, 648.0, 666.0, 653.0, 647.0, 673.0, 666.0, 654.0, 671.0, 644.0, 667.0, 651.0, 674.0, 653.0, 643.0, 676.0, 644.0, 677.0, 629.0, 640.0, 665.0, 628.0, 651.0, 669.0, 663.0, 621.0, 673.0, 631.0, 665.0, 665.0, 646.0, 622.0, 664.0, 676.0, 625.0, 652.0, 657.0, 672.0, 666.0, 669.0, 674.0, 625.0, 666.0, 668.0, 633.0, 667.0, 650.0, 674.0, 675.0, 659.0, 664.0, 663.0, 631.0, 649.0, 622.0, 666.0, 670.0, 629.0, 643.0, 670.0, 672.0, 669.0, 666.0, 660.0, 669.0, 656.0, 655.0, 644.0, 666.0, 657.0, 670.0, 620.0, 656.0, 670.0, 655.0, 656.0, 638.0, 0.0, 677.0, 651.0, 673.0, 677.0, 673.0, 673.0, 623.0, 677.0, 668.0, 642.0, 664.0, 664.0, 665.0, 666.0, 672.0, 654.0, 656.0, 677.0, 677.0, 651.0, 631.0, 645.0, 630.0, 641.0, 642.0, 663.0, 650.0, 651.0, 647.0, 674.0, 669.0, 650.0, 630.0, 650.0, 665.0, 0.0, 676.0, 659.0, 633.0, 639.0, 675.0, 625.0, 651.0, 640.0, 667.0, 675.0, 675.0, 660.0, 659.0, 632.0, 650.0, 671.0, 649.0, 0.0, 677.0, 673.0, 642.0, 639.0, 669.0, 666.0, 629.0, 669.0, 658.0, 650.0, 643.0, 661.0, 668.0, 647.0, 641.0, 675.0, 667.0, 671.0, 661.0, 645.0, 654.0, 670.0, 676.0, 631.0, 651.0, 664.0, 673.0, 669.0, 675.0, 660.0, 662.0, 657.0, 648.0, 621.0, 637.0, 644.0, 646.0, 668.0, 674.0, 671.0, 0.0, 639.0, 667.0, 670.0, 666.0, 638.0, 643.0, 627.0, 672.0, 665.0, 646.0, 636.0, 661.0, 663.0, 628.0, 559.0, 640.0, 676.0, 670.0, 642.0, 676.0, 659.0, 663.0, 634.0, 656.0, 623.0, 646.0, 0.0, 677.0, 635.0, 669.0, 631.0, 672.0, 671.0, 675.0, 653.0, 628.0, 638.0, 674.0, 670.0, 622.0, 632.0, 649.0, 663.0, 651.0, 658.0, 675.0, 634.0, 675.0, 623.0, 655.0, 668.0, 669.0, 667.0, 677.0, 644.0, 646.0, 671.0, 671.0, 654.0, 671.0, 654.0, 659.0, 647.0, 670.0, 670.0, 661.0, 632.0, 653.0, 656.0, 660.0, 622.0, 674.0, 658.0, 671.0, 670.0, 661.0, 664.0, 0.0, 659.0, 627.0, 653.0, 629.0, 666.0, 671.0, 665.0, 659.0, 646.0, 673.0, 658.0, 665.0, 677.0, 663.0, 669.0, 671.0, 676.0, 653.0, 667.0, 667.0, 670.0, 670.0, 660.0, 661.0, 659.0, 667.0, 669.0, 625.0, 674.0, 674.0, 655.0, 625.0, 669.0, 647.0, 677.0, 664.0, 662.0, 661.0, 662.0, 676.0, 659.0, 661.0, 661.0, 665.0, 659.0, 0.0, 629.0, 660.0, 666.0, 647.0, 669.0, 641.0, 672.0, 660.0, 672.0, 627.0, 659.0, 677.0, 645.0, 674.0, 638.0, 658.0, 674.0, 646.0, 660.0, 643.0, 641.0, 666.0, 661.0, 641.0, 647.0, 671.0, 633.0, 675.0, 669.0, 673.0, 641.0, 653.0, 629.0, 675.0, 673.0, 642.0, 641.0, 655.0, 638.0, 672.0, 652.0, 677.0, 637.0, 657.0, 665.0, 660.0, 654.0, 675.0, 638.0, 638.0, 670.0, 630.0, 658.0, 621.0, 664.0, 672.0, 665.0, 671.0, 633.0, 672.0, 652.0, 662.0, 660.0, 640.0, 654.0, 655.0, 646.0, 650.0, 672.0, 673.0, 656.0, 677.0, 670.0, 677.0, 668.0, 658.0, 672.0, 662.0, 672.0, 668.0, 661.0, 665.0, 647.0, 667.0, 676.0, 661.0, 670.0, 676.0, 641.0, 670.0, 631.0, 663.0, 654.0, 665.0, 664.0, 673.0, 671.0, 664.0, 644.0, 671.0, 670.0, 676.0, 668.0, 649.0, 676.0, 666.0, 643.0, 676.0, 658.0, 655.0, 673.0, 671.0, 664.0, 640.0, 637.0, 633.0, 655.0, 675.0, 655.0, 660.0, 674.0, 675.0, 669.0, 677.0, 650.0, 655.0, 663.0, 662.0, 662.0, 673.0, 672.0, 660.0, 661.0, 671.0, 659.0, 637.0, 653.0, 619.0, 650.0, 628.0, 638.0, 639.0, 641.0, 622.0, 675.0, 660.0, 641.0, 661.0, 672.0, 659.0, 646.0, 673.0, 673.0, 676.0, 646.0, 672.0, 667.0, 641.0, 645.0, 636.0, 672.0, 675.0, 625.0, 672.0, 657.0, 651.0, 661.0, 660.0, 649.0, 676.0, 664.0, 657.0, 665.0, 673.0, 670.0, 656.0, 627.0, 675.0, 629.0, 674.0, 673.0, 634.0, 666.0, 668.0, 657.0, 641.0, 673.0, 656.0, 667.0, 631.0, 637.0, 654.0, 658.0, 664.0, 677.0, 671.0, 671.0, 632.0, 670.0, 675.0, 663.0, 660.0, 670.0, 0.0, 663.0, 662.0, 625.0, 665.0, 646.0, 671.0, 626.0, 0.0, 651.0, 671.0, 663.0, 648.0, 633.0, 670.0, 649.0, 628.0, 631.0, 629.0, 677.0, 672.0, 661.0, 677.0, 642.0, 658.0, 665.0, 662.0, 675.0, 669.0, 650.0, 671.0, 669.0, 654.0, 640.0, 650.0, 661.0, 673.0, 662.0, 636.0, 675.0, 662.0, 631.0, 668.0, 668.0, 664.0, 659.0, 642.0, 634.0, 658.0, 669.0, 662.0, 649.0, 664.0, 656.0, 666.0, 662.0, 674.0, 668.0, 634.0, 665.0, 624.0, 661.0, 622.0, 667.0, 673.0, 675.0, 650.0, 636.0, 676.0, 667.0, 672.0, 671.0, 629.0, 676.0, 628.0, 646.0, 642.0, 641.0, 641.0, 675.0, 665.0, 665.0, 673.0, 637.0, 674.0, 624.0, 650.0, 667.0, 662.0, 663.0, 675.0, 666.0, 663.0, 676.0, 661.0, 659.0, 667.0, 660.0, 645.0, 670.0, 660.0, 648.0, 663.0, 677.0, 675.0, 663.0, 660.0, 665.0, 670.0, 663.0, 666.0, 626.0, 622.0, 664.0, 654.0, 670.0, 676.0, 648.0, 660.0, 656.0, 620.0, 620.0, 672.0, 656.0, 661.0, 660.0, 664.0, 647.0, 663.0, 670.0, 671.0, 671.0, 667.0, 641.0, 673.0, 634.0, 649.0, 666.0, 647.0, 665.0, 661.0, 673.0, 655.0, 661.0, 662.0, 677.0, 666.0, 665.0, 677.0, 666.0, 640.0, 661.0, 653.0, 637.0, 666.0, 637.0, 656.0, 676.0, 670.0, 676.0, 647.0, 670.0, 621.0, 662.0, 676.0, 674.0, 666.0, 666.0, 670.0, 674.0, 667.0, 662.0, 673.0, 657.0, 676.0, 666.0, 647.0, 637.0, 652.0, 668.0, 622.0, 677.0, 648.0, 677.0, 639.0, 666.0, 642.0, 669.0, 677.0, 668.0, 638.0, 653.0, 650.0, 674.0, 654.0, 644.0, 663.0, 649.0, 639.0, 638.0, 660.0, 675.0, 630.0, 667.0, 669.0, 660.0, 644.0, 659.0, 651.0, 677.0, 640.0, 652.0, 646.0, 668.0, 663.0, 654.0, 676.0, 674.0, 663.0, 644.0, 640.0, 675.0, 660.0, 677.0, 647.0, 659.0, 624.0, 646.0, 650.0, 669.0, 666.0, 652.0, 624.0, 653.0, 673.0, 677.0, 658.0, 663.0, 677.0, 665.0, 669.0, 658.0, 0.0, 675.0, 655.0, 673.0, 646.0, 665.0, 627.0, 660.0, 667.0, 662.0, 637.0, 643.0, 672.0, 666.0, 662.0, 661.0, 637.0, 658.0, 672.0, 626.0, 676.0, 625.0, 667.0, 657.0, 634.0, 655.0, 630.0, 642.0, 647.0, 672.0, 631.0, 647.0, 657.0, 660.0, 652.0, 639.0, 662.0, 671.0, 677.0, 671.0, 673.0, 648.0, 676.0, 661.0, 0.0, 667.0, 650.0, 641.0, 640.0, 656.0, 640.0, 669.0, 632.0, 659.0, 631.0, 649.0, 662.0, 640.0, 674.0, 660.0, 627.0, 620.0, 669.0, 658.0, 629.0, 633.0, 673.0, 632.0, 662.0, 653.0, 672.0, 675.0, 671.0, 666.0, 642.0, 669.0, 666.0, 639.0, 676.0, 652.0, 627.0, 664.0, 667.0, 642.0, 675.0, 642.0, 665.0, 658.0, 670.0, 0.0, 668.0, 677.0, 621.0, 677.0, 669.0, 651.0, 676.0, 642.0, 675.0, 653.0, 663.0, 663.0, 674.0, 631.0, 660.0, 666.0, 657.0, 658.0, 658.0, 673.0, 674.0, 650.0, 628.0, 653.0, 629.0, 0.0, 667.0, 673.0, 677.0, 660.0, 635.0, 649.0, 660.0, 676.0, 667.0, 677.0, 671.0, 654.0, 655.0, 644.0, 660.0, 672.0, 675.0, 638.0, 659.0, 668.0, 634.0, 677.0, 655.0, 665.0, 627.0, 638.0, 672.0, 660.0, 657.0, 676.0, 660.0, 644.0, 664.0, 665.0, 676.0, 631.0, 651.0, 660.0, 629.0, 675.0, 673.0, 641.0, 637.0, 662.0, 669.0, 666.0, 659.0, 671.0, 660.0, 670.0, 674.0, 667.0, 676.0, 640.0, 620.0, 649.0, 655.0, 667.0, 658.0, 668.0, 641.0, 672.0, 633.0, 661.0, 642.0, 667.0, 645.0, 663.0, 624.0, 665.0, 627.0, 676.0, 668.0, 673.0, 660.0, 637.0, 677.0, 661.0, 651.0, 665.0, 664.0, 675.0, 665.0, 671.0, 672.0, 646.0, 640.0, 675.0, 669.0, 662.0, 644.0, 676.0, 652.0, 674.0, 676.0, 664.0, 666.0, 647.0, 667.0, 650.0, 655.0, 675.0, 620.0, 665.0, 671.0, 642.0, 676.0, 644.0, 0.0, 643.0, 675.0, 664.0, 669.0, 640.0, 667.0, 675.0, 667.0, 664.0, 663.0, 670.0, 671.0, 646.0, 658.0, 675.0, 647.0, 654.0, 658.0, 628.0, 654.0, 638.0, 673.0, 648.0, 670.0, 669.0, 650.0, 624.0, 645.0, 660.0, 674.0, 652.0, 644.0, 666.0, 650.0, 670.0, 675.0, 627.0, 643.0, 661.0, 677.0, 649.0, 663.0, 651.0, 658.0, 633.0, 656.0, 665.0, 629.0, 662.0, 653.0, 665.0, 669.0, 658.0, 660.0, 674.0, 673.0, 666.0, 660.0, 655.0, 662.0, 643.0, 647.0, 665.0, 661.0, 665.0, 647.0, 653.0, 672.0, 662.0, 632.0, 644.0, 645.0, 642.0, 664.0, 671.0, 676.0, 672.0, 674.0, 674.0, 668.0, 620.0, 664.0, 634.0, 670.0, 636.0, 663.0, 656.0, 652.0, 647.0, 665.0, 663.0, 669.0, 642.0, 659.0, 653.0, 662.0, 646.0, 676.0, 664.0, 675.0, 676.0, 665.0, 664.0, 672.0, 674.0, 677.0, 672.0, 637.0, 675.0, 664.0, 666.0, 675.0, 632.0, 669.0, 675.0, 669.0, 677.0, 654.0, 640.0, 657.0, 0.0, 647.0, 620.0, 663.0, 655.0, 676.0, 672.0, 630.0, 660.0, 631.0, 675.0, 677.0, 677.0, 673.0, 674.0, 674.0, 660.0, 672.0, 662.0, 633.0, 675.0, 663.0, 672.0, 620.0, 672.0, 668.0, 655.0, 666.0, 650.0, 655.0, 668.0, 667.0, 664.0, 658.0, 658.0, 650.0, 636.0, 661.0, 634.0, 675.0, 651.0, 633.0, 663.0, 652.0, 647.0, 624.0, 635.0, 671.0, 666.0, 637.0, 649.0, 674.0, 648.0, 631.0, 640.0, 676.0, 647.0, 671.0, 655.0, 656.0, 670.0, 653.0, 652.0, 620.0, 622.0, 660.0, 672.0, 676.0, 663.0, 671.0, 654.0, 676.0, 668.0, 624.0, 661.0, 636.0, 643.0, 653.0, 676.0, 662.0, 666.0, 647.0, 661.0, 675.0, 671.0, 673.0, 646.0, 671.0, 667.0, 677.0, 623.0, 644.0, 653.0, 661.0, 651.0, 642.0, 677.0, 664.0, 676.0, 677.0, 631.0, 657.0, 652.0, 661.0, 667.0, 656.0, 675.0, 677.0, 649.0, 661.0, 676.0, 673.0, 652.0, 672.0, 670.0, 661.0, 668.0, 643.0, 672.0, 657.0, 666.0, 649.0, 675.0, 623.0, 674.0, 674.0, 672.0, 657.0, 667.0, 655.0, 651.0, 677.0, 675.0, 632.0, 661.0, 662.0, 668.0, 672.0, 651.0, 675.0, 675.0, 666.0, 671.0, 634.0, 639.0, 662.0, 669.0, 671.0, 654.0, 620.0, 657.0, 672.0, 663.0, 676.0, 666.0, 647.0, 669.0, 661.0, 657.0, 664.0, 650.0, 675.0, 653.0, 662.0, 628.0, 664.0, 635.0, 660.0, 646.0, 649.0, 626.0, 661.0, 675.0, 658.0, 626.0, 663.0, 634.0, 665.0, 646.0, 677.0, 652.0, 663.0, 675.0, 662.0, 674.0, 674.0, 650.0, 674.0, 633.0, 671.0, 668.0, 650.0, 648.0, 674.0, 668.0, 664.0, 676.0, 673.0, 658.0, 657.0, 660.0, 660.0, 643.0, 660.0, 661.0, 642.0, 662.0, 640.0, 654.0, 657.0, 677.0, 673.0, 646.0, 666.0, 641.0, 665.0, 666.0, 676.0, 658.0, 667.0, 673.0, 667.0, 672.0, 647.0, 647.0, 655.0, 629.0, 666.0, 658.0, 659.0, 631.0, 675.0, 661.0, 661.0, 625.0, 655.0, 643.0, 626.0, 665.0, 671.0, 676.0, 665.0, 676.0, 662.0, 659.0, 647.0, 643.0, 663.0, 643.0, 675.0, 644.0, 644.0, 632.0, 640.0, 644.0, 662.0, 640.0, 665.0, 676.0, 638.0, 662.0, 668.0, 661.0, 673.0, 677.0, 659.0, 675.0, 674.0, 671.0, 647.0, 677.0, 632.0, 628.0, 651.0, 636.0, 672.0, 675.0, 0.0, 666.0, 651.0, 660.0, 644.0, 661.0, 660.0, 653.0, 647.0, 657.0, 677.0, 669.0, 676.0, 662.0, 627.0, 641.0, 621.0, 654.0, 625.0, 626.0, 647.0, 627.0, 626.0, 646.0, 634.0, 668.0, 659.0, 672.0, 673.0, 672.0, 654.0, 639.0, 676.0, 666.0, 663.0, 623.0, 667.0, 673.0, 663.0, 676.0, 660.0, 666.0, 675.0, 658.0, 664.0, 664.0, 676.0, 659.0, 635.0, 672.0, 652.0, 0.0, 668.0, 650.0, 658.0, 666.0, 654.0, 622.0, 650.0, 666.0, 673.0, 676.0, 672.0, 667.0, 665.0, 665.0, 660.0, 663.0, 650.0, 641.0, 670.0, 643.0, 622.0, 645.0, 670.0, 656.0, 675.0, 666.0, 658.0, 655.0, 648.0, 623.0, 634.0, 677.0, 673.0, 670.0, 666.0, 664.0, 643.0, 658.0, 638.0, 670.0, 676.0, 665.0, 657.0, 643.0, 654.0, 677.0, 639.0, 664.0, 627.0, 670.0, 645.0, 675.0, 637.0, 641.0, 674.0, 646.0, 666.0, 658.0, 670.0, 677.0, 657.0, 674.0, 668.0, 665.0, 666.0, 669.0, 644.0, 671.0, 655.0, 663.0, 626.0, 671.0, 646.0, 664.0, 677.0, 655.0, 676.0, 642.0, 638.0, 662.0, 674.0, 655.0, 651.0, 675.0, 674.0, 677.0, 642.0, 670.0, 662.0, 643.0, 629.0, 675.0, 675.0, 621.0, 649.0, 670.0, 666.0, 658.0, 641.0, 669.0, 650.0, 0.0, 626.0, 670.0, 655.0, 674.0, 633.0, 675.0, 622.0, 662.0, 668.0, 621.0, 662.0, 632.0, 651.0, 643.0, 642.0, 669.0, 670.0, 674.0, 661.0, 658.0, 671.0, 665.0, 677.0, 675.0, 626.0, 666.0, 671.0, 675.0, 620.0, 646.0, 646.0, 641.0, 665.0, 675.0, 630.0, 664.0, 672.0, 640.0, 663.0, 659.0, 643.0, 667.0, 670.0, 652.0, 624.0, 645.0, 661.0, 627.0, 661.0, 637.0, 668.0, 665.0, 662.0, 670.0, 663.0, 636.0, 676.0, 664.0, 671.0, 671.0, 672.0, 665.0, 674.0, 660.0, 658.0, 659.0, 676.0, 661.0, 669.0, 674.0, 673.0, 669.0, 637.0, 627.0, 636.0, 647.0, 648.0, 669.0, 659.0, 675.0, 675.0, 658.0, 655.0, 647.0, 654.0, 0.0, 659.0, 677.0, 659.0, 670.0, 643.0, 625.0, 671.0, 639.0, 628.0, 624.0, 668.0, 642.0, 674.0, 627.0, 652.0, 647.0, 673.0, 658.0, 666.0, 651.0, 647.0, 667.0, 663.0, 641.0, 641.0, 627.0, 668.0, 651.0, 623.0, 645.0, 676.0, 662.0, 656.0, 660.0, 674.0, 675.0, 671.0, 658.0, 637.0, 662.0, 626.0, 652.0, 662.0, 646.0, 659.0, 674.0, 675.0, 634.0, 665.0, 665.0, 677.0, 667.0, 621.0, 674.0, 676.0, 676.0, 645.0, 653.0, 645.0, 637.0, 677.0, 649.0, 640.0, 632.0, 642.0, 659.0, 665.0, 672.0, 642.0, 664.0, 666.0, 661.0, 669.0, 648.0, 658.0, 638.0, 661.0, 666.0, 674.0, 650.0, 642.0, 643.0, 669.0, 671.0, 649.0, 647.0, 661.0, 672.0, 634.0, 632.0, 626.0, 642.0, 659.0, 666.0, 653.0, 676.0, 669.0, 653.0, 670.0, 666.0, 633.0, 648.0, 638.0, 674.0, 674.0, 671.0, 641.0, 677.0, 673.0, 643.0, 674.0, 673.0, 671.0, 640.0, 654.0, 638.0, 673.0, 668.0, 635.0, 0.0, 621.0, 669.0, 660.0, 675.0, 657.0, 675.0, 670.0, 663.0, 673.0, 659.0, 657.0, 672.0, 645.0, 652.0, 634.0, 647.0, 620.0, 647.0, 622.0, 659.0, 665.0, 655.0, 648.0, 652.0, 646.0, 669.0, 662.0, 674.0, 657.0, 668.0, 654.0, 653.0, 668.0, 675.0, 677.0, 638.0, 662.0, 649.0, 668.0, 652.0, 662.0, 663.0, 669.0, 631.0, 635.0, 665.0, 667.0, 622.0, 650.0, 648.0, 672.0, 649.0, 645.0, 661.0, 664.0, 663.0, 663.0, 623.0, 675.0, 668.0, 671.0, 665.0, 666.0, 654.0, 641.0, 643.0, 642.0, 663.0, 645.0, 656.0, 668.0, 650.0, 667.0, 642.0, 664.0, 633.0, 625.0, 634.0, 666.0, 648.0, 677.0, 654.0, 668.0, 673.0, 641.0, 644.0, 646.0, 625.0, 651.0, 640.0, 621.0, 664.0, 652.0, 659.0, 647.0, 672.0, 624.0, 672.0, 647.0, 677.0, 631.0, 644.0, 672.0, 663.0, 671.0, 672.0, 648.0, 647.0, 652.0, 645.0, 667.0, 664.0, 667.0, 649.0, 655.0, 661.0, 674.0, 667.0, 638.0, 675.0, 662.0, 633.0, 668.0, 658.0, 656.0, 672.0, 649.0, 670.0, 660.0, 676.0, 0.0, 659.0, 640.0, 661.0, 666.0, 655.0, 640.0, 676.0, 661.0, 638.0, 657.0, 667.0, 670.0, 0.0, 660.0, 675.0, 628.0, 641.0, 665.0, 675.0, 661.0, 665.0, 661.0, 646.0, 676.0, 665.0, 0.0, 634.0, 666.0, 668.0, 646.0, 677.0, 654.0, 674.0, 656.0, 659.0, 666.0, 632.0, 625.0, 654.0, 669.0, 638.0, 665.0, 667.0, 644.0, 662.0, 668.0, 664.0, 668.0, 656.0, 677.0, 622.0, 676.0, 631.0, 673.0]\""
      ]
     },
     "execution_count": 21,
     "metadata": {},
     "output_type": "execute_result"
    }
   ],
   "source": [
    "# First Quartile of 'borrower_credit_score' column\n",
    "Q1_bcs = np.percentile(data['borrower_credit_score'], 25, interpolation='midpoint')\n",
    "# Second Quartile of 'borrower_credit_score' column\n",
    "Q2_bcs = np.percentile(data['borrower_credit_score'], 50, interpolation='midpoint')\n",
    "# Third Quartile of 'borrower_credit_score' column\n",
    "Q3_bcs = np.percentile(data['borrower_credit_score'], 75, interpolation='midpoint')\n",
    "# (interquartile range) IQR of  'borrower_credit_score' column\n",
    "IQR_bcs = Q3_bcs-Q1_bcs\n",
    "# lower whisker of 'borrower_credit_score'  column\n",
    "low_bcs = Q1_bcs-1.5*IQR_bcs \n",
    "# upper whisker of 'borrower_credit_score' column\n",
    "up_bcs = Q3_bcs+1.5*IQR_bcs\n",
    "\n",
    "# to find the outliers  in 'borrower_credit_score' column and display it\n",
    "outlier_bcs = [] \n",
    "for x_bcs in data['borrower_credit_score']:\n",
    "    if((x_bcs>up_bcs) or (x_bcs<low_bcs)):\n",
    "        outlier_bcs.append(x_bcs)\n",
    "f\"Outliers of 'borrower_credit_score' column = {outlier_bcs}\"\n"
   ]
  },
  {
   "cell_type": "markdown",
   "id": "c2177cd2",
   "metadata": {},
   "source": [
    "##### Outliers' in 'co-borrower_credit_score' column"
   ]
  },
  {
   "cell_type": "code",
   "execution_count": 22,
   "id": "407bd6eb",
   "metadata": {},
   "outputs": [
    {
     "data": {
      "image/png": "[encoded data removed]",
      "text/plain": [
       "<Figure size 640x480 with 1 Axes>"
      ]
     },
     "metadata": {},
     "output_type": "display_data"
    }
   ],
   "source": [
    "# Boxplot of 'co-borrower_credit_score' column to check outliers\n",
    "plt.boxplot(data['co-borrower_credit_score'])\n",
    "\n",
    "# display title\n",
    "plt.title(\"Boxplot of co-borrower_credit_score\")\n",
    "\n",
    "# display figures\n",
    "plt.show()"
   ]
  },
  {
   "cell_type": "markdown",
   "id": "cbf0d282",
   "metadata": {},
   "source": [
    "~ no outliers present"
   ]
  },
  {
   "cell_type": "markdown",
   "id": "e9805ba0",
   "metadata": {},
   "source": [
    "### CORRELATION"
   ]
  },
  {
   "cell_type": "code",
   "execution_count": 23,
   "id": "86bbeb56",
   "metadata": {
    "scrolled": true
   },
   "outputs": [
    {
     "data": {
      "text/html": [
       "<div>\n",
       "<style scoped>\n",
       "    .dataframe tbody tr th:only-of-type {\n",
       "        vertical-align: middle;\n",
       "    }\n",
       "\n",
       "    .dataframe tbody tr th {\n",
       "        vertical-align: top;\n",
       "    }\n",
       "\n",
       "    .dataframe thead th {\n",
       "        text-align: right;\n",
       "    }\n",
       "</style>\n",
       "<table border=\"1\" class=\"dataframe\">\n",
       "  <thead>\n",
       "    <tr style=\"text-align: right;\">\n",
       "      <th></th>\n",
       "      <th>interest_rate</th>\n",
       "      <th>unpaid_principal_bal</th>\n",
       "      <th>loan_term</th>\n",
       "      <th>loan_to_value</th>\n",
       "      <th>number_of_borrowers</th>\n",
       "      <th>debt_to_income_ratio</th>\n",
       "      <th>borrower_credit_score</th>\n",
       "      <th>insurance_percent</th>\n",
       "      <th>co-borrower_credit_score</th>\n",
       "      <th>insurance_type</th>\n",
       "      <th>...</th>\n",
       "      <th>m4</th>\n",
       "      <th>m5</th>\n",
       "      <th>m6</th>\n",
       "      <th>m7</th>\n",
       "      <th>m8</th>\n",
       "      <th>m9</th>\n",
       "      <th>m10</th>\n",
       "      <th>m11</th>\n",
       "      <th>m12</th>\n",
       "      <th>m13</th>\n",
       "    </tr>\n",
       "  </thead>\n",
       "  <tbody>\n",
       "    <tr>\n",
       "      <th>interest_rate</th>\n",
       "      <td>1.000000</td>\n",
       "      <td>-0.002854</td>\n",
       "      <td>0.720734</td>\n",
       "      <td>0.273379</td>\n",
       "      <td>-0.128075</td>\n",
       "      <td>0.181988</td>\n",
       "      <td>-0.210468</td>\n",
       "      <td>0.143116</td>\n",
       "      <td>-0.138013</td>\n",
       "      <td>0.055883</td>\n",
       "      <td>...</td>\n",
       "      <td>0.030543</td>\n",
       "      <td>0.035726</td>\n",
       "      <td>0.034311</td>\n",
       "      <td>0.032133</td>\n",
       "      <td>0.035393</td>\n",
       "      <td>0.035841</td>\n",
       "      <td>0.037994</td>\n",
       "      <td>0.037051</td>\n",
       "      <td>0.039708</td>\n",
       "      <td>0.054298</td>\n",
       "    </tr>\n",
       "    <tr>\n",
       "      <th>unpaid_principal_bal</th>\n",
       "      <td>-0.002854</td>\n",
       "      <td>1.000000</td>\n",
       "      <td>0.192168</td>\n",
       "      <td>0.062447</td>\n",
       "      <td>0.130565</td>\n",
       "      <td>0.073415</td>\n",
       "      <td>0.052061</td>\n",
       "      <td>0.010926</td>\n",
       "      <td>0.132632</td>\n",
       "      <td>0.015985</td>\n",
       "      <td>...</td>\n",
       "      <td>-0.010344</td>\n",
       "      <td>-0.011461</td>\n",
       "      <td>-0.007814</td>\n",
       "      <td>-0.008912</td>\n",
       "      <td>-0.009228</td>\n",
       "      <td>-0.008983</td>\n",
       "      <td>-0.005866</td>\n",
       "      <td>-0.006412</td>\n",
       "      <td>-0.008254</td>\n",
       "      <td>-0.017120</td>\n",
       "    </tr>\n",
       "    <tr>\n",
       "      <th>loan_term</th>\n",
       "      <td>0.720734</td>\n",
       "      <td>0.192168</td>\n",
       "      <td>1.000000</td>\n",
       "      <td>0.292565</td>\n",
       "      <td>-0.107341</td>\n",
       "      <td>0.137852</td>\n",
       "      <td>-0.072021</td>\n",
       "      <td>0.190762</td>\n",
       "      <td>-0.110268</td>\n",
       "      <td>0.028731</td>\n",
       "      <td>...</td>\n",
       "      <td>0.011688</td>\n",
       "      <td>0.013645</td>\n",
       "      <td>0.011622</td>\n",
       "      <td>0.011406</td>\n",
       "      <td>0.012954</td>\n",
       "      <td>0.014031</td>\n",
       "      <td>0.015510</td>\n",
       "      <td>0.014814</td>\n",
       "      <td>0.015773</td>\n",
       "      <td>0.023502</td>\n",
       "    </tr>\n",
       "    <tr>\n",
       "      <th>loan_to_value</th>\n",
       "      <td>0.273379</td>\n",
       "      <td>0.062447</td>\n",
       "      <td>0.292565</td>\n",
       "      <td>1.000000</td>\n",
       "      <td>-0.100898</td>\n",
       "      <td>0.126993</td>\n",
       "      <td>-0.142574</td>\n",
       "      <td>0.490128</td>\n",
       "      <td>-0.109546</td>\n",
       "      <td>0.075813</td>\n",
       "      <td>...</td>\n",
       "      <td>0.009826</td>\n",
       "      <td>0.006928</td>\n",
       "      <td>0.010560</td>\n",
       "      <td>0.010243</td>\n",
       "      <td>0.009938</td>\n",
       "      <td>0.008775</td>\n",
       "      <td>0.011103</td>\n",
       "      <td>0.010856</td>\n",
       "      <td>0.010811</td>\n",
       "      <td>0.016357</td>\n",
       "    </tr>\n",
       "    <tr>\n",
       "      <th>number_of_borrowers</th>\n",
       "      <td>-0.128075</td>\n",
       "      <td>0.130565</td>\n",
       "      <td>-0.107341</td>\n",
       "      <td>-0.100898</td>\n",
       "      <td>1.000000</td>\n",
       "      <td>-0.134395</td>\n",
       "      <td>0.120120</td>\n",
       "      <td>-0.058976</td>\n",
       "      <td>0.996498</td>\n",
       "      <td>-0.015769</td>\n",
       "      <td>...</td>\n",
       "      <td>-0.023442</td>\n",
       "      <td>-0.024665</td>\n",
       "      <td>-0.022337</td>\n",
       "      <td>-0.023716</td>\n",
       "      <td>-0.027472</td>\n",
       "      <td>-0.028033</td>\n",
       "      <td>-0.025946</td>\n",
       "      <td>-0.027608</td>\n",
       "      <td>-0.029661</td>\n",
       "      <td>-0.039979</td>\n",
       "    </tr>\n",
       "    <tr>\n",
       "      <th>debt_to_income_ratio</th>\n",
       "      <td>0.181988</td>\n",
       "      <td>0.073415</td>\n",
       "      <td>0.137852</td>\n",
       "      <td>0.126993</td>\n",
       "      <td>-0.134395</td>\n",
       "      <td>1.000000</td>\n",
       "      <td>-0.184406</td>\n",
       "      <td>0.066946</td>\n",
       "      <td>-0.145145</td>\n",
       "      <td>0.016558</td>\n",
       "      <td>...</td>\n",
       "      <td>0.015444</td>\n",
       "      <td>0.020784</td>\n",
       "      <td>0.021242</td>\n",
       "      <td>0.021904</td>\n",
       "      <td>0.025402</td>\n",
       "      <td>0.022836</td>\n",
       "      <td>0.024310</td>\n",
       "      <td>0.025467</td>\n",
       "      <td>0.024697</td>\n",
       "      <td>0.038033</td>\n",
       "    </tr>\n",
       "    <tr>\n",
       "      <th>borrower_credit_score</th>\n",
       "      <td>-0.210468</td>\n",
       "      <td>0.052061</td>\n",
       "      <td>-0.072021</td>\n",
       "      <td>-0.142574</td>\n",
       "      <td>0.120120</td>\n",
       "      <td>-0.184406</td>\n",
       "      <td>1.000000</td>\n",
       "      <td>-0.062849</td>\n",
       "      <td>0.153952</td>\n",
       "      <td>-0.004608</td>\n",
       "      <td>...</td>\n",
       "      <td>-0.057269</td>\n",
       "      <td>-0.066448</td>\n",
       "      <td>-0.063116</td>\n",
       "      <td>-0.064656</td>\n",
       "      <td>-0.063057</td>\n",
       "      <td>-0.062565</td>\n",
       "      <td>-0.062256</td>\n",
       "      <td>-0.061407</td>\n",
       "      <td>-0.063148</td>\n",
       "      <td>-0.094215</td>\n",
       "    </tr>\n",
       "    <tr>\n",
       "      <th>insurance_percent</th>\n",
       "      <td>0.143116</td>\n",
       "      <td>0.010926</td>\n",
       "      <td>0.190762</td>\n",
       "      <td>0.490128</td>\n",
       "      <td>-0.058976</td>\n",
       "      <td>0.066946</td>\n",
       "      <td>-0.062849</td>\n",
       "      <td>1.000000</td>\n",
       "      <td>-0.063370</td>\n",
       "      <td>0.145292</td>\n",
       "      <td>...</td>\n",
       "      <td>-0.000735</td>\n",
       "      <td>-0.003598</td>\n",
       "      <td>-0.001315</td>\n",
       "      <td>-0.003097</td>\n",
       "      <td>-0.001997</td>\n",
       "      <td>-0.002225</td>\n",
       "      <td>-0.000652</td>\n",
       "      <td>-0.000102</td>\n",
       "      <td>0.000598</td>\n",
       "      <td>0.005722</td>\n",
       "    </tr>\n",
       "    <tr>\n",
       "      <th>co-borrower_credit_score</th>\n",
       "      <td>-0.138013</td>\n",
       "      <td>0.132632</td>\n",
       "      <td>-0.110268</td>\n",
       "      <td>-0.109546</td>\n",
       "      <td>0.996498</td>\n",
       "      <td>-0.145145</td>\n",
       "      <td>0.153952</td>\n",
       "      <td>-0.063370</td>\n",
       "      <td>1.000000</td>\n",
       "      <td>-0.016058</td>\n",
       "      <td>...</td>\n",
       "      <td>-0.024716</td>\n",
       "      <td>-0.026393</td>\n",
       "      <td>-0.024080</td>\n",
       "      <td>-0.025423</td>\n",
       "      <td>-0.028770</td>\n",
       "      <td>-0.029218</td>\n",
       "      <td>-0.027354</td>\n",
       "      <td>-0.028930</td>\n",
       "      <td>-0.030878</td>\n",
       "      <td>-0.042651</td>\n",
       "    </tr>\n",
       "    <tr>\n",
       "      <th>insurance_type</th>\n",
       "      <td>0.055883</td>\n",
       "      <td>0.015985</td>\n",
       "      <td>0.028731</td>\n",
       "      <td>0.075813</td>\n",
       "      <td>-0.015769</td>\n",
       "      <td>0.016558</td>\n",
       "      <td>-0.004608</td>\n",
       "      <td>0.145292</td>\n",
       "      <td>-0.016058</td>\n",
       "      <td>1.000000</td>\n",
       "      <td>...</td>\n",
       "      <td>0.000428</td>\n",
       "      <td>0.003046</td>\n",
       "      <td>0.002948</td>\n",
       "      <td>-0.002356</td>\n",
       "      <td>0.001572</td>\n",
       "      <td>-0.001210</td>\n",
       "      <td>0.002546</td>\n",
       "      <td>-0.000638</td>\n",
       "      <td>-0.000890</td>\n",
       "      <td>0.005999</td>\n",
       "    </tr>\n",
       "    <tr>\n",
       "      <th>m1</th>\n",
       "      <td>0.017420</td>\n",
       "      <td>0.001343</td>\n",
       "      <td>0.008976</td>\n",
       "      <td>0.002303</td>\n",
       "      <td>-0.019400</td>\n",
       "      <td>0.013175</td>\n",
       "      <td>-0.036522</td>\n",
       "      <td>-0.002918</td>\n",
       "      <td>-0.020441</td>\n",
       "      <td>0.001890</td>\n",
       "      <td>...</td>\n",
       "      <td>0.219213</td>\n",
       "      <td>0.192049</td>\n",
       "      <td>0.156476</td>\n",
       "      <td>0.148796</td>\n",
       "      <td>0.139711</td>\n",
       "      <td>0.143186</td>\n",
       "      <td>0.129697</td>\n",
       "      <td>0.128891</td>\n",
       "      <td>0.110718</td>\n",
       "      <td>0.092054</td>\n",
       "    </tr>\n",
       "    <tr>\n",
       "      <th>m2</th>\n",
       "      <td>0.026092</td>\n",
       "      <td>-0.004001</td>\n",
       "      <td>0.011739</td>\n",
       "      <td>0.008938</td>\n",
       "      <td>-0.020742</td>\n",
       "      <td>0.013743</td>\n",
       "      <td>-0.049725</td>\n",
       "      <td>-0.000433</td>\n",
       "      <td>-0.021989</td>\n",
       "      <td>0.003595</td>\n",
       "      <td>...</td>\n",
       "      <td>0.459826</td>\n",
       "      <td>0.408129</td>\n",
       "      <td>0.354627</td>\n",
       "      <td>0.325504</td>\n",
       "      <td>0.278404</td>\n",
       "      <td>0.270268</td>\n",
       "      <td>0.255760</td>\n",
       "      <td>0.251472</td>\n",
       "      <td>0.225030</td>\n",
       "      <td>0.146921</td>\n",
       "    </tr>\n",
       "    <tr>\n",
       "      <th>m3</th>\n",
       "      <td>0.026727</td>\n",
       "      <td>-0.006026</td>\n",
       "      <td>0.010129</td>\n",
       "      <td>0.007076</td>\n",
       "      <td>-0.018936</td>\n",
       "      <td>0.013324</td>\n",
       "      <td>-0.050835</td>\n",
       "      <td>-0.003246</td>\n",
       "      <td>-0.020095</td>\n",
       "      <td>0.006150</td>\n",
       "      <td>...</td>\n",
       "      <td>0.573943</td>\n",
       "      <td>0.496987</td>\n",
       "      <td>0.447824</td>\n",
       "      <td>0.406566</td>\n",
       "      <td>0.337897</td>\n",
       "      <td>0.323383</td>\n",
       "      <td>0.305280</td>\n",
       "      <td>0.303852</td>\n",
       "      <td>0.281148</td>\n",
       "      <td>0.157394</td>\n",
       "    </tr>\n",
       "    <tr>\n",
       "      <th>m4</th>\n",
       "      <td>0.030543</td>\n",
       "      <td>-0.010344</td>\n",
       "      <td>0.011688</td>\n",
       "      <td>0.009826</td>\n",
       "      <td>-0.023442</td>\n",
       "      <td>0.015444</td>\n",
       "      <td>-0.057269</td>\n",
       "      <td>-0.000735</td>\n",
       "      <td>-0.024716</td>\n",
       "      <td>0.000428</td>\n",
       "      <td>...</td>\n",
       "      <td>1.000000</td>\n",
       "      <td>0.684547</td>\n",
       "      <td>0.587581</td>\n",
       "      <td>0.566954</td>\n",
       "      <td>0.494744</td>\n",
       "      <td>0.474123</td>\n",
       "      <td>0.450428</td>\n",
       "      <td>0.435032</td>\n",
       "      <td>0.400727</td>\n",
       "      <td>0.218956</td>\n",
       "    </tr>\n",
       "    <tr>\n",
       "      <th>m5</th>\n",
       "      <td>0.035726</td>\n",
       "      <td>-0.011461</td>\n",
       "      <td>0.013645</td>\n",
       "      <td>0.006928</td>\n",
       "      <td>-0.024665</td>\n",
       "      <td>0.020784</td>\n",
       "      <td>-0.066448</td>\n",
       "      <td>-0.003598</td>\n",
       "      <td>-0.026393</td>\n",
       "      <td>0.003046</td>\n",
       "      <td>...</td>\n",
       "      <td>0.684547</td>\n",
       "      <td>1.000000</td>\n",
       "      <td>0.667621</td>\n",
       "      <td>0.624085</td>\n",
       "      <td>0.553949</td>\n",
       "      <td>0.550279</td>\n",
       "      <td>0.520029</td>\n",
       "      <td>0.507042</td>\n",
       "      <td>0.471030</td>\n",
       "      <td>0.259529</td>\n",
       "    </tr>\n",
       "    <tr>\n",
       "      <th>m6</th>\n",
       "      <td>0.034311</td>\n",
       "      <td>-0.007814</td>\n",
       "      <td>0.011622</td>\n",
       "      <td>0.010560</td>\n",
       "      <td>-0.022337</td>\n",
       "      <td>0.021242</td>\n",
       "      <td>-0.063116</td>\n",
       "      <td>-0.001315</td>\n",
       "      <td>-0.024080</td>\n",
       "      <td>0.002948</td>\n",
       "      <td>...</td>\n",
       "      <td>0.587581</td>\n",
       "      <td>0.667621</td>\n",
       "      <td>1.000000</td>\n",
       "      <td>0.778205</td>\n",
       "      <td>0.699499</td>\n",
       "      <td>0.675990</td>\n",
       "      <td>0.637420</td>\n",
       "      <td>0.632097</td>\n",
       "      <td>0.585527</td>\n",
       "      <td>0.287712</td>\n",
       "    </tr>\n",
       "    <tr>\n",
       "      <th>m7</th>\n",
       "      <td>0.032133</td>\n",
       "      <td>-0.008912</td>\n",
       "      <td>0.011406</td>\n",
       "      <td>0.010243</td>\n",
       "      <td>-0.023716</td>\n",
       "      <td>0.021904</td>\n",
       "      <td>-0.064656</td>\n",
       "      <td>-0.003097</td>\n",
       "      <td>-0.025423</td>\n",
       "      <td>-0.002356</td>\n",
       "      <td>...</td>\n",
       "      <td>0.566954</td>\n",
       "      <td>0.624085</td>\n",
       "      <td>0.778205</td>\n",
       "      <td>1.000000</td>\n",
       "      <td>0.786592</td>\n",
       "      <td>0.742966</td>\n",
       "      <td>0.705385</td>\n",
       "      <td>0.694015</td>\n",
       "      <td>0.642545</td>\n",
       "      <td>0.309072</td>\n",
       "    </tr>\n",
       "    <tr>\n",
       "      <th>m8</th>\n",
       "      <td>0.035393</td>\n",
       "      <td>-0.009228</td>\n",
       "      <td>0.012954</td>\n",
       "      <td>0.009938</td>\n",
       "      <td>-0.027472</td>\n",
       "      <td>0.025402</td>\n",
       "      <td>-0.063057</td>\n",
       "      <td>-0.001997</td>\n",
       "      <td>-0.028770</td>\n",
       "      <td>0.001572</td>\n",
       "      <td>...</td>\n",
       "      <td>0.494744</td>\n",
       "      <td>0.553949</td>\n",
       "      <td>0.699499</td>\n",
       "      <td>0.786592</td>\n",
       "      <td>1.000000</td>\n",
       "      <td>0.842178</td>\n",
       "      <td>0.787306</td>\n",
       "      <td>0.767348</td>\n",
       "      <td>0.721974</td>\n",
       "      <td>0.339362</td>\n",
       "    </tr>\n",
       "    <tr>\n",
       "      <th>m9</th>\n",
       "      <td>0.035841</td>\n",
       "      <td>-0.008983</td>\n",
       "      <td>0.014031</td>\n",
       "      <td>0.008775</td>\n",
       "      <td>-0.028033</td>\n",
       "      <td>0.022836</td>\n",
       "      <td>-0.062565</td>\n",
       "      <td>-0.002225</td>\n",
       "      <td>-0.029218</td>\n",
       "      <td>-0.001210</td>\n",
       "      <td>...</td>\n",
       "      <td>0.474123</td>\n",
       "      <td>0.550279</td>\n",
       "      <td>0.675990</td>\n",
       "      <td>0.742966</td>\n",
       "      <td>0.842178</td>\n",
       "      <td>1.000000</td>\n",
       "      <td>0.870422</td>\n",
       "      <td>0.839257</td>\n",
       "      <td>0.782674</td>\n",
       "      <td>0.369138</td>\n",
       "    </tr>\n",
       "    <tr>\n",
       "      <th>m10</th>\n",
       "      <td>0.037994</td>\n",
       "      <td>-0.005866</td>\n",
       "      <td>0.015510</td>\n",
       "      <td>0.011103</td>\n",
       "      <td>-0.025946</td>\n",
       "      <td>0.024310</td>\n",
       "      <td>-0.062256</td>\n",
       "      <td>-0.000652</td>\n",
       "      <td>-0.027354</td>\n",
       "      <td>0.002546</td>\n",
       "      <td>...</td>\n",
       "      <td>0.450428</td>\n",
       "      <td>0.520029</td>\n",
       "      <td>0.637420</td>\n",
       "      <td>0.705385</td>\n",
       "      <td>0.787306</td>\n",
       "      <td>0.870422</td>\n",
       "      <td>1.000000</td>\n",
       "      <td>0.879410</td>\n",
       "      <td>0.812710</td>\n",
       "      <td>0.367840</td>\n",
       "    </tr>\n",
       "    <tr>\n",
       "      <th>m11</th>\n",
       "      <td>0.037051</td>\n",
       "      <td>-0.006412</td>\n",
       "      <td>0.014814</td>\n",
       "      <td>0.010856</td>\n",
       "      <td>-0.027608</td>\n",
       "      <td>0.025467</td>\n",
       "      <td>-0.061407</td>\n",
       "      <td>-0.000102</td>\n",
       "      <td>-0.028930</td>\n",
       "      <td>-0.000638</td>\n",
       "      <td>...</td>\n",
       "      <td>0.435032</td>\n",
       "      <td>0.507042</td>\n",
       "      <td>0.632097</td>\n",
       "      <td>0.694015</td>\n",
       "      <td>0.767348</td>\n",
       "      <td>0.839257</td>\n",
       "      <td>0.879410</td>\n",
       "      <td>1.000000</td>\n",
       "      <td>0.878549</td>\n",
       "      <td>0.410213</td>\n",
       "    </tr>\n",
       "    <tr>\n",
       "      <th>m12</th>\n",
       "      <td>0.039708</td>\n",
       "      <td>-0.008254</td>\n",
       "      <td>0.015773</td>\n",
       "      <td>0.010811</td>\n",
       "      <td>-0.029661</td>\n",
       "      <td>0.024697</td>\n",
       "      <td>-0.063148</td>\n",
       "      <td>0.000598</td>\n",
       "      <td>-0.030878</td>\n",
       "      <td>-0.000890</td>\n",
       "      <td>...</td>\n",
       "      <td>0.400727</td>\n",
       "      <td>0.471030</td>\n",
       "      <td>0.585527</td>\n",
       "      <td>0.642545</td>\n",
       "      <td>0.721974</td>\n",
       "      <td>0.782674</td>\n",
       "      <td>0.812710</td>\n",
       "      <td>0.878549</td>\n",
       "      <td>1.000000</td>\n",
       "      <td>0.466442</td>\n",
       "    </tr>\n",
       "    <tr>\n",
       "      <th>m13</th>\n",
       "      <td>0.054298</td>\n",
       "      <td>-0.017120</td>\n",
       "      <td>0.023502</td>\n",
       "      <td>0.016357</td>\n",
       "      <td>-0.039979</td>\n",
       "      <td>0.038033</td>\n",
       "      <td>-0.094215</td>\n",
       "      <td>0.005722</td>\n",
       "      <td>-0.042651</td>\n",
       "      <td>0.005999</td>\n",
       "      <td>...</td>\n",
       "      <td>0.218956</td>\n",
       "      <td>0.259529</td>\n",
       "      <td>0.287712</td>\n",
       "      <td>0.309072</td>\n",
       "      <td>0.339362</td>\n",
       "      <td>0.369138</td>\n",
       "      <td>0.367840</td>\n",
       "      <td>0.410213</td>\n",
       "      <td>0.466442</td>\n",
       "      <td>1.000000</td>\n",
       "    </tr>\n",
       "  </tbody>\n",
       "</table>\n",
       "<p>23 rows × 23 columns</p>\n",
       "</div>"
      ],
      "text/plain": [
       "                          interest_rate  unpaid_principal_bal  loan_term  \\\n",
       "interest_rate                  1.000000             -0.002854   0.720734   \n",
       "unpaid_principal_bal          -0.002854              1.000000   0.192168   \n",
       "loan_term                      0.720734              0.192168   1.000000   \n",
       "loan_to_value                  0.273379              0.062447   0.292565   \n",
       "number_of_borrowers           -0.128075              0.130565  -0.107341   \n",
       "debt_to_income_ratio           0.181988              0.073415   0.137852   \n",
       "borrower_credit_score         -0.210468              0.052061  -0.072021   \n",
       "insurance_percent              0.143116              0.010926   0.190762   \n",
       "co-borrower_credit_score      -0.138013              0.132632  -0.110268   \n",
       "insurance_type                 0.055883              0.015985   0.028731   \n",
       "m1                             0.017420              0.001343   0.008976   \n",
       "m2                             0.026092             -0.004001   0.011739   \n",
       "m3                             0.026727             -0.006026   0.010129   \n",
       "m4                             0.030543             -0.010344   0.011688   \n",
       "m5                             0.035726             -0.011461   0.013645   \n",
       "m6                             0.034311             -0.007814   0.011622   \n",
       "m7                             0.032133             -0.008912   0.011406   \n",
       "m8                             0.035393             -0.009228   0.012954   \n",
       "m9                             0.035841             -0.008983   0.014031   \n",
       "m10                            0.037994             -0.005866   0.015510   \n",
       "m11                            0.037051             -0.006412   0.014814   \n",
       "m12                            0.039708             -0.008254   0.015773   \n",
       "m13                            0.054298             -0.017120   0.023502   \n",
       "\n",
       "                          loan_to_value  number_of_borrowers  \\\n",
       "interest_rate                  0.273379            -0.128075   \n",
       "unpaid_principal_bal           0.062447             0.130565   \n",
       "loan_term                      0.292565            -0.107341   \n",
       "loan_to_value                  1.000000            -0.100898   \n",
       "number_of_borrowers           -0.100898             1.000000   \n",
       "debt_to_income_ratio           0.126993            -0.134395   \n",
       "borrower_credit_score         -0.142574             0.120120   \n",
       "insurance_percent              0.490128            -0.058976   \n",
       "co-borrower_credit_score      -0.109546             0.996498   \n",
       "insurance_type                 0.075813            -0.015769   \n",
       "m1                             0.002303            -0.019400   \n",
       "m2                             0.008938            -0.020742   \n",
       "m3                             0.007076            -0.018936   \n",
       "m4                             0.009826            -0.023442   \n",
       "m5                             0.006928            -0.024665   \n",
       "m6                             0.010560            -0.022337   \n",
       "m7                             0.010243            -0.023716   \n",
       "m8                             0.009938            -0.027472   \n",
       "m9                             0.008775            -0.028033   \n",
       "m10                            0.011103            -0.025946   \n",
       "m11                            0.010856            -0.027608   \n",
       "m12                            0.010811            -0.029661   \n",
       "m13                            0.016357            -0.039979   \n",
       "\n",
       "                          debt_to_income_ratio  borrower_credit_score  \\\n",
       "interest_rate                         0.181988              -0.210468   \n",
       "unpaid_principal_bal                  0.073415               0.052061   \n",
       "loan_term                             0.137852              -0.072021   \n",
       "loan_to_value                         0.126993              -0.142574   \n",
       "number_of_borrowers                  -0.134395               0.120120   \n",
       "debt_to_income_ratio                  1.000000              -0.184406   \n",
       "borrower_credit_score                -0.184406               1.000000   \n",
       "insurance_percent                     0.066946              -0.062849   \n",
       "co-borrower_credit_score             -0.145145               0.153952   \n",
       "insurance_type                        0.016558              -0.004608   \n",
       "m1                                    0.013175              -0.036522   \n",
       "m2                                    0.013743              -0.049725   \n",
       "m3                                    0.013324              -0.050835   \n",
       "m4                                    0.015444              -0.057269   \n",
       "m5                                    0.020784              -0.066448   \n",
       "m6                                    0.021242              -0.063116   \n",
       "m7                                    0.021904              -0.064656   \n",
       "m8                                    0.025402              -0.063057   \n",
       "m9                                    0.022836              -0.062565   \n",
       "m10                                   0.024310              -0.062256   \n",
       "m11                                   0.025467              -0.061407   \n",
       "m12                                   0.024697              -0.063148   \n",
       "m13                                   0.038033              -0.094215   \n",
       "\n",
       "                          insurance_percent  co-borrower_credit_score  \\\n",
       "interest_rate                      0.143116                 -0.138013   \n",
       "unpaid_principal_bal               0.010926                  0.132632   \n",
       "loan_term                          0.190762                 -0.110268   \n",
       "loan_to_value                      0.490128                 -0.109546   \n",
       "number_of_borrowers               -0.058976                  0.996498   \n",
       "debt_to_income_ratio               0.066946                 -0.145145   \n",
       "borrower_credit_score             -0.062849                  0.153952   \n",
       "insurance_percent                  1.000000                 -0.063370   \n",
       "co-borrower_credit_score          -0.063370                  1.000000   \n",
       "insurance_type                     0.145292                 -0.016058   \n",
       "m1                                -0.002918                 -0.020441   \n",
       "m2                                -0.000433                 -0.021989   \n",
       "m3                                -0.003246                 -0.020095   \n",
       "m4                                -0.000735                 -0.024716   \n",
       "m5                                -0.003598                 -0.026393   \n",
       "m6                                -0.001315                 -0.024080   \n",
       "m7                                -0.003097                 -0.025423   \n",
       "m8                                -0.001997                 -0.028770   \n",
       "m9                                -0.002225                 -0.029218   \n",
       "m10                               -0.000652                 -0.027354   \n",
       "m11                               -0.000102                 -0.028930   \n",
       "m12                                0.000598                 -0.030878   \n",
       "m13                                0.005722                 -0.042651   \n",
       "\n",
       "                          insurance_type  ...        m4        m5        m6  \\\n",
       "interest_rate                   0.055883  ...  0.030543  0.035726  0.034311   \n",
       "unpaid_principal_bal            0.015985  ... -0.010344 -0.011461 -0.007814   \n",
       "loan_term                       0.028731  ...  0.011688  0.013645  0.011622   \n",
       "loan_to_value                   0.075813  ...  0.009826  0.006928  0.010560   \n",
       "number_of_borrowers            -0.015769  ... -0.023442 -0.024665 -0.022337   \n",
       "debt_to_income_ratio            0.016558  ...  0.015444  0.020784  0.021242   \n",
       "borrower_credit_score          -0.004608  ... -0.057269 -0.066448 -0.063116   \n",
       "insurance_percent               0.145292  ... -0.000735 -0.003598 -0.001315   \n",
       "co-borrower_credit_score       -0.016058  ... -0.024716 -0.026393 -0.024080   \n",
       "insurance_type                  1.000000  ...  0.000428  0.003046  0.002948   \n",
       "m1                              0.001890  ...  0.219213  0.192049  0.156476   \n",
       "m2                              0.003595  ...  0.459826  0.408129  0.354627   \n",
       "m3                              0.006150  ...  0.573943  0.496987  0.447824   \n",
       "m4                              0.000428  ...  1.000000  0.684547  0.587581   \n",
       "m5                              0.003046  ...  0.684547  1.000000  0.667621   \n",
       "m6                              0.002948  ...  0.587581  0.667621  1.000000   \n",
       "m7                             -0.002356  ...  0.566954  0.624085  0.778205   \n",
       "m8                              0.001572  ...  0.494744  0.553949  0.699499   \n",
       "m9                             -0.001210  ...  0.474123  0.550279  0.675990   \n",
       "m10                             0.002546  ...  0.450428  0.520029  0.637420   \n",
       "m11                            -0.000638  ...  0.435032  0.507042  0.632097   \n",
       "m12                            -0.000890  ...  0.400727  0.471030  0.585527   \n",
       "m13                             0.005999  ...  0.218956  0.259529  0.287712   \n",
       "\n",
       "                                m7        m8        m9       m10       m11  \\\n",
       "interest_rate             0.032133  0.035393  0.035841  0.037994  0.037051   \n",
       "unpaid_principal_bal     -0.008912 -0.009228 -0.008983 -0.005866 -0.006412   \n",
       "loan_term                 0.011406  0.012954  0.014031  0.015510  0.014814   \n",
       "loan_to_value             0.010243  0.009938  0.008775  0.011103  0.010856   \n",
       "number_of_borrowers      -0.023716 -0.027472 -0.028033 -0.025946 -0.027608   \n",
       "debt_to_income_ratio      0.021904  0.025402  0.022836  0.024310  0.025467   \n",
       "borrower_credit_score    -0.064656 -0.063057 -0.062565 -0.062256 -0.061407   \n",
       "insurance_percent        -0.003097 -0.001997 -0.002225 -0.000652 -0.000102   \n",
       "co-borrower_credit_score -0.025423 -0.028770 -0.029218 -0.027354 -0.028930   \n",
       "insurance_type           -0.002356  0.001572 -0.001210  0.002546 -0.000638   \n",
       "m1                        0.148796  0.139711  0.143186  0.129697  0.128891   \n",
       "m2                        0.325504  0.278404  0.270268  0.255760  0.251472   \n",
       "m3                        0.406566  0.337897  0.323383  0.305280  0.303852   \n",
       "m4                        0.566954  0.494744  0.474123  0.450428  0.435032   \n",
       "m5                        0.624085  0.553949  0.550279  0.520029  0.507042   \n",
       "m6                        0.778205  0.699499  0.675990  0.637420  0.632097   \n",
       "m7                        1.000000  0.786592  0.742966  0.705385  0.694015   \n",
       "m8                        0.786592  1.000000  0.842178  0.787306  0.767348   \n",
       "m9                        0.742966  0.842178  1.000000  0.870422  0.839257   \n",
       "m10                       0.705385  0.787306  0.870422  1.000000  0.879410   \n",
       "m11                       0.694015  0.767348  0.839257  0.879410  1.000000   \n",
       "m12                       0.642545  0.721974  0.782674  0.812710  0.878549   \n",
       "m13                       0.309072  0.339362  0.369138  0.367840  0.410213   \n",
       "\n",
       "                               m12       m13  \n",
       "interest_rate             0.039708  0.054298  \n",
       "unpaid_principal_bal     -0.008254 -0.017120  \n",
       "loan_term                 0.015773  0.023502  \n",
       "loan_to_value             0.010811  0.016357  \n",
       "number_of_borrowers      -0.029661 -0.039979  \n",
       "debt_to_income_ratio      0.024697  0.038033  \n",
       "borrower_credit_score    -0.063148 -0.094215  \n",
       "insurance_percent         0.000598  0.005722  \n",
       "co-borrower_credit_score -0.030878 -0.042651  \n",
       "insurance_type           -0.000890  0.005999  \n",
       "m1                        0.110718  0.092054  \n",
       "m2                        0.225030  0.146921  \n",
       "m3                        0.281148  0.157394  \n",
       "m4                        0.400727  0.218956  \n",
       "m5                        0.471030  0.259529  \n",
       "m6                        0.585527  0.287712  \n",
       "m7                        0.642545  0.309072  \n",
       "m8                        0.721974  0.339362  \n",
       "m9                        0.782674  0.369138  \n",
       "m10                       0.812710  0.367840  \n",
       "m11                       0.878549  0.410213  \n",
       "m12                       1.000000  0.466442  \n",
       "m13                       0.466442  1.000000  \n",
       "\n",
       "[23 rows x 23 columns]"
      ]
     },
     "execution_count": 23,
     "metadata": {},
     "output_type": "execute_result"
    }
   ],
   "source": [
    "# creating an instance for correlation\n",
    "corrmatrix = data.corr()\n",
    "\n",
    "# displaying the values of 'corrmatrix'\n",
    "corrmatrix"
   ]
  },
  {
   "cell_type": "markdown",
   "id": "778e4be6",
   "metadata": {},
   "source": [
    "~ 'm13' column is the target and it is having better positive correlation with 'm12' and 'm11' columns "
   ]
  },
  {
   "cell_type": "markdown",
   "id": "7562cc8e",
   "metadata": {},
   "source": [
    "### ENCODING "
   ]
  },
  {
   "cell_type": "code",
   "execution_count": 24,
   "id": "108e4368",
   "metadata": {},
   "outputs": [
    {
     "data": {
      "text/plain": [
       "3"
      ]
     },
     "execution_count": 24,
     "metadata": {},
     "output_type": "execute_result"
    }
   ],
   "source": [
    "# count of unique values in 'origination_date' column\n",
    "data['origination_date'].nunique()"
   ]
  },
  {
   "cell_type": "code",
   "execution_count": 25,
   "id": "fd81c4ae",
   "metadata": {},
   "outputs": [
    {
     "data": {
      "text/plain": [
       "4"
      ]
     },
     "execution_count": 25,
     "metadata": {},
     "output_type": "execute_result"
    }
   ],
   "source": [
    "# count of unique values in 'first_payment_date' column\n",
    "data['first_payment_date'].nunique()"
   ]
  },
  {
   "cell_type": "code",
   "execution_count": 26,
   "id": "f9849f15",
   "metadata": {},
   "outputs": [
    {
     "data": {
      "text/plain": [
       "Index(['source', 'interest_rate', 'unpaid_principal_bal', 'loan_term',\n",
       "       'origination_date', 'first_payment_date', 'loan_to_value',\n",
       "       'number_of_borrowers', 'debt_to_income_ratio', 'borrower_credit_score',\n",
       "       'insurance_percent', 'co-borrower_credit_score', 'insurance_type', 'm1',\n",
       "       'm2', 'm3', 'm4', 'm5', 'm6', 'm7', 'm8', 'm9', 'm10', 'm11', 'm12',\n",
       "       'm13'],\n",
       "      dtype='object')"
      ]
     },
     "execution_count": 26,
     "metadata": {},
     "output_type": "execute_result"
    }
   ],
   "source": [
    "# display column names\n",
    "data.columns"
   ]
  },
  {
   "cell_type": "markdown",
   "id": "36085ab5",
   "metadata": {},
   "source": [
    "~  source , origination_date, first_payment_date  are of object type which can be encoded by one hot encoding"
   ]
  },
  {
   "cell_type": "code",
   "execution_count": 27,
   "id": "df598a59",
   "metadata": {},
   "outputs": [],
   "source": [
    "# creating a dataframe to perform one hot encoding on columns source , origination_date, first_payment_date \n",
    "data_encoding = data .drop(['interest_rate', 'unpaid_principal_bal', 'loan_term', 'loan_to_value',\n",
    "       'number_of_borrowers', 'debt_to_income_ratio', 'borrower_credit_score',\n",
    "       'insurance_percent', 'co-borrower_credit_score', 'insurance_type', 'm1',\n",
    "       'm2', 'm3', 'm4', 'm5', 'm6', 'm7', 'm8', 'm9', 'm10', 'm11', 'm12',\n",
    "       'm13'], axis = 1)"
   ]
  },
  {
   "cell_type": "code",
   "execution_count": 28,
   "id": "31cbe832",
   "metadata": {},
   "outputs": [
    {
     "data": {
      "text/html": [
       "<div>\n",
       "<style scoped>\n",
       "    .dataframe tbody tr th:only-of-type {\n",
       "        vertical-align: middle;\n",
       "    }\n",
       "\n",
       "    .dataframe tbody tr th {\n",
       "        vertical-align: top;\n",
       "    }\n",
       "\n",
       "    .dataframe thead th {\n",
       "        text-align: right;\n",
       "    }\n",
       "</style>\n",
       "<table border=\"1\" class=\"dataframe\">\n",
       "  <thead>\n",
       "    <tr style=\"text-align: right;\">\n",
       "      <th></th>\n",
       "      <th>source</th>\n",
       "      <th>origination_date</th>\n",
       "      <th>first_payment_date</th>\n",
       "    </tr>\n",
       "  </thead>\n",
       "  <tbody>\n",
       "    <tr>\n",
       "      <th>0</th>\n",
       "      <td>Z</td>\n",
       "      <td>2012-03-01</td>\n",
       "      <td>05/2012</td>\n",
       "    </tr>\n",
       "    <tr>\n",
       "      <th>1</th>\n",
       "      <td>Y</td>\n",
       "      <td>2012-01-01</td>\n",
       "      <td>03/2012</td>\n",
       "    </tr>\n",
       "    <tr>\n",
       "      <th>2</th>\n",
       "      <td>Z</td>\n",
       "      <td>2012-01-01</td>\n",
       "      <td>03/2012</td>\n",
       "    </tr>\n",
       "    <tr>\n",
       "      <th>3</th>\n",
       "      <td>X</td>\n",
       "      <td>2012-02-01</td>\n",
       "      <td>04/2012</td>\n",
       "    </tr>\n",
       "    <tr>\n",
       "      <th>4</th>\n",
       "      <td>X</td>\n",
       "      <td>2012-02-01</td>\n",
       "      <td>04/2012</td>\n",
       "    </tr>\n",
       "  </tbody>\n",
       "</table>\n",
       "</div>"
      ],
      "text/plain": [
       "  source origination_date first_payment_date\n",
       "0      Z       2012-03-01            05/2012\n",
       "1      Y       2012-01-01            03/2012\n",
       "2      Z       2012-01-01            03/2012\n",
       "3      X       2012-02-01            04/2012\n",
       "4      X       2012-02-01            04/2012"
      ]
     },
     "execution_count": 28,
     "metadata": {},
     "output_type": "execute_result"
    }
   ],
   "source": [
    "# display the first 5 rows\n",
    "data_encoding.head()"
   ]
  },
  {
   "cell_type": "code",
   "execution_count": 29,
   "id": "1fff5a14",
   "metadata": {},
   "outputs": [
    {
     "data": {
      "text/html": [
       "<div>\n",
       "<style scoped>\n",
       "    .dataframe tbody tr th:only-of-type {\n",
       "        vertical-align: middle;\n",
       "    }\n",
       "\n",
       "    .dataframe tbody tr th {\n",
       "        vertical-align: top;\n",
       "    }\n",
       "\n",
       "    .dataframe thead th {\n",
       "        text-align: right;\n",
       "    }\n",
       "</style>\n",
       "<table border=\"1\" class=\"dataframe\">\n",
       "  <thead>\n",
       "    <tr style=\"text-align: right;\">\n",
       "      <th></th>\n",
       "      <th>source_X</th>\n",
       "      <th>source_Y</th>\n",
       "      <th>source_Z</th>\n",
       "      <th>origination_date_2012-01-01</th>\n",
       "      <th>origination_date_2012-02-01</th>\n",
       "      <th>origination_date_2012-03-01</th>\n",
       "      <th>first_payment_date_02/2012</th>\n",
       "      <th>first_payment_date_03/2012</th>\n",
       "      <th>first_payment_date_04/2012</th>\n",
       "      <th>first_payment_date_05/2012</th>\n",
       "    </tr>\n",
       "  </thead>\n",
       "  <tbody>\n",
       "    <tr>\n",
       "      <th>0</th>\n",
       "      <td>0</td>\n",
       "      <td>0</td>\n",
       "      <td>1</td>\n",
       "      <td>0</td>\n",
       "      <td>0</td>\n",
       "      <td>1</td>\n",
       "      <td>0</td>\n",
       "      <td>0</td>\n",
       "      <td>0</td>\n",
       "      <td>1</td>\n",
       "    </tr>\n",
       "    <tr>\n",
       "      <th>1</th>\n",
       "      <td>0</td>\n",
       "      <td>1</td>\n",
       "      <td>0</td>\n",
       "      <td>1</td>\n",
       "      <td>0</td>\n",
       "      <td>0</td>\n",
       "      <td>0</td>\n",
       "      <td>1</td>\n",
       "      <td>0</td>\n",
       "      <td>0</td>\n",
       "    </tr>\n",
       "    <tr>\n",
       "      <th>2</th>\n",
       "      <td>0</td>\n",
       "      <td>0</td>\n",
       "      <td>1</td>\n",
       "      <td>1</td>\n",
       "      <td>0</td>\n",
       "      <td>0</td>\n",
       "      <td>0</td>\n",
       "      <td>1</td>\n",
       "      <td>0</td>\n",
       "      <td>0</td>\n",
       "    </tr>\n",
       "    <tr>\n",
       "      <th>3</th>\n",
       "      <td>1</td>\n",
       "      <td>0</td>\n",
       "      <td>0</td>\n",
       "      <td>0</td>\n",
       "      <td>1</td>\n",
       "      <td>0</td>\n",
       "      <td>0</td>\n",
       "      <td>0</td>\n",
       "      <td>1</td>\n",
       "      <td>0</td>\n",
       "    </tr>\n",
       "    <tr>\n",
       "      <th>4</th>\n",
       "      <td>1</td>\n",
       "      <td>0</td>\n",
       "      <td>0</td>\n",
       "      <td>0</td>\n",
       "      <td>1</td>\n",
       "      <td>0</td>\n",
       "      <td>0</td>\n",
       "      <td>0</td>\n",
       "      <td>1</td>\n",
       "      <td>0</td>\n",
       "    </tr>\n",
       "    <tr>\n",
       "      <th>...</th>\n",
       "      <td>...</td>\n",
       "      <td>...</td>\n",
       "      <td>...</td>\n",
       "      <td>...</td>\n",
       "      <td>...</td>\n",
       "      <td>...</td>\n",
       "      <td>...</td>\n",
       "      <td>...</td>\n",
       "      <td>...</td>\n",
       "      <td>...</td>\n",
       "    </tr>\n",
       "    <tr>\n",
       "      <th>116053</th>\n",
       "      <td>0</td>\n",
       "      <td>1</td>\n",
       "      <td>0</td>\n",
       "      <td>0</td>\n",
       "      <td>1</td>\n",
       "      <td>0</td>\n",
       "      <td>0</td>\n",
       "      <td>0</td>\n",
       "      <td>1</td>\n",
       "      <td>0</td>\n",
       "    </tr>\n",
       "    <tr>\n",
       "      <th>116054</th>\n",
       "      <td>0</td>\n",
       "      <td>0</td>\n",
       "      <td>1</td>\n",
       "      <td>1</td>\n",
       "      <td>0</td>\n",
       "      <td>0</td>\n",
       "      <td>0</td>\n",
       "      <td>1</td>\n",
       "      <td>0</td>\n",
       "      <td>0</td>\n",
       "    </tr>\n",
       "    <tr>\n",
       "      <th>116055</th>\n",
       "      <td>1</td>\n",
       "      <td>0</td>\n",
       "      <td>0</td>\n",
       "      <td>0</td>\n",
       "      <td>1</td>\n",
       "      <td>0</td>\n",
       "      <td>0</td>\n",
       "      <td>0</td>\n",
       "      <td>1</td>\n",
       "      <td>0</td>\n",
       "    </tr>\n",
       "    <tr>\n",
       "      <th>116056</th>\n",
       "      <td>1</td>\n",
       "      <td>0</td>\n",
       "      <td>0</td>\n",
       "      <td>0</td>\n",
       "      <td>1</td>\n",
       "      <td>0</td>\n",
       "      <td>0</td>\n",
       "      <td>0</td>\n",
       "      <td>1</td>\n",
       "      <td>0</td>\n",
       "    </tr>\n",
       "    <tr>\n",
       "      <th>116057</th>\n",
       "      <td>0</td>\n",
       "      <td>0</td>\n",
       "      <td>1</td>\n",
       "      <td>1</td>\n",
       "      <td>0</td>\n",
       "      <td>0</td>\n",
       "      <td>0</td>\n",
       "      <td>1</td>\n",
       "      <td>0</td>\n",
       "      <td>0</td>\n",
       "    </tr>\n",
       "  </tbody>\n",
       "</table>\n",
       "<p>116058 rows × 10 columns</p>\n",
       "</div>"
      ],
      "text/plain": [
       "        source_X  source_Y  source_Z  origination_date_2012-01-01  \\\n",
       "0              0         0         1                            0   \n",
       "1              0         1         0                            1   \n",
       "2              0         0         1                            1   \n",
       "3              1         0         0                            0   \n",
       "4              1         0         0                            0   \n",
       "...          ...       ...       ...                          ...   \n",
       "116053         0         1         0                            0   \n",
       "116054         0         0         1                            1   \n",
       "116055         1         0         0                            0   \n",
       "116056         1         0         0                            0   \n",
       "116057         0         0         1                            1   \n",
       "\n",
       "        origination_date_2012-02-01  origination_date_2012-03-01  \\\n",
       "0                                 0                            1   \n",
       "1                                 0                            0   \n",
       "2                                 0                            0   \n",
       "3                                 1                            0   \n",
       "4                                 1                            0   \n",
       "...                             ...                          ...   \n",
       "116053                            1                            0   \n",
       "116054                            0                            0   \n",
       "116055                            1                            0   \n",
       "116056                            1                            0   \n",
       "116057                            0                            0   \n",
       "\n",
       "        first_payment_date_02/2012  first_payment_date_03/2012  \\\n",
       "0                                0                           0   \n",
       "1                                0                           1   \n",
       "2                                0                           1   \n",
       "3                                0                           0   \n",
       "4                                0                           0   \n",
       "...                            ...                         ...   \n",
       "116053                           0                           0   \n",
       "116054                           0                           1   \n",
       "116055                           0                           0   \n",
       "116056                           0                           0   \n",
       "116057                           0                           1   \n",
       "\n",
       "        first_payment_date_04/2012  first_payment_date_05/2012  \n",
       "0                                0                           1  \n",
       "1                                0                           0  \n",
       "2                                0                           0  \n",
       "3                                1                           0  \n",
       "4                                1                           0  \n",
       "...                            ...                         ...  \n",
       "116053                           1                           0  \n",
       "116054                           0                           0  \n",
       "116055                           1                           0  \n",
       "116056                           1                           0  \n",
       "116057                           0                           0  \n",
       "\n",
       "[116058 rows x 10 columns]"
      ]
     },
     "execution_count": 29,
     "metadata": {},
     "output_type": "execute_result"
    }
   ],
   "source": [
    "# performing one hot encoding and displaying it\n",
    "data_encoding1 = pd.get_dummies(data_encoding) \n",
    "data_encoding1"
   ]
  },
  {
   "cell_type": "markdown",
   "id": "20ee7bd6",
   "metadata": {},
   "source": [
    "~'insurance_type' is already an encoded column"
   ]
  },
  {
   "cell_type": "markdown",
   "id": "1557b7d9",
   "metadata": {},
   "source": [
    "### SCALING"
   ]
  },
  {
   "cell_type": "code",
   "execution_count": 30,
   "id": "b07aca75",
   "metadata": {},
   "outputs": [
    {
     "data": {
      "text/plain": [
       "140"
      ]
     },
     "execution_count": 30,
     "metadata": {},
     "output_type": "execute_result"
    }
   ],
   "source": [
    "# count of unique values in 'loan_term'\n",
    "data['loan_term'].nunique()"
   ]
  },
  {
   "cell_type": "code",
   "execution_count": 31,
   "id": "c140ccf7",
   "metadata": {},
   "outputs": [
    {
     "data": {
      "text/plain": [
       "2"
      ]
     },
     "execution_count": 31,
     "metadata": {},
     "output_type": "execute_result"
    }
   ],
   "source": [
    "# # count of unique values in 'insurance_type'\n",
    "data['insurance_type'].nunique()"
   ]
  },
  {
   "cell_type": "markdown",
   "id": "6a39fdb5",
   "metadata": {},
   "source": [
    "~'insurance_type' is an encoded column hence dropping it"
   ]
  },
  {
   "cell_type": "code",
   "execution_count": 32,
   "id": "a54cb109",
   "metadata": {},
   "outputs": [
    {
     "data": {
      "text/html": [
       "<div>\n",
       "<style scoped>\n",
       "    .dataframe tbody tr th:only-of-type {\n",
       "        vertical-align: middle;\n",
       "    }\n",
       "\n",
       "    .dataframe tbody tr th {\n",
       "        vertical-align: top;\n",
       "    }\n",
       "\n",
       "    .dataframe thead th {\n",
       "        text-align: right;\n",
       "    }\n",
       "</style>\n",
       "<table border=\"1\" class=\"dataframe\">\n",
       "  <thead>\n",
       "    <tr style=\"text-align: right;\">\n",
       "      <th></th>\n",
       "      <th>interest_rate</th>\n",
       "      <th>unpaid_principal_bal</th>\n",
       "      <th>loan_term</th>\n",
       "      <th>loan_to_value</th>\n",
       "      <th>number_of_borrowers</th>\n",
       "      <th>debt_to_income_ratio</th>\n",
       "      <th>borrower_credit_score</th>\n",
       "      <th>insurance_percent</th>\n",
       "      <th>co-borrower_credit_score</th>\n",
       "      <th>m1</th>\n",
       "      <th>...</th>\n",
       "      <th>m3</th>\n",
       "      <th>m4</th>\n",
       "      <th>m5</th>\n",
       "      <th>m6</th>\n",
       "      <th>m7</th>\n",
       "      <th>m8</th>\n",
       "      <th>m9</th>\n",
       "      <th>m10</th>\n",
       "      <th>m11</th>\n",
       "      <th>m12</th>\n",
       "    </tr>\n",
       "  </thead>\n",
       "  <tbody>\n",
       "    <tr>\n",
       "      <th>0</th>\n",
       "      <td>4.250</td>\n",
       "      <td>214000</td>\n",
       "      <td>360</td>\n",
       "      <td>95</td>\n",
       "      <td>1.0</td>\n",
       "      <td>22.0</td>\n",
       "      <td>694.0</td>\n",
       "      <td>30.0</td>\n",
       "      <td>0.0</td>\n",
       "      <td>0</td>\n",
       "      <td>...</td>\n",
       "      <td>0</td>\n",
       "      <td>0</td>\n",
       "      <td>0</td>\n",
       "      <td>0</td>\n",
       "      <td>1</td>\n",
       "      <td>0</td>\n",
       "      <td>0</td>\n",
       "      <td>0</td>\n",
       "      <td>0</td>\n",
       "      <td>0</td>\n",
       "    </tr>\n",
       "    <tr>\n",
       "      <th>1</th>\n",
       "      <td>4.875</td>\n",
       "      <td>144000</td>\n",
       "      <td>360</td>\n",
       "      <td>72</td>\n",
       "      <td>1.0</td>\n",
       "      <td>44.0</td>\n",
       "      <td>697.0</td>\n",
       "      <td>0.0</td>\n",
       "      <td>0.0</td>\n",
       "      <td>0</td>\n",
       "      <td>...</td>\n",
       "      <td>0</td>\n",
       "      <td>0</td>\n",
       "      <td>0</td>\n",
       "      <td>0</td>\n",
       "      <td>0</td>\n",
       "      <td>0</td>\n",
       "      <td>0</td>\n",
       "      <td>0</td>\n",
       "      <td>1</td>\n",
       "      <td>0</td>\n",
       "    </tr>\n",
       "    <tr>\n",
       "      <th>2</th>\n",
       "      <td>3.250</td>\n",
       "      <td>366000</td>\n",
       "      <td>180</td>\n",
       "      <td>49</td>\n",
       "      <td>1.0</td>\n",
       "      <td>33.0</td>\n",
       "      <td>780.0</td>\n",
       "      <td>0.0</td>\n",
       "      <td>0.0</td>\n",
       "      <td>0</td>\n",
       "      <td>...</td>\n",
       "      <td>0</td>\n",
       "      <td>0</td>\n",
       "      <td>0</td>\n",
       "      <td>0</td>\n",
       "      <td>0</td>\n",
       "      <td>0</td>\n",
       "      <td>0</td>\n",
       "      <td>0</td>\n",
       "      <td>0</td>\n",
       "      <td>0</td>\n",
       "    </tr>\n",
       "    <tr>\n",
       "      <th>3</th>\n",
       "      <td>4.750</td>\n",
       "      <td>135000</td>\n",
       "      <td>360</td>\n",
       "      <td>46</td>\n",
       "      <td>2.0</td>\n",
       "      <td>44.0</td>\n",
       "      <td>633.0</td>\n",
       "      <td>0.0</td>\n",
       "      <td>638.0</td>\n",
       "      <td>0</td>\n",
       "      <td>...</td>\n",
       "      <td>0</td>\n",
       "      <td>0</td>\n",
       "      <td>0</td>\n",
       "      <td>0</td>\n",
       "      <td>0</td>\n",
       "      <td>0</td>\n",
       "      <td>1</td>\n",
       "      <td>1</td>\n",
       "      <td>1</td>\n",
       "      <td>1</td>\n",
       "    </tr>\n",
       "    <tr>\n",
       "      <th>4</th>\n",
       "      <td>4.750</td>\n",
       "      <td>124000</td>\n",
       "      <td>360</td>\n",
       "      <td>80</td>\n",
       "      <td>1.0</td>\n",
       "      <td>43.0</td>\n",
       "      <td>681.0</td>\n",
       "      <td>0.0</td>\n",
       "      <td>0.0</td>\n",
       "      <td>0</td>\n",
       "      <td>...</td>\n",
       "      <td>2</td>\n",
       "      <td>3</td>\n",
       "      <td>4</td>\n",
       "      <td>5</td>\n",
       "      <td>6</td>\n",
       "      <td>7</td>\n",
       "      <td>8</td>\n",
       "      <td>9</td>\n",
       "      <td>10</td>\n",
       "      <td>11</td>\n",
       "    </tr>\n",
       "  </tbody>\n",
       "</table>\n",
       "<p>5 rows × 21 columns</p>\n",
       "</div>"
      ],
      "text/plain": [
       "   interest_rate  unpaid_principal_bal  loan_term  loan_to_value  \\\n",
       "0          4.250                214000        360             95   \n",
       "1          4.875                144000        360             72   \n",
       "2          3.250                366000        180             49   \n",
       "3          4.750                135000        360             46   \n",
       "4          4.750                124000        360             80   \n",
       "\n",
       "   number_of_borrowers  debt_to_income_ratio  borrower_credit_score  \\\n",
       "0                  1.0                  22.0                  694.0   \n",
       "1                  1.0                  44.0                  697.0   \n",
       "2                  1.0                  33.0                  780.0   \n",
       "3                  2.0                  44.0                  633.0   \n",
       "4                  1.0                  43.0                  681.0   \n",
       "\n",
       "   insurance_percent  co-borrower_credit_score  m1  ...  m3  m4  m5  m6  m7  \\\n",
       "0               30.0                       0.0   0  ...   0   0   0   0   1   \n",
       "1                0.0                       0.0   0  ...   0   0   0   0   0   \n",
       "2                0.0                       0.0   0  ...   0   0   0   0   0   \n",
       "3                0.0                     638.0   0  ...   0   0   0   0   0   \n",
       "4                0.0                       0.0   0  ...   2   3   4   5   6   \n",
       "\n",
       "   m8  m9  m10  m11  m12  \n",
       "0   0   0    0    0    0  \n",
       "1   0   0    0    1    0  \n",
       "2   0   0    0    0    0  \n",
       "3   0   1    1    1    1  \n",
       "4   7   8    9   10   11  \n",
       "\n",
       "[5 rows x 21 columns]"
      ]
     },
     "execution_count": 32,
     "metadata": {},
     "output_type": "execute_result"
    }
   ],
   "source": [
    "# preparing the dataframe to perform min max scaling and dropping the object columns, \n",
    "# 'insurance_type' column and 'm13' column which is the target\n",
    "S = data.drop(['source', 'origination_date', 'first_payment_date', 'm13', 'insurance_type'], axis = 1) \n",
    "\n",
    "# display first 5 values under the dataframe S\n",
    "S.head()"
   ]
  },
  {
   "cell_type": "code",
   "execution_count": 33,
   "id": "78035819",
   "metadata": {},
   "outputs": [
    {
     "data": {
      "text/html": [
       "<div>\n",
       "<style scoped>\n",
       "    .dataframe tbody tr th:only-of-type {\n",
       "        vertical-align: middle;\n",
       "    }\n",
       "\n",
       "    .dataframe tbody tr th {\n",
       "        vertical-align: top;\n",
       "    }\n",
       "\n",
       "    .dataframe thead th {\n",
       "        text-align: right;\n",
       "    }\n",
       "</style>\n",
       "<table border=\"1\" class=\"dataframe\">\n",
       "  <thead>\n",
       "    <tr style=\"text-align: right;\">\n",
       "      <th></th>\n",
       "      <th>interest_rate</th>\n",
       "      <th>unpaid_principal_bal</th>\n",
       "      <th>loan_term</th>\n",
       "      <th>loan_to_value</th>\n",
       "      <th>number_of_borrowers</th>\n",
       "      <th>debt_to_income_ratio</th>\n",
       "      <th>borrower_credit_score</th>\n",
       "      <th>insurance_percent</th>\n",
       "      <th>co-borrower_credit_score</th>\n",
       "      <th>m1</th>\n",
       "      <th>...</th>\n",
       "      <th>m3</th>\n",
       "      <th>m4</th>\n",
       "      <th>m5</th>\n",
       "      <th>m6</th>\n",
       "      <th>m7</th>\n",
       "      <th>m8</th>\n",
       "      <th>m9</th>\n",
       "      <th>m10</th>\n",
       "      <th>m11</th>\n",
       "      <th>m12</th>\n",
       "    </tr>\n",
       "  </thead>\n",
       "  <tbody>\n",
       "    <tr>\n",
       "      <th>count</th>\n",
       "      <td>116058.000000</td>\n",
       "      <td>1.160580e+05</td>\n",
       "      <td>116058.000000</td>\n",
       "      <td>116058.000000</td>\n",
       "      <td>116058.000000</td>\n",
       "      <td>116058.000000</td>\n",
       "      <td>116058.000000</td>\n",
       "      <td>116058.000000</td>\n",
       "      <td>116058.000000</td>\n",
       "      <td>116058.000000</td>\n",
       "      <td>...</td>\n",
       "      <td>116058.000000</td>\n",
       "      <td>116058.000000</td>\n",
       "      <td>116058.000000</td>\n",
       "      <td>116058.000000</td>\n",
       "      <td>116058.000000</td>\n",
       "      <td>116058.000000</td>\n",
       "      <td>116058.000000</td>\n",
       "      <td>116058.000000</td>\n",
       "      <td>116058.000000</td>\n",
       "      <td>116058.000000</td>\n",
       "    </tr>\n",
       "    <tr>\n",
       "      <th>mean</th>\n",
       "      <td>3.868961</td>\n",
       "      <td>2.082262e+05</td>\n",
       "      <td>292.280997</td>\n",
       "      <td>67.431939</td>\n",
       "      <td>1.593186</td>\n",
       "      <td>30.742293</td>\n",
       "      <td>769.926778</td>\n",
       "      <td>2.786288</td>\n",
       "      <td>459.611565</td>\n",
       "      <td>0.003197</td>\n",
       "      <td>...</td>\n",
       "      <td>0.001973</td>\n",
       "      <td>0.002180</td>\n",
       "      <td>0.003533</td>\n",
       "      <td>0.003421</td>\n",
       "      <td>0.004162</td>\n",
       "      <td>0.004825</td>\n",
       "      <td>0.005359</td>\n",
       "      <td>0.006617</td>\n",
       "      <td>0.007109</td>\n",
       "      <td>0.008065</td>\n",
       "    </tr>\n",
       "    <tr>\n",
       "      <th>std</th>\n",
       "      <td>0.461020</td>\n",
       "      <td>1.146851e+05</td>\n",
       "      <td>89.762415</td>\n",
       "      <td>17.291719</td>\n",
       "      <td>0.491242</td>\n",
       "      <td>9.730798</td>\n",
       "      <td>42.210706</td>\n",
       "      <td>8.096464</td>\n",
       "      <td>381.946926</td>\n",
       "      <td>0.063354</td>\n",
       "      <td>...</td>\n",
       "      <td>0.055427</td>\n",
       "      <td>0.062161</td>\n",
       "      <td>0.082638</td>\n",
       "      <td>0.087553</td>\n",
       "      <td>0.100961</td>\n",
       "      <td>0.113128</td>\n",
       "      <td>0.128242</td>\n",
       "      <td>0.148430</td>\n",
       "      <td>0.162884</td>\n",
       "      <td>0.178128</td>\n",
       "    </tr>\n",
       "    <tr>\n",
       "      <th>min</th>\n",
       "      <td>2.250000</td>\n",
       "      <td>1.100000e+04</td>\n",
       "      <td>60.000000</td>\n",
       "      <td>6.000000</td>\n",
       "      <td>1.000000</td>\n",
       "      <td>1.000000</td>\n",
       "      <td>0.000000</td>\n",
       "      <td>0.000000</td>\n",
       "      <td>0.000000</td>\n",
       "      <td>0.000000</td>\n",
       "      <td>...</td>\n",
       "      <td>0.000000</td>\n",
       "      <td>0.000000</td>\n",
       "      <td>0.000000</td>\n",
       "      <td>0.000000</td>\n",
       "      <td>0.000000</td>\n",
       "      <td>0.000000</td>\n",
       "      <td>0.000000</td>\n",
       "      <td>0.000000</td>\n",
       "      <td>0.000000</td>\n",
       "      <td>0.000000</td>\n",
       "    </tr>\n",
       "    <tr>\n",
       "      <th>25%</th>\n",
       "      <td>3.500000</td>\n",
       "      <td>1.200000e+05</td>\n",
       "      <td>180.000000</td>\n",
       "      <td>57.000000</td>\n",
       "      <td>1.000000</td>\n",
       "      <td>23.000000</td>\n",
       "      <td>751.000000</td>\n",
       "      <td>0.000000</td>\n",
       "      <td>0.000000</td>\n",
       "      <td>0.000000</td>\n",
       "      <td>...</td>\n",
       "      <td>0.000000</td>\n",
       "      <td>0.000000</td>\n",
       "      <td>0.000000</td>\n",
       "      <td>0.000000</td>\n",
       "      <td>0.000000</td>\n",
       "      <td>0.000000</td>\n",
       "      <td>0.000000</td>\n",
       "      <td>0.000000</td>\n",
       "      <td>0.000000</td>\n",
       "      <td>0.000000</td>\n",
       "    </tr>\n",
       "    <tr>\n",
       "      <th>50%</th>\n",
       "      <td>3.875000</td>\n",
       "      <td>1.830000e+05</td>\n",
       "      <td>360.000000</td>\n",
       "      <td>72.000000</td>\n",
       "      <td>2.000000</td>\n",
       "      <td>31.000000</td>\n",
       "      <td>782.000000</td>\n",
       "      <td>0.000000</td>\n",
       "      <td>740.000000</td>\n",
       "      <td>0.000000</td>\n",
       "      <td>...</td>\n",
       "      <td>0.000000</td>\n",
       "      <td>0.000000</td>\n",
       "      <td>0.000000</td>\n",
       "      <td>0.000000</td>\n",
       "      <td>0.000000</td>\n",
       "      <td>0.000000</td>\n",
       "      <td>0.000000</td>\n",
       "      <td>0.000000</td>\n",
       "      <td>0.000000</td>\n",
       "      <td>0.000000</td>\n",
       "    </tr>\n",
       "    <tr>\n",
       "      <th>75%</th>\n",
       "      <td>4.125000</td>\n",
       "      <td>2.780000e+05</td>\n",
       "      <td>360.000000</td>\n",
       "      <td>80.000000</td>\n",
       "      <td>2.000000</td>\n",
       "      <td>39.000000</td>\n",
       "      <td>800.000000</td>\n",
       "      <td>0.000000</td>\n",
       "      <td>791.000000</td>\n",
       "      <td>0.000000</td>\n",
       "      <td>...</td>\n",
       "      <td>0.000000</td>\n",
       "      <td>0.000000</td>\n",
       "      <td>0.000000</td>\n",
       "      <td>0.000000</td>\n",
       "      <td>0.000000</td>\n",
       "      <td>0.000000</td>\n",
       "      <td>0.000000</td>\n",
       "      <td>0.000000</td>\n",
       "      <td>0.000000</td>\n",
       "      <td>0.000000</td>\n",
       "    </tr>\n",
       "    <tr>\n",
       "      <th>max</th>\n",
       "      <td>6.750000</td>\n",
       "      <td>1.200000e+06</td>\n",
       "      <td>360.000000</td>\n",
       "      <td>97.000000</td>\n",
       "      <td>2.000000</td>\n",
       "      <td>64.000000</td>\n",
       "      <td>840.000000</td>\n",
       "      <td>40.000000</td>\n",
       "      <td>836.000000</td>\n",
       "      <td>3.000000</td>\n",
       "      <td>...</td>\n",
       "      <td>5.000000</td>\n",
       "      <td>6.000000</td>\n",
       "      <td>7.000000</td>\n",
       "      <td>8.000000</td>\n",
       "      <td>9.000000</td>\n",
       "      <td>10.000000</td>\n",
       "      <td>11.000000</td>\n",
       "      <td>12.000000</td>\n",
       "      <td>13.000000</td>\n",
       "      <td>14.000000</td>\n",
       "    </tr>\n",
       "  </tbody>\n",
       "</table>\n",
       "<p>8 rows × 21 columns</p>\n",
       "</div>"
      ],
      "text/plain": [
       "       interest_rate  unpaid_principal_bal      loan_term  loan_to_value  \\\n",
       "count  116058.000000          1.160580e+05  116058.000000  116058.000000   \n",
       "mean        3.868961          2.082262e+05     292.280997      67.431939   \n",
       "std         0.461020          1.146851e+05      89.762415      17.291719   \n",
       "min         2.250000          1.100000e+04      60.000000       6.000000   \n",
       "25%         3.500000          1.200000e+05     180.000000      57.000000   \n",
       "50%         3.875000          1.830000e+05     360.000000      72.000000   \n",
       "75%         4.125000          2.780000e+05     360.000000      80.000000   \n",
       "max         6.750000          1.200000e+06     360.000000      97.000000   \n",
       "\n",
       "       number_of_borrowers  debt_to_income_ratio  borrower_credit_score  \\\n",
       "count        116058.000000         116058.000000          116058.000000   \n",
       "mean              1.593186             30.742293             769.926778   \n",
       "std               0.491242              9.730798              42.210706   \n",
       "min               1.000000              1.000000               0.000000   \n",
       "25%               1.000000             23.000000             751.000000   \n",
       "50%               2.000000             31.000000             782.000000   \n",
       "75%               2.000000             39.000000             800.000000   \n",
       "max               2.000000             64.000000             840.000000   \n",
       "\n",
       "       insurance_percent  co-borrower_credit_score             m1  ...  \\\n",
       "count      116058.000000             116058.000000  116058.000000  ...   \n",
       "mean            2.786288                459.611565       0.003197  ...   \n",
       "std             8.096464                381.946926       0.063354  ...   \n",
       "min             0.000000                  0.000000       0.000000  ...   \n",
       "25%             0.000000                  0.000000       0.000000  ...   \n",
       "50%             0.000000                740.000000       0.000000  ...   \n",
       "75%             0.000000                791.000000       0.000000  ...   \n",
       "max            40.000000                836.000000       3.000000  ...   \n",
       "\n",
       "                  m3             m4             m5             m6  \\\n",
       "count  116058.000000  116058.000000  116058.000000  116058.000000   \n",
       "mean        0.001973       0.002180       0.003533       0.003421   \n",
       "std         0.055427       0.062161       0.082638       0.087553   \n",
       "min         0.000000       0.000000       0.000000       0.000000   \n",
       "25%         0.000000       0.000000       0.000000       0.000000   \n",
       "50%         0.000000       0.000000       0.000000       0.000000   \n",
       "75%         0.000000       0.000000       0.000000       0.000000   \n",
       "max         5.000000       6.000000       7.000000       8.000000   \n",
       "\n",
       "                  m7             m8             m9            m10  \\\n",
       "count  116058.000000  116058.000000  116058.000000  116058.000000   \n",
       "mean        0.004162       0.004825       0.005359       0.006617   \n",
       "std         0.100961       0.113128       0.128242       0.148430   \n",
       "min         0.000000       0.000000       0.000000       0.000000   \n",
       "25%         0.000000       0.000000       0.000000       0.000000   \n",
       "50%         0.000000       0.000000       0.000000       0.000000   \n",
       "75%         0.000000       0.000000       0.000000       0.000000   \n",
       "max         9.000000      10.000000      11.000000      12.000000   \n",
       "\n",
       "                 m11            m12  \n",
       "count  116058.000000  116058.000000  \n",
       "mean        0.007109       0.008065  \n",
       "std         0.162884       0.178128  \n",
       "min         0.000000       0.000000  \n",
       "25%         0.000000       0.000000  \n",
       "50%         0.000000       0.000000  \n",
       "75%         0.000000       0.000000  \n",
       "max        13.000000      14.000000  \n",
       "\n",
       "[8 rows x 21 columns]"
      ]
     },
     "execution_count": 33,
     "metadata": {},
     "output_type": "execute_result"
    }
   ],
   "source": [
    "# display summary statistics\n",
    "S.describe()"
   ]
  },
  {
   "cell_type": "code",
   "execution_count": 34,
   "id": "48b98501",
   "metadata": {},
   "outputs": [
    {
     "data": {
      "text/plain": [
       "Index(['interest_rate', 'unpaid_principal_bal', 'loan_term', 'loan_to_value',\n",
       "       'number_of_borrowers', 'debt_to_income_ratio', 'borrower_credit_score',\n",
       "       'insurance_percent', 'co-borrower_credit_score', 'm1', 'm2', 'm3', 'm4',\n",
       "       'm5', 'm6', 'm7', 'm8', 'm9', 'm10', 'm11', 'm12'],\n",
       "      dtype='object')"
      ]
     },
     "execution_count": 34,
     "metadata": {},
     "output_type": "execute_result"
    }
   ],
   "source": [
    "# display column names\n",
    "S.columns"
   ]
  },
  {
   "cell_type": "code",
   "execution_count": 35,
   "id": "4e4a035c",
   "metadata": {},
   "outputs": [],
   "source": [
    "# creating an instance for MinMaxScaler() and defining the range between 0 and 1 using feature_range\n",
    "minmax = MinMaxScaler(feature_range=(0,1)) "
   ]
  },
  {
   "cell_type": "code",
   "execution_count": 36,
   "id": "25663525",
   "metadata": {},
   "outputs": [
    {
     "data": {
      "text/plain": [
       "array([[0.44444444, 0.17073171, 1.        , ..., 0.        , 0.        ,\n",
       "        0.        ],\n",
       "       [0.58333333, 0.1118587 , 1.        , ..., 0.        , 0.07692308,\n",
       "        0.        ],\n",
       "       [0.22222222, 0.29857023, 0.4       , ..., 0.        , 0.        ,\n",
       "        0.        ],\n",
       "       ...,\n",
       "       [0.36111111, 0.13036165, 1.        , ..., 0.        , 0.        ,\n",
       "        0.        ],\n",
       "       [0.44444444, 0.13288478, 1.        , ..., 0.        , 0.        ,\n",
       "        0.        ],\n",
       "       [0.25      , 0.20269134, 0.4       , ..., 0.        , 0.        ,\n",
       "        0.        ]])"
      ]
     },
     "execution_count": 36,
     "metadata": {},
     "output_type": "execute_result"
    }
   ],
   "source": [
    "# Fit MinMaxScaler and tranform the scaled values to 'S1'\n",
    "S1 = minmax.fit_transform(S)\n",
    "\n",
    "# display the values of S1\n",
    "S1"
   ]
  },
  {
   "cell_type": "code",
   "execution_count": 37,
   "id": "27107ed1",
   "metadata": {},
   "outputs": [
    {
     "data": {
      "text/html": [
       "<div>\n",
       "<style scoped>\n",
       "    .dataframe tbody tr th:only-of-type {\n",
       "        vertical-align: middle;\n",
       "    }\n",
       "\n",
       "    .dataframe tbody tr th {\n",
       "        vertical-align: top;\n",
       "    }\n",
       "\n",
       "    .dataframe thead th {\n",
       "        text-align: right;\n",
       "    }\n",
       "</style>\n",
       "<table border=\"1\" class=\"dataframe\">\n",
       "  <thead>\n",
       "    <tr style=\"text-align: right;\">\n",
       "      <th></th>\n",
       "      <th>interest_rate</th>\n",
       "      <th>unpaid_principal_bal</th>\n",
       "      <th>loan_term</th>\n",
       "      <th>loan_to_value</th>\n",
       "      <th>number_of_borrowers</th>\n",
       "      <th>debt_to_income_ratio</th>\n",
       "      <th>borrower_credit_score</th>\n",
       "      <th>insurance_percent</th>\n",
       "      <th>co-borrower_credit_score</th>\n",
       "      <th>m1</th>\n",
       "      <th>...</th>\n",
       "      <th>m3</th>\n",
       "      <th>m4</th>\n",
       "      <th>m5</th>\n",
       "      <th>m6</th>\n",
       "      <th>m7</th>\n",
       "      <th>m8</th>\n",
       "      <th>m9</th>\n",
       "      <th>m10</th>\n",
       "      <th>m11</th>\n",
       "      <th>m12</th>\n",
       "    </tr>\n",
       "  </thead>\n",
       "  <tbody>\n",
       "    <tr>\n",
       "      <th>0</th>\n",
       "      <td>0.444444</td>\n",
       "      <td>0.170732</td>\n",
       "      <td>1.0</td>\n",
       "      <td>0.978022</td>\n",
       "      <td>0.0</td>\n",
       "      <td>0.333333</td>\n",
       "      <td>0.826190</td>\n",
       "      <td>0.750</td>\n",
       "      <td>0.000000</td>\n",
       "      <td>0.0</td>\n",
       "      <td>...</td>\n",
       "      <td>0.0</td>\n",
       "      <td>0.0</td>\n",
       "      <td>0.000000</td>\n",
       "      <td>0.000</td>\n",
       "      <td>0.111111</td>\n",
       "      <td>0.0</td>\n",
       "      <td>0.000000</td>\n",
       "      <td>0.000000</td>\n",
       "      <td>0.000000</td>\n",
       "      <td>0.000000</td>\n",
       "    </tr>\n",
       "    <tr>\n",
       "      <th>1</th>\n",
       "      <td>0.583333</td>\n",
       "      <td>0.111859</td>\n",
       "      <td>1.0</td>\n",
       "      <td>0.725275</td>\n",
       "      <td>0.0</td>\n",
       "      <td>0.682540</td>\n",
       "      <td>0.829762</td>\n",
       "      <td>0.000</td>\n",
       "      <td>0.000000</td>\n",
       "      <td>0.0</td>\n",
       "      <td>...</td>\n",
       "      <td>0.0</td>\n",
       "      <td>0.0</td>\n",
       "      <td>0.000000</td>\n",
       "      <td>0.000</td>\n",
       "      <td>0.000000</td>\n",
       "      <td>0.0</td>\n",
       "      <td>0.000000</td>\n",
       "      <td>0.000000</td>\n",
       "      <td>0.076923</td>\n",
       "      <td>0.000000</td>\n",
       "    </tr>\n",
       "    <tr>\n",
       "      <th>2</th>\n",
       "      <td>0.222222</td>\n",
       "      <td>0.298570</td>\n",
       "      <td>0.4</td>\n",
       "      <td>0.472527</td>\n",
       "      <td>0.0</td>\n",
       "      <td>0.507937</td>\n",
       "      <td>0.928571</td>\n",
       "      <td>0.000</td>\n",
       "      <td>0.000000</td>\n",
       "      <td>0.0</td>\n",
       "      <td>...</td>\n",
       "      <td>0.0</td>\n",
       "      <td>0.0</td>\n",
       "      <td>0.000000</td>\n",
       "      <td>0.000</td>\n",
       "      <td>0.000000</td>\n",
       "      <td>0.0</td>\n",
       "      <td>0.000000</td>\n",
       "      <td>0.000000</td>\n",
       "      <td>0.000000</td>\n",
       "      <td>0.000000</td>\n",
       "    </tr>\n",
       "    <tr>\n",
       "      <th>3</th>\n",
       "      <td>0.555556</td>\n",
       "      <td>0.104289</td>\n",
       "      <td>1.0</td>\n",
       "      <td>0.439560</td>\n",
       "      <td>1.0</td>\n",
       "      <td>0.682540</td>\n",
       "      <td>0.753571</td>\n",
       "      <td>0.000</td>\n",
       "      <td>0.763158</td>\n",
       "      <td>0.0</td>\n",
       "      <td>...</td>\n",
       "      <td>0.0</td>\n",
       "      <td>0.0</td>\n",
       "      <td>0.000000</td>\n",
       "      <td>0.000</td>\n",
       "      <td>0.000000</td>\n",
       "      <td>0.0</td>\n",
       "      <td>0.090909</td>\n",
       "      <td>0.083333</td>\n",
       "      <td>0.076923</td>\n",
       "      <td>0.071429</td>\n",
       "    </tr>\n",
       "    <tr>\n",
       "      <th>4</th>\n",
       "      <td>0.555556</td>\n",
       "      <td>0.095038</td>\n",
       "      <td>1.0</td>\n",
       "      <td>0.813187</td>\n",
       "      <td>0.0</td>\n",
       "      <td>0.666667</td>\n",
       "      <td>0.810714</td>\n",
       "      <td>0.000</td>\n",
       "      <td>0.000000</td>\n",
       "      <td>0.0</td>\n",
       "      <td>...</td>\n",
       "      <td>0.4</td>\n",
       "      <td>0.5</td>\n",
       "      <td>0.571429</td>\n",
       "      <td>0.625</td>\n",
       "      <td>0.666667</td>\n",
       "      <td>0.7</td>\n",
       "      <td>0.727273</td>\n",
       "      <td>0.750000</td>\n",
       "      <td>0.769231</td>\n",
       "      <td>0.785714</td>\n",
       "    </tr>\n",
       "    <tr>\n",
       "      <th>...</th>\n",
       "      <td>...</td>\n",
       "      <td>...</td>\n",
       "      <td>...</td>\n",
       "      <td>...</td>\n",
       "      <td>...</td>\n",
       "      <td>...</td>\n",
       "      <td>...</td>\n",
       "      <td>...</td>\n",
       "      <td>...</td>\n",
       "      <td>...</td>\n",
       "      <td>...</td>\n",
       "      <td>...</td>\n",
       "      <td>...</td>\n",
       "      <td>...</td>\n",
       "      <td>...</td>\n",
       "      <td>...</td>\n",
       "      <td>...</td>\n",
       "      <td>...</td>\n",
       "      <td>...</td>\n",
       "      <td>...</td>\n",
       "      <td>...</td>\n",
       "    </tr>\n",
       "    <tr>\n",
       "      <th>116053</th>\n",
       "      <td>0.416667</td>\n",
       "      <td>0.119428</td>\n",
       "      <td>1.0</td>\n",
       "      <td>0.901099</td>\n",
       "      <td>1.0</td>\n",
       "      <td>0.333333</td>\n",
       "      <td>0.953571</td>\n",
       "      <td>0.625</td>\n",
       "      <td>0.959330</td>\n",
       "      <td>0.0</td>\n",
       "      <td>...</td>\n",
       "      <td>0.0</td>\n",
       "      <td>0.0</td>\n",
       "      <td>0.000000</td>\n",
       "      <td>0.000</td>\n",
       "      <td>0.000000</td>\n",
       "      <td>0.0</td>\n",
       "      <td>0.000000</td>\n",
       "      <td>0.000000</td>\n",
       "      <td>0.000000</td>\n",
       "      <td>0.000000</td>\n",
       "    </tr>\n",
       "    <tr>\n",
       "      <th>116054</th>\n",
       "      <td>0.166667</td>\n",
       "      <td>0.116905</td>\n",
       "      <td>0.2</td>\n",
       "      <td>0.318681</td>\n",
       "      <td>0.0</td>\n",
       "      <td>0.571429</td>\n",
       "      <td>0.947619</td>\n",
       "      <td>0.000</td>\n",
       "      <td>0.000000</td>\n",
       "      <td>0.0</td>\n",
       "      <td>...</td>\n",
       "      <td>0.0</td>\n",
       "      <td>0.0</td>\n",
       "      <td>0.000000</td>\n",
       "      <td>0.000</td>\n",
       "      <td>0.000000</td>\n",
       "      <td>0.0</td>\n",
       "      <td>0.000000</td>\n",
       "      <td>0.000000</td>\n",
       "      <td>0.000000</td>\n",
       "      <td>0.000000</td>\n",
       "    </tr>\n",
       "    <tr>\n",
       "      <th>116055</th>\n",
       "      <td>0.361111</td>\n",
       "      <td>0.130362</td>\n",
       "      <td>1.0</td>\n",
       "      <td>0.571429</td>\n",
       "      <td>1.0</td>\n",
       "      <td>0.761905</td>\n",
       "      <td>0.861905</td>\n",
       "      <td>0.000</td>\n",
       "      <td>0.864833</td>\n",
       "      <td>0.0</td>\n",
       "      <td>...</td>\n",
       "      <td>0.0</td>\n",
       "      <td>0.0</td>\n",
       "      <td>0.000000</td>\n",
       "      <td>0.000</td>\n",
       "      <td>0.000000</td>\n",
       "      <td>0.0</td>\n",
       "      <td>0.000000</td>\n",
       "      <td>0.000000</td>\n",
       "      <td>0.000000</td>\n",
       "      <td>0.000000</td>\n",
       "    </tr>\n",
       "    <tr>\n",
       "      <th>116056</th>\n",
       "      <td>0.444444</td>\n",
       "      <td>0.132885</td>\n",
       "      <td>1.0</td>\n",
       "      <td>0.747253</td>\n",
       "      <td>1.0</td>\n",
       "      <td>0.190476</td>\n",
       "      <td>0.898810</td>\n",
       "      <td>0.000</td>\n",
       "      <td>0.892344</td>\n",
       "      <td>0.0</td>\n",
       "      <td>...</td>\n",
       "      <td>0.0</td>\n",
       "      <td>0.0</td>\n",
       "      <td>0.000000</td>\n",
       "      <td>0.000</td>\n",
       "      <td>0.000000</td>\n",
       "      <td>0.0</td>\n",
       "      <td>0.000000</td>\n",
       "      <td>0.000000</td>\n",
       "      <td>0.000000</td>\n",
       "      <td>0.000000</td>\n",
       "    </tr>\n",
       "    <tr>\n",
       "      <th>116057</th>\n",
       "      <td>0.250000</td>\n",
       "      <td>0.202691</td>\n",
       "      <td>0.4</td>\n",
       "      <td>0.252747</td>\n",
       "      <td>1.0</td>\n",
       "      <td>0.619048</td>\n",
       "      <td>0.916667</td>\n",
       "      <td>0.000</td>\n",
       "      <td>0.916268</td>\n",
       "      <td>0.0</td>\n",
       "      <td>...</td>\n",
       "      <td>0.0</td>\n",
       "      <td>0.0</td>\n",
       "      <td>0.000000</td>\n",
       "      <td>0.000</td>\n",
       "      <td>0.000000</td>\n",
       "      <td>0.0</td>\n",
       "      <td>0.000000</td>\n",
       "      <td>0.000000</td>\n",
       "      <td>0.000000</td>\n",
       "      <td>0.000000</td>\n",
       "    </tr>\n",
       "  </tbody>\n",
       "</table>\n",
       "<p>116058 rows × 21 columns</p>\n",
       "</div>"
      ],
      "text/plain": [
       "        interest_rate  unpaid_principal_bal  loan_term  loan_to_value  \\\n",
       "0            0.444444              0.170732        1.0       0.978022   \n",
       "1            0.583333              0.111859        1.0       0.725275   \n",
       "2            0.222222              0.298570        0.4       0.472527   \n",
       "3            0.555556              0.104289        1.0       0.439560   \n",
       "4            0.555556              0.095038        1.0       0.813187   \n",
       "...               ...                   ...        ...            ...   \n",
       "116053       0.416667              0.119428        1.0       0.901099   \n",
       "116054       0.166667              0.116905        0.2       0.318681   \n",
       "116055       0.361111              0.130362        1.0       0.571429   \n",
       "116056       0.444444              0.132885        1.0       0.747253   \n",
       "116057       0.250000              0.202691        0.4       0.252747   \n",
       "\n",
       "        number_of_borrowers  debt_to_income_ratio  borrower_credit_score  \\\n",
       "0                       0.0              0.333333               0.826190   \n",
       "1                       0.0              0.682540               0.829762   \n",
       "2                       0.0              0.507937               0.928571   \n",
       "3                       1.0              0.682540               0.753571   \n",
       "4                       0.0              0.666667               0.810714   \n",
       "...                     ...                   ...                    ...   \n",
       "116053                  1.0              0.333333               0.953571   \n",
       "116054                  0.0              0.571429               0.947619   \n",
       "116055                  1.0              0.761905               0.861905   \n",
       "116056                  1.0              0.190476               0.898810   \n",
       "116057                  1.0              0.619048               0.916667   \n",
       "\n",
       "        insurance_percent  co-borrower_credit_score   m1  ...   m3   m4  \\\n",
       "0                   0.750                  0.000000  0.0  ...  0.0  0.0   \n",
       "1                   0.000                  0.000000  0.0  ...  0.0  0.0   \n",
       "2                   0.000                  0.000000  0.0  ...  0.0  0.0   \n",
       "3                   0.000                  0.763158  0.0  ...  0.0  0.0   \n",
       "4                   0.000                  0.000000  0.0  ...  0.4  0.5   \n",
       "...                   ...                       ...  ...  ...  ...  ...   \n",
       "116053              0.625                  0.959330  0.0  ...  0.0  0.0   \n",
       "116054              0.000                  0.000000  0.0  ...  0.0  0.0   \n",
       "116055              0.000                  0.864833  0.0  ...  0.0  0.0   \n",
       "116056              0.000                  0.892344  0.0  ...  0.0  0.0   \n",
       "116057              0.000                  0.916268  0.0  ...  0.0  0.0   \n",
       "\n",
       "              m5     m6        m7   m8        m9       m10       m11       m12  \n",
       "0       0.000000  0.000  0.111111  0.0  0.000000  0.000000  0.000000  0.000000  \n",
       "1       0.000000  0.000  0.000000  0.0  0.000000  0.000000  0.076923  0.000000  \n",
       "2       0.000000  0.000  0.000000  0.0  0.000000  0.000000  0.000000  0.000000  \n",
       "3       0.000000  0.000  0.000000  0.0  0.090909  0.083333  0.076923  0.071429  \n",
       "4       0.571429  0.625  0.666667  0.7  0.727273  0.750000  0.769231  0.785714  \n",
       "...          ...    ...       ...  ...       ...       ...       ...       ...  \n",
       "116053  0.000000  0.000  0.000000  0.0  0.000000  0.000000  0.000000  0.000000  \n",
       "116054  0.000000  0.000  0.000000  0.0  0.000000  0.000000  0.000000  0.000000  \n",
       "116055  0.000000  0.000  0.000000  0.0  0.000000  0.000000  0.000000  0.000000  \n",
       "116056  0.000000  0.000  0.000000  0.0  0.000000  0.000000  0.000000  0.000000  \n",
       "116057  0.000000  0.000  0.000000  0.0  0.000000  0.000000  0.000000  0.000000  \n",
       "\n",
       "[116058 rows x 21 columns]"
      ]
     },
     "execution_count": 37,
     "metadata": {},
     "output_type": "execute_result"
    }
   ],
   "source": [
    "# converting back to a dataframe since it is array format and displaying it\n",
    "S1 = pd.DataFrame(S1, columns=['interest_rate', 'unpaid_principal_bal', 'loan_term', 'loan_to_value',\n",
    "       'number_of_borrowers', 'debt_to_income_ratio', 'borrower_credit_score',\n",
    "       'insurance_percent', 'co-borrower_credit_score', 'm1', 'm2', 'm3', 'm4',\n",
    "       'm5', 'm6', 'm7', 'm8', 'm9', 'm10', 'm11', 'm12'])\n",
    "S1"
   ]
  },
  {
   "cell_type": "code",
   "execution_count": 38,
   "id": "dadc0054",
   "metadata": {},
   "outputs": [
    {
     "data": {
      "text/html": [
       "<div>\n",
       "<style scoped>\n",
       "    .dataframe tbody tr th:only-of-type {\n",
       "        vertical-align: middle;\n",
       "    }\n",
       "\n",
       "    .dataframe tbody tr th {\n",
       "        vertical-align: top;\n",
       "    }\n",
       "\n",
       "    .dataframe thead th {\n",
       "        text-align: right;\n",
       "    }\n",
       "</style>\n",
       "<table border=\"1\" class=\"dataframe\">\n",
       "  <thead>\n",
       "    <tr style=\"text-align: right;\">\n",
       "      <th></th>\n",
       "      <th>interest_rate</th>\n",
       "      <th>unpaid_principal_bal</th>\n",
       "      <th>loan_term</th>\n",
       "      <th>loan_to_value</th>\n",
       "      <th>number_of_borrowers</th>\n",
       "      <th>debt_to_income_ratio</th>\n",
       "      <th>borrower_credit_score</th>\n",
       "      <th>insurance_percent</th>\n",
       "      <th>co-borrower_credit_score</th>\n",
       "      <th>m1</th>\n",
       "      <th>...</th>\n",
       "      <th>m3</th>\n",
       "      <th>m4</th>\n",
       "      <th>m5</th>\n",
       "      <th>m6</th>\n",
       "      <th>m7</th>\n",
       "      <th>m8</th>\n",
       "      <th>m9</th>\n",
       "      <th>m10</th>\n",
       "      <th>m11</th>\n",
       "      <th>m12</th>\n",
       "    </tr>\n",
       "  </thead>\n",
       "  <tbody>\n",
       "    <tr>\n",
       "      <th>count</th>\n",
       "      <td>116058.000000</td>\n",
       "      <td>116058.000000</td>\n",
       "      <td>116058.000000</td>\n",
       "      <td>116058.000000</td>\n",
       "      <td>116058.000000</td>\n",
       "      <td>116058.000000</td>\n",
       "      <td>116058.000000</td>\n",
       "      <td>116058.000000</td>\n",
       "      <td>116058.000000</td>\n",
       "      <td>116058.000000</td>\n",
       "      <td>...</td>\n",
       "      <td>116058.000000</td>\n",
       "      <td>116058.000000</td>\n",
       "      <td>116058.000000</td>\n",
       "      <td>116058.000000</td>\n",
       "      <td>116058.000000</td>\n",
       "      <td>116058.000000</td>\n",
       "      <td>116058.000000</td>\n",
       "      <td>116058.000000</td>\n",
       "      <td>116058.000000</td>\n",
       "      <td>116058.000000</td>\n",
       "    </tr>\n",
       "    <tr>\n",
       "      <th>mean</th>\n",
       "      <td>0.359769</td>\n",
       "      <td>0.165876</td>\n",
       "      <td>0.774270</td>\n",
       "      <td>0.675076</td>\n",
       "      <td>0.593186</td>\n",
       "      <td>0.472100</td>\n",
       "      <td>0.916579</td>\n",
       "      <td>0.069657</td>\n",
       "      <td>0.549775</td>\n",
       "      <td>0.001066</td>\n",
       "      <td>...</td>\n",
       "      <td>0.000395</td>\n",
       "      <td>0.000363</td>\n",
       "      <td>0.000505</td>\n",
       "      <td>0.000428</td>\n",
       "      <td>0.000462</td>\n",
       "      <td>0.000483</td>\n",
       "      <td>0.000487</td>\n",
       "      <td>0.000551</td>\n",
       "      <td>0.000547</td>\n",
       "      <td>0.000576</td>\n",
       "    </tr>\n",
       "    <tr>\n",
       "      <th>std</th>\n",
       "      <td>0.102449</td>\n",
       "      <td>0.096455</td>\n",
       "      <td>0.299208</td>\n",
       "      <td>0.190019</td>\n",
       "      <td>0.491242</td>\n",
       "      <td>0.154457</td>\n",
       "      <td>0.050251</td>\n",
       "      <td>0.202412</td>\n",
       "      <td>0.456874</td>\n",
       "      <td>0.021118</td>\n",
       "      <td>...</td>\n",
       "      <td>0.011085</td>\n",
       "      <td>0.010360</td>\n",
       "      <td>0.011805</td>\n",
       "      <td>0.010944</td>\n",
       "      <td>0.011218</td>\n",
       "      <td>0.011313</td>\n",
       "      <td>0.011658</td>\n",
       "      <td>0.012369</td>\n",
       "      <td>0.012530</td>\n",
       "      <td>0.012723</td>\n",
       "    </tr>\n",
       "    <tr>\n",
       "      <th>min</th>\n",
       "      <td>0.000000</td>\n",
       "      <td>0.000000</td>\n",
       "      <td>0.000000</td>\n",
       "      <td>0.000000</td>\n",
       "      <td>0.000000</td>\n",
       "      <td>0.000000</td>\n",
       "      <td>0.000000</td>\n",
       "      <td>0.000000</td>\n",
       "      <td>0.000000</td>\n",
       "      <td>0.000000</td>\n",
       "      <td>...</td>\n",
       "      <td>0.000000</td>\n",
       "      <td>0.000000</td>\n",
       "      <td>0.000000</td>\n",
       "      <td>0.000000</td>\n",
       "      <td>0.000000</td>\n",
       "      <td>0.000000</td>\n",
       "      <td>0.000000</td>\n",
       "      <td>0.000000</td>\n",
       "      <td>0.000000</td>\n",
       "      <td>0.000000</td>\n",
       "    </tr>\n",
       "    <tr>\n",
       "      <th>25%</th>\n",
       "      <td>0.277778</td>\n",
       "      <td>0.091674</td>\n",
       "      <td>0.400000</td>\n",
       "      <td>0.560440</td>\n",
       "      <td>0.000000</td>\n",
       "      <td>0.349206</td>\n",
       "      <td>0.894048</td>\n",
       "      <td>0.000000</td>\n",
       "      <td>0.000000</td>\n",
       "      <td>0.000000</td>\n",
       "      <td>...</td>\n",
       "      <td>0.000000</td>\n",
       "      <td>0.000000</td>\n",
       "      <td>0.000000</td>\n",
       "      <td>0.000000</td>\n",
       "      <td>0.000000</td>\n",
       "      <td>0.000000</td>\n",
       "      <td>0.000000</td>\n",
       "      <td>0.000000</td>\n",
       "      <td>0.000000</td>\n",
       "      <td>0.000000</td>\n",
       "    </tr>\n",
       "    <tr>\n",
       "      <th>50%</th>\n",
       "      <td>0.361111</td>\n",
       "      <td>0.144659</td>\n",
       "      <td>1.000000</td>\n",
       "      <td>0.725275</td>\n",
       "      <td>1.000000</td>\n",
       "      <td>0.476190</td>\n",
       "      <td>0.930952</td>\n",
       "      <td>0.000000</td>\n",
       "      <td>0.885167</td>\n",
       "      <td>0.000000</td>\n",
       "      <td>...</td>\n",
       "      <td>0.000000</td>\n",
       "      <td>0.000000</td>\n",
       "      <td>0.000000</td>\n",
       "      <td>0.000000</td>\n",
       "      <td>0.000000</td>\n",
       "      <td>0.000000</td>\n",
       "      <td>0.000000</td>\n",
       "      <td>0.000000</td>\n",
       "      <td>0.000000</td>\n",
       "      <td>0.000000</td>\n",
       "    </tr>\n",
       "    <tr>\n",
       "      <th>75%</th>\n",
       "      <td>0.416667</td>\n",
       "      <td>0.224558</td>\n",
       "      <td>1.000000</td>\n",
       "      <td>0.813187</td>\n",
       "      <td>1.000000</td>\n",
       "      <td>0.603175</td>\n",
       "      <td>0.952381</td>\n",
       "      <td>0.000000</td>\n",
       "      <td>0.946172</td>\n",
       "      <td>0.000000</td>\n",
       "      <td>...</td>\n",
       "      <td>0.000000</td>\n",
       "      <td>0.000000</td>\n",
       "      <td>0.000000</td>\n",
       "      <td>0.000000</td>\n",
       "      <td>0.000000</td>\n",
       "      <td>0.000000</td>\n",
       "      <td>0.000000</td>\n",
       "      <td>0.000000</td>\n",
       "      <td>0.000000</td>\n",
       "      <td>0.000000</td>\n",
       "    </tr>\n",
       "    <tr>\n",
       "      <th>max</th>\n",
       "      <td>1.000000</td>\n",
       "      <td>1.000000</td>\n",
       "      <td>1.000000</td>\n",
       "      <td>1.000000</td>\n",
       "      <td>1.000000</td>\n",
       "      <td>1.000000</td>\n",
       "      <td>1.000000</td>\n",
       "      <td>1.000000</td>\n",
       "      <td>1.000000</td>\n",
       "      <td>1.000000</td>\n",
       "      <td>...</td>\n",
       "      <td>1.000000</td>\n",
       "      <td>1.000000</td>\n",
       "      <td>1.000000</td>\n",
       "      <td>1.000000</td>\n",
       "      <td>1.000000</td>\n",
       "      <td>1.000000</td>\n",
       "      <td>1.000000</td>\n",
       "      <td>1.000000</td>\n",
       "      <td>1.000000</td>\n",
       "      <td>1.000000</td>\n",
       "    </tr>\n",
       "  </tbody>\n",
       "</table>\n",
       "<p>8 rows × 21 columns</p>\n",
       "</div>"
      ],
      "text/plain": [
       "       interest_rate  unpaid_principal_bal      loan_term  loan_to_value  \\\n",
       "count  116058.000000         116058.000000  116058.000000  116058.000000   \n",
       "mean        0.359769              0.165876       0.774270       0.675076   \n",
       "std         0.102449              0.096455       0.299208       0.190019   \n",
       "min         0.000000              0.000000       0.000000       0.000000   \n",
       "25%         0.277778              0.091674       0.400000       0.560440   \n",
       "50%         0.361111              0.144659       1.000000       0.725275   \n",
       "75%         0.416667              0.224558       1.000000       0.813187   \n",
       "max         1.000000              1.000000       1.000000       1.000000   \n",
       "\n",
       "       number_of_borrowers  debt_to_income_ratio  borrower_credit_score  \\\n",
       "count        116058.000000         116058.000000          116058.000000   \n",
       "mean              0.593186              0.472100               0.916579   \n",
       "std               0.491242              0.154457               0.050251   \n",
       "min               0.000000              0.000000               0.000000   \n",
       "25%               0.000000              0.349206               0.894048   \n",
       "50%               1.000000              0.476190               0.930952   \n",
       "75%               1.000000              0.603175               0.952381   \n",
       "max               1.000000              1.000000               1.000000   \n",
       "\n",
       "       insurance_percent  co-borrower_credit_score             m1  ...  \\\n",
       "count      116058.000000             116058.000000  116058.000000  ...   \n",
       "mean            0.069657                  0.549775       0.001066  ...   \n",
       "std             0.202412                  0.456874       0.021118  ...   \n",
       "min             0.000000                  0.000000       0.000000  ...   \n",
       "25%             0.000000                  0.000000       0.000000  ...   \n",
       "50%             0.000000                  0.885167       0.000000  ...   \n",
       "75%             0.000000                  0.946172       0.000000  ...   \n",
       "max             1.000000                  1.000000       1.000000  ...   \n",
       "\n",
       "                  m3             m4             m5             m6  \\\n",
       "count  116058.000000  116058.000000  116058.000000  116058.000000   \n",
       "mean        0.000395       0.000363       0.000505       0.000428   \n",
       "std         0.011085       0.010360       0.011805       0.010944   \n",
       "min         0.000000       0.000000       0.000000       0.000000   \n",
       "25%         0.000000       0.000000       0.000000       0.000000   \n",
       "50%         0.000000       0.000000       0.000000       0.000000   \n",
       "75%         0.000000       0.000000       0.000000       0.000000   \n",
       "max         1.000000       1.000000       1.000000       1.000000   \n",
       "\n",
       "                  m7             m8             m9            m10  \\\n",
       "count  116058.000000  116058.000000  116058.000000  116058.000000   \n",
       "mean        0.000462       0.000483       0.000487       0.000551   \n",
       "std         0.011218       0.011313       0.011658       0.012369   \n",
       "min         0.000000       0.000000       0.000000       0.000000   \n",
       "25%         0.000000       0.000000       0.000000       0.000000   \n",
       "50%         0.000000       0.000000       0.000000       0.000000   \n",
       "75%         0.000000       0.000000       0.000000       0.000000   \n",
       "max         1.000000       1.000000       1.000000       1.000000   \n",
       "\n",
       "                 m11            m12  \n",
       "count  116058.000000  116058.000000  \n",
       "mean        0.000547       0.000576  \n",
       "std         0.012530       0.012723  \n",
       "min         0.000000       0.000000  \n",
       "25%         0.000000       0.000000  \n",
       "50%         0.000000       0.000000  \n",
       "75%         0.000000       0.000000  \n",
       "max         1.000000       1.000000  \n",
       "\n",
       "[8 rows x 21 columns]"
      ]
     },
     "execution_count": 38,
     "metadata": {},
     "output_type": "execute_result"
    }
   ],
   "source": [
    "# display the summary statistics of all numerical columns after applying scaling\n",
    "S1.describe()"
   ]
  },
  {
   "cell_type": "markdown",
   "id": "0685efb4",
   "metadata": {},
   "source": [
    "~ For all the columns, minimum value is 0 and maximum value is one after applying scaling"
   ]
  },
  {
   "cell_type": "markdown",
   "id": "0cf83e13",
   "metadata": {},
   "source": [
    "### SPLITTING THE DATA INTO FEATURES AND TARGET\n",
    "\n",
    "-X indicates Fatures  = 'source', 'origination_date', 'first_payment_date', 'insurance_type', 'interest_rate', 'unpaid_principal_bal', 'loan_term', 'loan_to_value', 'number_of_borrowers', 'debt_to_income_ratio', 'borrower_credit_score', 'insurance_percent', 'co-borrower_credit_score', 'm1', 'm2', 'm3', 'm4', 'm5', 'm6', 'm7', 'm8', 'm9', 'm10', 'm11', 'm12' columns\n",
    "\n",
    "-y indicates Target = 'm13' column"
   ]
  },
  {
   "cell_type": "code",
   "execution_count": 39,
   "id": "7d28dcc7",
   "metadata": {},
   "outputs": [
    {
     "data": {
      "text/html": [
       "<div>\n",
       "<style scoped>\n",
       "    .dataframe tbody tr th:only-of-type {\n",
       "        vertical-align: middle;\n",
       "    }\n",
       "\n",
       "    .dataframe tbody tr th {\n",
       "        vertical-align: top;\n",
       "    }\n",
       "\n",
       "    .dataframe thead th {\n",
       "        text-align: right;\n",
       "    }\n",
       "</style>\n",
       "<table border=\"1\" class=\"dataframe\">\n",
       "  <thead>\n",
       "    <tr style=\"text-align: right;\">\n",
       "      <th></th>\n",
       "      <th>source_X</th>\n",
       "      <th>source_Y</th>\n",
       "      <th>source_Z</th>\n",
       "      <th>origination_date_2012-01-01</th>\n",
       "      <th>origination_date_2012-02-01</th>\n",
       "      <th>origination_date_2012-03-01</th>\n",
       "      <th>first_payment_date_02/2012</th>\n",
       "      <th>first_payment_date_03/2012</th>\n",
       "      <th>first_payment_date_04/2012</th>\n",
       "      <th>first_payment_date_05/2012</th>\n",
       "      <th>...</th>\n",
       "      <th>m3</th>\n",
       "      <th>m4</th>\n",
       "      <th>m5</th>\n",
       "      <th>m6</th>\n",
       "      <th>m7</th>\n",
       "      <th>m8</th>\n",
       "      <th>m9</th>\n",
       "      <th>m10</th>\n",
       "      <th>m11</th>\n",
       "      <th>m12</th>\n",
       "    </tr>\n",
       "  </thead>\n",
       "  <tbody>\n",
       "    <tr>\n",
       "      <th>0</th>\n",
       "      <td>0</td>\n",
       "      <td>0</td>\n",
       "      <td>1</td>\n",
       "      <td>0</td>\n",
       "      <td>0</td>\n",
       "      <td>1</td>\n",
       "      <td>0</td>\n",
       "      <td>0</td>\n",
       "      <td>0</td>\n",
       "      <td>1</td>\n",
       "      <td>...</td>\n",
       "      <td>0.0</td>\n",
       "      <td>0.0</td>\n",
       "      <td>0.000000</td>\n",
       "      <td>0.000</td>\n",
       "      <td>0.111111</td>\n",
       "      <td>0.0</td>\n",
       "      <td>0.000000</td>\n",
       "      <td>0.000000</td>\n",
       "      <td>0.000000</td>\n",
       "      <td>0.000000</td>\n",
       "    </tr>\n",
       "    <tr>\n",
       "      <th>1</th>\n",
       "      <td>0</td>\n",
       "      <td>1</td>\n",
       "      <td>0</td>\n",
       "      <td>1</td>\n",
       "      <td>0</td>\n",
       "      <td>0</td>\n",
       "      <td>0</td>\n",
       "      <td>1</td>\n",
       "      <td>0</td>\n",
       "      <td>0</td>\n",
       "      <td>...</td>\n",
       "      <td>0.0</td>\n",
       "      <td>0.0</td>\n",
       "      <td>0.000000</td>\n",
       "      <td>0.000</td>\n",
       "      <td>0.000000</td>\n",
       "      <td>0.0</td>\n",
       "      <td>0.000000</td>\n",
       "      <td>0.000000</td>\n",
       "      <td>0.076923</td>\n",
       "      <td>0.000000</td>\n",
       "    </tr>\n",
       "    <tr>\n",
       "      <th>2</th>\n",
       "      <td>0</td>\n",
       "      <td>0</td>\n",
       "      <td>1</td>\n",
       "      <td>1</td>\n",
       "      <td>0</td>\n",
       "      <td>0</td>\n",
       "      <td>0</td>\n",
       "      <td>1</td>\n",
       "      <td>0</td>\n",
       "      <td>0</td>\n",
       "      <td>...</td>\n",
       "      <td>0.0</td>\n",
       "      <td>0.0</td>\n",
       "      <td>0.000000</td>\n",
       "      <td>0.000</td>\n",
       "      <td>0.000000</td>\n",
       "      <td>0.0</td>\n",
       "      <td>0.000000</td>\n",
       "      <td>0.000000</td>\n",
       "      <td>0.000000</td>\n",
       "      <td>0.000000</td>\n",
       "    </tr>\n",
       "    <tr>\n",
       "      <th>3</th>\n",
       "      <td>1</td>\n",
       "      <td>0</td>\n",
       "      <td>0</td>\n",
       "      <td>0</td>\n",
       "      <td>1</td>\n",
       "      <td>0</td>\n",
       "      <td>0</td>\n",
       "      <td>0</td>\n",
       "      <td>1</td>\n",
       "      <td>0</td>\n",
       "      <td>...</td>\n",
       "      <td>0.0</td>\n",
       "      <td>0.0</td>\n",
       "      <td>0.000000</td>\n",
       "      <td>0.000</td>\n",
       "      <td>0.000000</td>\n",
       "      <td>0.0</td>\n",
       "      <td>0.090909</td>\n",
       "      <td>0.083333</td>\n",
       "      <td>0.076923</td>\n",
       "      <td>0.071429</td>\n",
       "    </tr>\n",
       "    <tr>\n",
       "      <th>4</th>\n",
       "      <td>1</td>\n",
       "      <td>0</td>\n",
       "      <td>0</td>\n",
       "      <td>0</td>\n",
       "      <td>1</td>\n",
       "      <td>0</td>\n",
       "      <td>0</td>\n",
       "      <td>0</td>\n",
       "      <td>1</td>\n",
       "      <td>0</td>\n",
       "      <td>...</td>\n",
       "      <td>0.4</td>\n",
       "      <td>0.5</td>\n",
       "      <td>0.571429</td>\n",
       "      <td>0.625</td>\n",
       "      <td>0.666667</td>\n",
       "      <td>0.7</td>\n",
       "      <td>0.727273</td>\n",
       "      <td>0.750000</td>\n",
       "      <td>0.769231</td>\n",
       "      <td>0.785714</td>\n",
       "    </tr>\n",
       "    <tr>\n",
       "      <th>...</th>\n",
       "      <td>...</td>\n",
       "      <td>...</td>\n",
       "      <td>...</td>\n",
       "      <td>...</td>\n",
       "      <td>...</td>\n",
       "      <td>...</td>\n",
       "      <td>...</td>\n",
       "      <td>...</td>\n",
       "      <td>...</td>\n",
       "      <td>...</td>\n",
       "      <td>...</td>\n",
       "      <td>...</td>\n",
       "      <td>...</td>\n",
       "      <td>...</td>\n",
       "      <td>...</td>\n",
       "      <td>...</td>\n",
       "      <td>...</td>\n",
       "      <td>...</td>\n",
       "      <td>...</td>\n",
       "      <td>...</td>\n",
       "      <td>...</td>\n",
       "    </tr>\n",
       "    <tr>\n",
       "      <th>116053</th>\n",
       "      <td>0</td>\n",
       "      <td>1</td>\n",
       "      <td>0</td>\n",
       "      <td>0</td>\n",
       "      <td>1</td>\n",
       "      <td>0</td>\n",
       "      <td>0</td>\n",
       "      <td>0</td>\n",
       "      <td>1</td>\n",
       "      <td>0</td>\n",
       "      <td>...</td>\n",
       "      <td>0.0</td>\n",
       "      <td>0.0</td>\n",
       "      <td>0.000000</td>\n",
       "      <td>0.000</td>\n",
       "      <td>0.000000</td>\n",
       "      <td>0.0</td>\n",
       "      <td>0.000000</td>\n",
       "      <td>0.000000</td>\n",
       "      <td>0.000000</td>\n",
       "      <td>0.000000</td>\n",
       "    </tr>\n",
       "    <tr>\n",
       "      <th>116054</th>\n",
       "      <td>0</td>\n",
       "      <td>0</td>\n",
       "      <td>1</td>\n",
       "      <td>1</td>\n",
       "      <td>0</td>\n",
       "      <td>0</td>\n",
       "      <td>0</td>\n",
       "      <td>1</td>\n",
       "      <td>0</td>\n",
       "      <td>0</td>\n",
       "      <td>...</td>\n",
       "      <td>0.0</td>\n",
       "      <td>0.0</td>\n",
       "      <td>0.000000</td>\n",
       "      <td>0.000</td>\n",
       "      <td>0.000000</td>\n",
       "      <td>0.0</td>\n",
       "      <td>0.000000</td>\n",
       "      <td>0.000000</td>\n",
       "      <td>0.000000</td>\n",
       "      <td>0.000000</td>\n",
       "    </tr>\n",
       "    <tr>\n",
       "      <th>116055</th>\n",
       "      <td>1</td>\n",
       "      <td>0</td>\n",
       "      <td>0</td>\n",
       "      <td>0</td>\n",
       "      <td>1</td>\n",
       "      <td>0</td>\n",
       "      <td>0</td>\n",
       "      <td>0</td>\n",
       "      <td>1</td>\n",
       "      <td>0</td>\n",
       "      <td>...</td>\n",
       "      <td>0.0</td>\n",
       "      <td>0.0</td>\n",
       "      <td>0.000000</td>\n",
       "      <td>0.000</td>\n",
       "      <td>0.000000</td>\n",
       "      <td>0.0</td>\n",
       "      <td>0.000000</td>\n",
       "      <td>0.000000</td>\n",
       "      <td>0.000000</td>\n",
       "      <td>0.000000</td>\n",
       "    </tr>\n",
       "    <tr>\n",
       "      <th>116056</th>\n",
       "      <td>1</td>\n",
       "      <td>0</td>\n",
       "      <td>0</td>\n",
       "      <td>0</td>\n",
       "      <td>1</td>\n",
       "      <td>0</td>\n",
       "      <td>0</td>\n",
       "      <td>0</td>\n",
       "      <td>1</td>\n",
       "      <td>0</td>\n",
       "      <td>...</td>\n",
       "      <td>0.0</td>\n",
       "      <td>0.0</td>\n",
       "      <td>0.000000</td>\n",
       "      <td>0.000</td>\n",
       "      <td>0.000000</td>\n",
       "      <td>0.0</td>\n",
       "      <td>0.000000</td>\n",
       "      <td>0.000000</td>\n",
       "      <td>0.000000</td>\n",
       "      <td>0.000000</td>\n",
       "    </tr>\n",
       "    <tr>\n",
       "      <th>116057</th>\n",
       "      <td>0</td>\n",
       "      <td>0</td>\n",
       "      <td>1</td>\n",
       "      <td>1</td>\n",
       "      <td>0</td>\n",
       "      <td>0</td>\n",
       "      <td>0</td>\n",
       "      <td>1</td>\n",
       "      <td>0</td>\n",
       "      <td>0</td>\n",
       "      <td>...</td>\n",
       "      <td>0.0</td>\n",
       "      <td>0.0</td>\n",
       "      <td>0.000000</td>\n",
       "      <td>0.000</td>\n",
       "      <td>0.000000</td>\n",
       "      <td>0.0</td>\n",
       "      <td>0.000000</td>\n",
       "      <td>0.000000</td>\n",
       "      <td>0.000000</td>\n",
       "      <td>0.000000</td>\n",
       "    </tr>\n",
       "  </tbody>\n",
       "</table>\n",
       "<p>116058 rows × 32 columns</p>\n",
       "</div>"
      ],
      "text/plain": [
       "        source_X  source_Y  source_Z  origination_date_2012-01-01  \\\n",
       "0              0         0         1                            0   \n",
       "1              0         1         0                            1   \n",
       "2              0         0         1                            1   \n",
       "3              1         0         0                            0   \n",
       "4              1         0         0                            0   \n",
       "...          ...       ...       ...                          ...   \n",
       "116053         0         1         0                            0   \n",
       "116054         0         0         1                            1   \n",
       "116055         1         0         0                            0   \n",
       "116056         1         0         0                            0   \n",
       "116057         0         0         1                            1   \n",
       "\n",
       "        origination_date_2012-02-01  origination_date_2012-03-01  \\\n",
       "0                                 0                            1   \n",
       "1                                 0                            0   \n",
       "2                                 0                            0   \n",
       "3                                 1                            0   \n",
       "4                                 1                            0   \n",
       "...                             ...                          ...   \n",
       "116053                            1                            0   \n",
       "116054                            0                            0   \n",
       "116055                            1                            0   \n",
       "116056                            1                            0   \n",
       "116057                            0                            0   \n",
       "\n",
       "        first_payment_date_02/2012  first_payment_date_03/2012  \\\n",
       "0                                0                           0   \n",
       "1                                0                           1   \n",
       "2                                0                           1   \n",
       "3                                0                           0   \n",
       "4                                0                           0   \n",
       "...                            ...                         ...   \n",
       "116053                           0                           0   \n",
       "116054                           0                           1   \n",
       "116055                           0                           0   \n",
       "116056                           0                           0   \n",
       "116057                           0                           1   \n",
       "\n",
       "        first_payment_date_04/2012  first_payment_date_05/2012  ...   m3   m4  \\\n",
       "0                                0                           1  ...  0.0  0.0   \n",
       "1                                0                           0  ...  0.0  0.0   \n",
       "2                                0                           0  ...  0.0  0.0   \n",
       "3                                1                           0  ...  0.0  0.0   \n",
       "4                                1                           0  ...  0.4  0.5   \n",
       "...                            ...                         ...  ...  ...  ...   \n",
       "116053                           1                           0  ...  0.0  0.0   \n",
       "116054                           0                           0  ...  0.0  0.0   \n",
       "116055                           1                           0  ...  0.0  0.0   \n",
       "116056                           1                           0  ...  0.0  0.0   \n",
       "116057                           0                           0  ...  0.0  0.0   \n",
       "\n",
       "              m5     m6        m7   m8        m9       m10       m11       m12  \n",
       "0       0.000000  0.000  0.111111  0.0  0.000000  0.000000  0.000000  0.000000  \n",
       "1       0.000000  0.000  0.000000  0.0  0.000000  0.000000  0.076923  0.000000  \n",
       "2       0.000000  0.000  0.000000  0.0  0.000000  0.000000  0.000000  0.000000  \n",
       "3       0.000000  0.000  0.000000  0.0  0.090909  0.083333  0.076923  0.071429  \n",
       "4       0.571429  0.625  0.666667  0.7  0.727273  0.750000  0.769231  0.785714  \n",
       "...          ...    ...       ...  ...       ...       ...       ...       ...  \n",
       "116053  0.000000  0.000  0.000000  0.0  0.000000  0.000000  0.000000  0.000000  \n",
       "116054  0.000000  0.000  0.000000  0.0  0.000000  0.000000  0.000000  0.000000  \n",
       "116055  0.000000  0.000  0.000000  0.0  0.000000  0.000000  0.000000  0.000000  \n",
       "116056  0.000000  0.000  0.000000  0.0  0.000000  0.000000  0.000000  0.000000  \n",
       "116057  0.000000  0.000  0.000000  0.0  0.000000  0.000000  0.000000  0.000000  \n",
       "\n",
       "[116058 rows x 32 columns]"
      ]
     },
     "execution_count": 39,
     "metadata": {},
     "output_type": "execute_result"
    }
   ],
   "source": [
    "# displaying features\n",
    "X = pd.concat([data_encoding1, data['insurance_type'], S1], axis=1)\n",
    "X"
   ]
  },
  {
   "cell_type": "code",
   "execution_count": 40,
   "id": "6a8b7c77",
   "metadata": {},
   "outputs": [
    {
     "data": {
      "text/plain": [
       "Index(['source_X', 'source_Y', 'source_Z', 'origination_date_2012-01-01',\n",
       "       'origination_date_2012-02-01', 'origination_date_2012-03-01',\n",
       "       'first_payment_date_02/2012', 'first_payment_date_03/2012',\n",
       "       'first_payment_date_04/2012', 'first_payment_date_05/2012',\n",
       "       'insurance_type', 'interest_rate', 'unpaid_principal_bal', 'loan_term',\n",
       "       'loan_to_value', 'number_of_borrowers', 'debt_to_income_ratio',\n",
       "       'borrower_credit_score', 'insurance_percent',\n",
       "       'co-borrower_credit_score', 'm1', 'm2', 'm3', 'm4', 'm5', 'm6', 'm7',\n",
       "       'm8', 'm9', 'm10', 'm11', 'm12'],\n",
       "      dtype='object')"
      ]
     },
     "execution_count": 40,
     "metadata": {},
     "output_type": "execute_result"
    }
   ],
   "source": [
    "# display column names\n",
    "X.columns"
   ]
  },
  {
   "cell_type": "code",
   "execution_count": 41,
   "id": "1f6202e4",
   "metadata": {},
   "outputs": [
    {
     "data": {
      "text/plain": [
       "0         1\n",
       "1         1\n",
       "2         1\n",
       "3         1\n",
       "4         1\n",
       "         ..\n",
       "116053    0\n",
       "116054    0\n",
       "116055    0\n",
       "116056    0\n",
       "116057    0\n",
       "Name: m13, Length: 116058, dtype: int64"
      ]
     },
     "execution_count": 41,
     "metadata": {},
     "output_type": "execute_result"
    }
   ],
   "source": [
    "# display the target\n",
    "y = data['m13']\n",
    "y"
   ]
  },
  {
   "cell_type": "markdown",
   "id": "e2a848e8",
   "metadata": {},
   "source": [
    "### SPLITTING THE DATA INTO TRAINING & TESTING"
   ]
  },
  {
   "cell_type": "code",
   "execution_count": 42,
   "id": "86569448",
   "metadata": {},
   "outputs": [],
   "source": [
    "#  splitting the dataset into testing and training data set\n",
    "X_train, X_test, y_train, y_test = train_test_split(X, y, test_size = 0.25, random_state = 42)"
   ]
  },
  {
   "cell_type": "markdown",
   "id": "bcf96014",
   "metadata": {},
   "source": [
    "#### MODELS"
   ]
  },
  {
   "cell_type": "markdown",
   "id": "b9238afe",
   "metadata": {},
   "source": [
    "#### 1) LOGISTIC REGRESSION"
   ]
  },
  {
   "cell_type": "code",
   "execution_count": 43,
   "id": "c14974a3",
   "metadata": {},
   "outputs": [],
   "source": [
    "# creating an instance for LogisticRegression()\n",
    "log_reg = LogisticRegression(max_iter=150)"
   ]
  },
  {
   "cell_type": "code",
   "execution_count": 44,
   "id": "48597d5a",
   "metadata": {},
   "outputs": [],
   "source": [
    "# fit the training data to the instance of LogisticRegression() and create a model\n",
    "log_model = log_reg.fit(X_train, y_train)"
   ]
  },
  {
   "cell_type": "code",
   "execution_count": 45,
   "id": "529d3e76",
   "metadata": {},
   "outputs": [
    {
     "data": {
      "text/plain": [
       "array([0, 0, 0, ..., 0, 0, 0], dtype=int64)"
      ]
     },
     "execution_count": 45,
     "metadata": {},
     "output_type": "execute_result"
    }
   ],
   "source": [
    "# predict the target of the test data using the features of test data\n",
    "log_ypred = log_model.predict(X_test)\n",
    "log_ypred"
   ]
  },
  {
   "cell_type": "code",
   "execution_count": 46,
   "id": "f597cbfc",
   "metadata": {},
   "outputs": [
    {
     "name": "stdout",
     "output_type": "stream",
     "text": [
      "[[28851     1]\n",
      " [  135    28]]\n"
     ]
    }
   ],
   "source": [
    "# displaying confusion matrix\n",
    "print(confusion_matrix(y_test, log_ypred))"
   ]
  },
  {
   "cell_type": "code",
   "execution_count": 47,
   "id": "a5dc5ca7",
   "metadata": {},
   "outputs": [
    {
     "name": "stdout",
     "output_type": "stream",
     "text": [
      "0.9953127692572807\n"
     ]
    }
   ],
   "source": [
    "# accuracy score\n",
    "print(accuracy_score(y_test, log_ypred))"
   ]
  },
  {
   "cell_type": "code",
   "execution_count": 48,
   "id": "42f536a8",
   "metadata": {},
   "outputs": [
    {
     "name": "stdout",
     "output_type": "stream",
     "text": [
      "0.9655172413793104\n"
     ]
    }
   ],
   "source": [
    "# precision score\n",
    "print(precision_score(y_test, log_ypred))"
   ]
  },
  {
   "cell_type": "code",
   "execution_count": 49,
   "id": "c3fe89be",
   "metadata": {},
   "outputs": [
    {
     "name": "stdout",
     "output_type": "stream",
     "text": [
      "0.17177914110429449\n"
     ]
    }
   ],
   "source": [
    "# recall score\n",
    "print(recall_score(y_test, log_ypred))"
   ]
  },
  {
   "cell_type": "markdown",
   "id": "c9669339",
   "metadata": {},
   "source": [
    "#### 2) kNN MODEL"
   ]
  },
  {
   "cell_type": "code",
   "execution_count": 50,
   "id": "94e3e374",
   "metadata": {},
   "outputs": [
    {
     "data": {
      "text/plain": [
       "array([ 3,  4,  5,  6,  7,  8,  9, 10, 11, 12, 13, 14])"
      ]
     },
     "execution_count": 50,
     "metadata": {},
     "output_type": "execute_result"
    }
   ],
   "source": [
    "neighbors = np.arange(3,15) # take values from 3 to 14 and stores in array format\n",
    "neighbors"
   ]
  },
  {
   "cell_type": "code",
   "execution_count": 51,
   "id": "9fcda5ba",
   "metadata": {},
   "outputs": [
    {
     "name": "stderr",
     "output_type": "stream",
     "text": [
      "C:\\Users\\Asus\\anaconda3\\lib\\site-packages\\sklearn\\neighbors\\_classification.py:228: FutureWarning: Unlike other reduction functions (e.g. `skew`, `kurtosis`), the default behavior of `mode` typically preserves the axis it acts along. In SciPy 1.11.0, this behavior will change: the default value of `keepdims` will become False, the `axis` over which the statistic is taken will be eliminated, and the value None will no longer be accepted. Set `keepdims` to True or False to avoid this warning.\n",
      "  mode, _ = stats.mode(_y[neigh_ind, k], axis=1)\n",
      "C:\\Users\\Asus\\anaconda3\\lib\\site-packages\\sklearn\\neighbors\\_classification.py:228: FutureWarning: Unlike other reduction functions (e.g. `skew`, `kurtosis`), the default behavior of `mode` typically preserves the axis it acts along. In SciPy 1.11.0, this behavior will change: the default value of `keepdims` will become False, the `axis` over which the statistic is taken will be eliminated, and the value None will no longer be accepted. Set `keepdims` to True or False to avoid this warning.\n",
      "  mode, _ = stats.mode(_y[neigh_ind, k], axis=1)\n",
      "C:\\Users\\Asus\\anaconda3\\lib\\site-packages\\sklearn\\neighbors\\_classification.py:228: FutureWarning: Unlike other reduction functions (e.g. `skew`, `kurtosis`), the default behavior of `mode` typically preserves the axis it acts along. In SciPy 1.11.0, this behavior will change: the default value of `keepdims` will become False, the `axis` over which the statistic is taken will be eliminated, and the value None will no longer be accepted. Set `keepdims` to True or False to avoid this warning.\n",
      "  mode, _ = stats.mode(_y[neigh_ind, k], axis=1)\n",
      "C:\\Users\\Asus\\anaconda3\\lib\\site-packages\\sklearn\\neighbors\\_classification.py:228: FutureWarning: Unlike other reduction functions (e.g. `skew`, `kurtosis`), the default behavior of `mode` typically preserves the axis it acts along. In SciPy 1.11.0, this behavior will change: the default value of `keepdims` will become False, the `axis` over which the statistic is taken will be eliminated, and the value None will no longer be accepted. Set `keepdims` to True or False to avoid this warning.\n",
      "  mode, _ = stats.mode(_y[neigh_ind, k], axis=1)\n",
      "C:\\Users\\Asus\\anaconda3\\lib\\site-packages\\sklearn\\neighbors\\_classification.py:228: FutureWarning: Unlike other reduction functions (e.g. `skew`, `kurtosis`), the default behavior of `mode` typically preserves the axis it acts along. In SciPy 1.11.0, this behavior will change: the default value of `keepdims` will become False, the `axis` over which the statistic is taken will be eliminated, and the value None will no longer be accepted. Set `keepdims` to True or False to avoid this warning.\n",
      "  mode, _ = stats.mode(_y[neigh_ind, k], axis=1)\n",
      "C:\\Users\\Asus\\anaconda3\\lib\\site-packages\\sklearn\\neighbors\\_classification.py:228: FutureWarning: Unlike other reduction functions (e.g. `skew`, `kurtosis`), the default behavior of `mode` typically preserves the axis it acts along. In SciPy 1.11.0, this behavior will change: the default value of `keepdims` will become False, the `axis` over which the statistic is taken will be eliminated, and the value None will no longer be accepted. Set `keepdims` to True or False to avoid this warning.\n",
      "  mode, _ = stats.mode(_y[neigh_ind, k], axis=1)\n",
      "C:\\Users\\Asus\\anaconda3\\lib\\site-packages\\sklearn\\neighbors\\_classification.py:228: FutureWarning: Unlike other reduction functions (e.g. `skew`, `kurtosis`), the default behavior of `mode` typically preserves the axis it acts along. In SciPy 1.11.0, this behavior will change: the default value of `keepdims` will become False, the `axis` over which the statistic is taken will be eliminated, and the value None will no longer be accepted. Set `keepdims` to True or False to avoid this warning.\n",
      "  mode, _ = stats.mode(_y[neigh_ind, k], axis=1)\n",
      "C:\\Users\\Asus\\anaconda3\\lib\\site-packages\\sklearn\\neighbors\\_classification.py:228: FutureWarning: Unlike other reduction functions (e.g. `skew`, `kurtosis`), the default behavior of `mode` typically preserves the axis it acts along. In SciPy 1.11.0, this behavior will change: the default value of `keepdims` will become False, the `axis` over which the statistic is taken will be eliminated, and the value None will no longer be accepted. Set `keepdims` to True or False to avoid this warning.\n",
      "  mode, _ = stats.mode(_y[neigh_ind, k], axis=1)\n",
      "C:\\Users\\Asus\\anaconda3\\lib\\site-packages\\sklearn\\neighbors\\_classification.py:228: FutureWarning: Unlike other reduction functions (e.g. `skew`, `kurtosis`), the default behavior of `mode` typically preserves the axis it acts along. In SciPy 1.11.0, this behavior will change: the default value of `keepdims` will become False, the `axis` over which the statistic is taken will be eliminated, and the value None will no longer be accepted. Set `keepdims` to True or False to avoid this warning.\n",
      "  mode, _ = stats.mode(_y[neigh_ind, k], axis=1)\n",
      "C:\\Users\\Asus\\anaconda3\\lib\\site-packages\\sklearn\\neighbors\\_classification.py:228: FutureWarning: Unlike other reduction functions (e.g. `skew`, `kurtosis`), the default behavior of `mode` typically preserves the axis it acts along. In SciPy 1.11.0, this behavior will change: the default value of `keepdims` will become False, the `axis` over which the statistic is taken will be eliminated, and the value None will no longer be accepted. Set `keepdims` to True or False to avoid this warning.\n",
      "  mode, _ = stats.mode(_y[neigh_ind, k], axis=1)\n",
      "C:\\Users\\Asus\\anaconda3\\lib\\site-packages\\sklearn\\neighbors\\_classification.py:228: FutureWarning: Unlike other reduction functions (e.g. `skew`, `kurtosis`), the default behavior of `mode` typically preserves the axis it acts along. In SciPy 1.11.0, this behavior will change: the default value of `keepdims` will become False, the `axis` over which the statistic is taken will be eliminated, and the value None will no longer be accepted. Set `keepdims` to True or False to avoid this warning.\n",
      "  mode, _ = stats.mode(_y[neigh_ind, k], axis=1)\n",
      "C:\\Users\\Asus\\anaconda3\\lib\\site-packages\\sklearn\\neighbors\\_classification.py:228: FutureWarning: Unlike other reduction functions (e.g. `skew`, `kurtosis`), the default behavior of `mode` typically preserves the axis it acts along. In SciPy 1.11.0, this behavior will change: the default value of `keepdims` will become False, the `axis` over which the statistic is taken will be eliminated, and the value None will no longer be accepted. Set `keepdims` to True or False to avoid this warning.\n",
      "  mode, _ = stats.mode(_y[neigh_ind, k], axis=1)\n"
     ]
    }
   ],
   "source": [
    "# create an empty list to store accuracy\n",
    "metric_k = [] \n",
    "\n",
    "# take values from 3 to 14 and store it in array format in 'neighbors' variable\n",
    "neighbors = np.arange(3,15) \n",
    "\n",
    "# creating a loop for k and varying the values of k from 3 to 14\n",
    "for k in neighbors:\n",
    "    \n",
    "    # for the first iteration k value = 3,  creating an instance\n",
    "    knn = KNeighborsClassifier(n_neighbors=k) \n",
    "    \n",
    "    # fitting the training data to the model and creating a model using the iteration\n",
    "    knn_model = knn.fit(X_train, y_train) \n",
    "    \n",
    "    # finding the predicted values of test data using features of test data for all iterations\n",
    "    y_pred_knn = knn_model.predict(X_test) \n",
    "    \n",
    "    # calculating accuracy of all iterations and storing in variable \n",
    "    knn_acc = accuracy_score(y_test, y_pred_knn) \n",
    "    \n",
    "    # appending accuracy of all iterations to the empty list \n",
    "    metric_k.append(knn_acc) \n"
   ]
  },
  {
   "cell_type": "code",
   "execution_count": 52,
   "id": "ad96eaaf",
   "metadata": {},
   "outputs": [
    {
     "data": {
      "text/plain": [
       "[0.9949336550060314,\n",
       " 0.9948302602102361,\n",
       " 0.9948647251421678,\n",
       " 0.9948647251421678,\n",
       " 0.9948991900740995,\n",
       " 0.9947613303463726,\n",
       " 0.9947613303463726,\n",
       " 0.9947957952783043,\n",
       " 0.9947613303463726,\n",
       " 0.9947268654144408,\n",
       " 0.9947268654144408,\n",
       " 0.9947613303463726]"
      ]
     },
     "execution_count": 52,
     "metadata": {},
     "output_type": "execute_result"
    }
   ],
   "source": [
    "# displaying accuracy values for k = 3 to 14\n",
    "metric_k"
   ]
  },
  {
   "cell_type": "code",
   "execution_count": 53,
   "id": "04acfcaf",
   "metadata": {},
   "outputs": [
    {
     "data": {
      "image/png": "[encoded data removed]",
      "text/plain": [
       "<Figure size 640x480 with 1 Axes>"
      ]
     },
     "metadata": {},
     "output_type": "display_data"
    }
   ],
   "source": [
    "# plot k values versus accuracy to find out which value of k is having highest accuracy\n",
    "plt.plot(neighbors, metric_k, 'o-') \n",
    "\n",
    "# display title\n",
    "plt.title('Plot to find the k value having highest accuracy')\n",
    "\n",
    "# plot label on x-axis\n",
    "plt.xlabel('k value')\n",
    "\n",
    "# plot label on y-axis\n",
    "plt.ylabel('Accuracy')\n",
    "\n",
    "# display grid\n",
    "plt.grid()"
   ]
  },
  {
   "cell_type": "markdown",
   "id": "9d7d142c",
   "metadata": {},
   "source": [
    "~from the above display, highest accuracy of 0.9949336550060314 is found for k values = 3"
   ]
  },
  {
   "cell_type": "code",
   "execution_count": 54,
   "id": "568f0796",
   "metadata": {},
   "outputs": [
    {
     "name": "stderr",
     "output_type": "stream",
     "text": [
      "C:\\Users\\Asus\\anaconda3\\lib\\site-packages\\sklearn\\neighbors\\_classification.py:228: FutureWarning: Unlike other reduction functions (e.g. `skew`, `kurtosis`), the default behavior of `mode` typically preserves the axis it acts along. In SciPy 1.11.0, this behavior will change: the default value of `keepdims` will become False, the `axis` over which the statistic is taken will be eliminated, and the value None will no longer be accepted. Set `keepdims` to True or False to avoid this warning.\n",
      "  mode, _ = stats.mode(_y[neigh_ind, k], axis=1)\n"
     ]
    }
   ],
   "source": [
    "# using k value = 3, creating an instance\n",
    "knn = KNeighborsClassifier(n_neighbors=3) \n",
    "\n",
    "# creating model with training data\n",
    "knn_model = knn.fit(X_train, y_train) \n",
    "\n",
    "# finding the predicted values of test data using features of test data\n",
    "y_pred_knn = knn_model.predict(X_test) "
   ]
  },
  {
   "cell_type": "code",
   "execution_count": 55,
   "id": "491538aa",
   "metadata": {},
   "outputs": [
    {
     "name": "stdout",
     "output_type": "stream",
     "text": [
      "[[28848     4]\n",
      " [  143    20]]\n",
      "0.9949336550060314\n"
     ]
    }
   ],
   "source": [
    "# display confusion matrix\n",
    "print(confusion_matrix(y_test, y_pred_knn))\n",
    "\n",
    "# display accuracy score\n",
    "print(accuracy_score(y_test, y_pred_knn))"
   ]
  },
  {
   "cell_type": "code",
   "execution_count": 56,
   "id": "82b6ab45",
   "metadata": {},
   "outputs": [
    {
     "name": "stdout",
     "output_type": "stream",
     "text": [
      "0.8333333333333334\n"
     ]
    }
   ],
   "source": [
    "# precision score\n",
    "print(precision_score(y_test, y_pred_knn))"
   ]
  },
  {
   "cell_type": "code",
   "execution_count": 57,
   "id": "ca6b3459",
   "metadata": {},
   "outputs": [
    {
     "name": "stdout",
     "output_type": "stream",
     "text": [
      "0.12269938650306748\n"
     ]
    }
   ],
   "source": [
    "# recall score\n",
    "print(recall_score(y_test, y_pred_knn))"
   ]
  },
  {
   "cell_type": "markdown",
   "id": "4e58f6f4",
   "metadata": {},
   "source": [
    "#### 3) SVM MODEL"
   ]
  },
  {
   "cell_type": "markdown",
   "id": "e3599de8",
   "metadata": {},
   "source": [
    "##### (a) 'linear' kernel"
   ]
  },
  {
   "cell_type": "code",
   "execution_count": 58,
   "id": "bfb924df",
   "metadata": {},
   "outputs": [],
   "source": [
    "# creating an instance for SVM using linear kernel\n",
    "svm_lin = SVC(kernel = 'linear') "
   ]
  },
  {
   "cell_type": "code",
   "execution_count": 59,
   "id": "e0c13d40",
   "metadata": {},
   "outputs": [],
   "source": [
    "# creating model using training data\n",
    "svm_linmod = svm_lin.fit(X_train, y_train) "
   ]
  },
  {
   "cell_type": "code",
   "execution_count": 60,
   "id": "fccd6e88",
   "metadata": {},
   "outputs": [],
   "source": [
    "# predict the target of the test data using the features of test data\n",
    "y_pred_svmlin = svm_lin.predict(X_test) "
   ]
  },
  {
   "cell_type": "code",
   "execution_count": 61,
   "id": "db80c0fc",
   "metadata": {},
   "outputs": [
    {
     "data": {
      "text/plain": [
       "array([[28852,     0],\n",
       "       [  133,    30]], dtype=int64)"
      ]
     },
     "execution_count": 61,
     "metadata": {},
     "output_type": "execute_result"
    }
   ],
   "source": [
    "# display confusion matrix\n",
    "confusion_matrix(y_test, y_pred_svmlin)"
   ]
  },
  {
   "cell_type": "code",
   "execution_count": 62,
   "id": "286286c7",
   "metadata": {},
   "outputs": [
    {
     "data": {
      "text/plain": [
       "0.995416164053076"
      ]
     },
     "execution_count": 62,
     "metadata": {},
     "output_type": "execute_result"
    }
   ],
   "source": [
    "# display accuracy score\n",
    "accuracy_score(y_test, y_pred_svmlin)"
   ]
  },
  {
   "cell_type": "code",
   "execution_count": 63,
   "id": "356c91f0",
   "metadata": {},
   "outputs": [
    {
     "name": "stdout",
     "output_type": "stream",
     "text": [
      "1.0\n"
     ]
    }
   ],
   "source": [
    "# precision score\n",
    "print(precision_score(y_test, y_pred_svmlin))"
   ]
  },
  {
   "cell_type": "code",
   "execution_count": 64,
   "id": "164d7db6",
   "metadata": {},
   "outputs": [
    {
     "name": "stdout",
     "output_type": "stream",
     "text": [
      "0.18404907975460122\n"
     ]
    }
   ],
   "source": [
    "# recall score\n",
    "print(recall_score(y_test, y_pred_svmlin))"
   ]
  },
  {
   "cell_type": "markdown",
   "id": "c1a928f2",
   "metadata": {},
   "source": [
    "##### (b) 'rbf' kernel"
   ]
  },
  {
   "cell_type": "code",
   "execution_count": 65,
   "id": "131f12ff",
   "metadata": {},
   "outputs": [],
   "source": [
    " # creating an instance for SVM  using rbf kernel\n",
    "svm_rbf = SVC(kernel = 'rbf') "
   ]
  },
  {
   "cell_type": "code",
   "execution_count": 66,
   "id": "3ecb15cd",
   "metadata": {},
   "outputs": [],
   "source": [
    "# creating model using training data\n",
    "svm_rbfmod = svm_rbf.fit(X_train, y_train) "
   ]
  },
  {
   "cell_type": "code",
   "execution_count": 67,
   "id": "59d0ccd4",
   "metadata": {},
   "outputs": [],
   "source": [
    "# predict the target of the test data using the features of test data\n",
    "y_pred_svmrbf = svm_rbf.predict(X_test)"
   ]
  },
  {
   "cell_type": "code",
   "execution_count": 68,
   "id": "8774a28b",
   "metadata": {},
   "outputs": [
    {
     "data": {
      "text/plain": [
       "array([[28852,     0],\n",
       "       [  145,    18]], dtype=int64)"
      ]
     },
     "execution_count": 68,
     "metadata": {},
     "output_type": "execute_result"
    }
   ],
   "source": [
    "# display confusion matrix\n",
    "confusion_matrix(y_test, y_pred_svmrbf)"
   ]
  },
  {
   "cell_type": "code",
   "execution_count": 69,
   "id": "cf51ab03",
   "metadata": {},
   "outputs": [
    {
     "data": {
      "text/plain": [
       "0.9950025848698949"
      ]
     },
     "execution_count": 69,
     "metadata": {},
     "output_type": "execute_result"
    }
   ],
   "source": [
    "# display accuracy score\n",
    "accuracy_score(y_test, y_pred_svmrbf)"
   ]
  },
  {
   "cell_type": "code",
   "execution_count": 70,
   "id": "db0f050e",
   "metadata": {},
   "outputs": [
    {
     "name": "stdout",
     "output_type": "stream",
     "text": [
      "1.0\n"
     ]
    }
   ],
   "source": [
    "# precision score\n",
    "print(precision_score(y_test, y_pred_svmrbf))"
   ]
  },
  {
   "cell_type": "code",
   "execution_count": 71,
   "id": "04cde7af",
   "metadata": {},
   "outputs": [
    {
     "name": "stdout",
     "output_type": "stream",
     "text": [
      "0.11042944785276074\n"
     ]
    }
   ],
   "source": [
    "# recall score\n",
    "print(recall_score(y_test, y_pred_svmrbf))"
   ]
  },
  {
   "cell_type": "markdown",
   "id": "96f59c04",
   "metadata": {},
   "source": [
    "##### (c) 'polynomial' kernel"
   ]
  },
  {
   "cell_type": "code",
   "execution_count": 72,
   "id": "5d8d6a85",
   "metadata": {},
   "outputs": [],
   "source": [
    "# creating an instance for SVM  using 'polynomial' kernel\n",
    "svm_poly = SVC(kernel='poly') "
   ]
  },
  {
   "cell_type": "code",
   "execution_count": 73,
   "id": "77bef5f0",
   "metadata": {},
   "outputs": [],
   "source": [
    "# creating model using training data\n",
    "svm_polmod = svm_poly.fit(X_train, y_train) "
   ]
  },
  {
   "cell_type": "code",
   "execution_count": 74,
   "id": "de9f4efe",
   "metadata": {},
   "outputs": [],
   "source": [
    "# predict the target of the test data using the features of test data\n",
    "y_pred_svmpol = svm_poly.predict(X_test)"
   ]
  },
  {
   "cell_type": "code",
   "execution_count": 75,
   "id": "a35c2721",
   "metadata": {},
   "outputs": [
    {
     "data": {
      "text/plain": [
       "array([[28851,     1],\n",
       "       [  140,    23]], dtype=int64)"
      ]
     },
     "execution_count": 75,
     "metadata": {},
     "output_type": "execute_result"
    }
   ],
   "source": [
    "# display confusion matrix\n",
    "confusion_matrix(y_test, y_pred_svmpol)"
   ]
  },
  {
   "cell_type": "code",
   "execution_count": 76,
   "id": "39c11aad",
   "metadata": {},
   "outputs": [
    {
     "data": {
      "text/plain": [
       "0.995140444597622"
      ]
     },
     "execution_count": 76,
     "metadata": {},
     "output_type": "execute_result"
    }
   ],
   "source": [
    "# display accuracy score\n",
    "accuracy_score(y_test, y_pred_svmpol)"
   ]
  },
  {
   "cell_type": "code",
   "execution_count": 77,
   "id": "fb0f765f",
   "metadata": {},
   "outputs": [
    {
     "name": "stdout",
     "output_type": "stream",
     "text": [
      "0.9583333333333334\n"
     ]
    }
   ],
   "source": [
    "# precision score\n",
    "print(precision_score(y_test, y_pred_svmpol))"
   ]
  },
  {
   "cell_type": "code",
   "execution_count": 78,
   "id": "4d753ab3",
   "metadata": {},
   "outputs": [
    {
     "name": "stdout",
     "output_type": "stream",
     "text": [
      "0.1411042944785276\n"
     ]
    }
   ],
   "source": [
    "# recall score\n",
    "print(recall_score(y_test, y_pred_svmpol))"
   ]
  },
  {
   "cell_type": "markdown",
   "id": "edfcf9ac",
   "metadata": {},
   "source": [
    "#### 4) DECISION TREE"
   ]
  },
  {
   "cell_type": "code",
   "execution_count": 79,
   "id": "c25d7c64",
   "metadata": {},
   "outputs": [],
   "source": [
    "# creating an instance for decision tree classifier\n",
    "dec_tree = DecisionTreeClassifier(random_state=42) "
   ]
  },
  {
   "cell_type": "code",
   "execution_count": 80,
   "id": "ebfc00b2",
   "metadata": {},
   "outputs": [
    {
     "data": {
      "text/plain": [
       "DecisionTreeClassifier(random_state=42)"
      ]
     },
     "execution_count": 80,
     "metadata": {},
     "output_type": "execute_result"
    }
   ],
   "source": [
    "# creating model using training data \n",
    "dec_tree.fit(X_train, y_train)"
   ]
  },
  {
   "cell_type": "code",
   "execution_count": 81,
   "id": "9ee8acdc",
   "metadata": {},
   "outputs": [],
   "source": [
    "# predict the target of the test data using the features of test data\n",
    "y_pred_dectree = dec_tree.predict (X_test)"
   ]
  },
  {
   "cell_type": "code",
   "execution_count": 82,
   "id": "6795b55e",
   "metadata": {},
   "outputs": [
    {
     "data": {
      "text/plain": [
       "array([[28744,   108],\n",
       "       [  106,    57]], dtype=int64)"
      ]
     },
     "execution_count": 82,
     "metadata": {},
     "output_type": "execute_result"
    }
   ],
   "source": [
    "# display confusion matrix\n",
    "confusion_matrix(y_test, y_pred_dectree)"
   ]
  },
  {
   "cell_type": "code",
   "execution_count": 83,
   "id": "08537276",
   "metadata": {},
   "outputs": [
    {
     "data": {
      "text/plain": [
       "0.9926245045666034"
      ]
     },
     "execution_count": 83,
     "metadata": {},
     "output_type": "execute_result"
    }
   ],
   "source": [
    "# display accuracy score\n",
    "accuracy_score(y_test, y_pred_dectree)"
   ]
  },
  {
   "cell_type": "code",
   "execution_count": 84,
   "id": "68cd89c8",
   "metadata": {},
   "outputs": [
    {
     "name": "stdout",
     "output_type": "stream",
     "text": [
      "0.34545454545454546\n"
     ]
    }
   ],
   "source": [
    "# precision score\n",
    "print(precision_score(y_test, y_pred_dectree))"
   ]
  },
  {
   "cell_type": "code",
   "execution_count": 85,
   "id": "4bb7770d",
   "metadata": {},
   "outputs": [
    {
     "name": "stdout",
     "output_type": "stream",
     "text": [
      "0.3496932515337423\n"
     ]
    }
   ],
   "source": [
    "# recall score\n",
    "print(recall_score(y_test, y_pred_dectree))"
   ]
  },
  {
   "cell_type": "markdown",
   "id": "1571d0cb",
   "metadata": {},
   "source": [
    "#### 5) RANDOM FOREST"
   ]
  },
  {
   "cell_type": "code",
   "execution_count": 86,
   "id": "8f310d87",
   "metadata": {},
   "outputs": [],
   "source": [
    "# creating an instance for random forest classifier\n",
    "ran_for = RandomForestClassifier(random_state=42)"
   ]
  },
  {
   "cell_type": "code",
   "execution_count": 87,
   "id": "ff45e3b1",
   "metadata": {},
   "outputs": [
    {
     "data": {
      "text/plain": [
       "RandomForestClassifier(random_state=42)"
      ]
     },
     "execution_count": 87,
     "metadata": {},
     "output_type": "execute_result"
    }
   ],
   "source": [
    "# creating model using training data \n",
    "ran_for.fit(X_train, y_train)"
   ]
  },
  {
   "cell_type": "code",
   "execution_count": 88,
   "id": "3133fea1",
   "metadata": {},
   "outputs": [],
   "source": [
    "# predict the target of the test data using the features of test data\n",
    "y_pred_ranfor = ran_for.predict (X_test)"
   ]
  },
  {
   "cell_type": "code",
   "execution_count": 89,
   "id": "8658f1cb",
   "metadata": {},
   "outputs": [
    {
     "data": {
      "text/plain": [
       "array([[28842,    10],\n",
       "       [  109,    54]], dtype=int64)"
      ]
     },
     "execution_count": 89,
     "metadata": {},
     "output_type": "execute_result"
    }
   ],
   "source": [
    "# display confusion matrix\n",
    "confusion_matrix(y_test, y_pred_ranfor)"
   ]
  },
  {
   "cell_type": "code",
   "execution_count": 90,
   "id": "f4465b84",
   "metadata": {},
   "outputs": [
    {
     "data": {
      "text/plain": [
       "0.9958986731001206"
      ]
     },
     "execution_count": 90,
     "metadata": {},
     "output_type": "execute_result"
    }
   ],
   "source": [
    "# display accuracy score\n",
    "accuracy_score(y_test, y_pred_ranfor)"
   ]
  },
  {
   "cell_type": "code",
   "execution_count": 91,
   "id": "db8ec6b4",
   "metadata": {},
   "outputs": [
    {
     "name": "stdout",
     "output_type": "stream",
     "text": [
      "0.84375\n"
     ]
    }
   ],
   "source": [
    "# precision score\n",
    "print(precision_score(y_test, y_pred_ranfor))"
   ]
  },
  {
   "cell_type": "code",
   "execution_count": 92,
   "id": "563e0baf",
   "metadata": {},
   "outputs": [
    {
     "name": "stdout",
     "output_type": "stream",
     "text": [
      "0.3312883435582822\n"
     ]
    }
   ],
   "source": [
    "# recall score\n",
    "print(recall_score(y_test, y_pred_ranfor))"
   ]
  },
  {
   "cell_type": "markdown",
   "id": "4a3eb64a",
   "metadata": {},
   "source": [
    "ACCURACY SCORE\n",
    "******\n",
    "1) LOGISTIC REGRESSION - 0.9953127692572807\n",
    "\n",
    "2) kNN MODEL - 0.9949336550060314\n",
    "\n",
    "3) SVM MODEL,  (a) 'linear' kernel - 0.995416164053076,\n",
    "               (b) 'rbf' kernel - 0.9950025848698949,\n",
    "               (c) 'polynomial' kernel - 0.995140444597622\n",
    "               \n",
    "4) DECISION TREE - 0.9926245045666034\n",
    "\n",
    "5) RANDOM FOREST - 0.9958986731001206"
   ]
  },
  {
   "cell_type": "markdown",
   "id": "f7b687c7",
   "metadata": {},
   "source": [
    "~ Highest accuracy score obtained for Random Forest"
   ]
  }
 ],
 "metadata": {
  "kernelspec": {
   "display_name": "Python 3 (ipykernel)",
   "language": "python",
   "name": "python3"
  },
  "language_info": {
   "codemirror_mode": {
    "name": "ipython",
    "version": 3
   },
   "file_extension": ".py",
   "mimetype": "text/x-python",
   "name": "python",
   "nbconvert_exporter": "python",
   "pygments_lexer": "ipython3",
   "version": "3.9.13"
  }
 },
 "nbformat": 4,
 "nbformat_minor": 5
}
