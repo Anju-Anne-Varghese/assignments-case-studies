{
 "cells": [
  {
   "cell_type": "markdown",
   "id": "4dbe4971",
   "metadata": {},
   "source": [
    "# CANCER DATASET"
   ]
  },
  {
   "cell_type": "code",
   "execution_count": 279,
   "id": "3677064c",
   "metadata": {},
   "outputs": [],
   "source": [
    "# importing libraries\n",
    "import pandas as pd\n",
    "import numpy as np\n",
    "import matplotlib.pyplot as plt\n",
    "import seaborn as sns\n",
    "from sklearn.preprocessing import LabelEncoder\n",
    "from sklearn.preprocessing import MinMaxScaler\n",
    "from sklearn.model_selection import train_test_split\n",
    "from sklearn.linear_model import LogisticRegression\n",
    "from sklearn.neighbors import KNeighborsClassifier\n",
    "from sklearn.svm import SVC\n",
    "from sklearn.tree import DecisionTreeClassifier\n",
    "from sklearn.ensemble import RandomForestClassifier\n",
    "from sklearn. metrics import confusion_matrix, precision_score, recall_score, f1_score, accuracy_score\n"
   ]
  },
  {
   "cell_type": "code",
   "execution_count": 280,
   "id": "c25767e6",
   "metadata": {},
   "outputs": [],
   "source": [
    "# loading into python\n",
    "data = pd.read_csv('C:/Users/Lenovo/NORKA/06th jan 2023/DATA/cancer_dataset.csv')"
   ]
  },
  {
   "cell_type": "code",
   "execution_count": 281,
   "id": "1b7ca4f6",
   "metadata": {},
   "outputs": [
    {
     "name": "stdout",
     "output_type": "stream",
     "text": [
      "<class 'pandas.core.frame.DataFrame'>\n",
      "RangeIndex: 569 entries, 0 to 568\n",
      "Data columns (total 33 columns):\n",
      " #   Column                   Non-Null Count  Dtype  \n",
      "---  ------                   --------------  -----  \n",
      " 0   id                       569 non-null    int64  \n",
      " 1   diagnosis                569 non-null    object \n",
      " 2   radius_mean              569 non-null    float64\n",
      " 3   texture_mean             569 non-null    float64\n",
      " 4   perimeter_mean           569 non-null    float64\n",
      " 5   area_mean                569 non-null    float64\n",
      " 6   smoothness_mean          569 non-null    float64\n",
      " 7   compactness_mean         569 non-null    float64\n",
      " 8   concavity_mean           569 non-null    float64\n",
      " 9   concave points_mean      569 non-null    float64\n",
      " 10  symmetry_mean            569 non-null    float64\n",
      " 11  fractal_dimension_mean   569 non-null    float64\n",
      " 12  radius_se                569 non-null    float64\n",
      " 13  texture_se               569 non-null    float64\n",
      " 14  perimeter_se             569 non-null    float64\n",
      " 15  area_se                  569 non-null    float64\n",
      " 16  smoothness_se            569 non-null    float64\n",
      " 17  compactness_se           569 non-null    float64\n",
      " 18  concavity_se             569 non-null    float64\n",
      " 19  concave points_se        569 non-null    float64\n",
      " 20  symmetry_se              569 non-null    float64\n",
      " 21  fractal_dimension_se     569 non-null    float64\n",
      " 22  radius_worst             569 non-null    float64\n",
      " 23  texture_worst            569 non-null    float64\n",
      " 24  perimeter_worst          569 non-null    float64\n",
      " 25  area_worst               569 non-null    float64\n",
      " 26  smoothness_worst         569 non-null    float64\n",
      " 27  compactness_worst        569 non-null    float64\n",
      " 28  concavity_worst          569 non-null    float64\n",
      " 29  concave points_worst     569 non-null    float64\n",
      " 30  symmetry_worst           569 non-null    float64\n",
      " 31  fractal_dimension_worst  569 non-null    float64\n",
      " 32  Unnamed: 32              0 non-null      float64\n",
      "dtypes: float64(31), int64(1), object(1)\n",
      "memory usage: 146.8+ KB\n"
     ]
    }
   ],
   "source": [
    "# Print information about the dataframe 'data'\n",
    "data.info()"
   ]
  },
  {
   "cell_type": "markdown",
   "id": "2a8476d5",
   "metadata": {},
   "source": [
    "~diagnosis is a categorical column\n"
   ]
  },
  {
   "cell_type": "markdown",
   "id": "250e4654",
   "metadata": {},
   "source": [
    "### CHECKING FOR NULL VALUES"
   ]
  },
  {
   "cell_type": "code",
   "execution_count": 282,
   "id": "7db3eee5",
   "metadata": {},
   "outputs": [
    {
     "data": {
      "text/plain": [
       "id                           0\n",
       "diagnosis                    0\n",
       "radius_mean                  0\n",
       "texture_mean                 0\n",
       "perimeter_mean               0\n",
       "area_mean                    0\n",
       "smoothness_mean              0\n",
       "compactness_mean             0\n",
       "concavity_mean               0\n",
       "concave points_mean          0\n",
       "symmetry_mean                0\n",
       "fractal_dimension_mean       0\n",
       "radius_se                    0\n",
       "texture_se                   0\n",
       "perimeter_se                 0\n",
       "area_se                      0\n",
       "smoothness_se                0\n",
       "compactness_se               0\n",
       "concavity_se                 0\n",
       "concave points_se            0\n",
       "symmetry_se                  0\n",
       "fractal_dimension_se         0\n",
       "radius_worst                 0\n",
       "texture_worst                0\n",
       "perimeter_worst              0\n",
       "area_worst                   0\n",
       "smoothness_worst             0\n",
       "compactness_worst            0\n",
       "concavity_worst              0\n",
       "concave points_worst         0\n",
       "symmetry_worst               0\n",
       "fractal_dimension_worst      0\n",
       "Unnamed: 32                569\n",
       "dtype: int64"
      ]
     },
     "execution_count": 282,
     "metadata": {},
     "output_type": "execute_result"
    }
   ],
   "source": [
    "# number of null values in the dataframe 'data'\n",
    "data.isnull().sum()"
   ]
  },
  {
   "cell_type": "markdown",
   "id": "564da704",
   "metadata": {},
   "source": [
    "~ There are 569 rows and 'Unnamed: 32' column is having 569 null values"
   ]
  },
  {
   "cell_type": "code",
   "execution_count": 283,
   "id": "dde5d39d",
   "metadata": {},
   "outputs": [
    {
     "data": {
      "text/html": [
       "<div>\n",
       "<style scoped>\n",
       "    .dataframe tbody tr th:only-of-type {\n",
       "        vertical-align: middle;\n",
       "    }\n",
       "\n",
       "    .dataframe tbody tr th {\n",
       "        vertical-align: top;\n",
       "    }\n",
       "\n",
       "    .dataframe thead th {\n",
       "        text-align: right;\n",
       "    }\n",
       "</style>\n",
       "<table border=\"1\" class=\"dataframe\">\n",
       "  <thead>\n",
       "    <tr style=\"text-align: right;\">\n",
       "      <th></th>\n",
       "      <th>id</th>\n",
       "      <th>diagnosis</th>\n",
       "      <th>radius_mean</th>\n",
       "      <th>texture_mean</th>\n",
       "      <th>perimeter_mean</th>\n",
       "      <th>area_mean</th>\n",
       "      <th>smoothness_mean</th>\n",
       "      <th>compactness_mean</th>\n",
       "      <th>concavity_mean</th>\n",
       "      <th>concave points_mean</th>\n",
       "      <th>...</th>\n",
       "      <th>texture_worst</th>\n",
       "      <th>perimeter_worst</th>\n",
       "      <th>area_worst</th>\n",
       "      <th>smoothness_worst</th>\n",
       "      <th>compactness_worst</th>\n",
       "      <th>concavity_worst</th>\n",
       "      <th>concave points_worst</th>\n",
       "      <th>symmetry_worst</th>\n",
       "      <th>fractal_dimension_worst</th>\n",
       "      <th>Unnamed: 32</th>\n",
       "    </tr>\n",
       "  </thead>\n",
       "  <tbody>\n",
       "    <tr>\n",
       "      <th>0</th>\n",
       "      <td>842302</td>\n",
       "      <td>M</td>\n",
       "      <td>17.99</td>\n",
       "      <td>10.38</td>\n",
       "      <td>122.80</td>\n",
       "      <td>1001.0</td>\n",
       "      <td>0.11840</td>\n",
       "      <td>0.27760</td>\n",
       "      <td>0.3001</td>\n",
       "      <td>0.14710</td>\n",
       "      <td>...</td>\n",
       "      <td>17.33</td>\n",
       "      <td>184.60</td>\n",
       "      <td>2019.0</td>\n",
       "      <td>0.1622</td>\n",
       "      <td>0.6656</td>\n",
       "      <td>0.7119</td>\n",
       "      <td>0.2654</td>\n",
       "      <td>0.4601</td>\n",
       "      <td>0.11890</td>\n",
       "      <td>NaN</td>\n",
       "    </tr>\n",
       "    <tr>\n",
       "      <th>1</th>\n",
       "      <td>842517</td>\n",
       "      <td>M</td>\n",
       "      <td>20.57</td>\n",
       "      <td>17.77</td>\n",
       "      <td>132.90</td>\n",
       "      <td>1326.0</td>\n",
       "      <td>0.08474</td>\n",
       "      <td>0.07864</td>\n",
       "      <td>0.0869</td>\n",
       "      <td>0.07017</td>\n",
       "      <td>...</td>\n",
       "      <td>23.41</td>\n",
       "      <td>158.80</td>\n",
       "      <td>1956.0</td>\n",
       "      <td>0.1238</td>\n",
       "      <td>0.1866</td>\n",
       "      <td>0.2416</td>\n",
       "      <td>0.1860</td>\n",
       "      <td>0.2750</td>\n",
       "      <td>0.08902</td>\n",
       "      <td>NaN</td>\n",
       "    </tr>\n",
       "    <tr>\n",
       "      <th>2</th>\n",
       "      <td>84300903</td>\n",
       "      <td>M</td>\n",
       "      <td>19.69</td>\n",
       "      <td>21.25</td>\n",
       "      <td>130.00</td>\n",
       "      <td>1203.0</td>\n",
       "      <td>0.10960</td>\n",
       "      <td>0.15990</td>\n",
       "      <td>0.1974</td>\n",
       "      <td>0.12790</td>\n",
       "      <td>...</td>\n",
       "      <td>25.53</td>\n",
       "      <td>152.50</td>\n",
       "      <td>1709.0</td>\n",
       "      <td>0.1444</td>\n",
       "      <td>0.4245</td>\n",
       "      <td>0.4504</td>\n",
       "      <td>0.2430</td>\n",
       "      <td>0.3613</td>\n",
       "      <td>0.08758</td>\n",
       "      <td>NaN</td>\n",
       "    </tr>\n",
       "    <tr>\n",
       "      <th>3</th>\n",
       "      <td>84348301</td>\n",
       "      <td>M</td>\n",
       "      <td>11.42</td>\n",
       "      <td>20.38</td>\n",
       "      <td>77.58</td>\n",
       "      <td>386.1</td>\n",
       "      <td>0.14250</td>\n",
       "      <td>0.28390</td>\n",
       "      <td>0.2414</td>\n",
       "      <td>0.10520</td>\n",
       "      <td>...</td>\n",
       "      <td>26.50</td>\n",
       "      <td>98.87</td>\n",
       "      <td>567.7</td>\n",
       "      <td>0.2098</td>\n",
       "      <td>0.8663</td>\n",
       "      <td>0.6869</td>\n",
       "      <td>0.2575</td>\n",
       "      <td>0.6638</td>\n",
       "      <td>0.17300</td>\n",
       "      <td>NaN</td>\n",
       "    </tr>\n",
       "    <tr>\n",
       "      <th>4</th>\n",
       "      <td>84358402</td>\n",
       "      <td>M</td>\n",
       "      <td>20.29</td>\n",
       "      <td>14.34</td>\n",
       "      <td>135.10</td>\n",
       "      <td>1297.0</td>\n",
       "      <td>0.10030</td>\n",
       "      <td>0.13280</td>\n",
       "      <td>0.1980</td>\n",
       "      <td>0.10430</td>\n",
       "      <td>...</td>\n",
       "      <td>16.67</td>\n",
       "      <td>152.20</td>\n",
       "      <td>1575.0</td>\n",
       "      <td>0.1374</td>\n",
       "      <td>0.2050</td>\n",
       "      <td>0.4000</td>\n",
       "      <td>0.1625</td>\n",
       "      <td>0.2364</td>\n",
       "      <td>0.07678</td>\n",
       "      <td>NaN</td>\n",
       "    </tr>\n",
       "  </tbody>\n",
       "</table>\n",
       "<p>5 rows × 33 columns</p>\n",
       "</div>"
      ],
      "text/plain": [
       "         id diagnosis  radius_mean  texture_mean  perimeter_mean  area_mean  \\\n",
       "0    842302         M        17.99         10.38          122.80     1001.0   \n",
       "1    842517         M        20.57         17.77          132.90     1326.0   \n",
       "2  84300903         M        19.69         21.25          130.00     1203.0   \n",
       "3  84348301         M        11.42         20.38           77.58      386.1   \n",
       "4  84358402         M        20.29         14.34          135.10     1297.0   \n",
       "\n",
       "   smoothness_mean  compactness_mean  concavity_mean  concave points_mean  \\\n",
       "0          0.11840           0.27760          0.3001              0.14710   \n",
       "1          0.08474           0.07864          0.0869              0.07017   \n",
       "2          0.10960           0.15990          0.1974              0.12790   \n",
       "3          0.14250           0.28390          0.2414              0.10520   \n",
       "4          0.10030           0.13280          0.1980              0.10430   \n",
       "\n",
       "   ...  texture_worst  perimeter_worst  area_worst  smoothness_worst  \\\n",
       "0  ...          17.33           184.60      2019.0            0.1622   \n",
       "1  ...          23.41           158.80      1956.0            0.1238   \n",
       "2  ...          25.53           152.50      1709.0            0.1444   \n",
       "3  ...          26.50            98.87       567.7            0.2098   \n",
       "4  ...          16.67           152.20      1575.0            0.1374   \n",
       "\n",
       "   compactness_worst  concavity_worst  concave points_worst  symmetry_worst  \\\n",
       "0             0.6656           0.7119                0.2654          0.4601   \n",
       "1             0.1866           0.2416                0.1860          0.2750   \n",
       "2             0.4245           0.4504                0.2430          0.3613   \n",
       "3             0.8663           0.6869                0.2575          0.6638   \n",
       "4             0.2050           0.4000                0.1625          0.2364   \n",
       "\n",
       "   fractal_dimension_worst  Unnamed: 32  \n",
       "0                  0.11890          NaN  \n",
       "1                  0.08902          NaN  \n",
       "2                  0.08758          NaN  \n",
       "3                  0.17300          NaN  \n",
       "4                  0.07678          NaN  \n",
       "\n",
       "[5 rows x 33 columns]"
      ]
     },
     "execution_count": 283,
     "metadata": {},
     "output_type": "execute_result"
    }
   ],
   "source": [
    "# display the first 5 rows of the dataframe\n",
    "data.head()"
   ]
  },
  {
   "cell_type": "markdown",
   "id": "aaa8a541",
   "metadata": {},
   "source": [
    "### CHECKING FOR DUPLICATES"
   ]
  },
  {
   "cell_type": "code",
   "execution_count": 284,
   "id": "b078ba35",
   "metadata": {},
   "outputs": [
    {
     "data": {
      "text/html": [
       "<div>\n",
       "<style scoped>\n",
       "    .dataframe tbody tr th:only-of-type {\n",
       "        vertical-align: middle;\n",
       "    }\n",
       "\n",
       "    .dataframe tbody tr th {\n",
       "        vertical-align: top;\n",
       "    }\n",
       "\n",
       "    .dataframe thead th {\n",
       "        text-align: right;\n",
       "    }\n",
       "</style>\n",
       "<table border=\"1\" class=\"dataframe\">\n",
       "  <thead>\n",
       "    <tr style=\"text-align: right;\">\n",
       "      <th></th>\n",
       "      <th>id</th>\n",
       "      <th>diagnosis</th>\n",
       "      <th>radius_mean</th>\n",
       "      <th>texture_mean</th>\n",
       "      <th>perimeter_mean</th>\n",
       "      <th>area_mean</th>\n",
       "      <th>smoothness_mean</th>\n",
       "      <th>compactness_mean</th>\n",
       "      <th>concavity_mean</th>\n",
       "      <th>concave points_mean</th>\n",
       "      <th>...</th>\n",
       "      <th>texture_worst</th>\n",
       "      <th>perimeter_worst</th>\n",
       "      <th>area_worst</th>\n",
       "      <th>smoothness_worst</th>\n",
       "      <th>compactness_worst</th>\n",
       "      <th>concavity_worst</th>\n",
       "      <th>concave points_worst</th>\n",
       "      <th>symmetry_worst</th>\n",
       "      <th>fractal_dimension_worst</th>\n",
       "      <th>Unnamed: 32</th>\n",
       "    </tr>\n",
       "  </thead>\n",
       "  <tbody>\n",
       "  </tbody>\n",
       "</table>\n",
       "<p>0 rows × 33 columns</p>\n",
       "</div>"
      ],
      "text/plain": [
       "Empty DataFrame\n",
       "Columns: [id, diagnosis, radius_mean, texture_mean, perimeter_mean, area_mean, smoothness_mean, compactness_mean, concavity_mean, concave points_mean, symmetry_mean, fractal_dimension_mean, radius_se, texture_se, perimeter_se, area_se, smoothness_se, compactness_se, concavity_se, concave points_se, symmetry_se, fractal_dimension_se, radius_worst, texture_worst, perimeter_worst, area_worst, smoothness_worst, compactness_worst, concavity_worst, concave points_worst, symmetry_worst, fractal_dimension_worst, Unnamed: 32]\n",
       "Index: []\n",
       "\n",
       "[0 rows x 33 columns]"
      ]
     },
     "execution_count": 284,
     "metadata": {},
     "output_type": "execute_result"
    }
   ],
   "source": [
    "# display the rows having duplicates \n",
    "data[data.duplicated()]"
   ]
  },
  {
   "cell_type": "markdown",
   "id": "d2f87e19",
   "metadata": {},
   "source": [
    "~ no duplicates found"
   ]
  },
  {
   "cell_type": "code",
   "execution_count": 285,
   "id": "506e3e22",
   "metadata": {},
   "outputs": [
    {
     "data": {
      "text/plain": [
       "569"
      ]
     },
     "execution_count": 285,
     "metadata": {},
     "output_type": "execute_result"
    }
   ],
   "source": [
    "# count of unique values\n",
    "data['id'].nunique()"
   ]
  },
  {
   "cell_type": "markdown",
   "id": "801f9878",
   "metadata": {},
   "source": [
    "~ remove 'Unnamed: 32' column since it is having 569 null values\n",
    "\n",
    "~ remove 'id' column since it is having 569 unique values and there are only 569 rows present in the dataframe, hence each row in that particular column is containing a unique value. It cannot contribute to the machine learning model."
   ]
  },
  {
   "cell_type": "code",
   "execution_count": 286,
   "id": "1635f4da",
   "metadata": {},
   "outputs": [],
   "source": [
    "# removing 'Unnamed: 32', 'id' columns\n",
    "data = data.drop(['Unnamed: 32', 'id'], axis = 1)"
   ]
  },
  {
   "cell_type": "code",
   "execution_count": 287,
   "id": "473ab444",
   "metadata": {},
   "outputs": [
    {
     "data": {
      "text/plain": [
       "(569, 31)"
      ]
     },
     "execution_count": 287,
     "metadata": {},
     "output_type": "execute_result"
    }
   ],
   "source": [
    "# count of rows and columns\n",
    "data.shape"
   ]
  },
  {
   "cell_type": "code",
   "execution_count": 288,
   "id": "0634c471",
   "metadata": {},
   "outputs": [
    {
     "data": {
      "text/plain": [
       "Index(['diagnosis', 'radius_mean', 'texture_mean', 'perimeter_mean',\n",
       "       'area_mean', 'smoothness_mean', 'compactness_mean', 'concavity_mean',\n",
       "       'concave points_mean', 'symmetry_mean', 'fractal_dimension_mean',\n",
       "       'radius_se', 'texture_se', 'perimeter_se', 'area_se', 'smoothness_se',\n",
       "       'compactness_se', 'concavity_se', 'concave points_se', 'symmetry_se',\n",
       "       'fractal_dimension_se', 'radius_worst', 'texture_worst',\n",
       "       'perimeter_worst', 'area_worst', 'smoothness_worst',\n",
       "       'compactness_worst', 'concavity_worst', 'concave points_worst',\n",
       "       'symmetry_worst', 'fractal_dimension_worst'],\n",
       "      dtype='object')"
      ]
     },
     "execution_count": 288,
     "metadata": {},
     "output_type": "execute_result"
    }
   ],
   "source": [
    "# displaying column names\n",
    "data.columns"
   ]
  },
  {
   "cell_type": "markdown",
   "id": "db143665",
   "metadata": {},
   "source": [
    "### CHECKING FOR OUTLIERS "
   ]
  },
  {
   "cell_type": "markdown",
   "id": "a0a528bb",
   "metadata": {},
   "source": [
    "##### 'Outliers' in 'radius_mean' column"
   ]
  },
  {
   "cell_type": "code",
   "execution_count": 289,
   "id": "f5452494",
   "metadata": {},
   "outputs": [
    {
     "data": {
      "image/png": "[encoded data removed]",
      "text/plain": [
       "<Figure size 640x480 with 1 Axes>"
      ]
     },
     "metadata": {},
     "output_type": "display_data"
    }
   ],
   "source": [
    "# Boxplot of 'radius_mean' column to check outliers\n",
    "plt.boxplot(data['radius_mean'])\n",
    "\n",
    "# display title\n",
    "plt.title(\"Boxplot of radius_mean\")\n",
    "\n",
    "# display figures\n",
    "plt.show()"
   ]
  },
  {
   "cell_type": "code",
   "execution_count": 290,
   "id": "2b780b64",
   "metadata": {},
   "outputs": [
    {
     "data": {
      "text/plain": [
       "\"First Quartile of 'radius_mean' column = 11.7\""
      ]
     },
     "execution_count": 290,
     "metadata": {},
     "output_type": "execute_result"
    }
   ],
   "source": [
    "# First Quartile of 'radius_mean' column\n",
    "Q1_rm = np.percentile(data['radius_mean'], 25, interpolation='midpoint')\n",
    "f\"First Quartile of 'radius_mean' column = {Q1_rm}\"\n"
   ]
  },
  {
   "cell_type": "code",
   "execution_count": 291,
   "id": "3c29f265",
   "metadata": {},
   "outputs": [
    {
     "data": {
      "text/plain": [
       "\"Second Quartile of 'radius_mean' column = 13.37\""
      ]
     },
     "execution_count": 291,
     "metadata": {},
     "output_type": "execute_result"
    }
   ],
   "source": [
    "# Second Quartile of 'radius_mean' column\n",
    "Q2_rm = np.percentile(data['radius_mean'], 50, interpolation='midpoint')\n",
    "f\"Second Quartile of 'radius_mean' column = {Q2_rm}\""
   ]
  },
  {
   "cell_type": "code",
   "execution_count": 292,
   "id": "a24a3241",
   "metadata": {},
   "outputs": [
    {
     "data": {
      "text/plain": [
       "\"Third Quartile of 'radius_mean' column = 15.78\""
      ]
     },
     "execution_count": 292,
     "metadata": {},
     "output_type": "execute_result"
    }
   ],
   "source": [
    "# Third Quartile of 'radius_mean' column\n",
    "Q3_rm = np.percentile(data['radius_mean'], 75, interpolation='midpoint')\n",
    "f\"Third Quartile of 'radius_mean' column = {Q3_rm}\""
   ]
  },
  {
   "cell_type": "code",
   "execution_count": 293,
   "id": "b9586fea",
   "metadata": {},
   "outputs": [
    {
     "data": {
      "text/plain": [
       "\"IQR of 'radius_mean' column = 4.08\""
      ]
     },
     "execution_count": 293,
     "metadata": {},
     "output_type": "execute_result"
    }
   ],
   "source": [
    "# (interquartile range) IQR of  'radius_mean' column\n",
    "IQR_rm = Q3_rm-Q1_rm\n",
    "f\"IQR of 'radius_mean' column = {IQR_rm}\""
   ]
  },
  {
   "cell_type": "code",
   "execution_count": 294,
   "id": "9020daad",
   "metadata": {},
   "outputs": [
    {
     "data": {
      "text/plain": [
       "\"lower whisker of 'radius_mean'  column = 5.579999999999999\""
      ]
     },
     "execution_count": 294,
     "metadata": {},
     "output_type": "execute_result"
    }
   ],
   "source": [
    "# lower whisker of 'radius_mean'  column\n",
    "low_rm = Q1_rm-1.5*IQR_rm \n",
    "f\"lower whisker of 'radius_mean'  column = {low_rm}\""
   ]
  },
  {
   "cell_type": "code",
   "execution_count": 295,
   "id": "90a8c167",
   "metadata": {},
   "outputs": [
    {
     "data": {
      "text/plain": [
       "\"upper whisker of 'radius_mean' column = 21.9\""
      ]
     },
     "execution_count": 295,
     "metadata": {},
     "output_type": "execute_result"
    }
   ],
   "source": [
    "# upper whisker of 'radius_mean' column\n",
    "up_rm = Q3_rm+1.5*IQR_rm\n",
    "f\"upper whisker of 'radius_mean' column = {up_rm}\""
   ]
  },
  {
   "cell_type": "code",
   "execution_count": 296,
   "id": "c7ad41ca",
   "metadata": {},
   "outputs": [
    {
     "data": {
      "text/plain": [
       "\"Outliers of 'radius_mean' column = [25.22, 22.27, 24.25, 23.27, 27.22, 23.29, 28.11, 23.21, 23.51, 25.73, 22.01, 27.42, 23.09, 24.63]\""
      ]
     },
     "execution_count": 296,
     "metadata": {},
     "output_type": "execute_result"
    }
   ],
   "source": [
    "# to find the outliers  in 'radius_mean' column and display it\n",
    "outlier_rm = [] \n",
    "for x_rm in data['radius_mean']:\n",
    "    if((x_rm>up_rm) or (x_rm<low_rm)):\n",
    "        outlier_rm.append(x_rm)\n",
    "f\"Outliers of 'radius_mean' column = {outlier_rm}\"\n"
   ]
  },
  {
   "cell_type": "markdown",
   "id": "22f141a5",
   "metadata": {},
   "source": [
    "##### 'Outliers' in 'texture_mean' column"
   ]
  },
  {
   "cell_type": "code",
   "execution_count": 297,
   "id": "4765b8d5",
   "metadata": {},
   "outputs": [
    {
     "data": {
      "image/png": "[encoded data removed]",
      "text/plain": [
       "<Figure size 640x480 with 1 Axes>"
      ]
     },
     "metadata": {},
     "output_type": "display_data"
    }
   ],
   "source": [
    "# Boxplot of 'texture_mean' column to check outliers\n",
    "plt.boxplot(data['texture_mean'])\n",
    "\n",
    "# display title\n",
    "plt.title(\"Boxplot of texture_mean\")\n",
    "\n",
    "# display figures\n",
    "plt.show()"
   ]
  },
  {
   "cell_type": "code",
   "execution_count": 298,
   "id": "ad01823b",
   "metadata": {},
   "outputs": [
    {
     "data": {
      "text/plain": [
       "\"First Quartile of 'texture_mean' column = 16.17\""
      ]
     },
     "execution_count": 298,
     "metadata": {},
     "output_type": "execute_result"
    }
   ],
   "source": [
    "# First Quartile of 'texture_mean' column\n",
    "Q1_tm = np.percentile(data['texture_mean'], 25, interpolation='midpoint')\n",
    "f\"First Quartile of 'texture_mean' column = {Q1_tm}\""
   ]
  },
  {
   "cell_type": "code",
   "execution_count": 299,
   "id": "12c043c3",
   "metadata": {},
   "outputs": [
    {
     "data": {
      "text/plain": [
       "\"Second Quartile of 'texture_mean' column = 18.84\""
      ]
     },
     "execution_count": 299,
     "metadata": {},
     "output_type": "execute_result"
    }
   ],
   "source": [
    "# Second Quartile of 'texture_mean' column\n",
    "Q2_tm = np.percentile(data['texture_mean'], 50, interpolation='midpoint')\n",
    "f\"Second Quartile of 'texture_mean' column = {Q2_tm}\""
   ]
  },
  {
   "cell_type": "code",
   "execution_count": 300,
   "id": "945f30b2",
   "metadata": {},
   "outputs": [
    {
     "data": {
      "text/plain": [
       "\"Third Quartile of 'texture_mean' column = 21.8\""
      ]
     },
     "execution_count": 300,
     "metadata": {},
     "output_type": "execute_result"
    }
   ],
   "source": [
    "# Third Quartile of 'texture_mean' column\n",
    "Q3_tm = np.percentile(data['texture_mean'], 75, interpolation='midpoint')\n",
    "f\"Third Quartile of 'texture_mean' column = {Q3_tm}\""
   ]
  },
  {
   "cell_type": "code",
   "execution_count": 301,
   "id": "d6001bad",
   "metadata": {},
   "outputs": [
    {
     "data": {
      "text/plain": [
       "\"IQR of 'texture_mean' column = 5.629999999999999\""
      ]
     },
     "execution_count": 301,
     "metadata": {},
     "output_type": "execute_result"
    }
   ],
   "source": [
    "# (interquartile range) IQR of  'texture_mean' column\n",
    "IQR_tm = Q3_tm-Q1_tm\n",
    "f\"IQR of 'texture_mean' column = {IQR_tm}\""
   ]
  },
  {
   "cell_type": "code",
   "execution_count": 302,
   "id": "4990fcb1",
   "metadata": {},
   "outputs": [
    {
     "data": {
      "text/plain": [
       "\"lower whisker of 'texture_mean'  column = 7.725000000000003\""
      ]
     },
     "execution_count": 302,
     "metadata": {},
     "output_type": "execute_result"
    }
   ],
   "source": [
    "# lower whisker of 'texture_mean'  column\n",
    "low_tm = Q1_tm-1.5*IQR_tm \n",
    "f\"lower whisker of 'texture_mean'  column = {low_tm}\""
   ]
  },
  {
   "cell_type": "code",
   "execution_count": 303,
   "id": "85a42ef2",
   "metadata": {},
   "outputs": [
    {
     "data": {
      "text/plain": [
       "\"upper whisker of 'texture_mean' column = 30.244999999999997\""
      ]
     },
     "execution_count": 303,
     "metadata": {},
     "output_type": "execute_result"
    }
   ],
   "source": [
    "# upper whisker of 'texture_mean' column\n",
    "up_tm = Q3_tm+1.5*IQR_tm\n",
    "f\"upper whisker of 'texture_mean' column = {up_tm}\""
   ]
  },
  {
   "cell_type": "code",
   "execution_count": 304,
   "id": "d7d328d5",
   "metadata": {},
   "outputs": [
    {
     "data": {
      "text/plain": [
       "\"Outliers of 'texture_mean' column = [32.47, 33.81, 39.28, 33.56, 31.12, 30.72, 30.62]\""
      ]
     },
     "execution_count": 304,
     "metadata": {},
     "output_type": "execute_result"
    }
   ],
   "source": [
    "# to find the outliers  in 'texture_mean' column and display it\n",
    "outlier_tm = [] \n",
    "for x_tm in data['texture_mean']:\n",
    "    if((x_tm>up_tm) or (x_tm<low_tm)):\n",
    "        outlier_tm.append(x_tm)\n",
    "f\"Outliers of 'texture_mean' column = {outlier_tm}\"\n"
   ]
  },
  {
   "cell_type": "markdown",
   "id": "524d2a98",
   "metadata": {},
   "source": [
    "##### 'Outliers' in 'perimeter_mean' column"
   ]
  },
  {
   "cell_type": "code",
   "execution_count": 305,
   "id": "bdb3005a",
   "metadata": {},
   "outputs": [
    {
     "data": {
      "image/png": "[encoded data removed]",
      "text/plain": [
       "<Figure size 640x480 with 1 Axes>"
      ]
     },
     "metadata": {},
     "output_type": "display_data"
    }
   ],
   "source": [
    "# Boxplot of 'perimeter_mean' column to check outliers\n",
    "plt.boxplot(data['perimeter_mean'])\n",
    "\n",
    "# display title\n",
    "plt.title(\"Boxplot of perimeter_mean\")\n",
    "\n",
    "# display figures\n",
    "plt.show()"
   ]
  },
  {
   "cell_type": "code",
   "execution_count": 306,
   "id": "259c4736",
   "metadata": {},
   "outputs": [
    {
     "data": {
      "text/plain": [
       "\"First Quartile of 'perimeter_mean' column = 75.17\""
      ]
     },
     "execution_count": 306,
     "metadata": {},
     "output_type": "execute_result"
    }
   ],
   "source": [
    "# First Quartile of 'perimeter_mean' column\n",
    "Q1_pm = np.percentile(data['perimeter_mean'], 25, interpolation='midpoint')\n",
    "f\"First Quartile of 'perimeter_mean' column = {Q1_pm}\""
   ]
  },
  {
   "cell_type": "code",
   "execution_count": 307,
   "id": "5e7cdde7",
   "metadata": {},
   "outputs": [
    {
     "data": {
      "text/plain": [
       "\"Second Quartile of 'perimeter_mean' column = 86.24\""
      ]
     },
     "execution_count": 307,
     "metadata": {},
     "output_type": "execute_result"
    }
   ],
   "source": [
    "# Second Quartile of 'perimeter_mean' column\n",
    "Q2_pm = np.percentile(data['perimeter_mean'], 50, interpolation='midpoint')\n",
    "f\"Second Quartile of 'perimeter_mean' column = {Q2_pm}\""
   ]
  },
  {
   "cell_type": "code",
   "execution_count": 308,
   "id": "7173d92a",
   "metadata": {},
   "outputs": [
    {
     "data": {
      "text/plain": [
       "\"Third Quartile of 'perimeter_mean' column = 104.1\""
      ]
     },
     "execution_count": 308,
     "metadata": {},
     "output_type": "execute_result"
    }
   ],
   "source": [
    "# Third Quartile of 'perimeter_mean' column\n",
    "Q3_pm = np.percentile(data['perimeter_mean'], 75, interpolation='midpoint')\n",
    "f\"Third Quartile of 'perimeter_mean' column = {Q3_pm}\""
   ]
  },
  {
   "cell_type": "code",
   "execution_count": 309,
   "id": "dc669be3",
   "metadata": {},
   "outputs": [
    {
     "data": {
      "text/plain": [
       "\"IQR of 'perimeter_mean' column = 28.929999999999993\""
      ]
     },
     "execution_count": 309,
     "metadata": {},
     "output_type": "execute_result"
    }
   ],
   "source": [
    "# (interquartile range) IQR of  'perimeter_mean' column\n",
    "IQR_pm = Q3_pm-Q1_pm\n",
    "f\"IQR of 'perimeter_mean' column = {IQR_pm}\""
   ]
  },
  {
   "cell_type": "code",
   "execution_count": 310,
   "id": "220f4ba1",
   "metadata": {},
   "outputs": [
    {
     "data": {
      "text/plain": [
       "\"lower whisker of 'perimeter_mean'  column = 31.775000000000013\""
      ]
     },
     "execution_count": 310,
     "metadata": {},
     "output_type": "execute_result"
    }
   ],
   "source": [
    "# lower whisker of 'perimeter_mean'  column\n",
    "low_pm = Q1_pm-1.5*IQR_pm \n",
    "f\"lower whisker of 'perimeter_mean'  column = {low_pm}\""
   ]
  },
  {
   "cell_type": "code",
   "execution_count": 311,
   "id": "f87b5b1c",
   "metadata": {},
   "outputs": [
    {
     "data": {
      "text/plain": [
       "\"upper whisker of 'perimeter_mean' column = 147.49499999999998\""
      ]
     },
     "execution_count": 311,
     "metadata": {},
     "output_type": "execute_result"
    }
   ],
   "source": [
    "# upper whisker of 'perimeter_mean' column\n",
    "up_pm = Q3_pm+1.5*IQR_pm\n",
    "f\"upper whisker of 'perimeter_mean' column = {up_pm}\""
   ]
  },
  {
   "cell_type": "code",
   "execution_count": 312,
   "id": "104c0796",
   "metadata": {},
   "outputs": [
    {
     "data": {
      "text/plain": [
       "\"Outliers of 'perimeter_mean' column = [171.5, 152.8, 166.2, 152.1, 182.1, 158.9, 188.5, 153.5, 155.1, 174.2, 186.9, 152.1, 165.5]\""
      ]
     },
     "execution_count": 312,
     "metadata": {},
     "output_type": "execute_result"
    }
   ],
   "source": [
    "# to find the outliers  in 'perimeter_mean' column and display it\n",
    "outlier_pm = [] \n",
    "for x_pm in data['perimeter_mean']:\n",
    "    if((x_pm>up_pm) or (x_pm<low_pm)):\n",
    "        outlier_pm.append(x_pm)\n",
    "f\"Outliers of 'perimeter_mean' column = {outlier_pm}\""
   ]
  },
  {
   "cell_type": "markdown",
   "id": "0c9de570",
   "metadata": {},
   "source": [
    "##### 'Outliers' in 'area_mean' column"
   ]
  },
  {
   "cell_type": "code",
   "execution_count": 313,
   "id": "7e43a70a",
   "metadata": {
    "scrolled": true
   },
   "outputs": [
    {
     "data": {
      "image/png": "[encoded data removed]",
      "text/plain": [
       "<Figure size 640x480 with 1 Axes>"
      ]
     },
     "metadata": {},
     "output_type": "display_data"
    }
   ],
   "source": [
    "# Boxplot of 'area_mean' column to check outliers\n",
    "plt.boxplot(data['area_mean'])\n",
    "\n",
    "# display title\n",
    "plt.title(\"Boxplot of area_mean\")\n",
    "\n",
    "# display figures\n",
    "plt.show()"
   ]
  },
  {
   "cell_type": "code",
   "execution_count": 314,
   "id": "047239e1",
   "metadata": {},
   "outputs": [
    {
     "data": {
      "text/plain": [
       "\"First Quartile of 'area_mean' column = 420.3\""
      ]
     },
     "execution_count": 314,
     "metadata": {},
     "output_type": "execute_result"
    }
   ],
   "source": [
    "# First Quartile of 'area_mean' column\n",
    "Q1_am = np.percentile(data['area_mean'], 25, interpolation='midpoint')\n",
    "f\"First Quartile of 'area_mean' column = {Q1_am}\""
   ]
  },
  {
   "cell_type": "code",
   "execution_count": 315,
   "id": "7c159184",
   "metadata": {},
   "outputs": [
    {
     "data": {
      "text/plain": [
       "\"Second Quartile of 'area_mean' column = 551.1\""
      ]
     },
     "execution_count": 315,
     "metadata": {},
     "output_type": "execute_result"
    }
   ],
   "source": [
    "# Second Quartile of 'area_mean' column\n",
    "Q2_am = np.percentile(data['area_mean'], 50, interpolation='midpoint')\n",
    "f\"Second Quartile of 'area_mean' column = {Q2_am}\""
   ]
  },
  {
   "cell_type": "code",
   "execution_count": 316,
   "id": "ea839d7d",
   "metadata": {},
   "outputs": [
    {
     "data": {
      "text/plain": [
       "\"Third Quartile of 'area_mean' column = 782.7\""
      ]
     },
     "execution_count": 316,
     "metadata": {},
     "output_type": "execute_result"
    }
   ],
   "source": [
    "# Third Quartile of 'area_mean' column\n",
    "Q3_am = np.percentile(data['area_mean'], 75, interpolation='midpoint')\n",
    "f\"Third Quartile of 'area_mean' column = {Q3_am}\""
   ]
  },
  {
   "cell_type": "code",
   "execution_count": 317,
   "id": "58744ed9",
   "metadata": {},
   "outputs": [
    {
     "data": {
      "text/plain": [
       "\"IQR of 'area_mean' column = 362.40000000000003\""
      ]
     },
     "execution_count": 317,
     "metadata": {},
     "output_type": "execute_result"
    }
   ],
   "source": [
    "# (interquartile range) IQR of  'area_mean' column\n",
    "IQR_am = Q3_am-Q1_am\n",
    "f\"IQR of 'area_mean' column = {IQR_am}\""
   ]
  },
  {
   "cell_type": "code",
   "execution_count": 318,
   "id": "ea0abfb0",
   "metadata": {},
   "outputs": [
    {
     "data": {
      "text/plain": [
       "\"lower whisker of 'area_mean'  column = -123.30000000000001\""
      ]
     },
     "execution_count": 318,
     "metadata": {},
     "output_type": "execute_result"
    }
   ],
   "source": [
    "# lower whisker of 'area_mean'  column\n",
    "low_am = Q1_am-1.5*IQR_am \n",
    "f\"lower whisker of 'area_mean'  column = {low_am}\""
   ]
  },
  {
   "cell_type": "code",
   "execution_count": 319,
   "id": "4e4d75cf",
   "metadata": {},
   "outputs": [
    {
     "data": {
      "text/plain": [
       "\"upper whisker of 'area_mean' column = 1326.3000000000002\""
      ]
     },
     "execution_count": 319,
     "metadata": {},
     "output_type": "execute_result"
    }
   ],
   "source": [
    "# upper whisker of 'area_mean' column\n",
    "up_am = Q3_am+1.5*IQR_am\n",
    "f\"upper whisker of 'area_mean' column = {up_am}\""
   ]
  },
  {
   "cell_type": "code",
   "execution_count": 320,
   "id": "5cd9fd5b",
   "metadata": {},
   "outputs": [
    {
     "data": {
      "text/plain": [
       "\"Outliers of 'area_mean' column = [1404.0, 1878.0, 1509.0, 1761.0, 1686.0, 2250.0, 1685.0, 2499.0, 1670.0, 1364.0, 1419.0, 1491.0, 1747.0, 2010.0, 1546.0, 1482.0, 1386.0, 1335.0, 1407.0, 1384.0, 2501.0, 1682.0, 1841.0, 1347.0, 1479.0]\""
      ]
     },
     "execution_count": 320,
     "metadata": {},
     "output_type": "execute_result"
    }
   ],
   "source": [
    "# to find the outliers  in 'area_mean' column and display it\n",
    "outlier_am = [] \n",
    "for x_am in data['area_mean']:\n",
    "    if((x_am>up_am) or (x_am<low_am)):\n",
    "        outlier_am.append(x_am)\n",
    "f\"Outliers of 'area_mean' column = {outlier_am}\""
   ]
  },
  {
   "cell_type": "markdown",
   "id": "2064d80c",
   "metadata": {},
   "source": [
    "##### 'Outliers' in 'smoothness_mean' column"
   ]
  },
  {
   "cell_type": "code",
   "execution_count": 321,
   "id": "41c29a25",
   "metadata": {},
   "outputs": [
    {
     "data": {
      "image/png": "[encoded data removed]",
      "text/plain": [
       "<Figure size 640x480 with 1 Axes>"
      ]
     },
     "metadata": {},
     "output_type": "display_data"
    }
   ],
   "source": [
    "# Boxplot of 'smoothness_mean' column to check outliers\n",
    "plt.boxplot(data['smoothness_mean'])\n",
    "\n",
    "# display title\n",
    "plt.title(\"Boxplot of smoothness_mean\")\n",
    "\n",
    "# display figures\n",
    "plt.show()"
   ]
  },
  {
   "cell_type": "code",
   "execution_count": 322,
   "id": "14f4a11a",
   "metadata": {},
   "outputs": [
    {
     "data": {
      "text/plain": [
       "\"First Quartile of 'smoothness_mean' column = 0.08637\""
      ]
     },
     "execution_count": 322,
     "metadata": {},
     "output_type": "execute_result"
    }
   ],
   "source": [
    "# First Quartile of 'smoothness_mean' column\n",
    "Q1_sm = np.percentile(data['smoothness_mean'], 25, interpolation='midpoint')\n",
    "f\"First Quartile of 'smoothness_mean' column = {Q1_sm}\""
   ]
  },
  {
   "cell_type": "code",
   "execution_count": 323,
   "id": "3fb547e5",
   "metadata": {},
   "outputs": [
    {
     "data": {
      "text/plain": [
       "\"Second Quartile of 'smoothness_mean' column = 0.09587\""
      ]
     },
     "execution_count": 323,
     "metadata": {},
     "output_type": "execute_result"
    }
   ],
   "source": [
    "# Second Quartile of 'smoothness_mean' column\n",
    "Q2_sm = np.percentile(data['smoothness_mean'], 50, interpolation='midpoint')\n",
    "f\"Second Quartile of 'smoothness_mean' column = {Q2_sm}\""
   ]
  },
  {
   "cell_type": "code",
   "execution_count": 324,
   "id": "cf3ff0f0",
   "metadata": {},
   "outputs": [
    {
     "data": {
      "text/plain": [
       "\"Third Quartile of 'smoothness_mean' column = 0.1053\""
      ]
     },
     "execution_count": 324,
     "metadata": {},
     "output_type": "execute_result"
    }
   ],
   "source": [
    "# Third Quartile of 'smoothness_mean' column\n",
    "Q3_sm = np.percentile(data['smoothness_mean'], 75, interpolation='midpoint')\n",
    "f\"Third Quartile of 'smoothness_mean' column = {Q3_sm}\""
   ]
  },
  {
   "cell_type": "code",
   "execution_count": 325,
   "id": "f94521f5",
   "metadata": {},
   "outputs": [
    {
     "data": {
      "text/plain": [
       "\"IQR of 'smoothness_mean' column = 0.018930000000000002\""
      ]
     },
     "execution_count": 325,
     "metadata": {},
     "output_type": "execute_result"
    }
   ],
   "source": [
    "# (interquartile range) IQR of  'smoothness_mean' column\n",
    "IQR_sm = Q3_sm-Q1_sm\n",
    "f\"IQR of 'smoothness_mean' column = {IQR_sm}\""
   ]
  },
  {
   "cell_type": "code",
   "execution_count": 326,
   "id": "e0de2e07",
   "metadata": {},
   "outputs": [
    {
     "data": {
      "text/plain": [
       "\"lower whisker of 'smoothness_mean'  column = 0.057975\""
      ]
     },
     "execution_count": 326,
     "metadata": {},
     "output_type": "execute_result"
    }
   ],
   "source": [
    "# lower whisker of 'smoothness_mean'  column\n",
    "low_sm = Q1_sm-1.5*IQR_sm \n",
    "f\"lower whisker of 'smoothness_mean'  column = {low_sm}\""
   ]
  },
  {
   "cell_type": "code",
   "execution_count": 327,
   "id": "11100b35",
   "metadata": {},
   "outputs": [
    {
     "data": {
      "text/plain": [
       "\"upper whisker of 'smoothness_mean' column = 0.133695\""
      ]
     },
     "execution_count": 327,
     "metadata": {},
     "output_type": "execute_result"
    }
   ],
   "source": [
    "# upper whisker of 'smoothness_mean' column\n",
    "up_sm = Q3_sm+1.5*IQR_sm\n",
    "f\"upper whisker of 'smoothness_mean' column = {up_sm}\""
   ]
  },
  {
   "cell_type": "code",
   "execution_count": 328,
   "id": "b2bb6537",
   "metadata": {},
   "outputs": [
    {
     "data": {
      "text/plain": [
       "\"Outliers of 'smoothness_mean' column = [0.1425, 0.1398, 0.1447, 0.1634, 0.1371, 0.05263]\""
      ]
     },
     "execution_count": 328,
     "metadata": {},
     "output_type": "execute_result"
    }
   ],
   "source": [
    "# to find the outliers  in 'smoothness_mean' column and display it\n",
    "outlier_sm = [] \n",
    "for x_sm in data['smoothness_mean']:\n",
    "    if((x_sm>up_sm) or (x_sm<low_sm)):\n",
    "        outlier_sm.append(x_sm)\n",
    "f\"Outliers of 'smoothness_mean' column = {outlier_sm}\""
   ]
  },
  {
   "cell_type": "markdown",
   "id": "ed5de742",
   "metadata": {},
   "source": [
    "##### 'Outliers' in 'compactness_mean' column"
   ]
  },
  {
   "cell_type": "code",
   "execution_count": 329,
   "id": "fcbb2584",
   "metadata": {},
   "outputs": [
    {
     "data": {
      "image/png": "[encoded data removed]",
      "text/plain": [
       "<Figure size 640x480 with 1 Axes>"
      ]
     },
     "metadata": {},
     "output_type": "display_data"
    }
   ],
   "source": [
    "# Boxplot of 'compactness_mean' column to check outliers\n",
    "plt.boxplot(data['compactness_mean'])\n",
    "\n",
    "# display title\n",
    "plt.title(\"Boxplot of compactness_mean\")\n",
    "\n",
    "# display figures\n",
    "plt.show()"
   ]
  },
  {
   "cell_type": "code",
   "execution_count": 330,
   "id": "034a077e",
   "metadata": {},
   "outputs": [
    {
     "data": {
      "text/plain": [
       "\"First Quartile of 'compactness_mean' column = 0.06492\""
      ]
     },
     "execution_count": 330,
     "metadata": {},
     "output_type": "execute_result"
    }
   ],
   "source": [
    "# First Quartile of 'compactness_mean' column\n",
    "Q1_cm = np.percentile(data['compactness_mean'], 25, interpolation='midpoint')\n",
    "f\"First Quartile of 'compactness_mean' column = {Q1_cm}\""
   ]
  },
  {
   "cell_type": "code",
   "execution_count": 331,
   "id": "bd74bf48",
   "metadata": {},
   "outputs": [
    {
     "data": {
      "text/plain": [
       "\"Second Quartile of 'compactness_mean' column = 0.09263\""
      ]
     },
     "execution_count": 331,
     "metadata": {},
     "output_type": "execute_result"
    }
   ],
   "source": [
    "# Second Quartile of 'compactness_mean' column\n",
    "Q2_cm = np.percentile(data['compactness_mean'], 50, interpolation='midpoint')\n",
    "f\"Second Quartile of 'compactness_mean' column = {Q2_cm}\""
   ]
  },
  {
   "cell_type": "code",
   "execution_count": 332,
   "id": "406ac21a",
   "metadata": {},
   "outputs": [
    {
     "data": {
      "text/plain": [
       "\"Third Quartile of 'compactness_mean' column = 0.1304\""
      ]
     },
     "execution_count": 332,
     "metadata": {},
     "output_type": "execute_result"
    }
   ],
   "source": [
    "# Third Quartile of 'compactness_mean' column\n",
    "Q3_cm = np.percentile(data['compactness_mean'], 75, interpolation='midpoint')\n",
    "f\"Third Quartile of 'compactness_mean' column = {Q3_cm}\""
   ]
  },
  {
   "cell_type": "code",
   "execution_count": 333,
   "id": "4e15be09",
   "metadata": {},
   "outputs": [
    {
     "data": {
      "text/plain": [
       "\"IQR of 'compactness_mean' column = 0.06547999999999998\""
      ]
     },
     "execution_count": 333,
     "metadata": {},
     "output_type": "execute_result"
    }
   ],
   "source": [
    "# (interquartile range) IQR of  'compactness_mean' column\n",
    "IQR_cm = Q3_cm-Q1_cm\n",
    "f\"IQR of 'compactness_mean' column = {IQR_cm}\""
   ]
  },
  {
   "cell_type": "code",
   "execution_count": 334,
   "id": "7bf34d52",
   "metadata": {},
   "outputs": [
    {
     "data": {
      "text/plain": [
       "\"lower whisker of 'compactness_mean'  column = -0.03329999999999997\""
      ]
     },
     "execution_count": 334,
     "metadata": {},
     "output_type": "execute_result"
    }
   ],
   "source": [
    "# lower whisker of 'compactness_mean'  column\n",
    "low_cm = Q1_cm-1.5*IQR_cm \n",
    "f\"lower whisker of 'compactness_mean'  column = {low_cm}\""
   ]
  },
  {
   "cell_type": "code",
   "execution_count": 335,
   "id": "453a8ad3",
   "metadata": {},
   "outputs": [
    {
     "data": {
      "text/plain": [
       "\"upper whisker of 'compactness_mean' column = 0.22861999999999996\""
      ]
     },
     "execution_count": 335,
     "metadata": {},
     "output_type": "execute_result"
    }
   ],
   "source": [
    "# upper whisker of 'compactness_mean' column\n",
    "up_cm = Q3_cm+1.5*IQR_cm\n",
    "f\"upper whisker of 'compactness_mean' column = {up_cm}\""
   ]
  },
  {
   "cell_type": "code",
   "execution_count": 336,
   "id": "bf034907",
   "metadata": {},
   "outputs": [
    {
     "data": {
      "text/plain": [
       "\"Outliers of 'compactness_mean' column = [0.2776, 0.2839, 0.2396, 0.2458, 0.2293, 0.3454, 0.2665, 0.2768, 0.2867, 0.2832, 0.2413, 0.3114, 0.2364, 0.2363, 0.2576, 0.277]\""
      ]
     },
     "execution_count": 336,
     "metadata": {},
     "output_type": "execute_result"
    }
   ],
   "source": [
    "# to find the outliers  in 'compactness_mean' column and display it\n",
    "outlier_cm = [] \n",
    "for x_cm in data['compactness_mean']:\n",
    "    if((x_cm>up_cm) or (x_cm<low_cm)):\n",
    "        outlier_cm.append(x_cm)\n",
    "f\"Outliers of 'compactness_mean' column = {outlier_cm}\""
   ]
  },
  {
   "cell_type": "markdown",
   "id": "256592cc",
   "metadata": {},
   "source": [
    "##### 'Outliers' in  'concavity_mean' column"
   ]
  },
  {
   "cell_type": "code",
   "execution_count": 337,
   "id": "66f96948",
   "metadata": {},
   "outputs": [
    {
     "data": {
      "image/png": "[encoded data removed]",
      "text/plain": [
       "<Figure size 640x480 with 1 Axes>"
      ]
     },
     "metadata": {},
     "output_type": "display_data"
    }
   ],
   "source": [
    "# Boxplot of 'concavity_mean' column to check outliers\n",
    "plt.boxplot(data['concavity_mean'])\n",
    "\n",
    "# display title\n",
    "plt.title(\"Boxplot of concavity_mean\")\n",
    "\n",
    "# display figures\n",
    "plt.show()"
   ]
  },
  {
   "cell_type": "code",
   "execution_count": 338,
   "id": "82d3c184",
   "metadata": {},
   "outputs": [
    {
     "data": {
      "text/plain": [
       "\"Outliers of 'concavity_mean' column = [0.3001, 0.313, 0.3754, 0.3339, 0.4264, 0.3003, 0.4268, 0.4108, 0.2871, 0.3523, 0.3201, 0.3176, 0.2914, 0.3368, 0.3189, 0.3635, 0.3174, 0.3514]\""
      ]
     },
     "execution_count": 338,
     "metadata": {},
     "output_type": "execute_result"
    }
   ],
   "source": [
    "# First Quartile of 'concavity_mean' column\n",
    "Q1_cmm = np.percentile(data['concavity_mean'], 25, interpolation='midpoint')\n",
    "# Second Quartile of 'concavity_mean' column\n",
    "Q2_cmm = np.percentile(data['concavity_mean'], 50, interpolation='midpoint')\n",
    "# Third Quartile of 'concavity_mean' column\n",
    "Q3_cmm = np.percentile(data['concavity_mean'], 75, interpolation='midpoint')\n",
    "# (interquartile range) IQR of  'concavity_mean' column\n",
    "IQR_cmm = Q3_cmm-Q1_cmm\n",
    "# lower whisker of 'concavity_mean'  column\n",
    "low_cmm = Q1_cmm-1.5*IQR_cmm \n",
    "# upper whisker of 'concavity_mean' column\n",
    "up_cmm = Q3_cmm+1.5*IQR_cmm\n",
    "\n",
    "# to find the outliers  in 'concavity_mean' column and display it\n",
    "outlier_cmm = [] \n",
    "for x_cmm in data['concavity_mean']:\n",
    "    if((x_cmm>up_cmm) or (x_cmm<low_cmm)):\n",
    "        outlier_cmm.append(x_cmm)\n",
    "f\"Outliers of 'concavity_mean' column = {outlier_cmm}\"\n"
   ]
  },
  {
   "cell_type": "markdown",
   "id": "a11886d4",
   "metadata": {},
   "source": [
    "##### 'Outliers' in 'concave points_mean' column"
   ]
  },
  {
   "cell_type": "code",
   "execution_count": 339,
   "id": "f1261cc0",
   "metadata": {},
   "outputs": [
    {
     "data": {
      "image/png": "[encoded data removed]",
      "text/plain": [
       "<Figure size 640x480 with 1 Axes>"
      ]
     },
     "metadata": {},
     "output_type": "display_data"
    }
   ],
   "source": [
    "# Boxplot of 'concave points_mean' column to check outliers\n",
    "plt.boxplot(data['concave points_mean'])\n",
    "\n",
    "# display title\n",
    "plt.title(\"Boxplot of concave points_mean\")\n",
    "\n",
    "# display figures\n",
    "plt.show()"
   ]
  },
  {
   "cell_type": "code",
   "execution_count": 340,
   "id": "c264569a",
   "metadata": {},
   "outputs": [
    {
     "data": {
      "text/plain": [
       "\"Outliers of 'concave points_mean' column = [0.1604, 0.1845, 0.1823, 0.2012, 0.1878, 0.162, 0.1595, 0.1913, 0.1562, 0.1689]\""
      ]
     },
     "execution_count": 340,
     "metadata": {},
     "output_type": "execute_result"
    }
   ],
   "source": [
    "# First Quartile of 'concave points_mean' column\n",
    "Q1_cpm = np.percentile(data['concave points_mean'], 25, interpolation='midpoint')\n",
    "# Second Quartile of 'concave points_mean' column\n",
    "Q2_cpm = np.percentile(data['concave points_mean'], 50, interpolation='midpoint')\n",
    "# Third Quartile of 'concave points_mean' column\n",
    "Q3_cpm = np.percentile(data['concave points_mean'], 75, interpolation='midpoint')\n",
    "# (interquartile range) IQR of  'concave points_mean' column\n",
    "IQR_cpm = Q3_cpm-Q1_cpm\n",
    "# lower whisker of 'concave points_mean'  column\n",
    "low_cpm = Q1_cpm-1.5*IQR_cpm \n",
    "# upper whisker of 'concave points_mean' column\n",
    "up_cpm = Q3_cpm+1.5*IQR_cpm\n",
    "\n",
    "# to find the outliers  in 'concave points_mean' column and display it\n",
    "outlier_cpm = [] \n",
    "for x_cpm in data['concave points_mean']:\n",
    "    if((x_cpm>up_cpm) or (x_cpm<low_cpm)):\n",
    "        outlier_cpm.append(x_cpm)\n",
    "f\"Outliers of 'concave points_mean' column = {outlier_cpm}\"\n"
   ]
  },
  {
   "cell_type": "markdown",
   "id": "cbdbc093",
   "metadata": {},
   "source": [
    "##### 'Outliers' in 'symmetry_mean' column"
   ]
  },
  {
   "cell_type": "code",
   "execution_count": 341,
   "id": "a3b7b84b",
   "metadata": {},
   "outputs": [
    {
     "data": {
      "image/png": "[encoded data removed]",
      "text/plain": [
       "<Figure size 640x480 with 1 Axes>"
      ]
     },
     "metadata": {},
     "output_type": "display_data"
    }
   ],
   "source": [
    "# Boxplot of 'symmetry_mean' column to check outliers\n",
    "plt.boxplot(data['symmetry_mean'])\n",
    "\n",
    "# display title\n",
    "plt.title(\"Boxplot of symmetry_mean\")\n",
    "\n",
    "# display figures\n",
    "plt.show()"
   ]
  },
  {
   "cell_type": "code",
   "execution_count": 342,
   "id": "bb7c97c2",
   "metadata": {},
   "outputs": [
    {
     "data": {
      "text/plain": [
       "\"Outliers of 'symmetry_mean' column = [0.2597, 0.2521, 0.304, 0.2743, 0.2906, 0.2556, 0.2655, 0.2678, 0.254, 0.2548, 0.2495, 0.2595, 0.2569, 0.2538, 0.106]\""
      ]
     },
     "execution_count": 342,
     "metadata": {},
     "output_type": "execute_result"
    }
   ],
   "source": [
    "# First Quartile of 'symmetry_mean' column\n",
    "Q1_sm1 = np.percentile(data['symmetry_mean'], 25, interpolation='midpoint')\n",
    "# Second Quartile of 'symmetry_mean' column\n",
    "Q2_sm1 = np.percentile(data['symmetry_mean'], 50, interpolation='midpoint')\n",
    "# Third Quartile of 'symmetry_mean' column\n",
    "Q3_sm1 = np.percentile(data['symmetry_mean'], 75, interpolation='midpoint')\n",
    "# (interquartile range) IQR of  'symmetry_mean' column\n",
    "IQR_sm1 = Q3_sm1-Q1_sm1\n",
    "# lower whisker of 'symmetry_mean'  column\n",
    "low_sm1 = Q1_sm1-1.5*IQR_sm1 \n",
    "# upper whisker of 'symmetry_mean' column\n",
    "up_sm1 = Q3_sm1+1.5*IQR_sm1\n",
    "\n",
    "# to find the outliers  in 'symmetry_mean' column and display it\n",
    "outlier_sm1 = [] \n",
    "for x_sm1 in data['symmetry_mean']:\n",
    "    if((x_sm1>up_sm1) or (x_sm1<low_sm1)):\n",
    "        outlier_sm1.append(x_sm1)\n",
    "f\"Outliers of 'symmetry_mean' column = {outlier_sm1}\"\n"
   ]
  },
  {
   "cell_type": "markdown",
   "id": "8c633736",
   "metadata": {},
   "source": [
    "##### 'Outliers' in 'fractal_dimension_mean' column"
   ]
  },
  {
   "cell_type": "code",
   "execution_count": 343,
   "id": "6ab9fc50",
   "metadata": {},
   "outputs": [
    {
     "data": {
      "image/png": "[encoded data removed]",
      "text/plain": [
       "<Figure size 640x480 with 1 Axes>"
      ]
     },
     "metadata": {},
     "output_type": "display_data"
    }
   ],
   "source": [
    "# Boxplot of 'fractal_dimension_mean' column to check outliers\n",
    "plt.boxplot(data['fractal_dimension_mean'])\n",
    "\n",
    "# display title\n",
    "plt.title(\"Boxplot of fractal_dimension_mean\")\n",
    "\n",
    "# display figures\n",
    "plt.show()"
   ]
  },
  {
   "cell_type": "code",
   "execution_count": 344,
   "id": "54ac77cc",
   "metadata": {},
   "outputs": [
    {
     "data": {
      "text/plain": [
       "\"Outliers of 'fractal_dimension_mean' column = [0.09744, 0.08243, 0.08046, 0.0898, 0.08142, 0.08261, 0.09296, 0.08116, 0.08104, 0.08743, 0.0845, 0.0795, 0.09502, 0.09575, 0.07976]\""
      ]
     },
     "execution_count": 344,
     "metadata": {},
     "output_type": "execute_result"
    }
   ],
   "source": [
    "# First Quartile of 'fractal_dimension_mean' column\n",
    "Q1_fdm = np.percentile(data['fractal_dimension_mean'], 25, interpolation='midpoint')\n",
    "# Second Quartile of 'fractal_dimension_mean' column\n",
    "Q2_fdm = np.percentile(data['fractal_dimension_mean'], 50, interpolation='midpoint')\n",
    "# Third Quartile of 'fractal_dimension_mean' column\n",
    "Q3_fdm = np.percentile(data['fractal_dimension_mean'], 75, interpolation='midpoint')\n",
    "# (interquartile range) IQR of  'fractal_dimension_mean' column\n",
    "IQR_fdm = Q3_fdm-Q1_fdm\n",
    "# lower whisker of 'fractal_dimension_mean'  column\n",
    "low_fdm = Q1_fdm-1.5*IQR_fdm \n",
    "# upper whisker of 'fractal_dimension_mean' column\n",
    "up_fdm = Q3_fdm+1.5*IQR_fdm\n",
    "\n",
    "# to find the outliers  in 'fractal_dimension_mean' column and display it\n",
    "outlier_fdm = [] \n",
    "for x_fdm in data['fractal_dimension_mean']:\n",
    "    if((x_fdm>up_fdm) or (x_fdm<low_fdm)):\n",
    "        outlier_fdm.append(x_fdm)\n",
    "f\"Outliers of 'fractal_dimension_mean' column = {outlier_fdm}\"\n"
   ]
  },
  {
   "cell_type": "markdown",
   "id": "d8e1f26f",
   "metadata": {},
   "source": [
    "##### 'Outliers' in 'radius_se' column"
   ]
  },
  {
   "cell_type": "code",
   "execution_count": 345,
   "id": "54524ab9",
   "metadata": {},
   "outputs": [
    {
     "data": {
      "image/png": "[encoded data removed]",
      "text/plain": [
       "<Figure size 640x480 with 1 Axes>"
      ]
     },
     "metadata": {},
     "output_type": "display_data"
    }
   ],
   "source": [
    "# Boxplot of 'radius_se'  column to check outliers\n",
    "plt.boxplot(data['radius_se'])\n",
    "\n",
    "# display title\n",
    "plt.title(\"Boxplot of radius_se\")\n",
    "\n",
    "# display figures\n",
    "plt.show()"
   ]
  },
  {
   "cell_type": "code",
   "execution_count": 346,
   "id": "01d30595",
   "metadata": {},
   "outputs": [
    {
     "data": {
      "text/plain": [
       "\"Outliers of 'radius_se' column = [1.095, 0.9555, 1.046, 0.8529, 1.214, 0.9811, 0.9806, 0.9317, 0.8973, 1.215, 1.509, 1.296, 1.0, 1.088, 0.8601, 2.873, 0.9553, 1.058, 1.004, 1.292, 1.172, 1.167, 0.8811, 1.111, 1.072, 1.009, 0.9948, 0.9761, 1.207, 1.008, 1.37, 0.9291, 2.547, 0.9289, 1.291, 0.9915, 0.9622, 1.176]\""
      ]
     },
     "execution_count": 346,
     "metadata": {},
     "output_type": "execute_result"
    }
   ],
   "source": [
    "# First Quartile of 'radius_se' column\n",
    "Q1_rs = np.percentile(data['radius_se'], 25, interpolation='midpoint')\n",
    "# Second Quartile of 'radius_se' column\n",
    "Q2_rs = np.percentile(data['radius_se'], 50, interpolation='midpoint')\n",
    "# Third Quartile of 'radius_se' column\n",
    "Q3_rs = np.percentile(data['radius_se'], 75, interpolation='midpoint')\n",
    "# (interquartile range) IQR of  'radius_se' column\n",
    "IQR_rs = Q3_rs-Q1_rs\n",
    "# lower whisker of 'radius_se'  column\n",
    "low_rs = Q1_rs-1.5*IQR_rs \n",
    "# upper whisker of 'radius_se' column\n",
    "up_rs = Q3_rs+1.5*IQR_rs\n",
    "\n",
    "# to find the outliers  in 'radius_se' column and display it\n",
    "outlier_rs = [] \n",
    "for x_rs in data['radius_se']:\n",
    "    if((x_rs>up_rs) or (x_rs<low_rs)):\n",
    "        outlier_rs.append(x_rs)\n",
    "f\"Outliers of 'radius_se' column = {outlier_rs}\""
   ]
  },
  {
   "cell_type": "markdown",
   "id": "773f9bde",
   "metadata": {},
   "source": [
    "##### 'Outliers' in 'texture_se' column"
   ]
  },
  {
   "cell_type": "code",
   "execution_count": 347,
   "id": "0b4fa227",
   "metadata": {},
   "outputs": [
    {
     "data": {
      "image/png": "[encoded data removed]",
      "text/plain": [
       "<Figure size 640x480 with 1 Axes>"
      ]
     },
     "metadata": {},
     "output_type": "display_data"
    }
   ],
   "source": [
    "# Boxplot of 'texture_se'  column to check outliers\n",
    "plt.boxplot(data['texture_se'])\n",
    "\n",
    "# display title\n",
    "plt.title(\"Boxplot of texture_se\")\n",
    "\n",
    "# display figures\n",
    "plt.show()"
   ]
  },
  {
   "cell_type": "code",
   "execution_count": 348,
   "id": "695a4764",
   "metadata": {},
   "outputs": [
    {
     "data": {
      "text/plain": [
       "\"Outliers of 'texture_se' column = [3.568, 2.91, 3.12, 2.508, 2.664, 4.885, 2.612, 2.454, 2.777, 2.509, 2.836, 2.878, 2.542, 2.643, 3.647, 2.635, 2.927, 2.904, 3.896, 2.463]\""
      ]
     },
     "execution_count": 348,
     "metadata": {},
     "output_type": "execute_result"
    }
   ],
   "source": [
    "# First Quartile of 'texture_se' column\n",
    "Q1_ts = np.percentile(data['texture_se'], 25, interpolation='midpoint')\n",
    "# Second Quartile of 'texture_se' column\n",
    "Q2_ts = np.percentile(data['texture_se'], 50, interpolation='midpoint')\n",
    "# Third Quartile of 'texture_se' column\n",
    "Q3_ts = np.percentile(data['texture_se'], 75, interpolation='midpoint')\n",
    "# (interquartile range) IQR of  'texture_se' column\n",
    "IQR_ts = Q3_ts-Q1_ts\n",
    "# lower whisker of 'texture_se'  column\n",
    "low_ts = Q1_ts-1.5*IQR_ts \n",
    "# upper whisker of 'texture_se' column\n",
    "up_ts = Q3_ts+1.5*IQR_ts\n",
    "\n",
    "# to find the outliers  in 'texture_se' column and display it\n",
    "outlier_ts = [] \n",
    "for x_ts in data['texture_se']:\n",
    "    if((x_ts>up_ts) or (x_ts<low_ts)):\n",
    "        outlier_ts.append(x_ts)\n",
    "f\"Outliers of 'texture_se' column = {outlier_ts}\""
   ]
  },
  {
   "cell_type": "markdown",
   "id": "360faa8c",
   "metadata": {},
   "source": [
    "##### 'Outliers' in 'perimeter_se' column"
   ]
  },
  {
   "cell_type": "code",
   "execution_count": 349,
   "id": "cdf61f6e",
   "metadata": {},
   "outputs": [
    {
     "data": {
      "image/png": "[encoded data removed]",
      "text/plain": [
       "<Figure size 640x480 with 1 Axes>"
      ]
     },
     "metadata": {},
     "output_type": "display_data"
    }
   ],
   "source": [
    "# Boxplot of 'perimeter_se'  column to check outliers\n",
    "plt.boxplot(data['perimeter_se'])\n",
    "\n",
    "# display title\n",
    "plt.title(\"Boxplot of perimeter_se\")\n",
    "\n",
    "# display figures\n",
    "plt.show()"
   ]
  },
  {
   "cell_type": "code",
   "execution_count": 350,
   "id": "581c4bd3",
   "metadata": {},
   "outputs": [
    {
     "data": {
      "text/plain": [
       "\"Outliers of 'perimeter_se' column = [8.589, 11.07, 7.276, 8.077, 8.83, 6.311, 8.649, 7.382, 10.05, 9.807, 8.419, 6.971, 7.337, 7.029, 21.98, 6.487, 7.247, 6.372, 7.158, 10.12, 6.146, 7.749, 8.867, 7.237, 7.804, 6.076, 6.462, 7.222, 7.128, 7.733, 7.561, 9.424, 6.051, 18.65, 9.635, 7.05, 8.758, 7.673]\""
      ]
     },
     "execution_count": 350,
     "metadata": {},
     "output_type": "execute_result"
    }
   ],
   "source": [
    "# First Quartile of 'perimeter_se' column\n",
    "Q1_ps = np.percentile(data['perimeter_se'], 25, interpolation='midpoint')\n",
    "# Second Quartile of 'perimeter_se' column\n",
    "Q2_ps = np.percentile(data['perimeter_se'], 50, interpolation='midpoint')\n",
    "# Third Quartile of 'perimeter_se' column\n",
    "Q3_ps = np.percentile(data['perimeter_se'], 75, interpolation='midpoint')\n",
    "# (interquartile range) IQR of  'perimeter_se' column\n",
    "IQR_ps = Q3_ps-Q1_ps\n",
    "# lower whisker of 'perimeter_se'  column\n",
    "low_ps = Q1_ps-1.5*IQR_ps \n",
    "# upper whisker of 'perimeter_se' column\n",
    "up_ps = Q3_ps+1.5*IQR_ps\n",
    "\n",
    "# to find the outliers  in 'perimeter_se' column and display it\n",
    "outlier_ps = [] \n",
    "for x_ps in data['perimeter_se']:\n",
    "    if((x_ps>up_ps) or (x_ps<low_ps)):\n",
    "        outlier_ps.append(x_ps)\n",
    "f\"Outliers of 'perimeter_se' column = {outlier_ps}\""
   ]
  },
  {
   "cell_type": "markdown",
   "id": "e1e4e2e6",
   "metadata": {},
   "source": [
    "##### 'Outliers' in 'area_se' column"
   ]
  },
  {
   "cell_type": "code",
   "execution_count": 351,
   "id": "1926a10b",
   "metadata": {},
   "outputs": [
    {
     "data": {
      "image/png": "[encoded data removed]",
      "text/plain": [
       "<Figure size 640x480 with 1 Axes>"
      ]
     },
     "metadata": {},
     "output_type": "display_data"
    }
   ],
   "source": [
    "# Boxplot of 'area_se'  column to check outliers\n",
    "plt.boxplot(data['area_se'])\n",
    "\n",
    "# display title\n",
    "plt.title(\"Boxplot of area_se\")\n",
    "\n",
    "# display figures\n",
    "plt.show()"
   ]
  },
  {
   "cell_type": "code",
   "execution_count": 352,
   "id": "6f117a08",
   "metadata": {},
   "outputs": [
    {
     "data": {
      "text/plain": [
       "\"Outliers of 'area_se' column = [153.4, 94.03, 94.44, 116.2, 112.4, 93.99, 102.6, 111.4, 93.54, 105.0, 106.0, 104.9, 98.81, 102.5, 96.05, 134.8, 116.4, 120.0, 87.87, 170.0, 90.47, 233.0, 101.9, 93.91, 119.3, 97.07, 97.85, 122.3, 128.7, 111.7, 525.6, 124.4, 109.9, 155.8, 137.9, 92.81, 106.4, 138.5, 90.94, 199.7, 156.8, 133.0, 130.8, 87.17, 88.25, 164.1, 153.1, 103.6, 224.1, 130.2, 176.5, 103.9, 115.2, 542.2, 104.9, 89.74, 95.77, 180.2, 139.9, 100.4, 87.78, 118.8, 158.7, 99.04, 86.22]\""
      ]
     },
     "execution_count": 352,
     "metadata": {},
     "output_type": "execute_result"
    }
   ],
   "source": [
    "# First Quartile of 'area_se' column\n",
    "Q1_as = np.percentile(data['area_se'], 25, interpolation='midpoint')\n",
    "# Second Quartile of 'area_se' column\n",
    "Q2_as = np.percentile(data['area_se'], 50, interpolation='midpoint')\n",
    "# Third Quartile of 'area_se' column\n",
    "Q3_as = np.percentile(data['area_se'], 75, interpolation='midpoint')\n",
    "# (interquartile range) IQR of  'area_se' column\n",
    "IQR_as = Q3_as-Q1_as\n",
    "# lower whisker of 'area_se'  column\n",
    "low_as = Q1_as-1.5*IQR_as \n",
    "# upper whisker of 'area_se' column\n",
    "up_as = Q3_as+1.5*IQR_as\n",
    "\n",
    "# to find the outliers  in 'area_se' column and display it\n",
    "outlier_as = [] \n",
    "for x_as in data['area_se']:\n",
    "    if((x_as>up_as) or (x_as<low_as)):\n",
    "        outlier_as.append(x_as)\n",
    "f\"Outliers of 'area_se' column = {outlier_as}\""
   ]
  },
  {
   "cell_type": "markdown",
   "id": "67b442b3",
   "metadata": {},
   "source": [
    "##### 'Outliers' in 'smoothness_se'  column"
   ]
  },
  {
   "cell_type": "code",
   "execution_count": 353,
   "id": "7c251953",
   "metadata": {},
   "outputs": [
    {
     "data": {
      "image/png": "[encoded data removed]",
      "text/plain": [
       "<Figure size 640x480 with 1 Axes>"
      ]
     },
     "metadata": {},
     "output_type": "display_data"
    }
   ],
   "source": [
    "# Boxplot of 'smoothness_se'  column to check outliers\n",
    "plt.boxplot(data['smoothness_se'])\n",
    "\n",
    "# display title\n",
    "plt.title(\"Boxplot of smoothness_se\")\n",
    "\n",
    "# display figures\n",
    "plt.show()"
   ]
  },
  {
   "cell_type": "code",
   "execution_count": 354,
   "id": "397c5d9e",
   "metadata": {},
   "outputs": [
    {
     "data": {
      "text/plain": [
       "\"Outliers of 'smoothness_se' column = [0.01721, 0.0134, 0.01385, 0.01291, 0.01835, 0.02333, 0.01496, 0.01286, 0.01439, 0.0138, 0.01345, 0.03113, 0.01604, 0.0138, 0.01418, 0.01574, 0.02075, 0.01289, 0.01736, 0.01582, 0.01474, 0.01307, 0.01459, 0.02177, 0.01262, 0.01546, 0.01288, 0.01266, 0.01547, 0.01291]\""
      ]
     },
     "execution_count": 354,
     "metadata": {},
     "output_type": "execute_result"
    }
   ],
   "source": [
    "# First Quartile of 'smoothness_se' column\n",
    "Q1_ss = np.percentile(data['smoothness_se'], 25, interpolation='midpoint')\n",
    "# Second Quartile of 'smoothness_se' column\n",
    "Q2_ss = np.percentile(data['smoothness_se'], 50, interpolation='midpoint')\n",
    "# Third Quartile of 'smoothness_se' column\n",
    "Q3_ss = np.percentile(data['smoothness_se'], 75, interpolation='midpoint')\n",
    "# (interquartile range) IQR of  'smoothness_se' column\n",
    "IQR_ss = Q3_ss-Q1_ss\n",
    "# lower whisker of 'smoothness_se'  column\n",
    "low_ss = Q1_ss-1.5*IQR_ss \n",
    "# upper whisker of 'smoothness_se' column\n",
    "up_ss = Q3_ss+1.5*IQR_ss\n",
    "\n",
    "# to find the outliers  in 'smoothness_se' column and display it\n",
    "outlier_ss = [] \n",
    "for x_ss in data['smoothness_se']:\n",
    "    if((x_ss>up_ss) or (x_ss<low_ss)):\n",
    "        outlier_ss.append(x_ss)\n",
    "f\"Outliers of 'smoothness_se' column = {outlier_ss}\""
   ]
  },
  {
   "cell_type": "markdown",
   "id": "779c232d",
   "metadata": {},
   "source": [
    "##### 'Outliers' in 'compactness_se' column"
   ]
  },
  {
   "cell_type": "code",
   "execution_count": 355,
   "id": "01134b57",
   "metadata": {},
   "outputs": [
    {
     "data": {
      "image/png": "[encoded data removed]",
      "text/plain": [
       "<Figure size 640x480 with 1 Axes>"
      ]
     },
     "metadata": {},
     "output_type": "display_data"
    }
   ],
   "source": [
    "# Boxplot of 'compactness_se'  column to check outliers\n",
    "plt.boxplot(data['compactness_se'])\n",
    "\n",
    "# display title\n",
    "plt.title(\"Boxplot of compactness_se\")\n",
    "\n",
    "# display figures\n",
    "plt.show()"
   ]
  },
  {
   "cell_type": "code",
   "execution_count": 356,
   "id": "5348d77f",
   "metadata": {},
   "outputs": [
    {
     "data": {
      "text/plain": [
       "\"Outliers of 'compactness_se' column = [0.07458, 0.07217, 0.08297, 0.1006, 0.07056, 0.08606, 0.09368, 0.06835, 0.08668, 0.07446, 0.0676, 0.09806, 0.09586, 0.08808, 0.1354, 0.08555, 0.08262, 0.1064, 0.0659, 0.06559, 0.07643, 0.06669, 0.06213, 0.06657, 0.07025, 0.07471, 0.06457, 0.06158]\""
      ]
     },
     "execution_count": 356,
     "metadata": {},
     "output_type": "execute_result"
    }
   ],
   "source": [
    "# First Quartile of 'compactness_se' column\n",
    "Q1_cs = np.percentile(data['compactness_se'], 25, interpolation='midpoint')\n",
    "# Second Quartile of 'compactness_se' column\n",
    "Q2_cs = np.percentile(data['compactness_se'], 50, interpolation='midpoint')\n",
    "# Third Quartile of 'compactness_se' column\n",
    "Q3_cs = np.percentile(data['compactness_se'], 75, interpolation='midpoint')\n",
    "# (interquartile range) IQR of  'compactness_se' column\n",
    "IQR_cs = Q3_cs-Q1_cs\n",
    "# lower whisker of 'compactness_se'  column\n",
    "low_cs = Q1_cs-1.5*IQR_cs \n",
    "# upper whisker of 'compactness_se' column\n",
    "up_cs = Q3_cs+1.5*IQR_cs\n",
    "\n",
    "# to find the outliers  in 'compactness_se' column and display it\n",
    "outlier_cs = [] \n",
    "for x_cs in data['compactness_se']:\n",
    "    if((x_cs>up_cs) or (x_cs<low_cs)):\n",
    "        outlier_cs.append(x_cs)\n",
    "f\"Outliers of 'compactness_se' column = {outlier_cs}\""
   ]
  },
  {
   "cell_type": "markdown",
   "id": "26bfbcfb",
   "metadata": {},
   "source": [
    "##### 'Outliers' in 'concavity_se' column"
   ]
  },
  {
   "cell_type": "code",
   "execution_count": 357,
   "id": "f7a3cc23",
   "metadata": {},
   "outputs": [
    {
     "data": {
      "image/png": "[encoded data removed]",
      "text/plain": [
       "<Figure size 640x480 with 1 Axes>"
      ]
     },
     "metadata": {},
     "output_type": "display_data"
    }
   ],
   "source": [
    "# Boxplot of 'concavity_se'  column to check outliers\n",
    "plt.boxplot(data['concavity_se'])\n",
    "\n",
    "# display title\n",
    "plt.title(\"Boxplot of concavity_se\")\n",
    "\n",
    "# display figures\n",
    "plt.show()"
   ]
  },
  {
   "cell_type": "code",
   "execution_count": 358,
   "id": "d98f2340",
   "metadata": {},
   "outputs": [
    {
     "data": {
      "text/plain": [
       "\"Outliers of 'concavity_se' column = [0.0889, 0.09723, 0.3038, 0.1091, 0.104, 0.1435, 0.09263, 0.1278, 0.396, 0.1197, 0.1166, 0.08958, 0.1438, 0.0888, 0.09518, 0.0996, 0.1027, 0.09953, 0.1535, 0.09472, 0.1114, 0.09252]\""
      ]
     },
     "execution_count": 358,
     "metadata": {},
     "output_type": "execute_result"
    }
   ],
   "source": [
    "# First Quartile of 'concavity_se' column\n",
    "Q1_cse = np.percentile(data['concavity_se'], 25, interpolation='midpoint')\n",
    "# Second Quartile of 'concavity_se' column\n",
    "Q2_cse = np.percentile(data['concavity_se'], 50, interpolation='midpoint')\n",
    "# Third Quartile of 'concavity_se' column\n",
    "Q3_cse = np.percentile(data['concavity_se'], 75, interpolation='midpoint')\n",
    "# (interquartile range) IQR of  'concavity_se' column\n",
    "IQR_cse = Q3_cse-Q1_cse\n",
    "# lower whisker of 'concavity_se'  column\n",
    "low_cse = Q1_cse-1.5*IQR_cse \n",
    "# upper whisker of 'concavity_se' column\n",
    "up_cse = Q3_cse+1.5*IQR_cse\n",
    "\n",
    "# to find the outliers  in 'concavity_se' column and display it\n",
    "outlier_cse = [] \n",
    "for x_cse in data['concavity_se']:\n",
    "    if((x_cse>up_cse) or (x_cse<low_cse)):\n",
    "        outlier_cse.append(x_cse)\n",
    "f\"Outliers of 'concavity_se' column = {outlier_cse}\""
   ]
  },
  {
   "cell_type": "markdown",
   "id": "ec494db5",
   "metadata": {},
   "source": [
    "##### 'Outliers' in 'concave points_se' column"
   ]
  },
  {
   "cell_type": "code",
   "execution_count": 359,
   "id": "6c4b1c17",
   "metadata": {},
   "outputs": [
    {
     "data": {
      "image/png": "[encoded data removed]",
      "text/plain": [
       "<Figure size 640x480 with 1 Axes>"
      ]
     },
     "metadata": {},
     "output_type": "display_data"
    }
   ],
   "source": [
    "# Boxplot of 'concave points_se'  column to check outliers\n",
    "plt.boxplot(data['concave points_se'])\n",
    "\n",
    "# display title\n",
    "plt.title(\"Boxplot of concave points_se\")\n",
    "\n",
    "# display figures\n",
    "plt.show()"
   ]
  },
  {
   "cell_type": "code",
   "execution_count": 360,
   "id": "552d0c97",
   "metadata": {},
   "outputs": [
    {
     "data": {
      "text/plain": [
       "\"Outliers of 'concave points_se' column = [0.0409, 0.02638, 0.03322, 0.02593, 0.02801, 0.05279, 0.02794, 0.02765, 0.03927, 0.03024, 0.03487, 0.02771, 0.02536, 0.02919, 0.03441, 0.02598, 0.02721, 0.02853, 0.02624]\""
      ]
     },
     "execution_count": 360,
     "metadata": {},
     "output_type": "execute_result"
    }
   ],
   "source": [
    "# First Quartile of 'concave points_se' column\n",
    "Q1_cps = np.percentile(data['concave points_se'], 25, interpolation='midpoint')\n",
    "# Second Quartile of 'concave points_se' column\n",
    "Q2_cps = np.percentile(data['concave points_se'], 50, interpolation='midpoint')\n",
    "# Third Quartile of 'concave points_se' column\n",
    "Q3_cps = np.percentile(data['concave points_se'], 75, interpolation='midpoint')\n",
    "# (interquartile range) IQR of  'concave points_se' column\n",
    "IQR_cps = Q3_cps-Q1_cps\n",
    "# lower whisker of 'concave points_se'  column\n",
    "low_cps = Q1_cps-1.5*IQR_cps \n",
    "# upper whisker of 'concave points_se' column\n",
    "up_cps = Q3_cps+1.5*IQR_cps\n",
    "\n",
    "# to find the outliers  in 'concave points_se' column and display it\n",
    "outlier_cps = [] \n",
    "for x_cps in data['concave points_se']:\n",
    "    if((x_cps>up_cps) or (x_cps<low_cps)):\n",
    "        outlier_cps.append(x_cps)\n",
    "f\"Outliers of 'concave points_se' column = {outlier_cps}\""
   ]
  },
  {
   "cell_type": "markdown",
   "id": "d3b72c69",
   "metadata": {},
   "source": [
    "##### 'Outliers' in 'symmetry_se'  column"
   ]
  },
  {
   "cell_type": "code",
   "execution_count": 361,
   "id": "b91e8545",
   "metadata": {},
   "outputs": [
    {
     "data": {
      "image/png": "[encoded data removed]",
      "text/plain": [
       "<Figure size 640x480 with 1 Axes>"
      ]
     },
     "metadata": {},
     "output_type": "display_data"
    }
   ],
   "source": [
    "# Boxplot of 'symmetry_se'  column to check outliers\n",
    "plt.boxplot(data['symmetry_se'])\n",
    "\n",
    "# display title\n",
    "plt.title(\"Boxplot of symmetry_se\")\n",
    "\n",
    "# display figures\n",
    "plt.show()"
   ]
  },
  {
   "cell_type": "code",
   "execution_count": 362,
   "id": "5fb9255c",
   "metadata": {},
   "outputs": [
    {
     "data": {
      "text/plain": [
       "\"Outliers of 'symmetry_se' column = [0.05963, 0.04484, 0.03672, 0.05333, 0.04183, 0.04192, 0.04197, 0.07895, 0.05014, 0.04547, 0.05168, 0.05628, 0.0388, 0.05113, 0.03799, 0.04783, 0.04499, 0.04077, 0.06146, 0.04022, 0.04243, 0.03756, 0.03675, 0.05543, 0.0371, 0.03997, 0.03759]\""
      ]
     },
     "execution_count": 362,
     "metadata": {},
     "output_type": "execute_result"
    }
   ],
   "source": [
    "# First Quartile of 'symmetry_se' column\n",
    "Q1_ss1 = np.percentile(data['symmetry_se'], 25, interpolation='midpoint')\n",
    "# Second Quartile of 'symmetry_se' column\n",
    "Q2_ss1 = np.percentile(data['symmetry_se'], 50, interpolation='midpoint')\n",
    "# Third Quartile of 'symmetry_se' column\n",
    "Q3_ss1 = np.percentile(data['symmetry_se'], 75, interpolation='midpoint')\n",
    "# (interquartile range) IQR of  'symmetry_se' column\n",
    "IQR_ss1 = Q3_ss1-Q1_ss1\n",
    "# lower whisker of 'symmetry_se'  column\n",
    "low_ss1 = Q1_ss1-1.5*IQR_ss1 \n",
    "# upper whisker of 'symmetry_se' column\n",
    "up_ss1 = Q3_ss1+1.5*IQR_ss1\n",
    "\n",
    "# to find the outliers  in 'symmetry_se' column and display it\n",
    "outlier_ss1 = [] \n",
    "for x_ss1 in data['symmetry_se']:\n",
    "    if((x_ss1>up_ss1) or (x_ss1<low_ss1)):\n",
    "        outlier_ss1.append(x_ss1)\n",
    "f\"Outliers of 'symmetry_se' column = {outlier_ss1}\""
   ]
  },
  {
   "cell_type": "markdown",
   "id": "85d61020",
   "metadata": {},
   "source": [
    "##### 'Outliers' in 'fractal_dimension_se' column"
   ]
  },
  {
   "cell_type": "code",
   "execution_count": 363,
   "id": "16e9a8ef",
   "metadata": {},
   "outputs": [
    {
     "data": {
      "image/png": "[encoded data removed]",
      "text/plain": [
       "<Figure size 640x480 with 1 Axes>"
      ]
     },
     "metadata": {},
     "output_type": "display_data"
    }
   ],
   "source": [
    "# Boxplot of 'fractal_dimension_se'  column to check outliers\n",
    "plt.boxplot(data['fractal_dimension_se'])\n",
    "\n",
    "# display title\n",
    "plt.title(\"Boxplot of fractal_dimension_se\")\n",
    "\n",
    "# display figures\n",
    "plt.show()"
   ]
  },
  {
   "cell_type": "code",
   "execution_count": 364,
   "id": "fed40b12",
   "metadata": {},
   "outputs": [
    {
     "data": {
      "text/plain": [
       "\"Outliers of 'fractal_dimension_se' column = [0.009208, 0.01008, 0.01284, 0.008093, 0.009559, 0.02193, 0.01039, 0.01298, 0.009875, 0.009423, 0.009368, 0.01178, 0.02984, 0.01792, 0.01172, 0.01256, 0.008675, 0.00866, 0.02286, 0.0122, 0.01233, 0.008925, 0.008133, 0.0113, 0.009627, 0.01045, 0.01148, 0.008313]\""
      ]
     },
     "execution_count": 364,
     "metadata": {},
     "output_type": "execute_result"
    }
   ],
   "source": [
    "# First Quartile of 'fractal_dimension_se' column\n",
    "Q1_fds = np.percentile(data['fractal_dimension_se'], 25, interpolation='midpoint')\n",
    "# Second Quartile of 'fractal_dimension_se' column\n",
    "Q2_fds = np.percentile(data['fractal_dimension_se'], 50, interpolation='midpoint')\n",
    "# Third Quartile of 'fractal_dimension_se' column\n",
    "Q3_fds = np.percentile(data['fractal_dimension_se'], 75, interpolation='midpoint')\n",
    "# (interquartile range) IQR of  'fractal_dimension_se' column\n",
    "IQR_fds = Q3_fds-Q1_fds\n",
    "# lower whisker of 'fractal_dimension_se'  column\n",
    "low_fds = Q1_fds-1.5*IQR_fds \n",
    "# upper whisker of 'fractal_dimension_se' column\n",
    "up_fds = Q3_fds+1.5*IQR_fds\n",
    "\n",
    "# to find the outliers  in 'fractal_dimension_se' column and display it\n",
    "outlier_fds = [] \n",
    "for x_fds in data['fractal_dimension_se']:\n",
    "    if((x_fds>up_fds) or (x_fds<low_fds)):\n",
    "        outlier_fds.append(x_fds)\n",
    "f\"Outliers of 'fractal_dimension_se' column = {outlier_fds}\""
   ]
  },
  {
   "cell_type": "markdown",
   "id": "57d364d3",
   "metadata": {},
   "source": [
    "##### 'Outliers' in 'radius_worst' column"
   ]
  },
  {
   "cell_type": "code",
   "execution_count": 365,
   "id": "2c7f7602",
   "metadata": {},
   "outputs": [
    {
     "data": {
      "image/png": "[encoded data removed]",
      "text/plain": [
       "<Figure size 640x480 with 1 Axes>"
      ]
     },
     "metadata": {},
     "output_type": "display_data"
    }
   ],
   "source": [
    "# Boxplot of 'radius_worst'  column to check outliers\n",
    "plt.boxplot(data['radius_worst'])\n",
    "\n",
    "# display title\n",
    "plt.title(\"Boxplot of radius_worst\")\n",
    "\n",
    "# display figures\n",
    "plt.show()"
   ]
  },
  {
   "cell_type": "code",
   "execution_count": 366,
   "id": "9ca80875",
   "metadata": {},
   "outputs": [
    {
     "data": {
      "text/plain": [
       "\"Outliers of 'radius_worst' column = [29.17, 30.0, 28.4, 28.01, 33.12, 28.11, 27.9, 31.01, 32.49, 28.19, 30.67, 33.13, 30.75, 27.66, 36.04, 30.79, 29.92]\""
      ]
     },
     "execution_count": 366,
     "metadata": {},
     "output_type": "execute_result"
    }
   ],
   "source": [
    "# First Quartile of 'radius_worst' column\n",
    "Q1_rw = np.percentile(data['radius_worst'], 25, interpolation='midpoint')\n",
    "# Second Quartile of 'radius_worst' column\n",
    "Q2_rw = np.percentile(data['radius_worst'], 50, interpolation='midpoint')\n",
    "# Third Quartile of 'radius_worst' column\n",
    "Q3_rw = np.percentile(data['radius_worst'], 75, interpolation='midpoint')\n",
    "# (interquartile range) IQR of  'radius_worst' column\n",
    "IQR_rw = Q3_rw-Q1_rw\n",
    "# lower whisker of 'radius_worst'  column\n",
    "low_rw = Q1_rw-1.5*IQR_rw \n",
    "# upper whisker of 'radius_worst' column\n",
    "up_rw = Q3_rw+1.5*IQR_rw\n",
    "\n",
    "# to find the outliers  in 'radius_worst' column and display it\n",
    "outlier_rw = [] \n",
    "for x_rw in data['radius_worst']:\n",
    "    if((x_rw>up_rw) or (x_rw<low_rw)):\n",
    "        outlier_rw.append(x_rw)\n",
    "f\"Outliers of 'radius_worst' column = {outlier_rw}\""
   ]
  },
  {
   "cell_type": "markdown",
   "id": "5392a4a2",
   "metadata": {},
   "source": [
    "##### 'Outliers' in 'texture_worst'  column"
   ]
  },
  {
   "cell_type": "code",
   "execution_count": 367,
   "id": "cfb4bf0c",
   "metadata": {},
   "outputs": [
    {
     "data": {
      "image/png": "[encoded data removed]",
      "text/plain": [
       "<Figure size 640x480 with 1 Axes>"
      ]
     },
     "metadata": {},
     "output_type": "display_data"
    }
   ],
   "source": [
    "# Boxplot of 'texture_worst'  column to check outliers\n",
    "plt.boxplot(data['texture_worst'])\n",
    "\n",
    "# display title\n",
    "plt.title(\"Boxplot of texture_worst\")\n",
    "\n",
    "# display figures\n",
    "plt.show()"
   ]
  },
  {
   "cell_type": "code",
   "execution_count": 368,
   "id": "abeba17c",
   "metadata": {},
   "outputs": [
    {
     "data": {
      "text/plain": [
       "\"Outliers of 'texture_worst' column = [45.41, 44.87, 49.54, 47.16, 42.79]\""
      ]
     },
     "execution_count": 368,
     "metadata": {},
     "output_type": "execute_result"
    }
   ],
   "source": [
    "# First Quartile of 'texture_worst' column\n",
    "Q1_tw = np.percentile(data['texture_worst'], 25, interpolation='midpoint')\n",
    "# Second Quartile of 'texture_worst' column\n",
    "Q2_tw = np.percentile(data['texture_worst'], 50, interpolation='midpoint')\n",
    "# Third Quartile of 'texture_worst' column\n",
    "Q3_tw = np.percentile(data['texture_worst'], 75, interpolation='midpoint')\n",
    "# (interquartile range) IQR of  'texture_worst' column\n",
    "IQR_tw = Q3_tw-Q1_tw\n",
    "# lower whisker of 'texture_worst'  column\n",
    "low_tw = Q1_tw-1.5*IQR_tw \n",
    "# upper whisker of 'texture_worst' column\n",
    "up_tw = Q3_tw+1.5*IQR_tw\n",
    "\n",
    "# to find the outliers  in 'texture_worst' column and display it\n",
    "outlier_tw = [] \n",
    "for x_tw in data['texture_worst']:\n",
    "    if((x_tw>up_tw) or (x_tw<low_tw)):\n",
    "        outlier_tw.append(x_tw)\n",
    "f\"Outliers of 'texture_worst' column = {outlier_tw}\""
   ]
  },
  {
   "cell_type": "markdown",
   "id": "60fdb6cf",
   "metadata": {},
   "source": [
    "##### 'Outliers' in 'perimeter_worst' column"
   ]
  },
  {
   "cell_type": "code",
   "execution_count": 369,
   "id": "c2983f99",
   "metadata": {},
   "outputs": [
    {
     "data": {
      "image/png": "[encoded data removed]",
      "text/plain": [
       "<Figure size 640x480 with 1 Axes>"
      ]
     },
     "metadata": {},
     "output_type": "display_data"
    }
   ],
   "source": [
    "# Boxplot of 'perimeter_worst'  column to check outliers\n",
    "plt.boxplot(data['perimeter_worst'])\n",
    "\n",
    "# display title\n",
    "plt.title(\"Boxplot of perimeter_worst\")\n",
    "\n",
    "# display figures\n",
    "plt.show()"
   ]
  },
  {
   "cell_type": "code",
   "execution_count": 370,
   "id": "839afb92",
   "metadata": {},
   "outputs": [
    {
     "data": {
      "text/plain": [
       "\"Outliers of 'perimeter_worst' column = [188.0, 211.7, 206.8, 220.8, 188.5, 206.0, 214.0, 195.9, 202.4, 229.3, 199.5, 195.0, 251.2, 211.5, 205.7]\""
      ]
     },
     "execution_count": 370,
     "metadata": {},
     "output_type": "execute_result"
    }
   ],
   "source": [
    "# First Quartile of 'perimeter_worst' column\n",
    "Q1_pw = np.percentile(data['perimeter_worst'], 25, interpolation='midpoint')\n",
    "# Second Quartile of 'perimeter_worst' column\n",
    "Q2_pw = np.percentile(data['perimeter_worst'], 50, interpolation='midpoint')\n",
    "# Third Quartile of 'perimeter_worst' column\n",
    "Q3_pw = np.percentile(data['perimeter_worst'], 75, interpolation='midpoint')\n",
    "# (interquartile range) IQR of  'perimeter_worst' column\n",
    "IQR_pw = Q3_pw-Q1_pw\n",
    "# lower whisker of 'perimeter_worst'  column\n",
    "low_pw = Q1_pw-1.5*IQR_pw \n",
    "# upper whisker of 'perimeter_worst' column\n",
    "up_pw = Q3_pw+1.5*IQR_pw\n",
    "\n",
    "# to find the outliers  in 'perimeter_worst' column and display it\n",
    "outlier_pw = [] \n",
    "for x_pw in data['perimeter_worst']:\n",
    "    if((x_pw>up_pw) or (x_pw<low_pw)):\n",
    "        outlier_pw.append(x_pw)\n",
    "f\"Outliers of 'perimeter_worst' column = {outlier_pw}\""
   ]
  },
  {
   "cell_type": "markdown",
   "id": "e1efcf8f",
   "metadata": {},
   "source": [
    "##### 'Outliers' in 'area_worst' column"
   ]
  },
  {
   "cell_type": "code",
   "execution_count": 371,
   "id": "c84b55c2",
   "metadata": {},
   "outputs": [
    {
     "data": {
      "image/png": "[encoded data removed]",
      "text/plain": [
       "<Figure size 640x480 with 1 Axes>"
      ]
     },
     "metadata": {},
     "output_type": "display_data"
    }
   ],
   "source": [
    "# Boxplot of 'area_worst'  column to check outliers\n",
    "plt.boxplot(data['area_worst'])\n",
    "\n",
    "# display title\n",
    "plt.title(\"Boxplot of area_worst\")\n",
    "\n",
    "# display figures\n",
    "plt.show()"
   ]
  },
  {
   "cell_type": "code",
   "execution_count": 372,
   "id": "f96c6e83",
   "metadata": {},
   "outputs": [
    {
     "data": {
      "text/plain": [
       "\"Outliers of 'area_worst' column = [2019.0, 1956.0, 2398.0, 2615.0, 2215.0, 2145.0, 2562.0, 2360.0, 2073.0, 2232.0, 2403.0, 3216.0, 2089.0, 1986.0, 2499.0, 2009.0, 2477.0, 2944.0, 2010.0, 1972.0, 3432.0, 2384.0, 2053.0, 1938.0, 2906.0, 3234.0, 3143.0, 2227.0, 1946.0, 2081.0, 2022.0, 4254.0, 2782.0, 2642.0, 2027.0]\""
      ]
     },
     "execution_count": 372,
     "metadata": {},
     "output_type": "execute_result"
    }
   ],
   "source": [
    "# First Quartile of 'area_worst' column\n",
    "Q1_aw = np.percentile(data['area_worst'], 25, interpolation='midpoint')\n",
    "# Second Quartile of 'area_worst' column\n",
    "Q2_aw = np.percentile(data['area_worst'], 50, interpolation='midpoint')\n",
    "# Third Quartile of 'area_worst' column\n",
    "Q3_aw = np.percentile(data['area_worst'], 75, interpolation='midpoint')\n",
    "# (interquartile range) IQR of  'area_worst' column\n",
    "IQR_aw = Q3_aw-Q1_aw\n",
    "# lower whisker of 'area_worst'  column\n",
    "low_aw = Q1_aw-1.5*IQR_aw \n",
    "# upper whisker of 'area_worst' column\n",
    "up_aw = Q3_aw+1.5*IQR_aw\n",
    "\n",
    "# to find the outliers  in 'area_worst' column and display it\n",
    "outlier_aw = [] \n",
    "for x_aw in data['area_worst']:\n",
    "    if((x_aw>up_aw) or (x_aw<low_aw)):\n",
    "        outlier_aw.append(x_aw)\n",
    "f\"Outliers of 'area_worst' column = {outlier_aw}\""
   ]
  },
  {
   "cell_type": "markdown",
   "id": "6ef9cdcd",
   "metadata": {},
   "source": [
    "##### 'Outliers' in 'smoothness_worst' column"
   ]
  },
  {
   "cell_type": "code",
   "execution_count": 373,
   "id": "45c376fb",
   "metadata": {},
   "outputs": [
    {
     "data": {
      "image/png": "[encoded data removed]",
      "text/plain": [
       "<Figure size 640x480 with 1 Axes>"
      ]
     },
     "metadata": {},
     "output_type": "display_data"
    }
   ],
   "source": [
    "# Boxplot of 'smoothness_worst'  column to check outliers\n",
    "plt.boxplot(data['smoothness_worst'])\n",
    "\n",
    "# display title\n",
    "plt.title(\"Boxplot of smoothness_worst\")\n",
    "\n",
    "# display figures\n",
    "plt.show()"
   ]
  },
  {
   "cell_type": "code",
   "execution_count": 374,
   "id": "78234ea5",
   "metadata": {},
   "outputs": [
    {
     "data": {
      "text/plain": [
       "\"Outliers of 'smoothness_worst' column = [0.2098, 0.1909, 0.07117, 0.2226, 0.2184, 0.1902, 0.2006]\""
      ]
     },
     "execution_count": 374,
     "metadata": {},
     "output_type": "execute_result"
    }
   ],
   "source": [
    "# First Quartile of 'smoothness_worst' column\n",
    "Q1_sw = np.percentile(data['smoothness_worst'], 25, interpolation='midpoint')\n",
    "# Second Quartile of 'smoothness_worst' column\n",
    "Q2_sw = np.percentile(data['smoothness_worst'], 50, interpolation='midpoint')\n",
    "# Third Quartile of 'smoothness_worst' column\n",
    "Q3_sw = np.percentile(data['smoothness_worst'], 75, interpolation='midpoint')\n",
    "# (interquartile range) IQR of  'smoothness_worst' column\n",
    "IQR_sw = Q3_sw-Q1_sw\n",
    "# lower whisker of 'smoothness_worst'  column\n",
    "low_sw = Q1_sw-1.5*IQR_sw \n",
    "# upper whisker of 'smoothness_worst' column\n",
    "up_sw = Q3_sw+1.5*IQR_sw\n",
    "\n",
    "# to find the outliers  in 'smoothness_worst' column and display it\n",
    "outlier_sw = [] \n",
    "for x_sw in data['smoothness_worst']:\n",
    "    if((x_sw>up_sw) or (x_sw<low_sw)):\n",
    "        outlier_sw.append(x_sw)\n",
    "f\"Outliers of 'smoothness_worst' column = {outlier_sw}\""
   ]
  },
  {
   "cell_type": "markdown",
   "id": "1a7ae41a",
   "metadata": {},
   "source": [
    "##### 'Outliers' in 'compactness_worst' column"
   ]
  },
  {
   "cell_type": "code",
   "execution_count": 375,
   "id": "72b93ac3",
   "metadata": {},
   "outputs": [
    {
     "data": {
      "image/png": "[encoded data removed]",
      "text/plain": [
       "<Figure size 640x480 with 1 Axes>"
      ]
     },
     "metadata": {},
     "output_type": "display_data"
    }
   ],
   "source": [
    "# Boxplot of 'compactness_worst'  column to check outliers\n",
    "plt.boxplot(data['compactness_worst'])\n",
    "\n",
    "# display title\n",
    "plt.title(\"Boxplot of compactness_worst\")\n",
    "\n",
    "# display figures\n",
    "plt.show()"
   ]
  },
  {
   "cell_type": "code",
   "execution_count": 376,
   "id": "91801a4e",
   "metadata": {},
   "outputs": [
    {
     "data": {
      "text/plain": [
       "\"Outliers of 'compactness_worst' column = [0.6656, 0.8663, 1.058, 0.7725, 0.6577, 0.6643, 0.659, 0.7444, 0.7394, 0.6997, 0.7584, 0.9327, 0.9379, 0.709, 0.7917, 0.8681]\""
      ]
     },
     "execution_count": 376,
     "metadata": {},
     "output_type": "execute_result"
    }
   ],
   "source": [
    "# First Quartile of 'compactness_worst' column\n",
    "Q1_cw = np.percentile(data['compactness_worst'], 25, interpolation='midpoint')\n",
    "# Second Quartile of 'compactness_worst' column\n",
    "Q2_cw = np.percentile(data['compactness_worst'], 50, interpolation='midpoint')\n",
    "# Third Quartile of 'compactness_worst' column\n",
    "Q3_cw = np.percentile(data['compactness_worst'], 75, interpolation='midpoint')\n",
    "# (interquartile range) IQR of  'compactness_worst' column\n",
    "IQR_cw = Q3_cw-Q1_cw\n",
    "# lower whisker of 'compactness_worst'  column\n",
    "low_cw = Q1_cw-1.5*IQR_cw \n",
    "# upper whisker of 'compactness_worst' column\n",
    "up_cw = Q3_cw+1.5*IQR_cw\n",
    "\n",
    "# to find the outliers  in 'compactness_worst' column and display it\n",
    "outlier_cw = [] \n",
    "for x_cw in data['compactness_worst']:\n",
    "    if((x_cw>up_cw) or (x_cw<low_cw)):\n",
    "        outlier_cw.append(x_cw)\n",
    "f\"Outliers of 'compactness_worst' column = {outlier_cw}\""
   ]
  },
  {
   "cell_type": "markdown",
   "id": "7c9b6c04",
   "metadata": {},
   "source": [
    "##### 'Outliers' in 'concavity_worst' column"
   ]
  },
  {
   "cell_type": "code",
   "execution_count": 377,
   "id": "e90f71bf",
   "metadata": {},
   "outputs": [
    {
     "data": {
      "image/png": "[encoded data removed]",
      "text/plain": [
       "<Figure size 640x480 with 1 Axes>"
      ]
     },
     "metadata": {},
     "output_type": "display_data"
    }
   ],
   "source": [
    "# Boxplot of 'concavity_worst'  column to check outliers\n",
    "plt.boxplot(data['concavity_worst'])\n",
    "\n",
    "# display title\n",
    "plt.title(\"Boxplot of concavity_worst\")\n",
    "\n",
    "# display figures\n",
    "plt.show()"
   ]
  },
  {
   "cell_type": "code",
   "execution_count": 378,
   "id": "c137c46d",
   "metadata": {},
   "outputs": [
    {
     "data": {
      "text/plain": [
       "\"Outliers of 'concavity_worst' column = [1.105, 1.252, 0.9608, 0.8216, 0.8488, 0.7892, 0.8489, 0.8402, 0.9034, 0.9019, 1.17, 0.9387]\""
      ]
     },
     "execution_count": 378,
     "metadata": {},
     "output_type": "execute_result"
    }
   ],
   "source": [
    "# First Quartile of 'concavity_worst' column\n",
    "Q1_cnw = np.percentile(data['concavity_worst'], 25, interpolation='midpoint')\n",
    "# Second Quartile of 'concavity_worst' column\n",
    "Q2_cnw = np.percentile(data['concavity_worst'], 50, interpolation='midpoint')\n",
    "# Third Quartile of 'concavity_worst' column\n",
    "Q3_cnw = np.percentile(data['concavity_worst'], 75, interpolation='midpoint')\n",
    "# (interquartile range) IQR of  'concavity_worst' column\n",
    "IQR_cnw = Q3_cnw-Q1_cnw\n",
    "# lower whisker of 'concavity_worst'  column\n",
    "low_cnw = Q1_cnw-1.5*IQR_cnw \n",
    "# upper whisker of 'concavity_worst' column\n",
    "up_cnw = Q3_cnw+1.5*IQR_cnw\n",
    "\n",
    "# to find the outliers  in 'concavity_worst' column and display it\n",
    "outlier_cnw = [] \n",
    "for x_cnw in data['concavity_worst']:\n",
    "    if((x_cnw>up_cnw) or (x_cnw<low_cnw)):\n",
    "        outlier_cnw.append(x_cnw)\n",
    "f\"Outliers of 'concavity_worst' column = {outlier_cnw}\""
   ]
  },
  {
   "cell_type": "markdown",
   "id": "5a8807ce",
   "metadata": {},
   "source": [
    "##### 'Outliers' in 'concave points_worst' column"
   ]
  },
  {
   "cell_type": "code",
   "execution_count": 379,
   "id": "2a2d1f50",
   "metadata": {},
   "outputs": [
    {
     "data": {
      "image/png": "[encoded data removed]",
      "text/plain": [
       "<Figure size 640x480 with 1 Axes>"
      ]
     },
     "metadata": {},
     "output_type": "display_data"
    }
   ],
   "source": [
    "# Boxplot of 'concave points_worst'  column to check outliers\n",
    "plt.boxplot(data['concave points_worst'])\n",
    "\n",
    "# display title\n",
    "plt.title(\"Boxplot of concave points_worst\")\n",
    "\n",
    "# display figures\n",
    "plt.show()"
   ]
  },
  {
   "cell_type": "markdown",
   "id": "094e5214",
   "metadata": {},
   "source": [
    "~ no outliers present in 'concave points_worst'  column "
   ]
  },
  {
   "cell_type": "markdown",
   "id": "e82624a6",
   "metadata": {},
   "source": [
    "##### 'Outliers' in 'symmetry_worst' column"
   ]
  },
  {
   "cell_type": "code",
   "execution_count": 380,
   "id": "64c352cd",
   "metadata": {},
   "outputs": [
    {
     "data": {
      "image/png": "[encoded data removed]",
      "text/plain": [
       "<Figure size 640x480 with 1 Axes>"
      ]
     },
     "metadata": {},
     "output_type": "display_data"
    }
   ],
   "source": [
    "# Boxplot of 'symmetry_worst'  column to check outliers\n",
    "plt.boxplot(data['symmetry_worst'])\n",
    "\n",
    "# display title\n",
    "plt.title(\"Boxplot of symmetry_worst\")\n",
    "\n",
    "# display figures\n",
    "plt.show()"
   ]
  },
  {
   "cell_type": "code",
   "execution_count": 381,
   "id": "f1a454f9",
   "metadata": {},
   "outputs": [
    {
     "data": {
      "text/plain": [
       "\"Outliers of 'symmetry_worst' column = [0.4601, 0.6638, 0.4378, 0.4366, 0.4218, 0.4667, 0.4264, 0.4761, 0.427, 0.4863, 0.467, 0.4228, 0.544, 0.4882, 0.5774, 0.5166, 0.4753, 0.4432, 0.4724, 0.5558, 0.4245, 0.4824, 0.4677]\""
      ]
     },
     "execution_count": 381,
     "metadata": {},
     "output_type": "execute_result"
    }
   ],
   "source": [
    "# First Quartile of 'symmetry_worst' column\n",
    "Q1_syw = np.percentile(data['symmetry_worst'], 25, interpolation='midpoint')\n",
    "# Second Quartile of 'symmetry_worst' column\n",
    "Q2_syw = np.percentile(data['symmetry_worst'], 50, interpolation='midpoint')\n",
    "# Third Quartile of 'symmetry_worst' column\n",
    "Q3_syw = np.percentile(data['symmetry_worst'], 75, interpolation='midpoint')\n",
    "# (interquartile range) IQR of  'symmetry_worst' column\n",
    "IQR_syw = Q3_syw-Q1_syw\n",
    "# lower whisker of 'symmetry_worst'  column\n",
    "low_syw = Q1_syw-1.5*IQR_syw \n",
    "# upper whisker of 'symmetry_worst' column\n",
    "up_syw = Q3_syw+1.5*IQR_syw\n",
    "\n",
    "# to find the outliers  in 'symmetry_worst' column and display it\n",
    "outlier_syw = [] \n",
    "for x_syw in data['symmetry_worst']:\n",
    "    if((x_syw>up_syw) or (x_syw<low_syw)):\n",
    "        outlier_syw.append(x_syw)\n",
    "f\"Outliers of 'symmetry_worst' column = {outlier_syw}\""
   ]
  },
  {
   "cell_type": "markdown",
   "id": "c886679a",
   "metadata": {},
   "source": [
    "##### 'Outliers' in 'fractal_dimension_worst' column"
   ]
  },
  {
   "cell_type": "code",
   "execution_count": 382,
   "id": "811b2a29",
   "metadata": {},
   "outputs": [
    {
     "data": {
      "image/png": "[encoded data removed]",
      "text/plain": [
       "<Figure size 640x480 with 1 Axes>"
      ]
     },
     "metadata": {},
     "output_type": "display_data"
    }
   ],
   "source": [
    "# Boxplot of 'fractal_dimension_worst'  column to check outliers\n",
    "plt.boxplot(data['fractal_dimension_worst'])\n",
    "\n",
    "# display title\n",
    "plt.title(\"Boxplot of fractal_dimension_worst\")\n",
    "\n",
    "# display figures\n",
    "plt.show()"
   ]
  },
  {
   "cell_type": "code",
   "execution_count": 383,
   "id": "b5d83a98",
   "metadata": {},
   "outputs": [
    {
     "data": {
      "text/plain": [
       "\"Outliers of 'fractal_dimension_worst' column = [0.173, 0.1244, 0.2075, 0.1431, 0.1341, 0.1275, 0.1402, 0.1233, 0.1339, 0.1405, 0.1252, 0.1486, 0.1259, 0.1284, 0.1446, 0.1243, 0.1297, 0.1297, 0.1403, 0.1249, 0.1252, 0.1364, 0.1409, 0.124]\""
      ]
     },
     "execution_count": 383,
     "metadata": {},
     "output_type": "execute_result"
    }
   ],
   "source": [
    "# First Quartile of 'fractal_dimension_worst' column\n",
    "Q1_fdw = np.percentile(data['fractal_dimension_worst'], 25, interpolation='midpoint')\n",
    "# Second Quartile of 'fractal_dimension_worst' column\n",
    "Q2_fdw = np.percentile(data['fractal_dimension_worst'], 50, interpolation='midpoint')\n",
    "# Third Quartile of 'fractal_dimension_worst' column\n",
    "Q3_fdw = np.percentile(data['fractal_dimension_worst'], 75, interpolation='midpoint')\n",
    "# (interquartile range) IQR of  'fractal_dimension_worst' column\n",
    "IQR_fdw = Q3_fdw-Q1_fdw\n",
    "# lower whisker of 'fractal_dimension_worst'  column\n",
    "low_fdw = Q1_fdw-1.5*IQR_fdw \n",
    "# upper whisker of 'fractal_dimension_worst' column\n",
    "up_fdw = Q3_fdw+1.5*IQR_fdw\n",
    "\n",
    "# to find the outliers  in 'fractal_dimension_worst' column and display it\n",
    "outlier_fdw = [] \n",
    "for x_fdw in data['fractal_dimension_worst']:\n",
    "    if((x_fdw>up_fdw) or (x_fdw<low_fdw)):\n",
    "        outlier_fdw.append(x_fdw)\n",
    "f\"Outliers of 'fractal_dimension_worst' column = {outlier_fdw}\""
   ]
  },
  {
   "cell_type": "markdown",
   "id": "956dca96",
   "metadata": {},
   "source": [
    "### CORRELATION"
   ]
  },
  {
   "cell_type": "code",
   "execution_count": 384,
   "id": "360c7056",
   "metadata": {},
   "outputs": [],
   "source": [
    "# selecting  numerical variables for doing correlation\n",
    "P = data.drop(['diagnosis'], axis = 1)"
   ]
  },
  {
   "cell_type": "code",
   "execution_count": 385,
   "id": "f54146a9",
   "metadata": {},
   "outputs": [
    {
     "data": {
      "text/html": [
       "<div>\n",
       "<style scoped>\n",
       "    .dataframe tbody tr th:only-of-type {\n",
       "        vertical-align: middle;\n",
       "    }\n",
       "\n",
       "    .dataframe tbody tr th {\n",
       "        vertical-align: top;\n",
       "    }\n",
       "\n",
       "    .dataframe thead th {\n",
       "        text-align: right;\n",
       "    }\n",
       "</style>\n",
       "<table border=\"1\" class=\"dataframe\">\n",
       "  <thead>\n",
       "    <tr style=\"text-align: right;\">\n",
       "      <th></th>\n",
       "      <th>radius_mean</th>\n",
       "      <th>texture_mean</th>\n",
       "      <th>perimeter_mean</th>\n",
       "      <th>area_mean</th>\n",
       "      <th>smoothness_mean</th>\n",
       "      <th>compactness_mean</th>\n",
       "      <th>concavity_mean</th>\n",
       "      <th>concave points_mean</th>\n",
       "      <th>symmetry_mean</th>\n",
       "      <th>fractal_dimension_mean</th>\n",
       "      <th>...</th>\n",
       "      <th>radius_worst</th>\n",
       "      <th>texture_worst</th>\n",
       "      <th>perimeter_worst</th>\n",
       "      <th>area_worst</th>\n",
       "      <th>smoothness_worst</th>\n",
       "      <th>compactness_worst</th>\n",
       "      <th>concavity_worst</th>\n",
       "      <th>concave points_worst</th>\n",
       "      <th>symmetry_worst</th>\n",
       "      <th>fractal_dimension_worst</th>\n",
       "    </tr>\n",
       "  </thead>\n",
       "  <tbody>\n",
       "    <tr>\n",
       "      <th>radius_mean</th>\n",
       "      <td>1.000000</td>\n",
       "      <td>0.323782</td>\n",
       "      <td>0.997855</td>\n",
       "      <td>0.987357</td>\n",
       "      <td>0.170581</td>\n",
       "      <td>0.506124</td>\n",
       "      <td>0.676764</td>\n",
       "      <td>0.822529</td>\n",
       "      <td>0.147741</td>\n",
       "      <td>-0.311631</td>\n",
       "      <td>...</td>\n",
       "      <td>0.969539</td>\n",
       "      <td>0.297008</td>\n",
       "      <td>0.965137</td>\n",
       "      <td>0.941082</td>\n",
       "      <td>0.119616</td>\n",
       "      <td>0.413463</td>\n",
       "      <td>0.526911</td>\n",
       "      <td>0.744214</td>\n",
       "      <td>0.163953</td>\n",
       "      <td>0.007066</td>\n",
       "    </tr>\n",
       "    <tr>\n",
       "      <th>texture_mean</th>\n",
       "      <td>0.323782</td>\n",
       "      <td>1.000000</td>\n",
       "      <td>0.329533</td>\n",
       "      <td>0.321086</td>\n",
       "      <td>-0.023389</td>\n",
       "      <td>0.236702</td>\n",
       "      <td>0.302418</td>\n",
       "      <td>0.293464</td>\n",
       "      <td>0.071401</td>\n",
       "      <td>-0.076437</td>\n",
       "      <td>...</td>\n",
       "      <td>0.352573</td>\n",
       "      <td>0.912045</td>\n",
       "      <td>0.358040</td>\n",
       "      <td>0.343546</td>\n",
       "      <td>0.077503</td>\n",
       "      <td>0.277830</td>\n",
       "      <td>0.301025</td>\n",
       "      <td>0.295316</td>\n",
       "      <td>0.105008</td>\n",
       "      <td>0.119205</td>\n",
       "    </tr>\n",
       "    <tr>\n",
       "      <th>perimeter_mean</th>\n",
       "      <td>0.997855</td>\n",
       "      <td>0.329533</td>\n",
       "      <td>1.000000</td>\n",
       "      <td>0.986507</td>\n",
       "      <td>0.207278</td>\n",
       "      <td>0.556936</td>\n",
       "      <td>0.716136</td>\n",
       "      <td>0.850977</td>\n",
       "      <td>0.183027</td>\n",
       "      <td>-0.261477</td>\n",
       "      <td>...</td>\n",
       "      <td>0.969476</td>\n",
       "      <td>0.303038</td>\n",
       "      <td>0.970387</td>\n",
       "      <td>0.941550</td>\n",
       "      <td>0.150549</td>\n",
       "      <td>0.455774</td>\n",
       "      <td>0.563879</td>\n",
       "      <td>0.771241</td>\n",
       "      <td>0.189115</td>\n",
       "      <td>0.051019</td>\n",
       "    </tr>\n",
       "    <tr>\n",
       "      <th>area_mean</th>\n",
       "      <td>0.987357</td>\n",
       "      <td>0.321086</td>\n",
       "      <td>0.986507</td>\n",
       "      <td>1.000000</td>\n",
       "      <td>0.177028</td>\n",
       "      <td>0.498502</td>\n",
       "      <td>0.685983</td>\n",
       "      <td>0.823269</td>\n",
       "      <td>0.151293</td>\n",
       "      <td>-0.283110</td>\n",
       "      <td>...</td>\n",
       "      <td>0.962746</td>\n",
       "      <td>0.287489</td>\n",
       "      <td>0.959120</td>\n",
       "      <td>0.959213</td>\n",
       "      <td>0.123523</td>\n",
       "      <td>0.390410</td>\n",
       "      <td>0.512606</td>\n",
       "      <td>0.722017</td>\n",
       "      <td>0.143570</td>\n",
       "      <td>0.003738</td>\n",
       "    </tr>\n",
       "    <tr>\n",
       "      <th>smoothness_mean</th>\n",
       "      <td>0.170581</td>\n",
       "      <td>-0.023389</td>\n",
       "      <td>0.207278</td>\n",
       "      <td>0.177028</td>\n",
       "      <td>1.000000</td>\n",
       "      <td>0.659123</td>\n",
       "      <td>0.521984</td>\n",
       "      <td>0.553695</td>\n",
       "      <td>0.557775</td>\n",
       "      <td>0.584792</td>\n",
       "      <td>...</td>\n",
       "      <td>0.213120</td>\n",
       "      <td>0.036072</td>\n",
       "      <td>0.238853</td>\n",
       "      <td>0.206718</td>\n",
       "      <td>0.805324</td>\n",
       "      <td>0.472468</td>\n",
       "      <td>0.434926</td>\n",
       "      <td>0.503053</td>\n",
       "      <td>0.394309</td>\n",
       "      <td>0.499316</td>\n",
       "    </tr>\n",
       "    <tr>\n",
       "      <th>compactness_mean</th>\n",
       "      <td>0.506124</td>\n",
       "      <td>0.236702</td>\n",
       "      <td>0.556936</td>\n",
       "      <td>0.498502</td>\n",
       "      <td>0.659123</td>\n",
       "      <td>1.000000</td>\n",
       "      <td>0.883121</td>\n",
       "      <td>0.831135</td>\n",
       "      <td>0.602641</td>\n",
       "      <td>0.565369</td>\n",
       "      <td>...</td>\n",
       "      <td>0.535315</td>\n",
       "      <td>0.248133</td>\n",
       "      <td>0.590210</td>\n",
       "      <td>0.509604</td>\n",
       "      <td>0.565541</td>\n",
       "      <td>0.865809</td>\n",
       "      <td>0.816275</td>\n",
       "      <td>0.815573</td>\n",
       "      <td>0.510223</td>\n",
       "      <td>0.687382</td>\n",
       "    </tr>\n",
       "    <tr>\n",
       "      <th>concavity_mean</th>\n",
       "      <td>0.676764</td>\n",
       "      <td>0.302418</td>\n",
       "      <td>0.716136</td>\n",
       "      <td>0.685983</td>\n",
       "      <td>0.521984</td>\n",
       "      <td>0.883121</td>\n",
       "      <td>1.000000</td>\n",
       "      <td>0.921391</td>\n",
       "      <td>0.500667</td>\n",
       "      <td>0.336783</td>\n",
       "      <td>...</td>\n",
       "      <td>0.688236</td>\n",
       "      <td>0.299879</td>\n",
       "      <td>0.729565</td>\n",
       "      <td>0.675987</td>\n",
       "      <td>0.448822</td>\n",
       "      <td>0.754968</td>\n",
       "      <td>0.884103</td>\n",
       "      <td>0.861323</td>\n",
       "      <td>0.409464</td>\n",
       "      <td>0.514930</td>\n",
       "    </tr>\n",
       "    <tr>\n",
       "      <th>concave points_mean</th>\n",
       "      <td>0.822529</td>\n",
       "      <td>0.293464</td>\n",
       "      <td>0.850977</td>\n",
       "      <td>0.823269</td>\n",
       "      <td>0.553695</td>\n",
       "      <td>0.831135</td>\n",
       "      <td>0.921391</td>\n",
       "      <td>1.000000</td>\n",
       "      <td>0.462497</td>\n",
       "      <td>0.166917</td>\n",
       "      <td>...</td>\n",
       "      <td>0.830318</td>\n",
       "      <td>0.292752</td>\n",
       "      <td>0.855923</td>\n",
       "      <td>0.809630</td>\n",
       "      <td>0.452753</td>\n",
       "      <td>0.667454</td>\n",
       "      <td>0.752399</td>\n",
       "      <td>0.910155</td>\n",
       "      <td>0.375744</td>\n",
       "      <td>0.368661</td>\n",
       "    </tr>\n",
       "    <tr>\n",
       "      <th>symmetry_mean</th>\n",
       "      <td>0.147741</td>\n",
       "      <td>0.071401</td>\n",
       "      <td>0.183027</td>\n",
       "      <td>0.151293</td>\n",
       "      <td>0.557775</td>\n",
       "      <td>0.602641</td>\n",
       "      <td>0.500667</td>\n",
       "      <td>0.462497</td>\n",
       "      <td>1.000000</td>\n",
       "      <td>0.479921</td>\n",
       "      <td>...</td>\n",
       "      <td>0.185728</td>\n",
       "      <td>0.090651</td>\n",
       "      <td>0.219169</td>\n",
       "      <td>0.177193</td>\n",
       "      <td>0.426675</td>\n",
       "      <td>0.473200</td>\n",
       "      <td>0.433721</td>\n",
       "      <td>0.430297</td>\n",
       "      <td>0.699826</td>\n",
       "      <td>0.438413</td>\n",
       "    </tr>\n",
       "    <tr>\n",
       "      <th>fractal_dimension_mean</th>\n",
       "      <td>-0.311631</td>\n",
       "      <td>-0.076437</td>\n",
       "      <td>-0.261477</td>\n",
       "      <td>-0.283110</td>\n",
       "      <td>0.584792</td>\n",
       "      <td>0.565369</td>\n",
       "      <td>0.336783</td>\n",
       "      <td>0.166917</td>\n",
       "      <td>0.479921</td>\n",
       "      <td>1.000000</td>\n",
       "      <td>...</td>\n",
       "      <td>-0.253691</td>\n",
       "      <td>-0.051269</td>\n",
       "      <td>-0.205151</td>\n",
       "      <td>-0.231854</td>\n",
       "      <td>0.504942</td>\n",
       "      <td>0.458798</td>\n",
       "      <td>0.346234</td>\n",
       "      <td>0.175325</td>\n",
       "      <td>0.334019</td>\n",
       "      <td>0.767297</td>\n",
       "    </tr>\n",
       "    <tr>\n",
       "      <th>radius_se</th>\n",
       "      <td>0.679090</td>\n",
       "      <td>0.275869</td>\n",
       "      <td>0.691765</td>\n",
       "      <td>0.732562</td>\n",
       "      <td>0.301467</td>\n",
       "      <td>0.497473</td>\n",
       "      <td>0.631925</td>\n",
       "      <td>0.698050</td>\n",
       "      <td>0.303379</td>\n",
       "      <td>0.000111</td>\n",
       "      <td>...</td>\n",
       "      <td>0.715065</td>\n",
       "      <td>0.194799</td>\n",
       "      <td>0.719684</td>\n",
       "      <td>0.751548</td>\n",
       "      <td>0.141919</td>\n",
       "      <td>0.287103</td>\n",
       "      <td>0.380585</td>\n",
       "      <td>0.531062</td>\n",
       "      <td>0.094543</td>\n",
       "      <td>0.049559</td>\n",
       "    </tr>\n",
       "    <tr>\n",
       "      <th>texture_se</th>\n",
       "      <td>-0.097317</td>\n",
       "      <td>0.386358</td>\n",
       "      <td>-0.086761</td>\n",
       "      <td>-0.066280</td>\n",
       "      <td>0.068406</td>\n",
       "      <td>0.046205</td>\n",
       "      <td>0.076218</td>\n",
       "      <td>0.021480</td>\n",
       "      <td>0.128053</td>\n",
       "      <td>0.164174</td>\n",
       "      <td>...</td>\n",
       "      <td>-0.111690</td>\n",
       "      <td>0.409003</td>\n",
       "      <td>-0.102242</td>\n",
       "      <td>-0.083195</td>\n",
       "      <td>-0.073658</td>\n",
       "      <td>-0.092439</td>\n",
       "      <td>-0.068956</td>\n",
       "      <td>-0.119638</td>\n",
       "      <td>-0.128215</td>\n",
       "      <td>-0.045655</td>\n",
       "    </tr>\n",
       "    <tr>\n",
       "      <th>perimeter_se</th>\n",
       "      <td>0.674172</td>\n",
       "      <td>0.281673</td>\n",
       "      <td>0.693135</td>\n",
       "      <td>0.726628</td>\n",
       "      <td>0.296092</td>\n",
       "      <td>0.548905</td>\n",
       "      <td>0.660391</td>\n",
       "      <td>0.710650</td>\n",
       "      <td>0.313893</td>\n",
       "      <td>0.039830</td>\n",
       "      <td>...</td>\n",
       "      <td>0.697201</td>\n",
       "      <td>0.200371</td>\n",
       "      <td>0.721031</td>\n",
       "      <td>0.730713</td>\n",
       "      <td>0.130054</td>\n",
       "      <td>0.341919</td>\n",
       "      <td>0.418899</td>\n",
       "      <td>0.554897</td>\n",
       "      <td>0.109930</td>\n",
       "      <td>0.085433</td>\n",
       "    </tr>\n",
       "    <tr>\n",
       "      <th>area_se</th>\n",
       "      <td>0.735864</td>\n",
       "      <td>0.259845</td>\n",
       "      <td>0.744983</td>\n",
       "      <td>0.800086</td>\n",
       "      <td>0.246552</td>\n",
       "      <td>0.455653</td>\n",
       "      <td>0.617427</td>\n",
       "      <td>0.690299</td>\n",
       "      <td>0.223970</td>\n",
       "      <td>-0.090170</td>\n",
       "      <td>...</td>\n",
       "      <td>0.757373</td>\n",
       "      <td>0.196497</td>\n",
       "      <td>0.761213</td>\n",
       "      <td>0.811408</td>\n",
       "      <td>0.125389</td>\n",
       "      <td>0.283257</td>\n",
       "      <td>0.385100</td>\n",
       "      <td>0.538166</td>\n",
       "      <td>0.074126</td>\n",
       "      <td>0.017539</td>\n",
       "    </tr>\n",
       "    <tr>\n",
       "      <th>smoothness_se</th>\n",
       "      <td>-0.222600</td>\n",
       "      <td>0.006614</td>\n",
       "      <td>-0.202694</td>\n",
       "      <td>-0.166777</td>\n",
       "      <td>0.332375</td>\n",
       "      <td>0.135299</td>\n",
       "      <td>0.098564</td>\n",
       "      <td>0.027653</td>\n",
       "      <td>0.187321</td>\n",
       "      <td>0.401964</td>\n",
       "      <td>...</td>\n",
       "      <td>-0.230691</td>\n",
       "      <td>-0.074743</td>\n",
       "      <td>-0.217304</td>\n",
       "      <td>-0.182195</td>\n",
       "      <td>0.314457</td>\n",
       "      <td>-0.055558</td>\n",
       "      <td>-0.058298</td>\n",
       "      <td>-0.102007</td>\n",
       "      <td>-0.107342</td>\n",
       "      <td>0.101480</td>\n",
       "    </tr>\n",
       "    <tr>\n",
       "      <th>compactness_se</th>\n",
       "      <td>0.206000</td>\n",
       "      <td>0.191975</td>\n",
       "      <td>0.250744</td>\n",
       "      <td>0.212583</td>\n",
       "      <td>0.318943</td>\n",
       "      <td>0.738722</td>\n",
       "      <td>0.670279</td>\n",
       "      <td>0.490424</td>\n",
       "      <td>0.421659</td>\n",
       "      <td>0.559837</td>\n",
       "      <td>...</td>\n",
       "      <td>0.204607</td>\n",
       "      <td>0.143003</td>\n",
       "      <td>0.260516</td>\n",
       "      <td>0.199371</td>\n",
       "      <td>0.227394</td>\n",
       "      <td>0.678780</td>\n",
       "      <td>0.639147</td>\n",
       "      <td>0.483208</td>\n",
       "      <td>0.277878</td>\n",
       "      <td>0.590973</td>\n",
       "    </tr>\n",
       "    <tr>\n",
       "      <th>concavity_se</th>\n",
       "      <td>0.194204</td>\n",
       "      <td>0.143293</td>\n",
       "      <td>0.228082</td>\n",
       "      <td>0.207660</td>\n",
       "      <td>0.248396</td>\n",
       "      <td>0.570517</td>\n",
       "      <td>0.691270</td>\n",
       "      <td>0.439167</td>\n",
       "      <td>0.342627</td>\n",
       "      <td>0.446630</td>\n",
       "      <td>...</td>\n",
       "      <td>0.186904</td>\n",
       "      <td>0.100241</td>\n",
       "      <td>0.226680</td>\n",
       "      <td>0.188353</td>\n",
       "      <td>0.168481</td>\n",
       "      <td>0.484858</td>\n",
       "      <td>0.662564</td>\n",
       "      <td>0.440472</td>\n",
       "      <td>0.197788</td>\n",
       "      <td>0.439329</td>\n",
       "    </tr>\n",
       "    <tr>\n",
       "      <th>concave points_se</th>\n",
       "      <td>0.376169</td>\n",
       "      <td>0.163851</td>\n",
       "      <td>0.407217</td>\n",
       "      <td>0.372320</td>\n",
       "      <td>0.380676</td>\n",
       "      <td>0.642262</td>\n",
       "      <td>0.683260</td>\n",
       "      <td>0.615634</td>\n",
       "      <td>0.393298</td>\n",
       "      <td>0.341198</td>\n",
       "      <td>...</td>\n",
       "      <td>0.358127</td>\n",
       "      <td>0.086741</td>\n",
       "      <td>0.394999</td>\n",
       "      <td>0.342271</td>\n",
       "      <td>0.215351</td>\n",
       "      <td>0.452888</td>\n",
       "      <td>0.549592</td>\n",
       "      <td>0.602450</td>\n",
       "      <td>0.143116</td>\n",
       "      <td>0.310655</td>\n",
       "    </tr>\n",
       "    <tr>\n",
       "      <th>symmetry_se</th>\n",
       "      <td>-0.104321</td>\n",
       "      <td>0.009127</td>\n",
       "      <td>-0.081629</td>\n",
       "      <td>-0.072497</td>\n",
       "      <td>0.200774</td>\n",
       "      <td>0.229977</td>\n",
       "      <td>0.178009</td>\n",
       "      <td>0.095351</td>\n",
       "      <td>0.449137</td>\n",
       "      <td>0.345007</td>\n",
       "      <td>...</td>\n",
       "      <td>-0.128121</td>\n",
       "      <td>-0.077473</td>\n",
       "      <td>-0.103753</td>\n",
       "      <td>-0.110343</td>\n",
       "      <td>-0.012662</td>\n",
       "      <td>0.060255</td>\n",
       "      <td>0.037119</td>\n",
       "      <td>-0.030413</td>\n",
       "      <td>0.389402</td>\n",
       "      <td>0.078079</td>\n",
       "    </tr>\n",
       "    <tr>\n",
       "      <th>fractal_dimension_se</th>\n",
       "      <td>-0.042641</td>\n",
       "      <td>0.054458</td>\n",
       "      <td>-0.005523</td>\n",
       "      <td>-0.019887</td>\n",
       "      <td>0.283607</td>\n",
       "      <td>0.507318</td>\n",
       "      <td>0.449301</td>\n",
       "      <td>0.257584</td>\n",
       "      <td>0.331786</td>\n",
       "      <td>0.688132</td>\n",
       "      <td>...</td>\n",
       "      <td>-0.037488</td>\n",
       "      <td>-0.003195</td>\n",
       "      <td>-0.001000</td>\n",
       "      <td>-0.022736</td>\n",
       "      <td>0.170568</td>\n",
       "      <td>0.390159</td>\n",
       "      <td>0.379975</td>\n",
       "      <td>0.215204</td>\n",
       "      <td>0.111094</td>\n",
       "      <td>0.591328</td>\n",
       "    </tr>\n",
       "    <tr>\n",
       "      <th>radius_worst</th>\n",
       "      <td>0.969539</td>\n",
       "      <td>0.352573</td>\n",
       "      <td>0.969476</td>\n",
       "      <td>0.962746</td>\n",
       "      <td>0.213120</td>\n",
       "      <td>0.535315</td>\n",
       "      <td>0.688236</td>\n",
       "      <td>0.830318</td>\n",
       "      <td>0.185728</td>\n",
       "      <td>-0.253691</td>\n",
       "      <td>...</td>\n",
       "      <td>1.000000</td>\n",
       "      <td>0.359921</td>\n",
       "      <td>0.993708</td>\n",
       "      <td>0.984015</td>\n",
       "      <td>0.216574</td>\n",
       "      <td>0.475820</td>\n",
       "      <td>0.573975</td>\n",
       "      <td>0.787424</td>\n",
       "      <td>0.243529</td>\n",
       "      <td>0.093492</td>\n",
       "    </tr>\n",
       "    <tr>\n",
       "      <th>texture_worst</th>\n",
       "      <td>0.297008</td>\n",
       "      <td>0.912045</td>\n",
       "      <td>0.303038</td>\n",
       "      <td>0.287489</td>\n",
       "      <td>0.036072</td>\n",
       "      <td>0.248133</td>\n",
       "      <td>0.299879</td>\n",
       "      <td>0.292752</td>\n",
       "      <td>0.090651</td>\n",
       "      <td>-0.051269</td>\n",
       "      <td>...</td>\n",
       "      <td>0.359921</td>\n",
       "      <td>1.000000</td>\n",
       "      <td>0.365098</td>\n",
       "      <td>0.345842</td>\n",
       "      <td>0.225429</td>\n",
       "      <td>0.360832</td>\n",
       "      <td>0.368366</td>\n",
       "      <td>0.359755</td>\n",
       "      <td>0.233027</td>\n",
       "      <td>0.219122</td>\n",
       "    </tr>\n",
       "    <tr>\n",
       "      <th>perimeter_worst</th>\n",
       "      <td>0.965137</td>\n",
       "      <td>0.358040</td>\n",
       "      <td>0.970387</td>\n",
       "      <td>0.959120</td>\n",
       "      <td>0.238853</td>\n",
       "      <td>0.590210</td>\n",
       "      <td>0.729565</td>\n",
       "      <td>0.855923</td>\n",
       "      <td>0.219169</td>\n",
       "      <td>-0.205151</td>\n",
       "      <td>...</td>\n",
       "      <td>0.993708</td>\n",
       "      <td>0.365098</td>\n",
       "      <td>1.000000</td>\n",
       "      <td>0.977578</td>\n",
       "      <td>0.236775</td>\n",
       "      <td>0.529408</td>\n",
       "      <td>0.618344</td>\n",
       "      <td>0.816322</td>\n",
       "      <td>0.269493</td>\n",
       "      <td>0.138957</td>\n",
       "    </tr>\n",
       "    <tr>\n",
       "      <th>area_worst</th>\n",
       "      <td>0.941082</td>\n",
       "      <td>0.343546</td>\n",
       "      <td>0.941550</td>\n",
       "      <td>0.959213</td>\n",
       "      <td>0.206718</td>\n",
       "      <td>0.509604</td>\n",
       "      <td>0.675987</td>\n",
       "      <td>0.809630</td>\n",
       "      <td>0.177193</td>\n",
       "      <td>-0.231854</td>\n",
       "      <td>...</td>\n",
       "      <td>0.984015</td>\n",
       "      <td>0.345842</td>\n",
       "      <td>0.977578</td>\n",
       "      <td>1.000000</td>\n",
       "      <td>0.209145</td>\n",
       "      <td>0.438296</td>\n",
       "      <td>0.543331</td>\n",
       "      <td>0.747419</td>\n",
       "      <td>0.209146</td>\n",
       "      <td>0.079647</td>\n",
       "    </tr>\n",
       "    <tr>\n",
       "      <th>smoothness_worst</th>\n",
       "      <td>0.119616</td>\n",
       "      <td>0.077503</td>\n",
       "      <td>0.150549</td>\n",
       "      <td>0.123523</td>\n",
       "      <td>0.805324</td>\n",
       "      <td>0.565541</td>\n",
       "      <td>0.448822</td>\n",
       "      <td>0.452753</td>\n",
       "      <td>0.426675</td>\n",
       "      <td>0.504942</td>\n",
       "      <td>...</td>\n",
       "      <td>0.216574</td>\n",
       "      <td>0.225429</td>\n",
       "      <td>0.236775</td>\n",
       "      <td>0.209145</td>\n",
       "      <td>1.000000</td>\n",
       "      <td>0.568187</td>\n",
       "      <td>0.518523</td>\n",
       "      <td>0.547691</td>\n",
       "      <td>0.493838</td>\n",
       "      <td>0.617624</td>\n",
       "    </tr>\n",
       "    <tr>\n",
       "      <th>compactness_worst</th>\n",
       "      <td>0.413463</td>\n",
       "      <td>0.277830</td>\n",
       "      <td>0.455774</td>\n",
       "      <td>0.390410</td>\n",
       "      <td>0.472468</td>\n",
       "      <td>0.865809</td>\n",
       "      <td>0.754968</td>\n",
       "      <td>0.667454</td>\n",
       "      <td>0.473200</td>\n",
       "      <td>0.458798</td>\n",
       "      <td>...</td>\n",
       "      <td>0.475820</td>\n",
       "      <td>0.360832</td>\n",
       "      <td>0.529408</td>\n",
       "      <td>0.438296</td>\n",
       "      <td>0.568187</td>\n",
       "      <td>1.000000</td>\n",
       "      <td>0.892261</td>\n",
       "      <td>0.801080</td>\n",
       "      <td>0.614441</td>\n",
       "      <td>0.810455</td>\n",
       "    </tr>\n",
       "    <tr>\n",
       "      <th>concavity_worst</th>\n",
       "      <td>0.526911</td>\n",
       "      <td>0.301025</td>\n",
       "      <td>0.563879</td>\n",
       "      <td>0.512606</td>\n",
       "      <td>0.434926</td>\n",
       "      <td>0.816275</td>\n",
       "      <td>0.884103</td>\n",
       "      <td>0.752399</td>\n",
       "      <td>0.433721</td>\n",
       "      <td>0.346234</td>\n",
       "      <td>...</td>\n",
       "      <td>0.573975</td>\n",
       "      <td>0.368366</td>\n",
       "      <td>0.618344</td>\n",
       "      <td>0.543331</td>\n",
       "      <td>0.518523</td>\n",
       "      <td>0.892261</td>\n",
       "      <td>1.000000</td>\n",
       "      <td>0.855434</td>\n",
       "      <td>0.532520</td>\n",
       "      <td>0.686511</td>\n",
       "    </tr>\n",
       "    <tr>\n",
       "      <th>concave points_worst</th>\n",
       "      <td>0.744214</td>\n",
       "      <td>0.295316</td>\n",
       "      <td>0.771241</td>\n",
       "      <td>0.722017</td>\n",
       "      <td>0.503053</td>\n",
       "      <td>0.815573</td>\n",
       "      <td>0.861323</td>\n",
       "      <td>0.910155</td>\n",
       "      <td>0.430297</td>\n",
       "      <td>0.175325</td>\n",
       "      <td>...</td>\n",
       "      <td>0.787424</td>\n",
       "      <td>0.359755</td>\n",
       "      <td>0.816322</td>\n",
       "      <td>0.747419</td>\n",
       "      <td>0.547691</td>\n",
       "      <td>0.801080</td>\n",
       "      <td>0.855434</td>\n",
       "      <td>1.000000</td>\n",
       "      <td>0.502528</td>\n",
       "      <td>0.511114</td>\n",
       "    </tr>\n",
       "    <tr>\n",
       "      <th>symmetry_worst</th>\n",
       "      <td>0.163953</td>\n",
       "      <td>0.105008</td>\n",
       "      <td>0.189115</td>\n",
       "      <td>0.143570</td>\n",
       "      <td>0.394309</td>\n",
       "      <td>0.510223</td>\n",
       "      <td>0.409464</td>\n",
       "      <td>0.375744</td>\n",
       "      <td>0.699826</td>\n",
       "      <td>0.334019</td>\n",
       "      <td>...</td>\n",
       "      <td>0.243529</td>\n",
       "      <td>0.233027</td>\n",
       "      <td>0.269493</td>\n",
       "      <td>0.209146</td>\n",
       "      <td>0.493838</td>\n",
       "      <td>0.614441</td>\n",
       "      <td>0.532520</td>\n",
       "      <td>0.502528</td>\n",
       "      <td>1.000000</td>\n",
       "      <td>0.537848</td>\n",
       "    </tr>\n",
       "    <tr>\n",
       "      <th>fractal_dimension_worst</th>\n",
       "      <td>0.007066</td>\n",
       "      <td>0.119205</td>\n",
       "      <td>0.051019</td>\n",
       "      <td>0.003738</td>\n",
       "      <td>0.499316</td>\n",
       "      <td>0.687382</td>\n",
       "      <td>0.514930</td>\n",
       "      <td>0.368661</td>\n",
       "      <td>0.438413</td>\n",
       "      <td>0.767297</td>\n",
       "      <td>...</td>\n",
       "      <td>0.093492</td>\n",
       "      <td>0.219122</td>\n",
       "      <td>0.138957</td>\n",
       "      <td>0.079647</td>\n",
       "      <td>0.617624</td>\n",
       "      <td>0.810455</td>\n",
       "      <td>0.686511</td>\n",
       "      <td>0.511114</td>\n",
       "      <td>0.537848</td>\n",
       "      <td>1.000000</td>\n",
       "    </tr>\n",
       "  </tbody>\n",
       "</table>\n",
       "<p>30 rows × 30 columns</p>\n",
       "</div>"
      ],
      "text/plain": [
       "                         radius_mean  texture_mean  perimeter_mean  area_mean  \\\n",
       "radius_mean                 1.000000      0.323782        0.997855   0.987357   \n",
       "texture_mean                0.323782      1.000000        0.329533   0.321086   \n",
       "perimeter_mean              0.997855      0.329533        1.000000   0.986507   \n",
       "area_mean                   0.987357      0.321086        0.986507   1.000000   \n",
       "smoothness_mean             0.170581     -0.023389        0.207278   0.177028   \n",
       "compactness_mean            0.506124      0.236702        0.556936   0.498502   \n",
       "concavity_mean              0.676764      0.302418        0.716136   0.685983   \n",
       "concave points_mean         0.822529      0.293464        0.850977   0.823269   \n",
       "symmetry_mean               0.147741      0.071401        0.183027   0.151293   \n",
       "fractal_dimension_mean     -0.311631     -0.076437       -0.261477  -0.283110   \n",
       "radius_se                   0.679090      0.275869        0.691765   0.732562   \n",
       "texture_se                 -0.097317      0.386358       -0.086761  -0.066280   \n",
       "perimeter_se                0.674172      0.281673        0.693135   0.726628   \n",
       "area_se                     0.735864      0.259845        0.744983   0.800086   \n",
       "smoothness_se              -0.222600      0.006614       -0.202694  -0.166777   \n",
       "compactness_se              0.206000      0.191975        0.250744   0.212583   \n",
       "concavity_se                0.194204      0.143293        0.228082   0.207660   \n",
       "concave points_se           0.376169      0.163851        0.407217   0.372320   \n",
       "symmetry_se                -0.104321      0.009127       -0.081629  -0.072497   \n",
       "fractal_dimension_se       -0.042641      0.054458       -0.005523  -0.019887   \n",
       "radius_worst                0.969539      0.352573        0.969476   0.962746   \n",
       "texture_worst               0.297008      0.912045        0.303038   0.287489   \n",
       "perimeter_worst             0.965137      0.358040        0.970387   0.959120   \n",
       "area_worst                  0.941082      0.343546        0.941550   0.959213   \n",
       "smoothness_worst            0.119616      0.077503        0.150549   0.123523   \n",
       "compactness_worst           0.413463      0.277830        0.455774   0.390410   \n",
       "concavity_worst             0.526911      0.301025        0.563879   0.512606   \n",
       "concave points_worst        0.744214      0.295316        0.771241   0.722017   \n",
       "symmetry_worst              0.163953      0.105008        0.189115   0.143570   \n",
       "fractal_dimension_worst     0.007066      0.119205        0.051019   0.003738   \n",
       "\n",
       "                         smoothness_mean  compactness_mean  concavity_mean  \\\n",
       "radius_mean                     0.170581          0.506124        0.676764   \n",
       "texture_mean                   -0.023389          0.236702        0.302418   \n",
       "perimeter_mean                  0.207278          0.556936        0.716136   \n",
       "area_mean                       0.177028          0.498502        0.685983   \n",
       "smoothness_mean                 1.000000          0.659123        0.521984   \n",
       "compactness_mean                0.659123          1.000000        0.883121   \n",
       "concavity_mean                  0.521984          0.883121        1.000000   \n",
       "concave points_mean             0.553695          0.831135        0.921391   \n",
       "symmetry_mean                   0.557775          0.602641        0.500667   \n",
       "fractal_dimension_mean          0.584792          0.565369        0.336783   \n",
       "radius_se                       0.301467          0.497473        0.631925   \n",
       "texture_se                      0.068406          0.046205        0.076218   \n",
       "perimeter_se                    0.296092          0.548905        0.660391   \n",
       "area_se                         0.246552          0.455653        0.617427   \n",
       "smoothness_se                   0.332375          0.135299        0.098564   \n",
       "compactness_se                  0.318943          0.738722        0.670279   \n",
       "concavity_se                    0.248396          0.570517        0.691270   \n",
       "concave points_se               0.380676          0.642262        0.683260   \n",
       "symmetry_se                     0.200774          0.229977        0.178009   \n",
       "fractal_dimension_se            0.283607          0.507318        0.449301   \n",
       "radius_worst                    0.213120          0.535315        0.688236   \n",
       "texture_worst                   0.036072          0.248133        0.299879   \n",
       "perimeter_worst                 0.238853          0.590210        0.729565   \n",
       "area_worst                      0.206718          0.509604        0.675987   \n",
       "smoothness_worst                0.805324          0.565541        0.448822   \n",
       "compactness_worst               0.472468          0.865809        0.754968   \n",
       "concavity_worst                 0.434926          0.816275        0.884103   \n",
       "concave points_worst            0.503053          0.815573        0.861323   \n",
       "symmetry_worst                  0.394309          0.510223        0.409464   \n",
       "fractal_dimension_worst         0.499316          0.687382        0.514930   \n",
       "\n",
       "                         concave points_mean  symmetry_mean  \\\n",
       "radius_mean                         0.822529       0.147741   \n",
       "texture_mean                        0.293464       0.071401   \n",
       "perimeter_mean                      0.850977       0.183027   \n",
       "area_mean                           0.823269       0.151293   \n",
       "smoothness_mean                     0.553695       0.557775   \n",
       "compactness_mean                    0.831135       0.602641   \n",
       "concavity_mean                      0.921391       0.500667   \n",
       "concave points_mean                 1.000000       0.462497   \n",
       "symmetry_mean                       0.462497       1.000000   \n",
       "fractal_dimension_mean              0.166917       0.479921   \n",
       "radius_se                           0.698050       0.303379   \n",
       "texture_se                          0.021480       0.128053   \n",
       "perimeter_se                        0.710650       0.313893   \n",
       "area_se                             0.690299       0.223970   \n",
       "smoothness_se                       0.027653       0.187321   \n",
       "compactness_se                      0.490424       0.421659   \n",
       "concavity_se                        0.439167       0.342627   \n",
       "concave points_se                   0.615634       0.393298   \n",
       "symmetry_se                         0.095351       0.449137   \n",
       "fractal_dimension_se                0.257584       0.331786   \n",
       "radius_worst                        0.830318       0.185728   \n",
       "texture_worst                       0.292752       0.090651   \n",
       "perimeter_worst                     0.855923       0.219169   \n",
       "area_worst                          0.809630       0.177193   \n",
       "smoothness_worst                    0.452753       0.426675   \n",
       "compactness_worst                   0.667454       0.473200   \n",
       "concavity_worst                     0.752399       0.433721   \n",
       "concave points_worst                0.910155       0.430297   \n",
       "symmetry_worst                      0.375744       0.699826   \n",
       "fractal_dimension_worst             0.368661       0.438413   \n",
       "\n",
       "                         fractal_dimension_mean  ...  radius_worst  \\\n",
       "radius_mean                           -0.311631  ...      0.969539   \n",
       "texture_mean                          -0.076437  ...      0.352573   \n",
       "perimeter_mean                        -0.261477  ...      0.969476   \n",
       "area_mean                             -0.283110  ...      0.962746   \n",
       "smoothness_mean                        0.584792  ...      0.213120   \n",
       "compactness_mean                       0.565369  ...      0.535315   \n",
       "concavity_mean                         0.336783  ...      0.688236   \n",
       "concave points_mean                    0.166917  ...      0.830318   \n",
       "symmetry_mean                          0.479921  ...      0.185728   \n",
       "fractal_dimension_mean                 1.000000  ...     -0.253691   \n",
       "radius_se                              0.000111  ...      0.715065   \n",
       "texture_se                             0.164174  ...     -0.111690   \n",
       "perimeter_se                           0.039830  ...      0.697201   \n",
       "area_se                               -0.090170  ...      0.757373   \n",
       "smoothness_se                          0.401964  ...     -0.230691   \n",
       "compactness_se                         0.559837  ...      0.204607   \n",
       "concavity_se                           0.446630  ...      0.186904   \n",
       "concave points_se                      0.341198  ...      0.358127   \n",
       "symmetry_se                            0.345007  ...     -0.128121   \n",
       "fractal_dimension_se                   0.688132  ...     -0.037488   \n",
       "radius_worst                          -0.253691  ...      1.000000   \n",
       "texture_worst                         -0.051269  ...      0.359921   \n",
       "perimeter_worst                       -0.205151  ...      0.993708   \n",
       "area_worst                            -0.231854  ...      0.984015   \n",
       "smoothness_worst                       0.504942  ...      0.216574   \n",
       "compactness_worst                      0.458798  ...      0.475820   \n",
       "concavity_worst                        0.346234  ...      0.573975   \n",
       "concave points_worst                   0.175325  ...      0.787424   \n",
       "symmetry_worst                         0.334019  ...      0.243529   \n",
       "fractal_dimension_worst                0.767297  ...      0.093492   \n",
       "\n",
       "                         texture_worst  perimeter_worst  area_worst  \\\n",
       "radius_mean                   0.297008         0.965137    0.941082   \n",
       "texture_mean                  0.912045         0.358040    0.343546   \n",
       "perimeter_mean                0.303038         0.970387    0.941550   \n",
       "area_mean                     0.287489         0.959120    0.959213   \n",
       "smoothness_mean               0.036072         0.238853    0.206718   \n",
       "compactness_mean              0.248133         0.590210    0.509604   \n",
       "concavity_mean                0.299879         0.729565    0.675987   \n",
       "concave points_mean           0.292752         0.855923    0.809630   \n",
       "symmetry_mean                 0.090651         0.219169    0.177193   \n",
       "fractal_dimension_mean       -0.051269        -0.205151   -0.231854   \n",
       "radius_se                     0.194799         0.719684    0.751548   \n",
       "texture_se                    0.409003        -0.102242   -0.083195   \n",
       "perimeter_se                  0.200371         0.721031    0.730713   \n",
       "area_se                       0.196497         0.761213    0.811408   \n",
       "smoothness_se                -0.074743        -0.217304   -0.182195   \n",
       "compactness_se                0.143003         0.260516    0.199371   \n",
       "concavity_se                  0.100241         0.226680    0.188353   \n",
       "concave points_se             0.086741         0.394999    0.342271   \n",
       "symmetry_se                  -0.077473        -0.103753   -0.110343   \n",
       "fractal_dimension_se         -0.003195        -0.001000   -0.022736   \n",
       "radius_worst                  0.359921         0.993708    0.984015   \n",
       "texture_worst                 1.000000         0.365098    0.345842   \n",
       "perimeter_worst               0.365098         1.000000    0.977578   \n",
       "area_worst                    0.345842         0.977578    1.000000   \n",
       "smoothness_worst              0.225429         0.236775    0.209145   \n",
       "compactness_worst             0.360832         0.529408    0.438296   \n",
       "concavity_worst               0.368366         0.618344    0.543331   \n",
       "concave points_worst          0.359755         0.816322    0.747419   \n",
       "symmetry_worst                0.233027         0.269493    0.209146   \n",
       "fractal_dimension_worst       0.219122         0.138957    0.079647   \n",
       "\n",
       "                         smoothness_worst  compactness_worst  concavity_worst  \\\n",
       "radius_mean                      0.119616           0.413463         0.526911   \n",
       "texture_mean                     0.077503           0.277830         0.301025   \n",
       "perimeter_mean                   0.150549           0.455774         0.563879   \n",
       "area_mean                        0.123523           0.390410         0.512606   \n",
       "smoothness_mean                  0.805324           0.472468         0.434926   \n",
       "compactness_mean                 0.565541           0.865809         0.816275   \n",
       "concavity_mean                   0.448822           0.754968         0.884103   \n",
       "concave points_mean              0.452753           0.667454         0.752399   \n",
       "symmetry_mean                    0.426675           0.473200         0.433721   \n",
       "fractal_dimension_mean           0.504942           0.458798         0.346234   \n",
       "radius_se                        0.141919           0.287103         0.380585   \n",
       "texture_se                      -0.073658          -0.092439        -0.068956   \n",
       "perimeter_se                     0.130054           0.341919         0.418899   \n",
       "area_se                          0.125389           0.283257         0.385100   \n",
       "smoothness_se                    0.314457          -0.055558        -0.058298   \n",
       "compactness_se                   0.227394           0.678780         0.639147   \n",
       "concavity_se                     0.168481           0.484858         0.662564   \n",
       "concave points_se                0.215351           0.452888         0.549592   \n",
       "symmetry_se                     -0.012662           0.060255         0.037119   \n",
       "fractal_dimension_se             0.170568           0.390159         0.379975   \n",
       "radius_worst                     0.216574           0.475820         0.573975   \n",
       "texture_worst                    0.225429           0.360832         0.368366   \n",
       "perimeter_worst                  0.236775           0.529408         0.618344   \n",
       "area_worst                       0.209145           0.438296         0.543331   \n",
       "smoothness_worst                 1.000000           0.568187         0.518523   \n",
       "compactness_worst                0.568187           1.000000         0.892261   \n",
       "concavity_worst                  0.518523           0.892261         1.000000   \n",
       "concave points_worst             0.547691           0.801080         0.855434   \n",
       "symmetry_worst                   0.493838           0.614441         0.532520   \n",
       "fractal_dimension_worst          0.617624           0.810455         0.686511   \n",
       "\n",
       "                         concave points_worst  symmetry_worst  \\\n",
       "radius_mean                          0.744214        0.163953   \n",
       "texture_mean                         0.295316        0.105008   \n",
       "perimeter_mean                       0.771241        0.189115   \n",
       "area_mean                            0.722017        0.143570   \n",
       "smoothness_mean                      0.503053        0.394309   \n",
       "compactness_mean                     0.815573        0.510223   \n",
       "concavity_mean                       0.861323        0.409464   \n",
       "concave points_mean                  0.910155        0.375744   \n",
       "symmetry_mean                        0.430297        0.699826   \n",
       "fractal_dimension_mean               0.175325        0.334019   \n",
       "radius_se                            0.531062        0.094543   \n",
       "texture_se                          -0.119638       -0.128215   \n",
       "perimeter_se                         0.554897        0.109930   \n",
       "area_se                              0.538166        0.074126   \n",
       "smoothness_se                       -0.102007       -0.107342   \n",
       "compactness_se                       0.483208        0.277878   \n",
       "concavity_se                         0.440472        0.197788   \n",
       "concave points_se                    0.602450        0.143116   \n",
       "symmetry_se                         -0.030413        0.389402   \n",
       "fractal_dimension_se                 0.215204        0.111094   \n",
       "radius_worst                         0.787424        0.243529   \n",
       "texture_worst                        0.359755        0.233027   \n",
       "perimeter_worst                      0.816322        0.269493   \n",
       "area_worst                           0.747419        0.209146   \n",
       "smoothness_worst                     0.547691        0.493838   \n",
       "compactness_worst                    0.801080        0.614441   \n",
       "concavity_worst                      0.855434        0.532520   \n",
       "concave points_worst                 1.000000        0.502528   \n",
       "symmetry_worst                       0.502528        1.000000   \n",
       "fractal_dimension_worst              0.511114        0.537848   \n",
       "\n",
       "                         fractal_dimension_worst  \n",
       "radius_mean                             0.007066  \n",
       "texture_mean                            0.119205  \n",
       "perimeter_mean                          0.051019  \n",
       "area_mean                               0.003738  \n",
       "smoothness_mean                         0.499316  \n",
       "compactness_mean                        0.687382  \n",
       "concavity_mean                          0.514930  \n",
       "concave points_mean                     0.368661  \n",
       "symmetry_mean                           0.438413  \n",
       "fractal_dimension_mean                  0.767297  \n",
       "radius_se                               0.049559  \n",
       "texture_se                             -0.045655  \n",
       "perimeter_se                            0.085433  \n",
       "area_se                                 0.017539  \n",
       "smoothness_se                           0.101480  \n",
       "compactness_se                          0.590973  \n",
       "concavity_se                            0.439329  \n",
       "concave points_se                       0.310655  \n",
       "symmetry_se                             0.078079  \n",
       "fractal_dimension_se                    0.591328  \n",
       "radius_worst                            0.093492  \n",
       "texture_worst                           0.219122  \n",
       "perimeter_worst                         0.138957  \n",
       "area_worst                              0.079647  \n",
       "smoothness_worst                        0.617624  \n",
       "compactness_worst                       0.810455  \n",
       "concavity_worst                         0.686511  \n",
       "concave points_worst                    0.511114  \n",
       "symmetry_worst                          0.537848  \n",
       "fractal_dimension_worst                 1.000000  \n",
       "\n",
       "[30 rows x 30 columns]"
      ]
     },
     "execution_count": 385,
     "metadata": {},
     "output_type": "execute_result"
    }
   ],
   "source": [
    "# creating an instance for correlation\n",
    "corrmatrix = P.corr()\n",
    "\n",
    "# displaying the values of 'corrmatrix'\n",
    "corrmatrix"
   ]
  },
  {
   "cell_type": "markdown",
   "id": "98f1c619",
   "metadata": {},
   "source": [
    "### ENCODING "
   ]
  },
  {
   "cell_type": "markdown",
   "id": "2ad784cb",
   "metadata": {},
   "source": [
    "encoding 'diagnosis' column"
   ]
  },
  {
   "cell_type": "code",
   "execution_count": 386,
   "id": "fb8d1c57",
   "metadata": {},
   "outputs": [
    {
     "data": {
      "text/plain": [
       "array(['M', 'B'], dtype=object)"
      ]
     },
     "execution_count": 386,
     "metadata": {},
     "output_type": "execute_result"
    }
   ],
   "source": [
    "# unique values present in 'diagnosis' column\n",
    "data['diagnosis'].unique()"
   ]
  },
  {
   "cell_type": "markdown",
   "id": "e87b658b",
   "metadata": {},
   "source": [
    "performing label encoding on 'diagnosis' column"
   ]
  },
  {
   "cell_type": "code",
   "execution_count": 387,
   "id": "37ac85fb",
   "metadata": {},
   "outputs": [],
   "source": [
    "# creating an instance of LabelEncoder()\n",
    "le = LabelEncoder() "
   ]
  },
  {
   "cell_type": "code",
   "execution_count": 388,
   "id": "9c130aee",
   "metadata": {},
   "outputs": [
    {
     "data": {
      "text/plain": [
       "0      1\n",
       "1      1\n",
       "2      1\n",
       "3      1\n",
       "4      1\n",
       "      ..\n",
       "564    1\n",
       "565    1\n",
       "566    1\n",
       "567    1\n",
       "568    0\n",
       "Name: diagnosis, Length: 569, dtype: int32"
      ]
     },
     "execution_count": 388,
     "metadata": {},
     "output_type": "execute_result"
    }
   ],
   "source": [
    "# applying label encoder to 'diagnosis' column and dispaying it\n",
    "data['diagnosis'] = le.fit_transform(data['diagnosis'])\n",
    "data['diagnosis']"
   ]
  },
  {
   "cell_type": "markdown",
   "id": "958c7a13",
   "metadata": {},
   "source": [
    "### SCALING"
   ]
  },
  {
   "cell_type": "code",
   "execution_count": 389,
   "id": "4758e367",
   "metadata": {
    "scrolled": true
   },
   "outputs": [
    {
     "data": {
      "text/html": [
       "<div>\n",
       "<style scoped>\n",
       "    .dataframe tbody tr th:only-of-type {\n",
       "        vertical-align: middle;\n",
       "    }\n",
       "\n",
       "    .dataframe tbody tr th {\n",
       "        vertical-align: top;\n",
       "    }\n",
       "\n",
       "    .dataframe thead th {\n",
       "        text-align: right;\n",
       "    }\n",
       "</style>\n",
       "<table border=\"1\" class=\"dataframe\">\n",
       "  <thead>\n",
       "    <tr style=\"text-align: right;\">\n",
       "      <th></th>\n",
       "      <th>diagnosis</th>\n",
       "      <th>radius_mean</th>\n",
       "      <th>texture_mean</th>\n",
       "      <th>perimeter_mean</th>\n",
       "      <th>area_mean</th>\n",
       "      <th>smoothness_mean</th>\n",
       "      <th>compactness_mean</th>\n",
       "      <th>concavity_mean</th>\n",
       "      <th>concave points_mean</th>\n",
       "      <th>symmetry_mean</th>\n",
       "      <th>...</th>\n",
       "      <th>radius_worst</th>\n",
       "      <th>texture_worst</th>\n",
       "      <th>perimeter_worst</th>\n",
       "      <th>area_worst</th>\n",
       "      <th>smoothness_worst</th>\n",
       "      <th>compactness_worst</th>\n",
       "      <th>concavity_worst</th>\n",
       "      <th>concave points_worst</th>\n",
       "      <th>symmetry_worst</th>\n",
       "      <th>fractal_dimension_worst</th>\n",
       "    </tr>\n",
       "  </thead>\n",
       "  <tbody>\n",
       "    <tr>\n",
       "      <th>count</th>\n",
       "      <td>569.000000</td>\n",
       "      <td>569.000000</td>\n",
       "      <td>569.000000</td>\n",
       "      <td>569.000000</td>\n",
       "      <td>569.000000</td>\n",
       "      <td>569.000000</td>\n",
       "      <td>569.000000</td>\n",
       "      <td>569.000000</td>\n",
       "      <td>569.000000</td>\n",
       "      <td>569.000000</td>\n",
       "      <td>...</td>\n",
       "      <td>569.000000</td>\n",
       "      <td>569.000000</td>\n",
       "      <td>569.000000</td>\n",
       "      <td>569.000000</td>\n",
       "      <td>569.000000</td>\n",
       "      <td>569.000000</td>\n",
       "      <td>569.000000</td>\n",
       "      <td>569.000000</td>\n",
       "      <td>569.000000</td>\n",
       "      <td>569.000000</td>\n",
       "    </tr>\n",
       "    <tr>\n",
       "      <th>mean</th>\n",
       "      <td>0.372583</td>\n",
       "      <td>14.127292</td>\n",
       "      <td>19.289649</td>\n",
       "      <td>91.969033</td>\n",
       "      <td>654.889104</td>\n",
       "      <td>0.096360</td>\n",
       "      <td>0.104341</td>\n",
       "      <td>0.088799</td>\n",
       "      <td>0.048919</td>\n",
       "      <td>0.181162</td>\n",
       "      <td>...</td>\n",
       "      <td>16.269190</td>\n",
       "      <td>25.677223</td>\n",
       "      <td>107.261213</td>\n",
       "      <td>880.583128</td>\n",
       "      <td>0.132369</td>\n",
       "      <td>0.254265</td>\n",
       "      <td>0.272188</td>\n",
       "      <td>0.114606</td>\n",
       "      <td>0.290076</td>\n",
       "      <td>0.083946</td>\n",
       "    </tr>\n",
       "    <tr>\n",
       "      <th>std</th>\n",
       "      <td>0.483918</td>\n",
       "      <td>3.524049</td>\n",
       "      <td>4.301036</td>\n",
       "      <td>24.298981</td>\n",
       "      <td>351.914129</td>\n",
       "      <td>0.014064</td>\n",
       "      <td>0.052813</td>\n",
       "      <td>0.079720</td>\n",
       "      <td>0.038803</td>\n",
       "      <td>0.027414</td>\n",
       "      <td>...</td>\n",
       "      <td>4.833242</td>\n",
       "      <td>6.146258</td>\n",
       "      <td>33.602542</td>\n",
       "      <td>569.356993</td>\n",
       "      <td>0.022832</td>\n",
       "      <td>0.157336</td>\n",
       "      <td>0.208624</td>\n",
       "      <td>0.065732</td>\n",
       "      <td>0.061867</td>\n",
       "      <td>0.018061</td>\n",
       "    </tr>\n",
       "    <tr>\n",
       "      <th>min</th>\n",
       "      <td>0.000000</td>\n",
       "      <td>6.981000</td>\n",
       "      <td>9.710000</td>\n",
       "      <td>43.790000</td>\n",
       "      <td>143.500000</td>\n",
       "      <td>0.052630</td>\n",
       "      <td>0.019380</td>\n",
       "      <td>0.000000</td>\n",
       "      <td>0.000000</td>\n",
       "      <td>0.106000</td>\n",
       "      <td>...</td>\n",
       "      <td>7.930000</td>\n",
       "      <td>12.020000</td>\n",
       "      <td>50.410000</td>\n",
       "      <td>185.200000</td>\n",
       "      <td>0.071170</td>\n",
       "      <td>0.027290</td>\n",
       "      <td>0.000000</td>\n",
       "      <td>0.000000</td>\n",
       "      <td>0.156500</td>\n",
       "      <td>0.055040</td>\n",
       "    </tr>\n",
       "    <tr>\n",
       "      <th>25%</th>\n",
       "      <td>0.000000</td>\n",
       "      <td>11.700000</td>\n",
       "      <td>16.170000</td>\n",
       "      <td>75.170000</td>\n",
       "      <td>420.300000</td>\n",
       "      <td>0.086370</td>\n",
       "      <td>0.064920</td>\n",
       "      <td>0.029560</td>\n",
       "      <td>0.020310</td>\n",
       "      <td>0.161900</td>\n",
       "      <td>...</td>\n",
       "      <td>13.010000</td>\n",
       "      <td>21.080000</td>\n",
       "      <td>84.110000</td>\n",
       "      <td>515.300000</td>\n",
       "      <td>0.116600</td>\n",
       "      <td>0.147200</td>\n",
       "      <td>0.114500</td>\n",
       "      <td>0.064930</td>\n",
       "      <td>0.250400</td>\n",
       "      <td>0.071460</td>\n",
       "    </tr>\n",
       "    <tr>\n",
       "      <th>50%</th>\n",
       "      <td>0.000000</td>\n",
       "      <td>13.370000</td>\n",
       "      <td>18.840000</td>\n",
       "      <td>86.240000</td>\n",
       "      <td>551.100000</td>\n",
       "      <td>0.095870</td>\n",
       "      <td>0.092630</td>\n",
       "      <td>0.061540</td>\n",
       "      <td>0.033500</td>\n",
       "      <td>0.179200</td>\n",
       "      <td>...</td>\n",
       "      <td>14.970000</td>\n",
       "      <td>25.410000</td>\n",
       "      <td>97.660000</td>\n",
       "      <td>686.500000</td>\n",
       "      <td>0.131300</td>\n",
       "      <td>0.211900</td>\n",
       "      <td>0.226700</td>\n",
       "      <td>0.099930</td>\n",
       "      <td>0.282200</td>\n",
       "      <td>0.080040</td>\n",
       "    </tr>\n",
       "    <tr>\n",
       "      <th>75%</th>\n",
       "      <td>1.000000</td>\n",
       "      <td>15.780000</td>\n",
       "      <td>21.800000</td>\n",
       "      <td>104.100000</td>\n",
       "      <td>782.700000</td>\n",
       "      <td>0.105300</td>\n",
       "      <td>0.130400</td>\n",
       "      <td>0.130700</td>\n",
       "      <td>0.074000</td>\n",
       "      <td>0.195700</td>\n",
       "      <td>...</td>\n",
       "      <td>18.790000</td>\n",
       "      <td>29.720000</td>\n",
       "      <td>125.400000</td>\n",
       "      <td>1084.000000</td>\n",
       "      <td>0.146000</td>\n",
       "      <td>0.339100</td>\n",
       "      <td>0.382900</td>\n",
       "      <td>0.161400</td>\n",
       "      <td>0.317900</td>\n",
       "      <td>0.092080</td>\n",
       "    </tr>\n",
       "    <tr>\n",
       "      <th>max</th>\n",
       "      <td>1.000000</td>\n",
       "      <td>28.110000</td>\n",
       "      <td>39.280000</td>\n",
       "      <td>188.500000</td>\n",
       "      <td>2501.000000</td>\n",
       "      <td>0.163400</td>\n",
       "      <td>0.345400</td>\n",
       "      <td>0.426800</td>\n",
       "      <td>0.201200</td>\n",
       "      <td>0.304000</td>\n",
       "      <td>...</td>\n",
       "      <td>36.040000</td>\n",
       "      <td>49.540000</td>\n",
       "      <td>251.200000</td>\n",
       "      <td>4254.000000</td>\n",
       "      <td>0.222600</td>\n",
       "      <td>1.058000</td>\n",
       "      <td>1.252000</td>\n",
       "      <td>0.291000</td>\n",
       "      <td>0.663800</td>\n",
       "      <td>0.207500</td>\n",
       "    </tr>\n",
       "  </tbody>\n",
       "</table>\n",
       "<p>8 rows × 31 columns</p>\n",
       "</div>"
      ],
      "text/plain": [
       "        diagnosis  radius_mean  texture_mean  perimeter_mean    area_mean  \\\n",
       "count  569.000000   569.000000    569.000000      569.000000   569.000000   \n",
       "mean     0.372583    14.127292     19.289649       91.969033   654.889104   \n",
       "std      0.483918     3.524049      4.301036       24.298981   351.914129   \n",
       "min      0.000000     6.981000      9.710000       43.790000   143.500000   \n",
       "25%      0.000000    11.700000     16.170000       75.170000   420.300000   \n",
       "50%      0.000000    13.370000     18.840000       86.240000   551.100000   \n",
       "75%      1.000000    15.780000     21.800000      104.100000   782.700000   \n",
       "max      1.000000    28.110000     39.280000      188.500000  2501.000000   \n",
       "\n",
       "       smoothness_mean  compactness_mean  concavity_mean  concave points_mean  \\\n",
       "count       569.000000        569.000000      569.000000           569.000000   \n",
       "mean          0.096360          0.104341        0.088799             0.048919   \n",
       "std           0.014064          0.052813        0.079720             0.038803   \n",
       "min           0.052630          0.019380        0.000000             0.000000   \n",
       "25%           0.086370          0.064920        0.029560             0.020310   \n",
       "50%           0.095870          0.092630        0.061540             0.033500   \n",
       "75%           0.105300          0.130400        0.130700             0.074000   \n",
       "max           0.163400          0.345400        0.426800             0.201200   \n",
       "\n",
       "       symmetry_mean  ...  radius_worst  texture_worst  perimeter_worst  \\\n",
       "count     569.000000  ...    569.000000     569.000000       569.000000   \n",
       "mean        0.181162  ...     16.269190      25.677223       107.261213   \n",
       "std         0.027414  ...      4.833242       6.146258        33.602542   \n",
       "min         0.106000  ...      7.930000      12.020000        50.410000   \n",
       "25%         0.161900  ...     13.010000      21.080000        84.110000   \n",
       "50%         0.179200  ...     14.970000      25.410000        97.660000   \n",
       "75%         0.195700  ...     18.790000      29.720000       125.400000   \n",
       "max         0.304000  ...     36.040000      49.540000       251.200000   \n",
       "\n",
       "        area_worst  smoothness_worst  compactness_worst  concavity_worst  \\\n",
       "count   569.000000        569.000000         569.000000       569.000000   \n",
       "mean    880.583128          0.132369           0.254265         0.272188   \n",
       "std     569.356993          0.022832           0.157336         0.208624   \n",
       "min     185.200000          0.071170           0.027290         0.000000   \n",
       "25%     515.300000          0.116600           0.147200         0.114500   \n",
       "50%     686.500000          0.131300           0.211900         0.226700   \n",
       "75%    1084.000000          0.146000           0.339100         0.382900   \n",
       "max    4254.000000          0.222600           1.058000         1.252000   \n",
       "\n",
       "       concave points_worst  symmetry_worst  fractal_dimension_worst  \n",
       "count            569.000000      569.000000               569.000000  \n",
       "mean               0.114606        0.290076                 0.083946  \n",
       "std                0.065732        0.061867                 0.018061  \n",
       "min                0.000000        0.156500                 0.055040  \n",
       "25%                0.064930        0.250400                 0.071460  \n",
       "50%                0.099930        0.282200                 0.080040  \n",
       "75%                0.161400        0.317900                 0.092080  \n",
       "max                0.291000        0.663800                 0.207500  \n",
       "\n",
       "[8 rows x 31 columns]"
      ]
     },
     "execution_count": 389,
     "metadata": {},
     "output_type": "execute_result"
    }
   ],
   "source": [
    "# display the summary statistics of all numerical columns\n",
    "data.describe()"
   ]
  },
  {
   "cell_type": "code",
   "execution_count": 390,
   "id": "8b3dc927",
   "metadata": {},
   "outputs": [
    {
     "data": {
      "text/html": [
       "<div>\n",
       "<style scoped>\n",
       "    .dataframe tbody tr th:only-of-type {\n",
       "        vertical-align: middle;\n",
       "    }\n",
       "\n",
       "    .dataframe tbody tr th {\n",
       "        vertical-align: top;\n",
       "    }\n",
       "\n",
       "    .dataframe thead th {\n",
       "        text-align: right;\n",
       "    }\n",
       "</style>\n",
       "<table border=\"1\" class=\"dataframe\">\n",
       "  <thead>\n",
       "    <tr style=\"text-align: right;\">\n",
       "      <th></th>\n",
       "      <th>radius_mean</th>\n",
       "      <th>texture_mean</th>\n",
       "      <th>perimeter_mean</th>\n",
       "      <th>area_mean</th>\n",
       "      <th>smoothness_mean</th>\n",
       "      <th>compactness_mean</th>\n",
       "      <th>concavity_mean</th>\n",
       "      <th>concave points_mean</th>\n",
       "      <th>symmetry_mean</th>\n",
       "      <th>fractal_dimension_mean</th>\n",
       "      <th>...</th>\n",
       "      <th>radius_worst</th>\n",
       "      <th>texture_worst</th>\n",
       "      <th>perimeter_worst</th>\n",
       "      <th>area_worst</th>\n",
       "      <th>smoothness_worst</th>\n",
       "      <th>compactness_worst</th>\n",
       "      <th>concavity_worst</th>\n",
       "      <th>concave points_worst</th>\n",
       "      <th>symmetry_worst</th>\n",
       "      <th>fractal_dimension_worst</th>\n",
       "    </tr>\n",
       "  </thead>\n",
       "  <tbody>\n",
       "    <tr>\n",
       "      <th>0</th>\n",
       "      <td>17.99</td>\n",
       "      <td>10.38</td>\n",
       "      <td>122.80</td>\n",
       "      <td>1001.0</td>\n",
       "      <td>0.11840</td>\n",
       "      <td>0.27760</td>\n",
       "      <td>0.3001</td>\n",
       "      <td>0.14710</td>\n",
       "      <td>0.2419</td>\n",
       "      <td>0.07871</td>\n",
       "      <td>...</td>\n",
       "      <td>25.38</td>\n",
       "      <td>17.33</td>\n",
       "      <td>184.60</td>\n",
       "      <td>2019.0</td>\n",
       "      <td>0.1622</td>\n",
       "      <td>0.6656</td>\n",
       "      <td>0.7119</td>\n",
       "      <td>0.2654</td>\n",
       "      <td>0.4601</td>\n",
       "      <td>0.11890</td>\n",
       "    </tr>\n",
       "    <tr>\n",
       "      <th>1</th>\n",
       "      <td>20.57</td>\n",
       "      <td>17.77</td>\n",
       "      <td>132.90</td>\n",
       "      <td>1326.0</td>\n",
       "      <td>0.08474</td>\n",
       "      <td>0.07864</td>\n",
       "      <td>0.0869</td>\n",
       "      <td>0.07017</td>\n",
       "      <td>0.1812</td>\n",
       "      <td>0.05667</td>\n",
       "      <td>...</td>\n",
       "      <td>24.99</td>\n",
       "      <td>23.41</td>\n",
       "      <td>158.80</td>\n",
       "      <td>1956.0</td>\n",
       "      <td>0.1238</td>\n",
       "      <td>0.1866</td>\n",
       "      <td>0.2416</td>\n",
       "      <td>0.1860</td>\n",
       "      <td>0.2750</td>\n",
       "      <td>0.08902</td>\n",
       "    </tr>\n",
       "    <tr>\n",
       "      <th>2</th>\n",
       "      <td>19.69</td>\n",
       "      <td>21.25</td>\n",
       "      <td>130.00</td>\n",
       "      <td>1203.0</td>\n",
       "      <td>0.10960</td>\n",
       "      <td>0.15990</td>\n",
       "      <td>0.1974</td>\n",
       "      <td>0.12790</td>\n",
       "      <td>0.2069</td>\n",
       "      <td>0.05999</td>\n",
       "      <td>...</td>\n",
       "      <td>23.57</td>\n",
       "      <td>25.53</td>\n",
       "      <td>152.50</td>\n",
       "      <td>1709.0</td>\n",
       "      <td>0.1444</td>\n",
       "      <td>0.4245</td>\n",
       "      <td>0.4504</td>\n",
       "      <td>0.2430</td>\n",
       "      <td>0.3613</td>\n",
       "      <td>0.08758</td>\n",
       "    </tr>\n",
       "    <tr>\n",
       "      <th>3</th>\n",
       "      <td>11.42</td>\n",
       "      <td>20.38</td>\n",
       "      <td>77.58</td>\n",
       "      <td>386.1</td>\n",
       "      <td>0.14250</td>\n",
       "      <td>0.28390</td>\n",
       "      <td>0.2414</td>\n",
       "      <td>0.10520</td>\n",
       "      <td>0.2597</td>\n",
       "      <td>0.09744</td>\n",
       "      <td>...</td>\n",
       "      <td>14.91</td>\n",
       "      <td>26.50</td>\n",
       "      <td>98.87</td>\n",
       "      <td>567.7</td>\n",
       "      <td>0.2098</td>\n",
       "      <td>0.8663</td>\n",
       "      <td>0.6869</td>\n",
       "      <td>0.2575</td>\n",
       "      <td>0.6638</td>\n",
       "      <td>0.17300</td>\n",
       "    </tr>\n",
       "    <tr>\n",
       "      <th>4</th>\n",
       "      <td>20.29</td>\n",
       "      <td>14.34</td>\n",
       "      <td>135.10</td>\n",
       "      <td>1297.0</td>\n",
       "      <td>0.10030</td>\n",
       "      <td>0.13280</td>\n",
       "      <td>0.1980</td>\n",
       "      <td>0.10430</td>\n",
       "      <td>0.1809</td>\n",
       "      <td>0.05883</td>\n",
       "      <td>...</td>\n",
       "      <td>22.54</td>\n",
       "      <td>16.67</td>\n",
       "      <td>152.20</td>\n",
       "      <td>1575.0</td>\n",
       "      <td>0.1374</td>\n",
       "      <td>0.2050</td>\n",
       "      <td>0.4000</td>\n",
       "      <td>0.1625</td>\n",
       "      <td>0.2364</td>\n",
       "      <td>0.07678</td>\n",
       "    </tr>\n",
       "  </tbody>\n",
       "</table>\n",
       "<p>5 rows × 30 columns</p>\n",
       "</div>"
      ],
      "text/plain": [
       "   radius_mean  texture_mean  perimeter_mean  area_mean  smoothness_mean  \\\n",
       "0        17.99         10.38          122.80     1001.0          0.11840   \n",
       "1        20.57         17.77          132.90     1326.0          0.08474   \n",
       "2        19.69         21.25          130.00     1203.0          0.10960   \n",
       "3        11.42         20.38           77.58      386.1          0.14250   \n",
       "4        20.29         14.34          135.10     1297.0          0.10030   \n",
       "\n",
       "   compactness_mean  concavity_mean  concave points_mean  symmetry_mean  \\\n",
       "0           0.27760          0.3001              0.14710         0.2419   \n",
       "1           0.07864          0.0869              0.07017         0.1812   \n",
       "2           0.15990          0.1974              0.12790         0.2069   \n",
       "3           0.28390          0.2414              0.10520         0.2597   \n",
       "4           0.13280          0.1980              0.10430         0.1809   \n",
       "\n",
       "   fractal_dimension_mean  ...  radius_worst  texture_worst  perimeter_worst  \\\n",
       "0                 0.07871  ...         25.38          17.33           184.60   \n",
       "1                 0.05667  ...         24.99          23.41           158.80   \n",
       "2                 0.05999  ...         23.57          25.53           152.50   \n",
       "3                 0.09744  ...         14.91          26.50            98.87   \n",
       "4                 0.05883  ...         22.54          16.67           152.20   \n",
       "\n",
       "   area_worst  smoothness_worst  compactness_worst  concavity_worst  \\\n",
       "0      2019.0            0.1622             0.6656           0.7119   \n",
       "1      1956.0            0.1238             0.1866           0.2416   \n",
       "2      1709.0            0.1444             0.4245           0.4504   \n",
       "3       567.7            0.2098             0.8663           0.6869   \n",
       "4      1575.0            0.1374             0.2050           0.4000   \n",
       "\n",
       "   concave points_worst  symmetry_worst  fractal_dimension_worst  \n",
       "0                0.2654          0.4601                  0.11890  \n",
       "1                0.1860          0.2750                  0.08902  \n",
       "2                0.2430          0.3613                  0.08758  \n",
       "3                0.2575          0.6638                  0.17300  \n",
       "4                0.1625          0.2364                  0.07678  \n",
       "\n",
       "[5 rows x 30 columns]"
      ]
     },
     "execution_count": 390,
     "metadata": {},
     "output_type": "execute_result"
    }
   ],
   "source": [
    "# preparing the dataframe to perform min max scaling and dropping the categorical column\n",
    "S = data.drop(['diagnosis'], axis = 1) \n",
    "\n",
    "# display first 5 values under the dataframe S\n",
    "S.head()"
   ]
  },
  {
   "cell_type": "code",
   "execution_count": 391,
   "id": "d9326f18",
   "metadata": {},
   "outputs": [
    {
     "data": {
      "text/plain": [
       "Index(['radius_mean', 'texture_mean', 'perimeter_mean', 'area_mean',\n",
       "       'smoothness_mean', 'compactness_mean', 'concavity_mean',\n",
       "       'concave points_mean', 'symmetry_mean', 'fractal_dimension_mean',\n",
       "       'radius_se', 'texture_se', 'perimeter_se', 'area_se', 'smoothness_se',\n",
       "       'compactness_se', 'concavity_se', 'concave points_se', 'symmetry_se',\n",
       "       'fractal_dimension_se', 'radius_worst', 'texture_worst',\n",
       "       'perimeter_worst', 'area_worst', 'smoothness_worst',\n",
       "       'compactness_worst', 'concavity_worst', 'concave points_worst',\n",
       "       'symmetry_worst', 'fractal_dimension_worst'],\n",
       "      dtype='object')"
      ]
     },
     "execution_count": 391,
     "metadata": {},
     "output_type": "execute_result"
    }
   ],
   "source": [
    "# display column names\n",
    "S.columns"
   ]
  },
  {
   "cell_type": "code",
   "execution_count": 392,
   "id": "624c86c8",
   "metadata": {},
   "outputs": [],
   "source": [
    "# creating an instance for MinMaxScaler() and defining the range between 0 and 1 using feature_range\n",
    "minmax = MinMaxScaler(feature_range=(0,1)) "
   ]
  },
  {
   "cell_type": "code",
   "execution_count": 393,
   "id": "1bed026d",
   "metadata": {},
   "outputs": [
    {
     "data": {
      "text/plain": [
       "array([[0.52103744, 0.0226581 , 0.54598853, ..., 0.91202749, 0.59846245,\n",
       "        0.41886396],\n",
       "       [0.64314449, 0.27257355, 0.61578329, ..., 0.63917526, 0.23358959,\n",
       "        0.22287813],\n",
       "       [0.60149557, 0.3902604 , 0.59574321, ..., 0.83505155, 0.40370589,\n",
       "        0.21343303],\n",
       "       ...,\n",
       "       [0.45525108, 0.62123774, 0.44578813, ..., 0.48728522, 0.12872068,\n",
       "        0.1519087 ],\n",
       "       [0.64456434, 0.66351031, 0.66553797, ..., 0.91065292, 0.49714173,\n",
       "        0.45231536],\n",
       "       [0.03686876, 0.50152181, 0.02853984, ..., 0.        , 0.25744136,\n",
       "        0.10068215]])"
      ]
     },
     "execution_count": 393,
     "metadata": {},
     "output_type": "execute_result"
    }
   ],
   "source": [
    "# Fit MinMaxScaler and tranform the scaled values to 'S1'\n",
    "S1 = minmax.fit_transform(S)\n",
    "\n",
    "# display the values of S1\n",
    "S1"
   ]
  },
  {
   "cell_type": "code",
   "execution_count": 394,
   "id": "03ba2d48",
   "metadata": {},
   "outputs": [
    {
     "data": {
      "text/html": [
       "<div>\n",
       "<style scoped>\n",
       "    .dataframe tbody tr th:only-of-type {\n",
       "        vertical-align: middle;\n",
       "    }\n",
       "\n",
       "    .dataframe tbody tr th {\n",
       "        vertical-align: top;\n",
       "    }\n",
       "\n",
       "    .dataframe thead th {\n",
       "        text-align: right;\n",
       "    }\n",
       "</style>\n",
       "<table border=\"1\" class=\"dataframe\">\n",
       "  <thead>\n",
       "    <tr style=\"text-align: right;\">\n",
       "      <th></th>\n",
       "      <th>radius_mean</th>\n",
       "      <th>texture_mean</th>\n",
       "      <th>perimeter_mean</th>\n",
       "      <th>area_mean</th>\n",
       "      <th>smoothness_mean</th>\n",
       "      <th>compactness_mean</th>\n",
       "      <th>concavity_mean</th>\n",
       "      <th>concave points_mean</th>\n",
       "      <th>symmetry_mean</th>\n",
       "      <th>fractal_dimension_mean</th>\n",
       "      <th>...</th>\n",
       "      <th>radius_worst</th>\n",
       "      <th>texture_worst</th>\n",
       "      <th>perimeter_worst</th>\n",
       "      <th>area_worst</th>\n",
       "      <th>smoothness_worst</th>\n",
       "      <th>compactness_worst</th>\n",
       "      <th>concavity_worst</th>\n",
       "      <th>concave points_worst</th>\n",
       "      <th>symmetry_worst</th>\n",
       "      <th>fractal_dimension_worst</th>\n",
       "    </tr>\n",
       "  </thead>\n",
       "  <tbody>\n",
       "    <tr>\n",
       "      <th>0</th>\n",
       "      <td>0.521037</td>\n",
       "      <td>0.022658</td>\n",
       "      <td>0.545989</td>\n",
       "      <td>0.363733</td>\n",
       "      <td>0.593753</td>\n",
       "      <td>0.792037</td>\n",
       "      <td>0.703140</td>\n",
       "      <td>0.731113</td>\n",
       "      <td>0.686364</td>\n",
       "      <td>0.605518</td>\n",
       "      <td>...</td>\n",
       "      <td>0.620776</td>\n",
       "      <td>0.141525</td>\n",
       "      <td>0.668310</td>\n",
       "      <td>0.450698</td>\n",
       "      <td>0.601136</td>\n",
       "      <td>0.619292</td>\n",
       "      <td>0.568610</td>\n",
       "      <td>0.912027</td>\n",
       "      <td>0.598462</td>\n",
       "      <td>0.418864</td>\n",
       "    </tr>\n",
       "    <tr>\n",
       "      <th>1</th>\n",
       "      <td>0.643144</td>\n",
       "      <td>0.272574</td>\n",
       "      <td>0.615783</td>\n",
       "      <td>0.501591</td>\n",
       "      <td>0.289880</td>\n",
       "      <td>0.181768</td>\n",
       "      <td>0.203608</td>\n",
       "      <td>0.348757</td>\n",
       "      <td>0.379798</td>\n",
       "      <td>0.141323</td>\n",
       "      <td>...</td>\n",
       "      <td>0.606901</td>\n",
       "      <td>0.303571</td>\n",
       "      <td>0.539818</td>\n",
       "      <td>0.435214</td>\n",
       "      <td>0.347553</td>\n",
       "      <td>0.154563</td>\n",
       "      <td>0.192971</td>\n",
       "      <td>0.639175</td>\n",
       "      <td>0.233590</td>\n",
       "      <td>0.222878</td>\n",
       "    </tr>\n",
       "    <tr>\n",
       "      <th>2</th>\n",
       "      <td>0.601496</td>\n",
       "      <td>0.390260</td>\n",
       "      <td>0.595743</td>\n",
       "      <td>0.449417</td>\n",
       "      <td>0.514309</td>\n",
       "      <td>0.431017</td>\n",
       "      <td>0.462512</td>\n",
       "      <td>0.635686</td>\n",
       "      <td>0.509596</td>\n",
       "      <td>0.211247</td>\n",
       "      <td>...</td>\n",
       "      <td>0.556386</td>\n",
       "      <td>0.360075</td>\n",
       "      <td>0.508442</td>\n",
       "      <td>0.374508</td>\n",
       "      <td>0.483590</td>\n",
       "      <td>0.385375</td>\n",
       "      <td>0.359744</td>\n",
       "      <td>0.835052</td>\n",
       "      <td>0.403706</td>\n",
       "      <td>0.213433</td>\n",
       "    </tr>\n",
       "    <tr>\n",
       "      <th>3</th>\n",
       "      <td>0.210090</td>\n",
       "      <td>0.360839</td>\n",
       "      <td>0.233501</td>\n",
       "      <td>0.102906</td>\n",
       "      <td>0.811321</td>\n",
       "      <td>0.811361</td>\n",
       "      <td>0.565604</td>\n",
       "      <td>0.522863</td>\n",
       "      <td>0.776263</td>\n",
       "      <td>1.000000</td>\n",
       "      <td>...</td>\n",
       "      <td>0.248310</td>\n",
       "      <td>0.385928</td>\n",
       "      <td>0.241347</td>\n",
       "      <td>0.094008</td>\n",
       "      <td>0.915472</td>\n",
       "      <td>0.814012</td>\n",
       "      <td>0.548642</td>\n",
       "      <td>0.884880</td>\n",
       "      <td>1.000000</td>\n",
       "      <td>0.773711</td>\n",
       "    </tr>\n",
       "    <tr>\n",
       "      <th>4</th>\n",
       "      <td>0.629893</td>\n",
       "      <td>0.156578</td>\n",
       "      <td>0.630986</td>\n",
       "      <td>0.489290</td>\n",
       "      <td>0.430351</td>\n",
       "      <td>0.347893</td>\n",
       "      <td>0.463918</td>\n",
       "      <td>0.518390</td>\n",
       "      <td>0.378283</td>\n",
       "      <td>0.186816</td>\n",
       "      <td>...</td>\n",
       "      <td>0.519744</td>\n",
       "      <td>0.123934</td>\n",
       "      <td>0.506948</td>\n",
       "      <td>0.341575</td>\n",
       "      <td>0.437364</td>\n",
       "      <td>0.172415</td>\n",
       "      <td>0.319489</td>\n",
       "      <td>0.558419</td>\n",
       "      <td>0.157500</td>\n",
       "      <td>0.142595</td>\n",
       "    </tr>\n",
       "    <tr>\n",
       "      <th>...</th>\n",
       "      <td>...</td>\n",
       "      <td>...</td>\n",
       "      <td>...</td>\n",
       "      <td>...</td>\n",
       "      <td>...</td>\n",
       "      <td>...</td>\n",
       "      <td>...</td>\n",
       "      <td>...</td>\n",
       "      <td>...</td>\n",
       "      <td>...</td>\n",
       "      <td>...</td>\n",
       "      <td>...</td>\n",
       "      <td>...</td>\n",
       "      <td>...</td>\n",
       "      <td>...</td>\n",
       "      <td>...</td>\n",
       "      <td>...</td>\n",
       "      <td>...</td>\n",
       "      <td>...</td>\n",
       "      <td>...</td>\n",
       "      <td>...</td>\n",
       "    </tr>\n",
       "    <tr>\n",
       "      <th>564</th>\n",
       "      <td>0.690000</td>\n",
       "      <td>0.428813</td>\n",
       "      <td>0.678668</td>\n",
       "      <td>0.566490</td>\n",
       "      <td>0.526948</td>\n",
       "      <td>0.296055</td>\n",
       "      <td>0.571462</td>\n",
       "      <td>0.690358</td>\n",
       "      <td>0.336364</td>\n",
       "      <td>0.132056</td>\n",
       "      <td>...</td>\n",
       "      <td>0.623266</td>\n",
       "      <td>0.383262</td>\n",
       "      <td>0.576174</td>\n",
       "      <td>0.452664</td>\n",
       "      <td>0.461137</td>\n",
       "      <td>0.178527</td>\n",
       "      <td>0.328035</td>\n",
       "      <td>0.761512</td>\n",
       "      <td>0.097575</td>\n",
       "      <td>0.105667</td>\n",
       "    </tr>\n",
       "    <tr>\n",
       "      <th>565</th>\n",
       "      <td>0.622320</td>\n",
       "      <td>0.626987</td>\n",
       "      <td>0.604036</td>\n",
       "      <td>0.474019</td>\n",
       "      <td>0.407782</td>\n",
       "      <td>0.257714</td>\n",
       "      <td>0.337395</td>\n",
       "      <td>0.486630</td>\n",
       "      <td>0.349495</td>\n",
       "      <td>0.113100</td>\n",
       "      <td>...</td>\n",
       "      <td>0.560655</td>\n",
       "      <td>0.699094</td>\n",
       "      <td>0.520892</td>\n",
       "      <td>0.379915</td>\n",
       "      <td>0.300007</td>\n",
       "      <td>0.159997</td>\n",
       "      <td>0.256789</td>\n",
       "      <td>0.559450</td>\n",
       "      <td>0.198502</td>\n",
       "      <td>0.074315</td>\n",
       "    </tr>\n",
       "    <tr>\n",
       "      <th>566</th>\n",
       "      <td>0.455251</td>\n",
       "      <td>0.621238</td>\n",
       "      <td>0.445788</td>\n",
       "      <td>0.303118</td>\n",
       "      <td>0.288165</td>\n",
       "      <td>0.254340</td>\n",
       "      <td>0.216753</td>\n",
       "      <td>0.263519</td>\n",
       "      <td>0.267677</td>\n",
       "      <td>0.137321</td>\n",
       "      <td>...</td>\n",
       "      <td>0.393099</td>\n",
       "      <td>0.589019</td>\n",
       "      <td>0.379949</td>\n",
       "      <td>0.230731</td>\n",
       "      <td>0.282177</td>\n",
       "      <td>0.273705</td>\n",
       "      <td>0.271805</td>\n",
       "      <td>0.487285</td>\n",
       "      <td>0.128721</td>\n",
       "      <td>0.151909</td>\n",
       "    </tr>\n",
       "    <tr>\n",
       "      <th>567</th>\n",
       "      <td>0.644564</td>\n",
       "      <td>0.663510</td>\n",
       "      <td>0.665538</td>\n",
       "      <td>0.475716</td>\n",
       "      <td>0.588336</td>\n",
       "      <td>0.790197</td>\n",
       "      <td>0.823336</td>\n",
       "      <td>0.755467</td>\n",
       "      <td>0.675253</td>\n",
       "      <td>0.425442</td>\n",
       "      <td>...</td>\n",
       "      <td>0.633582</td>\n",
       "      <td>0.730277</td>\n",
       "      <td>0.668310</td>\n",
       "      <td>0.402035</td>\n",
       "      <td>0.619626</td>\n",
       "      <td>0.815758</td>\n",
       "      <td>0.749760</td>\n",
       "      <td>0.910653</td>\n",
       "      <td>0.497142</td>\n",
       "      <td>0.452315</td>\n",
       "    </tr>\n",
       "    <tr>\n",
       "      <th>568</th>\n",
       "      <td>0.036869</td>\n",
       "      <td>0.501522</td>\n",
       "      <td>0.028540</td>\n",
       "      <td>0.015907</td>\n",
       "      <td>0.000000</td>\n",
       "      <td>0.074351</td>\n",
       "      <td>0.000000</td>\n",
       "      <td>0.000000</td>\n",
       "      <td>0.266162</td>\n",
       "      <td>0.187026</td>\n",
       "      <td>...</td>\n",
       "      <td>0.054287</td>\n",
       "      <td>0.489072</td>\n",
       "      <td>0.043578</td>\n",
       "      <td>0.020497</td>\n",
       "      <td>0.124084</td>\n",
       "      <td>0.036043</td>\n",
       "      <td>0.000000</td>\n",
       "      <td>0.000000</td>\n",
       "      <td>0.257441</td>\n",
       "      <td>0.100682</td>\n",
       "    </tr>\n",
       "  </tbody>\n",
       "</table>\n",
       "<p>569 rows × 30 columns</p>\n",
       "</div>"
      ],
      "text/plain": [
       "     radius_mean  texture_mean  perimeter_mean  area_mean  smoothness_mean  \\\n",
       "0       0.521037      0.022658        0.545989   0.363733         0.593753   \n",
       "1       0.643144      0.272574        0.615783   0.501591         0.289880   \n",
       "2       0.601496      0.390260        0.595743   0.449417         0.514309   \n",
       "3       0.210090      0.360839        0.233501   0.102906         0.811321   \n",
       "4       0.629893      0.156578        0.630986   0.489290         0.430351   \n",
       "..           ...           ...             ...        ...              ...   \n",
       "564     0.690000      0.428813        0.678668   0.566490         0.526948   \n",
       "565     0.622320      0.626987        0.604036   0.474019         0.407782   \n",
       "566     0.455251      0.621238        0.445788   0.303118         0.288165   \n",
       "567     0.644564      0.663510        0.665538   0.475716         0.588336   \n",
       "568     0.036869      0.501522        0.028540   0.015907         0.000000   \n",
       "\n",
       "     compactness_mean  concavity_mean  concave points_mean  symmetry_mean  \\\n",
       "0            0.792037        0.703140             0.731113       0.686364   \n",
       "1            0.181768        0.203608             0.348757       0.379798   \n",
       "2            0.431017        0.462512             0.635686       0.509596   \n",
       "3            0.811361        0.565604             0.522863       0.776263   \n",
       "4            0.347893        0.463918             0.518390       0.378283   \n",
       "..                ...             ...                  ...            ...   \n",
       "564          0.296055        0.571462             0.690358       0.336364   \n",
       "565          0.257714        0.337395             0.486630       0.349495   \n",
       "566          0.254340        0.216753             0.263519       0.267677   \n",
       "567          0.790197        0.823336             0.755467       0.675253   \n",
       "568          0.074351        0.000000             0.000000       0.266162   \n",
       "\n",
       "     fractal_dimension_mean  ...  radius_worst  texture_worst  \\\n",
       "0                  0.605518  ...      0.620776       0.141525   \n",
       "1                  0.141323  ...      0.606901       0.303571   \n",
       "2                  0.211247  ...      0.556386       0.360075   \n",
       "3                  1.000000  ...      0.248310       0.385928   \n",
       "4                  0.186816  ...      0.519744       0.123934   \n",
       "..                      ...  ...           ...            ...   \n",
       "564                0.132056  ...      0.623266       0.383262   \n",
       "565                0.113100  ...      0.560655       0.699094   \n",
       "566                0.137321  ...      0.393099       0.589019   \n",
       "567                0.425442  ...      0.633582       0.730277   \n",
       "568                0.187026  ...      0.054287       0.489072   \n",
       "\n",
       "     perimeter_worst  area_worst  smoothness_worst  compactness_worst  \\\n",
       "0           0.668310    0.450698          0.601136           0.619292   \n",
       "1           0.539818    0.435214          0.347553           0.154563   \n",
       "2           0.508442    0.374508          0.483590           0.385375   \n",
       "3           0.241347    0.094008          0.915472           0.814012   \n",
       "4           0.506948    0.341575          0.437364           0.172415   \n",
       "..               ...         ...               ...                ...   \n",
       "564         0.576174    0.452664          0.461137           0.178527   \n",
       "565         0.520892    0.379915          0.300007           0.159997   \n",
       "566         0.379949    0.230731          0.282177           0.273705   \n",
       "567         0.668310    0.402035          0.619626           0.815758   \n",
       "568         0.043578    0.020497          0.124084           0.036043   \n",
       "\n",
       "     concavity_worst  concave points_worst  symmetry_worst  \\\n",
       "0           0.568610              0.912027        0.598462   \n",
       "1           0.192971              0.639175        0.233590   \n",
       "2           0.359744              0.835052        0.403706   \n",
       "3           0.548642              0.884880        1.000000   \n",
       "4           0.319489              0.558419        0.157500   \n",
       "..               ...                   ...             ...   \n",
       "564         0.328035              0.761512        0.097575   \n",
       "565         0.256789              0.559450        0.198502   \n",
       "566         0.271805              0.487285        0.128721   \n",
       "567         0.749760              0.910653        0.497142   \n",
       "568         0.000000              0.000000        0.257441   \n",
       "\n",
       "     fractal_dimension_worst  \n",
       "0                   0.418864  \n",
       "1                   0.222878  \n",
       "2                   0.213433  \n",
       "3                   0.773711  \n",
       "4                   0.142595  \n",
       "..                       ...  \n",
       "564                 0.105667  \n",
       "565                 0.074315  \n",
       "566                 0.151909  \n",
       "567                 0.452315  \n",
       "568                 0.100682  \n",
       "\n",
       "[569 rows x 30 columns]"
      ]
     },
     "execution_count": 394,
     "metadata": {},
     "output_type": "execute_result"
    }
   ],
   "source": [
    "# converting back to a dataframe since it is array format and displaying it\n",
    "S1 = pd.DataFrame(S1, columns=['radius_mean', 'texture_mean', 'perimeter_mean', 'area_mean',\n",
    "       'smoothness_mean', 'compactness_mean', 'concavity_mean',\n",
    "       'concave points_mean', 'symmetry_mean', 'fractal_dimension_mean',\n",
    "       'radius_se', 'texture_se', 'perimeter_se', 'area_se', 'smoothness_se',\n",
    "       'compactness_se', 'concavity_se', 'concave points_se', 'symmetry_se',\n",
    "       'fractal_dimension_se', 'radius_worst', 'texture_worst',\n",
    "       'perimeter_worst', 'area_worst', 'smoothness_worst',\n",
    "       'compactness_worst', 'concavity_worst', 'concave points_worst',\n",
    "       'symmetry_worst', 'fractal_dimension_worst'])\n",
    "S1"
   ]
  },
  {
   "cell_type": "code",
   "execution_count": 395,
   "id": "491bbd53",
   "metadata": {},
   "outputs": [
    {
     "data": {
      "text/html": [
       "<div>\n",
       "<style scoped>\n",
       "    .dataframe tbody tr th:only-of-type {\n",
       "        vertical-align: middle;\n",
       "    }\n",
       "\n",
       "    .dataframe tbody tr th {\n",
       "        vertical-align: top;\n",
       "    }\n",
       "\n",
       "    .dataframe thead th {\n",
       "        text-align: right;\n",
       "    }\n",
       "</style>\n",
       "<table border=\"1\" class=\"dataframe\">\n",
       "  <thead>\n",
       "    <tr style=\"text-align: right;\">\n",
       "      <th></th>\n",
       "      <th>radius_mean</th>\n",
       "      <th>texture_mean</th>\n",
       "      <th>perimeter_mean</th>\n",
       "      <th>area_mean</th>\n",
       "      <th>smoothness_mean</th>\n",
       "      <th>compactness_mean</th>\n",
       "      <th>concavity_mean</th>\n",
       "      <th>concave points_mean</th>\n",
       "      <th>symmetry_mean</th>\n",
       "      <th>fractal_dimension_mean</th>\n",
       "      <th>...</th>\n",
       "      <th>radius_worst</th>\n",
       "      <th>texture_worst</th>\n",
       "      <th>perimeter_worst</th>\n",
       "      <th>area_worst</th>\n",
       "      <th>smoothness_worst</th>\n",
       "      <th>compactness_worst</th>\n",
       "      <th>concavity_worst</th>\n",
       "      <th>concave points_worst</th>\n",
       "      <th>symmetry_worst</th>\n",
       "      <th>fractal_dimension_worst</th>\n",
       "    </tr>\n",
       "  </thead>\n",
       "  <tbody>\n",
       "    <tr>\n",
       "      <th>count</th>\n",
       "      <td>569.000000</td>\n",
       "      <td>569.000000</td>\n",
       "      <td>569.000000</td>\n",
       "      <td>569.000000</td>\n",
       "      <td>569.000000</td>\n",
       "      <td>569.000000</td>\n",
       "      <td>569.000000</td>\n",
       "      <td>569.000000</td>\n",
       "      <td>569.000000</td>\n",
       "      <td>569.000000</td>\n",
       "      <td>...</td>\n",
       "      <td>569.000000</td>\n",
       "      <td>569.000000</td>\n",
       "      <td>569.000000</td>\n",
       "      <td>569.000000</td>\n",
       "      <td>569.000000</td>\n",
       "      <td>569.000000</td>\n",
       "      <td>569.000000</td>\n",
       "      <td>569.000000</td>\n",
       "      <td>569.000000</td>\n",
       "      <td>569.000000</td>\n",
       "    </tr>\n",
       "    <tr>\n",
       "      <th>mean</th>\n",
       "      <td>0.338222</td>\n",
       "      <td>0.323965</td>\n",
       "      <td>0.332935</td>\n",
       "      <td>0.216920</td>\n",
       "      <td>0.394785</td>\n",
       "      <td>0.260601</td>\n",
       "      <td>0.208058</td>\n",
       "      <td>0.243137</td>\n",
       "      <td>0.379605</td>\n",
       "      <td>0.270379</td>\n",
       "      <td>...</td>\n",
       "      <td>0.296663</td>\n",
       "      <td>0.363998</td>\n",
       "      <td>0.283138</td>\n",
       "      <td>0.170906</td>\n",
       "      <td>0.404138</td>\n",
       "      <td>0.220212</td>\n",
       "      <td>0.217403</td>\n",
       "      <td>0.393836</td>\n",
       "      <td>0.263307</td>\n",
       "      <td>0.189596</td>\n",
       "    </tr>\n",
       "    <tr>\n",
       "      <th>std</th>\n",
       "      <td>0.166787</td>\n",
       "      <td>0.145453</td>\n",
       "      <td>0.167915</td>\n",
       "      <td>0.149274</td>\n",
       "      <td>0.126967</td>\n",
       "      <td>0.161992</td>\n",
       "      <td>0.186785</td>\n",
       "      <td>0.192857</td>\n",
       "      <td>0.138456</td>\n",
       "      <td>0.148702</td>\n",
       "      <td>...</td>\n",
       "      <td>0.171940</td>\n",
       "      <td>0.163813</td>\n",
       "      <td>0.167352</td>\n",
       "      <td>0.139932</td>\n",
       "      <td>0.150779</td>\n",
       "      <td>0.152649</td>\n",
       "      <td>0.166633</td>\n",
       "      <td>0.225884</td>\n",
       "      <td>0.121954</td>\n",
       "      <td>0.118466</td>\n",
       "    </tr>\n",
       "    <tr>\n",
       "      <th>min</th>\n",
       "      <td>0.000000</td>\n",
       "      <td>0.000000</td>\n",
       "      <td>0.000000</td>\n",
       "      <td>0.000000</td>\n",
       "      <td>0.000000</td>\n",
       "      <td>0.000000</td>\n",
       "      <td>0.000000</td>\n",
       "      <td>0.000000</td>\n",
       "      <td>0.000000</td>\n",
       "      <td>0.000000</td>\n",
       "      <td>...</td>\n",
       "      <td>0.000000</td>\n",
       "      <td>0.000000</td>\n",
       "      <td>0.000000</td>\n",
       "      <td>0.000000</td>\n",
       "      <td>0.000000</td>\n",
       "      <td>0.000000</td>\n",
       "      <td>0.000000</td>\n",
       "      <td>0.000000</td>\n",
       "      <td>0.000000</td>\n",
       "      <td>0.000000</td>\n",
       "    </tr>\n",
       "    <tr>\n",
       "      <th>25%</th>\n",
       "      <td>0.223342</td>\n",
       "      <td>0.218465</td>\n",
       "      <td>0.216847</td>\n",
       "      <td>0.117413</td>\n",
       "      <td>0.304595</td>\n",
       "      <td>0.139685</td>\n",
       "      <td>0.069260</td>\n",
       "      <td>0.100944</td>\n",
       "      <td>0.282323</td>\n",
       "      <td>0.163016</td>\n",
       "      <td>...</td>\n",
       "      <td>0.180719</td>\n",
       "      <td>0.241471</td>\n",
       "      <td>0.167837</td>\n",
       "      <td>0.081130</td>\n",
       "      <td>0.300007</td>\n",
       "      <td>0.116337</td>\n",
       "      <td>0.091454</td>\n",
       "      <td>0.223127</td>\n",
       "      <td>0.185098</td>\n",
       "      <td>0.107700</td>\n",
       "    </tr>\n",
       "    <tr>\n",
       "      <th>50%</th>\n",
       "      <td>0.302381</td>\n",
       "      <td>0.308759</td>\n",
       "      <td>0.293345</td>\n",
       "      <td>0.172895</td>\n",
       "      <td>0.390358</td>\n",
       "      <td>0.224679</td>\n",
       "      <td>0.144189</td>\n",
       "      <td>0.166501</td>\n",
       "      <td>0.369697</td>\n",
       "      <td>0.243892</td>\n",
       "      <td>...</td>\n",
       "      <td>0.250445</td>\n",
       "      <td>0.356876</td>\n",
       "      <td>0.235320</td>\n",
       "      <td>0.123206</td>\n",
       "      <td>0.397081</td>\n",
       "      <td>0.179110</td>\n",
       "      <td>0.181070</td>\n",
       "      <td>0.343402</td>\n",
       "      <td>0.247782</td>\n",
       "      <td>0.163977</td>\n",
       "    </tr>\n",
       "    <tr>\n",
       "      <th>75%</th>\n",
       "      <td>0.416442</td>\n",
       "      <td>0.408860</td>\n",
       "      <td>0.416765</td>\n",
       "      <td>0.271135</td>\n",
       "      <td>0.475490</td>\n",
       "      <td>0.340531</td>\n",
       "      <td>0.306232</td>\n",
       "      <td>0.367793</td>\n",
       "      <td>0.453030</td>\n",
       "      <td>0.340354</td>\n",
       "      <td>...</td>\n",
       "      <td>0.386339</td>\n",
       "      <td>0.471748</td>\n",
       "      <td>0.373475</td>\n",
       "      <td>0.220901</td>\n",
       "      <td>0.494156</td>\n",
       "      <td>0.302520</td>\n",
       "      <td>0.305831</td>\n",
       "      <td>0.554639</td>\n",
       "      <td>0.318155</td>\n",
       "      <td>0.242949</td>\n",
       "    </tr>\n",
       "    <tr>\n",
       "      <th>max</th>\n",
       "      <td>1.000000</td>\n",
       "      <td>1.000000</td>\n",
       "      <td>1.000000</td>\n",
       "      <td>1.000000</td>\n",
       "      <td>1.000000</td>\n",
       "      <td>1.000000</td>\n",
       "      <td>1.000000</td>\n",
       "      <td>1.000000</td>\n",
       "      <td>1.000000</td>\n",
       "      <td>1.000000</td>\n",
       "      <td>...</td>\n",
       "      <td>1.000000</td>\n",
       "      <td>1.000000</td>\n",
       "      <td>1.000000</td>\n",
       "      <td>1.000000</td>\n",
       "      <td>1.000000</td>\n",
       "      <td>1.000000</td>\n",
       "      <td>1.000000</td>\n",
       "      <td>1.000000</td>\n",
       "      <td>1.000000</td>\n",
       "      <td>1.000000</td>\n",
       "    </tr>\n",
       "  </tbody>\n",
       "</table>\n",
       "<p>8 rows × 30 columns</p>\n",
       "</div>"
      ],
      "text/plain": [
       "       radius_mean  texture_mean  perimeter_mean   area_mean  smoothness_mean  \\\n",
       "count   569.000000    569.000000      569.000000  569.000000       569.000000   \n",
       "mean      0.338222      0.323965        0.332935    0.216920         0.394785   \n",
       "std       0.166787      0.145453        0.167915    0.149274         0.126967   \n",
       "min       0.000000      0.000000        0.000000    0.000000         0.000000   \n",
       "25%       0.223342      0.218465        0.216847    0.117413         0.304595   \n",
       "50%       0.302381      0.308759        0.293345    0.172895         0.390358   \n",
       "75%       0.416442      0.408860        0.416765    0.271135         0.475490   \n",
       "max       1.000000      1.000000        1.000000    1.000000         1.000000   \n",
       "\n",
       "       compactness_mean  concavity_mean  concave points_mean  symmetry_mean  \\\n",
       "count        569.000000      569.000000           569.000000     569.000000   \n",
       "mean           0.260601        0.208058             0.243137       0.379605   \n",
       "std            0.161992        0.186785             0.192857       0.138456   \n",
       "min            0.000000        0.000000             0.000000       0.000000   \n",
       "25%            0.139685        0.069260             0.100944       0.282323   \n",
       "50%            0.224679        0.144189             0.166501       0.369697   \n",
       "75%            0.340531        0.306232             0.367793       0.453030   \n",
       "max            1.000000        1.000000             1.000000       1.000000   \n",
       "\n",
       "       fractal_dimension_mean  ...  radius_worst  texture_worst  \\\n",
       "count              569.000000  ...    569.000000     569.000000   \n",
       "mean                 0.270379  ...      0.296663       0.363998   \n",
       "std                  0.148702  ...      0.171940       0.163813   \n",
       "min                  0.000000  ...      0.000000       0.000000   \n",
       "25%                  0.163016  ...      0.180719       0.241471   \n",
       "50%                  0.243892  ...      0.250445       0.356876   \n",
       "75%                  0.340354  ...      0.386339       0.471748   \n",
       "max                  1.000000  ...      1.000000       1.000000   \n",
       "\n",
       "       perimeter_worst  area_worst  smoothness_worst  compactness_worst  \\\n",
       "count       569.000000  569.000000        569.000000         569.000000   \n",
       "mean          0.283138    0.170906          0.404138           0.220212   \n",
       "std           0.167352    0.139932          0.150779           0.152649   \n",
       "min           0.000000    0.000000          0.000000           0.000000   \n",
       "25%           0.167837    0.081130          0.300007           0.116337   \n",
       "50%           0.235320    0.123206          0.397081           0.179110   \n",
       "75%           0.373475    0.220901          0.494156           0.302520   \n",
       "max           1.000000    1.000000          1.000000           1.000000   \n",
       "\n",
       "       concavity_worst  concave points_worst  symmetry_worst  \\\n",
       "count       569.000000            569.000000      569.000000   \n",
       "mean          0.217403              0.393836        0.263307   \n",
       "std           0.166633              0.225884        0.121954   \n",
       "min           0.000000              0.000000        0.000000   \n",
       "25%           0.091454              0.223127        0.185098   \n",
       "50%           0.181070              0.343402        0.247782   \n",
       "75%           0.305831              0.554639        0.318155   \n",
       "max           1.000000              1.000000        1.000000   \n",
       "\n",
       "       fractal_dimension_worst  \n",
       "count               569.000000  \n",
       "mean                  0.189596  \n",
       "std                   0.118466  \n",
       "min                   0.000000  \n",
       "25%                   0.107700  \n",
       "50%                   0.163977  \n",
       "75%                   0.242949  \n",
       "max                   1.000000  \n",
       "\n",
       "[8 rows x 30 columns]"
      ]
     },
     "execution_count": 395,
     "metadata": {},
     "output_type": "execute_result"
    }
   ],
   "source": [
    "# display the summary statistics of all numerical columns after applying scaling\n",
    "S1.describe()"
   ]
  },
  {
   "cell_type": "markdown",
   "id": "829ac626",
   "metadata": {},
   "source": [
    "### SPLITTING THE DATA INTO FEATURES AND TARGET\n",
    "\n",
    "-X indicates Fatures  = 'radius_mean', 'texture_mean', 'perimeter_mean', 'area_mean',\n",
    "       'smoothness_mean', 'compactness_mean', 'concavity_mean',\n",
    "       'concave points_mean', 'symmetry_mean', 'fractal_dimension_mean',\n",
    "       'radius_se', 'texture_se', 'perimeter_se', 'area_se', 'smoothness_se',\n",
    "       'compactness_se', 'concavity_se', 'concave points_se', 'symmetry_se',\n",
    "       'fractal_dimension_se', 'radius_worst', 'texture_worst',\n",
    "       'perimeter_worst', 'area_worst', 'smoothness_worst',\n",
    "       'compactness_worst', 'concavity_worst', 'concave points_worst',\n",
    "       'symmetry_worst', 'fractal_dimension_worst' columns\n",
    "\n",
    "\n",
    "-y indicates Target = 'diagnosis' column"
   ]
  },
  {
   "cell_type": "code",
   "execution_count": 396,
   "id": "445b0eeb",
   "metadata": {},
   "outputs": [
    {
     "data": {
      "text/html": [
       "<div>\n",
       "<style scoped>\n",
       "    .dataframe tbody tr th:only-of-type {\n",
       "        vertical-align: middle;\n",
       "    }\n",
       "\n",
       "    .dataframe tbody tr th {\n",
       "        vertical-align: top;\n",
       "    }\n",
       "\n",
       "    .dataframe thead th {\n",
       "        text-align: right;\n",
       "    }\n",
       "</style>\n",
       "<table border=\"1\" class=\"dataframe\">\n",
       "  <thead>\n",
       "    <tr style=\"text-align: right;\">\n",
       "      <th></th>\n",
       "      <th>radius_mean</th>\n",
       "      <th>texture_mean</th>\n",
       "      <th>perimeter_mean</th>\n",
       "      <th>area_mean</th>\n",
       "      <th>smoothness_mean</th>\n",
       "      <th>compactness_mean</th>\n",
       "      <th>concavity_mean</th>\n",
       "      <th>concave points_mean</th>\n",
       "      <th>symmetry_mean</th>\n",
       "      <th>fractal_dimension_mean</th>\n",
       "      <th>...</th>\n",
       "      <th>radius_worst</th>\n",
       "      <th>texture_worst</th>\n",
       "      <th>perimeter_worst</th>\n",
       "      <th>area_worst</th>\n",
       "      <th>smoothness_worst</th>\n",
       "      <th>compactness_worst</th>\n",
       "      <th>concavity_worst</th>\n",
       "      <th>concave points_worst</th>\n",
       "      <th>symmetry_worst</th>\n",
       "      <th>fractal_dimension_worst</th>\n",
       "    </tr>\n",
       "  </thead>\n",
       "  <tbody>\n",
       "    <tr>\n",
       "      <th>0</th>\n",
       "      <td>0.521037</td>\n",
       "      <td>0.022658</td>\n",
       "      <td>0.545989</td>\n",
       "      <td>0.363733</td>\n",
       "      <td>0.593753</td>\n",
       "      <td>0.792037</td>\n",
       "      <td>0.703140</td>\n",
       "      <td>0.731113</td>\n",
       "      <td>0.686364</td>\n",
       "      <td>0.605518</td>\n",
       "      <td>...</td>\n",
       "      <td>0.620776</td>\n",
       "      <td>0.141525</td>\n",
       "      <td>0.668310</td>\n",
       "      <td>0.450698</td>\n",
       "      <td>0.601136</td>\n",
       "      <td>0.619292</td>\n",
       "      <td>0.568610</td>\n",
       "      <td>0.912027</td>\n",
       "      <td>0.598462</td>\n",
       "      <td>0.418864</td>\n",
       "    </tr>\n",
       "    <tr>\n",
       "      <th>1</th>\n",
       "      <td>0.643144</td>\n",
       "      <td>0.272574</td>\n",
       "      <td>0.615783</td>\n",
       "      <td>0.501591</td>\n",
       "      <td>0.289880</td>\n",
       "      <td>0.181768</td>\n",
       "      <td>0.203608</td>\n",
       "      <td>0.348757</td>\n",
       "      <td>0.379798</td>\n",
       "      <td>0.141323</td>\n",
       "      <td>...</td>\n",
       "      <td>0.606901</td>\n",
       "      <td>0.303571</td>\n",
       "      <td>0.539818</td>\n",
       "      <td>0.435214</td>\n",
       "      <td>0.347553</td>\n",
       "      <td>0.154563</td>\n",
       "      <td>0.192971</td>\n",
       "      <td>0.639175</td>\n",
       "      <td>0.233590</td>\n",
       "      <td>0.222878</td>\n",
       "    </tr>\n",
       "    <tr>\n",
       "      <th>2</th>\n",
       "      <td>0.601496</td>\n",
       "      <td>0.390260</td>\n",
       "      <td>0.595743</td>\n",
       "      <td>0.449417</td>\n",
       "      <td>0.514309</td>\n",
       "      <td>0.431017</td>\n",
       "      <td>0.462512</td>\n",
       "      <td>0.635686</td>\n",
       "      <td>0.509596</td>\n",
       "      <td>0.211247</td>\n",
       "      <td>...</td>\n",
       "      <td>0.556386</td>\n",
       "      <td>0.360075</td>\n",
       "      <td>0.508442</td>\n",
       "      <td>0.374508</td>\n",
       "      <td>0.483590</td>\n",
       "      <td>0.385375</td>\n",
       "      <td>0.359744</td>\n",
       "      <td>0.835052</td>\n",
       "      <td>0.403706</td>\n",
       "      <td>0.213433</td>\n",
       "    </tr>\n",
       "    <tr>\n",
       "      <th>3</th>\n",
       "      <td>0.210090</td>\n",
       "      <td>0.360839</td>\n",
       "      <td>0.233501</td>\n",
       "      <td>0.102906</td>\n",
       "      <td>0.811321</td>\n",
       "      <td>0.811361</td>\n",
       "      <td>0.565604</td>\n",
       "      <td>0.522863</td>\n",
       "      <td>0.776263</td>\n",
       "      <td>1.000000</td>\n",
       "      <td>...</td>\n",
       "      <td>0.248310</td>\n",
       "      <td>0.385928</td>\n",
       "      <td>0.241347</td>\n",
       "      <td>0.094008</td>\n",
       "      <td>0.915472</td>\n",
       "      <td>0.814012</td>\n",
       "      <td>0.548642</td>\n",
       "      <td>0.884880</td>\n",
       "      <td>1.000000</td>\n",
       "      <td>0.773711</td>\n",
       "    </tr>\n",
       "    <tr>\n",
       "      <th>4</th>\n",
       "      <td>0.629893</td>\n",
       "      <td>0.156578</td>\n",
       "      <td>0.630986</td>\n",
       "      <td>0.489290</td>\n",
       "      <td>0.430351</td>\n",
       "      <td>0.347893</td>\n",
       "      <td>0.463918</td>\n",
       "      <td>0.518390</td>\n",
       "      <td>0.378283</td>\n",
       "      <td>0.186816</td>\n",
       "      <td>...</td>\n",
       "      <td>0.519744</td>\n",
       "      <td>0.123934</td>\n",
       "      <td>0.506948</td>\n",
       "      <td>0.341575</td>\n",
       "      <td>0.437364</td>\n",
       "      <td>0.172415</td>\n",
       "      <td>0.319489</td>\n",
       "      <td>0.558419</td>\n",
       "      <td>0.157500</td>\n",
       "      <td>0.142595</td>\n",
       "    </tr>\n",
       "    <tr>\n",
       "      <th>...</th>\n",
       "      <td>...</td>\n",
       "      <td>...</td>\n",
       "      <td>...</td>\n",
       "      <td>...</td>\n",
       "      <td>...</td>\n",
       "      <td>...</td>\n",
       "      <td>...</td>\n",
       "      <td>...</td>\n",
       "      <td>...</td>\n",
       "      <td>...</td>\n",
       "      <td>...</td>\n",
       "      <td>...</td>\n",
       "      <td>...</td>\n",
       "      <td>...</td>\n",
       "      <td>...</td>\n",
       "      <td>...</td>\n",
       "      <td>...</td>\n",
       "      <td>...</td>\n",
       "      <td>...</td>\n",
       "      <td>...</td>\n",
       "      <td>...</td>\n",
       "    </tr>\n",
       "    <tr>\n",
       "      <th>564</th>\n",
       "      <td>0.690000</td>\n",
       "      <td>0.428813</td>\n",
       "      <td>0.678668</td>\n",
       "      <td>0.566490</td>\n",
       "      <td>0.526948</td>\n",
       "      <td>0.296055</td>\n",
       "      <td>0.571462</td>\n",
       "      <td>0.690358</td>\n",
       "      <td>0.336364</td>\n",
       "      <td>0.132056</td>\n",
       "      <td>...</td>\n",
       "      <td>0.623266</td>\n",
       "      <td>0.383262</td>\n",
       "      <td>0.576174</td>\n",
       "      <td>0.452664</td>\n",
       "      <td>0.461137</td>\n",
       "      <td>0.178527</td>\n",
       "      <td>0.328035</td>\n",
       "      <td>0.761512</td>\n",
       "      <td>0.097575</td>\n",
       "      <td>0.105667</td>\n",
       "    </tr>\n",
       "    <tr>\n",
       "      <th>565</th>\n",
       "      <td>0.622320</td>\n",
       "      <td>0.626987</td>\n",
       "      <td>0.604036</td>\n",
       "      <td>0.474019</td>\n",
       "      <td>0.407782</td>\n",
       "      <td>0.257714</td>\n",
       "      <td>0.337395</td>\n",
       "      <td>0.486630</td>\n",
       "      <td>0.349495</td>\n",
       "      <td>0.113100</td>\n",
       "      <td>...</td>\n",
       "      <td>0.560655</td>\n",
       "      <td>0.699094</td>\n",
       "      <td>0.520892</td>\n",
       "      <td>0.379915</td>\n",
       "      <td>0.300007</td>\n",
       "      <td>0.159997</td>\n",
       "      <td>0.256789</td>\n",
       "      <td>0.559450</td>\n",
       "      <td>0.198502</td>\n",
       "      <td>0.074315</td>\n",
       "    </tr>\n",
       "    <tr>\n",
       "      <th>566</th>\n",
       "      <td>0.455251</td>\n",
       "      <td>0.621238</td>\n",
       "      <td>0.445788</td>\n",
       "      <td>0.303118</td>\n",
       "      <td>0.288165</td>\n",
       "      <td>0.254340</td>\n",
       "      <td>0.216753</td>\n",
       "      <td>0.263519</td>\n",
       "      <td>0.267677</td>\n",
       "      <td>0.137321</td>\n",
       "      <td>...</td>\n",
       "      <td>0.393099</td>\n",
       "      <td>0.589019</td>\n",
       "      <td>0.379949</td>\n",
       "      <td>0.230731</td>\n",
       "      <td>0.282177</td>\n",
       "      <td>0.273705</td>\n",
       "      <td>0.271805</td>\n",
       "      <td>0.487285</td>\n",
       "      <td>0.128721</td>\n",
       "      <td>0.151909</td>\n",
       "    </tr>\n",
       "    <tr>\n",
       "      <th>567</th>\n",
       "      <td>0.644564</td>\n",
       "      <td>0.663510</td>\n",
       "      <td>0.665538</td>\n",
       "      <td>0.475716</td>\n",
       "      <td>0.588336</td>\n",
       "      <td>0.790197</td>\n",
       "      <td>0.823336</td>\n",
       "      <td>0.755467</td>\n",
       "      <td>0.675253</td>\n",
       "      <td>0.425442</td>\n",
       "      <td>...</td>\n",
       "      <td>0.633582</td>\n",
       "      <td>0.730277</td>\n",
       "      <td>0.668310</td>\n",
       "      <td>0.402035</td>\n",
       "      <td>0.619626</td>\n",
       "      <td>0.815758</td>\n",
       "      <td>0.749760</td>\n",
       "      <td>0.910653</td>\n",
       "      <td>0.497142</td>\n",
       "      <td>0.452315</td>\n",
       "    </tr>\n",
       "    <tr>\n",
       "      <th>568</th>\n",
       "      <td>0.036869</td>\n",
       "      <td>0.501522</td>\n",
       "      <td>0.028540</td>\n",
       "      <td>0.015907</td>\n",
       "      <td>0.000000</td>\n",
       "      <td>0.074351</td>\n",
       "      <td>0.000000</td>\n",
       "      <td>0.000000</td>\n",
       "      <td>0.266162</td>\n",
       "      <td>0.187026</td>\n",
       "      <td>...</td>\n",
       "      <td>0.054287</td>\n",
       "      <td>0.489072</td>\n",
       "      <td>0.043578</td>\n",
       "      <td>0.020497</td>\n",
       "      <td>0.124084</td>\n",
       "      <td>0.036043</td>\n",
       "      <td>0.000000</td>\n",
       "      <td>0.000000</td>\n",
       "      <td>0.257441</td>\n",
       "      <td>0.100682</td>\n",
       "    </tr>\n",
       "  </tbody>\n",
       "</table>\n",
       "<p>569 rows × 30 columns</p>\n",
       "</div>"
      ],
      "text/plain": [
       "     radius_mean  texture_mean  perimeter_mean  area_mean  smoothness_mean  \\\n",
       "0       0.521037      0.022658        0.545989   0.363733         0.593753   \n",
       "1       0.643144      0.272574        0.615783   0.501591         0.289880   \n",
       "2       0.601496      0.390260        0.595743   0.449417         0.514309   \n",
       "3       0.210090      0.360839        0.233501   0.102906         0.811321   \n",
       "4       0.629893      0.156578        0.630986   0.489290         0.430351   \n",
       "..           ...           ...             ...        ...              ...   \n",
       "564     0.690000      0.428813        0.678668   0.566490         0.526948   \n",
       "565     0.622320      0.626987        0.604036   0.474019         0.407782   \n",
       "566     0.455251      0.621238        0.445788   0.303118         0.288165   \n",
       "567     0.644564      0.663510        0.665538   0.475716         0.588336   \n",
       "568     0.036869      0.501522        0.028540   0.015907         0.000000   \n",
       "\n",
       "     compactness_mean  concavity_mean  concave points_mean  symmetry_mean  \\\n",
       "0            0.792037        0.703140             0.731113       0.686364   \n",
       "1            0.181768        0.203608             0.348757       0.379798   \n",
       "2            0.431017        0.462512             0.635686       0.509596   \n",
       "3            0.811361        0.565604             0.522863       0.776263   \n",
       "4            0.347893        0.463918             0.518390       0.378283   \n",
       "..                ...             ...                  ...            ...   \n",
       "564          0.296055        0.571462             0.690358       0.336364   \n",
       "565          0.257714        0.337395             0.486630       0.349495   \n",
       "566          0.254340        0.216753             0.263519       0.267677   \n",
       "567          0.790197        0.823336             0.755467       0.675253   \n",
       "568          0.074351        0.000000             0.000000       0.266162   \n",
       "\n",
       "     fractal_dimension_mean  ...  radius_worst  texture_worst  \\\n",
       "0                  0.605518  ...      0.620776       0.141525   \n",
       "1                  0.141323  ...      0.606901       0.303571   \n",
       "2                  0.211247  ...      0.556386       0.360075   \n",
       "3                  1.000000  ...      0.248310       0.385928   \n",
       "4                  0.186816  ...      0.519744       0.123934   \n",
       "..                      ...  ...           ...            ...   \n",
       "564                0.132056  ...      0.623266       0.383262   \n",
       "565                0.113100  ...      0.560655       0.699094   \n",
       "566                0.137321  ...      0.393099       0.589019   \n",
       "567                0.425442  ...      0.633582       0.730277   \n",
       "568                0.187026  ...      0.054287       0.489072   \n",
       "\n",
       "     perimeter_worst  area_worst  smoothness_worst  compactness_worst  \\\n",
       "0           0.668310    0.450698          0.601136           0.619292   \n",
       "1           0.539818    0.435214          0.347553           0.154563   \n",
       "2           0.508442    0.374508          0.483590           0.385375   \n",
       "3           0.241347    0.094008          0.915472           0.814012   \n",
       "4           0.506948    0.341575          0.437364           0.172415   \n",
       "..               ...         ...               ...                ...   \n",
       "564         0.576174    0.452664          0.461137           0.178527   \n",
       "565         0.520892    0.379915          0.300007           0.159997   \n",
       "566         0.379949    0.230731          0.282177           0.273705   \n",
       "567         0.668310    0.402035          0.619626           0.815758   \n",
       "568         0.043578    0.020497          0.124084           0.036043   \n",
       "\n",
       "     concavity_worst  concave points_worst  symmetry_worst  \\\n",
       "0           0.568610              0.912027        0.598462   \n",
       "1           0.192971              0.639175        0.233590   \n",
       "2           0.359744              0.835052        0.403706   \n",
       "3           0.548642              0.884880        1.000000   \n",
       "4           0.319489              0.558419        0.157500   \n",
       "..               ...                   ...             ...   \n",
       "564         0.328035              0.761512        0.097575   \n",
       "565         0.256789              0.559450        0.198502   \n",
       "566         0.271805              0.487285        0.128721   \n",
       "567         0.749760              0.910653        0.497142   \n",
       "568         0.000000              0.000000        0.257441   \n",
       "\n",
       "     fractal_dimension_worst  \n",
       "0                   0.418864  \n",
       "1                   0.222878  \n",
       "2                   0.213433  \n",
       "3                   0.773711  \n",
       "4                   0.142595  \n",
       "..                       ...  \n",
       "564                 0.105667  \n",
       "565                 0.074315  \n",
       "566                 0.151909  \n",
       "567                 0.452315  \n",
       "568                 0.100682  \n",
       "\n",
       "[569 rows x 30 columns]"
      ]
     },
     "execution_count": 396,
     "metadata": {},
     "output_type": "execute_result"
    }
   ],
   "source": [
    "# displaying features\n",
    "X = S1\n",
    "X"
   ]
  },
  {
   "cell_type": "code",
   "execution_count": 397,
   "id": "63be4896",
   "metadata": {},
   "outputs": [
    {
     "data": {
      "text/plain": [
       "0      1\n",
       "1      1\n",
       "2      1\n",
       "3      1\n",
       "4      1\n",
       "      ..\n",
       "564    1\n",
       "565    1\n",
       "566    1\n",
       "567    1\n",
       "568    0\n",
       "Name: diagnosis, Length: 569, dtype: int32"
      ]
     },
     "execution_count": 397,
     "metadata": {},
     "output_type": "execute_result"
    }
   ],
   "source": [
    "# display the target\n",
    "y = data['diagnosis']\n",
    "y"
   ]
  },
  {
   "cell_type": "markdown",
   "id": "2d9a8795",
   "metadata": {},
   "source": [
    "### SPLITTING THE DATA INTO TESTING & TRAINING"
   ]
  },
  {
   "cell_type": "code",
   "execution_count": 398,
   "id": "0c3836f2",
   "metadata": {},
   "outputs": [],
   "source": [
    "#  splitting the dataset into testing and training data set\n",
    "X_train, X_test, y_train, y_test = train_test_split(X, y, test_size = 0.25, random_state = 42)"
   ]
  },
  {
   "cell_type": "markdown",
   "id": "52a50858",
   "metadata": {},
   "source": [
    "#### MODELS"
   ]
  },
  {
   "cell_type": "markdown",
   "id": "9460c009",
   "metadata": {},
   "source": [
    "#### 1) LOGISTIC REGRESSION"
   ]
  },
  {
   "cell_type": "code",
   "execution_count": 399,
   "id": "f7d449aa",
   "metadata": {},
   "outputs": [],
   "source": [
    "# creating an instance for LogisticRegression()\n",
    "log_reg = LogisticRegression()"
   ]
  },
  {
   "cell_type": "code",
   "execution_count": 400,
   "id": "add7dda6",
   "metadata": {},
   "outputs": [],
   "source": [
    "# fit the training data to the instance of LogisticRegression() and create a model\n",
    "log_model = log_reg.fit(X_train, y_train)"
   ]
  },
  {
   "cell_type": "code",
   "execution_count": 401,
   "id": "fabceeab",
   "metadata": {},
   "outputs": [
    {
     "data": {
      "text/plain": [
       "array([0, 1, 1, 0, 0, 1, 1, 1, 0, 0, 0, 1, 0, 1, 0, 1, 0, 0, 0, 1, 0, 0,\n",
       "       1, 0, 0, 0, 0, 0, 0, 1, 0, 0, 0, 0, 0, 0, 1, 0, 1, 0, 0, 1, 0, 0,\n",
       "       0, 0, 0, 0, 0, 0, 1, 1, 0, 0, 0, 0, 0, 1, 1, 0, 0, 1, 1, 0, 0, 0,\n",
       "       1, 1, 0, 0, 1, 1, 0, 1, 0, 0, 0, 0, 0, 0, 1, 0, 1, 1, 1, 1, 1, 1,\n",
       "       0, 0, 0, 0, 0, 0, 0, 0, 1, 1, 0, 1, 1, 0, 1, 1, 0, 0, 0, 1, 0, 0,\n",
       "       1, 0, 0, 1, 0, 1, 0, 0, 0, 1, 0, 0, 0, 1, 0, 1, 1, 0, 0, 1, 1, 1,\n",
       "       0, 0, 0, 1, 0, 0, 0, 1, 0, 1, 0])"
      ]
     },
     "execution_count": 401,
     "metadata": {},
     "output_type": "execute_result"
    }
   ],
   "source": [
    "# predict the target of the test data using the features of test data\n",
    "log_ypred = log_model.predict(X_test)\n",
    "log_ypred"
   ]
  },
  {
   "cell_type": "code",
   "execution_count": 402,
   "id": "4e5d9634",
   "metadata": {},
   "outputs": [
    {
     "name": "stdout",
     "output_type": "stream",
     "text": [
      "[[89  0]\n",
      " [ 2 52]]\n"
     ]
    }
   ],
   "source": [
    "# displaying confusion matrix\n",
    "print(confusion_matrix(y_test, log_ypred))"
   ]
  },
  {
   "cell_type": "code",
   "execution_count": 403,
   "id": "c208ce43",
   "metadata": {},
   "outputs": [
    {
     "name": "stdout",
     "output_type": "stream",
     "text": [
      "0.986013986013986\n"
     ]
    }
   ],
   "source": [
    "# accuracy score\n",
    "print(accuracy_score(y_test, log_ypred))"
   ]
  },
  {
   "cell_type": "code",
   "execution_count": 404,
   "id": "48538957",
   "metadata": {},
   "outputs": [
    {
     "name": "stdout",
     "output_type": "stream",
     "text": [
      "1.0\n"
     ]
    }
   ],
   "source": [
    "# precision score\n",
    "print(precision_score(y_test, log_ypred))"
   ]
  },
  {
   "cell_type": "code",
   "execution_count": 405,
   "id": "3e5dadec",
   "metadata": {},
   "outputs": [
    {
     "name": "stdout",
     "output_type": "stream",
     "text": [
      "0.9629629629629629\n"
     ]
    }
   ],
   "source": [
    "# recall score\n",
    "print(recall_score(y_test, log_ypred))"
   ]
  },
  {
   "cell_type": "markdown",
   "id": "54ebf356",
   "metadata": {},
   "source": [
    "#### 2) kNN MODEL"
   ]
  },
  {
   "cell_type": "code",
   "execution_count": 406,
   "id": "b3330e08",
   "metadata": {},
   "outputs": [
    {
     "data": {
      "text/plain": [
       "array([ 3,  4,  5,  6,  7,  8,  9, 10, 11, 12, 13, 14, 15, 16, 17, 18, 19,\n",
       "       20, 21, 22, 23])"
      ]
     },
     "execution_count": 406,
     "metadata": {},
     "output_type": "execute_result"
    }
   ],
   "source": [
    "neighbors = np.arange(3,24) # take values from 3 to 23 and stores in array format\n",
    "neighbors"
   ]
  },
  {
   "cell_type": "code",
   "execution_count": 407,
   "id": "6aff718a",
   "metadata": {},
   "outputs": [
    {
     "name": "stderr",
     "output_type": "stream",
     "text": [
      "E:\\anaconda\\lib\\site-packages\\sklearn\\neighbors\\_classification.py:228: FutureWarning: Unlike other reduction functions (e.g. `skew`, `kurtosis`), the default behavior of `mode` typically preserves the axis it acts along. In SciPy 1.11.0, this behavior will change: the default value of `keepdims` will become False, the `axis` over which the statistic is taken will be eliminated, and the value None will no longer be accepted. Set `keepdims` to True or False to avoid this warning.\n",
      "  mode, _ = stats.mode(_y[neigh_ind, k], axis=1)\n",
      "E:\\anaconda\\lib\\site-packages\\sklearn\\neighbors\\_classification.py:228: FutureWarning: Unlike other reduction functions (e.g. `skew`, `kurtosis`), the default behavior of `mode` typically preserves the axis it acts along. In SciPy 1.11.0, this behavior will change: the default value of `keepdims` will become False, the `axis` over which the statistic is taken will be eliminated, and the value None will no longer be accepted. Set `keepdims` to True or False to avoid this warning.\n",
      "  mode, _ = stats.mode(_y[neigh_ind, k], axis=1)\n",
      "E:\\anaconda\\lib\\site-packages\\sklearn\\neighbors\\_classification.py:228: FutureWarning: Unlike other reduction functions (e.g. `skew`, `kurtosis`), the default behavior of `mode` typically preserves the axis it acts along. In SciPy 1.11.0, this behavior will change: the default value of `keepdims` will become False, the `axis` over which the statistic is taken will be eliminated, and the value None will no longer be accepted. Set `keepdims` to True or False to avoid this warning.\n",
      "  mode, _ = stats.mode(_y[neigh_ind, k], axis=1)\n",
      "E:\\anaconda\\lib\\site-packages\\sklearn\\neighbors\\_classification.py:228: FutureWarning: Unlike other reduction functions (e.g. `skew`, `kurtosis`), the default behavior of `mode` typically preserves the axis it acts along. In SciPy 1.11.0, this behavior will change: the default value of `keepdims` will become False, the `axis` over which the statistic is taken will be eliminated, and the value None will no longer be accepted. Set `keepdims` to True or False to avoid this warning.\n",
      "  mode, _ = stats.mode(_y[neigh_ind, k], axis=1)\n",
      "E:\\anaconda\\lib\\site-packages\\sklearn\\neighbors\\_classification.py:228: FutureWarning: Unlike other reduction functions (e.g. `skew`, `kurtosis`), the default behavior of `mode` typically preserves the axis it acts along. In SciPy 1.11.0, this behavior will change: the default value of `keepdims` will become False, the `axis` over which the statistic is taken will be eliminated, and the value None will no longer be accepted. Set `keepdims` to True or False to avoid this warning.\n",
      "  mode, _ = stats.mode(_y[neigh_ind, k], axis=1)\n",
      "E:\\anaconda\\lib\\site-packages\\sklearn\\neighbors\\_classification.py:228: FutureWarning: Unlike other reduction functions (e.g. `skew`, `kurtosis`), the default behavior of `mode` typically preserves the axis it acts along. In SciPy 1.11.0, this behavior will change: the default value of `keepdims` will become False, the `axis` over which the statistic is taken will be eliminated, and the value None will no longer be accepted. Set `keepdims` to True or False to avoid this warning.\n",
      "  mode, _ = stats.mode(_y[neigh_ind, k], axis=1)\n",
      "E:\\anaconda\\lib\\site-packages\\sklearn\\neighbors\\_classification.py:228: FutureWarning: Unlike other reduction functions (e.g. `skew`, `kurtosis`), the default behavior of `mode` typically preserves the axis it acts along. In SciPy 1.11.0, this behavior will change: the default value of `keepdims` will become False, the `axis` over which the statistic is taken will be eliminated, and the value None will no longer be accepted. Set `keepdims` to True or False to avoid this warning.\n",
      "  mode, _ = stats.mode(_y[neigh_ind, k], axis=1)\n",
      "E:\\anaconda\\lib\\site-packages\\sklearn\\neighbors\\_classification.py:228: FutureWarning: Unlike other reduction functions (e.g. `skew`, `kurtosis`), the default behavior of `mode` typically preserves the axis it acts along. In SciPy 1.11.0, this behavior will change: the default value of `keepdims` will become False, the `axis` over which the statistic is taken will be eliminated, and the value None will no longer be accepted. Set `keepdims` to True or False to avoid this warning.\n",
      "  mode, _ = stats.mode(_y[neigh_ind, k], axis=1)\n",
      "E:\\anaconda\\lib\\site-packages\\sklearn\\neighbors\\_classification.py:228: FutureWarning: Unlike other reduction functions (e.g. `skew`, `kurtosis`), the default behavior of `mode` typically preserves the axis it acts along. In SciPy 1.11.0, this behavior will change: the default value of `keepdims` will become False, the `axis` over which the statistic is taken will be eliminated, and the value None will no longer be accepted. Set `keepdims` to True or False to avoid this warning.\n",
      "  mode, _ = stats.mode(_y[neigh_ind, k], axis=1)\n",
      "E:\\anaconda\\lib\\site-packages\\sklearn\\neighbors\\_classification.py:228: FutureWarning: Unlike other reduction functions (e.g. `skew`, `kurtosis`), the default behavior of `mode` typically preserves the axis it acts along. In SciPy 1.11.0, this behavior will change: the default value of `keepdims` will become False, the `axis` over which the statistic is taken will be eliminated, and the value None will no longer be accepted. Set `keepdims` to True or False to avoid this warning.\n",
      "  mode, _ = stats.mode(_y[neigh_ind, k], axis=1)\n",
      "E:\\anaconda\\lib\\site-packages\\sklearn\\neighbors\\_classification.py:228: FutureWarning: Unlike other reduction functions (e.g. `skew`, `kurtosis`), the default behavior of `mode` typically preserves the axis it acts along. In SciPy 1.11.0, this behavior will change: the default value of `keepdims` will become False, the `axis` over which the statistic is taken will be eliminated, and the value None will no longer be accepted. Set `keepdims` to True or False to avoid this warning.\n",
      "  mode, _ = stats.mode(_y[neigh_ind, k], axis=1)\n",
      "E:\\anaconda\\lib\\site-packages\\sklearn\\neighbors\\_classification.py:228: FutureWarning: Unlike other reduction functions (e.g. `skew`, `kurtosis`), the default behavior of `mode` typically preserves the axis it acts along. In SciPy 1.11.0, this behavior will change: the default value of `keepdims` will become False, the `axis` over which the statistic is taken will be eliminated, and the value None will no longer be accepted. Set `keepdims` to True or False to avoid this warning.\n",
      "  mode, _ = stats.mode(_y[neigh_ind, k], axis=1)\n",
      "E:\\anaconda\\lib\\site-packages\\sklearn\\neighbors\\_classification.py:228: FutureWarning: Unlike other reduction functions (e.g. `skew`, `kurtosis`), the default behavior of `mode` typically preserves the axis it acts along. In SciPy 1.11.0, this behavior will change: the default value of `keepdims` will become False, the `axis` over which the statistic is taken will be eliminated, and the value None will no longer be accepted. Set `keepdims` to True or False to avoid this warning.\n",
      "  mode, _ = stats.mode(_y[neigh_ind, k], axis=1)\n",
      "E:\\anaconda\\lib\\site-packages\\sklearn\\neighbors\\_classification.py:228: FutureWarning: Unlike other reduction functions (e.g. `skew`, `kurtosis`), the default behavior of `mode` typically preserves the axis it acts along. In SciPy 1.11.0, this behavior will change: the default value of `keepdims` will become False, the `axis` over which the statistic is taken will be eliminated, and the value None will no longer be accepted. Set `keepdims` to True or False to avoid this warning.\n",
      "  mode, _ = stats.mode(_y[neigh_ind, k], axis=1)\n",
      "E:\\anaconda\\lib\\site-packages\\sklearn\\neighbors\\_classification.py:228: FutureWarning: Unlike other reduction functions (e.g. `skew`, `kurtosis`), the default behavior of `mode` typically preserves the axis it acts along. In SciPy 1.11.0, this behavior will change: the default value of `keepdims` will become False, the `axis` over which the statistic is taken will be eliminated, and the value None will no longer be accepted. Set `keepdims` to True or False to avoid this warning.\n",
      "  mode, _ = stats.mode(_y[neigh_ind, k], axis=1)\n",
      "E:\\anaconda\\lib\\site-packages\\sklearn\\neighbors\\_classification.py:228: FutureWarning: Unlike other reduction functions (e.g. `skew`, `kurtosis`), the default behavior of `mode` typically preserves the axis it acts along. In SciPy 1.11.0, this behavior will change: the default value of `keepdims` will become False, the `axis` over which the statistic is taken will be eliminated, and the value None will no longer be accepted. Set `keepdims` to True or False to avoid this warning.\n",
      "  mode, _ = stats.mode(_y[neigh_ind, k], axis=1)\n",
      "E:\\anaconda\\lib\\site-packages\\sklearn\\neighbors\\_classification.py:228: FutureWarning: Unlike other reduction functions (e.g. `skew`, `kurtosis`), the default behavior of `mode` typically preserves the axis it acts along. In SciPy 1.11.0, this behavior will change: the default value of `keepdims` will become False, the `axis` over which the statistic is taken will be eliminated, and the value None will no longer be accepted. Set `keepdims` to True or False to avoid this warning.\n",
      "  mode, _ = stats.mode(_y[neigh_ind, k], axis=1)\n",
      "E:\\anaconda\\lib\\site-packages\\sklearn\\neighbors\\_classification.py:228: FutureWarning: Unlike other reduction functions (e.g. `skew`, `kurtosis`), the default behavior of `mode` typically preserves the axis it acts along. In SciPy 1.11.0, this behavior will change: the default value of `keepdims` will become False, the `axis` over which the statistic is taken will be eliminated, and the value None will no longer be accepted. Set `keepdims` to True or False to avoid this warning.\n",
      "  mode, _ = stats.mode(_y[neigh_ind, k], axis=1)\n",
      "E:\\anaconda\\lib\\site-packages\\sklearn\\neighbors\\_classification.py:228: FutureWarning: Unlike other reduction functions (e.g. `skew`, `kurtosis`), the default behavior of `mode` typically preserves the axis it acts along. In SciPy 1.11.0, this behavior will change: the default value of `keepdims` will become False, the `axis` over which the statistic is taken will be eliminated, and the value None will no longer be accepted. Set `keepdims` to True or False to avoid this warning.\n",
      "  mode, _ = stats.mode(_y[neigh_ind, k], axis=1)\n",
      "E:\\anaconda\\lib\\site-packages\\sklearn\\neighbors\\_classification.py:228: FutureWarning: Unlike other reduction functions (e.g. `skew`, `kurtosis`), the default behavior of `mode` typically preserves the axis it acts along. In SciPy 1.11.0, this behavior will change: the default value of `keepdims` will become False, the `axis` over which the statistic is taken will be eliminated, and the value None will no longer be accepted. Set `keepdims` to True or False to avoid this warning.\n",
      "  mode, _ = stats.mode(_y[neigh_ind, k], axis=1)\n",
      "E:\\anaconda\\lib\\site-packages\\sklearn\\neighbors\\_classification.py:228: FutureWarning: Unlike other reduction functions (e.g. `skew`, `kurtosis`), the default behavior of `mode` typically preserves the axis it acts along. In SciPy 1.11.0, this behavior will change: the default value of `keepdims` will become False, the `axis` over which the statistic is taken will be eliminated, and the value None will no longer be accepted. Set `keepdims` to True or False to avoid this warning.\n",
      "  mode, _ = stats.mode(_y[neigh_ind, k], axis=1)\n"
     ]
    }
   ],
   "source": [
    "# create an empty list to store accuracy\n",
    "metric_k = [] \n",
    "\n",
    "# take values from 3 to 23 and store it in array format in 'neighbors' variable\n",
    "neighbors = np.arange(3,24) \n",
    "\n",
    "# creating a loop for k and varying the values of k from 3 to 23\n",
    "for k in neighbors:\n",
    "    \n",
    "    # for the first iteration k value = 3,  creating an instance\n",
    "    knn = KNeighborsClassifier(n_neighbors=k) \n",
    "    \n",
    "    # fitting the training data to the model and creating a model using the iteration\n",
    "    knn_model = knn.fit(X_train, y_train) \n",
    "    \n",
    "    # finding the predicted values of test data using features of test data for all iterations\n",
    "    y_pred_knn = knn_model.predict(X_test) \n",
    "    \n",
    "    # calculating accuracy of all iterations and storing in variable \n",
    "    knn_acc = accuracy_score(y_test, y_pred_knn) \n",
    "    \n",
    "    # appending accuracy  of all iterations to the empty list \n",
    "    metric_k.append(knn_acc) \n"
   ]
  },
  {
   "cell_type": "code",
   "execution_count": 408,
   "id": "abb2999e",
   "metadata": {},
   "outputs": [
    {
     "data": {
      "text/plain": [
       "[0.972027972027972,\n",
       " 0.9790209790209791,\n",
       " 0.965034965034965,\n",
       " 0.972027972027972,\n",
       " 0.972027972027972,\n",
       " 0.972027972027972,\n",
       " 0.972027972027972,\n",
       " 0.972027972027972,\n",
       " 0.972027972027972,\n",
       " 0.972027972027972,\n",
       " 0.972027972027972,\n",
       " 0.972027972027972,\n",
       " 0.972027972027972,\n",
       " 0.965034965034965,\n",
       " 0.965034965034965,\n",
       " 0.972027972027972,\n",
       " 0.958041958041958,\n",
       " 0.965034965034965,\n",
       " 0.958041958041958,\n",
       " 0.958041958041958,\n",
       " 0.965034965034965]"
      ]
     },
     "execution_count": 408,
     "metadata": {},
     "output_type": "execute_result"
    }
   ],
   "source": [
    "# displaying accuracy values for k = 3 to 23\n",
    "metric_k"
   ]
  },
  {
   "cell_type": "code",
   "execution_count": 409,
   "id": "0f569c17",
   "metadata": {},
   "outputs": [
    {
     "data": {
      "image/png": "[encoded data removed]",
      "text/plain": [
       "<Figure size 640x480 with 1 Axes>"
      ]
     },
     "metadata": {},
     "output_type": "display_data"
    }
   ],
   "source": [
    "# plot k values versus accuracy to find out which value of k is having highest accuracy\n",
    "plt.plot(neighbors, metric_k, 'o-') \n",
    "\n",
    "# display title\n",
    "plt.title('Plot to find the k value having highest accuracy')\n",
    "\n",
    "# plot label on x-axis\n",
    "plt.xlabel('k value')\n",
    "\n",
    "# plot label on y-axis\n",
    "plt.ylabel('Accuracy')\n",
    "\n",
    "# display grid\n",
    "plt.grid()"
   ]
  },
  {
   "cell_type": "markdown",
   "id": "873a063f",
   "metadata": {},
   "source": [
    "~from the above display, highest accuracy of 0.9790209790209791, is found for k values = 4"
   ]
  },
  {
   "cell_type": "code",
   "execution_count": 410,
   "id": "45149104",
   "metadata": {},
   "outputs": [
    {
     "name": "stderr",
     "output_type": "stream",
     "text": [
      "E:\\anaconda\\lib\\site-packages\\sklearn\\neighbors\\_classification.py:228: FutureWarning: Unlike other reduction functions (e.g. `skew`, `kurtosis`), the default behavior of `mode` typically preserves the axis it acts along. In SciPy 1.11.0, this behavior will change: the default value of `keepdims` will become False, the `axis` over which the statistic is taken will be eliminated, and the value None will no longer be accepted. Set `keepdims` to True or False to avoid this warning.\n",
      "  mode, _ = stats.mode(_y[neigh_ind, k], axis=1)\n"
     ]
    }
   ],
   "source": [
    "# using k value = 4, creating an instance\n",
    "knn = KNeighborsClassifier(n_neighbors=4) \n",
    "\n",
    "# creating model with training data\n",
    "knn_model = knn.fit(X_train, y_train) \n",
    "\n",
    "# finding the predicted values of test data using features of test data\n",
    "y_pred_knn = knn_model.predict(X_test) "
   ]
  },
  {
   "cell_type": "code",
   "execution_count": 411,
   "id": "e13efcd0",
   "metadata": {},
   "outputs": [
    {
     "name": "stdout",
     "output_type": "stream",
     "text": [
      "[[88  1]\n",
      " [ 2 52]]\n",
      "0.9790209790209791\n"
     ]
    }
   ],
   "source": [
    "# display confusion matrix\n",
    "print(confusion_matrix(y_test, y_pred_knn))\n",
    "\n",
    "# display accuracy score\n",
    "print(accuracy_score(y_test, y_pred_knn))"
   ]
  },
  {
   "cell_type": "code",
   "execution_count": 412,
   "id": "2b8e7523",
   "metadata": {},
   "outputs": [
    {
     "name": "stdout",
     "output_type": "stream",
     "text": [
      "0.9811320754716981\n"
     ]
    }
   ],
   "source": [
    "# precision score\n",
    "print(precision_score(y_test, y_pred_knn))"
   ]
  },
  {
   "cell_type": "code",
   "execution_count": 413,
   "id": "d6ce9510",
   "metadata": {},
   "outputs": [
    {
     "name": "stdout",
     "output_type": "stream",
     "text": [
      "0.9629629629629629\n"
     ]
    }
   ],
   "source": [
    "# recall score\n",
    "print(recall_score(y_test, y_pred_knn))"
   ]
  },
  {
   "cell_type": "markdown",
   "id": "e47b4da3",
   "metadata": {},
   "source": [
    "#### 3) SVM MODEL"
   ]
  },
  {
   "cell_type": "markdown",
   "id": "cdcfccad",
   "metadata": {},
   "source": [
    "##### (a) 'linear' kernel"
   ]
  },
  {
   "cell_type": "code",
   "execution_count": 414,
   "id": "272469e8",
   "metadata": {},
   "outputs": [],
   "source": [
    "# creating an instance for SVM using linear kernel\n",
    "svm_lin = SVC(kernel = 'linear') "
   ]
  },
  {
   "cell_type": "code",
   "execution_count": 415,
   "id": "6a777624",
   "metadata": {},
   "outputs": [],
   "source": [
    "# creating model using training data\n",
    "svm_linmod = svm_lin.fit(X_train, y_train) "
   ]
  },
  {
   "cell_type": "code",
   "execution_count": 416,
   "id": "bbbbb8ad",
   "metadata": {},
   "outputs": [],
   "source": [
    "# predict the target of the test data using the features of test data\n",
    "y_pred_svmlin = svm_lin.predict(X_test) "
   ]
  },
  {
   "cell_type": "code",
   "execution_count": 417,
   "id": "bec4ac31",
   "metadata": {},
   "outputs": [
    {
     "data": {
      "text/plain": [
       "array([[89,  0],\n",
       "       [ 2, 52]], dtype=int64)"
      ]
     },
     "execution_count": 417,
     "metadata": {},
     "output_type": "execute_result"
    }
   ],
   "source": [
    "# display confusion matrix\n",
    "confusion_matrix(y_test, y_pred_svmlin)"
   ]
  },
  {
   "cell_type": "code",
   "execution_count": 418,
   "id": "0df37a8b",
   "metadata": {},
   "outputs": [
    {
     "data": {
      "text/plain": [
       "0.986013986013986"
      ]
     },
     "execution_count": 418,
     "metadata": {},
     "output_type": "execute_result"
    }
   ],
   "source": [
    "# display accuracy score\n",
    "accuracy_score(y_test, y_pred_svmlin)"
   ]
  },
  {
   "cell_type": "code",
   "execution_count": 419,
   "id": "14464917",
   "metadata": {},
   "outputs": [
    {
     "name": "stdout",
     "output_type": "stream",
     "text": [
      "1.0\n"
     ]
    }
   ],
   "source": [
    "# precision score\n",
    "print(precision_score(y_test, y_pred_svmlin))"
   ]
  },
  {
   "cell_type": "code",
   "execution_count": 420,
   "id": "36cdbd2f",
   "metadata": {},
   "outputs": [
    {
     "name": "stdout",
     "output_type": "stream",
     "text": [
      "0.9629629629629629\n"
     ]
    }
   ],
   "source": [
    "# recall score\n",
    "print(recall_score(y_test, y_pred_svmlin))"
   ]
  },
  {
   "cell_type": "markdown",
   "id": "42cecaec",
   "metadata": {},
   "source": [
    "##### (b) 'rbf' kernel"
   ]
  },
  {
   "cell_type": "code",
   "execution_count": 421,
   "id": "c943124f",
   "metadata": {},
   "outputs": [],
   "source": [
    " # creating an instance for SVM  using rbf kernel\n",
    "svm_rbf = SVC(kernel = 'rbf') "
   ]
  },
  {
   "cell_type": "code",
   "execution_count": 422,
   "id": "65cb3c67",
   "metadata": {},
   "outputs": [],
   "source": [
    "# creating model using training data\n",
    "svm_rbfmod = svm_rbf.fit(X_train, y_train) "
   ]
  },
  {
   "cell_type": "code",
   "execution_count": 423,
   "id": "9c325cfd",
   "metadata": {},
   "outputs": [],
   "source": [
    "# predict the target of the test data using the features of test data\n",
    "y_pred_svmrbf = svm_rbf.predict(X_test)"
   ]
  },
  {
   "cell_type": "code",
   "execution_count": 424,
   "id": "82085056",
   "metadata": {},
   "outputs": [
    {
     "data": {
      "text/plain": [
       "array([[88,  1],\n",
       "       [ 2, 52]], dtype=int64)"
      ]
     },
     "execution_count": 424,
     "metadata": {},
     "output_type": "execute_result"
    }
   ],
   "source": [
    "# display confusion matrix\n",
    "confusion_matrix(y_test, y_pred_svmrbf)"
   ]
  },
  {
   "cell_type": "code",
   "execution_count": 425,
   "id": "bc0d7637",
   "metadata": {},
   "outputs": [
    {
     "data": {
      "text/plain": [
       "0.9790209790209791"
      ]
     },
     "execution_count": 425,
     "metadata": {},
     "output_type": "execute_result"
    }
   ],
   "source": [
    "# display accuracy score\n",
    "accuracy_score(y_test, y_pred_svmrbf)"
   ]
  },
  {
   "cell_type": "code",
   "execution_count": 426,
   "id": "0c4ec04c",
   "metadata": {},
   "outputs": [
    {
     "name": "stdout",
     "output_type": "stream",
     "text": [
      "0.9811320754716981\n"
     ]
    }
   ],
   "source": [
    "# precision score\n",
    "print(precision_score(y_test, y_pred_svmrbf))"
   ]
  },
  {
   "cell_type": "code",
   "execution_count": 427,
   "id": "72ca8699",
   "metadata": {},
   "outputs": [
    {
     "name": "stdout",
     "output_type": "stream",
     "text": [
      "0.9629629629629629\n"
     ]
    }
   ],
   "source": [
    "# recall score\n",
    "print(recall_score(y_test, y_pred_svmrbf))"
   ]
  },
  {
   "cell_type": "markdown",
   "id": "0d8bddb4",
   "metadata": {},
   "source": [
    "##### (c) 'polynomial' kernel"
   ]
  },
  {
   "cell_type": "code",
   "execution_count": 428,
   "id": "f3e3d9ca",
   "metadata": {},
   "outputs": [],
   "source": [
    "# creating an instance for SVM  using 'polynomial' kernel\n",
    "svm_poly = SVC(kernel='poly') "
   ]
  },
  {
   "cell_type": "code",
   "execution_count": 429,
   "id": "1ef8094e",
   "metadata": {},
   "outputs": [],
   "source": [
    "# creating model using training data\n",
    "svm_polmod = svm_poly.fit(X_train, y_train) "
   ]
  },
  {
   "cell_type": "code",
   "execution_count": 430,
   "id": "eca18e04",
   "metadata": {},
   "outputs": [],
   "source": [
    "# predict the target of the test data using the features of test data\n",
    "y_pred_svmpol = svm_poly.predict(X_test)"
   ]
  },
  {
   "cell_type": "code",
   "execution_count": 431,
   "id": "988a0c93",
   "metadata": {},
   "outputs": [
    {
     "data": {
      "text/plain": [
       "array([[88,  1],\n",
       "       [ 2, 52]], dtype=int64)"
      ]
     },
     "execution_count": 431,
     "metadata": {},
     "output_type": "execute_result"
    }
   ],
   "source": [
    "# display confusion matrix\n",
    "confusion_matrix(y_test, y_pred_svmpol)"
   ]
  },
  {
   "cell_type": "code",
   "execution_count": 432,
   "id": "148554ba",
   "metadata": {},
   "outputs": [
    {
     "data": {
      "text/plain": [
       "0.9790209790209791"
      ]
     },
     "execution_count": 432,
     "metadata": {},
     "output_type": "execute_result"
    }
   ],
   "source": [
    "# display accuracy score\n",
    "accuracy_score(y_test, y_pred_svmpol)"
   ]
  },
  {
   "cell_type": "code",
   "execution_count": 433,
   "id": "7aec9f17",
   "metadata": {},
   "outputs": [
    {
     "name": "stdout",
     "output_type": "stream",
     "text": [
      "0.9811320754716981\n"
     ]
    }
   ],
   "source": [
    "# precision score\n",
    "print(precision_score(y_test, y_pred_svmpol))"
   ]
  },
  {
   "cell_type": "code",
   "execution_count": 434,
   "id": "a9887019",
   "metadata": {},
   "outputs": [
    {
     "name": "stdout",
     "output_type": "stream",
     "text": [
      "0.9629629629629629\n"
     ]
    }
   ],
   "source": [
    "# recall score\n",
    "print(recall_score(y_test, y_pred_svmpol))"
   ]
  },
  {
   "cell_type": "markdown",
   "id": "8f8e6f62",
   "metadata": {},
   "source": [
    "#### 4) DECISION TREE"
   ]
  },
  {
   "cell_type": "code",
   "execution_count": 435,
   "id": "5a28aa0b",
   "metadata": {},
   "outputs": [],
   "source": [
    "# creating an instance for decision tree classifier\n",
    "dec_tree = DecisionTreeClassifier(random_state=42) "
   ]
  },
  {
   "cell_type": "code",
   "execution_count": 436,
   "id": "648cbc07",
   "metadata": {},
   "outputs": [
    {
     "data": {
      "text/plain": [
       "DecisionTreeClassifier(random_state=42)"
      ]
     },
     "execution_count": 436,
     "metadata": {},
     "output_type": "execute_result"
    }
   ],
   "source": [
    "# creating model using training data \n",
    "dec_tree.fit(X_train, y_train)"
   ]
  },
  {
   "cell_type": "code",
   "execution_count": 437,
   "id": "06502ffa",
   "metadata": {},
   "outputs": [],
   "source": [
    "# predict the target of the test data using the features of test data\n",
    "y_pred_dectree = dec_tree.predict (X_test)"
   ]
  },
  {
   "cell_type": "code",
   "execution_count": 438,
   "id": "b2f2ea4a",
   "metadata": {},
   "outputs": [
    {
     "data": {
      "text/plain": [
       "array([[85,  4],\n",
       "       [ 3, 51]], dtype=int64)"
      ]
     },
     "execution_count": 438,
     "metadata": {},
     "output_type": "execute_result"
    }
   ],
   "source": [
    "# display confusion matrix\n",
    "confusion_matrix(y_test, y_pred_dectree)"
   ]
  },
  {
   "cell_type": "code",
   "execution_count": 439,
   "id": "6fb49a43",
   "metadata": {},
   "outputs": [
    {
     "data": {
      "text/plain": [
       "0.951048951048951"
      ]
     },
     "execution_count": 439,
     "metadata": {},
     "output_type": "execute_result"
    }
   ],
   "source": [
    "# display accuracy score\n",
    "accuracy_score(y_test, y_pred_dectree)"
   ]
  },
  {
   "cell_type": "code",
   "execution_count": 440,
   "id": "da227516",
   "metadata": {},
   "outputs": [
    {
     "name": "stdout",
     "output_type": "stream",
     "text": [
      "0.9272727272727272\n"
     ]
    }
   ],
   "source": [
    "# precision score\n",
    "print(precision_score(y_test, y_pred_dectree))"
   ]
  },
  {
   "cell_type": "code",
   "execution_count": 441,
   "id": "24a12ee8",
   "metadata": {},
   "outputs": [
    {
     "name": "stdout",
     "output_type": "stream",
     "text": [
      "0.9444444444444444\n"
     ]
    }
   ],
   "source": [
    "# recall score\n",
    "print(recall_score(y_test, y_pred_dectree))"
   ]
  },
  {
   "cell_type": "markdown",
   "id": "e255e21a",
   "metadata": {},
   "source": [
    "#### 5) RANDOM FOREST"
   ]
  },
  {
   "cell_type": "code",
   "execution_count": 442,
   "id": "233879cc",
   "metadata": {},
   "outputs": [],
   "source": [
    "# creating an instance for random forest classifier\n",
    "ran_for = RandomForestClassifier(random_state=42)"
   ]
  },
  {
   "cell_type": "code",
   "execution_count": 443,
   "id": "d9058074",
   "metadata": {},
   "outputs": [
    {
     "data": {
      "text/plain": [
       "RandomForestClassifier(random_state=42)"
      ]
     },
     "execution_count": 443,
     "metadata": {},
     "output_type": "execute_result"
    }
   ],
   "source": [
    "# creating model using training data \n",
    "ran_for.fit(X_train, y_train)"
   ]
  },
  {
   "cell_type": "code",
   "execution_count": 444,
   "id": "579e8a76",
   "metadata": {},
   "outputs": [],
   "source": [
    "# predict the target of the test data using the features of test data\n",
    "y_pred_ranfor = ran_for.predict (X_test)"
   ]
  },
  {
   "cell_type": "code",
   "execution_count": 445,
   "id": "ddc45a43",
   "metadata": {},
   "outputs": [
    {
     "data": {
      "text/plain": [
       "array([[87,  2],\n",
       "       [ 3, 51]], dtype=int64)"
      ]
     },
     "execution_count": 445,
     "metadata": {},
     "output_type": "execute_result"
    }
   ],
   "source": [
    "# display confusion matrix\n",
    "confusion_matrix(y_test, y_pred_ranfor)"
   ]
  },
  {
   "cell_type": "code",
   "execution_count": 446,
   "id": "40fc4dc2",
   "metadata": {},
   "outputs": [
    {
     "data": {
      "text/plain": [
       "0.965034965034965"
      ]
     },
     "execution_count": 446,
     "metadata": {},
     "output_type": "execute_result"
    }
   ],
   "source": [
    "# display accuracy score\n",
    "accuracy_score(y_test, y_pred_ranfor)"
   ]
  },
  {
   "cell_type": "code",
   "execution_count": 447,
   "id": "e456ba05",
   "metadata": {},
   "outputs": [
    {
     "name": "stdout",
     "output_type": "stream",
     "text": [
      "0.9622641509433962\n"
     ]
    }
   ],
   "source": [
    "# precision score\n",
    "print(precision_score(y_test, y_pred_ranfor))"
   ]
  },
  {
   "cell_type": "code",
   "execution_count": 448,
   "id": "91c25cd4",
   "metadata": {},
   "outputs": [
    {
     "name": "stdout",
     "output_type": "stream",
     "text": [
      "0.9444444444444444\n"
     ]
    }
   ],
   "source": [
    "# recall score\n",
    "print(recall_score(y_test, y_pred_ranfor))"
   ]
  },
  {
   "cell_type": "markdown",
   "id": "a687f0b0",
   "metadata": {},
   "source": [
    "ACCURACY SCORE\n",
    "******\n",
    "1) LOGISTIC REGRESSION - 0.986013986013986 \n",
    "\n",
    "2) kNN MODEL - 0.9790209790209791 \n",
    "\n",
    "3) SVM MODEL,  (a) 'linear' kernel - 0.986013986013986, \n",
    "               (b) 'rbf' kernel - 0.9790209790209791, \n",
    "               (c) 'polynomial' kernel - 0.9790209790209791 \n",
    "               \n",
    "4) DECISION TREE - 0.951048951048951 \n",
    "\n",
    "5) RANDOM FOREST - 0.965034965034965 "
   ]
  },
  {
   "cell_type": "markdown",
   "id": "a8544d97",
   "metadata": {},
   "source": [
    "~ Highest Acuuracy score obtained for Logistic regression model and SVM model using linear kernel"
   ]
  }
 ],
 "metadata": {
  "kernelspec": {
   "display_name": "Python 3 (ipykernel)",
   "language": "python",
   "name": "python3"
  },
  "language_info": {
   "codemirror_mode": {
    "name": "ipython",
    "version": 3
   },
   "file_extension": ".py",
   "mimetype": "text/x-python",
   "name": "python",
   "nbconvert_exporter": "python",
   "pygments_lexer": "ipython3",
   "version": "3.9.13"
  }
 },
 "nbformat": 4,
 "nbformat_minor": 5
}
