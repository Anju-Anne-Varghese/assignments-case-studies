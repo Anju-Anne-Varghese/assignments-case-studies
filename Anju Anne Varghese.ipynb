{
 "cells": [
  {
   "cell_type": "markdown",
   "id": "9e8be432",
   "metadata": {},
   "source": [
    "\n",
    "## 1. Loading excel file"
   ]
  },
  {
   "cell_type": "code",
   "execution_count": 2,
   "id": "e2e50ad3",
   "metadata": {},
   "outputs": [],
   "source": [
    "# importing libraries\n",
    "import pandas as pd\n",
    "import numpy as np"
   ]
  },
  {
   "cell_type": "code",
   "execution_count": 3,
   "id": "adc8521c",
   "metadata": {},
   "outputs": [],
   "source": [
    "# to load the file into a pandas Dataframe 'df\n",
    "df = pd.read_excel('C:/Users/Lenovo/Assignment 1/iris.xls')"
   ]
  },
  {
   "cell_type": "markdown",
   "id": "1283979f",
   "metadata": {},
   "source": [
    "## 2. Displaying the columns"
   ]
  },
  {
   "cell_type": "code",
   "execution_count": 4,
   "id": "b51909aa",
   "metadata": {},
   "outputs": [
    {
     "data": {
      "text/plain": [
       "Index(['SL', 'SW', 'PL', 'PW', 'Classification'], dtype='object')"
      ]
     },
     "execution_count": 4,
     "metadata": {},
     "output_type": "execute_result"
    }
   ],
   "source": [
    "df.columns # displaying the different columns"
   ]
  },
  {
   "cell_type": "code",
   "execution_count": 5,
   "id": "bbfcd630",
   "metadata": {},
   "outputs": [
    {
     "name": "stdout",
     "output_type": "stream",
     "text": [
      "      SL   SW   PL   PW   Classification\n",
      "0    5.1  3.5  1.4  0.2      Iris-setosa\n",
      "1    4.9  3.0  1.4  0.2      Iris-setosa\n",
      "2    4.7  3.2  1.3  0.2      Iris-setosa\n",
      "3    4.6  3.1  1.5  0.2      Iris-setosa\n",
      "4    5.0  3.6  1.4  0.2      Iris-setosa\n",
      "5    5.4  3.9  1.7  0.4      Iris-setosa\n",
      "6    4.6  3.4  1.4  0.3      Iris-setosa\n",
      "7    5.0  3.4  1.5  0.2      Iris-setosa\n",
      "8    4.4  2.9  1.4  0.2      Iris-setosa\n",
      "9    4.9  3.1  1.5  0.1      Iris-setosa\n",
      "10   5.4  3.7  1.5  0.2      Iris-setosa\n",
      "11   4.8  3.4  1.6  0.2      Iris-setosa\n",
      "12   4.8  3.0  1.4  0.1      Iris-setosa\n",
      "13   4.3  3.0  1.1  0.1      Iris-setosa\n",
      "14   5.8  4.0  1.2  0.2      Iris-setosa\n",
      "15   5.7  4.4  1.5  0.4      Iris-setosa\n",
      "16   5.4  3.9  1.3  0.4      Iris-setosa\n",
      "17   5.1  3.5  1.4  0.3      Iris-setosa\n",
      "18   5.7  3.8  1.7  0.3      Iris-setosa\n",
      "19   5.1  3.8  1.5  0.3      Iris-setosa\n",
      "20   5.4  3.4  1.7  0.2      Iris-setosa\n",
      "21   5.1  3.7  1.5  0.4      Iris-setosa\n",
      "22   4.6  3.6  1.0  0.2      Iris-setosa\n",
      "23   5.1  3.3  1.7  0.5      Iris-setosa\n",
      "24   4.8  3.4  1.9  0.2      Iris-setosa\n",
      "25   5.0  3.0  1.6  0.2      Iris-setosa\n",
      "26   5.0  3.4  1.6  0.4      Iris-setosa\n",
      "27   5.2  3.5  1.5  0.2      Iris-setosa\n",
      "28   5.2  3.4  1.4  0.2      Iris-setosa\n",
      "29   4.7  3.2  1.6  0.2      Iris-setosa\n",
      "30   4.8  3.1  1.6  0.2      Iris-setosa\n",
      "31   5.4  3.4  1.5  0.4      Iris-setosa\n",
      "32   5.2  4.1  1.5  0.1      Iris-setosa\n",
      "33   5.5  4.2  1.4  0.2      Iris-setosa\n",
      "34   4.9  3.1  1.5  0.1      Iris-setosa\n",
      "35   5.0  3.2  1.2  0.2      Iris-setosa\n",
      "36   5.5  3.5  1.3  0.2      Iris-setosa\n",
      "37   4.9  3.1  1.5  0.1      Iris-setosa\n",
      "38   4.4  3.0  1.3  0.2      Iris-setosa\n",
      "39   5.1  3.4  1.5  0.2      Iris-setosa\n",
      "40   5.0  3.5  1.3  0.3      Iris-setosa\n",
      "41   4.5  2.3  1.3  0.3      Iris-setosa\n",
      "42   4.4  3.2  1.3  0.2      Iris-setosa\n",
      "43   5.0  3.5  1.6  0.6      Iris-setosa\n",
      "44   5.1  3.8  1.9  0.4      Iris-setosa\n",
      "45   4.8  3.0  1.4  0.3      Iris-setosa\n",
      "46   5.1  3.8  1.6  0.2      Iris-setosa\n",
      "47   4.6  3.2  1.4  0.2      Iris-setosa\n",
      "48   5.3  3.7  1.5  0.2      Iris-setosa\n",
      "49   5.0  3.3  1.4  0.2      Iris-setosa\n",
      "50   7.0  3.2  4.7  1.4  Iris-versicolor\n",
      "51   6.4  3.2  4.5  1.5  Iris-versicolor\n",
      "52   6.9  3.1  4.9  1.5  Iris-versicolor\n",
      "53   5.5  2.3  4.0  1.3  Iris-versicolor\n",
      "54   6.5  2.8  4.6  1.5  Iris-versicolor\n",
      "55   5.7  2.8  4.5  1.3  Iris-versicolor\n",
      "56   6.3  3.3  4.7  1.6  Iris-versicolor\n",
      "57   4.9  2.4  3.3  1.0  Iris-versicolor\n",
      "58   6.6  2.9  4.6  1.3  Iris-versicolor\n",
      "59   5.2  2.7  3.9  1.4  Iris-versicolor\n",
      "60   5.0  2.0  3.5  1.0  Iris-versicolor\n",
      "61   5.9  3.0  4.2  1.5  Iris-versicolor\n",
      "62   6.0  2.2  4.0  1.0  Iris-versicolor\n",
      "63   6.1  2.9  4.7  1.4  Iris-versicolor\n",
      "64   5.6  2.9  3.6  1.3  Iris-versicolor\n",
      "65   6.7  3.1  4.4  1.4  Iris-versicolor\n",
      "66   5.6  3.0  4.5  1.5  Iris-versicolor\n",
      "67   5.8  2.7  4.1  1.0  Iris-versicolor\n",
      "68   6.2  2.2  4.5  1.5  Iris-versicolor\n",
      "69   5.6  2.5  3.9  1.1  Iris-versicolor\n",
      "70   5.9  3.2  4.8  1.8  Iris-versicolor\n",
      "71   6.1  2.8  4.0  1.3  Iris-versicolor\n",
      "72   6.3  2.5  4.9  1.5  Iris-versicolor\n",
      "73   6.1  2.8  4.7  1.2  Iris-versicolor\n",
      "74   6.4  2.9  4.3  1.3  Iris-versicolor\n",
      "75   6.6  3.0  4.4  1.4  Iris-versicolor\n",
      "76   6.8  2.8  4.8  1.4  Iris-versicolor\n",
      "77   6.7  3.0  5.0  1.7  Iris-versicolor\n",
      "78   6.0  2.9  4.5  1.5  Iris-versicolor\n",
      "79   5.7  2.6  3.5  1.0  Iris-versicolor\n",
      "80   5.5  2.4  3.8  1.1  Iris-versicolor\n",
      "81   5.5  2.4  3.7  1.0  Iris-versicolor\n",
      "82   5.8  2.7  3.9  1.2  Iris-versicolor\n",
      "83   6.0  2.7  5.1  1.6  Iris-versicolor\n",
      "84   5.4  3.0  4.5  1.5  Iris-versicolor\n",
      "85   6.0  3.4  4.5  1.6  Iris-versicolor\n",
      "86   6.7  3.1  4.7  1.5  Iris-versicolor\n",
      "87   6.3  2.3  4.4  1.3  Iris-versicolor\n",
      "88   5.6  3.0  4.1  1.3  Iris-versicolor\n",
      "89   5.5  2.5  4.0  1.3  Iris-versicolor\n",
      "90   5.5  2.6  4.4  1.2  Iris-versicolor\n",
      "91   6.1  3.0  4.6  1.4  Iris-versicolor\n",
      "92   5.8  2.6  4.0  1.2  Iris-versicolor\n",
      "93   5.0  2.3  3.3  1.0  Iris-versicolor\n",
      "94   5.6  2.7  4.2  1.3  Iris-versicolor\n",
      "95   5.7  3.0  4.2  1.2  Iris-versicolor\n",
      "96   5.7  2.9  4.2  1.3  Iris-versicolor\n",
      "97   6.2  2.9  4.3  1.3  Iris-versicolor\n",
      "98   5.1  2.5  3.0  1.1  Iris-versicolor\n",
      "99   5.7  2.8  4.1  1.3  Iris-versicolor\n",
      "100  6.3  3.3  6.0  2.5   Iris-virginica\n",
      "101  5.8  2.7  5.1  1.9   Iris-virginica\n",
      "102  7.1  3.0  5.9  2.1   Iris-virginica\n",
      "103  6.3  2.9  5.6  1.8   Iris-virginica\n",
      "104  6.5  3.0  5.8  2.2   Iris-virginica\n",
      "105  7.6  3.0  6.6  2.1   Iris-virginica\n",
      "106  4.9  2.5  4.5  1.7   Iris-virginica\n",
      "107  7.3  2.9  6.3  1.8   Iris-virginica\n",
      "108  6.7  2.5  5.8  1.8   Iris-virginica\n",
      "109  7.2  3.6  6.1  2.5   Iris-virginica\n",
      "110  6.5  3.2  5.1  2.0   Iris-virginica\n",
      "111  6.4  2.7  5.3  1.9   Iris-virginica\n",
      "112  6.8  3.0  5.5  2.1   Iris-virginica\n",
      "113  5.7  2.5  5.0  2.0   Iris-virginica\n",
      "114  5.8  2.8  5.1  2.4   Iris-virginica\n",
      "115  6.4  3.2  5.3  2.3   Iris-virginica\n",
      "116  6.5  3.0  5.5  1.8   Iris-virginica\n",
      "117  7.7  3.8  6.7  2.2   Iris-virginica\n",
      "118  7.7  2.6  6.9  2.3   Iris-virginica\n",
      "119  6.0  2.2  5.0  1.5   Iris-virginica\n",
      "120  6.9  3.2  5.7  2.3   Iris-virginica\n",
      "121  5.6  2.8  4.9  2.0   Iris-virginica\n",
      "122  7.7  2.8  6.7  2.0   Iris-virginica\n",
      "123  6.3  2.7  4.9  1.8   Iris-virginica\n",
      "124  6.7  3.3  5.7  2.1   Iris-virginica\n",
      "125  7.2  3.2  6.0  1.8   Iris-virginica\n",
      "126  6.2  2.8  4.8  1.8   Iris-virginica\n",
      "127  6.1  3.0  4.9  1.8   Iris-virginica\n",
      "128  6.4  2.8  5.6  2.1   Iris-virginica\n",
      "129  7.2  3.0  5.8  1.6   Iris-virginica\n",
      "130  7.4  2.8  6.1  1.9   Iris-virginica\n",
      "131  7.9  3.8  6.4  2.0   Iris-virginica\n",
      "132  6.4  2.8  5.6  2.2   Iris-virginica\n",
      "133  6.3  2.8  5.1  1.5   Iris-virginica\n",
      "134  6.1  2.6  5.6  1.4   Iris-virginica\n",
      "135  7.7  3.0  6.1  2.3   Iris-virginica\n",
      "136  6.3  3.4  5.6  2.4   Iris-virginica\n",
      "137  6.4  3.1  5.5  1.8   Iris-virginica\n",
      "138  6.0  3.0  4.8  1.8   Iris-virginica\n",
      "139  6.9  3.1  5.4  2.1   Iris-virginica\n",
      "140  6.7  3.1  5.6  2.4   Iris-virginica\n",
      "141  6.9  3.1  5.1  2.3   Iris-virginica\n",
      "142  5.8  2.7  5.1  1.9   Iris-virginica\n",
      "143  6.8  3.2  5.9  2.3   Iris-virginica\n",
      "144  6.7  3.3  5.7  2.5   Iris-virginica\n",
      "145  6.7  3.0  5.2  2.3   Iris-virginica\n",
      "146  6.3  2.5  5.0  1.9   Iris-virginica\n",
      "147  6.5  3.0  5.2  2.0   Iris-virginica\n",
      "148  6.2  3.4  5.4  2.3   Iris-virginica\n",
      "149  5.9  3.0  5.1  1.8   Iris-virginica\n"
     ]
    }
   ],
   "source": [
    "# displaying the entire rows of the columns\n",
    "print(df.to_string()) "
   ]
  },
  {
   "cell_type": "markdown",
   "id": "ec6d768c",
   "metadata": {},
   "source": [
    "## 3. Mean of each column of the dataset"
   ]
  },
  {
   "cell_type": "markdown",
   "id": "9dd8d040",
   "metadata": {},
   "source": [
    "Approach 1: Finding the mean of  'SL',  'SW',   'PL',   'PW'   of all the data of the 3 classifications present in DataFrame"
   ]
  },
  {
   "cell_type": "code",
   "execution_count": 6,
   "id": "096ed30d",
   "metadata": {},
   "outputs": [],
   "source": [
    "# setting the index of the DataFrame 'df' as 'Classification' and storing in it  DataFrame 'df1'\n",
    "df1 = df.set_index('Classification')"
   ]
  },
  {
   "cell_type": "code",
   "execution_count": 7,
   "id": "0c0c8e8d",
   "metadata": {},
   "outputs": [
    {
     "data": {
      "text/html": [
       "<div>\n",
       "<style scoped>\n",
       "    .dataframe tbody tr th:only-of-type {\n",
       "        vertical-align: middle;\n",
       "    }\n",
       "\n",
       "    .dataframe tbody tr th {\n",
       "        vertical-align: top;\n",
       "    }\n",
       "\n",
       "    .dataframe thead th {\n",
       "        text-align: right;\n",
       "    }\n",
       "</style>\n",
       "<table border=\"1\" class=\"dataframe\">\n",
       "  <thead>\n",
       "    <tr style=\"text-align: right;\">\n",
       "      <th></th>\n",
       "      <th>SL</th>\n",
       "      <th>SW</th>\n",
       "      <th>PL</th>\n",
       "      <th>PW</th>\n",
       "    </tr>\n",
       "    <tr>\n",
       "      <th>Classification</th>\n",
       "      <th></th>\n",
       "      <th></th>\n",
       "      <th></th>\n",
       "      <th></th>\n",
       "    </tr>\n",
       "  </thead>\n",
       "  <tbody>\n",
       "    <tr>\n",
       "      <th>Iris-setosa</th>\n",
       "      <td>5.1</td>\n",
       "      <td>3.5</td>\n",
       "      <td>1.4</td>\n",
       "      <td>0.2</td>\n",
       "    </tr>\n",
       "    <tr>\n",
       "      <th>Iris-setosa</th>\n",
       "      <td>4.9</td>\n",
       "      <td>3.0</td>\n",
       "      <td>1.4</td>\n",
       "      <td>0.2</td>\n",
       "    </tr>\n",
       "    <tr>\n",
       "      <th>Iris-setosa</th>\n",
       "      <td>4.7</td>\n",
       "      <td>3.2</td>\n",
       "      <td>1.3</td>\n",
       "      <td>0.2</td>\n",
       "    </tr>\n",
       "    <tr>\n",
       "      <th>Iris-setosa</th>\n",
       "      <td>4.6</td>\n",
       "      <td>3.1</td>\n",
       "      <td>1.5</td>\n",
       "      <td>0.2</td>\n",
       "    </tr>\n",
       "    <tr>\n",
       "      <th>Iris-setosa</th>\n",
       "      <td>5.0</td>\n",
       "      <td>3.6</td>\n",
       "      <td>1.4</td>\n",
       "      <td>0.2</td>\n",
       "    </tr>\n",
       "  </tbody>\n",
       "</table>\n",
       "</div>"
      ],
      "text/plain": [
       "                 SL   SW   PL   PW\n",
       "Classification                    \n",
       "Iris-setosa     5.1  3.5  1.4  0.2\n",
       "Iris-setosa     4.9  3.0  1.4  0.2\n",
       "Iris-setosa     4.7  3.2  1.3  0.2\n",
       "Iris-setosa     4.6  3.1  1.5  0.2\n",
       "Iris-setosa     5.0  3.6  1.4  0.2"
      ]
     },
     "execution_count": 7,
     "metadata": {},
     "output_type": "execute_result"
    }
   ],
   "source": [
    "# displaying the first 5 rows of the DataFrame 'df1'\n",
    "df1.head()"
   ]
  },
  {
   "cell_type": "code",
   "execution_count": 8,
   "id": "a0f886b2",
   "metadata": {},
   "outputs": [
    {
     "data": {
      "text/plain": [
       "SL    5.843333\n",
       "SW    3.054000\n",
       "PL    3.758667\n",
       "PW    1.198667\n",
       "dtype: float64"
      ]
     },
     "execution_count": 8,
     "metadata": {},
     "output_type": "execute_result"
    }
   ],
   "source": [
    "# finding the mean of all the columns in DataFrame 'df1'\n",
    "df1.mean()"
   ]
  },
  {
   "cell_type": "markdown",
   "id": "b7da30e3",
   "metadata": {},
   "source": [
    "Approach 2: Finding the mean of  'SL',  'SW',   'PL',  'PW' for each classification"
   ]
  },
  {
   "cell_type": "code",
   "execution_count": 9,
   "id": "5f165378",
   "metadata": {},
   "outputs": [
    {
     "data": {
      "text/plain": [
       "<pandas.core.groupby.generic.DataFrameGroupBy object at 0x000002236117C2B0>"
      ]
     },
     "execution_count": 9,
     "metadata": {},
     "output_type": "execute_result"
    }
   ],
   "source": [
    "# grouping the DataFrame 'df' by 'Classification' and it returns a groupby object\n",
    "df.groupby(['Classification']) # groupby splits the DataFrame 'df' into groups based on 'Classification'"
   ]
  },
  {
   "cell_type": "code",
   "execution_count": 10,
   "id": "5d4483e5",
   "metadata": {},
   "outputs": [
    {
     "data": {
      "text/plain": [
       "[('Iris-setosa',\n",
       "       SL   SW   PL   PW Classification\n",
       "  0   5.1  3.5  1.4  0.2    Iris-setosa\n",
       "  1   4.9  3.0  1.4  0.2    Iris-setosa\n",
       "  2   4.7  3.2  1.3  0.2    Iris-setosa\n",
       "  3   4.6  3.1  1.5  0.2    Iris-setosa\n",
       "  4   5.0  3.6  1.4  0.2    Iris-setosa\n",
       "  5   5.4  3.9  1.7  0.4    Iris-setosa\n",
       "  6   4.6  3.4  1.4  0.3    Iris-setosa\n",
       "  7   5.0  3.4  1.5  0.2    Iris-setosa\n",
       "  8   4.4  2.9  1.4  0.2    Iris-setosa\n",
       "  9   4.9  3.1  1.5  0.1    Iris-setosa\n",
       "  10  5.4  3.7  1.5  0.2    Iris-setosa\n",
       "  11  4.8  3.4  1.6  0.2    Iris-setosa\n",
       "  12  4.8  3.0  1.4  0.1    Iris-setosa\n",
       "  13  4.3  3.0  1.1  0.1    Iris-setosa\n",
       "  14  5.8  4.0  1.2  0.2    Iris-setosa\n",
       "  15  5.7  4.4  1.5  0.4    Iris-setosa\n",
       "  16  5.4  3.9  1.3  0.4    Iris-setosa\n",
       "  17  5.1  3.5  1.4  0.3    Iris-setosa\n",
       "  18  5.7  3.8  1.7  0.3    Iris-setosa\n",
       "  19  5.1  3.8  1.5  0.3    Iris-setosa\n",
       "  20  5.4  3.4  1.7  0.2    Iris-setosa\n",
       "  21  5.1  3.7  1.5  0.4    Iris-setosa\n",
       "  22  4.6  3.6  1.0  0.2    Iris-setosa\n",
       "  23  5.1  3.3  1.7  0.5    Iris-setosa\n",
       "  24  4.8  3.4  1.9  0.2    Iris-setosa\n",
       "  25  5.0  3.0  1.6  0.2    Iris-setosa\n",
       "  26  5.0  3.4  1.6  0.4    Iris-setosa\n",
       "  27  5.2  3.5  1.5  0.2    Iris-setosa\n",
       "  28  5.2  3.4  1.4  0.2    Iris-setosa\n",
       "  29  4.7  3.2  1.6  0.2    Iris-setosa\n",
       "  30  4.8  3.1  1.6  0.2    Iris-setosa\n",
       "  31  5.4  3.4  1.5  0.4    Iris-setosa\n",
       "  32  5.2  4.1  1.5  0.1    Iris-setosa\n",
       "  33  5.5  4.2  1.4  0.2    Iris-setosa\n",
       "  34  4.9  3.1  1.5  0.1    Iris-setosa\n",
       "  35  5.0  3.2  1.2  0.2    Iris-setosa\n",
       "  36  5.5  3.5  1.3  0.2    Iris-setosa\n",
       "  37  4.9  3.1  1.5  0.1    Iris-setosa\n",
       "  38  4.4  3.0  1.3  0.2    Iris-setosa\n",
       "  39  5.1  3.4  1.5  0.2    Iris-setosa\n",
       "  40  5.0  3.5  1.3  0.3    Iris-setosa\n",
       "  41  4.5  2.3  1.3  0.3    Iris-setosa\n",
       "  42  4.4  3.2  1.3  0.2    Iris-setosa\n",
       "  43  5.0  3.5  1.6  0.6    Iris-setosa\n",
       "  44  5.1  3.8  1.9  0.4    Iris-setosa\n",
       "  45  4.8  3.0  1.4  0.3    Iris-setosa\n",
       "  46  5.1  3.8  1.6  0.2    Iris-setosa\n",
       "  47  4.6  3.2  1.4  0.2    Iris-setosa\n",
       "  48  5.3  3.7  1.5  0.2    Iris-setosa\n",
       "  49  5.0  3.3  1.4  0.2    Iris-setosa),\n",
       " ('Iris-versicolor',\n",
       "       SL   SW   PL   PW   Classification\n",
       "  50  7.0  3.2  4.7  1.4  Iris-versicolor\n",
       "  51  6.4  3.2  4.5  1.5  Iris-versicolor\n",
       "  52  6.9  3.1  4.9  1.5  Iris-versicolor\n",
       "  53  5.5  2.3  4.0  1.3  Iris-versicolor\n",
       "  54  6.5  2.8  4.6  1.5  Iris-versicolor\n",
       "  55  5.7  2.8  4.5  1.3  Iris-versicolor\n",
       "  56  6.3  3.3  4.7  1.6  Iris-versicolor\n",
       "  57  4.9  2.4  3.3  1.0  Iris-versicolor\n",
       "  58  6.6  2.9  4.6  1.3  Iris-versicolor\n",
       "  59  5.2  2.7  3.9  1.4  Iris-versicolor\n",
       "  60  5.0  2.0  3.5  1.0  Iris-versicolor\n",
       "  61  5.9  3.0  4.2  1.5  Iris-versicolor\n",
       "  62  6.0  2.2  4.0  1.0  Iris-versicolor\n",
       "  63  6.1  2.9  4.7  1.4  Iris-versicolor\n",
       "  64  5.6  2.9  3.6  1.3  Iris-versicolor\n",
       "  65  6.7  3.1  4.4  1.4  Iris-versicolor\n",
       "  66  5.6  3.0  4.5  1.5  Iris-versicolor\n",
       "  67  5.8  2.7  4.1  1.0  Iris-versicolor\n",
       "  68  6.2  2.2  4.5  1.5  Iris-versicolor\n",
       "  69  5.6  2.5  3.9  1.1  Iris-versicolor\n",
       "  70  5.9  3.2  4.8  1.8  Iris-versicolor\n",
       "  71  6.1  2.8  4.0  1.3  Iris-versicolor\n",
       "  72  6.3  2.5  4.9  1.5  Iris-versicolor\n",
       "  73  6.1  2.8  4.7  1.2  Iris-versicolor\n",
       "  74  6.4  2.9  4.3  1.3  Iris-versicolor\n",
       "  75  6.6  3.0  4.4  1.4  Iris-versicolor\n",
       "  76  6.8  2.8  4.8  1.4  Iris-versicolor\n",
       "  77  6.7  3.0  5.0  1.7  Iris-versicolor\n",
       "  78  6.0  2.9  4.5  1.5  Iris-versicolor\n",
       "  79  5.7  2.6  3.5  1.0  Iris-versicolor\n",
       "  80  5.5  2.4  3.8  1.1  Iris-versicolor\n",
       "  81  5.5  2.4  3.7  1.0  Iris-versicolor\n",
       "  82  5.8  2.7  3.9  1.2  Iris-versicolor\n",
       "  83  6.0  2.7  5.1  1.6  Iris-versicolor\n",
       "  84  5.4  3.0  4.5  1.5  Iris-versicolor\n",
       "  85  6.0  3.4  4.5  1.6  Iris-versicolor\n",
       "  86  6.7  3.1  4.7  1.5  Iris-versicolor\n",
       "  87  6.3  2.3  4.4  1.3  Iris-versicolor\n",
       "  88  5.6  3.0  4.1  1.3  Iris-versicolor\n",
       "  89  5.5  2.5  4.0  1.3  Iris-versicolor\n",
       "  90  5.5  2.6  4.4  1.2  Iris-versicolor\n",
       "  91  6.1  3.0  4.6  1.4  Iris-versicolor\n",
       "  92  5.8  2.6  4.0  1.2  Iris-versicolor\n",
       "  93  5.0  2.3  3.3  1.0  Iris-versicolor\n",
       "  94  5.6  2.7  4.2  1.3  Iris-versicolor\n",
       "  95  5.7  3.0  4.2  1.2  Iris-versicolor\n",
       "  96  5.7  2.9  4.2  1.3  Iris-versicolor\n",
       "  97  6.2  2.9  4.3  1.3  Iris-versicolor\n",
       "  98  5.1  2.5  3.0  1.1  Iris-versicolor\n",
       "  99  5.7  2.8  4.1  1.3  Iris-versicolor),\n",
       " ('Iris-virginica',\n",
       "        SL   SW   PL   PW  Classification\n",
       "  100  6.3  3.3  6.0  2.5  Iris-virginica\n",
       "  101  5.8  2.7  5.1  1.9  Iris-virginica\n",
       "  102  7.1  3.0  5.9  2.1  Iris-virginica\n",
       "  103  6.3  2.9  5.6  1.8  Iris-virginica\n",
       "  104  6.5  3.0  5.8  2.2  Iris-virginica\n",
       "  105  7.6  3.0  6.6  2.1  Iris-virginica\n",
       "  106  4.9  2.5  4.5  1.7  Iris-virginica\n",
       "  107  7.3  2.9  6.3  1.8  Iris-virginica\n",
       "  108  6.7  2.5  5.8  1.8  Iris-virginica\n",
       "  109  7.2  3.6  6.1  2.5  Iris-virginica\n",
       "  110  6.5  3.2  5.1  2.0  Iris-virginica\n",
       "  111  6.4  2.7  5.3  1.9  Iris-virginica\n",
       "  112  6.8  3.0  5.5  2.1  Iris-virginica\n",
       "  113  5.7  2.5  5.0  2.0  Iris-virginica\n",
       "  114  5.8  2.8  5.1  2.4  Iris-virginica\n",
       "  115  6.4  3.2  5.3  2.3  Iris-virginica\n",
       "  116  6.5  3.0  5.5  1.8  Iris-virginica\n",
       "  117  7.7  3.8  6.7  2.2  Iris-virginica\n",
       "  118  7.7  2.6  6.9  2.3  Iris-virginica\n",
       "  119  6.0  2.2  5.0  1.5  Iris-virginica\n",
       "  120  6.9  3.2  5.7  2.3  Iris-virginica\n",
       "  121  5.6  2.8  4.9  2.0  Iris-virginica\n",
       "  122  7.7  2.8  6.7  2.0  Iris-virginica\n",
       "  123  6.3  2.7  4.9  1.8  Iris-virginica\n",
       "  124  6.7  3.3  5.7  2.1  Iris-virginica\n",
       "  125  7.2  3.2  6.0  1.8  Iris-virginica\n",
       "  126  6.2  2.8  4.8  1.8  Iris-virginica\n",
       "  127  6.1  3.0  4.9  1.8  Iris-virginica\n",
       "  128  6.4  2.8  5.6  2.1  Iris-virginica\n",
       "  129  7.2  3.0  5.8  1.6  Iris-virginica\n",
       "  130  7.4  2.8  6.1  1.9  Iris-virginica\n",
       "  131  7.9  3.8  6.4  2.0  Iris-virginica\n",
       "  132  6.4  2.8  5.6  2.2  Iris-virginica\n",
       "  133  6.3  2.8  5.1  1.5  Iris-virginica\n",
       "  134  6.1  2.6  5.6  1.4  Iris-virginica\n",
       "  135  7.7  3.0  6.1  2.3  Iris-virginica\n",
       "  136  6.3  3.4  5.6  2.4  Iris-virginica\n",
       "  137  6.4  3.1  5.5  1.8  Iris-virginica\n",
       "  138  6.0  3.0  4.8  1.8  Iris-virginica\n",
       "  139  6.9  3.1  5.4  2.1  Iris-virginica\n",
       "  140  6.7  3.1  5.6  2.4  Iris-virginica\n",
       "  141  6.9  3.1  5.1  2.3  Iris-virginica\n",
       "  142  5.8  2.7  5.1  1.9  Iris-virginica\n",
       "  143  6.8  3.2  5.9  2.3  Iris-virginica\n",
       "  144  6.7  3.3  5.7  2.5  Iris-virginica\n",
       "  145  6.7  3.0  5.2  2.3  Iris-virginica\n",
       "  146  6.3  2.5  5.0  1.9  Iris-virginica\n",
       "  147  6.5  3.0  5.2  2.0  Iris-virginica\n",
       "  148  6.2  3.4  5.4  2.3  Iris-virginica\n",
       "  149  5.9  3.0  5.1  1.8  Iris-virginica)]"
      ]
     },
     "execution_count": 10,
     "metadata": {},
     "output_type": "execute_result"
    }
   ],
   "source": [
    "# putting this into a list to see how things are grouped when grouped by ' 'Classification' and display it\n",
    "list(df.groupby(['Classification']))"
   ]
  },
  {
   "cell_type": "code",
   "execution_count": 11,
   "id": "b8abb189",
   "metadata": {},
   "outputs": [
    {
     "data": {
      "text/html": [
       "<div>\n",
       "<style scoped>\n",
       "    .dataframe tbody tr th:only-of-type {\n",
       "        vertical-align: middle;\n",
       "    }\n",
       "\n",
       "    .dataframe tbody tr th {\n",
       "        vertical-align: top;\n",
       "    }\n",
       "\n",
       "    .dataframe thead tr th {\n",
       "        text-align: left;\n",
       "    }\n",
       "\n",
       "    .dataframe thead tr:last-of-type th {\n",
       "        text-align: right;\n",
       "    }\n",
       "</style>\n",
       "<table border=\"1\" class=\"dataframe\">\n",
       "  <thead>\n",
       "    <tr>\n",
       "      <th></th>\n",
       "      <th>SL</th>\n",
       "      <th>SW</th>\n",
       "      <th>PL</th>\n",
       "      <th>PW</th>\n",
       "    </tr>\n",
       "    <tr>\n",
       "      <th></th>\n",
       "      <th>mean</th>\n",
       "      <th>mean</th>\n",
       "      <th>mean</th>\n",
       "      <th>mean</th>\n",
       "    </tr>\n",
       "    <tr>\n",
       "      <th>Classification</th>\n",
       "      <th></th>\n",
       "      <th></th>\n",
       "      <th></th>\n",
       "      <th></th>\n",
       "    </tr>\n",
       "  </thead>\n",
       "  <tbody>\n",
       "    <tr>\n",
       "      <th>Iris-setosa</th>\n",
       "      <td>5.006</td>\n",
       "      <td>3.418</td>\n",
       "      <td>1.464</td>\n",
       "      <td>0.244</td>\n",
       "    </tr>\n",
       "    <tr>\n",
       "      <th>Iris-versicolor</th>\n",
       "      <td>5.936</td>\n",
       "      <td>2.770</td>\n",
       "      <td>4.260</td>\n",
       "      <td>1.326</td>\n",
       "    </tr>\n",
       "    <tr>\n",
       "      <th>Iris-virginica</th>\n",
       "      <td>6.588</td>\n",
       "      <td>2.974</td>\n",
       "      <td>5.552</td>\n",
       "      <td>2.026</td>\n",
       "    </tr>\n",
       "  </tbody>\n",
       "</table>\n",
       "</div>"
      ],
      "text/plain": [
       "                    SL     SW     PL     PW\n",
       "                  mean   mean   mean   mean\n",
       "Classification                             \n",
       "Iris-setosa      5.006  3.418  1.464  0.244\n",
       "Iris-versicolor  5.936  2.770  4.260  1.326\n",
       "Iris-virginica   6.588  2.974  5.552  2.026"
      ]
     },
     "execution_count": 11,
     "metadata": {},
     "output_type": "execute_result"
    }
   ],
   "source": [
    "# Computing the  mean of 'SL',  'SW',   'PL',  'PW'   grouped by 'Classification' using agg()\n",
    "df.groupby(['Classification']).agg(['mean'])"
   ]
  },
  {
   "cell_type": "markdown",
   "id": "4b5ae4b0",
   "metadata": {},
   "source": [
    "## 4. Checking for the null values present in the dataset.\n"
   ]
  },
  {
   "cell_type": "code",
   "execution_count": 12,
   "id": "87844d53",
   "metadata": {},
   "outputs": [
    {
     "name": "stdout",
     "output_type": "stream",
     "text": [
      "<class 'pandas.core.frame.DataFrame'>\n",
      "RangeIndex: 150 entries, 0 to 149\n",
      "Data columns (total 5 columns):\n",
      " #   Column          Non-Null Count  Dtype  \n",
      "---  ------          --------------  -----  \n",
      " 0   SL              150 non-null    float64\n",
      " 1   SW              150 non-null    float64\n",
      " 2   PL              150 non-null    float64\n",
      " 3   PW              150 non-null    float64\n",
      " 4   Classification  150 non-null    object \n",
      "dtypes: float64(4), object(1)\n",
      "memory usage: 6.0+ KB\n"
     ]
    }
   ],
   "source": [
    "# using DataFrame.info() for checking the null values present in DataFrame 'df'\n",
    "df.info()"
   ]
  },
  {
   "cell_type": "markdown",
   "id": "ee5fce9e",
   "metadata": {},
   "source": [
    "* From above, it indicates that there are no null values in the dataset\n",
    "* 150 entries are present and all the columns are having 150 non-null values"
   ]
  },
  {
   "cell_type": "markdown",
   "id": "7d6f581e",
   "metadata": {},
   "source": [
    "## 5. Visualizations using the dataset"
   ]
  },
  {
   "cell_type": "markdown",
   "id": "99104cd2",
   "metadata": {},
   "source": [
    "#### (i) DATA CORRELATION AND SCATTER PLOT"
   ]
  },
  {
   "cell_type": "code",
   "execution_count": 13,
   "id": "1c1d8e40",
   "metadata": {},
   "outputs": [],
   "source": [
    "# importing libraries\n",
    "import matplotlib.pyplot as plt"
   ]
  },
  {
   "cell_type": "code",
   "execution_count": 14,
   "id": "24cf7372",
   "metadata": {},
   "outputs": [],
   "source": [
    "# selecting all the rows of the DataFrame 'df' where data under column 'Classification' equal to 'Iris-setosa' and assigning to DataFrame 'seto'\n",
    "seto = df[df.Classification == 'Iris-setosa']"
   ]
  },
  {
   "cell_type": "code",
   "execution_count": 15,
   "id": "ef11c3c5",
   "metadata": {},
   "outputs": [
    {
     "data": {
      "text/html": [
       "<div>\n",
       "<style scoped>\n",
       "    .dataframe tbody tr th:only-of-type {\n",
       "        vertical-align: middle;\n",
       "    }\n",
       "\n",
       "    .dataframe tbody tr th {\n",
       "        vertical-align: top;\n",
       "    }\n",
       "\n",
       "    .dataframe thead th {\n",
       "        text-align: right;\n",
       "    }\n",
       "</style>\n",
       "<table border=\"1\" class=\"dataframe\">\n",
       "  <thead>\n",
       "    <tr style=\"text-align: right;\">\n",
       "      <th></th>\n",
       "      <th>SL</th>\n",
       "      <th>SW</th>\n",
       "      <th>PL</th>\n",
       "      <th>PW</th>\n",
       "      <th>Classification</th>\n",
       "    </tr>\n",
       "  </thead>\n",
       "  <tbody>\n",
       "    <tr>\n",
       "      <th>0</th>\n",
       "      <td>5.1</td>\n",
       "      <td>3.5</td>\n",
       "      <td>1.4</td>\n",
       "      <td>0.2</td>\n",
       "      <td>Iris-setosa</td>\n",
       "    </tr>\n",
       "    <tr>\n",
       "      <th>1</th>\n",
       "      <td>4.9</td>\n",
       "      <td>3.0</td>\n",
       "      <td>1.4</td>\n",
       "      <td>0.2</td>\n",
       "      <td>Iris-setosa</td>\n",
       "    </tr>\n",
       "    <tr>\n",
       "      <th>2</th>\n",
       "      <td>4.7</td>\n",
       "      <td>3.2</td>\n",
       "      <td>1.3</td>\n",
       "      <td>0.2</td>\n",
       "      <td>Iris-setosa</td>\n",
       "    </tr>\n",
       "    <tr>\n",
       "      <th>3</th>\n",
       "      <td>4.6</td>\n",
       "      <td>3.1</td>\n",
       "      <td>1.5</td>\n",
       "      <td>0.2</td>\n",
       "      <td>Iris-setosa</td>\n",
       "    </tr>\n",
       "    <tr>\n",
       "      <th>4</th>\n",
       "      <td>5.0</td>\n",
       "      <td>3.6</td>\n",
       "      <td>1.4</td>\n",
       "      <td>0.2</td>\n",
       "      <td>Iris-setosa</td>\n",
       "    </tr>\n",
       "  </tbody>\n",
       "</table>\n",
       "</div>"
      ],
      "text/plain": [
       "    SL   SW   PL   PW Classification\n",
       "0  5.1  3.5  1.4  0.2    Iris-setosa\n",
       "1  4.9  3.0  1.4  0.2    Iris-setosa\n",
       "2  4.7  3.2  1.3  0.2    Iris-setosa\n",
       "3  4.6  3.1  1.5  0.2    Iris-setosa\n",
       "4  5.0  3.6  1.4  0.2    Iris-setosa"
      ]
     },
     "execution_count": 15,
     "metadata": {},
     "output_type": "execute_result"
    }
   ],
   "source": [
    "# displaying the first 5 rows of the DataFrame 'seto'\n",
    "seto.head()"
   ]
  },
  {
   "cell_type": "code",
   "execution_count": 16,
   "id": "8f1bf940",
   "metadata": {},
   "outputs": [
    {
     "data": {
      "text/html": [
       "<div>\n",
       "<style scoped>\n",
       "    .dataframe tbody tr th:only-of-type {\n",
       "        vertical-align: middle;\n",
       "    }\n",
       "\n",
       "    .dataframe tbody tr th {\n",
       "        vertical-align: top;\n",
       "    }\n",
       "\n",
       "    .dataframe thead th {\n",
       "        text-align: right;\n",
       "    }\n",
       "</style>\n",
       "<table border=\"1\" class=\"dataframe\">\n",
       "  <thead>\n",
       "    <tr style=\"text-align: right;\">\n",
       "      <th></th>\n",
       "      <th>SL</th>\n",
       "      <th>SW</th>\n",
       "      <th>PL</th>\n",
       "      <th>PW</th>\n",
       "    </tr>\n",
       "  </thead>\n",
       "  <tbody>\n",
       "    <tr>\n",
       "      <th>SL</th>\n",
       "      <td>1.000000</td>\n",
       "      <td>0.746780</td>\n",
       "      <td>0.263874</td>\n",
       "      <td>0.279092</td>\n",
       "    </tr>\n",
       "    <tr>\n",
       "      <th>SW</th>\n",
       "      <td>0.746780</td>\n",
       "      <td>1.000000</td>\n",
       "      <td>0.176695</td>\n",
       "      <td>0.279973</td>\n",
       "    </tr>\n",
       "    <tr>\n",
       "      <th>PL</th>\n",
       "      <td>0.263874</td>\n",
       "      <td>0.176695</td>\n",
       "      <td>1.000000</td>\n",
       "      <td>0.306308</td>\n",
       "    </tr>\n",
       "    <tr>\n",
       "      <th>PW</th>\n",
       "      <td>0.279092</td>\n",
       "      <td>0.279973</td>\n",
       "      <td>0.306308</td>\n",
       "      <td>1.000000</td>\n",
       "    </tr>\n",
       "  </tbody>\n",
       "</table>\n",
       "</div>"
      ],
      "text/plain": [
       "          SL        SW        PL        PW\n",
       "SL  1.000000  0.746780  0.263874  0.279092\n",
       "SW  0.746780  1.000000  0.176695  0.279973\n",
       "PL  0.263874  0.176695  1.000000  0.306308\n",
       "PW  0.279092  0.279973  0.306308  1.000000"
      ]
     },
     "execution_count": 16,
     "metadata": {},
     "output_type": "execute_result"
    }
   ],
   "source": [
    "# for calculating the relationship between each column in the DataFrame 'seto' using corr() \n",
    "seto.corr()"
   ]
  },
  {
   "cell_type": "markdown",
   "id": "44a37cbb",
   "metadata": {},
   "source": [
    "from above, maximum correlation is found between 'SL' and 'SW' which is 0.746780"
   ]
  },
  {
   "cell_type": "code",
   "execution_count": 17,
   "id": "bb13e483",
   "metadata": {},
   "outputs": [],
   "source": [
    "#  selecting all the rows of the DataFrame 'df' where data under column 'Classification' equal to 'Iris-versicolor' and assigning to DataFrame 'ver'\n",
    "ver = df[df.Classification == 'Iris-versicolor']"
   ]
  },
  {
   "cell_type": "code",
   "execution_count": 18,
   "id": "d920bac1",
   "metadata": {},
   "outputs": [
    {
     "data": {
      "text/html": [
       "<div>\n",
       "<style scoped>\n",
       "    .dataframe tbody tr th:only-of-type {\n",
       "        vertical-align: middle;\n",
       "    }\n",
       "\n",
       "    .dataframe tbody tr th {\n",
       "        vertical-align: top;\n",
       "    }\n",
       "\n",
       "    .dataframe thead th {\n",
       "        text-align: right;\n",
       "    }\n",
       "</style>\n",
       "<table border=\"1\" class=\"dataframe\">\n",
       "  <thead>\n",
       "    <tr style=\"text-align: right;\">\n",
       "      <th></th>\n",
       "      <th>SL</th>\n",
       "      <th>SW</th>\n",
       "      <th>PL</th>\n",
       "      <th>PW</th>\n",
       "    </tr>\n",
       "  </thead>\n",
       "  <tbody>\n",
       "    <tr>\n",
       "      <th>SL</th>\n",
       "      <td>1.000000</td>\n",
       "      <td>0.525911</td>\n",
       "      <td>0.754049</td>\n",
       "      <td>0.546461</td>\n",
       "    </tr>\n",
       "    <tr>\n",
       "      <th>SW</th>\n",
       "      <td>0.525911</td>\n",
       "      <td>1.000000</td>\n",
       "      <td>0.560522</td>\n",
       "      <td>0.663999</td>\n",
       "    </tr>\n",
       "    <tr>\n",
       "      <th>PL</th>\n",
       "      <td>0.754049</td>\n",
       "      <td>0.560522</td>\n",
       "      <td>1.000000</td>\n",
       "      <td>0.786668</td>\n",
       "    </tr>\n",
       "    <tr>\n",
       "      <th>PW</th>\n",
       "      <td>0.546461</td>\n",
       "      <td>0.663999</td>\n",
       "      <td>0.786668</td>\n",
       "      <td>1.000000</td>\n",
       "    </tr>\n",
       "  </tbody>\n",
       "</table>\n",
       "</div>"
      ],
      "text/plain": [
       "          SL        SW        PL        PW\n",
       "SL  1.000000  0.525911  0.754049  0.546461\n",
       "SW  0.525911  1.000000  0.560522  0.663999\n",
       "PL  0.754049  0.560522  1.000000  0.786668\n",
       "PW  0.546461  0.663999  0.786668  1.000000"
      ]
     },
     "execution_count": 18,
     "metadata": {},
     "output_type": "execute_result"
    }
   ],
   "source": [
    "# for calculating the relationship between each column in the DataFrame 'ver' using corr() \n",
    "ver.corr()"
   ]
  },
  {
   "cell_type": "markdown",
   "id": "24c58b6e",
   "metadata": {},
   "source": [
    "from above, maximum correlation is found between 'PL' and 'PW' which is 0.786668"
   ]
  },
  {
   "cell_type": "code",
   "execution_count": 19,
   "id": "cca74e4a",
   "metadata": {},
   "outputs": [],
   "source": [
    "#  selecting all the rows of the DataFrame 'df' where data under column 'Classification' equal to 'Iris-virginica' and assigning to DataFrame 'virg'\n",
    "virg = df[df.Classification == 'Iris-virginica']"
   ]
  },
  {
   "cell_type": "code",
   "execution_count": 20,
   "id": "37ebdf37",
   "metadata": {},
   "outputs": [
    {
     "data": {
      "text/html": [
       "<div>\n",
       "<style scoped>\n",
       "    .dataframe tbody tr th:only-of-type {\n",
       "        vertical-align: middle;\n",
       "    }\n",
       "\n",
       "    .dataframe tbody tr th {\n",
       "        vertical-align: top;\n",
       "    }\n",
       "\n",
       "    .dataframe thead th {\n",
       "        text-align: right;\n",
       "    }\n",
       "</style>\n",
       "<table border=\"1\" class=\"dataframe\">\n",
       "  <thead>\n",
       "    <tr style=\"text-align: right;\">\n",
       "      <th></th>\n",
       "      <th>SL</th>\n",
       "      <th>SW</th>\n",
       "      <th>PL</th>\n",
       "      <th>PW</th>\n",
       "    </tr>\n",
       "  </thead>\n",
       "  <tbody>\n",
       "    <tr>\n",
       "      <th>SL</th>\n",
       "      <td>1.000000</td>\n",
       "      <td>0.457228</td>\n",
       "      <td>0.864225</td>\n",
       "      <td>0.281108</td>\n",
       "    </tr>\n",
       "    <tr>\n",
       "      <th>SW</th>\n",
       "      <td>0.457228</td>\n",
       "      <td>1.000000</td>\n",
       "      <td>0.401045</td>\n",
       "      <td>0.537728</td>\n",
       "    </tr>\n",
       "    <tr>\n",
       "      <th>PL</th>\n",
       "      <td>0.864225</td>\n",
       "      <td>0.401045</td>\n",
       "      <td>1.000000</td>\n",
       "      <td>0.322108</td>\n",
       "    </tr>\n",
       "    <tr>\n",
       "      <th>PW</th>\n",
       "      <td>0.281108</td>\n",
       "      <td>0.537728</td>\n",
       "      <td>0.322108</td>\n",
       "      <td>1.000000</td>\n",
       "    </tr>\n",
       "  </tbody>\n",
       "</table>\n",
       "</div>"
      ],
      "text/plain": [
       "          SL        SW        PL        PW\n",
       "SL  1.000000  0.457228  0.864225  0.281108\n",
       "SW  0.457228  1.000000  0.401045  0.537728\n",
       "PL  0.864225  0.401045  1.000000  0.322108\n",
       "PW  0.281108  0.537728  0.322108  1.000000"
      ]
     },
     "execution_count": 20,
     "metadata": {},
     "output_type": "execute_result"
    }
   ],
   "source": [
    "# for calculating the relationship between each column in the DataFrame 'virg' using corr() \n",
    "virg.corr()"
   ]
  },
  {
   "cell_type": "markdown",
   "id": "e5b5d955",
   "metadata": {},
   "source": [
    "from above, maximum correlation is found between 'SL' and 'PL' which is 0.864225"
   ]
  },
  {
   "cell_type": "code",
   "execution_count": 120,
   "id": "ff786fe0",
   "metadata": {},
   "outputs": [
    {
     "data": {
      "image/png": "[encoded data removed]",
      "text/plain": [
       "<Figure size 800x550 with 1 Axes>"
      ]
     },
     "metadata": {},
     "output_type": "display_data"
    },
    {
     "data": {
      "image/png": "[encoded data removed]",
      "text/plain": [
       "<Figure size 800x550 with 1 Axes>"
      ]
     },
     "metadata": {},
     "output_type": "display_data"
    },
    {
     "data": {
      "image/png": "[encoded data removed]",
      "text/plain": [
       "<Figure size 800x550 with 1 Axes>"
      ]
     },
     "metadata": {},
     "output_type": "display_data"
    }
   ],
   "source": [
    "# using matplotlib, scatter plot with 'SL' on the x-axis and  'SW' on the y-axis of the Dataframe 'seto', 's' indicates the size of the data points, color = red, notation of the data points indicated by 'marker'\n",
    "plt.scatter(seto['SL'], seto['SW'], s=10, color='red', marker='o')\n",
    "\n",
    "# On the graph, for marking the title we use plt.title(), with fontname as Times New Roman and font size as 12\n",
    "plt.title('Plot of SL vs SW of Iris-setosa', fontname='Times New Roman', fontsize = 12)\n",
    "\n",
    "# for lableling on the X-axis 'SL', using plt.xlabel() with fontname -Times New Roman\n",
    "plt.xlabel('SL',fontname='Times New Roman')\n",
    "\n",
    "# for  lableling on the Y-axis 'SW', using plt.ylabel() with fontname -Times New Roman\n",
    "plt.ylabel('SW',fontname='Times New Roman')\n",
    "\n",
    "# display figure\n",
    "plt.show()\n",
    "\n",
    "\n",
    "# using matplotlib, scatter plot with 'PL' on the x-axis and  'PW' on the y-axis of the Dataframe 'ver', 's' indicates the size of the data points, color = blue, notation of the data points indicated by 'marker'\n",
    "plt.scatter(ver['PL'], ver['PW'], s=10, color='blue', marker='o')\n",
    "\n",
    "# On the graph, for marking the title we use plt.title(), with fontname used as Times New Roman and font size as 12\n",
    "plt.title('Plot of PL vs PW of Iris-versicolor', fontname='Times New Roman', fontsize = 12)\n",
    "\n",
    "# for lableling on the X-axis 'PL', using plt.xlabel() with fontname -Times New Roman\n",
    "plt.xlabel('PL',fontname='Times New Roman')\n",
    "\n",
    "# for  lableling on the Y-axis 'PW', using plt.ylabel() with fontname -Times New Roman\n",
    "plt.ylabel('PW',fontname='Times New Roman')\n",
    "\n",
    "# display figure\n",
    "plt.show()\n",
    "\n",
    "\n",
    "# using matplotlib, scatter plot with 'SL' on the x-axis and  'PL' on the y-axis of the DataFrame 'virg', 's' indicates the size of the data points, color = green, notation of the data points indicated by 'marker' \n",
    "plt.scatter(virg['SL'], ver['PL'], s=10, color='green', marker='o')\n",
    "\n",
    "# On the graph, for marking the title we use plt.title(), with fontname used as Times New Roman and font size as 12\n",
    "plt.title('Plot of SL vs PL of Iris-virginica', fontname='Times New Roman', fontsize = 12)\n",
    "\n",
    "# for lableling on the X-axis 'SL', using plt.xlabel() with fontname -Times New Roman\n",
    "plt.xlabel('SL',fontname='Times New Roman')\n",
    "\n",
    "# for  lableling on the Y-axis 'PL', using plt.ylabel() with fontname -Times New Roman\n",
    "plt.ylabel('PL',fontname='Times New Roman')\n",
    "\n",
    "# display figure\n",
    "plt.show()\n",
    "\n"
   ]
  },
  {
   "cell_type": "markdown",
   "id": "c6c6f384",
   "metadata": {},
   "source": [
    "#### (ii) BOX PLOT"
   ]
  },
  {
   "cell_type": "code",
   "execution_count": 22,
   "id": "142b1bb3",
   "metadata": {},
   "outputs": [
    {
     "data": {
      "text/html": [
       "<div>\n",
       "<style scoped>\n",
       "    .dataframe tbody tr th:only-of-type {\n",
       "        vertical-align: middle;\n",
       "    }\n",
       "\n",
       "    .dataframe tbody tr th {\n",
       "        vertical-align: top;\n",
       "    }\n",
       "\n",
       "    .dataframe thead th {\n",
       "        text-align: right;\n",
       "    }\n",
       "</style>\n",
       "<table border=\"1\" class=\"dataframe\">\n",
       "  <thead>\n",
       "    <tr style=\"text-align: right;\">\n",
       "      <th></th>\n",
       "      <th>SL</th>\n",
       "      <th>SW</th>\n",
       "      <th>PL</th>\n",
       "      <th>PW</th>\n",
       "      <th>Classification</th>\n",
       "    </tr>\n",
       "  </thead>\n",
       "  <tbody>\n",
       "    <tr>\n",
       "      <th>0</th>\n",
       "      <td>5.1</td>\n",
       "      <td>3.5</td>\n",
       "      <td>1.4</td>\n",
       "      <td>0.2</td>\n",
       "      <td>Iris-setosa</td>\n",
       "    </tr>\n",
       "    <tr>\n",
       "      <th>1</th>\n",
       "      <td>4.9</td>\n",
       "      <td>3.0</td>\n",
       "      <td>1.4</td>\n",
       "      <td>0.2</td>\n",
       "      <td>Iris-setosa</td>\n",
       "    </tr>\n",
       "    <tr>\n",
       "      <th>2</th>\n",
       "      <td>4.7</td>\n",
       "      <td>3.2</td>\n",
       "      <td>1.3</td>\n",
       "      <td>0.2</td>\n",
       "      <td>Iris-setosa</td>\n",
       "    </tr>\n",
       "    <tr>\n",
       "      <th>3</th>\n",
       "      <td>4.6</td>\n",
       "      <td>3.1</td>\n",
       "      <td>1.5</td>\n",
       "      <td>0.2</td>\n",
       "      <td>Iris-setosa</td>\n",
       "    </tr>\n",
       "    <tr>\n",
       "      <th>4</th>\n",
       "      <td>5.0</td>\n",
       "      <td>3.6</td>\n",
       "      <td>1.4</td>\n",
       "      <td>0.2</td>\n",
       "      <td>Iris-setosa</td>\n",
       "    </tr>\n",
       "  </tbody>\n",
       "</table>\n",
       "</div>"
      ],
      "text/plain": [
       "    SL   SW   PL   PW Classification\n",
       "0  5.1  3.5  1.4  0.2    Iris-setosa\n",
       "1  4.9  3.0  1.4  0.2    Iris-setosa\n",
       "2  4.7  3.2  1.3  0.2    Iris-setosa\n",
       "3  4.6  3.1  1.5  0.2    Iris-setosa\n",
       "4  5.0  3.6  1.4  0.2    Iris-setosa"
      ]
     },
     "execution_count": 22,
     "metadata": {},
     "output_type": "execute_result"
    }
   ],
   "source": [
    "# displaying the first 5 rows of the DataFrame 'seto'\n",
    "seto.head()"
   ]
  },
  {
   "cell_type": "code",
   "execution_count": 23,
   "id": "63bcb017",
   "metadata": {},
   "outputs": [],
   "source": [
    "# setting the index of the DataFrame 'seto' to 'Classification' and storing it in 'seto'\n",
    "seto = seto.set_index('Classification')"
   ]
  },
  {
   "cell_type": "code",
   "execution_count": 24,
   "id": "2eed60f8",
   "metadata": {
    "scrolled": true
   },
   "outputs": [
    {
     "data": {
      "text/html": [
       "<div>\n",
       "<style scoped>\n",
       "    .dataframe tbody tr th:only-of-type {\n",
       "        vertical-align: middle;\n",
       "    }\n",
       "\n",
       "    .dataframe tbody tr th {\n",
       "        vertical-align: top;\n",
       "    }\n",
       "\n",
       "    .dataframe thead th {\n",
       "        text-align: right;\n",
       "    }\n",
       "</style>\n",
       "<table border=\"1\" class=\"dataframe\">\n",
       "  <thead>\n",
       "    <tr style=\"text-align: right;\">\n",
       "      <th></th>\n",
       "      <th>SL</th>\n",
       "      <th>SW</th>\n",
       "      <th>PL</th>\n",
       "      <th>PW</th>\n",
       "    </tr>\n",
       "    <tr>\n",
       "      <th>Classification</th>\n",
       "      <th></th>\n",
       "      <th></th>\n",
       "      <th></th>\n",
       "      <th></th>\n",
       "    </tr>\n",
       "  </thead>\n",
       "  <tbody>\n",
       "    <tr>\n",
       "      <th>Iris-setosa</th>\n",
       "      <td>5.1</td>\n",
       "      <td>3.5</td>\n",
       "      <td>1.4</td>\n",
       "      <td>0.2</td>\n",
       "    </tr>\n",
       "    <tr>\n",
       "      <th>Iris-setosa</th>\n",
       "      <td>4.9</td>\n",
       "      <td>3.0</td>\n",
       "      <td>1.4</td>\n",
       "      <td>0.2</td>\n",
       "    </tr>\n",
       "    <tr>\n",
       "      <th>Iris-setosa</th>\n",
       "      <td>4.7</td>\n",
       "      <td>3.2</td>\n",
       "      <td>1.3</td>\n",
       "      <td>0.2</td>\n",
       "    </tr>\n",
       "    <tr>\n",
       "      <th>Iris-setosa</th>\n",
       "      <td>4.6</td>\n",
       "      <td>3.1</td>\n",
       "      <td>1.5</td>\n",
       "      <td>0.2</td>\n",
       "    </tr>\n",
       "    <tr>\n",
       "      <th>Iris-setosa</th>\n",
       "      <td>5.0</td>\n",
       "      <td>3.6</td>\n",
       "      <td>1.4</td>\n",
       "      <td>0.2</td>\n",
       "    </tr>\n",
       "  </tbody>\n",
       "</table>\n",
       "</div>"
      ],
      "text/plain": [
       "                 SL   SW   PL   PW\n",
       "Classification                    \n",
       "Iris-setosa     5.1  3.5  1.4  0.2\n",
       "Iris-setosa     4.9  3.0  1.4  0.2\n",
       "Iris-setosa     4.7  3.2  1.3  0.2\n",
       "Iris-setosa     4.6  3.1  1.5  0.2\n",
       "Iris-setosa     5.0  3.6  1.4  0.2"
      ]
     },
     "execution_count": 24,
     "metadata": {},
     "output_type": "execute_result"
    }
   ],
   "source": [
    "# displaying the first 5 rows of the DataFrame 'seto'\n",
    "seto.head()"
   ]
  },
  {
   "cell_type": "code",
   "execution_count": 25,
   "id": "0270faad",
   "metadata": {},
   "outputs": [
    {
     "data": {
      "text/html": [
       "<div>\n",
       "<style scoped>\n",
       "    .dataframe tbody tr th:only-of-type {\n",
       "        vertical-align: middle;\n",
       "    }\n",
       "\n",
       "    .dataframe tbody tr th {\n",
       "        vertical-align: top;\n",
       "    }\n",
       "\n",
       "    .dataframe thead th {\n",
       "        text-align: right;\n",
       "    }\n",
       "</style>\n",
       "<table border=\"1\" class=\"dataframe\">\n",
       "  <thead>\n",
       "    <tr style=\"text-align: right;\">\n",
       "      <th></th>\n",
       "      <th>SL</th>\n",
       "      <th>SW</th>\n",
       "      <th>PL</th>\n",
       "      <th>PW</th>\n",
       "      <th>Classification</th>\n",
       "    </tr>\n",
       "  </thead>\n",
       "  <tbody>\n",
       "    <tr>\n",
       "      <th>50</th>\n",
       "      <td>7.0</td>\n",
       "      <td>3.2</td>\n",
       "      <td>4.7</td>\n",
       "      <td>1.4</td>\n",
       "      <td>Iris-versicolor</td>\n",
       "    </tr>\n",
       "    <tr>\n",
       "      <th>51</th>\n",
       "      <td>6.4</td>\n",
       "      <td>3.2</td>\n",
       "      <td>4.5</td>\n",
       "      <td>1.5</td>\n",
       "      <td>Iris-versicolor</td>\n",
       "    </tr>\n",
       "    <tr>\n",
       "      <th>52</th>\n",
       "      <td>6.9</td>\n",
       "      <td>3.1</td>\n",
       "      <td>4.9</td>\n",
       "      <td>1.5</td>\n",
       "      <td>Iris-versicolor</td>\n",
       "    </tr>\n",
       "    <tr>\n",
       "      <th>53</th>\n",
       "      <td>5.5</td>\n",
       "      <td>2.3</td>\n",
       "      <td>4.0</td>\n",
       "      <td>1.3</td>\n",
       "      <td>Iris-versicolor</td>\n",
       "    </tr>\n",
       "    <tr>\n",
       "      <th>54</th>\n",
       "      <td>6.5</td>\n",
       "      <td>2.8</td>\n",
       "      <td>4.6</td>\n",
       "      <td>1.5</td>\n",
       "      <td>Iris-versicolor</td>\n",
       "    </tr>\n",
       "  </tbody>\n",
       "</table>\n",
       "</div>"
      ],
      "text/plain": [
       "     SL   SW   PL   PW   Classification\n",
       "50  7.0  3.2  4.7  1.4  Iris-versicolor\n",
       "51  6.4  3.2  4.5  1.5  Iris-versicolor\n",
       "52  6.9  3.1  4.9  1.5  Iris-versicolor\n",
       "53  5.5  2.3  4.0  1.3  Iris-versicolor\n",
       "54  6.5  2.8  4.6  1.5  Iris-versicolor"
      ]
     },
     "execution_count": 25,
     "metadata": {},
     "output_type": "execute_result"
    }
   ],
   "source": [
    "# displaying the first 5 rows of the DataFrame 'ver'\n",
    "ver.head()"
   ]
  },
  {
   "cell_type": "code",
   "execution_count": 26,
   "id": "6a3c870b",
   "metadata": {},
   "outputs": [],
   "source": [
    "# setting the index of the DataFrame 'ver' to 'Classification' and storing it in 'ver'\n",
    "ver = ver.set_index('Classification')"
   ]
  },
  {
   "cell_type": "code",
   "execution_count": 27,
   "id": "4813704a",
   "metadata": {},
   "outputs": [
    {
     "data": {
      "text/html": [
       "<div>\n",
       "<style scoped>\n",
       "    .dataframe tbody tr th:only-of-type {\n",
       "        vertical-align: middle;\n",
       "    }\n",
       "\n",
       "    .dataframe tbody tr th {\n",
       "        vertical-align: top;\n",
       "    }\n",
       "\n",
       "    .dataframe thead th {\n",
       "        text-align: right;\n",
       "    }\n",
       "</style>\n",
       "<table border=\"1\" class=\"dataframe\">\n",
       "  <thead>\n",
       "    <tr style=\"text-align: right;\">\n",
       "      <th></th>\n",
       "      <th>SL</th>\n",
       "      <th>SW</th>\n",
       "      <th>PL</th>\n",
       "      <th>PW</th>\n",
       "    </tr>\n",
       "    <tr>\n",
       "      <th>Classification</th>\n",
       "      <th></th>\n",
       "      <th></th>\n",
       "      <th></th>\n",
       "      <th></th>\n",
       "    </tr>\n",
       "  </thead>\n",
       "  <tbody>\n",
       "    <tr>\n",
       "      <th>Iris-versicolor</th>\n",
       "      <td>7.0</td>\n",
       "      <td>3.2</td>\n",
       "      <td>4.7</td>\n",
       "      <td>1.4</td>\n",
       "    </tr>\n",
       "    <tr>\n",
       "      <th>Iris-versicolor</th>\n",
       "      <td>6.4</td>\n",
       "      <td>3.2</td>\n",
       "      <td>4.5</td>\n",
       "      <td>1.5</td>\n",
       "    </tr>\n",
       "    <tr>\n",
       "      <th>Iris-versicolor</th>\n",
       "      <td>6.9</td>\n",
       "      <td>3.1</td>\n",
       "      <td>4.9</td>\n",
       "      <td>1.5</td>\n",
       "    </tr>\n",
       "    <tr>\n",
       "      <th>Iris-versicolor</th>\n",
       "      <td>5.5</td>\n",
       "      <td>2.3</td>\n",
       "      <td>4.0</td>\n",
       "      <td>1.3</td>\n",
       "    </tr>\n",
       "    <tr>\n",
       "      <th>Iris-versicolor</th>\n",
       "      <td>6.5</td>\n",
       "      <td>2.8</td>\n",
       "      <td>4.6</td>\n",
       "      <td>1.5</td>\n",
       "    </tr>\n",
       "  </tbody>\n",
       "</table>\n",
       "</div>"
      ],
      "text/plain": [
       "                  SL   SW   PL   PW\n",
       "Classification                     \n",
       "Iris-versicolor  7.0  3.2  4.7  1.4\n",
       "Iris-versicolor  6.4  3.2  4.5  1.5\n",
       "Iris-versicolor  6.9  3.1  4.9  1.5\n",
       "Iris-versicolor  5.5  2.3  4.0  1.3\n",
       "Iris-versicolor  6.5  2.8  4.6  1.5"
      ]
     },
     "execution_count": 27,
     "metadata": {},
     "output_type": "execute_result"
    }
   ],
   "source": [
    "# displaying the first 5 rows of the DataFrame 'ver'\n",
    "ver.head()"
   ]
  },
  {
   "cell_type": "code",
   "execution_count": 28,
   "id": "a867a2e2",
   "metadata": {},
   "outputs": [
    {
     "data": {
      "text/html": [
       "<div>\n",
       "<style scoped>\n",
       "    .dataframe tbody tr th:only-of-type {\n",
       "        vertical-align: middle;\n",
       "    }\n",
       "\n",
       "    .dataframe tbody tr th {\n",
       "        vertical-align: top;\n",
       "    }\n",
       "\n",
       "    .dataframe thead th {\n",
       "        text-align: right;\n",
       "    }\n",
       "</style>\n",
       "<table border=\"1\" class=\"dataframe\">\n",
       "  <thead>\n",
       "    <tr style=\"text-align: right;\">\n",
       "      <th></th>\n",
       "      <th>SL</th>\n",
       "      <th>SW</th>\n",
       "      <th>PL</th>\n",
       "      <th>PW</th>\n",
       "      <th>Classification</th>\n",
       "    </tr>\n",
       "  </thead>\n",
       "  <tbody>\n",
       "    <tr>\n",
       "      <th>100</th>\n",
       "      <td>6.3</td>\n",
       "      <td>3.3</td>\n",
       "      <td>6.0</td>\n",
       "      <td>2.5</td>\n",
       "      <td>Iris-virginica</td>\n",
       "    </tr>\n",
       "    <tr>\n",
       "      <th>101</th>\n",
       "      <td>5.8</td>\n",
       "      <td>2.7</td>\n",
       "      <td>5.1</td>\n",
       "      <td>1.9</td>\n",
       "      <td>Iris-virginica</td>\n",
       "    </tr>\n",
       "    <tr>\n",
       "      <th>102</th>\n",
       "      <td>7.1</td>\n",
       "      <td>3.0</td>\n",
       "      <td>5.9</td>\n",
       "      <td>2.1</td>\n",
       "      <td>Iris-virginica</td>\n",
       "    </tr>\n",
       "    <tr>\n",
       "      <th>103</th>\n",
       "      <td>6.3</td>\n",
       "      <td>2.9</td>\n",
       "      <td>5.6</td>\n",
       "      <td>1.8</td>\n",
       "      <td>Iris-virginica</td>\n",
       "    </tr>\n",
       "    <tr>\n",
       "      <th>104</th>\n",
       "      <td>6.5</td>\n",
       "      <td>3.0</td>\n",
       "      <td>5.8</td>\n",
       "      <td>2.2</td>\n",
       "      <td>Iris-virginica</td>\n",
       "    </tr>\n",
       "  </tbody>\n",
       "</table>\n",
       "</div>"
      ],
      "text/plain": [
       "      SL   SW   PL   PW  Classification\n",
       "100  6.3  3.3  6.0  2.5  Iris-virginica\n",
       "101  5.8  2.7  5.1  1.9  Iris-virginica\n",
       "102  7.1  3.0  5.9  2.1  Iris-virginica\n",
       "103  6.3  2.9  5.6  1.8  Iris-virginica\n",
       "104  6.5  3.0  5.8  2.2  Iris-virginica"
      ]
     },
     "execution_count": 28,
     "metadata": {},
     "output_type": "execute_result"
    }
   ],
   "source": [
    "# displaying the first 5 rows of the DataFrame 'virg'\n",
    "virg.head()"
   ]
  },
  {
   "cell_type": "code",
   "execution_count": 29,
   "id": "c061e799",
   "metadata": {},
   "outputs": [],
   "source": [
    "# setting the index of the DataFrame 'virg' to 'Classification' and storing it in 'virg'\n",
    "virg=virg.set_index('Classification')"
   ]
  },
  {
   "cell_type": "code",
   "execution_count": 30,
   "id": "637c0e7d",
   "metadata": {},
   "outputs": [
    {
     "data": {
      "text/html": [
       "<div>\n",
       "<style scoped>\n",
       "    .dataframe tbody tr th:only-of-type {\n",
       "        vertical-align: middle;\n",
       "    }\n",
       "\n",
       "    .dataframe tbody tr th {\n",
       "        vertical-align: top;\n",
       "    }\n",
       "\n",
       "    .dataframe thead th {\n",
       "        text-align: right;\n",
       "    }\n",
       "</style>\n",
       "<table border=\"1\" class=\"dataframe\">\n",
       "  <thead>\n",
       "    <tr style=\"text-align: right;\">\n",
       "      <th></th>\n",
       "      <th>SL</th>\n",
       "      <th>SW</th>\n",
       "      <th>PL</th>\n",
       "      <th>PW</th>\n",
       "    </tr>\n",
       "    <tr>\n",
       "      <th>Classification</th>\n",
       "      <th></th>\n",
       "      <th></th>\n",
       "      <th></th>\n",
       "      <th></th>\n",
       "    </tr>\n",
       "  </thead>\n",
       "  <tbody>\n",
       "    <tr>\n",
       "      <th>Iris-virginica</th>\n",
       "      <td>6.3</td>\n",
       "      <td>3.3</td>\n",
       "      <td>6.0</td>\n",
       "      <td>2.5</td>\n",
       "    </tr>\n",
       "    <tr>\n",
       "      <th>Iris-virginica</th>\n",
       "      <td>5.8</td>\n",
       "      <td>2.7</td>\n",
       "      <td>5.1</td>\n",
       "      <td>1.9</td>\n",
       "    </tr>\n",
       "    <tr>\n",
       "      <th>Iris-virginica</th>\n",
       "      <td>7.1</td>\n",
       "      <td>3.0</td>\n",
       "      <td>5.9</td>\n",
       "      <td>2.1</td>\n",
       "    </tr>\n",
       "    <tr>\n",
       "      <th>Iris-virginica</th>\n",
       "      <td>6.3</td>\n",
       "      <td>2.9</td>\n",
       "      <td>5.6</td>\n",
       "      <td>1.8</td>\n",
       "    </tr>\n",
       "    <tr>\n",
       "      <th>Iris-virginica</th>\n",
       "      <td>6.5</td>\n",
       "      <td>3.0</td>\n",
       "      <td>5.8</td>\n",
       "      <td>2.2</td>\n",
       "    </tr>\n",
       "  </tbody>\n",
       "</table>\n",
       "</div>"
      ],
      "text/plain": [
       "                 SL   SW   PL   PW\n",
       "Classification                    \n",
       "Iris-virginica  6.3  3.3  6.0  2.5\n",
       "Iris-virginica  5.8  2.7  5.1  1.9\n",
       "Iris-virginica  7.1  3.0  5.9  2.1\n",
       "Iris-virginica  6.3  2.9  5.6  1.8\n",
       "Iris-virginica  6.5  3.0  5.8  2.2"
      ]
     },
     "execution_count": 30,
     "metadata": {},
     "output_type": "execute_result"
    }
   ],
   "source": [
    "# displaying the first 5 rows of the DataFrame 'virg'\n",
    "virg.head()"
   ]
  },
  {
   "cell_type": "code",
   "execution_count": 127,
   "id": "38978381",
   "metadata": {},
   "outputs": [
    {
     "data": {
      "image/png": "[encoded data removed]",
      "text/plain": [
       "<Figure size 800x550 with 1 Axes>"
      ]
     },
     "metadata": {},
     "output_type": "display_data"
    }
   ],
   "source": [
    "# importing library\n",
    "import seaborn as sns\n",
    "\n",
    "# using style 'seaborn'\n",
    "plt.style.use('seaborn')\n",
    "\n",
    "# using boxplot() to plot boxplot\n",
    "# passing in 'df' DataFrame to the boxplot() and grouping the data of 'SL' based on 'Classification' then performing the calculations for each of the groups\n",
    "sns.boxplot(x='Classification', y = 'SL', data = df)\n",
    "\n",
    "# On the figure, for marking the title we use plt.title()\n",
    "plt.title(\"SL of (Iris-setosa, Iris-versicolor and Iris-virginica)\");\n"
   ]
  },
  {
   "cell_type": "code",
   "execution_count": 32,
   "id": "91623b26",
   "metadata": {},
   "outputs": [
    {
     "data": {
      "text/plain": [
       "Classification\n",
       "Iris-virginica    4.9\n",
       "Name: SL, dtype: float64"
      ]
     },
     "execution_count": 32,
     "metadata": {},
     "output_type": "execute_result"
    }
   ],
   "source": [
    "# to find the outlier present in 'SL' of Iris-virginica from the above figure\n",
    "# to select the value under 'SL' column where SL<5\n",
    "virg.loc[virg['SL']<5,'SL'] "
   ]
  },
  {
   "cell_type": "markdown",
   "id": "86a6735a",
   "metadata": {},
   "source": [
    "There is 1 outlier (4.9) present in the 'SL' data of Iris-virginica"
   ]
  },
  {
   "cell_type": "code",
   "execution_count": 33,
   "id": "2e0a36da",
   "metadata": {},
   "outputs": [
    {
     "data": {
      "text/plain": [
       "pandas.core.series.Series"
      ]
     },
     "execution_count": 33,
     "metadata": {},
     "output_type": "execute_result"
    }
   ],
   "source": [
    "type(virg.loc[virg['SL']<5,'SL'])"
   ]
  },
  {
   "cell_type": "code",
   "execution_count": 128,
   "id": "6917cf87",
   "metadata": {
    "scrolled": true
   },
   "outputs": [
    {
     "data": {
      "image/png": "[encoded data removed]",
      "text/plain": [
       "<Figure size 800x550 with 1 Axes>"
      ]
     },
     "metadata": {},
     "output_type": "display_data"
    }
   ],
   "source": [
    "# using boxplot() to plot boxplot\n",
    "# passing in 'df' DataFrame to the boxplot() and grouping the data of 'SW' based on 'Classification' then performing the calculations for each of the groups\n",
    "sns.boxplot(x='Classification', y = 'SW', data = df)\n",
    "\n",
    "# On the figure, for marking the title we use plt.title()\n",
    "plt.title(\"SW of (Iris-setosa, Iris-versicolor and Iris-virginica)\");\n"
   ]
  },
  {
   "cell_type": "code",
   "execution_count": 130,
   "id": "98c90fbf",
   "metadata": {},
   "outputs": [
    {
     "data": {
      "text/plain": [
       "Classification\n",
       "Iris-virginica    3.8\n",
       "Iris-virginica    3.8\n",
       "Name: SW, dtype: float64"
      ]
     },
     "execution_count": 130,
     "metadata": {},
     "output_type": "execute_result"
    }
   ],
   "source": [
    "# to find the outliers present in 'SW' of Iris-virginica from the above figure\n",
    "# to select the value under 'SW' column where SW>3.7\n",
    "virg.loc[virg['SW']>3.7,'SW'] "
   ]
  },
  {
   "cell_type": "code",
   "execution_count": 131,
   "id": "22a4036d",
   "metadata": {},
   "outputs": [
    {
     "data": {
      "text/plain": [
       "Classification\n",
       "Iris-virginica    2.2\n",
       "Name: SW, dtype: float64"
      ]
     },
     "execution_count": 131,
     "metadata": {},
     "output_type": "execute_result"
    }
   ],
   "source": [
    "# to select the value under 'SW' column where SW<2.5\n",
    "virg.loc[virg['SW']<2.5,'SW'] "
   ]
  },
  {
   "cell_type": "markdown",
   "id": "8d12b912",
   "metadata": {},
   "source": [
    "There are 3 outliers (3.8, 3.8, 2.2) present in the 'SW' data of Iris-virginica"
   ]
  },
  {
   "cell_type": "code",
   "execution_count": 132,
   "id": "341738b8",
   "metadata": {
    "scrolled": false
   },
   "outputs": [
    {
     "data": {
      "image/png": "[encoded data removed]",
      "text/plain": [
       "<Figure size 800x550 with 1 Axes>"
      ]
     },
     "metadata": {},
     "output_type": "display_data"
    }
   ],
   "source": [
    "# using boxplot() to plot boxplot\n",
    "# passing in 'df' DataFrame to the boxplot() and grouping the data of 'PL' based on 'Classification' then performing the calculations for each of the groups\n",
    "sns.boxplot(x='Classification', y = 'PL', data = df)\n",
    "\n",
    "# On the figure, for marking the title we use plt.title()\n",
    "plt.title(\"PL of (Iris-setosa, Iris-versicolor and Iris-virginica)\");"
   ]
  },
  {
   "cell_type": "code",
   "execution_count": 134,
   "id": "cbeb205a",
   "metadata": {},
   "outputs": [
    {
     "data": {
      "text/plain": [
       "Classification\n",
       "Iris-setosa    1.9\n",
       "Iris-setosa    1.9\n",
       "Name: PL, dtype: float64"
      ]
     },
     "execution_count": 134,
     "metadata": {},
     "output_type": "execute_result"
    }
   ],
   "source": [
    "# to find the outliers present in 'PL' of Iris-setosa from the above figure\n",
    "# to select the value under 'PL' column where PL>1.8\n",
    "seto.loc[seto['PL']>1.8,'PL'] "
   ]
  },
  {
   "cell_type": "code",
   "execution_count": 136,
   "id": "c8207c5d",
   "metadata": {},
   "outputs": [
    {
     "data": {
      "text/plain": [
       "Classification\n",
       "Iris-setosa    1.1\n",
       "Iris-setosa    1.0\n",
       "Name: PL, dtype: float64"
      ]
     },
     "execution_count": 136,
     "metadata": {},
     "output_type": "execute_result"
    }
   ],
   "source": [
    "# to select the value under 'PL' column where PL<1.2\n",
    "seto.loc[seto['PL']<1.2,'PL'] "
   ]
  },
  {
   "cell_type": "markdown",
   "id": "2bb68bde",
   "metadata": {},
   "source": [
    "There are 4 outliers (1.9, 1.9, 1.1, 1.0) present in the 'PL' data of Iris-setosa"
   ]
  },
  {
   "cell_type": "code",
   "execution_count": 125,
   "id": "67399c34",
   "metadata": {},
   "outputs": [
    {
     "data": {
      "image/png": "[encoded data removed]",
      "text/plain": [
       "<Figure size 800x550 with 1 Axes>"
      ]
     },
     "metadata": {},
     "output_type": "display_data"
    }
   ],
   "source": [
    "# using boxplot() to plot boxplot\n",
    "# passing in 'df' DataFrame to the boxplot() and grouping the data of 'PW' based on 'Classification' then performing the calculations for each of the groups\n",
    "sns.boxplot(x='Classification', y = 'PW', data = df);\n",
    "\n",
    "# On the figure, for marking the title we use plt.title()\n",
    "plt.title(\"PW of (Iris-setosa, Iris-versicolor and Iris-virginica)\");\n",
    "\n"
   ]
  },
  {
   "cell_type": "code",
   "execution_count": 137,
   "id": "7197ba7e",
   "metadata": {},
   "outputs": [
    {
     "data": {
      "text/plain": [
       "Classification\n",
       "Iris-setosa    0.5\n",
       "Iris-setosa    0.6\n",
       "Name: PW, dtype: float64"
      ]
     },
     "execution_count": 137,
     "metadata": {},
     "output_type": "execute_result"
    }
   ],
   "source": [
    "# to find the outliers present in 'PW' of Iris-setosa from the above figure\n",
    "# to select the value under 'PW' column where PW>=0.5\n",
    "seto.loc[seto['PW']>=0.5,'PW'] "
   ]
  },
  {
   "cell_type": "markdown",
   "id": "1eebc448",
   "metadata": {},
   "source": [
    "There are 2 outliers (0.5, 0.6) present in the 'PW' data of Iris-setosa"
   ]
  },
  {
   "cell_type": "code",
   "execution_count": 4,
   "id": "6c0ab16d",
   "metadata": {},
   "outputs": [],
   "source": [
    "#grouping the DataFrame 'df' by 'Classification' and applying agg() to find the min, max, mean and assigning to DataFrame 'graph1'\n",
    "graph1 = df.groupby(['Classification']).agg(['min','max','mean'])\n"
   ]
  },
  {
   "cell_type": "code",
   "execution_count": 5,
   "id": "ca89187f",
   "metadata": {},
   "outputs": [
    {
     "data": {
      "text/html": [
       "<div>\n",
       "<style scoped>\n",
       "    .dataframe tbody tr th:only-of-type {\n",
       "        vertical-align: middle;\n",
       "    }\n",
       "\n",
       "    .dataframe tbody tr th {\n",
       "        vertical-align: top;\n",
       "    }\n",
       "\n",
       "    .dataframe thead tr th {\n",
       "        text-align: left;\n",
       "    }\n",
       "\n",
       "    .dataframe thead tr:last-of-type th {\n",
       "        text-align: right;\n",
       "    }\n",
       "</style>\n",
       "<table border=\"1\" class=\"dataframe\">\n",
       "  <thead>\n",
       "    <tr>\n",
       "      <th></th>\n",
       "      <th colspan=\"3\" halign=\"left\">SL</th>\n",
       "      <th colspan=\"3\" halign=\"left\">SW</th>\n",
       "      <th colspan=\"3\" halign=\"left\">PL</th>\n",
       "      <th colspan=\"3\" halign=\"left\">PW</th>\n",
       "    </tr>\n",
       "    <tr>\n",
       "      <th></th>\n",
       "      <th>min</th>\n",
       "      <th>max</th>\n",
       "      <th>mean</th>\n",
       "      <th>min</th>\n",
       "      <th>max</th>\n",
       "      <th>mean</th>\n",
       "      <th>min</th>\n",
       "      <th>max</th>\n",
       "      <th>mean</th>\n",
       "      <th>min</th>\n",
       "      <th>max</th>\n",
       "      <th>mean</th>\n",
       "    </tr>\n",
       "    <tr>\n",
       "      <th>Classification</th>\n",
       "      <th></th>\n",
       "      <th></th>\n",
       "      <th></th>\n",
       "      <th></th>\n",
       "      <th></th>\n",
       "      <th></th>\n",
       "      <th></th>\n",
       "      <th></th>\n",
       "      <th></th>\n",
       "      <th></th>\n",
       "      <th></th>\n",
       "      <th></th>\n",
       "    </tr>\n",
       "  </thead>\n",
       "  <tbody>\n",
       "    <tr>\n",
       "      <th>Iris-setosa</th>\n",
       "      <td>4.3</td>\n",
       "      <td>5.8</td>\n",
       "      <td>5.006</td>\n",
       "      <td>2.3</td>\n",
       "      <td>4.4</td>\n",
       "      <td>3.418</td>\n",
       "      <td>1.0</td>\n",
       "      <td>1.9</td>\n",
       "      <td>1.464</td>\n",
       "      <td>0.1</td>\n",
       "      <td>0.6</td>\n",
       "      <td>0.244</td>\n",
       "    </tr>\n",
       "    <tr>\n",
       "      <th>Iris-versicolor</th>\n",
       "      <td>4.9</td>\n",
       "      <td>7.0</td>\n",
       "      <td>5.936</td>\n",
       "      <td>2.0</td>\n",
       "      <td>3.4</td>\n",
       "      <td>2.770</td>\n",
       "      <td>3.0</td>\n",
       "      <td>5.1</td>\n",
       "      <td>4.260</td>\n",
       "      <td>1.0</td>\n",
       "      <td>1.8</td>\n",
       "      <td>1.326</td>\n",
       "    </tr>\n",
       "    <tr>\n",
       "      <th>Iris-virginica</th>\n",
       "      <td>4.9</td>\n",
       "      <td>7.9</td>\n",
       "      <td>6.588</td>\n",
       "      <td>2.2</td>\n",
       "      <td>3.8</td>\n",
       "      <td>2.974</td>\n",
       "      <td>4.5</td>\n",
       "      <td>6.9</td>\n",
       "      <td>5.552</td>\n",
       "      <td>1.4</td>\n",
       "      <td>2.5</td>\n",
       "      <td>2.026</td>\n",
       "    </tr>\n",
       "  </tbody>\n",
       "</table>\n",
       "</div>"
      ],
      "text/plain": [
       "                  SL               SW               PL               PW       \\\n",
       "                 min  max   mean  min  max   mean  min  max   mean  min  max   \n",
       "Classification                                                                 \n",
       "Iris-setosa      4.3  5.8  5.006  2.3  4.4  3.418  1.0  1.9  1.464  0.1  0.6   \n",
       "Iris-versicolor  4.9  7.0  5.936  2.0  3.4  2.770  3.0  5.1  4.260  1.0  1.8   \n",
       "Iris-virginica   4.9  7.9  6.588  2.2  3.8  2.974  4.5  6.9  5.552  1.4  2.5   \n",
       "\n",
       "                        \n",
       "                  mean  \n",
       "Classification          \n",
       "Iris-setosa      0.244  \n",
       "Iris-versicolor  1.326  \n",
       "Iris-virginica   2.026  "
      ]
     },
     "execution_count": 5,
     "metadata": {},
     "output_type": "execute_result"
    }
   ],
   "source": [
    "# displaying the first 5 rows of the DataFrame 'graph1'\n",
    "graph1.head()"
   ]
  },
  {
   "cell_type": "code",
   "execution_count": 8,
   "id": "56fc109e",
   "metadata": {},
   "outputs": [],
   "source": [
    "#grouping the DataFrame 'df' by 'Classification' and applying agg() to find the std, var and assigning to DataFrame 'graph2\n",
    "graph2 = df.groupby(['Classification']).agg(['std','var'])\n"
   ]
  },
  {
   "cell_type": "code",
   "execution_count": 7,
   "id": "057e0ff1",
   "metadata": {},
   "outputs": [
    {
     "data": {
      "text/html": [
       "<div>\n",
       "<style scoped>\n",
       "    .dataframe tbody tr th:only-of-type {\n",
       "        vertical-align: middle;\n",
       "    }\n",
       "\n",
       "    .dataframe tbody tr th {\n",
       "        vertical-align: top;\n",
       "    }\n",
       "\n",
       "    .dataframe thead tr th {\n",
       "        text-align: left;\n",
       "    }\n",
       "\n",
       "    .dataframe thead tr:last-of-type th {\n",
       "        text-align: right;\n",
       "    }\n",
       "</style>\n",
       "<table border=\"1\" class=\"dataframe\">\n",
       "  <thead>\n",
       "    <tr>\n",
       "      <th></th>\n",
       "      <th colspan=\"2\" halign=\"left\">SL</th>\n",
       "      <th colspan=\"2\" halign=\"left\">SW</th>\n",
       "      <th colspan=\"2\" halign=\"left\">PL</th>\n",
       "      <th colspan=\"2\" halign=\"left\">PW</th>\n",
       "    </tr>\n",
       "    <tr>\n",
       "      <th></th>\n",
       "      <th>std</th>\n",
       "      <th>var</th>\n",
       "      <th>std</th>\n",
       "      <th>var</th>\n",
       "      <th>std</th>\n",
       "      <th>var</th>\n",
       "      <th>std</th>\n",
       "      <th>var</th>\n",
       "    </tr>\n",
       "    <tr>\n",
       "      <th>Classification</th>\n",
       "      <th></th>\n",
       "      <th></th>\n",
       "      <th></th>\n",
       "      <th></th>\n",
       "      <th></th>\n",
       "      <th></th>\n",
       "      <th></th>\n",
       "      <th></th>\n",
       "    </tr>\n",
       "  </thead>\n",
       "  <tbody>\n",
       "    <tr>\n",
       "      <th>Iris-setosa</th>\n",
       "      <td>0.352490</td>\n",
       "      <td>0.124249</td>\n",
       "      <td>0.381024</td>\n",
       "      <td>0.145180</td>\n",
       "      <td>0.173511</td>\n",
       "      <td>0.030106</td>\n",
       "      <td>0.107210</td>\n",
       "      <td>0.011494</td>\n",
       "    </tr>\n",
       "    <tr>\n",
       "      <th>Iris-versicolor</th>\n",
       "      <td>0.516171</td>\n",
       "      <td>0.266433</td>\n",
       "      <td>0.313798</td>\n",
       "      <td>0.098469</td>\n",
       "      <td>0.469911</td>\n",
       "      <td>0.220816</td>\n",
       "      <td>0.197753</td>\n",
       "      <td>0.039106</td>\n",
       "    </tr>\n",
       "    <tr>\n",
       "      <th>Iris-virginica</th>\n",
       "      <td>0.635880</td>\n",
       "      <td>0.404343</td>\n",
       "      <td>0.322497</td>\n",
       "      <td>0.104004</td>\n",
       "      <td>0.551895</td>\n",
       "      <td>0.304588</td>\n",
       "      <td>0.274650</td>\n",
       "      <td>0.075433</td>\n",
       "    </tr>\n",
       "  </tbody>\n",
       "</table>\n",
       "</div>"
      ],
      "text/plain": [
       "                       SL                  SW                  PL            \\\n",
       "                      std       var       std       var       std       var   \n",
       "Classification                                                                \n",
       "Iris-setosa      0.352490  0.124249  0.381024  0.145180  0.173511  0.030106   \n",
       "Iris-versicolor  0.516171  0.266433  0.313798  0.098469  0.469911  0.220816   \n",
       "Iris-virginica   0.635880  0.404343  0.322497  0.104004  0.551895  0.304588   \n",
       "\n",
       "                       PW            \n",
       "                      std       var  \n",
       "Classification                       \n",
       "Iris-setosa      0.107210  0.011494  \n",
       "Iris-versicolor  0.197753  0.039106  \n",
       "Iris-virginica   0.274650  0.075433  "
      ]
     },
     "execution_count": 7,
     "metadata": {},
     "output_type": "execute_result"
    }
   ],
   "source": [
    "# displaying the first 5 rows of the DataFrame 'graph2'\n",
    "graph2.head()"
   ]
  },
  {
   "cell_type": "markdown",
   "id": "1aec8299",
   "metadata": {},
   "source": [
    "From the above boxplots and Dataframes 'graph1, graph2' shown above:\n",
    "* Iris-virginica is having a larger SL mean value (6.588) than  Iris-setosa and Iris-versicolor\n",
    "* Iris-setosa is having a larger SW mean value value (3.418) than  Iris-virginica and Iris-versicolor\n",
    "* Iris-setosa is having the smallest PL mean value (1.464) and PW mean value (mean = 0.244) than Iris-versicolor and Iris-virginica\n",
    "* Maximum variance (0.404343) is found for 'SL' of Iris-virginica which indicates that data (SL of Iris-virginica) is spread out from the mean, and from one another.\n",
    "* Maximum standard deviation (0.635880) is found for 'SL' of Iris-virginica which indicates that data (SL of Iris-virginica) are spread out over a wider range from the mean.\n",
    "* Minimum standard deviation (0.011494) is found for 'PW' of Iris-setosa which indicates that data (PW of Iris-setosa) tend to be close to the mean."
   ]
  },
  {
   "cell_type": "markdown",
   "id": "c367059d",
   "metadata": {},
   "source": [
    "#### (iii)  BAR PLOT"
   ]
  },
  {
   "cell_type": "code",
   "execution_count": 93,
   "id": "0004c2a7",
   "metadata": {},
   "outputs": [
    {
     "data": {
      "image/png": "[encoded data removed]",
      "text/plain": [
       "<Figure size 1100x1400 with 1 Axes>"
      ]
     },
     "metadata": {},
     "output_type": "display_data"
    }
   ],
   "source": [
    "# to generate Grouped bar plot for SL\n",
    "\n",
    "# using style 'seaborn'\n",
    "plt.style.use('seaborn')\n",
    "\n",
    "# define the size of the plot which represents width and height of the figure in inches \n",
    "plt.figure(figsize=(11,17))\n",
    "\n",
    "\n",
    "#to create a horizontal bar plot displaying value counts for 2 variables 'Classification' and 'SL'\n",
    "sns.countplot(y = 'SL', hue = 'Classification', data = df)\n",
    "\n",
    "# On the graph, for marking the title we use plt.title(), with font size as 15\n",
    "plt.title(\"Count of data of SL for (Iris-setosa, Iris-versicolor and Iris-virginica)\", fontsize = 15);\n",
    "\n",
    "# Place a legend on the 'upper right' corresponding to the corner of the axes/figure, with font size as 12\n",
    "plt.legend(loc='upper right', fontsize = 12); \n",
    "\n",
    "# set the labels on the x-axis with fontsize = 12. \n",
    "plt.xticks(fontsize = 12);\n",
    "\n",
    "# set the labels on the y-axis with fontsize = 12.\n",
    "plt.yticks(fontsize = 12);"
   ]
  },
  {
   "cell_type": "markdown",
   "id": "4b9880ed",
   "metadata": {},
   "source": [
    "From the above bar plot for SL,\n",
    "\n",
    "*) for Iris-setosa:\n",
    "- 8 of the data sets are having a common SL value of 5\n",
    "- 8 of the data sets are having a common SL value of 5.1\n",
    "\n",
    "*) for Iris-versicolor:\n",
    "- 5 of the data sets are having a common SL value of 5.5\n",
    "- 5 of the data sets are having a common SL value of 5.6\n",
    "- 5 of the data sets are having a common SL value of 5.7 \n",
    "\n",
    "*) for Iris-virginica:\n",
    "- 6 of the data sets are having a common SL value of 6.3"
   ]
  },
  {
   "cell_type": "code",
   "execution_count": 139,
   "id": "6a5b861f",
   "metadata": {},
   "outputs": [
    {
     "data": {
      "image/png": "[encoded data removed]",
      "text/plain": [
       "<Figure size 1100x1700 with 1 Axes>"
      ]
     },
     "metadata": {},
     "output_type": "display_data"
    }
   ],
   "source": [
    "# to generate Grouped bar plot for PL\n",
    "\n",
    "# using style 'seaborn'\n",
    "plt.style.use('seaborn')\n",
    "\n",
    "# define the size of the plot which represents width and height of the figure in inches \n",
    "plt.figure(figsize=(11,17))\n",
    "\n",
    "\n",
    "#to create a horizontal bar plot displaying value counts for 2 variables 'Classification' and 'PL'\n",
    "sns.countplot(y = 'PL', hue = 'Classification', data = df)\n",
    "\n",
    "# On the graph, for marking the title we use plt.title(), with font size as 15\n",
    "plt.title(\"Count of data of PL for (Iris-setosa, Iris-versicolor and Iris-virginica)\", fontsize = 15);\n",
    "\n",
    "# Place a legend on the 'upper right' corresponding to the corner of the axes/figure, with font size as 12\n",
    "plt.legend(loc='upper right', fontsize = 12); \n",
    "\n",
    "# set the labels on the x-axis with fontsize = 12. \n",
    "plt.xticks(fontsize = 12);\n",
    "\n",
    "# set the labels on the y-axis with fontsize = 12.\n",
    "plt.yticks(fontsize = 12);"
   ]
  },
  {
   "cell_type": "markdown",
   "id": "2f28f2d5",
   "metadata": {},
   "source": [
    "From the above bar plot for PL,\n",
    "\n",
    "*) for Iris-setosa, \n",
    "- 14 of the data sets are having a common PL value of 1.5\n",
    "\n",
    "*) for Iris-versicolor, \n",
    "- 7 of the data sets are having a common PL value of 4.5\n",
    "\n",
    "*) for Iris-virginica, \n",
    "- 7 of the data sets are having a common PL value of 5.1"
   ]
  },
  {
   "cell_type": "code",
   "execution_count": 140,
   "id": "fd253869",
   "metadata": {},
   "outputs": [
    {
     "data": {
      "image/png": "[encoded data removed]",
      "text/plain": [
       "<Figure size 1100x1700 with 1 Axes>"
      ]
     },
     "metadata": {},
     "output_type": "display_data"
    }
   ],
   "source": [
    "# to generate Grouped bar plot for SW\n",
    "\n",
    "# using style 'seaborn'\n",
    "plt.style.use('seaborn')\n",
    "\n",
    "# define the size of the plot which represents width and height of the figure in inches \n",
    "plt.figure(figsize=(11,17))\n",
    "\n",
    "\n",
    "#to create a horizontal bar plot displaying value counts for 2 variables 'Classification' and 'SW'\n",
    "sns.countplot(y = 'SW', hue = 'Classification', data = df)\n",
    "\n",
    "# On the graph, for marking the title we use plt.title(), with font size as 15\n",
    "plt.title(\"Count of data of SW for (Iris-setosa, Iris-versicolor and Iris-virginica)\", fontsize = 15);\n",
    "\n",
    "# Place a legend on the 'upper right' corresponding to the corner of the axes/figure, , with font size as 12\n",
    "plt.legend(loc='upper right', fontsize = 12); \n",
    "\n",
    "# set the labels on the x-axis with fontsize = 12. \n",
    "plt.xticks(fontsize = 12);\n",
    "\n",
    "# set the labels on the y-axis with fontsize = 12.\n",
    "plt.yticks(fontsize = 12);"
   ]
  },
  {
   "cell_type": "markdown",
   "id": "29aa31e5",
   "metadata": {},
   "source": [
    "From the above bar plot for SW,\n",
    "\n",
    "*) for Iris-setosa, \n",
    "- 9 of the data sets are having a common SW value of 3.4\n",
    "\n",
    "*) for Iris-versicolor, \n",
    "- 8 of the data sets are having a common SW value of 3.0\n",
    "\n",
    "*) for Iris-virginica, \n",
    "- 12 of the data sets are having a common SW value of 3.0 "
   ]
  },
  {
   "cell_type": "code",
   "execution_count": 141,
   "id": "4978dcca",
   "metadata": {},
   "outputs": [
    {
     "data": {
      "image/png": "[encoded data removed]",
      "text/plain": [
       "<Figure size 1100x1700 with 1 Axes>"
      ]
     },
     "metadata": {},
     "output_type": "display_data"
    }
   ],
   "source": [
    "# to generate Grouped bar plot for PW\n",
    "\n",
    "# using style 'seaborn'\n",
    "plt.style.use('seaborn')\n",
    "\n",
    "# define the size of the plot which represents width and height of the figure in inches \n",
    "plt.figure(figsize=(11,17))\n",
    "\n",
    "\n",
    "#to create a horizontal bar plot displaying value counts for 2 variables 'Classification' and 'PW'\n",
    "sns.countplot(y = 'PW', hue = 'Classification', data = df)\n",
    "\n",
    "# On the graph, for marking the title we use plt.title(), with font size as 15\n",
    "plt.title(\"Count of data of PW for (Iris-setosa, Iris-versicolor and Iris-virginica)\", fontsize = 15);\n",
    "\n",
    "# Place a legend on the 'lower right' corresponding to the corner of the axes/figure, with font size as 12\n",
    "plt.legend(loc='lower right', fontsize = 12); \n",
    "\n",
    "# set the labels on the x-axis with fontsize = 12. \n",
    "plt.xticks(fontsize = 12);\n",
    "\n",
    "# set the labels on the y-axis with fontsize = 12.\n",
    "plt.yticks(fontsize = 12);"
   ]
  },
  {
   "cell_type": "markdown",
   "id": "253664fe",
   "metadata": {},
   "source": [
    "From the above bar plot for PW,\n",
    "\n",
    "*) for Iris-setosa, \n",
    "-  28 of the data sets are having a common PW value of 0.2\n",
    "\n",
    "*) for Iris-versicolor, \n",
    "- 13 of the data sets are having a common PW value of 1.3\n",
    "\n",
    "*) for Iris-virginica, \n",
    "-  11 of the data sets are having a common PW value of 1.8"
   ]
  },
  {
   "cell_type": "code",
   "execution_count": 113,
   "id": "9ebe50fe",
   "metadata": {},
   "outputs": [
    {
     "data": {
      "text/plain": [
       "0.2    28\n",
       "0.4     7\n",
       "0.3     7\n",
       "0.1     6\n",
       "0.5     1\n",
       "0.6     1\n",
       "Name: PW, dtype: int64"
      ]
     },
     "execution_count": 113,
     "metadata": {},
     "output_type": "execute_result"
    }
   ],
   "source": [
    "# to find the frequencies of the values present in the column 'PW' for Iris-setosa\n",
    "seto.PW.value_counts()"
   ]
  },
  {
   "cell_type": "code",
   "execution_count": 114,
   "id": "c4b5692a",
   "metadata": {},
   "outputs": [
    {
     "data": {
      "text/plain": [
       "1.3    13\n",
       "1.5    10\n",
       "1.4     7\n",
       "1.0     7\n",
       "1.2     5\n",
       "1.6     3\n",
       "1.1     3\n",
       "1.8     1\n",
       "1.7     1\n",
       "Name: PW, dtype: int64"
      ]
     },
     "execution_count": 114,
     "metadata": {},
     "output_type": "execute_result"
    }
   ],
   "source": [
    "# to find the frequencies of the values present in the column 'PW' for Iris-versicolor\n",
    "ver.PW.value_counts()"
   ]
  },
  {
   "cell_type": "code",
   "execution_count": 115,
   "id": "f0365e32",
   "metadata": {},
   "outputs": [
    {
     "data": {
      "text/plain": [
       "1.8    11\n",
       "2.3     8\n",
       "2.1     6\n",
       "2.0     6\n",
       "1.9     5\n",
       "2.5     3\n",
       "2.2     3\n",
       "2.4     3\n",
       "1.5     2\n",
       "1.7     1\n",
       "1.6     1\n",
       "1.4     1\n",
       "Name: PW, dtype: int64"
      ]
     },
     "execution_count": 115,
     "metadata": {},
     "output_type": "execute_result"
    }
   ],
   "source": [
    "# to find the frequencies of the values present in the column 'PW' for Iris-virginica\n",
    "virg.PW.value_counts()"
   ]
  }
 ],
 "metadata": {
  "kernelspec": {
   "display_name": "Python 3 (ipykernel)",
   "language": "python",
   "name": "python3"
  },
  "language_info": {
   "codemirror_mode": {
    "name": "ipython",
    "version": 3
   },
   "file_extension": ".py",
   "mimetype": "text/x-python",
   "name": "python",
   "nbconvert_exporter": "python",
   "pygments_lexer": "ipython3",
   "version": "3.9.13"
  }
 },
 "nbformat": 4,
 "nbformat_minor": 5
}
