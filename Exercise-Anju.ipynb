{
 "cells": [
  {
   "cell_type": "code",
   "execution_count": 46,
   "id": "2bed4a94",
   "metadata": {},
   "outputs": [],
   "source": [
    "# importing libraries\n",
    "import pandas as pd\n",
    "import numpy as np\n",
    "import matplotlib.pyplot as plt\n",
    "import seaborn as sns"
   ]
  },
  {
   "cell_type": "code",
   "execution_count": 47,
   "id": "de29d391",
   "metadata": {},
   "outputs": [],
   "source": [
    "exercise = pd.read_excel('C:/Users/Lenovo/NORKA/09th december/DATA/E-commerce.xlsx')"
   ]
  },
  {
   "cell_type": "code",
   "execution_count": 48,
   "id": "31dbc36e",
   "metadata": {},
   "outputs": [
    {
     "data": {
      "text/html": [
       "<div>\n",
       "<style scoped>\n",
       "    .dataframe tbody tr th:only-of-type {\n",
       "        vertical-align: middle;\n",
       "    }\n",
       "\n",
       "    .dataframe tbody tr th {\n",
       "        vertical-align: top;\n",
       "    }\n",
       "\n",
       "    .dataframe thead th {\n",
       "        text-align: right;\n",
       "    }\n",
       "</style>\n",
       "<table border=\"1\" class=\"dataframe\">\n",
       "  <thead>\n",
       "    <tr style=\"text-align: right;\">\n",
       "      <th></th>\n",
       "      <th>server_time</th>\n",
       "      <th>device_type</th>\n",
       "      <th>user_id</th>\n",
       "      <th>session_id</th>\n",
       "      <th>item_id</th>\n",
       "      <th>item_price</th>\n",
       "      <th>category</th>\n",
       "      <th>product_type</th>\n",
       "      <th>impression_time</th>\n",
       "      <th>app_code</th>\n",
       "      <th>os_version</th>\n",
       "      <th>is_4G</th>\n",
       "      <th>is_click</th>\n",
       "    </tr>\n",
       "  </thead>\n",
       "  <tbody>\n",
       "    <tr>\n",
       "      <th>0</th>\n",
       "      <td>2018-10-18 14:27:00</td>\n",
       "      <td>android</td>\n",
       "      <td>87862.0</td>\n",
       "      <td>268465.0</td>\n",
       "      <td>44459.0</td>\n",
       "      <td>4602.0</td>\n",
       "      <td>11.0</td>\n",
       "      <td>3040.0</td>\n",
       "      <td>2018-11-15 00:00:00</td>\n",
       "      <td>422.0</td>\n",
       "      <td>old</td>\n",
       "      <td>0</td>\n",
       "      <td>0</td>\n",
       "    </tr>\n",
       "    <tr>\n",
       "      <th>1</th>\n",
       "      <td>2018-10-18 14:27:00</td>\n",
       "      <td>android</td>\n",
       "      <td>63410.0</td>\n",
       "      <td>268465.0</td>\n",
       "      <td>44459.0</td>\n",
       "      <td>3513.0</td>\n",
       "      <td>12.0</td>\n",
       "      <td>6822.0</td>\n",
       "      <td>2018-11-15 00:01:00</td>\n",
       "      <td>467.0</td>\n",
       "      <td>latest</td>\n",
       "      <td>1</td>\n",
       "      <td>1</td>\n",
       "    </tr>\n",
       "    <tr>\n",
       "      <th>2</th>\n",
       "      <td>2018-10-18 14:43:00</td>\n",
       "      <td>android</td>\n",
       "      <td>71748.0</td>\n",
       "      <td>268465.0</td>\n",
       "      <td>44459.0</td>\n",
       "      <td>825.0</td>\n",
       "      <td>17.0</td>\n",
       "      <td>1619.0</td>\n",
       "      <td>2018-11-15 00:02:00</td>\n",
       "      <td>259.0</td>\n",
       "      <td>intermediate</td>\n",
       "      <td>1</td>\n",
       "      <td>0</td>\n",
       "    </tr>\n",
       "    <tr>\n",
       "      <th>3</th>\n",
       "      <td>2018-10-18 14:46:00</td>\n",
       "      <td>android</td>\n",
       "      <td>69209.0</td>\n",
       "      <td>268465.0</td>\n",
       "      <td>44459.0</td>\n",
       "      <td>2355.0</td>\n",
       "      <td>13.0</td>\n",
       "      <td>5264.0</td>\n",
       "      <td>2018-11-15 00:02:00</td>\n",
       "      <td>244.0</td>\n",
       "      <td>latest</td>\n",
       "      <td>1</td>\n",
       "      <td>0</td>\n",
       "    </tr>\n",
       "    <tr>\n",
       "      <th>4</th>\n",
       "      <td>2018-10-18 14:46:00</td>\n",
       "      <td>android</td>\n",
       "      <td>62873.0</td>\n",
       "      <td>268465.0</td>\n",
       "      <td>44459.0</td>\n",
       "      <td>1267.0</td>\n",
       "      <td>17.0</td>\n",
       "      <td>10239.0</td>\n",
       "      <td>2018-11-15 00:02:00</td>\n",
       "      <td>473.0</td>\n",
       "      <td>latest</td>\n",
       "      <td>0</td>\n",
       "      <td>0</td>\n",
       "    </tr>\n",
       "  </tbody>\n",
       "</table>\n",
       "</div>"
      ],
      "text/plain": [
       "          server_time device_type  user_id  session_id  item_id  item_price  \\\n",
       "0 2018-10-18 14:27:00     android  87862.0    268465.0  44459.0      4602.0   \n",
       "1 2018-10-18 14:27:00     android  63410.0    268465.0  44459.0      3513.0   \n",
       "2 2018-10-18 14:43:00     android  71748.0    268465.0  44459.0       825.0   \n",
       "3 2018-10-18 14:46:00     android  69209.0    268465.0  44459.0      2355.0   \n",
       "4 2018-10-18 14:46:00     android  62873.0    268465.0  44459.0      1267.0   \n",
       "\n",
       "   category  product_type     impression_time  app_code    os_version  is_4G  \\\n",
       "0      11.0        3040.0 2018-11-15 00:00:00     422.0           old      0   \n",
       "1      12.0        6822.0 2018-11-15 00:01:00     467.0        latest      1   \n",
       "2      17.0        1619.0 2018-11-15 00:02:00     259.0  intermediate      1   \n",
       "3      13.0        5264.0 2018-11-15 00:02:00     244.0        latest      1   \n",
       "4      17.0       10239.0 2018-11-15 00:02:00     473.0        latest      0   \n",
       "\n",
       "   is_click  \n",
       "0         0  \n",
       "1         1  \n",
       "2         0  \n",
       "3         0  \n",
       "4         0  "
      ]
     },
     "execution_count": 48,
     "metadata": {},
     "output_type": "execute_result"
    }
   ],
   "source": [
    "exercise.head()"
   ]
  },
  {
   "cell_type": "code",
   "execution_count": 49,
   "id": "2d9d881d",
   "metadata": {},
   "outputs": [
    {
     "data": {
      "text/plain": [
       "(2025, 13)"
      ]
     },
     "execution_count": 49,
     "metadata": {},
     "output_type": "execute_result"
    }
   ],
   "source": [
    "exercise.shape"
   ]
  },
  {
   "cell_type": "code",
   "execution_count": 50,
   "id": "bf0d6c2b",
   "metadata": {},
   "outputs": [
    {
     "data": {
      "text/plain": [
       "server_time        datetime64[ns]\n",
       "device_type                object\n",
       "user_id                   float64\n",
       "session_id                float64\n",
       "item_id                   float64\n",
       "item_price                float64\n",
       "category                  float64\n",
       "product_type              float64\n",
       "impression_time    datetime64[ns]\n",
       "app_code                  float64\n",
       "os_version                 object\n",
       "is_4G                       int64\n",
       "is_click                    int64\n",
       "dtype: object"
      ]
     },
     "execution_count": 50,
     "metadata": {},
     "output_type": "execute_result"
    }
   ],
   "source": [
    "exercise.dtypes # checking the column types"
   ]
  },
  {
   "cell_type": "code",
   "execution_count": 51,
   "id": "025056cf",
   "metadata": {},
   "outputs": [
    {
     "data": {
      "text/plain": [
       "server_time        0\n",
       "device_type        0\n",
       "user_id            3\n",
       "session_id         1\n",
       "item_id            2\n",
       "item_price         1\n",
       "category           6\n",
       "product_type       1\n",
       "impression_time    0\n",
       "app_code           1\n",
       "os_version         9\n",
       "is_4G              0\n",
       "is_click           0\n",
       "dtype: int64"
      ]
     },
     "execution_count": 51,
     "metadata": {},
     "output_type": "execute_result"
    }
   ],
   "source": [
    "exercise.isnull().sum() # to find the number of null values in each column"
   ]
  },
  {
   "cell_type": "code",
   "execution_count": 52,
   "id": "f964a48c",
   "metadata": {},
   "outputs": [],
   "source": [
    "# including all the columns with data types as float\n",
    "freqgraph = exercise.select_dtypes(include=['float'])"
   ]
  },
  {
   "cell_type": "code",
   "execution_count": 53,
   "id": "36ce7f14",
   "metadata": {},
   "outputs": [
    {
     "data": {
      "text/html": [
       "<div>\n",
       "<style scoped>\n",
       "    .dataframe tbody tr th:only-of-type {\n",
       "        vertical-align: middle;\n",
       "    }\n",
       "\n",
       "    .dataframe tbody tr th {\n",
       "        vertical-align: top;\n",
       "    }\n",
       "\n",
       "    .dataframe thead th {\n",
       "        text-align: right;\n",
       "    }\n",
       "</style>\n",
       "<table border=\"1\" class=\"dataframe\">\n",
       "  <thead>\n",
       "    <tr style=\"text-align: right;\">\n",
       "      <th></th>\n",
       "      <th>user_id</th>\n",
       "      <th>session_id</th>\n",
       "      <th>item_id</th>\n",
       "      <th>item_price</th>\n",
       "      <th>category</th>\n",
       "      <th>product_type</th>\n",
       "      <th>app_code</th>\n",
       "    </tr>\n",
       "  </thead>\n",
       "  <tbody>\n",
       "    <tr>\n",
       "      <th>0</th>\n",
       "      <td>87862.0</td>\n",
       "      <td>268465.0</td>\n",
       "      <td>44459.0</td>\n",
       "      <td>4602.0</td>\n",
       "      <td>11.0</td>\n",
       "      <td>3040.0</td>\n",
       "      <td>422.0</td>\n",
       "    </tr>\n",
       "    <tr>\n",
       "      <th>1</th>\n",
       "      <td>63410.0</td>\n",
       "      <td>268465.0</td>\n",
       "      <td>44459.0</td>\n",
       "      <td>3513.0</td>\n",
       "      <td>12.0</td>\n",
       "      <td>6822.0</td>\n",
       "      <td>467.0</td>\n",
       "    </tr>\n",
       "    <tr>\n",
       "      <th>2</th>\n",
       "      <td>71748.0</td>\n",
       "      <td>268465.0</td>\n",
       "      <td>44459.0</td>\n",
       "      <td>825.0</td>\n",
       "      <td>17.0</td>\n",
       "      <td>1619.0</td>\n",
       "      <td>259.0</td>\n",
       "    </tr>\n",
       "    <tr>\n",
       "      <th>3</th>\n",
       "      <td>69209.0</td>\n",
       "      <td>268465.0</td>\n",
       "      <td>44459.0</td>\n",
       "      <td>2355.0</td>\n",
       "      <td>13.0</td>\n",
       "      <td>5264.0</td>\n",
       "      <td>244.0</td>\n",
       "    </tr>\n",
       "    <tr>\n",
       "      <th>4</th>\n",
       "      <td>62873.0</td>\n",
       "      <td>268465.0</td>\n",
       "      <td>44459.0</td>\n",
       "      <td>1267.0</td>\n",
       "      <td>17.0</td>\n",
       "      <td>10239.0</td>\n",
       "      <td>473.0</td>\n",
       "    </tr>\n",
       "    <tr>\n",
       "      <th>...</th>\n",
       "      <td>...</td>\n",
       "      <td>...</td>\n",
       "      <td>...</td>\n",
       "      <td>...</td>\n",
       "      <td>...</td>\n",
       "      <td>...</td>\n",
       "      <td>...</td>\n",
       "    </tr>\n",
       "    <tr>\n",
       "      <th>2020</th>\n",
       "      <td>8146.0</td>\n",
       "      <td>284263.0</td>\n",
       "      <td>5754.0</td>\n",
       "      <td>2125.0</td>\n",
       "      <td>13.0</td>\n",
       "      <td>1762.0</td>\n",
       "      <td>207.0</td>\n",
       "    </tr>\n",
       "    <tr>\n",
       "      <th>2021</th>\n",
       "      <td>43622.0</td>\n",
       "      <td>284263.0</td>\n",
       "      <td>28621.0</td>\n",
       "      <td>2874.0</td>\n",
       "      <td>10.0</td>\n",
       "      <td>9375.0</td>\n",
       "      <td>207.0</td>\n",
       "    </tr>\n",
       "    <tr>\n",
       "      <th>2022</th>\n",
       "      <td>12923.0</td>\n",
       "      <td>284263.0</td>\n",
       "      <td>28621.0</td>\n",
       "      <td>6105.0</td>\n",
       "      <td>17.0</td>\n",
       "      <td>2637.0</td>\n",
       "      <td>3.0</td>\n",
       "    </tr>\n",
       "    <tr>\n",
       "      <th>2023</th>\n",
       "      <td>26523.0</td>\n",
       "      <td>418685.0</td>\n",
       "      <td>36253.0</td>\n",
       "      <td>3444.0</td>\n",
       "      <td>7.0</td>\n",
       "      <td>2037.0</td>\n",
       "      <td>207.0</td>\n",
       "    </tr>\n",
       "    <tr>\n",
       "      <th>2024</th>\n",
       "      <td>91568.0</td>\n",
       "      <td>418685.0</td>\n",
       "      <td>25054.0</td>\n",
       "      <td>2035.0</td>\n",
       "      <td>17.0</td>\n",
       "      <td>2150.0</td>\n",
       "      <td>129.0</td>\n",
       "    </tr>\n",
       "  </tbody>\n",
       "</table>\n",
       "<p>2025 rows × 7 columns</p>\n",
       "</div>"
      ],
      "text/plain": [
       "      user_id  session_id  item_id  item_price  category  product_type  \\\n",
       "0     87862.0    268465.0  44459.0      4602.0      11.0        3040.0   \n",
       "1     63410.0    268465.0  44459.0      3513.0      12.0        6822.0   \n",
       "2     71748.0    268465.0  44459.0       825.0      17.0        1619.0   \n",
       "3     69209.0    268465.0  44459.0      2355.0      13.0        5264.0   \n",
       "4     62873.0    268465.0  44459.0      1267.0      17.0       10239.0   \n",
       "...       ...         ...      ...         ...       ...           ...   \n",
       "2020   8146.0    284263.0   5754.0      2125.0      13.0        1762.0   \n",
       "2021  43622.0    284263.0  28621.0      2874.0      10.0        9375.0   \n",
       "2022  12923.0    284263.0  28621.0      6105.0      17.0        2637.0   \n",
       "2023  26523.0    418685.0  36253.0      3444.0       7.0        2037.0   \n",
       "2024  91568.0    418685.0  25054.0      2035.0      17.0        2150.0   \n",
       "\n",
       "      app_code  \n",
       "0        422.0  \n",
       "1        467.0  \n",
       "2        259.0  \n",
       "3        244.0  \n",
       "4        473.0  \n",
       "...        ...  \n",
       "2020     207.0  \n",
       "2021     207.0  \n",
       "2022       3.0  \n",
       "2023     207.0  \n",
       "2024     129.0  \n",
       "\n",
       "[2025 rows x 7 columns]"
      ]
     },
     "execution_count": 53,
     "metadata": {},
     "output_type": "execute_result"
    }
   ],
   "source": [
    "# a subset of the dataframe with column of float types has been stored in freqgraph\n",
    "freqgraph"
   ]
  },
  {
   "cell_type": "markdown",
   "id": "3491bb7b",
   "metadata": {},
   "source": [
    "####  to find out whether the float columns  are following a normal distribution or not"
   ]
  },
  {
   "cell_type": "code",
   "execution_count": 54,
   "id": "015efb6f",
   "metadata": {},
   "outputs": [
    {
     "data": {
      "image/png": "[encoded data removed]",
      "text/plain": [
       "<Figure size 2000x1500 with 9 Axes>"
      ]
     },
     "metadata": {},
     "output_type": "display_data"
    }
   ],
   "source": [
    "freqgraph.hist(figsize=(20,15))\n",
    "plt.show()"
   ]
  },
  {
   "cell_type": "markdown",
   "id": "b14119a2",
   "metadata": {},
   "source": [
    "none of the above columns are following a normal distribution, hence using median to fill the missing values"
   ]
  },
  {
   "cell_type": "code",
   "execution_count": 55,
   "id": "5b61613d",
   "metadata": {},
   "outputs": [],
   "source": [
    "# to fill NaN values  using for loop in numerical columns\n",
    "for i in ['user_id', 'session_id',\n",
    "       'item_id', 'item_price', 'category', 'product_type', 'app_code']:\n",
    "    exercise[i] = exercise[i].fillna(exercise[i].median())"
   ]
  },
  {
   "cell_type": "code",
   "execution_count": 56,
   "id": "399be45c",
   "metadata": {},
   "outputs": [],
   "source": [
    "# using mode() to fill the missing value in categorical column\n",
    "exercise['os_version'] = exercise['os_version'].fillna(exercise['os_version'].mode()[0])"
   ]
  },
  {
   "cell_type": "code",
   "execution_count": 57,
   "id": "bdad0d14",
   "metadata": {},
   "outputs": [
    {
     "data": {
      "text/plain": [
       "server_time        0\n",
       "device_type        0\n",
       "user_id            0\n",
       "session_id         0\n",
       "item_id            0\n",
       "item_price         0\n",
       "category           0\n",
       "product_type       0\n",
       "impression_time    0\n",
       "app_code           0\n",
       "os_version         0\n",
       "is_4G              0\n",
       "is_click           0\n",
       "dtype: int64"
      ]
     },
     "execution_count": 57,
     "metadata": {},
     "output_type": "execute_result"
    }
   ],
   "source": [
    "# checking the  number of null values in each column \n",
    "exercise.isnull().sum()"
   ]
  },
  {
   "cell_type": "code",
   "execution_count": 58,
   "id": "e4226b0a",
   "metadata": {},
   "outputs": [
    {
     "data": {
      "image/png": "[encoded data removed]",
      "text/plain": [
       "<Figure size 640x480 with 1 Axes>"
      ]
     },
     "metadata": {},
     "output_type": "display_data"
    }
   ],
   "source": [
    "# peforming boxplot to find any outliers \n",
    "plt.boxplot(exercise['item_price']);\n",
    "plt.title('Boxplot of item_price column');"
   ]
  },
  {
   "cell_type": "markdown",
   "id": "b0396842",
   "metadata": {},
   "source": [
    "lot of outliers in 'item_price' column"
   ]
  },
  {
   "cell_type": "markdown",
   "id": "e36fbb00",
   "metadata": {},
   "source": [
    "###### FINDING OUTLIERS"
   ]
  },
  {
   "cell_type": "code",
   "execution_count": 59,
   "id": "537d9bf6",
   "metadata": {},
   "outputs": [
    {
     "name": "stdout",
     "output_type": "stream",
     "text": [
      "1465.0\n",
      "2425.0\n",
      "4793.0\n"
     ]
    }
   ],
   "source": [
    "# for 'item_price ' to find first, second and third quartile of  'item_price' column\n",
    "Q1 = np.percentile(exercise['item_price'], 25, interpolation='midpoint')\n",
    "Q2 = np.percentile(exercise['item_price'], 50, interpolation='midpoint')\n",
    "Q3 = np.percentile(exercise['item_price'], 75, interpolation='midpoint')\n",
    "print(Q1)\n",
    "print(Q2)\n",
    "print(Q3)"
   ]
  },
  {
   "cell_type": "code",
   "execution_count": 60,
   "id": "9e1c3fe3",
   "metadata": {},
   "outputs": [
    {
     "name": "stdout",
     "output_type": "stream",
     "text": [
      "3328.0\n"
     ]
    }
   ],
   "source": [
    "# to find the (interquartile range) IQR of  'item_price' column\n",
    "IQR = Q3-Q1\n",
    "print(IQR)"
   ]
  },
  {
   "cell_type": "code",
   "execution_count": 61,
   "id": "039fe01a",
   "metadata": {},
   "outputs": [
    {
     "name": "stdout",
     "output_type": "stream",
     "text": [
      "-3527.0\n",
      "9785.0\n"
     ]
    }
   ],
   "source": [
    "# to find the lower whisker and upper whisker of  'item_price' column\n",
    "low_limit = Q1-1.5*IQR \n",
    "up_limit = Q3+1.5*IQR\n",
    "print(low_limit)\n",
    "print(up_limit)"
   ]
  },
  {
   "cell_type": "code",
   "execution_count": 62,
   "id": "4fc3ece0",
   "metadata": {},
   "outputs": [],
   "source": [
    "# From the  Boxplot,  outliers are present  for 'item_price' column, so to find the outliers and store it in 'outlier' list\n",
    "outlier = [] \n",
    "for x in exercise['item_price']:\n",
    "    if((x>up_limit) or (x<low_limit)): \n",
    "        outlier.append(x) "
   ]
  },
  {
   "cell_type": "code",
   "execution_count": 63,
   "id": "8e7e4e61",
   "metadata": {},
   "outputs": [
    {
     "name": "stdout",
     "output_type": "stream",
     "text": [
      "[18118.0, 17856.0, 17222.0, 11462.0, 10246.0, 23040.0, 10822.0, 10816.0, 11712.0, 12221.0, 46656.0, 20492.0, 85760.0, 9990.0, 54336.0, 15296.0, 13984.0, 33984.0, 13420.0, 19526.0, 51136.0, 9959.0, 10758.0, 10886.0, 25472.0, 35136.0, 11404.0, 11456.0, 99507.0, 12280.0, 53625.0, 18668.0, 22208.0, 21409.0, 83776.0, 14906.0, 18557.0, 130154.0, 20416.0, 14080.0, 117849.0, 17222.0, 178099.0, 165665.0, 11369.0, 32576.0, 10240.0, 14016.0, 41369.0, 16416.0, 63936.0, 10087.0, 10310.0, 12096.0, 10298.0, 21120.0, 26956.0, 13000.0, 16960.0, 152652.0, 16128.0, 47936.0, 10039.0, 19008.0, 9792.0, 27545.0, 20160.0, 10310.0, 18278.0, 165665.0, 96768.0, 10816.0, 14656.0, 64000.0, 37916.0, 70336.0, 27400.0, 24969.0, 15808.0, 15296.0, 40256.0, 12672.0, 49016.0, 61056.0, 15968.0, 22348.0, 17665.0, 22912.0, 16265.0, 47360.0, 20428.0, 12736.0, 21248.0, 11392.0, 32808.0, 27443.0, 10771.0, 10944.0, 11008.0, 17664.0, 31040.0, 20416.0, 18346.0, 15232.0, 15936.0, 20505.0, 12793.0, 43968.0, 134122.0, 11136.0, 10586.0, 16704.0, 12608.0, 28108.0, 101760.0, 16416.0, 23360.0, 70336.0, 15296.0, 56256.0, 38336.0, 20672.0, 95172.0, 209825.0, 34150.0, 106624.0, 10240.0, 10176.0, 33299.0, 25459.0, 21811.0, 162462.0, 10112.0, 17318.0, 72320.0, 12885.0, 11456.0, 27091.0, 12038.0, 17006.0, 76160.0, 31936.0, 10176.0, 16704.0, 10310.0, 35004.0, 12729.0, 82624.0, 33728.0, 14976.0, 28224.0, 19219.0, 41088.0, 152320.0, 35136.0, 10137.0, 48064.0, 44736.0, 51206.0, 56473.0, 24364.0, 82963.0, 15296.0, 14656.0, 9792.0, 17792.0, 154944.0, 27417.0, 20160.0, 10064.0, 26144.0, 52147.0, 10499.0, 11456.0, 19756.0, 11052.0, 22924.0, 146304.0, 37114.0, 127360.0, 24710.0, 42058.0, 239360.0, 14841.0, 12153.0, 26176.0, 95328.0, 60928.0, 12185.0, 57873.0, 28736.0, 12032.0, 15232.0, 46038.0, 123488.0, 33875.0, 16576.0, 10064.0, 14342.0, 29651.0, 22336.0, 10736.0, 19008.0, 60928.0, 14656.0, 12672.0, 10886.0, 12092.0, 18284.0, 12992.0, 12096.0, 12373.0, 15296.0, 16320.0, 13248.0, 10246.0, 10310.0, 12928.0, 18777.0, 14144.0, 63288.0, 15449.0, 63948.0, 17856.0, 19776.0, 166355.0, 15721.0, 13132.0, 47488.0, 13975.0, 85248.0, 19136.0, 19136.0, 20291.0, 13491.0, 38336.0, 10758.0, 10240.0, 10310.0, 10800.0, 14400.0, 23372.0, 10886.0, 10252.0, 10246.0]\n"
     ]
    }
   ],
   "source": [
    "# displaying the outliers in 'item_price' column\n",
    "print (outlier)"
   ]
  },
  {
   "cell_type": "code",
   "execution_count": 64,
   "id": "de95e814",
   "metadata": {},
   "outputs": [],
   "source": [
    "ind1 = exercise['item_price']>up_limit"
   ]
  },
  {
   "cell_type": "code",
   "execution_count": 65,
   "id": "4ab6e62c",
   "metadata": {},
   "outputs": [
    {
     "data": {
      "text/plain": [
       "Int64Index([   6,    7,   31,   34,   49,   51,   63,   68,   74,   86,\n",
       "            ...\n",
       "            1933, 1937, 1948, 1953, 1961, 1978, 1981, 1983, 1998, 2012],\n",
       "           dtype='int64', length=245)"
      ]
     },
     "execution_count": 65,
     "metadata": {},
     "output_type": "execute_result"
    }
   ],
   "source": [
    "# locating the index of outliers in 'item_price' column\n",
    "exercise.loc[ind1].index"
   ]
  },
  {
   "cell_type": "code",
   "execution_count": 66,
   "id": "2240e04e",
   "metadata": {},
   "outputs": [
    {
     "data": {
      "text/html": [
       "<div>\n",
       "<style scoped>\n",
       "    .dataframe tbody tr th:only-of-type {\n",
       "        vertical-align: middle;\n",
       "    }\n",
       "\n",
       "    .dataframe tbody tr th {\n",
       "        vertical-align: top;\n",
       "    }\n",
       "\n",
       "    .dataframe thead th {\n",
       "        text-align: right;\n",
       "    }\n",
       "</style>\n",
       "<table border=\"1\" class=\"dataframe\">\n",
       "  <thead>\n",
       "    <tr style=\"text-align: right;\">\n",
       "      <th></th>\n",
       "      <th>server_time</th>\n",
       "      <th>device_type</th>\n",
       "      <th>user_id</th>\n",
       "      <th>session_id</th>\n",
       "      <th>item_id</th>\n",
       "      <th>item_price</th>\n",
       "      <th>category</th>\n",
       "      <th>product_type</th>\n",
       "      <th>impression_time</th>\n",
       "      <th>app_code</th>\n",
       "      <th>os_version</th>\n",
       "      <th>is_4G</th>\n",
       "      <th>is_click</th>\n",
       "    </tr>\n",
       "  </thead>\n",
       "  <tbody>\n",
       "    <tr>\n",
       "      <th>0</th>\n",
       "      <td>2018-10-18 14:27:00</td>\n",
       "      <td>android</td>\n",
       "      <td>87862.0</td>\n",
       "      <td>268465.0</td>\n",
       "      <td>44459.0</td>\n",
       "      <td>4602.0</td>\n",
       "      <td>11.0</td>\n",
       "      <td>3040.0</td>\n",
       "      <td>2018-11-15 00:00:00</td>\n",
       "      <td>422.0</td>\n",
       "      <td>old</td>\n",
       "      <td>0</td>\n",
       "      <td>0</td>\n",
       "    </tr>\n",
       "    <tr>\n",
       "      <th>1</th>\n",
       "      <td>2018-10-18 14:27:00</td>\n",
       "      <td>android</td>\n",
       "      <td>63410.0</td>\n",
       "      <td>268465.0</td>\n",
       "      <td>44459.0</td>\n",
       "      <td>3513.0</td>\n",
       "      <td>12.0</td>\n",
       "      <td>6822.0</td>\n",
       "      <td>2018-11-15 00:01:00</td>\n",
       "      <td>467.0</td>\n",
       "      <td>latest</td>\n",
       "      <td>1</td>\n",
       "      <td>1</td>\n",
       "    </tr>\n",
       "    <tr>\n",
       "      <th>2</th>\n",
       "      <td>2018-10-18 14:43:00</td>\n",
       "      <td>android</td>\n",
       "      <td>71748.0</td>\n",
       "      <td>268465.0</td>\n",
       "      <td>44459.0</td>\n",
       "      <td>825.0</td>\n",
       "      <td>17.0</td>\n",
       "      <td>1619.0</td>\n",
       "      <td>2018-11-15 00:02:00</td>\n",
       "      <td>259.0</td>\n",
       "      <td>intermediate</td>\n",
       "      <td>1</td>\n",
       "      <td>0</td>\n",
       "    </tr>\n",
       "    <tr>\n",
       "      <th>3</th>\n",
       "      <td>2018-10-18 14:46:00</td>\n",
       "      <td>android</td>\n",
       "      <td>69209.0</td>\n",
       "      <td>268465.0</td>\n",
       "      <td>44459.0</td>\n",
       "      <td>2355.0</td>\n",
       "      <td>13.0</td>\n",
       "      <td>5264.0</td>\n",
       "      <td>2018-11-15 00:02:00</td>\n",
       "      <td>244.0</td>\n",
       "      <td>latest</td>\n",
       "      <td>1</td>\n",
       "      <td>0</td>\n",
       "    </tr>\n",
       "    <tr>\n",
       "      <th>4</th>\n",
       "      <td>2018-10-18 14:46:00</td>\n",
       "      <td>android</td>\n",
       "      <td>62873.0</td>\n",
       "      <td>268465.0</td>\n",
       "      <td>44459.0</td>\n",
       "      <td>1267.0</td>\n",
       "      <td>17.0</td>\n",
       "      <td>10239.0</td>\n",
       "      <td>2018-11-15 00:02:00</td>\n",
       "      <td>473.0</td>\n",
       "      <td>latest</td>\n",
       "      <td>0</td>\n",
       "      <td>0</td>\n",
       "    </tr>\n",
       "  </tbody>\n",
       "</table>\n",
       "</div>"
      ],
      "text/plain": [
       "          server_time device_type  user_id  session_id  item_id  item_price  \\\n",
       "0 2018-10-18 14:27:00     android  87862.0    268465.0  44459.0      4602.0   \n",
       "1 2018-10-18 14:27:00     android  63410.0    268465.0  44459.0      3513.0   \n",
       "2 2018-10-18 14:43:00     android  71748.0    268465.0  44459.0       825.0   \n",
       "3 2018-10-18 14:46:00     android  69209.0    268465.0  44459.0      2355.0   \n",
       "4 2018-10-18 14:46:00     android  62873.0    268465.0  44459.0      1267.0   \n",
       "\n",
       "   category  product_type     impression_time  app_code    os_version  is_4G  \\\n",
       "0      11.0        3040.0 2018-11-15 00:00:00     422.0           old      0   \n",
       "1      12.0        6822.0 2018-11-15 00:01:00     467.0        latest      1   \n",
       "2      17.0        1619.0 2018-11-15 00:02:00     259.0  intermediate      1   \n",
       "3      13.0        5264.0 2018-11-15 00:02:00     244.0        latest      1   \n",
       "4      17.0       10239.0 2018-11-15 00:02:00     473.0        latest      0   \n",
       "\n",
       "   is_click  \n",
       "0         0  \n",
       "1         1  \n",
       "2         0  \n",
       "3         0  \n",
       "4         0  "
      ]
     },
     "execution_count": 66,
     "metadata": {},
     "output_type": "execute_result"
    }
   ],
   "source": [
    "#removing outliers\n",
    "exercise.drop(exercise.loc[ind1].index,inplace=True)\n",
    "exercise.head()"
   ]
  },
  {
   "cell_type": "markdown",
   "id": "154e6bb3",
   "metadata": {},
   "source": [
    "#### One hot Encoding"
   ]
  },
  {
   "cell_type": "code",
   "execution_count": 67,
   "id": "a8db8e2f",
   "metadata": {},
   "outputs": [
    {
     "data": {
      "text/plain": [
       "(1780, 13)"
      ]
     },
     "execution_count": 67,
     "metadata": {},
     "output_type": "execute_result"
    }
   ],
   "source": [
    "exercise.shape # to find the number of rows and columns"
   ]
  },
  {
   "cell_type": "code",
   "execution_count": 68,
   "id": "df89cf7d",
   "metadata": {},
   "outputs": [
    {
     "data": {
      "text/plain": [
       "server_time        datetime64[ns]\n",
       "device_type                object\n",
       "user_id                   float64\n",
       "session_id                float64\n",
       "item_id                   float64\n",
       "item_price                float64\n",
       "category                  float64\n",
       "product_type              float64\n",
       "impression_time    datetime64[ns]\n",
       "app_code                  float64\n",
       "os_version                 object\n",
       "is_4G                       int64\n",
       "is_click                    int64\n",
       "dtype: object"
      ]
     },
     "execution_count": 68,
     "metadata": {},
     "output_type": "execute_result"
    }
   ],
   "source": [
    "exercise.dtypes # to find the types of each column"
   ]
  },
  {
   "cell_type": "markdown",
   "id": "de239efa",
   "metadata": {},
   "source": [
    "2 object columns [device_type , os_version]"
   ]
  },
  {
   "cell_type": "code",
   "execution_count": 69,
   "id": "0c13c6b7",
   "metadata": {},
   "outputs": [],
   "source": [
    "exercise1 = pd.get_dummies(exercise)"
   ]
  },
  {
   "cell_type": "code",
   "execution_count": 70,
   "id": "44fbd6f4",
   "metadata": {},
   "outputs": [
    {
     "data": {
      "text/plain": [
       "(1780, 15)"
      ]
     },
     "execution_count": 70,
     "metadata": {},
     "output_type": "execute_result"
    }
   ],
   "source": [
    "exercise1.shape"
   ]
  },
  {
   "cell_type": "code",
   "execution_count": 71,
   "id": "e2151122",
   "metadata": {},
   "outputs": [
    {
     "data": {
      "text/plain": [
       "1"
      ]
     },
     "execution_count": 71,
     "metadata": {},
     "output_type": "execute_result"
    }
   ],
   "source": [
    "exercise['device_type'].nunique() "
   ]
  },
  {
   "cell_type": "markdown",
   "id": "7c680b64",
   "metadata": {},
   "source": [
    "there is  1 unique value in 'device_type' column , so 1  new column created"
   ]
  },
  {
   "cell_type": "code",
   "execution_count": 72,
   "id": "3b3bbbd2",
   "metadata": {},
   "outputs": [
    {
     "data": {
      "text/plain": [
       "3"
      ]
     },
     "execution_count": 72,
     "metadata": {},
     "output_type": "execute_result"
    }
   ],
   "source": [
    "exercise['os_version'].nunique() "
   ]
  },
  {
   "cell_type": "markdown",
   "id": "04ce3257",
   "metadata": {},
   "source": [
    "there are 3 unique values in 'os_version' column , so 3  new columns created"
   ]
  },
  {
   "cell_type": "markdown",
   "id": "d11a0703",
   "metadata": {},
   "source": [
    "1 new column + 3 new columns + 11 other columns = 15 columns in exercise1"
   ]
  },
  {
   "cell_type": "code",
   "execution_count": 73,
   "id": "cebdbd6e",
   "metadata": {},
   "outputs": [
    {
     "data": {
      "text/html": [
       "<div>\n",
       "<style scoped>\n",
       "    .dataframe tbody tr th:only-of-type {\n",
       "        vertical-align: middle;\n",
       "    }\n",
       "\n",
       "    .dataframe tbody tr th {\n",
       "        vertical-align: top;\n",
       "    }\n",
       "\n",
       "    .dataframe thead th {\n",
       "        text-align: right;\n",
       "    }\n",
       "</style>\n",
       "<table border=\"1\" class=\"dataframe\">\n",
       "  <thead>\n",
       "    <tr style=\"text-align: right;\">\n",
       "      <th></th>\n",
       "      <th>server_time</th>\n",
       "      <th>user_id</th>\n",
       "      <th>session_id</th>\n",
       "      <th>item_id</th>\n",
       "      <th>item_price</th>\n",
       "      <th>category</th>\n",
       "      <th>product_type</th>\n",
       "      <th>impression_time</th>\n",
       "      <th>app_code</th>\n",
       "      <th>is_4G</th>\n",
       "      <th>is_click</th>\n",
       "      <th>device_type_android</th>\n",
       "      <th>os_version_intermediate</th>\n",
       "      <th>os_version_latest</th>\n",
       "      <th>os_version_old</th>\n",
       "    </tr>\n",
       "  </thead>\n",
       "  <tbody>\n",
       "    <tr>\n",
       "      <th>0</th>\n",
       "      <td>2018-10-18 14:27:00</td>\n",
       "      <td>87862.0</td>\n",
       "      <td>268465.0</td>\n",
       "      <td>44459.0</td>\n",
       "      <td>4602.0</td>\n",
       "      <td>11.0</td>\n",
       "      <td>3040.0</td>\n",
       "      <td>2018-11-15 00:00:00</td>\n",
       "      <td>422.0</td>\n",
       "      <td>0</td>\n",
       "      <td>0</td>\n",
       "      <td>1</td>\n",
       "      <td>0</td>\n",
       "      <td>0</td>\n",
       "      <td>1</td>\n",
       "    </tr>\n",
       "    <tr>\n",
       "      <th>1</th>\n",
       "      <td>2018-10-18 14:27:00</td>\n",
       "      <td>63410.0</td>\n",
       "      <td>268465.0</td>\n",
       "      <td>44459.0</td>\n",
       "      <td>3513.0</td>\n",
       "      <td>12.0</td>\n",
       "      <td>6822.0</td>\n",
       "      <td>2018-11-15 00:01:00</td>\n",
       "      <td>467.0</td>\n",
       "      <td>1</td>\n",
       "      <td>1</td>\n",
       "      <td>1</td>\n",
       "      <td>0</td>\n",
       "      <td>1</td>\n",
       "      <td>0</td>\n",
       "    </tr>\n",
       "    <tr>\n",
       "      <th>2</th>\n",
       "      <td>2018-10-18 14:43:00</td>\n",
       "      <td>71748.0</td>\n",
       "      <td>268465.0</td>\n",
       "      <td>44459.0</td>\n",
       "      <td>825.0</td>\n",
       "      <td>17.0</td>\n",
       "      <td>1619.0</td>\n",
       "      <td>2018-11-15 00:02:00</td>\n",
       "      <td>259.0</td>\n",
       "      <td>1</td>\n",
       "      <td>0</td>\n",
       "      <td>1</td>\n",
       "      <td>1</td>\n",
       "      <td>0</td>\n",
       "      <td>0</td>\n",
       "    </tr>\n",
       "    <tr>\n",
       "      <th>3</th>\n",
       "      <td>2018-10-18 14:46:00</td>\n",
       "      <td>69209.0</td>\n",
       "      <td>268465.0</td>\n",
       "      <td>44459.0</td>\n",
       "      <td>2355.0</td>\n",
       "      <td>13.0</td>\n",
       "      <td>5264.0</td>\n",
       "      <td>2018-11-15 00:02:00</td>\n",
       "      <td>244.0</td>\n",
       "      <td>1</td>\n",
       "      <td>0</td>\n",
       "      <td>1</td>\n",
       "      <td>0</td>\n",
       "      <td>1</td>\n",
       "      <td>0</td>\n",
       "    </tr>\n",
       "    <tr>\n",
       "      <th>4</th>\n",
       "      <td>2018-10-18 14:46:00</td>\n",
       "      <td>62873.0</td>\n",
       "      <td>268465.0</td>\n",
       "      <td>44459.0</td>\n",
       "      <td>1267.0</td>\n",
       "      <td>17.0</td>\n",
       "      <td>10239.0</td>\n",
       "      <td>2018-11-15 00:02:00</td>\n",
       "      <td>473.0</td>\n",
       "      <td>0</td>\n",
       "      <td>0</td>\n",
       "      <td>1</td>\n",
       "      <td>0</td>\n",
       "      <td>1</td>\n",
       "      <td>0</td>\n",
       "    </tr>\n",
       "  </tbody>\n",
       "</table>\n",
       "</div>"
      ],
      "text/plain": [
       "          server_time  user_id  session_id  item_id  item_price  category  \\\n",
       "0 2018-10-18 14:27:00  87862.0    268465.0  44459.0      4602.0      11.0   \n",
       "1 2018-10-18 14:27:00  63410.0    268465.0  44459.0      3513.0      12.0   \n",
       "2 2018-10-18 14:43:00  71748.0    268465.0  44459.0       825.0      17.0   \n",
       "3 2018-10-18 14:46:00  69209.0    268465.0  44459.0      2355.0      13.0   \n",
       "4 2018-10-18 14:46:00  62873.0    268465.0  44459.0      1267.0      17.0   \n",
       "\n",
       "   product_type     impression_time  app_code  is_4G  is_click  \\\n",
       "0        3040.0 2018-11-15 00:00:00     422.0      0         0   \n",
       "1        6822.0 2018-11-15 00:01:00     467.0      1         1   \n",
       "2        1619.0 2018-11-15 00:02:00     259.0      1         0   \n",
       "3        5264.0 2018-11-15 00:02:00     244.0      1         0   \n",
       "4       10239.0 2018-11-15 00:02:00     473.0      0         0   \n",
       "\n",
       "   device_type_android  os_version_intermediate  os_version_latest  \\\n",
       "0                    1                        0                  0   \n",
       "1                    1                        0                  1   \n",
       "2                    1                        1                  0   \n",
       "3                    1                        0                  1   \n",
       "4                    1                        0                  1   \n",
       "\n",
       "   os_version_old  \n",
       "0               1  \n",
       "1               0  \n",
       "2               0  \n",
       "3               0  \n",
       "4               0  "
      ]
     },
     "execution_count": 73,
     "metadata": {},
     "output_type": "execute_result"
    }
   ],
   "source": [
    "exercise1.head()"
   ]
  },
  {
   "cell_type": "markdown",
   "id": "c3c23ebd",
   "metadata": {},
   "source": [
    "so   3 new columns created  for 'os_version' and 1 new column created for 'device_type'"
   ]
  },
  {
   "cell_type": "markdown",
   "id": "ea57e411",
   "metadata": {},
   "source": [
    "#### Label Encoding"
   ]
  },
  {
   "cell_type": "code",
   "execution_count": 74,
   "id": "52d162f8",
   "metadata": {},
   "outputs": [],
   "source": [
    "# importing library\n",
    "from sklearn.preprocessing import LabelEncoder"
   ]
  },
  {
   "cell_type": "code",
   "execution_count": 75,
   "id": "e529c8c0",
   "metadata": {},
   "outputs": [],
   "source": [
    "# storing LabelEncoder() instance to variable 'le'\n",
    "le = LabelEncoder() "
   ]
  },
  {
   "cell_type": "code",
   "execution_count": 76,
   "id": "8747a0db",
   "metadata": {},
   "outputs": [],
   "source": [
    "exercise['device_type'] = le.fit_transform(exercise['device_type']) # applying fit_transform to 'device_type' column and storing it back to 'device_type' column"
   ]
  },
  {
   "cell_type": "code",
   "execution_count": 77,
   "id": "dba92421",
   "metadata": {},
   "outputs": [],
   "source": [
    "exercise['os_version'] = le.fit_transform(exercise['os_version']) # applying fit_transform to 'os_version' column and storing it back to 'os_version' column"
   ]
  },
  {
   "cell_type": "code",
   "execution_count": 78,
   "id": "96bc5432",
   "metadata": {},
   "outputs": [
    {
     "data": {
      "text/html": [
       "<div>\n",
       "<style scoped>\n",
       "    .dataframe tbody tr th:only-of-type {\n",
       "        vertical-align: middle;\n",
       "    }\n",
       "\n",
       "    .dataframe tbody tr th {\n",
       "        vertical-align: top;\n",
       "    }\n",
       "\n",
       "    .dataframe thead th {\n",
       "        text-align: right;\n",
       "    }\n",
       "</style>\n",
       "<table border=\"1\" class=\"dataframe\">\n",
       "  <thead>\n",
       "    <tr style=\"text-align: right;\">\n",
       "      <th></th>\n",
       "      <th>server_time</th>\n",
       "      <th>device_type</th>\n",
       "      <th>user_id</th>\n",
       "      <th>session_id</th>\n",
       "      <th>item_id</th>\n",
       "      <th>item_price</th>\n",
       "      <th>category</th>\n",
       "      <th>product_type</th>\n",
       "      <th>impression_time</th>\n",
       "      <th>app_code</th>\n",
       "      <th>os_version</th>\n",
       "      <th>is_4G</th>\n",
       "      <th>is_click</th>\n",
       "    </tr>\n",
       "  </thead>\n",
       "  <tbody>\n",
       "    <tr>\n",
       "      <th>0</th>\n",
       "      <td>2018-10-18 14:27:00</td>\n",
       "      <td>0</td>\n",
       "      <td>87862.0</td>\n",
       "      <td>268465.0</td>\n",
       "      <td>44459.0</td>\n",
       "      <td>4602.0</td>\n",
       "      <td>11.0</td>\n",
       "      <td>3040.0</td>\n",
       "      <td>2018-11-15 00:00:00</td>\n",
       "      <td>422.0</td>\n",
       "      <td>2</td>\n",
       "      <td>0</td>\n",
       "      <td>0</td>\n",
       "    </tr>\n",
       "    <tr>\n",
       "      <th>1</th>\n",
       "      <td>2018-10-18 14:27:00</td>\n",
       "      <td>0</td>\n",
       "      <td>63410.0</td>\n",
       "      <td>268465.0</td>\n",
       "      <td>44459.0</td>\n",
       "      <td>3513.0</td>\n",
       "      <td>12.0</td>\n",
       "      <td>6822.0</td>\n",
       "      <td>2018-11-15 00:01:00</td>\n",
       "      <td>467.0</td>\n",
       "      <td>1</td>\n",
       "      <td>1</td>\n",
       "      <td>1</td>\n",
       "    </tr>\n",
       "    <tr>\n",
       "      <th>2</th>\n",
       "      <td>2018-10-18 14:43:00</td>\n",
       "      <td>0</td>\n",
       "      <td>71748.0</td>\n",
       "      <td>268465.0</td>\n",
       "      <td>44459.0</td>\n",
       "      <td>825.0</td>\n",
       "      <td>17.0</td>\n",
       "      <td>1619.0</td>\n",
       "      <td>2018-11-15 00:02:00</td>\n",
       "      <td>259.0</td>\n",
       "      <td>0</td>\n",
       "      <td>1</td>\n",
       "      <td>0</td>\n",
       "    </tr>\n",
       "    <tr>\n",
       "      <th>3</th>\n",
       "      <td>2018-10-18 14:46:00</td>\n",
       "      <td>0</td>\n",
       "      <td>69209.0</td>\n",
       "      <td>268465.0</td>\n",
       "      <td>44459.0</td>\n",
       "      <td>2355.0</td>\n",
       "      <td>13.0</td>\n",
       "      <td>5264.0</td>\n",
       "      <td>2018-11-15 00:02:00</td>\n",
       "      <td>244.0</td>\n",
       "      <td>1</td>\n",
       "      <td>1</td>\n",
       "      <td>0</td>\n",
       "    </tr>\n",
       "    <tr>\n",
       "      <th>4</th>\n",
       "      <td>2018-10-18 14:46:00</td>\n",
       "      <td>0</td>\n",
       "      <td>62873.0</td>\n",
       "      <td>268465.0</td>\n",
       "      <td>44459.0</td>\n",
       "      <td>1267.0</td>\n",
       "      <td>17.0</td>\n",
       "      <td>10239.0</td>\n",
       "      <td>2018-11-15 00:02:00</td>\n",
       "      <td>473.0</td>\n",
       "      <td>1</td>\n",
       "      <td>0</td>\n",
       "      <td>0</td>\n",
       "    </tr>\n",
       "  </tbody>\n",
       "</table>\n",
       "</div>"
      ],
      "text/plain": [
       "          server_time  device_type  user_id  session_id  item_id  item_price  \\\n",
       "0 2018-10-18 14:27:00            0  87862.0    268465.0  44459.0      4602.0   \n",
       "1 2018-10-18 14:27:00            0  63410.0    268465.0  44459.0      3513.0   \n",
       "2 2018-10-18 14:43:00            0  71748.0    268465.0  44459.0       825.0   \n",
       "3 2018-10-18 14:46:00            0  69209.0    268465.0  44459.0      2355.0   \n",
       "4 2018-10-18 14:46:00            0  62873.0    268465.0  44459.0      1267.0   \n",
       "\n",
       "   category  product_type     impression_time  app_code  os_version  is_4G  \\\n",
       "0      11.0        3040.0 2018-11-15 00:00:00     422.0           2      0   \n",
       "1      12.0        6822.0 2018-11-15 00:01:00     467.0           1      1   \n",
       "2      17.0        1619.0 2018-11-15 00:02:00     259.0           0      1   \n",
       "3      13.0        5264.0 2018-11-15 00:02:00     244.0           1      1   \n",
       "4      17.0       10239.0 2018-11-15 00:02:00     473.0           1      0   \n",
       "\n",
       "   is_click  \n",
       "0         0  \n",
       "1         1  \n",
       "2         0  \n",
       "3         0  \n",
       "4         0  "
      ]
     },
     "execution_count": 78,
     "metadata": {},
     "output_type": "execute_result"
    }
   ],
   "source": [
    "exercise.head()"
   ]
  },
  {
   "cell_type": "markdown",
   "id": "86481a0b",
   "metadata": {},
   "source": [
    "from the above display, now 'device_type' and  'os_version' columns are numerical columns"
   ]
  },
  {
   "cell_type": "markdown",
   "id": "7ffa950e",
   "metadata": {},
   "source": [
    "#### MinMax Scaling \n",
    "* scaling is done only for features [variable or column which we are using to predict something]\n",
    "* target - column which we are predicting\n",
    "* do not do scaling or normalisation on  target columns or categorical columns or encoded columns\n",
    "* considering 'item_price' as target column, hence dropping it"
   ]
  },
  {
   "cell_type": "code",
   "execution_count": 79,
   "id": "d02b3aea",
   "metadata": {},
   "outputs": [],
   "source": [
    "A = exercise.drop(['device_type','os_version','server_time','impression_time','is_4G','is_click', 'item_price'],axis=1)"
   ]
  },
  {
   "cell_type": "code",
   "execution_count": 80,
   "id": "ef12714f",
   "metadata": {},
   "outputs": [
    {
     "data": {
      "text/html": [
       "<div>\n",
       "<style scoped>\n",
       "    .dataframe tbody tr th:only-of-type {\n",
       "        vertical-align: middle;\n",
       "    }\n",
       "\n",
       "    .dataframe tbody tr th {\n",
       "        vertical-align: top;\n",
       "    }\n",
       "\n",
       "    .dataframe thead th {\n",
       "        text-align: right;\n",
       "    }\n",
       "</style>\n",
       "<table border=\"1\" class=\"dataframe\">\n",
       "  <thead>\n",
       "    <tr style=\"text-align: right;\">\n",
       "      <th></th>\n",
       "      <th>user_id</th>\n",
       "      <th>session_id</th>\n",
       "      <th>item_id</th>\n",
       "      <th>category</th>\n",
       "      <th>product_type</th>\n",
       "      <th>app_code</th>\n",
       "    </tr>\n",
       "  </thead>\n",
       "  <tbody>\n",
       "    <tr>\n",
       "      <th>0</th>\n",
       "      <td>87862.0</td>\n",
       "      <td>268465.0</td>\n",
       "      <td>44459.0</td>\n",
       "      <td>11.0</td>\n",
       "      <td>3040.0</td>\n",
       "      <td>422.0</td>\n",
       "    </tr>\n",
       "    <tr>\n",
       "      <th>1</th>\n",
       "      <td>63410.0</td>\n",
       "      <td>268465.0</td>\n",
       "      <td>44459.0</td>\n",
       "      <td>12.0</td>\n",
       "      <td>6822.0</td>\n",
       "      <td>467.0</td>\n",
       "    </tr>\n",
       "    <tr>\n",
       "      <th>2</th>\n",
       "      <td>71748.0</td>\n",
       "      <td>268465.0</td>\n",
       "      <td>44459.0</td>\n",
       "      <td>17.0</td>\n",
       "      <td>1619.0</td>\n",
       "      <td>259.0</td>\n",
       "    </tr>\n",
       "    <tr>\n",
       "      <th>3</th>\n",
       "      <td>69209.0</td>\n",
       "      <td>268465.0</td>\n",
       "      <td>44459.0</td>\n",
       "      <td>13.0</td>\n",
       "      <td>5264.0</td>\n",
       "      <td>244.0</td>\n",
       "    </tr>\n",
       "    <tr>\n",
       "      <th>4</th>\n",
       "      <td>62873.0</td>\n",
       "      <td>268465.0</td>\n",
       "      <td>44459.0</td>\n",
       "      <td>17.0</td>\n",
       "      <td>10239.0</td>\n",
       "      <td>473.0</td>\n",
       "    </tr>\n",
       "  </tbody>\n",
       "</table>\n",
       "</div>"
      ],
      "text/plain": [
       "   user_id  session_id  item_id  category  product_type  app_code\n",
       "0  87862.0    268465.0  44459.0      11.0        3040.0     422.0\n",
       "1  63410.0    268465.0  44459.0      12.0        6822.0     467.0\n",
       "2  71748.0    268465.0  44459.0      17.0        1619.0     259.0\n",
       "3  69209.0    268465.0  44459.0      13.0        5264.0     244.0\n",
       "4  62873.0    268465.0  44459.0      17.0       10239.0     473.0"
      ]
     },
     "execution_count": 80,
     "metadata": {},
     "output_type": "execute_result"
    }
   ],
   "source": [
    "A.head() # only numerical columns present"
   ]
  },
  {
   "cell_type": "code",
   "execution_count": 81,
   "id": "f9e1eb93",
   "metadata": {},
   "outputs": [],
   "source": [
    "# importing libaray \n",
    "from sklearn.preprocessing import MinMaxScaler"
   ]
  },
  {
   "cell_type": "code",
   "execution_count": 82,
   "id": "492c84f3",
   "metadata": {},
   "outputs": [],
   "source": [
    "minmax = MinMaxScaler(feature_range=(0,1)) # creating an instance for MinMaxScaler()"
   ]
  },
  {
   "cell_type": "code",
   "execution_count": 83,
   "id": "94333344",
   "metadata": {},
   "outputs": [],
   "source": [
    "A1 = minmax.fit_transform(A)"
   ]
  },
  {
   "cell_type": "code",
   "execution_count": 84,
   "id": "67bf6f06",
   "metadata": {},
   "outputs": [
    {
     "data": {
      "text/plain": [
       "numpy.ndarray"
      ]
     },
     "execution_count": 84,
     "metadata": {},
     "output_type": "execute_result"
    }
   ],
   "source": [
    "type(A1)"
   ]
  },
  {
   "cell_type": "markdown",
   "id": "ddc2ecab",
   "metadata": {},
   "source": [
    "NOTE:-scaling will convert into an array, so describe() will not work"
   ]
  },
  {
   "cell_type": "code",
   "execution_count": 85,
   "id": "b38f1442",
   "metadata": {},
   "outputs": [
    {
     "data": {
      "text/plain": [
       "array([[0.94977189, 0.24530103, 0.33373528, 0.64705882, 0.28698533,\n",
       "        0.83037475],\n",
       "       [0.68542023, 0.24530103, 0.33373528, 0.70588235, 0.64495977,\n",
       "        0.91913215],\n",
       "       [0.77556271, 0.24530103, 0.33373528, 1.        , 0.15248462,\n",
       "        0.50887574],\n",
       "       ...,\n",
       "       [0.13960302, 0.25982759, 0.21437346, 1.        , 0.24884051,\n",
       "        0.00394477],\n",
       "       [0.28663322, 0.38343119, 0.27189142, 0.41176471, 0.19204922,\n",
       "        0.40631164],\n",
       "       [0.98983762, 0.38343119, 0.18749105, 1.        , 0.20274491,\n",
       "        0.25246548]])"
      ]
     },
     "execution_count": 85,
     "metadata": {},
     "output_type": "execute_result"
    }
   ],
   "source": [
    "A1"
   ]
  },
  {
   "cell_type": "code",
   "execution_count": 86,
   "id": "44e744c8",
   "metadata": {},
   "outputs": [
    {
     "data": {
      "text/plain": [
       "Index(['server_time', 'device_type', 'user_id', 'session_id', 'item_id',\n",
       "       'item_price', 'category', 'product_type', 'impression_time', 'app_code',\n",
       "       'os_version', 'is_4G', 'is_click'],\n",
       "      dtype='object')"
      ]
     },
     "execution_count": 86,
     "metadata": {},
     "output_type": "execute_result"
    }
   ],
   "source": [
    "exercise.columns"
   ]
  },
  {
   "cell_type": "code",
   "execution_count": 87,
   "id": "614ecfe7",
   "metadata": {},
   "outputs": [],
   "source": [
    "A1 = pd.DataFrame(A1, columns=['user_id','session_id','item_id','category','product_type','app_code'])"
   ]
  },
  {
   "cell_type": "code",
   "execution_count": 88,
   "id": "2eb1797a",
   "metadata": {},
   "outputs": [
    {
     "data": {
      "text/html": [
       "<div>\n",
       "<style scoped>\n",
       "    .dataframe tbody tr th:only-of-type {\n",
       "        vertical-align: middle;\n",
       "    }\n",
       "\n",
       "    .dataframe tbody tr th {\n",
       "        vertical-align: top;\n",
       "    }\n",
       "\n",
       "    .dataframe thead th {\n",
       "        text-align: right;\n",
       "    }\n",
       "</style>\n",
       "<table border=\"1\" class=\"dataframe\">\n",
       "  <thead>\n",
       "    <tr style=\"text-align: right;\">\n",
       "      <th></th>\n",
       "      <th>user_id</th>\n",
       "      <th>session_id</th>\n",
       "      <th>item_id</th>\n",
       "      <th>category</th>\n",
       "      <th>product_type</th>\n",
       "      <th>app_code</th>\n",
       "    </tr>\n",
       "  </thead>\n",
       "  <tbody>\n",
       "    <tr>\n",
       "      <th>count</th>\n",
       "      <td>1780.000000</td>\n",
       "      <td>1780.000000</td>\n",
       "      <td>1780.000000</td>\n",
       "      <td>1780.000000</td>\n",
       "      <td>1780.000000</td>\n",
       "      <td>1780.000000</td>\n",
       "    </tr>\n",
       "    <tr>\n",
       "      <th>mean</th>\n",
       "      <td>0.505087</td>\n",
       "      <td>0.501222</td>\n",
       "      <td>0.477480</td>\n",
       "      <td>0.603536</td>\n",
       "      <td>0.507318</td>\n",
       "      <td>0.479682</td>\n",
       "    </tr>\n",
       "    <tr>\n",
       "      <th>std</th>\n",
       "      <td>0.285281</td>\n",
       "      <td>0.283890</td>\n",
       "      <td>0.276131</td>\n",
       "      <td>0.284741</td>\n",
       "      <td>0.291266</td>\n",
       "      <td>0.245828</td>\n",
       "    </tr>\n",
       "    <tr>\n",
       "      <th>min</th>\n",
       "      <td>0.000000</td>\n",
       "      <td>0.000000</td>\n",
       "      <td>0.000000</td>\n",
       "      <td>0.000000</td>\n",
       "      <td>0.000000</td>\n",
       "      <td>0.000000</td>\n",
       "    </tr>\n",
       "    <tr>\n",
       "      <th>25%</th>\n",
       "      <td>0.268895</td>\n",
       "      <td>0.250213</td>\n",
       "      <td>0.260089</td>\n",
       "      <td>0.411765</td>\n",
       "      <td>0.258542</td>\n",
       "      <td>0.372781</td>\n",
       "    </tr>\n",
       "    <tr>\n",
       "      <th>50%</th>\n",
       "      <td>0.498800</td>\n",
       "      <td>0.498695</td>\n",
       "      <td>0.477835</td>\n",
       "      <td>0.647059</td>\n",
       "      <td>0.510648</td>\n",
       "      <td>0.406312</td>\n",
       "    </tr>\n",
       "    <tr>\n",
       "      <th>75%</th>\n",
       "      <td>0.750459</td>\n",
       "      <td>0.733381</td>\n",
       "      <td>0.683094</td>\n",
       "      <td>0.764706</td>\n",
       "      <td>0.767913</td>\n",
       "      <td>0.729783</td>\n",
       "    </tr>\n",
       "    <tr>\n",
       "      <th>max</th>\n",
       "      <td>1.000000</td>\n",
       "      <td>1.000000</td>\n",
       "      <td>1.000000</td>\n",
       "      <td>1.000000</td>\n",
       "      <td>1.000000</td>\n",
       "      <td>1.000000</td>\n",
       "    </tr>\n",
       "  </tbody>\n",
       "</table>\n",
       "</div>"
      ],
      "text/plain": [
       "           user_id   session_id      item_id     category  product_type  \\\n",
       "count  1780.000000  1780.000000  1780.000000  1780.000000   1780.000000   \n",
       "mean      0.505087     0.501222     0.477480     0.603536      0.507318   \n",
       "std       0.285281     0.283890     0.276131     0.284741      0.291266   \n",
       "min       0.000000     0.000000     0.000000     0.000000      0.000000   \n",
       "25%       0.268895     0.250213     0.260089     0.411765      0.258542   \n",
       "50%       0.498800     0.498695     0.477835     0.647059      0.510648   \n",
       "75%       0.750459     0.733381     0.683094     0.764706      0.767913   \n",
       "max       1.000000     1.000000     1.000000     1.000000      1.000000   \n",
       "\n",
       "          app_code  \n",
       "count  1780.000000  \n",
       "mean      0.479682  \n",
       "std       0.245828  \n",
       "min       0.000000  \n",
       "25%       0.372781  \n",
       "50%       0.406312  \n",
       "75%       0.729783  \n",
       "max       1.000000  "
      ]
     },
     "execution_count": 88,
     "metadata": {},
     "output_type": "execute_result"
    }
   ],
   "source": [
    "A1.describe()"
   ]
  },
  {
   "cell_type": "code",
   "execution_count": 89,
   "id": "0a33661c",
   "metadata": {},
   "outputs": [
    {
     "data": {
      "text/html": [
       "<div>\n",
       "<style scoped>\n",
       "    .dataframe tbody tr th:only-of-type {\n",
       "        vertical-align: middle;\n",
       "    }\n",
       "\n",
       "    .dataframe tbody tr th {\n",
       "        vertical-align: top;\n",
       "    }\n",
       "\n",
       "    .dataframe thead th {\n",
       "        text-align: right;\n",
       "    }\n",
       "</style>\n",
       "<table border=\"1\" class=\"dataframe\">\n",
       "  <thead>\n",
       "    <tr style=\"text-align: right;\">\n",
       "      <th></th>\n",
       "      <th>user_id</th>\n",
       "      <th>session_id</th>\n",
       "      <th>item_id</th>\n",
       "      <th>category</th>\n",
       "      <th>product_type</th>\n",
       "      <th>app_code</th>\n",
       "    </tr>\n",
       "  </thead>\n",
       "  <tbody>\n",
       "    <tr>\n",
       "      <th>count</th>\n",
       "      <td>1780.000000</td>\n",
       "      <td>1.780000e+03</td>\n",
       "      <td>1780.000000</td>\n",
       "      <td>1780.000000</td>\n",
       "      <td>1780.000000</td>\n",
       "      <td>1780.000000</td>\n",
       "    </tr>\n",
       "    <tr>\n",
       "      <th>mean</th>\n",
       "      <td>46729.493820</td>\n",
       "      <td>5.467858e+05</td>\n",
       "      <td>63532.398876</td>\n",
       "      <td>10.260112</td>\n",
       "      <td>5367.814888</td>\n",
       "      <td>244.198876</td>\n",
       "    </tr>\n",
       "    <tr>\n",
       "      <th>std</th>\n",
       "      <td>26387.962825</td>\n",
       "      <td>3.087378e+05</td>\n",
       "      <td>36639.606662</td>\n",
       "      <td>4.840605</td>\n",
       "      <td>3077.228646</td>\n",
       "      <td>124.634935</td>\n",
       "    </tr>\n",
       "    <tr>\n",
       "      <th>min</th>\n",
       "      <td>10.000000</td>\n",
       "      <td>1.694000e+03</td>\n",
       "      <td>176.000000</td>\n",
       "      <td>0.000000</td>\n",
       "      <td>8.000000</td>\n",
       "      <td>1.000000</td>\n",
       "    </tr>\n",
       "    <tr>\n",
       "      <th>25%</th>\n",
       "      <td>24882.250000</td>\n",
       "      <td>2.738070e+05</td>\n",
       "      <td>34687.000000</td>\n",
       "      <td>7.000000</td>\n",
       "      <td>2739.500000</td>\n",
       "      <td>190.000000</td>\n",
       "    </tr>\n",
       "    <tr>\n",
       "      <th>50%</th>\n",
       "      <td>46148.000000</td>\n",
       "      <td>5.440370e+05</td>\n",
       "      <td>63579.500000</td>\n",
       "      <td>11.000000</td>\n",
       "      <td>5403.000000</td>\n",
       "      <td>207.000000</td>\n",
       "    </tr>\n",
       "    <tr>\n",
       "      <th>75%</th>\n",
       "      <td>69426.000000</td>\n",
       "      <td>7.992640e+05</td>\n",
       "      <td>90815.000000</td>\n",
       "      <td>13.000000</td>\n",
       "      <td>8121.000000</td>\n",
       "      <td>371.000000</td>\n",
       "    </tr>\n",
       "    <tr>\n",
       "      <th>max</th>\n",
       "      <td>92508.000000</td>\n",
       "      <td>1.089219e+06</td>\n",
       "      <td>132865.000000</td>\n",
       "      <td>17.000000</td>\n",
       "      <td>10573.000000</td>\n",
       "      <td>508.000000</td>\n",
       "    </tr>\n",
       "  </tbody>\n",
       "</table>\n",
       "</div>"
      ],
      "text/plain": [
       "            user_id    session_id        item_id     category  product_type  \\\n",
       "count   1780.000000  1.780000e+03    1780.000000  1780.000000   1780.000000   \n",
       "mean   46729.493820  5.467858e+05   63532.398876    10.260112   5367.814888   \n",
       "std    26387.962825  3.087378e+05   36639.606662     4.840605   3077.228646   \n",
       "min       10.000000  1.694000e+03     176.000000     0.000000      8.000000   \n",
       "25%    24882.250000  2.738070e+05   34687.000000     7.000000   2739.500000   \n",
       "50%    46148.000000  5.440370e+05   63579.500000    11.000000   5403.000000   \n",
       "75%    69426.000000  7.992640e+05   90815.000000    13.000000   8121.000000   \n",
       "max    92508.000000  1.089219e+06  132865.000000    17.000000  10573.000000   \n",
       "\n",
       "          app_code  \n",
       "count  1780.000000  \n",
       "mean    244.198876  \n",
       "std     124.634935  \n",
       "min       1.000000  \n",
       "25%     190.000000  \n",
       "50%     207.000000  \n",
       "75%     371.000000  \n",
       "max     508.000000  "
      ]
     },
     "execution_count": 89,
     "metadata": {},
     "output_type": "execute_result"
    }
   ],
   "source": [
    "A.describe()"
   ]
  },
  {
   "cell_type": "markdown",
   "id": "8dda7c08",
   "metadata": {},
   "source": [
    "#### Standard Scaling "
   ]
  },
  {
   "cell_type": "code",
   "execution_count": 90,
   "id": "cc485750",
   "metadata": {},
   "outputs": [
    {
     "data": {
      "text/html": [
       "<div>\n",
       "<style scoped>\n",
       "    .dataframe tbody tr th:only-of-type {\n",
       "        vertical-align: middle;\n",
       "    }\n",
       "\n",
       "    .dataframe tbody tr th {\n",
       "        vertical-align: top;\n",
       "    }\n",
       "\n",
       "    .dataframe thead th {\n",
       "        text-align: right;\n",
       "    }\n",
       "</style>\n",
       "<table border=\"1\" class=\"dataframe\">\n",
       "  <thead>\n",
       "    <tr style=\"text-align: right;\">\n",
       "      <th></th>\n",
       "      <th>user_id</th>\n",
       "      <th>session_id</th>\n",
       "      <th>item_id</th>\n",
       "      <th>category</th>\n",
       "      <th>product_type</th>\n",
       "      <th>app_code</th>\n",
       "    </tr>\n",
       "  </thead>\n",
       "  <tbody>\n",
       "    <tr>\n",
       "      <th>0</th>\n",
       "      <td>87862.0</td>\n",
       "      <td>268465.0</td>\n",
       "      <td>44459.0</td>\n",
       "      <td>11.0</td>\n",
       "      <td>3040.0</td>\n",
       "      <td>422.0</td>\n",
       "    </tr>\n",
       "    <tr>\n",
       "      <th>1</th>\n",
       "      <td>63410.0</td>\n",
       "      <td>268465.0</td>\n",
       "      <td>44459.0</td>\n",
       "      <td>12.0</td>\n",
       "      <td>6822.0</td>\n",
       "      <td>467.0</td>\n",
       "    </tr>\n",
       "    <tr>\n",
       "      <th>2</th>\n",
       "      <td>71748.0</td>\n",
       "      <td>268465.0</td>\n",
       "      <td>44459.0</td>\n",
       "      <td>17.0</td>\n",
       "      <td>1619.0</td>\n",
       "      <td>259.0</td>\n",
       "    </tr>\n",
       "    <tr>\n",
       "      <th>3</th>\n",
       "      <td>69209.0</td>\n",
       "      <td>268465.0</td>\n",
       "      <td>44459.0</td>\n",
       "      <td>13.0</td>\n",
       "      <td>5264.0</td>\n",
       "      <td>244.0</td>\n",
       "    </tr>\n",
       "    <tr>\n",
       "      <th>4</th>\n",
       "      <td>62873.0</td>\n",
       "      <td>268465.0</td>\n",
       "      <td>44459.0</td>\n",
       "      <td>17.0</td>\n",
       "      <td>10239.0</td>\n",
       "      <td>473.0</td>\n",
       "    </tr>\n",
       "  </tbody>\n",
       "</table>\n",
       "</div>"
      ],
      "text/plain": [
       "   user_id  session_id  item_id  category  product_type  app_code\n",
       "0  87862.0    268465.0  44459.0      11.0        3040.0     422.0\n",
       "1  63410.0    268465.0  44459.0      12.0        6822.0     467.0\n",
       "2  71748.0    268465.0  44459.0      17.0        1619.0     259.0\n",
       "3  69209.0    268465.0  44459.0      13.0        5264.0     244.0\n",
       "4  62873.0    268465.0  44459.0      17.0       10239.0     473.0"
      ]
     },
     "execution_count": 90,
     "metadata": {},
     "output_type": "execute_result"
    }
   ],
   "source": [
    "A.head()"
   ]
  },
  {
   "cell_type": "code",
   "execution_count": 91,
   "id": "540ac3ae",
   "metadata": {},
   "outputs": [],
   "source": [
    "# importing library  \n",
    "from sklearn.preprocessing import StandardScaler"
   ]
  },
  {
   "cell_type": "code",
   "execution_count": 92,
   "id": "a1b6540f",
   "metadata": {},
   "outputs": [],
   "source": [
    "stdsclr = StandardScaler() # creating an instance for StandardScaler()"
   ]
  },
  {
   "cell_type": "code",
   "execution_count": 93,
   "id": "eeea83f2",
   "metadata": {},
   "outputs": [],
   "source": [
    "A2 = stdsclr.fit_transform(A) # scaling will convert into an array, so describe() will not work"
   ]
  },
  {
   "cell_type": "code",
   "execution_count": 94,
   "id": "783b8c83",
   "metadata": {},
   "outputs": [],
   "source": [
    "A2 = pd.DataFrame(A2, columns=['user_id','session_id','item_id','category','product_type','app_code'])"
   ]
  },
  {
   "cell_type": "code",
   "execution_count": 95,
   "id": "7e21e3de",
   "metadata": {},
   "outputs": [
    {
     "data": {
      "text/html": [
       "<div>\n",
       "<style scoped>\n",
       "    .dataframe tbody tr th:only-of-type {\n",
       "        vertical-align: middle;\n",
       "    }\n",
       "\n",
       "    .dataframe tbody tr th {\n",
       "        vertical-align: top;\n",
       "    }\n",
       "\n",
       "    .dataframe thead th {\n",
       "        text-align: right;\n",
       "    }\n",
       "</style>\n",
       "<table border=\"1\" class=\"dataframe\">\n",
       "  <thead>\n",
       "    <tr style=\"text-align: right;\">\n",
       "      <th></th>\n",
       "      <th>user_id</th>\n",
       "      <th>session_id</th>\n",
       "      <th>item_id</th>\n",
       "      <th>category</th>\n",
       "      <th>product_type</th>\n",
       "      <th>app_code</th>\n",
       "    </tr>\n",
       "  </thead>\n",
       "  <tbody>\n",
       "    <tr>\n",
       "      <th>0</th>\n",
       "      <td>1.559198</td>\n",
       "      <td>-0.901733</td>\n",
       "      <td>-0.520714</td>\n",
       "      <td>0.152893</td>\n",
       "      <td>-0.756677</td>\n",
       "      <td>1.426976</td>\n",
       "    </tr>\n",
       "    <tr>\n",
       "      <th>1</th>\n",
       "      <td>0.632303</td>\n",
       "      <td>-0.901733</td>\n",
       "      <td>-0.520714</td>\n",
       "      <td>0.359537</td>\n",
       "      <td>0.472696</td>\n",
       "      <td>1.788132</td>\n",
       "    </tr>\n",
       "    <tr>\n",
       "      <th>2</th>\n",
       "      <td>0.948369</td>\n",
       "      <td>-0.901733</td>\n",
       "      <td>-0.520714</td>\n",
       "      <td>1.392756</td>\n",
       "      <td>-1.218586</td>\n",
       "      <td>0.118789</td>\n",
       "    </tr>\n",
       "    <tr>\n",
       "      <th>3</th>\n",
       "      <td>0.852124</td>\n",
       "      <td>-0.901733</td>\n",
       "      <td>-0.520714</td>\n",
       "      <td>0.566181</td>\n",
       "      <td>-0.033746</td>\n",
       "      <td>-0.001596</td>\n",
       "    </tr>\n",
       "    <tr>\n",
       "      <th>4</th>\n",
       "      <td>0.611947</td>\n",
       "      <td>-0.901733</td>\n",
       "      <td>-0.520714</td>\n",
       "      <td>1.392756</td>\n",
       "      <td>1.583423</td>\n",
       "      <td>1.836286</td>\n",
       "    </tr>\n",
       "  </tbody>\n",
       "</table>\n",
       "</div>"
      ],
      "text/plain": [
       "    user_id  session_id   item_id  category  product_type  app_code\n",
       "0  1.559198   -0.901733 -0.520714  0.152893     -0.756677  1.426976\n",
       "1  0.632303   -0.901733 -0.520714  0.359537      0.472696  1.788132\n",
       "2  0.948369   -0.901733 -0.520714  1.392756     -1.218586  0.118789\n",
       "3  0.852124   -0.901733 -0.520714  0.566181     -0.033746 -0.001596\n",
       "4  0.611947   -0.901733 -0.520714  1.392756      1.583423  1.836286"
      ]
     },
     "execution_count": 95,
     "metadata": {},
     "output_type": "execute_result"
    }
   ],
   "source": [
    "A2.head() # also displaying negative values"
   ]
  }
 ],
 "metadata": {
  "kernelspec": {
   "display_name": "Python 3 (ipykernel)",
   "language": "python",
   "name": "python3"
  },
  "language_info": {
   "codemirror_mode": {
    "name": "ipython",
    "version": 3
   },
   "file_extension": ".py",
   "mimetype": "text/x-python",
   "name": "python",
   "nbconvert_exporter": "python",
   "pygments_lexer": "ipython3",
   "version": "3.9.13"
  }
 },
 "nbformat": 4,
 "nbformat_minor": 5
}
