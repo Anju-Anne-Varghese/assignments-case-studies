{
 "cells": [
  {
   "cell_type": "markdown",
   "id": "d26e44f6",
   "metadata": {},
   "source": [
    "# EXERCISE"
   ]
  },
  {
   "cell_type": "code",
   "execution_count": 4,
   "id": "022a93d0",
   "metadata": {},
   "outputs": [],
   "source": [
    "# importing libraries\n",
    "import pandas as pd\n",
    "import numpy as np\n",
    "import matplotlib.pyplot as plt\n",
    "import seaborn as sns"
   ]
  },
  {
   "cell_type": "code",
   "execution_count": 5,
   "id": "9186c31f",
   "metadata": {},
   "outputs": [],
   "source": [
    "# loading into python\n",
    "data2 = pd.read_csv('C:/Users/Lenovo/NORKA/03rd jan 2023/DATA/titanic_dataset.csv')"
   ]
  },
  {
   "cell_type": "code",
   "execution_count": 6,
   "id": "6604ddc4",
   "metadata": {},
   "outputs": [
    {
     "data": {
      "text/html": [
       "<div>\n",
       "<style scoped>\n",
       "    .dataframe tbody tr th:only-of-type {\n",
       "        vertical-align: middle;\n",
       "    }\n",
       "\n",
       "    .dataframe tbody tr th {\n",
       "        vertical-align: top;\n",
       "    }\n",
       "\n",
       "    .dataframe thead th {\n",
       "        text-align: right;\n",
       "    }\n",
       "</style>\n",
       "<table border=\"1\" class=\"dataframe\">\n",
       "  <thead>\n",
       "    <tr style=\"text-align: right;\">\n",
       "      <th></th>\n",
       "      <th>PassengerId</th>\n",
       "      <th>Survived</th>\n",
       "      <th>Pclass</th>\n",
       "      <th>Name</th>\n",
       "      <th>Sex</th>\n",
       "      <th>Age</th>\n",
       "      <th>SibSp</th>\n",
       "      <th>Parch</th>\n",
       "      <th>Ticket</th>\n",
       "      <th>Fare</th>\n",
       "      <th>Cabin</th>\n",
       "      <th>Embarked</th>\n",
       "    </tr>\n",
       "  </thead>\n",
       "  <tbody>\n",
       "    <tr>\n",
       "      <th>0</th>\n",
       "      <td>1</td>\n",
       "      <td>0</td>\n",
       "      <td>3</td>\n",
       "      <td>Braund, Mr. Owen Harris</td>\n",
       "      <td>male</td>\n",
       "      <td>22.0</td>\n",
       "      <td>1</td>\n",
       "      <td>0</td>\n",
       "      <td>A/5 21171</td>\n",
       "      <td>7.2500</td>\n",
       "      <td>NaN</td>\n",
       "      <td>S</td>\n",
       "    </tr>\n",
       "    <tr>\n",
       "      <th>1</th>\n",
       "      <td>2</td>\n",
       "      <td>1</td>\n",
       "      <td>1</td>\n",
       "      <td>Cumings, Mrs. John Bradley (Florence Briggs Th...</td>\n",
       "      <td>female</td>\n",
       "      <td>38.0</td>\n",
       "      <td>1</td>\n",
       "      <td>0</td>\n",
       "      <td>PC 17599</td>\n",
       "      <td>71.2833</td>\n",
       "      <td>C85</td>\n",
       "      <td>C</td>\n",
       "    </tr>\n",
       "    <tr>\n",
       "      <th>2</th>\n",
       "      <td>3</td>\n",
       "      <td>1</td>\n",
       "      <td>3</td>\n",
       "      <td>Heikkinen, Miss. Laina</td>\n",
       "      <td>female</td>\n",
       "      <td>26.0</td>\n",
       "      <td>0</td>\n",
       "      <td>0</td>\n",
       "      <td>STON/O2. 3101282</td>\n",
       "      <td>7.9250</td>\n",
       "      <td>NaN</td>\n",
       "      <td>S</td>\n",
       "    </tr>\n",
       "    <tr>\n",
       "      <th>3</th>\n",
       "      <td>4</td>\n",
       "      <td>1</td>\n",
       "      <td>1</td>\n",
       "      <td>Futrelle, Mrs. Jacques Heath (Lily May Peel)</td>\n",
       "      <td>female</td>\n",
       "      <td>35.0</td>\n",
       "      <td>1</td>\n",
       "      <td>0</td>\n",
       "      <td>113803</td>\n",
       "      <td>53.1000</td>\n",
       "      <td>C123</td>\n",
       "      <td>S</td>\n",
       "    </tr>\n",
       "    <tr>\n",
       "      <th>4</th>\n",
       "      <td>5</td>\n",
       "      <td>0</td>\n",
       "      <td>3</td>\n",
       "      <td>Allen, Mr. William Henry</td>\n",
       "      <td>male</td>\n",
       "      <td>35.0</td>\n",
       "      <td>0</td>\n",
       "      <td>0</td>\n",
       "      <td>373450</td>\n",
       "      <td>8.0500</td>\n",
       "      <td>NaN</td>\n",
       "      <td>S</td>\n",
       "    </tr>\n",
       "  </tbody>\n",
       "</table>\n",
       "</div>"
      ],
      "text/plain": [
       "   PassengerId  Survived  Pclass  \\\n",
       "0            1         0       3   \n",
       "1            2         1       1   \n",
       "2            3         1       3   \n",
       "3            4         1       1   \n",
       "4            5         0       3   \n",
       "\n",
       "                                                Name     Sex   Age  SibSp  \\\n",
       "0                            Braund, Mr. Owen Harris    male  22.0      1   \n",
       "1  Cumings, Mrs. John Bradley (Florence Briggs Th...  female  38.0      1   \n",
       "2                             Heikkinen, Miss. Laina  female  26.0      0   \n",
       "3       Futrelle, Mrs. Jacques Heath (Lily May Peel)  female  35.0      1   \n",
       "4                           Allen, Mr. William Henry    male  35.0      0   \n",
       "\n",
       "   Parch            Ticket     Fare Cabin Embarked  \n",
       "0      0         A/5 21171   7.2500   NaN        S  \n",
       "1      0          PC 17599  71.2833   C85        C  \n",
       "2      0  STON/O2. 3101282   7.9250   NaN        S  \n",
       "3      0            113803  53.1000  C123        S  \n",
       "4      0            373450   8.0500   NaN        S  "
      ]
     },
     "execution_count": 6,
     "metadata": {},
     "output_type": "execute_result"
    }
   ],
   "source": [
    "# display first 5 rows of the dataframe\n",
    "data2.head()"
   ]
  },
  {
   "cell_type": "code",
   "execution_count": 7,
   "id": "ad7bfa7f",
   "metadata": {},
   "outputs": [
    {
     "name": "stdout",
     "output_type": "stream",
     "text": [
      "<class 'pandas.core.frame.DataFrame'>\n",
      "RangeIndex: 891 entries, 0 to 890\n",
      "Data columns (total 12 columns):\n",
      " #   Column       Non-Null Count  Dtype  \n",
      "---  ------       --------------  -----  \n",
      " 0   PassengerId  891 non-null    int64  \n",
      " 1   Survived     891 non-null    int64  \n",
      " 2   Pclass       891 non-null    int64  \n",
      " 3   Name         891 non-null    object \n",
      " 4   Sex          891 non-null    object \n",
      " 5   Age          714 non-null    float64\n",
      " 6   SibSp        891 non-null    int64  \n",
      " 7   Parch        891 non-null    int64  \n",
      " 8   Ticket       891 non-null    object \n",
      " 9   Fare         891 non-null    float64\n",
      " 10  Cabin        204 non-null    object \n",
      " 11  Embarked     889 non-null    object \n",
      "dtypes: float64(2), int64(5), object(5)\n",
      "memory usage: 83.7+ KB\n"
     ]
    }
   ],
   "source": [
    "# display information about the dataframe\n",
    "data2.info()"
   ]
  },
  {
   "cell_type": "markdown",
   "id": "fdf2bee1",
   "metadata": {},
   "source": [
    "~ Name, Sex, Ticket, Cabin and Embarked are of type object"
   ]
  },
  {
   "cell_type": "markdown",
   "id": "94a499c7",
   "metadata": {},
   "source": [
    "## MISSING VALUES"
   ]
  },
  {
   "cell_type": "code",
   "execution_count": 8,
   "id": "5e399069",
   "metadata": {},
   "outputs": [
    {
     "data": {
      "text/plain": [
       "PassengerId      0\n",
       "Survived         0\n",
       "Pclass           0\n",
       "Name             0\n",
       "Sex              0\n",
       "Age            177\n",
       "SibSp            0\n",
       "Parch            0\n",
       "Ticket           0\n",
       "Fare             0\n",
       "Cabin          687\n",
       "Embarked         2\n",
       "dtype: int64"
      ]
     },
     "execution_count": 8,
     "metadata": {},
     "output_type": "execute_result"
    }
   ],
   "source": [
    "# number of null values in the dataframe 'data'\n",
    "data2.isna().sum()"
   ]
  },
  {
   "cell_type": "code",
   "execution_count": 9,
   "id": "6ef6665a",
   "metadata": {},
   "outputs": [
    {
     "data": {
      "text/plain": [
       "PassengerId     0.000000\n",
       "Survived        0.000000\n",
       "Pclass          0.000000\n",
       "Name            0.000000\n",
       "Sex             0.000000\n",
       "Age            19.865320\n",
       "SibSp           0.000000\n",
       "Parch           0.000000\n",
       "Ticket          0.000000\n",
       "Fare            0.000000\n",
       "Cabin          77.104377\n",
       "Embarked        0.224467\n",
       "dtype: float64"
      ]
     },
     "execution_count": 9,
     "metadata": {},
     "output_type": "execute_result"
    }
   ],
   "source": [
    "# to find the percentage of missing values\n",
    "data2.isnull().sum()*100/len(data2) "
   ]
  },
  {
   "cell_type": "markdown",
   "id": "937180a3",
   "metadata": {},
   "source": [
    "~ The columns 'Age', 'Cabin' and 'Embarked' are having 177, 687 and 2 null values\n",
    "\n",
    "~ For 'Cabin' column from the dataframe , 77.104377 % of the data are null values, dropping that column from the dataframe will be the best option. If  the null values of  'Cabin' column are filled with mode, there is a chance for biasing  in our data set."
   ]
  },
  {
   "cell_type": "code",
   "execution_count": 10,
   "id": "98b00003",
   "metadata": {},
   "outputs": [],
   "source": [
    "# dropping 'Cabin' column from the dataframe 'data2'\n",
    "data2.drop('Cabin', axis=1, inplace = True)\n"
   ]
  },
  {
   "cell_type": "code",
   "execution_count": 11,
   "id": "a8e75799",
   "metadata": {},
   "outputs": [
    {
     "data": {
      "text/plain": [
       "'S'"
      ]
     },
     "execution_count": 11,
     "metadata": {},
     "output_type": "execute_result"
    }
   ],
   "source": [
    "# displaying the mode of 'Embarked' column \n",
    "data2['Embarked'].mode()[0]"
   ]
  },
  {
   "cell_type": "code",
   "execution_count": 12,
   "id": "0ba9b6e3",
   "metadata": {},
   "outputs": [],
   "source": [
    "# filling missing values in 'Embarked' column with mode since it is a categorical column\n",
    "data2['Embarked'] = data2['Embarked'].fillna(data2['Embarked'].mode()[0])"
   ]
  },
  {
   "cell_type": "code",
   "execution_count": 13,
   "id": "d27cdc58",
   "metadata": {},
   "outputs": [
    {
     "data": {
      "image/png": "[encoded data removed]",
      "text/plain": [
       "<Figure size 640x480 with 1 Axes>"
      ]
     },
     "metadata": {},
     "output_type": "display_data"
    }
   ],
   "source": [
    "# plotting histogram of 'Age' column\n",
    "plt.hist(data2['Age'])\n",
    "plt.title(\"Histogram of Age\")\n",
    "plt.show()"
   ]
  },
  {
   "cell_type": "markdown",
   "id": "131df196",
   "metadata": {},
   "source": [
    "~ right skewed - so use median to fill the missing values"
   ]
  },
  {
   "cell_type": "code",
   "execution_count": 14,
   "id": "e103a2c2",
   "metadata": {},
   "outputs": [],
   "source": [
    "# filling missing values in 'Age' column with median \n",
    "data2['Age'] = data2['Age'].fillna(data2['Age'].median())"
   ]
  },
  {
   "cell_type": "code",
   "execution_count": 15,
   "id": "942014e5",
   "metadata": {},
   "outputs": [
    {
     "data": {
      "text/plain": [
       "PassengerId    0\n",
       "Survived       0\n",
       "Pclass         0\n",
       "Name           0\n",
       "Sex            0\n",
       "Age            0\n",
       "SibSp          0\n",
       "Parch          0\n",
       "Ticket         0\n",
       "Fare           0\n",
       "Embarked       0\n",
       "dtype: int64"
      ]
     },
     "execution_count": 15,
     "metadata": {},
     "output_type": "execute_result"
    }
   ],
   "source": [
    "# count of null values\n",
    "data2.isnull().sum()"
   ]
  },
  {
   "cell_type": "code",
   "execution_count": 16,
   "id": "01a5f3a5",
   "metadata": {},
   "outputs": [
    {
     "name": "stdout",
     "output_type": "stream",
     "text": [
      "<class 'pandas.core.frame.DataFrame'>\n",
      "RangeIndex: 891 entries, 0 to 890\n",
      "Data columns (total 11 columns):\n",
      " #   Column       Non-Null Count  Dtype  \n",
      "---  ------       --------------  -----  \n",
      " 0   PassengerId  891 non-null    int64  \n",
      " 1   Survived     891 non-null    int64  \n",
      " 2   Pclass       891 non-null    int64  \n",
      " 3   Name         891 non-null    object \n",
      " 4   Sex          891 non-null    object \n",
      " 5   Age          891 non-null    float64\n",
      " 6   SibSp        891 non-null    int64  \n",
      " 7   Parch        891 non-null    int64  \n",
      " 8   Ticket       891 non-null    object \n",
      " 9   Fare         891 non-null    float64\n",
      " 10  Embarked     891 non-null    object \n",
      "dtypes: float64(2), int64(5), object(4)\n",
      "memory usage: 76.7+ KB\n"
     ]
    }
   ],
   "source": [
    "# Print information about the dataframe 'data2'\n",
    "data2.info()"
   ]
  },
  {
   "cell_type": "markdown",
   "id": "dc2e27b4",
   "metadata": {},
   "source": [
    "## OUTLIER"
   ]
  },
  {
   "cell_type": "markdown",
   "id": "05f49805",
   "metadata": {},
   "source": [
    "~checking outliers for 'Age', 'Fare', 'SibSp' columns"
   ]
  },
  {
   "cell_type": "markdown",
   "id": "24bce9dd",
   "metadata": {},
   "source": [
    "##### 'Outliers' in 'Age' column"
   ]
  },
  {
   "cell_type": "code",
   "execution_count": 17,
   "id": "553f980d",
   "metadata": {},
   "outputs": [
    {
     "data": {
      "image/png": "[encoded data removed]",
      "text/plain": [
       "<Figure size 640x480 with 1 Axes>"
      ]
     },
     "metadata": {},
     "output_type": "display_data"
    }
   ],
   "source": [
    "# Boxplot of 'Age' column to check outliers\n",
    "plt.boxplot(data2['Age'])\n",
    "\n",
    "# plotting the title as \"Boxplot of Age\"\n",
    "plt.title(\"Boxplot of Age\")\n",
    "\n",
    "# display figures\n",
    "plt.show()"
   ]
  },
  {
   "cell_type": "markdown",
   "id": "c016be56",
   "metadata": {},
   "source": [
    "~ lot of outliers  present above the upper whisker of 'Age' column "
   ]
  },
  {
   "cell_type": "markdown",
   "id": "2eb5e018",
   "metadata": {},
   "source": [
    "First, Second and Third Quartile of 'Age' column"
   ]
  },
  {
   "cell_type": "code",
   "execution_count": 18,
   "id": "fd1dfcf6",
   "metadata": {},
   "outputs": [
    {
     "data": {
      "text/plain": [
       "\"First Quartile of 'Age' column = 22.0\""
      ]
     },
     "execution_count": 18,
     "metadata": {},
     "output_type": "execute_result"
    }
   ],
   "source": [
    "# First Quartile of 'Age' column\n",
    "Q1_age = np.percentile(data2['Age'], 25, interpolation='midpoint')\n",
    "f\"First Quartile of 'Age' column = {Q1_age}\""
   ]
  },
  {
   "cell_type": "code",
   "execution_count": 19,
   "id": "054abfcf",
   "metadata": {},
   "outputs": [
    {
     "data": {
      "text/plain": [
       "\"Second Quartile of 'Age' column = 28.0\""
      ]
     },
     "execution_count": 19,
     "metadata": {},
     "output_type": "execute_result"
    }
   ],
   "source": [
    "# Second Quartile of 'Age' column\n",
    "Q2_age = np.percentile(data2['Age'], 50, interpolation='midpoint')\n",
    "f\"Second Quartile of 'Age' column = {Q2_age}\""
   ]
  },
  {
   "cell_type": "code",
   "execution_count": 20,
   "id": "dd01610c",
   "metadata": {},
   "outputs": [
    {
     "data": {
      "text/plain": [
       "\"Third Quartile of 'Age' column = 35.0\""
      ]
     },
     "execution_count": 20,
     "metadata": {},
     "output_type": "execute_result"
    }
   ],
   "source": [
    "# Third Quartile of 'Age' column\n",
    "Q3_age = np.percentile(data2['Age'], 75, interpolation='midpoint')\n",
    "f\"Third Quartile of 'Age' column = {Q3_age}\""
   ]
  },
  {
   "cell_type": "code",
   "execution_count": 21,
   "id": "ea0e6529",
   "metadata": {},
   "outputs": [
    {
     "data": {
      "text/plain": [
       "\"IQR of 'Age' column = 13.0\""
      ]
     },
     "execution_count": 21,
     "metadata": {},
     "output_type": "execute_result"
    }
   ],
   "source": [
    "# (interquartile range) IQR of  'Age' column\n",
    "IQR_age = Q3_age-Q1_age\n",
    "f\"IQR of 'Age' column = {IQR_age}\""
   ]
  },
  {
   "cell_type": "markdown",
   "id": "5632cfff",
   "metadata": {},
   "source": [
    "find the lower whisker and upper whisker of 'Age' column"
   ]
  },
  {
   "cell_type": "code",
   "execution_count": 22,
   "id": "abd30b4c",
   "metadata": {},
   "outputs": [
    {
     "data": {
      "text/plain": [
       "\"lower whisker of 'Age' column = 2.5\""
      ]
     },
     "execution_count": 22,
     "metadata": {},
     "output_type": "execute_result"
    }
   ],
   "source": [
    "# lower whisker of 'Age' column\n",
    "low_age = Q1_age-1.5*IQR_age \n",
    "f\"lower whisker of 'Age' column = {low_age}\""
   ]
  },
  {
   "cell_type": "code",
   "execution_count": 23,
   "id": "96984da4",
   "metadata": {},
   "outputs": [
    {
     "data": {
      "text/plain": [
       "\"upper whisker of 'Age' column = 54.5\""
      ]
     },
     "execution_count": 23,
     "metadata": {},
     "output_type": "execute_result"
    }
   ],
   "source": [
    "# upper whisker of 'Age' column\n",
    "up_age = Q3_age+1.5*IQR_age\n",
    "f\"upper whisker of 'Age' column = {up_age}\""
   ]
  },
  {
   "cell_type": "code",
   "execution_count": 24,
   "id": "1d5f203a",
   "metadata": {},
   "outputs": [
    {
     "data": {
      "text/plain": [
       "\"Outliers of 'Age' column = [2.0, 58.0, 55.0, 2.0, 66.0, 65.0, 0.83, 59.0, 71.0, 70.5, 2.0, 55.5, 1.0, 61.0, 1.0, 56.0, 1.0, 58.0, 2.0, 59.0, 62.0, 58.0, 63.0, 65.0, 2.0, 0.92, 61.0, 2.0, 60.0, 1.0, 1.0, 64.0, 65.0, 56.0, 0.75, 2.0, 63.0, 58.0, 55.0, 71.0, 2.0, 64.0, 62.0, 62.0, 60.0, 61.0, 57.0, 80.0, 2.0, 0.75, 56.0, 58.0, 70.0, 60.0, 60.0, 70.0, 0.67, 57.0, 1.0, 0.42, 2.0, 1.0, 62.0, 0.83, 74.0, 56.0]\""
      ]
     },
     "execution_count": 24,
     "metadata": {},
     "output_type": "execute_result"
    }
   ],
   "source": [
    "# to find the outliers  in 'Age' column and display it\n",
    "outlier_age = [] \n",
    "for x_age in data2['Age']:\n",
    "    if((x_age>up_age) or (x_age<low_age)):\n",
    "        outlier_age.append(x_age)\n",
    "f\"Outliers of 'Age' column = {outlier_age}\"\n"
   ]
  },
  {
   "cell_type": "markdown",
   "id": "be38e602",
   "metadata": {},
   "source": [
    "##### 'Outliers' in 'Fare' column"
   ]
  },
  {
   "cell_type": "code",
   "execution_count": 25,
   "id": "699f6085",
   "metadata": {},
   "outputs": [
    {
     "data": {
      "image/png": "[encoded data removed]",
      "text/plain": [
       "<Figure size 640x480 with 1 Axes>"
      ]
     },
     "metadata": {},
     "output_type": "display_data"
    }
   ],
   "source": [
    "# Boxplot of 'Fare' column to check outliers\n",
    "plt.boxplot(data2['Fare'])\n",
    "\n",
    "# plotting the title as \"Boxplot of Fare\"\n",
    "plt.title(\"Boxplot of Fare\")\n",
    "\n",
    "# display figures\n",
    "plt.show()"
   ]
  },
  {
   "cell_type": "markdown",
   "id": "e95904e8",
   "metadata": {},
   "source": [
    "~ lot of outliers  present above the upper whisker of 'Fare' column "
   ]
  },
  {
   "cell_type": "markdown",
   "id": "a0510a52",
   "metadata": {},
   "source": [
    "First, Second and Third Quartile of 'Fare' column"
   ]
  },
  {
   "cell_type": "code",
   "execution_count": 26,
   "id": "dd37222b",
   "metadata": {},
   "outputs": [
    {
     "data": {
      "text/plain": [
       "\"First Quartile of 'Fare' column = 7.9104\""
      ]
     },
     "execution_count": 26,
     "metadata": {},
     "output_type": "execute_result"
    }
   ],
   "source": [
    "# First Quartile of 'Fare' column\n",
    "Q1_fare = np.percentile(data2['Fare'], 25, interpolation='midpoint')\n",
    "f\"First Quartile of 'Fare' column = {Q1_fare}\""
   ]
  },
  {
   "cell_type": "code",
   "execution_count": 27,
   "id": "22ef20ce",
   "metadata": {},
   "outputs": [
    {
     "data": {
      "text/plain": [
       "\"Second Quartile of 'Fare' column = 14.4542\""
      ]
     },
     "execution_count": 27,
     "metadata": {},
     "output_type": "execute_result"
    }
   ],
   "source": [
    "# Second Quartile of 'Fare' column\n",
    "Q2_fare = np.percentile(data2['Fare'], 50, interpolation='midpoint')\n",
    "f\"Second Quartile of 'Fare' column = {Q2_fare}\""
   ]
  },
  {
   "cell_type": "code",
   "execution_count": 28,
   "id": "d6b2ad5f",
   "metadata": {},
   "outputs": [
    {
     "data": {
      "text/plain": [
       "\"Third Quartile of 'Fare' column = 31.0\""
      ]
     },
     "execution_count": 28,
     "metadata": {},
     "output_type": "execute_result"
    }
   ],
   "source": [
    "# Third Quartile of 'Fare' column\n",
    "Q3_fare = np.percentile(data2['Fare'], 75, interpolation='midpoint')\n",
    "f\"Third Quartile of 'Fare' column = {Q3_fare}\""
   ]
  },
  {
   "cell_type": "code",
   "execution_count": 29,
   "id": "aecfed8c",
   "metadata": {},
   "outputs": [
    {
     "data": {
      "text/plain": [
       "\"IQR of 'Fare' column = 23.0896\""
      ]
     },
     "execution_count": 29,
     "metadata": {},
     "output_type": "execute_result"
    }
   ],
   "source": [
    "# (interquartile range) IQR of  'Fare' column\n",
    "IQR_fare = Q3_fare-Q1_fare\n",
    "f\"IQR of 'Fare' column = {IQR_fare}\""
   ]
  },
  {
   "cell_type": "markdown",
   "id": "e150de8c",
   "metadata": {},
   "source": [
    "find the lower whisker and upper whisker of 'Fare' column"
   ]
  },
  {
   "cell_type": "code",
   "execution_count": 30,
   "id": "cf10f55f",
   "metadata": {},
   "outputs": [
    {
     "data": {
      "text/plain": [
       "\"lower whisker of 'Fare' column = -26.724\""
      ]
     },
     "execution_count": 30,
     "metadata": {},
     "output_type": "execute_result"
    }
   ],
   "source": [
    "# lower whisker of 'Fare' column\n",
    "low_fare = Q1_fare-1.5*IQR_fare \n",
    "f\"lower whisker of 'Fare' column = {low_fare}\""
   ]
  },
  {
   "cell_type": "code",
   "execution_count": 31,
   "id": "f8f83540",
   "metadata": {},
   "outputs": [
    {
     "data": {
      "text/plain": [
       "\"upper whisker of 'Fare' column = 65.6344\""
      ]
     },
     "execution_count": 31,
     "metadata": {},
     "output_type": "execute_result"
    }
   ],
   "source": [
    "# upper whisker of 'Fare' column\n",
    "up_fare = Q3_fare+1.5*IQR_fare\n",
    "f\"upper whisker of 'Fare' column = {up_fare}\""
   ]
  },
  {
   "cell_type": "code",
   "execution_count": 32,
   "id": "79050645",
   "metadata": {},
   "outputs": [
    {
     "data": {
      "text/plain": [
       "\"Outliers of 'Fare' column = [71.2833, 263.0, 146.5208, 82.1708, 76.7292, 80.0, 83.475, 73.5, 263.0, 77.2875, 247.5208, 73.5, 77.2875, 79.2, 66.6, 69.55, 69.55, 146.5208, 69.55, 113.275, 76.2917, 90.0, 83.475, 90.0, 79.2, 86.5, 512.3292, 79.65, 153.4625, 135.6333, 77.9583, 78.85, 91.0792, 151.55, 247.5208, 151.55, 110.8833, 108.9, 83.1583, 262.375, 164.8667, 134.5, 69.55, 135.6333, 153.4625, 133.65, 66.6, 134.5, 263.0, 75.25, 69.3, 135.6333, 82.1708, 211.5, 227.525, 73.5, 120.0, 113.275, 90.0, 120.0, 263.0, 81.8583, 89.1042, 91.0792, 90.0, 78.2667, 151.55, 86.5, 108.9, 93.5, 221.7792, 106.425, 71.0, 106.425, 110.8833, 227.525, 79.65, 110.8833, 79.65, 79.2, 78.2667, 153.4625, 77.9583, 69.3, 76.7292, 73.5, 113.275, 133.65, 73.5, 512.3292, 76.7292, 211.3375, 110.8833, 227.525, 151.55, 227.525, 211.3375, 512.3292, 78.85, 262.375, 71.0, 86.5, 120.0, 77.9583, 211.3375, 79.2, 69.55, 120.0, 93.5, 80.0, 83.1583, 69.55, 89.1042, 164.8667, 69.55, 83.1583]\""
      ]
     },
     "execution_count": 32,
     "metadata": {},
     "output_type": "execute_result"
    }
   ],
   "source": [
    "# to find the outliers  in 'Fare' column and display it\n",
    "outlier_fare = [] \n",
    "for x_fare in data2['Fare']:\n",
    "    if((x_fare>up_fare) or (x_fare<low_fare)):\n",
    "        outlier_fare.append(x_fare)\n",
    "f\"Outliers of 'Fare' column = {outlier_fare}\"\n"
   ]
  },
  {
   "cell_type": "markdown",
   "id": "733bceab",
   "metadata": {},
   "source": [
    "##### 'Outliers' in 'SibSp' column"
   ]
  },
  {
   "cell_type": "code",
   "execution_count": 33,
   "id": "7d2cf917",
   "metadata": {},
   "outputs": [
    {
     "data": {
      "image/png": "[encoded data removed]",
      "text/plain": [
       "<Figure size 640x480 with 1 Axes>"
      ]
     },
     "metadata": {},
     "output_type": "display_data"
    }
   ],
   "source": [
    "# Boxplot of 'SibSp' column to check outliers\n",
    "plt.boxplot(data2['SibSp'])\n",
    "\n",
    "# plotting the title as \"Boxplot of 'SibSp\"\n",
    "plt.title(\"Boxplot of 'SibSp\")\n",
    "\n",
    "# display figures\n",
    "plt.show()"
   ]
  },
  {
   "cell_type": "markdown",
   "id": "e3be2a80",
   "metadata": {},
   "source": [
    "~ some outliers present above the upper whisker of 'SibSp' column"
   ]
  },
  {
   "cell_type": "code",
   "execution_count": 34,
   "id": "56a48511",
   "metadata": {},
   "outputs": [
    {
     "data": {
      "text/plain": [
       "\"First Quartile of 'SibSp' column = 0.0\""
      ]
     },
     "execution_count": 34,
     "metadata": {},
     "output_type": "execute_result"
    }
   ],
   "source": [
    "# First Quartile of 'SibSp' column\n",
    "Q1_sib = np.percentile(data2['SibSp'], 25, interpolation='midpoint')\n",
    "f\"First Quartile of 'SibSp' column = {Q1_sib}\""
   ]
  },
  {
   "cell_type": "code",
   "execution_count": 35,
   "id": "f540a1ac",
   "metadata": {},
   "outputs": [
    {
     "data": {
      "text/plain": [
       "\"Second Quartile of 'SibSp' column = 0.0\""
      ]
     },
     "execution_count": 35,
     "metadata": {},
     "output_type": "execute_result"
    }
   ],
   "source": [
    "# Second Quartile of 'SibSp' column\n",
    "Q2_sib = np.percentile(data2['SibSp'], 50, interpolation='midpoint')\n",
    "f\"Second Quartile of 'SibSp' column = {Q2_sib}\""
   ]
  },
  {
   "cell_type": "code",
   "execution_count": 36,
   "id": "66da3579",
   "metadata": {},
   "outputs": [
    {
     "data": {
      "text/plain": [
       "\"Third Quartile of 'SibSp' column = 1.0\""
      ]
     },
     "execution_count": 36,
     "metadata": {},
     "output_type": "execute_result"
    }
   ],
   "source": [
    "# Third Quartile of 'SibSp' column\n",
    "Q3_sib = np.percentile(data2['SibSp'], 75, interpolation='midpoint')\n",
    "f\"Third Quartile of 'SibSp' column = {Q3_sib}\""
   ]
  },
  {
   "cell_type": "code",
   "execution_count": 37,
   "id": "ec5c4f4c",
   "metadata": {},
   "outputs": [
    {
     "data": {
      "text/plain": [
       "\"IQR of 'SibSp' column = 1.0\""
      ]
     },
     "execution_count": 37,
     "metadata": {},
     "output_type": "execute_result"
    }
   ],
   "source": [
    "# (interquartile range) IQR of  'SibSp' column\n",
    "IQR_sib = Q3_sib-Q1_sib\n",
    "f\"IQR of 'SibSp' column = {IQR_sib}\""
   ]
  },
  {
   "cell_type": "markdown",
   "id": "9b8a3371",
   "metadata": {},
   "source": [
    "find the lower whisker and upper whisker of 'SibSp' column"
   ]
  },
  {
   "cell_type": "code",
   "execution_count": 38,
   "id": "2234abf2",
   "metadata": {},
   "outputs": [
    {
     "data": {
      "text/plain": [
       "\"lower whisker of 'SibSp' column = -1.5\""
      ]
     },
     "execution_count": 38,
     "metadata": {},
     "output_type": "execute_result"
    }
   ],
   "source": [
    "# lower whisker of 'SibSp' column\n",
    "low_sib = Q1_sib-1.5*IQR_sib \n",
    "f\"lower whisker of 'SibSp' column = {low_sib}\""
   ]
  },
  {
   "cell_type": "code",
   "execution_count": 39,
   "id": "0c5ec734",
   "metadata": {},
   "outputs": [
    {
     "data": {
      "text/plain": [
       "\"upper whisker of 'SibSp' column = 2.5\""
      ]
     },
     "execution_count": 39,
     "metadata": {},
     "output_type": "execute_result"
    }
   ],
   "source": [
    "# upper whisker of 'SibSp' column\n",
    "up_sib = Q3_sib+1.5*IQR_sib\n",
    "f\"upper whisker of 'SibSp' column = {up_sib}\""
   ]
  },
  {
   "cell_type": "code",
   "execution_count": 40,
   "id": "5cac1c95",
   "metadata": {},
   "outputs": [
    {
     "data": {
      "text/plain": [
       "\"Outliers of 'SibSp' column = [3, 4, 3, 3, 4, 5, 3, 4, 5, 3, 3, 4, 8, 4, 4, 3, 8, 4, 8, 3, 4, 4, 4, 4, 8, 3, 3, 5, 3, 5, 3, 4, 4, 3, 3, 5, 4, 3, 4, 8, 4, 3, 4, 8, 4, 8]\""
      ]
     },
     "execution_count": 40,
     "metadata": {},
     "output_type": "execute_result"
    }
   ],
   "source": [
    "# to find the outliers  in 'SibSp' column and display it\n",
    "outlier_sib = [] \n",
    "for x_sib in data2['SibSp']:\n",
    "    if((x_sib>up_sib) or (x_sib<low_sib)):\n",
    "        outlier_sib.append(x_sib)\n",
    "f\"Outliers of 'SibSp' column = {outlier_sib}\"\n"
   ]
  },
  {
   "cell_type": "markdown",
   "id": "7cf459c3",
   "metadata": {},
   "source": [
    "## CORRELATION"
   ]
  },
  {
   "cell_type": "code",
   "execution_count": 41,
   "id": "b6ae91fd",
   "metadata": {},
   "outputs": [],
   "source": [
    "# Correlation\n",
    "# selecting some numerical variables for doing correlation\n",
    "P = data2[['Survived', 'Age', 'Parch', 'SibSp', 'Fare', 'Pclass']] "
   ]
  },
  {
   "cell_type": "code",
   "execution_count": 42,
   "id": "eb21af11",
   "metadata": {},
   "outputs": [
    {
     "data": {
      "text/html": [
       "<div>\n",
       "<style scoped>\n",
       "    .dataframe tbody tr th:only-of-type {\n",
       "        vertical-align: middle;\n",
       "    }\n",
       "\n",
       "    .dataframe tbody tr th {\n",
       "        vertical-align: top;\n",
       "    }\n",
       "\n",
       "    .dataframe thead th {\n",
       "        text-align: right;\n",
       "    }\n",
       "</style>\n",
       "<table border=\"1\" class=\"dataframe\">\n",
       "  <thead>\n",
       "    <tr style=\"text-align: right;\">\n",
       "      <th></th>\n",
       "      <th>Survived</th>\n",
       "      <th>Age</th>\n",
       "      <th>Parch</th>\n",
       "      <th>SibSp</th>\n",
       "      <th>Fare</th>\n",
       "      <th>Pclass</th>\n",
       "    </tr>\n",
       "  </thead>\n",
       "  <tbody>\n",
       "    <tr>\n",
       "      <th>Survived</th>\n",
       "      <td>1.000000</td>\n",
       "      <td>-0.064910</td>\n",
       "      <td>0.081629</td>\n",
       "      <td>-0.035322</td>\n",
       "      <td>0.257307</td>\n",
       "      <td>-0.338481</td>\n",
       "    </tr>\n",
       "    <tr>\n",
       "      <th>Age</th>\n",
       "      <td>-0.064910</td>\n",
       "      <td>1.000000</td>\n",
       "      <td>-0.172482</td>\n",
       "      <td>-0.233296</td>\n",
       "      <td>0.096688</td>\n",
       "      <td>-0.339898</td>\n",
       "    </tr>\n",
       "    <tr>\n",
       "      <th>Parch</th>\n",
       "      <td>0.081629</td>\n",
       "      <td>-0.172482</td>\n",
       "      <td>1.000000</td>\n",
       "      <td>0.414838</td>\n",
       "      <td>0.216225</td>\n",
       "      <td>0.018443</td>\n",
       "    </tr>\n",
       "    <tr>\n",
       "      <th>SibSp</th>\n",
       "      <td>-0.035322</td>\n",
       "      <td>-0.233296</td>\n",
       "      <td>0.414838</td>\n",
       "      <td>1.000000</td>\n",
       "      <td>0.159651</td>\n",
       "      <td>0.083081</td>\n",
       "    </tr>\n",
       "    <tr>\n",
       "      <th>Fare</th>\n",
       "      <td>0.257307</td>\n",
       "      <td>0.096688</td>\n",
       "      <td>0.216225</td>\n",
       "      <td>0.159651</td>\n",
       "      <td>1.000000</td>\n",
       "      <td>-0.549500</td>\n",
       "    </tr>\n",
       "    <tr>\n",
       "      <th>Pclass</th>\n",
       "      <td>-0.338481</td>\n",
       "      <td>-0.339898</td>\n",
       "      <td>0.018443</td>\n",
       "      <td>0.083081</td>\n",
       "      <td>-0.549500</td>\n",
       "      <td>1.000000</td>\n",
       "    </tr>\n",
       "  </tbody>\n",
       "</table>\n",
       "</div>"
      ],
      "text/plain": [
       "          Survived       Age     Parch     SibSp      Fare    Pclass\n",
       "Survived  1.000000 -0.064910  0.081629 -0.035322  0.257307 -0.338481\n",
       "Age      -0.064910  1.000000 -0.172482 -0.233296  0.096688 -0.339898\n",
       "Parch     0.081629 -0.172482  1.000000  0.414838  0.216225  0.018443\n",
       "SibSp    -0.035322 -0.233296  0.414838  1.000000  0.159651  0.083081\n",
       "Fare      0.257307  0.096688  0.216225  0.159651  1.000000 -0.549500\n",
       "Pclass   -0.338481 -0.339898  0.018443  0.083081 -0.549500  1.000000"
      ]
     },
     "execution_count": 42,
     "metadata": {},
     "output_type": "execute_result"
    }
   ],
   "source": [
    "# creating an instance for correlation\n",
    "corrmatrix = P.corr()\n",
    "\n",
    "# displaying the values of 'corrmatrix'\n",
    "corrmatrix"
   ]
  },
  {
   "cell_type": "markdown",
   "id": "1b4c7fb9",
   "metadata": {},
   "source": [
    "~ From the above display: \n",
    "(a) 'Fare' column is having better positive correlation with 'Survived' column, when comparing the remaining columns.\n",
    "(b) 'Pclass' column is having better negative correlation with 'Survived' column, when comparing the remaining columns."
   ]
  },
  {
   "cell_type": "code",
   "execution_count": 43,
   "id": "3c349207",
   "metadata": {},
   "outputs": [],
   "source": [
    "# droppping 'PassengerId', 'Name', 'Ticket' since they are having unique values\n",
    "data3 = data2.drop(['PassengerId', 'Name', 'Ticket'], axis=1) "
   ]
  },
  {
   "cell_type": "code",
   "execution_count": 44,
   "id": "536d8993",
   "metadata": {},
   "outputs": [
    {
     "data": {
      "text/html": [
       "<div>\n",
       "<style scoped>\n",
       "    .dataframe tbody tr th:only-of-type {\n",
       "        vertical-align: middle;\n",
       "    }\n",
       "\n",
       "    .dataframe tbody tr th {\n",
       "        vertical-align: top;\n",
       "    }\n",
       "\n",
       "    .dataframe thead th {\n",
       "        text-align: right;\n",
       "    }\n",
       "</style>\n",
       "<table border=\"1\" class=\"dataframe\">\n",
       "  <thead>\n",
       "    <tr style=\"text-align: right;\">\n",
       "      <th></th>\n",
       "      <th>Survived</th>\n",
       "      <th>Pclass</th>\n",
       "      <th>Sex</th>\n",
       "      <th>Age</th>\n",
       "      <th>SibSp</th>\n",
       "      <th>Parch</th>\n",
       "      <th>Fare</th>\n",
       "      <th>Embarked</th>\n",
       "    </tr>\n",
       "  </thead>\n",
       "  <tbody>\n",
       "    <tr>\n",
       "      <th>0</th>\n",
       "      <td>0</td>\n",
       "      <td>3</td>\n",
       "      <td>male</td>\n",
       "      <td>22.0</td>\n",
       "      <td>1</td>\n",
       "      <td>0</td>\n",
       "      <td>7.2500</td>\n",
       "      <td>S</td>\n",
       "    </tr>\n",
       "    <tr>\n",
       "      <th>1</th>\n",
       "      <td>1</td>\n",
       "      <td>1</td>\n",
       "      <td>female</td>\n",
       "      <td>38.0</td>\n",
       "      <td>1</td>\n",
       "      <td>0</td>\n",
       "      <td>71.2833</td>\n",
       "      <td>C</td>\n",
       "    </tr>\n",
       "    <tr>\n",
       "      <th>2</th>\n",
       "      <td>1</td>\n",
       "      <td>3</td>\n",
       "      <td>female</td>\n",
       "      <td>26.0</td>\n",
       "      <td>0</td>\n",
       "      <td>0</td>\n",
       "      <td>7.9250</td>\n",
       "      <td>S</td>\n",
       "    </tr>\n",
       "    <tr>\n",
       "      <th>3</th>\n",
       "      <td>1</td>\n",
       "      <td>1</td>\n",
       "      <td>female</td>\n",
       "      <td>35.0</td>\n",
       "      <td>1</td>\n",
       "      <td>0</td>\n",
       "      <td>53.1000</td>\n",
       "      <td>S</td>\n",
       "    </tr>\n",
       "    <tr>\n",
       "      <th>4</th>\n",
       "      <td>0</td>\n",
       "      <td>3</td>\n",
       "      <td>male</td>\n",
       "      <td>35.0</td>\n",
       "      <td>0</td>\n",
       "      <td>0</td>\n",
       "      <td>8.0500</td>\n",
       "      <td>S</td>\n",
       "    </tr>\n",
       "  </tbody>\n",
       "</table>\n",
       "</div>"
      ],
      "text/plain": [
       "   Survived  Pclass     Sex   Age  SibSp  Parch     Fare Embarked\n",
       "0         0       3    male  22.0      1      0   7.2500        S\n",
       "1         1       1  female  38.0      1      0  71.2833        C\n",
       "2         1       3  female  26.0      0      0   7.9250        S\n",
       "3         1       1  female  35.0      1      0  53.1000        S\n",
       "4         0       3    male  35.0      0      0   8.0500        S"
      ]
     },
     "execution_count": 44,
     "metadata": {},
     "output_type": "execute_result"
    }
   ],
   "source": [
    "# display the first 5 rows of the dataframe\n",
    "data3.head()"
   ]
  },
  {
   "cell_type": "markdown",
   "id": "0f8252bd",
   "metadata": {},
   "source": [
    "## MIN MAX SCALING"
   ]
  },
  {
   "cell_type": "code",
   "execution_count": 45,
   "id": "695984f4",
   "metadata": {},
   "outputs": [],
   "source": [
    "# preparing the dataframe containing only 'Pclass, Age, Sib Sp, Parch, Fare columns to perform min max scaling\n",
    "A = data3.drop(['Survived', 'Sex', 'Embarked'], axis = 1)"
   ]
  },
  {
   "cell_type": "code",
   "execution_count": 46,
   "id": "dc0ade77",
   "metadata": {},
   "outputs": [
    {
     "data": {
      "text/html": [
       "<div>\n",
       "<style scoped>\n",
       "    .dataframe tbody tr th:only-of-type {\n",
       "        vertical-align: middle;\n",
       "    }\n",
       "\n",
       "    .dataframe tbody tr th {\n",
       "        vertical-align: top;\n",
       "    }\n",
       "\n",
       "    .dataframe thead th {\n",
       "        text-align: right;\n",
       "    }\n",
       "</style>\n",
       "<table border=\"1\" class=\"dataframe\">\n",
       "  <thead>\n",
       "    <tr style=\"text-align: right;\">\n",
       "      <th></th>\n",
       "      <th>Pclass</th>\n",
       "      <th>Age</th>\n",
       "      <th>SibSp</th>\n",
       "      <th>Parch</th>\n",
       "      <th>Fare</th>\n",
       "    </tr>\n",
       "  </thead>\n",
       "  <tbody>\n",
       "    <tr>\n",
       "      <th>0</th>\n",
       "      <td>3</td>\n",
       "      <td>22.0</td>\n",
       "      <td>1</td>\n",
       "      <td>0</td>\n",
       "      <td>7.2500</td>\n",
       "    </tr>\n",
       "    <tr>\n",
       "      <th>1</th>\n",
       "      <td>1</td>\n",
       "      <td>38.0</td>\n",
       "      <td>1</td>\n",
       "      <td>0</td>\n",
       "      <td>71.2833</td>\n",
       "    </tr>\n",
       "    <tr>\n",
       "      <th>2</th>\n",
       "      <td>3</td>\n",
       "      <td>26.0</td>\n",
       "      <td>0</td>\n",
       "      <td>0</td>\n",
       "      <td>7.9250</td>\n",
       "    </tr>\n",
       "    <tr>\n",
       "      <th>3</th>\n",
       "      <td>1</td>\n",
       "      <td>35.0</td>\n",
       "      <td>1</td>\n",
       "      <td>0</td>\n",
       "      <td>53.1000</td>\n",
       "    </tr>\n",
       "    <tr>\n",
       "      <th>4</th>\n",
       "      <td>3</td>\n",
       "      <td>35.0</td>\n",
       "      <td>0</td>\n",
       "      <td>0</td>\n",
       "      <td>8.0500</td>\n",
       "    </tr>\n",
       "  </tbody>\n",
       "</table>\n",
       "</div>"
      ],
      "text/plain": [
       "   Pclass   Age  SibSp  Parch     Fare\n",
       "0       3  22.0      1      0   7.2500\n",
       "1       1  38.0      1      0  71.2833\n",
       "2       3  26.0      0      0   7.9250\n",
       "3       1  35.0      1      0  53.1000\n",
       "4       3  35.0      0      0   8.0500"
      ]
     },
     "execution_count": 46,
     "metadata": {},
     "output_type": "execute_result"
    }
   ],
   "source": [
    "# displaying the first 5 rows of the dataframe\n",
    "A.head()"
   ]
  },
  {
   "cell_type": "code",
   "execution_count": 47,
   "id": "303b57fb",
   "metadata": {},
   "outputs": [
    {
     "data": {
      "text/html": [
       "<div>\n",
       "<style scoped>\n",
       "    .dataframe tbody tr th:only-of-type {\n",
       "        vertical-align: middle;\n",
       "    }\n",
       "\n",
       "    .dataframe tbody tr th {\n",
       "        vertical-align: top;\n",
       "    }\n",
       "\n",
       "    .dataframe thead th {\n",
       "        text-align: right;\n",
       "    }\n",
       "</style>\n",
       "<table border=\"1\" class=\"dataframe\">\n",
       "  <thead>\n",
       "    <tr style=\"text-align: right;\">\n",
       "      <th></th>\n",
       "      <th>Pclass</th>\n",
       "      <th>Age</th>\n",
       "      <th>SibSp</th>\n",
       "      <th>Parch</th>\n",
       "      <th>Fare</th>\n",
       "    </tr>\n",
       "  </thead>\n",
       "  <tbody>\n",
       "    <tr>\n",
       "      <th>count</th>\n",
       "      <td>891.000000</td>\n",
       "      <td>891.000000</td>\n",
       "      <td>891.000000</td>\n",
       "      <td>891.000000</td>\n",
       "      <td>891.000000</td>\n",
       "    </tr>\n",
       "    <tr>\n",
       "      <th>mean</th>\n",
       "      <td>2.308642</td>\n",
       "      <td>29.361582</td>\n",
       "      <td>0.523008</td>\n",
       "      <td>0.381594</td>\n",
       "      <td>32.204208</td>\n",
       "    </tr>\n",
       "    <tr>\n",
       "      <th>std</th>\n",
       "      <td>0.836071</td>\n",
       "      <td>13.019697</td>\n",
       "      <td>1.102743</td>\n",
       "      <td>0.806057</td>\n",
       "      <td>49.693429</td>\n",
       "    </tr>\n",
       "    <tr>\n",
       "      <th>min</th>\n",
       "      <td>1.000000</td>\n",
       "      <td>0.420000</td>\n",
       "      <td>0.000000</td>\n",
       "      <td>0.000000</td>\n",
       "      <td>0.000000</td>\n",
       "    </tr>\n",
       "    <tr>\n",
       "      <th>25%</th>\n",
       "      <td>2.000000</td>\n",
       "      <td>22.000000</td>\n",
       "      <td>0.000000</td>\n",
       "      <td>0.000000</td>\n",
       "      <td>7.910400</td>\n",
       "    </tr>\n",
       "    <tr>\n",
       "      <th>50%</th>\n",
       "      <td>3.000000</td>\n",
       "      <td>28.000000</td>\n",
       "      <td>0.000000</td>\n",
       "      <td>0.000000</td>\n",
       "      <td>14.454200</td>\n",
       "    </tr>\n",
       "    <tr>\n",
       "      <th>75%</th>\n",
       "      <td>3.000000</td>\n",
       "      <td>35.000000</td>\n",
       "      <td>1.000000</td>\n",
       "      <td>0.000000</td>\n",
       "      <td>31.000000</td>\n",
       "    </tr>\n",
       "    <tr>\n",
       "      <th>max</th>\n",
       "      <td>3.000000</td>\n",
       "      <td>80.000000</td>\n",
       "      <td>8.000000</td>\n",
       "      <td>6.000000</td>\n",
       "      <td>512.329200</td>\n",
       "    </tr>\n",
       "  </tbody>\n",
       "</table>\n",
       "</div>"
      ],
      "text/plain": [
       "           Pclass         Age       SibSp       Parch        Fare\n",
       "count  891.000000  891.000000  891.000000  891.000000  891.000000\n",
       "mean     2.308642   29.361582    0.523008    0.381594   32.204208\n",
       "std      0.836071   13.019697    1.102743    0.806057   49.693429\n",
       "min      1.000000    0.420000    0.000000    0.000000    0.000000\n",
       "25%      2.000000   22.000000    0.000000    0.000000    7.910400\n",
       "50%      3.000000   28.000000    0.000000    0.000000   14.454200\n",
       "75%      3.000000   35.000000    1.000000    0.000000   31.000000\n",
       "max      3.000000   80.000000    8.000000    6.000000  512.329200"
      ]
     },
     "execution_count": 47,
     "metadata": {},
     "output_type": "execute_result"
    }
   ],
   "source": [
    "# display the summary statistics of all numerical columns\n",
    "A.describe()  "
   ]
  },
  {
   "cell_type": "code",
   "execution_count": 48,
   "id": "3fb23075",
   "metadata": {},
   "outputs": [],
   "source": [
    "# importing MinMaxScaler present in preprocessing class of sklearn library\n",
    "from sklearn.preprocessing import MinMaxScaler"
   ]
  },
  {
   "cell_type": "code",
   "execution_count": 49,
   "id": "65584749",
   "metadata": {},
   "outputs": [],
   "source": [
    "# creating an instance for MinMaxScaler() and defining the range between 0 and 1 using feature_range\n",
    "minmax = MinMaxScaler(feature_range=(0,1)) "
   ]
  },
  {
   "cell_type": "code",
   "execution_count": 50,
   "id": "d33d4167",
   "metadata": {},
   "outputs": [
    {
     "data": {
      "text/plain": [
       "array([[1.        , 0.27117366, 0.125     , 0.        , 0.01415106],\n",
       "       [0.        , 0.4722292 , 0.125     , 0.        , 0.13913574],\n",
       "       [1.        , 0.32143755, 0.        , 0.        , 0.01546857],\n",
       "       ...,\n",
       "       [1.        , 0.34656949, 0.125     , 0.33333333, 0.04577135],\n",
       "       [0.        , 0.32143755, 0.        , 0.        , 0.0585561 ],\n",
       "       [1.        , 0.39683338, 0.        , 0.        , 0.01512699]])"
      ]
     },
     "execution_count": 50,
     "metadata": {},
     "output_type": "execute_result"
    }
   ],
   "source": [
    "# Fit MinMaxScaler and tranform the scaled values to 'A1'\n",
    "A1 = minmax.fit_transform(A)\n",
    "\n",
    "# display the values of A1\n",
    "A1"
   ]
  },
  {
   "cell_type": "code",
   "execution_count": 51,
   "id": "fca1c8cd",
   "metadata": {},
   "outputs": [
    {
     "data": {
      "text/html": [
       "<div>\n",
       "<style scoped>\n",
       "    .dataframe tbody tr th:only-of-type {\n",
       "        vertical-align: middle;\n",
       "    }\n",
       "\n",
       "    .dataframe tbody tr th {\n",
       "        vertical-align: top;\n",
       "    }\n",
       "\n",
       "    .dataframe thead th {\n",
       "        text-align: right;\n",
       "    }\n",
       "</style>\n",
       "<table border=\"1\" class=\"dataframe\">\n",
       "  <thead>\n",
       "    <tr style=\"text-align: right;\">\n",
       "      <th></th>\n",
       "      <th>Pclass</th>\n",
       "      <th>Age</th>\n",
       "      <th>SibSp</th>\n",
       "      <th>Parch</th>\n",
       "      <th>Fare</th>\n",
       "    </tr>\n",
       "  </thead>\n",
       "  <tbody>\n",
       "    <tr>\n",
       "      <th>0</th>\n",
       "      <td>1.0</td>\n",
       "      <td>0.271174</td>\n",
       "      <td>0.125</td>\n",
       "      <td>0.000000</td>\n",
       "      <td>0.014151</td>\n",
       "    </tr>\n",
       "    <tr>\n",
       "      <th>1</th>\n",
       "      <td>0.0</td>\n",
       "      <td>0.472229</td>\n",
       "      <td>0.125</td>\n",
       "      <td>0.000000</td>\n",
       "      <td>0.139136</td>\n",
       "    </tr>\n",
       "    <tr>\n",
       "      <th>2</th>\n",
       "      <td>1.0</td>\n",
       "      <td>0.321438</td>\n",
       "      <td>0.000</td>\n",
       "      <td>0.000000</td>\n",
       "      <td>0.015469</td>\n",
       "    </tr>\n",
       "    <tr>\n",
       "      <th>3</th>\n",
       "      <td>0.0</td>\n",
       "      <td>0.434531</td>\n",
       "      <td>0.125</td>\n",
       "      <td>0.000000</td>\n",
       "      <td>0.103644</td>\n",
       "    </tr>\n",
       "    <tr>\n",
       "      <th>4</th>\n",
       "      <td>1.0</td>\n",
       "      <td>0.434531</td>\n",
       "      <td>0.000</td>\n",
       "      <td>0.000000</td>\n",
       "      <td>0.015713</td>\n",
       "    </tr>\n",
       "    <tr>\n",
       "      <th>...</th>\n",
       "      <td>...</td>\n",
       "      <td>...</td>\n",
       "      <td>...</td>\n",
       "      <td>...</td>\n",
       "      <td>...</td>\n",
       "    </tr>\n",
       "    <tr>\n",
       "      <th>886</th>\n",
       "      <td>0.5</td>\n",
       "      <td>0.334004</td>\n",
       "      <td>0.000</td>\n",
       "      <td>0.000000</td>\n",
       "      <td>0.025374</td>\n",
       "    </tr>\n",
       "    <tr>\n",
       "      <th>887</th>\n",
       "      <td>0.0</td>\n",
       "      <td>0.233476</td>\n",
       "      <td>0.000</td>\n",
       "      <td>0.000000</td>\n",
       "      <td>0.058556</td>\n",
       "    </tr>\n",
       "    <tr>\n",
       "      <th>888</th>\n",
       "      <td>1.0</td>\n",
       "      <td>0.346569</td>\n",
       "      <td>0.125</td>\n",
       "      <td>0.333333</td>\n",
       "      <td>0.045771</td>\n",
       "    </tr>\n",
       "    <tr>\n",
       "      <th>889</th>\n",
       "      <td>0.0</td>\n",
       "      <td>0.321438</td>\n",
       "      <td>0.000</td>\n",
       "      <td>0.000000</td>\n",
       "      <td>0.058556</td>\n",
       "    </tr>\n",
       "    <tr>\n",
       "      <th>890</th>\n",
       "      <td>1.0</td>\n",
       "      <td>0.396833</td>\n",
       "      <td>0.000</td>\n",
       "      <td>0.000000</td>\n",
       "      <td>0.015127</td>\n",
       "    </tr>\n",
       "  </tbody>\n",
       "</table>\n",
       "<p>891 rows × 5 columns</p>\n",
       "</div>"
      ],
      "text/plain": [
       "     Pclass       Age  SibSp     Parch      Fare\n",
       "0       1.0  0.271174  0.125  0.000000  0.014151\n",
       "1       0.0  0.472229  0.125  0.000000  0.139136\n",
       "2       1.0  0.321438  0.000  0.000000  0.015469\n",
       "3       0.0  0.434531  0.125  0.000000  0.103644\n",
       "4       1.0  0.434531  0.000  0.000000  0.015713\n",
       "..      ...       ...    ...       ...       ...\n",
       "886     0.5  0.334004  0.000  0.000000  0.025374\n",
       "887     0.0  0.233476  0.000  0.000000  0.058556\n",
       "888     1.0  0.346569  0.125  0.333333  0.045771\n",
       "889     0.0  0.321438  0.000  0.000000  0.058556\n",
       "890     1.0  0.396833  0.000  0.000000  0.015127\n",
       "\n",
       "[891 rows x 5 columns]"
      ]
     },
     "execution_count": 51,
     "metadata": {},
     "output_type": "execute_result"
    }
   ],
   "source": [
    "# converting back to a dataframe since it is array format\n",
    "A1 = pd.DataFrame(A1, columns=['Pclass', 'Age', 'SibSp', 'Parch', 'Fare'])\n",
    "A1"
   ]
  },
  {
   "cell_type": "code",
   "execution_count": 52,
   "id": "f0c18afd",
   "metadata": {
    "scrolled": false
   },
   "outputs": [
    {
     "data": {
      "text/html": [
       "<div>\n",
       "<style scoped>\n",
       "    .dataframe tbody tr th:only-of-type {\n",
       "        vertical-align: middle;\n",
       "    }\n",
       "\n",
       "    .dataframe tbody tr th {\n",
       "        vertical-align: top;\n",
       "    }\n",
       "\n",
       "    .dataframe thead th {\n",
       "        text-align: right;\n",
       "    }\n",
       "</style>\n",
       "<table border=\"1\" class=\"dataframe\">\n",
       "  <thead>\n",
       "    <tr style=\"text-align: right;\">\n",
       "      <th></th>\n",
       "      <th>Pclass</th>\n",
       "      <th>Age</th>\n",
       "      <th>SibSp</th>\n",
       "      <th>Parch</th>\n",
       "      <th>Fare</th>\n",
       "    </tr>\n",
       "  </thead>\n",
       "  <tbody>\n",
       "    <tr>\n",
       "      <th>count</th>\n",
       "      <td>891.000000</td>\n",
       "      <td>891.000000</td>\n",
       "      <td>891.000000</td>\n",
       "      <td>891.000000</td>\n",
       "      <td>891.000000</td>\n",
       "    </tr>\n",
       "    <tr>\n",
       "      <th>mean</th>\n",
       "      <td>0.654321</td>\n",
       "      <td>0.363679</td>\n",
       "      <td>0.065376</td>\n",
       "      <td>0.063599</td>\n",
       "      <td>0.062858</td>\n",
       "    </tr>\n",
       "    <tr>\n",
       "      <th>std</th>\n",
       "      <td>0.418036</td>\n",
       "      <td>0.163605</td>\n",
       "      <td>0.137843</td>\n",
       "      <td>0.134343</td>\n",
       "      <td>0.096995</td>\n",
       "    </tr>\n",
       "    <tr>\n",
       "      <th>min</th>\n",
       "      <td>0.000000</td>\n",
       "      <td>0.000000</td>\n",
       "      <td>0.000000</td>\n",
       "      <td>0.000000</td>\n",
       "      <td>0.000000</td>\n",
       "    </tr>\n",
       "    <tr>\n",
       "      <th>25%</th>\n",
       "      <td>0.500000</td>\n",
       "      <td>0.271174</td>\n",
       "      <td>0.000000</td>\n",
       "      <td>0.000000</td>\n",
       "      <td>0.015440</td>\n",
       "    </tr>\n",
       "    <tr>\n",
       "      <th>50%</th>\n",
       "      <td>1.000000</td>\n",
       "      <td>0.346569</td>\n",
       "      <td>0.000000</td>\n",
       "      <td>0.000000</td>\n",
       "      <td>0.028213</td>\n",
       "    </tr>\n",
       "    <tr>\n",
       "      <th>75%</th>\n",
       "      <td>1.000000</td>\n",
       "      <td>0.434531</td>\n",
       "      <td>0.125000</td>\n",
       "      <td>0.000000</td>\n",
       "      <td>0.060508</td>\n",
       "    </tr>\n",
       "    <tr>\n",
       "      <th>max</th>\n",
       "      <td>1.000000</td>\n",
       "      <td>1.000000</td>\n",
       "      <td>1.000000</td>\n",
       "      <td>1.000000</td>\n",
       "      <td>1.000000</td>\n",
       "    </tr>\n",
       "  </tbody>\n",
       "</table>\n",
       "</div>"
      ],
      "text/plain": [
       "           Pclass         Age       SibSp       Parch        Fare\n",
       "count  891.000000  891.000000  891.000000  891.000000  891.000000\n",
       "mean     0.654321    0.363679    0.065376    0.063599    0.062858\n",
       "std      0.418036    0.163605    0.137843    0.134343    0.096995\n",
       "min      0.000000    0.000000    0.000000    0.000000    0.000000\n",
       "25%      0.500000    0.271174    0.000000    0.000000    0.015440\n",
       "50%      1.000000    0.346569    0.000000    0.000000    0.028213\n",
       "75%      1.000000    0.434531    0.125000    0.000000    0.060508\n",
       "max      1.000000    1.000000    1.000000    1.000000    1.000000"
      ]
     },
     "execution_count": 52,
     "metadata": {},
     "output_type": "execute_result"
    }
   ],
   "source": [
    "# display the summary statistics of all numerical columns after applying scaling\n",
    "A1.describe()"
   ]
  },
  {
   "cell_type": "markdown",
   "id": "89a0aa5b",
   "metadata": {},
   "source": [
    "## ENCODING"
   ]
  },
  {
   "cell_type": "code",
   "execution_count": 53,
   "id": "374afc23",
   "metadata": {},
   "outputs": [
    {
     "data": {
      "text/plain": [
       "array(['male', 'female'], dtype=object)"
      ]
     },
     "execution_count": 53,
     "metadata": {},
     "output_type": "execute_result"
    }
   ],
   "source": [
    "# display the unique values in 'Sex' column\n",
    "data3['Sex'].unique()"
   ]
  },
  {
   "cell_type": "markdown",
   "id": "80fc85d8",
   "metadata": {},
   "source": [
    "~ performing label encoding on categorical column 'Sex' since the values in 'Sex' column are present in descending order"
   ]
  },
  {
   "cell_type": "markdown",
   "id": "57f3dc4e",
   "metadata": {},
   "source": [
    "##  LABEL ENCODING on categorical column 'Sex' "
   ]
  },
  {
   "cell_type": "code",
   "execution_count": 54,
   "id": "73b10700",
   "metadata": {},
   "outputs": [],
   "source": [
    "# import label encoder present in preprocessing class of sklearn library\n",
    "from sklearn.preprocessing import LabelEncoder"
   ]
  },
  {
   "cell_type": "code",
   "execution_count": 55,
   "id": "89855548",
   "metadata": {},
   "outputs": [],
   "source": [
    "# creating an instance of LabelEncoder()\n",
    "le = LabelEncoder() "
   ]
  },
  {
   "cell_type": "code",
   "execution_count": 56,
   "id": "80d0c7df",
   "metadata": {},
   "outputs": [],
   "source": [
    "# applying label encoder to 'Sex' column\n",
    "# Fit label encoder and tranform the values, store encoded labels back to  'Sex' column\n",
    "data3['Sex'] = le.fit_transform(data3['Sex']) "
   ]
  },
  {
   "cell_type": "code",
   "execution_count": 57,
   "id": "6fc17511",
   "metadata": {},
   "outputs": [
    {
     "data": {
      "text/plain": [
       "0      1\n",
       "1      0\n",
       "2      0\n",
       "3      0\n",
       "4      1\n",
       "      ..\n",
       "886    1\n",
       "887    0\n",
       "888    0\n",
       "889    1\n",
       "890    1\n",
       "Name: Sex, Length: 891, dtype: int32"
      ]
     },
     "execution_count": 57,
     "metadata": {},
     "output_type": "execute_result"
    }
   ],
   "source": [
    "# display the encoded labels in 'Sex' column\n",
    "data3['Sex']"
   ]
  },
  {
   "cell_type": "markdown",
   "id": "0328734b",
   "metadata": {},
   "source": [
    "##  ONE HOT ENCODING on categorical column 'Embarked' column "
   ]
  },
  {
   "cell_type": "code",
   "execution_count": 58,
   "id": "d7d366d4",
   "metadata": {},
   "outputs": [
    {
     "data": {
      "text/plain": [
       "array(['S', 'C', 'Q'], dtype=object)"
      ]
     },
     "execution_count": 58,
     "metadata": {},
     "output_type": "execute_result"
    }
   ],
   "source": [
    "# unique values present in 'Embarked' column\n",
    "data3['Embarked'].unique() "
   ]
  },
  {
   "cell_type": "code",
   "execution_count": 59,
   "id": "b0fecd13",
   "metadata": {},
   "outputs": [
    {
     "data": {
      "text/html": [
       "<div>\n",
       "<style scoped>\n",
       "    .dataframe tbody tr th:only-of-type {\n",
       "        vertical-align: middle;\n",
       "    }\n",
       "\n",
       "    .dataframe tbody tr th {\n",
       "        vertical-align: top;\n",
       "    }\n",
       "\n",
       "    .dataframe thead th {\n",
       "        text-align: right;\n",
       "    }\n",
       "</style>\n",
       "<table border=\"1\" class=\"dataframe\">\n",
       "  <thead>\n",
       "    <tr style=\"text-align: right;\">\n",
       "      <th></th>\n",
       "      <th>C</th>\n",
       "      <th>Q</th>\n",
       "      <th>S</th>\n",
       "    </tr>\n",
       "  </thead>\n",
       "  <tbody>\n",
       "    <tr>\n",
       "      <th>0</th>\n",
       "      <td>0</td>\n",
       "      <td>0</td>\n",
       "      <td>1</td>\n",
       "    </tr>\n",
       "    <tr>\n",
       "      <th>1</th>\n",
       "      <td>1</td>\n",
       "      <td>0</td>\n",
       "      <td>0</td>\n",
       "    </tr>\n",
       "    <tr>\n",
       "      <th>2</th>\n",
       "      <td>0</td>\n",
       "      <td>0</td>\n",
       "      <td>1</td>\n",
       "    </tr>\n",
       "    <tr>\n",
       "      <th>3</th>\n",
       "      <td>0</td>\n",
       "      <td>0</td>\n",
       "      <td>1</td>\n",
       "    </tr>\n",
       "    <tr>\n",
       "      <th>4</th>\n",
       "      <td>0</td>\n",
       "      <td>0</td>\n",
       "      <td>1</td>\n",
       "    </tr>\n",
       "    <tr>\n",
       "      <th>...</th>\n",
       "      <td>...</td>\n",
       "      <td>...</td>\n",
       "      <td>...</td>\n",
       "    </tr>\n",
       "    <tr>\n",
       "      <th>886</th>\n",
       "      <td>0</td>\n",
       "      <td>0</td>\n",
       "      <td>1</td>\n",
       "    </tr>\n",
       "    <tr>\n",
       "      <th>887</th>\n",
       "      <td>0</td>\n",
       "      <td>0</td>\n",
       "      <td>1</td>\n",
       "    </tr>\n",
       "    <tr>\n",
       "      <th>888</th>\n",
       "      <td>0</td>\n",
       "      <td>0</td>\n",
       "      <td>1</td>\n",
       "    </tr>\n",
       "    <tr>\n",
       "      <th>889</th>\n",
       "      <td>1</td>\n",
       "      <td>0</td>\n",
       "      <td>0</td>\n",
       "    </tr>\n",
       "    <tr>\n",
       "      <th>890</th>\n",
       "      <td>0</td>\n",
       "      <td>1</td>\n",
       "      <td>0</td>\n",
       "    </tr>\n",
       "  </tbody>\n",
       "</table>\n",
       "<p>891 rows × 3 columns</p>\n",
       "</div>"
      ],
      "text/plain": [
       "     C  Q  S\n",
       "0    0  0  1\n",
       "1    1  0  0\n",
       "2    0  0  1\n",
       "3    0  0  1\n",
       "4    0  0  1\n",
       "..  .. .. ..\n",
       "886  0  0  1\n",
       "887  0  0  1\n",
       "888  0  0  1\n",
       "889  1  0  0\n",
       "890  0  1  0\n",
       "\n",
       "[891 rows x 3 columns]"
      ]
     },
     "execution_count": 59,
     "metadata": {},
     "output_type": "execute_result"
    }
   ],
   "source": [
    "# performing one hot encoding on the column 'Embarked' and storing it in a variable 'data_embarked'\n",
    "data_embarked=pd.get_dummies(data3['Embarked'])\n",
    "\n",
    "# displaying the contents of 'data_embarked'\n",
    "data_embarked"
   ]
  },
  {
   "cell_type": "code",
   "execution_count": 60,
   "id": "cde774b9",
   "metadata": {},
   "outputs": [
    {
     "data": {
      "text/html": [
       "<div>\n",
       "<style scoped>\n",
       "    .dataframe tbody tr th:only-of-type {\n",
       "        vertical-align: middle;\n",
       "    }\n",
       "\n",
       "    .dataframe tbody tr th {\n",
       "        vertical-align: top;\n",
       "    }\n",
       "\n",
       "    .dataframe thead th {\n",
       "        text-align: right;\n",
       "    }\n",
       "</style>\n",
       "<table border=\"1\" class=\"dataframe\">\n",
       "  <thead>\n",
       "    <tr style=\"text-align: right;\">\n",
       "      <th></th>\n",
       "      <th>Sex</th>\n",
       "      <th>C</th>\n",
       "      <th>Q</th>\n",
       "      <th>S</th>\n",
       "      <th>Pclass</th>\n",
       "      <th>Age</th>\n",
       "      <th>SibSp</th>\n",
       "      <th>Parch</th>\n",
       "      <th>Fare</th>\n",
       "    </tr>\n",
       "  </thead>\n",
       "  <tbody>\n",
       "    <tr>\n",
       "      <th>0</th>\n",
       "      <td>1</td>\n",
       "      <td>0</td>\n",
       "      <td>0</td>\n",
       "      <td>1</td>\n",
       "      <td>1.0</td>\n",
       "      <td>0.271174</td>\n",
       "      <td>0.125</td>\n",
       "      <td>0.000000</td>\n",
       "      <td>0.014151</td>\n",
       "    </tr>\n",
       "    <tr>\n",
       "      <th>1</th>\n",
       "      <td>0</td>\n",
       "      <td>1</td>\n",
       "      <td>0</td>\n",
       "      <td>0</td>\n",
       "      <td>0.0</td>\n",
       "      <td>0.472229</td>\n",
       "      <td>0.125</td>\n",
       "      <td>0.000000</td>\n",
       "      <td>0.139136</td>\n",
       "    </tr>\n",
       "    <tr>\n",
       "      <th>2</th>\n",
       "      <td>0</td>\n",
       "      <td>0</td>\n",
       "      <td>0</td>\n",
       "      <td>1</td>\n",
       "      <td>1.0</td>\n",
       "      <td>0.321438</td>\n",
       "      <td>0.000</td>\n",
       "      <td>0.000000</td>\n",
       "      <td>0.015469</td>\n",
       "    </tr>\n",
       "    <tr>\n",
       "      <th>3</th>\n",
       "      <td>0</td>\n",
       "      <td>0</td>\n",
       "      <td>0</td>\n",
       "      <td>1</td>\n",
       "      <td>0.0</td>\n",
       "      <td>0.434531</td>\n",
       "      <td>0.125</td>\n",
       "      <td>0.000000</td>\n",
       "      <td>0.103644</td>\n",
       "    </tr>\n",
       "    <tr>\n",
       "      <th>4</th>\n",
       "      <td>1</td>\n",
       "      <td>0</td>\n",
       "      <td>0</td>\n",
       "      <td>1</td>\n",
       "      <td>1.0</td>\n",
       "      <td>0.434531</td>\n",
       "      <td>0.000</td>\n",
       "      <td>0.000000</td>\n",
       "      <td>0.015713</td>\n",
       "    </tr>\n",
       "    <tr>\n",
       "      <th>...</th>\n",
       "      <td>...</td>\n",
       "      <td>...</td>\n",
       "      <td>...</td>\n",
       "      <td>...</td>\n",
       "      <td>...</td>\n",
       "      <td>...</td>\n",
       "      <td>...</td>\n",
       "      <td>...</td>\n",
       "      <td>...</td>\n",
       "    </tr>\n",
       "    <tr>\n",
       "      <th>886</th>\n",
       "      <td>1</td>\n",
       "      <td>0</td>\n",
       "      <td>0</td>\n",
       "      <td>1</td>\n",
       "      <td>0.5</td>\n",
       "      <td>0.334004</td>\n",
       "      <td>0.000</td>\n",
       "      <td>0.000000</td>\n",
       "      <td>0.025374</td>\n",
       "    </tr>\n",
       "    <tr>\n",
       "      <th>887</th>\n",
       "      <td>0</td>\n",
       "      <td>0</td>\n",
       "      <td>0</td>\n",
       "      <td>1</td>\n",
       "      <td>0.0</td>\n",
       "      <td>0.233476</td>\n",
       "      <td>0.000</td>\n",
       "      <td>0.000000</td>\n",
       "      <td>0.058556</td>\n",
       "    </tr>\n",
       "    <tr>\n",
       "      <th>888</th>\n",
       "      <td>0</td>\n",
       "      <td>0</td>\n",
       "      <td>0</td>\n",
       "      <td>1</td>\n",
       "      <td>1.0</td>\n",
       "      <td>0.346569</td>\n",
       "      <td>0.125</td>\n",
       "      <td>0.333333</td>\n",
       "      <td>0.045771</td>\n",
       "    </tr>\n",
       "    <tr>\n",
       "      <th>889</th>\n",
       "      <td>1</td>\n",
       "      <td>1</td>\n",
       "      <td>0</td>\n",
       "      <td>0</td>\n",
       "      <td>0.0</td>\n",
       "      <td>0.321438</td>\n",
       "      <td>0.000</td>\n",
       "      <td>0.000000</td>\n",
       "      <td>0.058556</td>\n",
       "    </tr>\n",
       "    <tr>\n",
       "      <th>890</th>\n",
       "      <td>1</td>\n",
       "      <td>0</td>\n",
       "      <td>1</td>\n",
       "      <td>0</td>\n",
       "      <td>1.0</td>\n",
       "      <td>0.396833</td>\n",
       "      <td>0.000</td>\n",
       "      <td>0.000000</td>\n",
       "      <td>0.015127</td>\n",
       "    </tr>\n",
       "  </tbody>\n",
       "</table>\n",
       "<p>891 rows × 9 columns</p>\n",
       "</div>"
      ],
      "text/plain": [
       "     Sex  C  Q  S  Pclass       Age  SibSp     Parch      Fare\n",
       "0      1  0  0  1     1.0  0.271174  0.125  0.000000  0.014151\n",
       "1      0  1  0  0     0.0  0.472229  0.125  0.000000  0.139136\n",
       "2      0  0  0  1     1.0  0.321438  0.000  0.000000  0.015469\n",
       "3      0  0  0  1     0.0  0.434531  0.125  0.000000  0.103644\n",
       "4      1  0  0  1     1.0  0.434531  0.000  0.000000  0.015713\n",
       "..   ... .. .. ..     ...       ...    ...       ...       ...\n",
       "886    1  0  0  1     0.5  0.334004  0.000  0.000000  0.025374\n",
       "887    0  0  0  1     0.0  0.233476  0.000  0.000000  0.058556\n",
       "888    0  0  0  1     1.0  0.346569  0.125  0.333333  0.045771\n",
       "889    1  1  0  0     0.0  0.321438  0.000  0.000000  0.058556\n",
       "890    1  0  1  0     1.0  0.396833  0.000  0.000000  0.015127\n",
       "\n",
       "[891 rows x 9 columns]"
      ]
     },
     "execution_count": 60,
     "metadata": {},
     "output_type": "execute_result"
    }
   ],
   "source": [
    "# concatenating the encoded and the scaled columns which gives features\n",
    "X1 = pd.concat([data3['Sex'],data_embarked, A1], axis=1) # features\n",
    "\n",
    "# displaying the contents of features\n",
    "X1"
   ]
  },
  {
   "cell_type": "code",
   "execution_count": 61,
   "id": "91045259",
   "metadata": {},
   "outputs": [
    {
     "data": {
      "text/plain": [
       "Sex       0\n",
       "C         0\n",
       "Q         0\n",
       "S         0\n",
       "Pclass    0\n",
       "Age       0\n",
       "SibSp     0\n",
       "Parch     0\n",
       "Fare      0\n",
       "dtype: int64"
      ]
     },
     "execution_count": 61,
     "metadata": {},
     "output_type": "execute_result"
    }
   ],
   "source": [
    "# number of null values in the dataframe 'X1'\n",
    "X1.isna().sum()"
   ]
  },
  {
   "cell_type": "code",
   "execution_count": 62,
   "id": "c0a6d90e",
   "metadata": {},
   "outputs": [
    {
     "data": {
      "text/plain": [
       "0      0\n",
       "1      1\n",
       "2      1\n",
       "3      1\n",
       "4      0\n",
       "      ..\n",
       "886    0\n",
       "887    1\n",
       "888    0\n",
       "889    1\n",
       "890    0\n",
       "Name: Survived, Length: 891, dtype: int64"
      ]
     },
     "execution_count": 62,
     "metadata": {},
     "output_type": "execute_result"
    }
   ],
   "source": [
    "y1 = data3['Survived'] # target\n",
    "y1"
   ]
  },
  {
   "cell_type": "code",
   "execution_count": 63,
   "id": "fa4ae7ff",
   "metadata": {},
   "outputs": [],
   "source": [
    "# importing libaray\n",
    "from sklearn.model_selection import train_test_split"
   ]
  },
  {
   "cell_type": "code",
   "execution_count": 64,
   "id": "b8b41b19",
   "metadata": {},
   "outputs": [],
   "source": [
    "#  splitting the dataset into testing and training data set\n",
    "X_train1, X_test1, y_train1, y_test1 = train_test_split(X1, y1, test_size = 0.25, random_state = 42)"
   ]
  },
  {
   "cell_type": "markdown",
   "id": "dae9be09",
   "metadata": {},
   "source": [
    "### LOGISTIC REGRESSION"
   ]
  },
  {
   "cell_type": "code",
   "execution_count": 65,
   "id": "c4c977a1",
   "metadata": {},
   "outputs": [],
   "source": [
    "# importing library for LogisticRegression\n",
    "# LogisticRegression found in linear_model class of sklearn library\n",
    "from sklearn.linear_model import LogisticRegression"
   ]
  },
  {
   "cell_type": "code",
   "execution_count": 66,
   "id": "f8238741",
   "metadata": {},
   "outputs": [],
   "source": [
    "# creating an instance for LogisticRegression()\n",
    "log_reg = LogisticRegression()"
   ]
  },
  {
   "cell_type": "code",
   "execution_count": 67,
   "id": "3f6f3248",
   "metadata": {},
   "outputs": [],
   "source": [
    "# fit the training data to the instance of LogisticRegression() and create a model\n",
    "log_model = log_reg.fit(X_train1, y_train1)"
   ]
  },
  {
   "cell_type": "code",
   "execution_count": 68,
   "id": "e930900f",
   "metadata": {},
   "outputs": [
    {
     "data": {
      "text/plain": [
       "array([0, 0, 0, 1, 1, 1, 1, 0, 1, 1, 0, 0, 0, 0, 0, 1, 0, 1, 0, 0, 0, 0,\n",
       "       1, 0, 0, 0, 0, 0, 0, 1, 0, 1, 1, 1, 0, 0, 0, 1, 1, 0, 0, 0, 0, 0,\n",
       "       1, 0, 0, 0, 0, 0, 1, 1, 0, 0, 0, 1, 0, 1, 1, 1, 0, 1, 1, 0, 0, 1,\n",
       "       0, 0, 0, 1, 1, 1, 1, 1, 0, 0, 1, 1, 1, 0, 0, 1, 1, 0, 0, 0, 1, 1,\n",
       "       0, 0, 0, 1, 0, 0, 0, 0, 0, 0, 1, 0, 0, 0, 1, 0, 0, 0, 1, 0, 0, 0,\n",
       "       1, 0, 1, 0, 0, 0, 0, 0, 1, 0, 0, 1, 1, 0, 0, 1, 1, 1, 1, 0, 1, 0,\n",
       "       0, 1, 0, 1, 1, 0, 0, 1, 0, 1, 0, 0, 1, 1, 0, 0, 1, 0, 0, 0, 0, 1,\n",
       "       0, 0, 0, 1, 1, 1, 0, 0, 0, 1, 0, 0, 0, 1, 0, 0, 1, 1, 0, 1, 0, 0,\n",
       "       0, 1, 1, 0, 0, 0, 0, 1, 1, 0, 0, 0, 0, 1, 0, 0, 0, 0, 1, 1, 1, 0,\n",
       "       1, 1, 0, 1, 1, 0, 0, 1, 0, 0, 0, 0, 1, 0, 1, 0, 0, 0, 1, 0, 1, 0,\n",
       "       0, 1, 0], dtype=int64)"
      ]
     },
     "execution_count": 68,
     "metadata": {},
     "output_type": "execute_result"
    }
   ],
   "source": [
    "# predict the target of the test data using the features of test data\n",
    "log_ypred = log_model.predict(X_test1)\n",
    "log_ypred"
   ]
  },
  {
   "cell_type": "code",
   "execution_count": 69,
   "id": "83aa0b57",
   "metadata": {},
   "outputs": [
    {
     "data": {
      "text/plain": [
       "709    1\n",
       "439    0\n",
       "840    0\n",
       "720    1\n",
       "39     1\n",
       "      ..\n",
       "880    1\n",
       "425    0\n",
       "101    0\n",
       "199    0\n",
       "424    0\n",
       "Name: Survived, Length: 223, dtype: int64"
      ]
     },
     "execution_count": 69,
     "metadata": {},
     "output_type": "execute_result"
    }
   ],
   "source": [
    "y_test1"
   ]
  },
  {
   "cell_type": "code",
   "execution_count": 70,
   "id": "2a4204ee",
   "metadata": {},
   "outputs": [],
   "source": [
    "# importing library for evaluation matrix\n",
    "from sklearn. metrics import confusion_matrix, precision_score, recall_score, f1_score, accuracy_score\n"
   ]
  },
  {
   "cell_type": "code",
   "execution_count": 71,
   "id": "f2a62840",
   "metadata": {},
   "outputs": [
    {
     "name": "stdout",
     "output_type": "stream",
     "text": [
      "[[112  22]\n",
      " [ 25  64]]\n"
     ]
    }
   ],
   "source": [
    "# displaying confusion matrix\n",
    "print(confusion_matrix(y_test1, log_ypred))"
   ]
  },
  {
   "cell_type": "code",
   "execution_count": 72,
   "id": "8f3a0af9",
   "metadata": {},
   "outputs": [
    {
     "name": "stdout",
     "output_type": "stream",
     "text": [
      "0.7892376681614349\n"
     ]
    }
   ],
   "source": [
    "# accuracy score\n",
    "print(accuracy_score(y_test1, log_ypred))"
   ]
  },
  {
   "cell_type": "code",
   "execution_count": 73,
   "id": "8d22545d",
   "metadata": {},
   "outputs": [
    {
     "name": "stdout",
     "output_type": "stream",
     "text": [
      "0.7441860465116279\n"
     ]
    }
   ],
   "source": [
    "# precision score\n",
    "print(precision_score(y_test1, log_ypred))"
   ]
  },
  {
   "cell_type": "code",
   "execution_count": 74,
   "id": "1a4ce097",
   "metadata": {},
   "outputs": [
    {
     "name": "stdout",
     "output_type": "stream",
     "text": [
      "0.7191011235955056\n"
     ]
    }
   ],
   "source": [
    "# recall score\n",
    "print(recall_score(y_test1, log_ypred))"
   ]
  },
  {
   "cell_type": "markdown",
   "id": "aceba2e8",
   "metadata": {},
   "source": [
    "### kNN MODEL"
   ]
  },
  {
   "cell_type": "code",
   "execution_count": 75,
   "id": "cca2b98d",
   "metadata": {},
   "outputs": [
    {
     "data": {
      "text/plain": [
       "array([ 3,  4,  5,  6,  7,  8,  9, 10, 11, 12, 13, 14])"
      ]
     },
     "execution_count": 75,
     "metadata": {},
     "output_type": "execute_result"
    }
   ],
   "source": [
    "neighbors = np.arange(3,15) # take values from 3 to 14 and stores in array format\n",
    "neighbors"
   ]
  },
  {
   "cell_type": "code",
   "execution_count": 76,
   "id": "8478793a",
   "metadata": {},
   "outputs": [
    {
     "name": "stderr",
     "output_type": "stream",
     "text": [
      "E:\\anaconda\\lib\\site-packages\\sklearn\\neighbors\\_classification.py:228: FutureWarning: Unlike other reduction functions (e.g. `skew`, `kurtosis`), the default behavior of `mode` typically preserves the axis it acts along. In SciPy 1.11.0, this behavior will change: the default value of `keepdims` will become False, the `axis` over which the statistic is taken will be eliminated, and the value None will no longer be accepted. Set `keepdims` to True or False to avoid this warning.\n",
      "  mode, _ = stats.mode(_y[neigh_ind, k], axis=1)\n",
      "E:\\anaconda\\lib\\site-packages\\sklearn\\neighbors\\_classification.py:228: FutureWarning: Unlike other reduction functions (e.g. `skew`, `kurtosis`), the default behavior of `mode` typically preserves the axis it acts along. In SciPy 1.11.0, this behavior will change: the default value of `keepdims` will become False, the `axis` over which the statistic is taken will be eliminated, and the value None will no longer be accepted. Set `keepdims` to True or False to avoid this warning.\n",
      "  mode, _ = stats.mode(_y[neigh_ind, k], axis=1)\n",
      "E:\\anaconda\\lib\\site-packages\\sklearn\\neighbors\\_classification.py:228: FutureWarning: Unlike other reduction functions (e.g. `skew`, `kurtosis`), the default behavior of `mode` typically preserves the axis it acts along. In SciPy 1.11.0, this behavior will change: the default value of `keepdims` will become False, the `axis` over which the statistic is taken will be eliminated, and the value None will no longer be accepted. Set `keepdims` to True or False to avoid this warning.\n",
      "  mode, _ = stats.mode(_y[neigh_ind, k], axis=1)\n",
      "E:\\anaconda\\lib\\site-packages\\sklearn\\neighbors\\_classification.py:228: FutureWarning: Unlike other reduction functions (e.g. `skew`, `kurtosis`), the default behavior of `mode` typically preserves the axis it acts along. In SciPy 1.11.0, this behavior will change: the default value of `keepdims` will become False, the `axis` over which the statistic is taken will be eliminated, and the value None will no longer be accepted. Set `keepdims` to True or False to avoid this warning.\n",
      "  mode, _ = stats.mode(_y[neigh_ind, k], axis=1)\n",
      "E:\\anaconda\\lib\\site-packages\\sklearn\\neighbors\\_classification.py:228: FutureWarning: Unlike other reduction functions (e.g. `skew`, `kurtosis`), the default behavior of `mode` typically preserves the axis it acts along. In SciPy 1.11.0, this behavior will change: the default value of `keepdims` will become False, the `axis` over which the statistic is taken will be eliminated, and the value None will no longer be accepted. Set `keepdims` to True or False to avoid this warning.\n",
      "  mode, _ = stats.mode(_y[neigh_ind, k], axis=1)\n",
      "E:\\anaconda\\lib\\site-packages\\sklearn\\neighbors\\_classification.py:228: FutureWarning: Unlike other reduction functions (e.g. `skew`, `kurtosis`), the default behavior of `mode` typically preserves the axis it acts along. In SciPy 1.11.0, this behavior will change: the default value of `keepdims` will become False, the `axis` over which the statistic is taken will be eliminated, and the value None will no longer be accepted. Set `keepdims` to True or False to avoid this warning.\n",
      "  mode, _ = stats.mode(_y[neigh_ind, k], axis=1)\n",
      "E:\\anaconda\\lib\\site-packages\\sklearn\\neighbors\\_classification.py:228: FutureWarning: Unlike other reduction functions (e.g. `skew`, `kurtosis`), the default behavior of `mode` typically preserves the axis it acts along. In SciPy 1.11.0, this behavior will change: the default value of `keepdims` will become False, the `axis` over which the statistic is taken will be eliminated, and the value None will no longer be accepted. Set `keepdims` to True or False to avoid this warning.\n",
      "  mode, _ = stats.mode(_y[neigh_ind, k], axis=1)\n",
      "E:\\anaconda\\lib\\site-packages\\sklearn\\neighbors\\_classification.py:228: FutureWarning: Unlike other reduction functions (e.g. `skew`, `kurtosis`), the default behavior of `mode` typically preserves the axis it acts along. In SciPy 1.11.0, this behavior will change: the default value of `keepdims` will become False, the `axis` over which the statistic is taken will be eliminated, and the value None will no longer be accepted. Set `keepdims` to True or False to avoid this warning.\n",
      "  mode, _ = stats.mode(_y[neigh_ind, k], axis=1)\n",
      "E:\\anaconda\\lib\\site-packages\\sklearn\\neighbors\\_classification.py:228: FutureWarning: Unlike other reduction functions (e.g. `skew`, `kurtosis`), the default behavior of `mode` typically preserves the axis it acts along. In SciPy 1.11.0, this behavior will change: the default value of `keepdims` will become False, the `axis` over which the statistic is taken will be eliminated, and the value None will no longer be accepted. Set `keepdims` to True or False to avoid this warning.\n",
      "  mode, _ = stats.mode(_y[neigh_ind, k], axis=1)\n",
      "E:\\anaconda\\lib\\site-packages\\sklearn\\neighbors\\_classification.py:228: FutureWarning: Unlike other reduction functions (e.g. `skew`, `kurtosis`), the default behavior of `mode` typically preserves the axis it acts along. In SciPy 1.11.0, this behavior will change: the default value of `keepdims` will become False, the `axis` over which the statistic is taken will be eliminated, and the value None will no longer be accepted. Set `keepdims` to True or False to avoid this warning.\n",
      "  mode, _ = stats.mode(_y[neigh_ind, k], axis=1)\n",
      "E:\\anaconda\\lib\\site-packages\\sklearn\\neighbors\\_classification.py:228: FutureWarning: Unlike other reduction functions (e.g. `skew`, `kurtosis`), the default behavior of `mode` typically preserves the axis it acts along. In SciPy 1.11.0, this behavior will change: the default value of `keepdims` will become False, the `axis` over which the statistic is taken will be eliminated, and the value None will no longer be accepted. Set `keepdims` to True or False to avoid this warning.\n",
      "  mode, _ = stats.mode(_y[neigh_ind, k], axis=1)\n"
     ]
    }
   ],
   "source": [
    "# importing library\n",
    "from sklearn.neighbors import KNeighborsClassifier\n",
    "metric_k = [] # create an empty list\n",
    "neighbors = np.arange(3,14) # take values from 3 to 14 and store it in array format in 'neighbors' variable\n",
    "# Finally the K in the name refers to the number of neighbors that we're going to use to make our prediction \n",
    "for k in neighbors:\n",
    "    knn = KNeighborsClassifier(n_neighbors=k) \n",
    "    knn_model = knn.fit(X_train1, y_train1) \n",
    "    y_pred_knn = knn_model.predict(X_test1) \n",
    "    knn_acc = accuracy_score(y_test1, y_pred_knn) \n",
    "    metric_k.append(knn_acc) # appending accuracy 'acc' to the empty list\n",
    "# after the loop metric_k will have accuracy values\n",
    "# which value of k is giving the highest accuracy can be found out"
   ]
  },
  {
   "cell_type": "code",
   "execution_count": 77,
   "id": "366d1d54",
   "metadata": {},
   "outputs": [
    {
     "data": {
      "text/plain": [
       "[0.7802690582959642,\n",
       " 0.7937219730941704,\n",
       " 0.8026905829596412,\n",
       " 0.8071748878923767,\n",
       " 0.7713004484304933,\n",
       " 0.7847533632286996,\n",
       " 0.7802690582959642,\n",
       " 0.8116591928251121,\n",
       " 0.8071748878923767,\n",
       " 0.8116591928251121,\n",
       " 0.8116591928251121]"
      ]
     },
     "execution_count": 77,
     "metadata": {},
     "output_type": "execute_result"
    }
   ],
   "source": [
    "# displaying accuracy values for k = 3 to 20\n",
    "metric_k"
   ]
  },
  {
   "cell_type": "code",
   "execution_count": 78,
   "id": "29f6a9a5",
   "metadata": {},
   "outputs": [
    {
     "data": {
      "image/png": "[encoded data removed]",
      "text/plain": [
       "<Figure size 640x480 with 1 Axes>"
      ]
     },
     "metadata": {},
     "output_type": "display_data"
    }
   ],
   "source": [
    "# plot k values versus accuracy\n",
    "plt.plot(neighbors, metric_k, 'o-') # to mark using 'o-'\n",
    "plt.xlabel('k value')\n",
    "plt.ylabel('Accuracy')\n",
    "plt.grid()"
   ]
  },
  {
   "cell_type": "markdown",
   "id": "a23e1c5a",
   "metadata": {},
   "source": [
    "-from the above display, k value = 10,12, 13 having highest accuracy ( 0.8116591928251121) which indicates out of total 100, correctly classified as 81"
   ]
  },
  {
   "cell_type": "code",
   "execution_count": 79,
   "id": "4985de13",
   "metadata": {},
   "outputs": [
    {
     "name": "stderr",
     "output_type": "stream",
     "text": [
      "E:\\anaconda\\lib\\site-packages\\sklearn\\neighbors\\_classification.py:228: FutureWarning: Unlike other reduction functions (e.g. `skew`, `kurtosis`), the default behavior of `mode` typically preserves the axis it acts along. In SciPy 1.11.0, this behavior will change: the default value of `keepdims` will become False, the `axis` over which the statistic is taken will be eliminated, and the value None will no longer be accepted. Set `keepdims` to True or False to avoid this warning.\n",
      "  mode, _ = stats.mode(_y[neigh_ind, k], axis=1)\n"
     ]
    }
   ],
   "source": [
    "knn = KNeighborsClassifier(n_neighbors=10) # using k value = 10, creating an instance\n",
    "knn_model = knn.fit(X_train1, y_train1) # creating model with training data\n",
    "y_pred_knn = knn_model.predict(X_test1) # finding the predicted values of test data using features of test data"
   ]
  },
  {
   "cell_type": "code",
   "execution_count": 80,
   "id": "e343c230",
   "metadata": {},
   "outputs": [
    {
     "name": "stdout",
     "output_type": "stream",
     "text": [
      "[[123  11]\n",
      " [ 31  58]]\n",
      "0.8116591928251121\n",
      "0.8405797101449275\n",
      "0.651685393258427\n"
     ]
    }
   ],
   "source": [
    "# display confusion matrix\n",
    "print(confusion_matrix(y_test1, y_pred_knn))\n",
    "# display accuracy score\n",
    "print(accuracy_score(y_test1, y_pred_knn))\n",
    "# display precision score\n",
    "print(precision_score(y_test1, y_pred_knn))\n",
    "# display recall score\n",
    "print(recall_score(y_test1, y_pred_knn))"
   ]
  },
  {
   "cell_type": "markdown",
   "id": "832cf26a",
   "metadata": {},
   "source": [
    "### SVM MODEL"
   ]
  },
  {
   "cell_type": "code",
   "execution_count": 81,
   "id": "ac204398",
   "metadata": {},
   "outputs": [],
   "source": [
    "# importing library\n",
    "from sklearn.svm import SVC # SVC - support vector classifier"
   ]
  },
  {
   "cell_type": "markdown",
   "id": "26f1634e",
   "metadata": {},
   "source": [
    "##### 'linear' kernel"
   ]
  },
  {
   "cell_type": "code",
   "execution_count": 82,
   "id": "35b3b3ea",
   "metadata": {},
   "outputs": [],
   "source": [
    "# creating an instance for SVM using linear kernel\n",
    "svm_lin = SVC(kernel = 'linear') "
   ]
  },
  {
   "cell_type": "code",
   "execution_count": 83,
   "id": "0f27a249",
   "metadata": {},
   "outputs": [],
   "source": [
    "# creating model using training data\n",
    "svm_linmod = svm_lin.fit(X_train1, y_train1) "
   ]
  },
  {
   "cell_type": "code",
   "execution_count": 84,
   "id": "477bd253",
   "metadata": {},
   "outputs": [],
   "source": [
    "# predicting the data by giving 'X_test1'\n",
    "y_pred_svmlin = svm_lin.predict(X_test1) "
   ]
  },
  {
   "cell_type": "code",
   "execution_count": 85,
   "id": "10acb4ee",
   "metadata": {},
   "outputs": [],
   "source": [
    "# importing library for confusion matrix, accuracy score\n",
    "from sklearn.metrics import confusion_matrix, accuracy_score"
   ]
  },
  {
   "cell_type": "code",
   "execution_count": 86,
   "id": "842440b5",
   "metadata": {},
   "outputs": [
    {
     "data": {
      "text/plain": [
       "array([[112,  22],\n",
       "       [ 26,  63]], dtype=int64)"
      ]
     },
     "execution_count": 86,
     "metadata": {},
     "output_type": "execute_result"
    }
   ],
   "source": [
    "# display confusion matrix\n",
    "confusion_matrix(y_test1, y_pred_svmlin)"
   ]
  },
  {
   "cell_type": "code",
   "execution_count": 87,
   "id": "77c3d61a",
   "metadata": {},
   "outputs": [
    {
     "data": {
      "text/plain": [
       "0.7847533632286996"
      ]
     },
     "execution_count": 87,
     "metadata": {},
     "output_type": "execute_result"
    }
   ],
   "source": [
    "# display accuracy score\n",
    "accuracy_score(y_test1, y_pred_svmlin)"
   ]
  },
  {
   "cell_type": "markdown",
   "id": "6640eadd",
   "metadata": {},
   "source": [
    "##### 'rbf' kernel"
   ]
  },
  {
   "cell_type": "code",
   "execution_count": 88,
   "id": "502f19fd",
   "metadata": {},
   "outputs": [],
   "source": [
    " # creating an instance for SVM  using rbf kernel\n",
    "svm_rbf = SVC(kernel = 'rbf') "
   ]
  },
  {
   "cell_type": "code",
   "execution_count": 89,
   "id": "779d1abd",
   "metadata": {},
   "outputs": [],
   "source": [
    "# creating model using training data\n",
    "svm_rbfmod = svm_rbf.fit(X_train1, y_train1) "
   ]
  },
  {
   "cell_type": "code",
   "execution_count": 90,
   "id": "b9d55261",
   "metadata": {},
   "outputs": [],
   "source": [
    "# predicting the data by giving 'X_test1'\n",
    "y_pred_svmrbf = svm_rbf.predict(X_test1)"
   ]
  },
  {
   "cell_type": "code",
   "execution_count": 91,
   "id": "37732121",
   "metadata": {},
   "outputs": [
    {
     "data": {
      "text/plain": [
       "array([[123,  11],\n",
       "       [ 32,  57]], dtype=int64)"
      ]
     },
     "execution_count": 91,
     "metadata": {},
     "output_type": "execute_result"
    }
   ],
   "source": [
    "# display confusion matrix\n",
    "confusion_matrix(y_test1, y_pred_svmrbf)"
   ]
  },
  {
   "cell_type": "code",
   "execution_count": 92,
   "id": "09af27dd",
   "metadata": {},
   "outputs": [
    {
     "data": {
      "text/plain": [
       "0.8071748878923767"
      ]
     },
     "execution_count": 92,
     "metadata": {},
     "output_type": "execute_result"
    }
   ],
   "source": [
    "# display accuracy score\n",
    "accuracy_score(y_test1, y_pred_svmrbf)"
   ]
  },
  {
   "cell_type": "markdown",
   "id": "7c8f6622",
   "metadata": {},
   "source": [
    "##### 'polynomial' kernel"
   ]
  },
  {
   "cell_type": "code",
   "execution_count": 93,
   "id": "ea53d215",
   "metadata": {},
   "outputs": [],
   "source": [
    "# creating an instance for SVM  using 'polynomial' kernel\n",
    "svm_poly = SVC(kernel='poly') # creating an instance using linear kernel"
   ]
  },
  {
   "cell_type": "code",
   "execution_count": 94,
   "id": "726d2e14",
   "metadata": {},
   "outputs": [],
   "source": [
    "# creating model using training data\n",
    "svm_polmod = svm_poly.fit(X_train1, y_train1) "
   ]
  },
  {
   "cell_type": "code",
   "execution_count": 95,
   "id": "8b910c33",
   "metadata": {},
   "outputs": [],
   "source": [
    "# predicting the data by giving 'X_test1'\n",
    "y_pred_svmpol = svm_poly.predict(X_test1)"
   ]
  },
  {
   "cell_type": "code",
   "execution_count": 96,
   "id": "e26a6d04",
   "metadata": {},
   "outputs": [
    {
     "data": {
      "text/plain": [
       "array([[124,  10],\n",
       "       [ 32,  57]], dtype=int64)"
      ]
     },
     "execution_count": 96,
     "metadata": {},
     "output_type": "execute_result"
    }
   ],
   "source": [
    "# display confusion matrix\n",
    "confusion_matrix(y_test1, y_pred_svmpol)"
   ]
  },
  {
   "cell_type": "code",
   "execution_count": 97,
   "id": "f4118346",
   "metadata": {},
   "outputs": [
    {
     "data": {
      "text/plain": [
       "0.8116591928251121"
      ]
     },
     "execution_count": 97,
     "metadata": {},
     "output_type": "execute_result"
    }
   ],
   "source": [
    "# display accuracy score\n",
    "accuracy_score(y_test1, y_pred_svmpol)"
   ]
  },
  {
   "cell_type": "markdown",
   "id": "5f3b3d3b",
   "metadata": {},
   "source": [
    "### DECISION TREE"
   ]
  },
  {
   "cell_type": "code",
   "execution_count": 98,
   "id": "5c598f66",
   "metadata": {},
   "outputs": [],
   "source": [
    "# importing library\n",
    "from sklearn.tree import DecisionTreeClassifier"
   ]
  },
  {
   "cell_type": "code",
   "execution_count": 99,
   "id": "9403d8df",
   "metadata": {},
   "outputs": [],
   "source": [
    "# creating an instance for decision tree classifier\n",
    "dec_tree = DecisionTreeClassifier(random_state=42) "
   ]
  },
  {
   "cell_type": "code",
   "execution_count": 100,
   "id": "acf1aff0",
   "metadata": {},
   "outputs": [
    {
     "data": {
      "text/plain": [
       "DecisionTreeClassifier(random_state=42)"
      ]
     },
     "execution_count": 100,
     "metadata": {},
     "output_type": "execute_result"
    }
   ],
   "source": [
    "# creating model using training data \n",
    "dec_tree.fit(X_train1, y_train1)"
   ]
  },
  {
   "cell_type": "code",
   "execution_count": 101,
   "id": "487f1892",
   "metadata": {},
   "outputs": [],
   "source": [
    "# predicting the data by giving 'X_test1'\n",
    "y_pred_dectree = dec_tree.predict (X_test1)"
   ]
  },
  {
   "cell_type": "code",
   "execution_count": 102,
   "id": "f6979d77",
   "metadata": {},
   "outputs": [
    {
     "data": {
      "text/plain": [
       "array([[103,  31],\n",
       "       [ 29,  60]], dtype=int64)"
      ]
     },
     "execution_count": 102,
     "metadata": {},
     "output_type": "execute_result"
    }
   ],
   "source": [
    "# display confusion matrix\n",
    "confusion_matrix(y_test1, y_pred_dectree)"
   ]
  },
  {
   "cell_type": "code",
   "execution_count": 103,
   "id": "e3b5730a",
   "metadata": {},
   "outputs": [
    {
     "data": {
      "text/plain": [
       "0.7309417040358744"
      ]
     },
     "execution_count": 103,
     "metadata": {},
     "output_type": "execute_result"
    }
   ],
   "source": [
    "# display accuracy score\n",
    "accuracy_score(y_test1, y_pred_dectree)"
   ]
  },
  {
   "cell_type": "markdown",
   "id": "03316b54",
   "metadata": {},
   "source": [
    "### RANDOM FOREST"
   ]
  },
  {
   "cell_type": "code",
   "execution_count": 104,
   "id": "bb3ec9cd",
   "metadata": {},
   "outputs": [],
   "source": [
    "# importing library\n",
    "from sklearn.ensemble import RandomForestClassifier"
   ]
  },
  {
   "cell_type": "code",
   "execution_count": 105,
   "id": "6f49b385",
   "metadata": {},
   "outputs": [],
   "source": [
    "# creating an instance for random forest classifier\n",
    "ran_for = RandomForestClassifier(random_state=42)"
   ]
  },
  {
   "cell_type": "code",
   "execution_count": 106,
   "id": "382b9e3b",
   "metadata": {},
   "outputs": [
    {
     "data": {
      "text/plain": [
       "RandomForestClassifier(random_state=42)"
      ]
     },
     "execution_count": 106,
     "metadata": {},
     "output_type": "execute_result"
    }
   ],
   "source": [
    "# creating model using training data \n",
    "ran_for.fit(X_train1, y_train1)"
   ]
  },
  {
   "cell_type": "code",
   "execution_count": 107,
   "id": "349adc09",
   "metadata": {},
   "outputs": [],
   "source": [
    "# predicting the data by giving 'X_test1'\n",
    "y_pred_ranfor = ran_for.predict (X_test1)"
   ]
  },
  {
   "cell_type": "code",
   "execution_count": 108,
   "id": "caadc15a",
   "metadata": {},
   "outputs": [
    {
     "data": {
      "text/plain": [
       "array([[107,  27],\n",
       "       [ 22,  67]], dtype=int64)"
      ]
     },
     "execution_count": 108,
     "metadata": {},
     "output_type": "execute_result"
    }
   ],
   "source": [
    "# display confusion matrix\n",
    "confusion_matrix(y_test1, y_pred_ranfor)"
   ]
  },
  {
   "cell_type": "code",
   "execution_count": 109,
   "id": "b0b658e2",
   "metadata": {},
   "outputs": [
    {
     "data": {
      "text/plain": [
       "0.7802690582959642"
      ]
     },
     "execution_count": 109,
     "metadata": {},
     "output_type": "execute_result"
    }
   ],
   "source": [
    "# display accuracy score\n",
    "accuracy_score(y_test1, y_pred_ranfor)"
   ]
  }
 ],
 "metadata": {
  "kernelspec": {
   "display_name": "Python 3 (ipykernel)",
   "language": "python",
   "name": "python3"
  },
  "language_info": {
   "codemirror_mode": {
    "name": "ipython",
    "version": 3
   },
   "file_extension": ".py",
   "mimetype": "text/x-python",
   "name": "python",
   "nbconvert_exporter": "python",
   "pygments_lexer": "ipython3",
   "version": "3.9.13"
  }
 },
 "nbformat": 4,
 "nbformat_minor": 5
}
