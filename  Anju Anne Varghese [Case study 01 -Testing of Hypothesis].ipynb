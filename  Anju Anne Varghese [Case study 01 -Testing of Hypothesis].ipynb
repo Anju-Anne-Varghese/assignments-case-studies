{
 "cells": [
  {
   "cell_type": "markdown",
   "id": "f513a57d",
   "metadata": {},
   "source": [
    "## Q1) A company started to invest in digital marketing as a new way of their product promotions. For that they collected data and decided to carry out a study on it.\n",
    "## * The company wishes to clarify whether there is any increase in sales after stepping into digital marketing.\n",
    "## * The company needs to check whether there is any dependency between the features “Region” and “Manager”.\n",
    "## Help the company to carry out their study with the help of data provided."
   ]
  },
  {
   "cell_type": "code",
   "execution_count": 78,
   "id": "154c130f",
   "metadata": {},
   "outputs": [],
   "source": [
    "# importing libraries\n",
    "import pandas as pd\n",
    "import numpy as np\n",
    "import matplotlib.pyplot as plt\n",
    "import seaborn as sns"
   ]
  },
  {
   "cell_type": "code",
   "execution_count": 79,
   "id": "dd6c29c2",
   "metadata": {},
   "outputs": [],
   "source": [
    "# Load a comma separated file (CSV file) into a DataFrame: \n",
    "data = pd.read_csv('C:/Users/Lenovo/Assignment/assignment 4/DATA/Sales_add.csv')"
   ]
  },
  {
   "cell_type": "code",
   "execution_count": 80,
   "id": "55906091",
   "metadata": {},
   "outputs": [
    {
     "data": {
      "text/html": [
       "<div>\n",
       "<style scoped>\n",
       "    .dataframe tbody tr th:only-of-type {\n",
       "        vertical-align: middle;\n",
       "    }\n",
       "\n",
       "    .dataframe tbody tr th {\n",
       "        vertical-align: top;\n",
       "    }\n",
       "\n",
       "    .dataframe thead th {\n",
       "        text-align: right;\n",
       "    }\n",
       "</style>\n",
       "<table border=\"1\" class=\"dataframe\">\n",
       "  <thead>\n",
       "    <tr style=\"text-align: right;\">\n",
       "      <th></th>\n",
       "      <th>Month</th>\n",
       "      <th>Region</th>\n",
       "      <th>Manager</th>\n",
       "      <th>Sales_before_digital_add(in $)</th>\n",
       "      <th>Sales_After_digital_add(in $)</th>\n",
       "    </tr>\n",
       "  </thead>\n",
       "  <tbody>\n",
       "    <tr>\n",
       "      <th>0</th>\n",
       "      <td>Month-1</td>\n",
       "      <td>Region - A</td>\n",
       "      <td>Manager - A</td>\n",
       "      <td>132921</td>\n",
       "      <td>270390</td>\n",
       "    </tr>\n",
       "    <tr>\n",
       "      <th>1</th>\n",
       "      <td>Month-2</td>\n",
       "      <td>Region - A</td>\n",
       "      <td>Manager - C</td>\n",
       "      <td>149559</td>\n",
       "      <td>223334</td>\n",
       "    </tr>\n",
       "    <tr>\n",
       "      <th>2</th>\n",
       "      <td>Month-3</td>\n",
       "      <td>Region - B</td>\n",
       "      <td>Manager - A</td>\n",
       "      <td>146278</td>\n",
       "      <td>244243</td>\n",
       "    </tr>\n",
       "    <tr>\n",
       "      <th>3</th>\n",
       "      <td>Month-4</td>\n",
       "      <td>Region - B</td>\n",
       "      <td>Manager - B</td>\n",
       "      <td>152167</td>\n",
       "      <td>231808</td>\n",
       "    </tr>\n",
       "    <tr>\n",
       "      <th>4</th>\n",
       "      <td>Month-5</td>\n",
       "      <td>Region - C</td>\n",
       "      <td>Manager - B</td>\n",
       "      <td>159525</td>\n",
       "      <td>258402</td>\n",
       "    </tr>\n",
       "  </tbody>\n",
       "</table>\n",
       "</div>"
      ],
      "text/plain": [
       "     Month      Region      Manager  Sales_before_digital_add(in $)  \\\n",
       "0  Month-1  Region - A  Manager - A                          132921   \n",
       "1  Month-2  Region - A  Manager - C                          149559   \n",
       "2  Month-3  Region - B  Manager - A                          146278   \n",
       "3  Month-4  Region - B  Manager - B                          152167   \n",
       "4  Month-5  Region - C  Manager - B                          159525   \n",
       "\n",
       "   Sales_After_digital_add(in $)  \n",
       "0                         270390  \n",
       "1                         223334  \n",
       "2                         244243  \n",
       "3                         231808  \n",
       "4                         258402  "
      ]
     },
     "execution_count": 80,
     "metadata": {},
     "output_type": "execute_result"
    }
   ],
   "source": [
    "# displaying the first 5 rows of the dataframe by default\n",
    "data.head()"
   ]
  },
  {
   "cell_type": "code",
   "execution_count": 81,
   "id": "484239c2",
   "metadata": {},
   "outputs": [
    {
     "name": "stdout",
     "output_type": "stream",
     "text": [
      "<class 'pandas.core.frame.DataFrame'>\n",
      "RangeIndex: 22 entries, 0 to 21\n",
      "Data columns (total 5 columns):\n",
      " #   Column                          Non-Null Count  Dtype \n",
      "---  ------                          --------------  ----- \n",
      " 0   Month                           22 non-null     object\n",
      " 1   Region                          22 non-null     object\n",
      " 2   Manager                         22 non-null     object\n",
      " 3   Sales_before_digital_add(in $)  22 non-null     int64 \n",
      " 4   Sales_After_digital_add(in $)   22 non-null     int64 \n",
      "dtypes: int64(2), object(3)\n",
      "memory usage: 1008.0+ bytes\n"
     ]
    }
   ],
   "source": [
    "# checking null values in the dataframe\n",
    "data.info()"
   ]
  },
  {
   "cell_type": "markdown",
   "id": "935f236d",
   "metadata": {},
   "source": [
    "^ 22 entries are there, and each columns are having 22 non-null values, hence no null value present in the dataframe"
   ]
  },
  {
   "cell_type": "markdown",
   "id": "bc85511b",
   "metadata": {},
   "source": [
    "### ~ The company wishes to clarify whether there is any increase in sales after stepping into digital marketing."
   ]
  },
  {
   "cell_type": "markdown",
   "id": "edd8c416",
   "metadata": {},
   "source": [
    "#### Hypothesis\n",
    "* Ho: on increase in sales after stepping into digital marketing\n",
    "* HA: increase in sales after stepping into digital marketing\n",
    "* taking alpha = 0.05"
   ]
  },
  {
   "cell_type": "markdown",
   "id": "4675903c",
   "metadata": {},
   "source": [
    "^ Using 2 sample t test, since we have to determine whether digital marketing has an effect on the sales or not, sample size is very small (sample size -22) and we have 2 column values that has to be used in the test."
   ]
  },
  {
   "cell_type": "code",
   "execution_count": 82,
   "id": "5fd905eb",
   "metadata": {},
   "outputs": [],
   "source": [
    "# using the ttest_ind() function from the scipy.stats library to conduct a two sample t-test\n",
    "from scipy.stats import ttest_ind"
   ]
  },
  {
   "cell_type": "code",
   "execution_count": 83,
   "id": "f1d87fac",
   "metadata": {},
   "outputs": [],
   "source": [
    "# store the values of the column 'Sales_before_digital_add(in $)' in array format into a new variable\n",
    "before_sales = data['Sales_before_digital_add(in $)'].values"
   ]
  },
  {
   "cell_type": "code",
   "execution_count": 84,
   "id": "37c088f5",
   "metadata": {},
   "outputs": [
    {
     "data": {
      "text/plain": [
       "array([132921, 149559, 146278, 152167, 159525, 137163, 130625, 131140,\n",
       "       171259, 141956, 159339, 178939, 145062, 151514, 147463, 177195,\n",
       "       140862, 167996, 132135, 152493, 147425, 130263], dtype=int64)"
      ]
     },
     "execution_count": 84,
     "metadata": {},
     "output_type": "execute_result"
    }
   ],
   "source": [
    "# display values stored in 'before_sales'\n",
    "before_sales"
   ]
  },
  {
   "cell_type": "code",
   "execution_count": 85,
   "id": "5ca93a71",
   "metadata": {},
   "outputs": [],
   "source": [
    "# store the values of the column 'Sales_After_digital_add(in $)' in array format into a new variable\n",
    "after_sales = data['Sales_After_digital_add(in $)'].values"
   ]
  },
  {
   "cell_type": "code",
   "execution_count": 86,
   "id": "6cb7e76a",
   "metadata": {},
   "outputs": [
    {
     "data": {
      "text/plain": [
       "array([270390, 223334, 244243, 231808, 258402, 256948, 222106, 230637,\n",
       "       226261, 193735, 203175, 276279, 205180, 253131, 229336, 187305,\n",
       "       234908, 191517, 227040, 212579, 263388, 243020], dtype=int64)"
      ]
     },
     "execution_count": 86,
     "metadata": {},
     "output_type": "execute_result"
    }
   ],
   "source": [
    "# display values stored in 'after_sales'\n",
    "after_sales"
   ]
  },
  {
   "cell_type": "code",
   "execution_count": 87,
   "id": "4a78e305",
   "metadata": {},
   "outputs": [
    {
     "name": "stdout",
     "output_type": "stream",
     "text": [
      "210329900.67975205 623460269.4710743\n"
     ]
    }
   ],
   "source": [
    "# find variance for before_sales and after_sales\n",
    "print(np.var(before_sales), np.var(after_sales))\n"
   ]
  },
  {
   "cell_type": "code",
   "execution_count": 88,
   "id": "3f89ab0f",
   "metadata": {},
   "outputs": [
    {
     "data": {
      "text/plain": [
       "2.964201796587894"
      ]
     },
     "execution_count": 88,
     "metadata": {},
     "output_type": "execute_result"
    }
   ],
   "source": [
    "# The ratio of the larger sample variance to the smaller sample variance\n",
    "623460269.4710743/210329900.67975205"
   ]
  },
  {
   "cell_type": "markdown",
   "id": "abba0b95",
   "metadata": {},
   "source": [
    "^ The ratio of the larger sample variance to the smaller sample variance  = 2.964201796587894, which is less than 4. This means we can assume that the population variances are equal."
   ]
  },
  {
   "cell_type": "code",
   "execution_count": 89,
   "id": "3a93d30c",
   "metadata": {},
   "outputs": [],
   "source": [
    "# performing 2 sample t test using the values stored in 'before_sales' and 'after_sales'\n",
    "# storing t test statistic and  corresponding  p-value in 't_test' and 'p_value'\n",
    "t_test, p_value=ttest_ind(before_sales, after_sales)"
   ]
  },
  {
   "cell_type": "code",
   "execution_count": 90,
   "id": "72cdb403",
   "metadata": {},
   "outputs": [
    {
     "data": {
      "text/plain": [
       "-12.995084451110875"
      ]
     },
     "execution_count": 90,
     "metadata": {},
     "output_type": "execute_result"
    }
   ],
   "source": [
    "# display value stored in 't_test'\n",
    "t_test"
   ]
  },
  {
   "cell_type": "code",
   "execution_count": 91,
   "id": "1ff78b87",
   "metadata": {},
   "outputs": [
    {
     "data": {
      "text/plain": [
       "2.614368006904645e-16"
      ]
     },
     "execution_count": 91,
     "metadata": {},
     "output_type": "execute_result"
    }
   ],
   "source": [
    "# display value stored in 'p_value'\n",
    "p_value"
   ]
  },
  {
   "cell_type": "markdown",
   "id": "50d5c36e",
   "metadata": {},
   "source": [
    "* The t test statistic is -12.995084451110875 and the corresponding  p-value is 2.614368006904645e-16"
   ]
  },
  {
   "cell_type": "code",
   "execution_count": 92,
   "id": "1407f00f",
   "metadata": {},
   "outputs": [
    {
     "name": "stdout",
     "output_type": "stream",
     "text": [
      "Null Hypothesis Rejected\n"
     ]
    }
   ],
   "source": [
    "# if p<alpha - reject null hypothesis\n",
    "if p_value<0.05:\n",
    "    print('Null Hypothesis Rejected')\n",
    "else:\n",
    "    print('Failed to reject Null Hypothesis')\n",
    "    "
   ]
  },
  {
   "cell_type": "markdown",
   "id": "d9837d61",
   "metadata": {},
   "source": [
    "* HA: increase in sales after stepping into digital marketing"
   ]
  },
  {
   "cell_type": "markdown",
   "id": "2c16e272",
   "metadata": {},
   "source": [
    "^ The above output gives 'Null Hypothesis Rejected', so accepting Alternate Hypothesis which indicates that there is an increase in  sales after stepping into digital marketing. \n"
   ]
  },
  {
   "cell_type": "markdown",
   "id": "7cf4ec21",
   "metadata": {},
   "source": [
    "### ~The company needs to check whether there is any dependency between the features “Region” and “Manager”."
   ]
  },
  {
   "cell_type": "markdown",
   "id": "42c5ebca",
   "metadata": {},
   "source": [
    "#### Hypothesis\n",
    "* Ho:No dependency between the features “Region” and “Manager”\n",
    "* HA: dependency between the features “Region” and “Manager”\n",
    "* taking alpha = 0.05"
   ]
  },
  {
   "cell_type": "markdown",
   "id": "b3b75dd6",
   "metadata": {},
   "source": [
    "^ using Chi-Square Test of Independence since we have to determine whether or not there is a significant association between two categorical variables [“Region” and “Manager”]"
   ]
  },
  {
   "cell_type": "code",
   "execution_count": 93,
   "id": "c0b1ffc3",
   "metadata": {},
   "outputs": [
    {
     "data": {
      "text/html": [
       "<div>\n",
       "<style scoped>\n",
       "    .dataframe tbody tr th:only-of-type {\n",
       "        vertical-align: middle;\n",
       "    }\n",
       "\n",
       "    .dataframe tbody tr th {\n",
       "        vertical-align: top;\n",
       "    }\n",
       "\n",
       "    .dataframe thead th {\n",
       "        text-align: right;\n",
       "    }\n",
       "</style>\n",
       "<table border=\"1\" class=\"dataframe\">\n",
       "  <thead>\n",
       "    <tr style=\"text-align: right;\">\n",
       "      <th>Manager</th>\n",
       "      <th>Manager - A</th>\n",
       "      <th>Manager - B</th>\n",
       "      <th>Manager - C</th>\n",
       "    </tr>\n",
       "    <tr>\n",
       "      <th>Region</th>\n",
       "      <th></th>\n",
       "      <th></th>\n",
       "      <th></th>\n",
       "    </tr>\n",
       "  </thead>\n",
       "  <tbody>\n",
       "    <tr>\n",
       "      <th>Region - A</th>\n",
       "      <td>4</td>\n",
       "      <td>3</td>\n",
       "      <td>3</td>\n",
       "    </tr>\n",
       "    <tr>\n",
       "      <th>Region - B</th>\n",
       "      <td>4</td>\n",
       "      <td>1</td>\n",
       "      <td>2</td>\n",
       "    </tr>\n",
       "    <tr>\n",
       "      <th>Region - C</th>\n",
       "      <td>1</td>\n",
       "      <td>3</td>\n",
       "      <td>1</td>\n",
       "    </tr>\n",
       "  </tbody>\n",
       "</table>\n",
       "</div>"
      ],
      "text/plain": [
       "Manager     Manager - A  Manager - B  Manager - C\n",
       "Region                                           \n",
       "Region - A            4            3            3\n",
       "Region - B            4            1            2\n",
       "Region - C            1            3            1"
      ]
     },
     "execution_count": 93,
     "metadata": {},
     "output_type": "execute_result"
    }
   ],
   "source": [
    "# used to find the count each regions having the same manager\n",
    "# grouped the dataframe by 'Region'and 'Manager and count the number of rows coming under the grouped \n",
    "# dataframe and unstacking by 'Manager' column\n",
    "data1 = data.groupby(['Region','Manager']).size().unstack('Manager')\n",
    "data1"
   ]
  },
  {
   "cell_type": "code",
   "execution_count": 94,
   "id": "d825e491",
   "metadata": {},
   "outputs": [],
   "source": [
    "# for importing chi2_contingency function from the scipy library\n",
    "from scipy.stats import chi2_contingency"
   ]
  },
  {
   "cell_type": "code",
   "execution_count": 95,
   "id": "70214af5",
   "metadata": {},
   "outputs": [],
   "source": [
    "# storing the values from dataframe 'data1' to 'tab-data'\n",
    "tab_data = [[4, 3, 3], [4, 1, 2], [1, 3, 1]]"
   ]
  },
  {
   "cell_type": "code",
   "execution_count": 96,
   "id": "05bb0c3c",
   "metadata": {},
   "outputs": [],
   "source": [
    "# performing Chi-Square Test of Independence using the values stored in 'tab_data'\n",
    "# storing Chi-Square Test Statistic,  p-value, Degrees of freedom,  expected values for each cell in \n",
    "# the contingency table\n",
    "c, p, df, expected=chi2_contingency(tab_data)"
   ]
  },
  {
   "cell_type": "code",
   "execution_count": 97,
   "id": "cec2096e",
   "metadata": {},
   "outputs": [
    {
     "data": {
      "text/plain": [
       "3.050566893424036"
      ]
     },
     "execution_count": 97,
     "metadata": {},
     "output_type": "execute_result"
    }
   ],
   "source": [
    "# used for storing Chi-Square Test Statistic\n",
    "c"
   ]
  },
  {
   "cell_type": "code",
   "execution_count": 98,
   "id": "0f78bf65",
   "metadata": {},
   "outputs": [
    {
     "data": {
      "text/plain": [
       "0.5493991051158094"
      ]
     },
     "execution_count": 98,
     "metadata": {},
     "output_type": "execute_result"
    }
   ],
   "source": [
    "# used for storing p-value:\n",
    "p"
   ]
  },
  {
   "cell_type": "code",
   "execution_count": 99,
   "id": "24fbcc8f",
   "metadata": {},
   "outputs": [
    {
     "data": {
      "text/plain": [
       "4"
      ]
     },
     "execution_count": 99,
     "metadata": {},
     "output_type": "execute_result"
    }
   ],
   "source": [
    "# used for storing Degrees of freedom\n",
    "df"
   ]
  },
  {
   "cell_type": "code",
   "execution_count": 100,
   "id": "7f079632",
   "metadata": {},
   "outputs": [
    {
     "data": {
      "text/plain": [
       "array([[4.09090909, 3.18181818, 2.72727273],\n",
       "       [2.86363636, 2.22727273, 1.90909091],\n",
       "       [2.04545455, 1.59090909, 1.36363636]])"
      ]
     },
     "execution_count": 100,
     "metadata": {},
     "output_type": "execute_result"
    }
   ],
   "source": [
    "# used for storing expected values for each cell in the contingency table\n",
    "expected"
   ]
  },
  {
   "cell_type": "markdown",
   "id": "32a91733",
   "metadata": {},
   "source": [
    "* Chi-Square Test Statistic: 3.050566893424036\n",
    "* p-value: 0.5493991051158094\n",
    "* Degrees of freedom: 4 \n",
    "* Array: displays the expected values for each cell in the contingency table.\n",
    "array([[4.09090909, 3.18181818, 2.72727273],\n",
    "       [2.86363636, 2.22727273, 1.90909091],\n",
    "       [2.04545455, 1.59090909, 1.36363636]])"
   ]
  },
  {
   "cell_type": "code",
   "execution_count": 101,
   "id": "df1b7079",
   "metadata": {},
   "outputs": [
    {
     "name": "stdout",
     "output_type": "stream",
     "text": [
      "Failed to reject Null Hypothesis\n"
     ]
    }
   ],
   "source": [
    "# if p<alpha - reject null hypothesis\n",
    "if p<0.05:\n",
    "    print('Null Hypothesis Rejected')\n",
    "else:\n",
    "    print('Failed to reject Null Hypothesis')"
   ]
  },
  {
   "cell_type": "markdown",
   "id": "585ab93a",
   "metadata": {},
   "source": [
    "* Ho:No dependency between the features “Region” and “Manager”"
   ]
  },
  {
   "cell_type": "markdown",
   "id": "ecf236f0",
   "metadata": {},
   "source": [
    "^  The above output gives 'Failed to reject Null Hypothesis', hence null hypothesis accepted which indicates that there is no dependency between the features “Region” and “Manager”"
   ]
  }
 ],
 "metadata": {
  "kernelspec": {
   "display_name": "Python 3 (ipykernel)",
   "language": "python",
   "name": "python3"
  },
  "language_info": {
   "codemirror_mode": {
    "name": "ipython",
    "version": 3
   },
   "file_extension": ".py",
   "mimetype": "text/x-python",
   "name": "python",
   "nbconvert_exporter": "python",
   "pygments_lexer": "ipython3",
   "version": "3.9.13"
  }
 },
 "nbformat": 4,
 "nbformat_minor": 5
}
