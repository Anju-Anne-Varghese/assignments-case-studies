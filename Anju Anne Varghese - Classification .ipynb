{
 "cells": [
  {
   "cell_type": "markdown",
   "id": "49a92e89",
   "metadata": {},
   "source": [
    "# Q) Do the following in the iris dataset\n",
    "#     1. Read the dataset to python environment\n",
    "#     2. Do the necessary pre-processing steps\n",
    "#     3. Find out which classification model gives the best result         (try all the classification algorithms discussed in the session)\n",
    "*************"
   ]
  },
  {
   "cell_type": "code",
   "execution_count": 122,
   "id": "811ada02",
   "metadata": {},
   "outputs": [],
   "source": [
    "# importing libraries\n",
    "import pandas as pd\n",
    "import numpy as np\n",
    "import matplotlib.pyplot as plt\n",
    "import seaborn as sns\n",
    "from sklearn.preprocessing import LabelEncoder\n",
    "from sklearn.preprocessing import MinMaxScaler\n",
    "from sklearn.model_selection import train_test_split\n",
    "from sklearn.linear_model import LogisticRegression\n",
    "from sklearn.neighbors import KNeighborsClassifier\n",
    "from sklearn.svm import SVC\n",
    "from sklearn.tree import DecisionTreeClassifier\n",
    "from sklearn.ensemble import RandomForestClassifier\n",
    "from sklearn. metrics import confusion_matrix, precision_score, recall_score, f1_score, accuracy_score\n"
   ]
  },
  {
   "cell_type": "code",
   "execution_count": 123,
   "id": "647b552a",
   "metadata": {},
   "outputs": [],
   "source": [
    "# loading the dataset into the python environment\n",
    "data = pd.read_excel('C:/Users/Lenovo/Assignment/assignment 7/DATA/iris.xls')"
   ]
  },
  {
   "cell_type": "code",
   "execution_count": 124,
   "id": "7ccfcca8",
   "metadata": {},
   "outputs": [
    {
     "data": {
      "text/html": [
       "<div>\n",
       "<style scoped>\n",
       "    .dataframe tbody tr th:only-of-type {\n",
       "        vertical-align: middle;\n",
       "    }\n",
       "\n",
       "    .dataframe tbody tr th {\n",
       "        vertical-align: top;\n",
       "    }\n",
       "\n",
       "    .dataframe thead th {\n",
       "        text-align: right;\n",
       "    }\n",
       "</style>\n",
       "<table border=\"1\" class=\"dataframe\">\n",
       "  <thead>\n",
       "    <tr style=\"text-align: right;\">\n",
       "      <th></th>\n",
       "      <th>SL</th>\n",
       "      <th>SW</th>\n",
       "      <th>PL</th>\n",
       "      <th>PW</th>\n",
       "      <th>Classification</th>\n",
       "    </tr>\n",
       "  </thead>\n",
       "  <tbody>\n",
       "    <tr>\n",
       "      <th>0</th>\n",
       "      <td>5.1</td>\n",
       "      <td>3.5</td>\n",
       "      <td>1.4</td>\n",
       "      <td>0.2</td>\n",
       "      <td>Iris-setosa</td>\n",
       "    </tr>\n",
       "    <tr>\n",
       "      <th>1</th>\n",
       "      <td>4.9</td>\n",
       "      <td>3.0</td>\n",
       "      <td>1.4</td>\n",
       "      <td>0.2</td>\n",
       "      <td>Iris-setosa</td>\n",
       "    </tr>\n",
       "    <tr>\n",
       "      <th>2</th>\n",
       "      <td>NaN</td>\n",
       "      <td>3.2</td>\n",
       "      <td>1.3</td>\n",
       "      <td>0.2</td>\n",
       "      <td>Iris-setosa</td>\n",
       "    </tr>\n",
       "    <tr>\n",
       "      <th>3</th>\n",
       "      <td>4.6</td>\n",
       "      <td>3.1</td>\n",
       "      <td>1.5</td>\n",
       "      <td>0.2</td>\n",
       "      <td>Iris-setosa</td>\n",
       "    </tr>\n",
       "    <tr>\n",
       "      <th>4</th>\n",
       "      <td>5.0</td>\n",
       "      <td>3.6</td>\n",
       "      <td>1.4</td>\n",
       "      <td>0.2</td>\n",
       "      <td>Iris-setosa</td>\n",
       "    </tr>\n",
       "  </tbody>\n",
       "</table>\n",
       "</div>"
      ],
      "text/plain": [
       "    SL   SW   PL   PW Classification\n",
       "0  5.1  3.5  1.4  0.2    Iris-setosa\n",
       "1  4.9  3.0  1.4  0.2    Iris-setosa\n",
       "2  NaN  3.2  1.3  0.2    Iris-setosa\n",
       "3  4.6  3.1  1.5  0.2    Iris-setosa\n",
       "4  5.0  3.6  1.4  0.2    Iris-setosa"
      ]
     },
     "execution_count": 124,
     "metadata": {},
     "output_type": "execute_result"
    }
   ],
   "source": [
    "# display the first 5 rows of the dataframe\n",
    "data.head()"
   ]
  },
  {
   "cell_type": "code",
   "execution_count": 125,
   "id": "9a3ee116",
   "metadata": {},
   "outputs": [
    {
     "name": "stdout",
     "output_type": "stream",
     "text": [
      "<class 'pandas.core.frame.DataFrame'>\n",
      "RangeIndex: 150 entries, 0 to 149\n",
      "Data columns (total 5 columns):\n",
      " #   Column          Non-Null Count  Dtype  \n",
      "---  ------          --------------  -----  \n",
      " 0   SL              143 non-null    float64\n",
      " 1   SW              144 non-null    float64\n",
      " 2   PL              144 non-null    float64\n",
      " 3   PW              150 non-null    float64\n",
      " 4   Classification  150 non-null    object \n",
      "dtypes: float64(4), object(1)\n",
      "memory usage: 6.0+ KB\n"
     ]
    }
   ],
   "source": [
    "# Print information about the dataframe 'data'\n",
    "data.info()"
   ]
  },
  {
   "cell_type": "markdown",
   "id": "192324c9",
   "metadata": {},
   "source": [
    "~ 'Classification' is a categorical column of type object"
   ]
  },
  {
   "cell_type": "markdown",
   "id": "ae61fb1b",
   "metadata": {},
   "source": [
    "### CHECKING FOR DUPLICATES"
   ]
  },
  {
   "cell_type": "code",
   "execution_count": 126,
   "id": "9184191d",
   "metadata": {},
   "outputs": [
    {
     "data": {
      "text/plain": [
       "0      False\n",
       "1      False\n",
       "2      False\n",
       "3      False\n",
       "4      False\n",
       "       ...  \n",
       "145    False\n",
       "146    False\n",
       "147    False\n",
       "148    False\n",
       "149    False\n",
       "Length: 150, dtype: bool"
      ]
     },
     "execution_count": 126,
     "metadata": {},
     "output_type": "execute_result"
    }
   ],
   "source": [
    "# check whether rows in the DataFrame are duplicated or not\n",
    "data.duplicated()"
   ]
  },
  {
   "cell_type": "code",
   "execution_count": 127,
   "id": "385298cd",
   "metadata": {},
   "outputs": [
    {
     "data": {
      "text/html": [
       "<div>\n",
       "<style scoped>\n",
       "    .dataframe tbody tr th:only-of-type {\n",
       "        vertical-align: middle;\n",
       "    }\n",
       "\n",
       "    .dataframe tbody tr th {\n",
       "        vertical-align: top;\n",
       "    }\n",
       "\n",
       "    .dataframe thead th {\n",
       "        text-align: right;\n",
       "    }\n",
       "</style>\n",
       "<table border=\"1\" class=\"dataframe\">\n",
       "  <thead>\n",
       "    <tr style=\"text-align: right;\">\n",
       "      <th></th>\n",
       "      <th>SL</th>\n",
       "      <th>SW</th>\n",
       "      <th>PL</th>\n",
       "      <th>PW</th>\n",
       "      <th>Classification</th>\n",
       "    </tr>\n",
       "  </thead>\n",
       "  <tbody>\n",
       "    <tr>\n",
       "      <th>34</th>\n",
       "      <td>4.9</td>\n",
       "      <td>3.1</td>\n",
       "      <td>1.5</td>\n",
       "      <td>0.1</td>\n",
       "      <td>Iris-setosa</td>\n",
       "    </tr>\n",
       "    <tr>\n",
       "      <th>37</th>\n",
       "      <td>4.9</td>\n",
       "      <td>3.1</td>\n",
       "      <td>1.5</td>\n",
       "      <td>0.1</td>\n",
       "      <td>Iris-setosa</td>\n",
       "    </tr>\n",
       "    <tr>\n",
       "      <th>142</th>\n",
       "      <td>5.8</td>\n",
       "      <td>2.7</td>\n",
       "      <td>5.1</td>\n",
       "      <td>1.9</td>\n",
       "      <td>Iris-virginica</td>\n",
       "    </tr>\n",
       "  </tbody>\n",
       "</table>\n",
       "</div>"
      ],
      "text/plain": [
       "      SL   SW   PL   PW  Classification\n",
       "34   4.9  3.1  1.5  0.1     Iris-setosa\n",
       "37   4.9  3.1  1.5  0.1     Iris-setosa\n",
       "142  5.8  2.7  5.1  1.9  Iris-virginica"
      ]
     },
     "execution_count": 127,
     "metadata": {},
     "output_type": "execute_result"
    }
   ],
   "source": [
    "# display the rows having duplicates \n",
    "data[data.duplicated()]"
   ]
  },
  {
   "cell_type": "markdown",
   "id": "6efb45b1",
   "metadata": {},
   "source": [
    "~ From the above display, there are few rows that are having duplicate values"
   ]
  },
  {
   "cell_type": "code",
   "execution_count": 128,
   "id": "a382db15",
   "metadata": {},
   "outputs": [],
   "source": [
    "# remove duplicates and store it in a new dataframe\n",
    "data1 = data.drop_duplicates(ignore_index=True)"
   ]
  },
  {
   "cell_type": "code",
   "execution_count": 129,
   "id": "dcbecfb0",
   "metadata": {},
   "outputs": [
    {
     "data": {
      "text/html": [
       "<div>\n",
       "<style scoped>\n",
       "    .dataframe tbody tr th:only-of-type {\n",
       "        vertical-align: middle;\n",
       "    }\n",
       "\n",
       "    .dataframe tbody tr th {\n",
       "        vertical-align: top;\n",
       "    }\n",
       "\n",
       "    .dataframe thead th {\n",
       "        text-align: right;\n",
       "    }\n",
       "</style>\n",
       "<table border=\"1\" class=\"dataframe\">\n",
       "  <thead>\n",
       "    <tr style=\"text-align: right;\">\n",
       "      <th></th>\n",
       "      <th>SL</th>\n",
       "      <th>SW</th>\n",
       "      <th>PL</th>\n",
       "      <th>PW</th>\n",
       "      <th>Classification</th>\n",
       "    </tr>\n",
       "  </thead>\n",
       "  <tbody>\n",
       "    <tr>\n",
       "      <th>0</th>\n",
       "      <td>5.1</td>\n",
       "      <td>3.5</td>\n",
       "      <td>1.4</td>\n",
       "      <td>0.2</td>\n",
       "      <td>Iris-setosa</td>\n",
       "    </tr>\n",
       "    <tr>\n",
       "      <th>1</th>\n",
       "      <td>4.9</td>\n",
       "      <td>3.0</td>\n",
       "      <td>1.4</td>\n",
       "      <td>0.2</td>\n",
       "      <td>Iris-setosa</td>\n",
       "    </tr>\n",
       "    <tr>\n",
       "      <th>2</th>\n",
       "      <td>NaN</td>\n",
       "      <td>3.2</td>\n",
       "      <td>1.3</td>\n",
       "      <td>0.2</td>\n",
       "      <td>Iris-setosa</td>\n",
       "    </tr>\n",
       "    <tr>\n",
       "      <th>3</th>\n",
       "      <td>4.6</td>\n",
       "      <td>3.1</td>\n",
       "      <td>1.5</td>\n",
       "      <td>0.2</td>\n",
       "      <td>Iris-setosa</td>\n",
       "    </tr>\n",
       "    <tr>\n",
       "      <th>4</th>\n",
       "      <td>5.0</td>\n",
       "      <td>3.6</td>\n",
       "      <td>1.4</td>\n",
       "      <td>0.2</td>\n",
       "      <td>Iris-setosa</td>\n",
       "    </tr>\n",
       "    <tr>\n",
       "      <th>5</th>\n",
       "      <td>5.4</td>\n",
       "      <td>3.9</td>\n",
       "      <td>1.7</td>\n",
       "      <td>0.4</td>\n",
       "      <td>Iris-setosa</td>\n",
       "    </tr>\n",
       "    <tr>\n",
       "      <th>6</th>\n",
       "      <td>4.6</td>\n",
       "      <td>3.4</td>\n",
       "      <td>1.4</td>\n",
       "      <td>0.3</td>\n",
       "      <td>Iris-setosa</td>\n",
       "    </tr>\n",
       "    <tr>\n",
       "      <th>7</th>\n",
       "      <td>5.0</td>\n",
       "      <td>3.4</td>\n",
       "      <td>1.5</td>\n",
       "      <td>0.2</td>\n",
       "      <td>Iris-setosa</td>\n",
       "    </tr>\n",
       "    <tr>\n",
       "      <th>8</th>\n",
       "      <td>4.4</td>\n",
       "      <td>2.9</td>\n",
       "      <td>1.4</td>\n",
       "      <td>0.2</td>\n",
       "      <td>Iris-setosa</td>\n",
       "    </tr>\n",
       "    <tr>\n",
       "      <th>9</th>\n",
       "      <td>4.9</td>\n",
       "      <td>3.1</td>\n",
       "      <td>1.5</td>\n",
       "      <td>0.1</td>\n",
       "      <td>Iris-setosa</td>\n",
       "    </tr>\n",
       "    <tr>\n",
       "      <th>10</th>\n",
       "      <td>5.4</td>\n",
       "      <td>NaN</td>\n",
       "      <td>1.5</td>\n",
       "      <td>0.2</td>\n",
       "      <td>Iris-setosa</td>\n",
       "    </tr>\n",
       "    <tr>\n",
       "      <th>11</th>\n",
       "      <td>4.8</td>\n",
       "      <td>3.4</td>\n",
       "      <td>1.6</td>\n",
       "      <td>0.2</td>\n",
       "      <td>Iris-setosa</td>\n",
       "    </tr>\n",
       "    <tr>\n",
       "      <th>12</th>\n",
       "      <td>4.8</td>\n",
       "      <td>3.0</td>\n",
       "      <td>1.4</td>\n",
       "      <td>0.1</td>\n",
       "      <td>Iris-setosa</td>\n",
       "    </tr>\n",
       "    <tr>\n",
       "      <th>13</th>\n",
       "      <td>4.3</td>\n",
       "      <td>3.0</td>\n",
       "      <td>1.1</td>\n",
       "      <td>0.1</td>\n",
       "      <td>Iris-setosa</td>\n",
       "    </tr>\n",
       "    <tr>\n",
       "      <th>14</th>\n",
       "      <td>5.8</td>\n",
       "      <td>4.0</td>\n",
       "      <td>1.2</td>\n",
       "      <td>0.2</td>\n",
       "      <td>Iris-setosa</td>\n",
       "    </tr>\n",
       "    <tr>\n",
       "      <th>15</th>\n",
       "      <td>5.7</td>\n",
       "      <td>4.4</td>\n",
       "      <td>1.5</td>\n",
       "      <td>0.4</td>\n",
       "      <td>Iris-setosa</td>\n",
       "    </tr>\n",
       "    <tr>\n",
       "      <th>16</th>\n",
       "      <td>5.4</td>\n",
       "      <td>3.9</td>\n",
       "      <td>1.3</td>\n",
       "      <td>0.4</td>\n",
       "      <td>Iris-setosa</td>\n",
       "    </tr>\n",
       "    <tr>\n",
       "      <th>17</th>\n",
       "      <td>5.1</td>\n",
       "      <td>3.5</td>\n",
       "      <td>1.4</td>\n",
       "      <td>0.3</td>\n",
       "      <td>Iris-setosa</td>\n",
       "    </tr>\n",
       "    <tr>\n",
       "      <th>18</th>\n",
       "      <td>5.7</td>\n",
       "      <td>3.8</td>\n",
       "      <td>1.7</td>\n",
       "      <td>0.3</td>\n",
       "      <td>Iris-setosa</td>\n",
       "    </tr>\n",
       "    <tr>\n",
       "      <th>19</th>\n",
       "      <td>5.1</td>\n",
       "      <td>3.8</td>\n",
       "      <td>1.5</td>\n",
       "      <td>0.3</td>\n",
       "      <td>Iris-setosa</td>\n",
       "    </tr>\n",
       "    <tr>\n",
       "      <th>20</th>\n",
       "      <td>5.4</td>\n",
       "      <td>3.4</td>\n",
       "      <td>1.7</td>\n",
       "      <td>0.2</td>\n",
       "      <td>Iris-setosa</td>\n",
       "    </tr>\n",
       "    <tr>\n",
       "      <th>21</th>\n",
       "      <td>NaN</td>\n",
       "      <td>3.7</td>\n",
       "      <td>1.5</td>\n",
       "      <td>0.4</td>\n",
       "      <td>Iris-setosa</td>\n",
       "    </tr>\n",
       "    <tr>\n",
       "      <th>22</th>\n",
       "      <td>4.6</td>\n",
       "      <td>3.6</td>\n",
       "      <td>1.0</td>\n",
       "      <td>0.2</td>\n",
       "      <td>Iris-setosa</td>\n",
       "    </tr>\n",
       "    <tr>\n",
       "      <th>23</th>\n",
       "      <td>5.1</td>\n",
       "      <td>3.3</td>\n",
       "      <td>1.7</td>\n",
       "      <td>0.5</td>\n",
       "      <td>Iris-setosa</td>\n",
       "    </tr>\n",
       "    <tr>\n",
       "      <th>24</th>\n",
       "      <td>4.8</td>\n",
       "      <td>3.4</td>\n",
       "      <td>1.9</td>\n",
       "      <td>0.2</td>\n",
       "      <td>Iris-setosa</td>\n",
       "    </tr>\n",
       "    <tr>\n",
       "      <th>25</th>\n",
       "      <td>5.0</td>\n",
       "      <td>3.0</td>\n",
       "      <td>1.6</td>\n",
       "      <td>0.2</td>\n",
       "      <td>Iris-setosa</td>\n",
       "    </tr>\n",
       "    <tr>\n",
       "      <th>26</th>\n",
       "      <td>5.0</td>\n",
       "      <td>3.4</td>\n",
       "      <td>1.6</td>\n",
       "      <td>0.4</td>\n",
       "      <td>Iris-setosa</td>\n",
       "    </tr>\n",
       "    <tr>\n",
       "      <th>27</th>\n",
       "      <td>5.2</td>\n",
       "      <td>NaN</td>\n",
       "      <td>1.5</td>\n",
       "      <td>0.2</td>\n",
       "      <td>Iris-setosa</td>\n",
       "    </tr>\n",
       "    <tr>\n",
       "      <th>28</th>\n",
       "      <td>5.2</td>\n",
       "      <td>3.4</td>\n",
       "      <td>NaN</td>\n",
       "      <td>0.2</td>\n",
       "      <td>Iris-setosa</td>\n",
       "    </tr>\n",
       "    <tr>\n",
       "      <th>29</th>\n",
       "      <td>4.7</td>\n",
       "      <td>3.2</td>\n",
       "      <td>1.6</td>\n",
       "      <td>0.2</td>\n",
       "      <td>Iris-setosa</td>\n",
       "    </tr>\n",
       "    <tr>\n",
       "      <th>30</th>\n",
       "      <td>4.8</td>\n",
       "      <td>3.1</td>\n",
       "      <td>1.6</td>\n",
       "      <td>0.2</td>\n",
       "      <td>Iris-setosa</td>\n",
       "    </tr>\n",
       "    <tr>\n",
       "      <th>31</th>\n",
       "      <td>5.4</td>\n",
       "      <td>3.4</td>\n",
       "      <td>1.5</td>\n",
       "      <td>0.4</td>\n",
       "      <td>Iris-setosa</td>\n",
       "    </tr>\n",
       "    <tr>\n",
       "      <th>32</th>\n",
       "      <td>5.2</td>\n",
       "      <td>4.1</td>\n",
       "      <td>1.5</td>\n",
       "      <td>0.1</td>\n",
       "      <td>Iris-setosa</td>\n",
       "    </tr>\n",
       "    <tr>\n",
       "      <th>33</th>\n",
       "      <td>5.5</td>\n",
       "      <td>4.2</td>\n",
       "      <td>1.4</td>\n",
       "      <td>0.2</td>\n",
       "      <td>Iris-setosa</td>\n",
       "    </tr>\n",
       "    <tr>\n",
       "      <th>34</th>\n",
       "      <td>5.0</td>\n",
       "      <td>3.2</td>\n",
       "      <td>1.2</td>\n",
       "      <td>0.2</td>\n",
       "      <td>Iris-setosa</td>\n",
       "    </tr>\n",
       "    <tr>\n",
       "      <th>35</th>\n",
       "      <td>5.5</td>\n",
       "      <td>3.5</td>\n",
       "      <td>1.3</td>\n",
       "      <td>0.2</td>\n",
       "      <td>Iris-setosa</td>\n",
       "    </tr>\n",
       "    <tr>\n",
       "      <th>36</th>\n",
       "      <td>4.4</td>\n",
       "      <td>3.0</td>\n",
       "      <td>1.3</td>\n",
       "      <td>0.2</td>\n",
       "      <td>Iris-setosa</td>\n",
       "    </tr>\n",
       "    <tr>\n",
       "      <th>37</th>\n",
       "      <td>NaN</td>\n",
       "      <td>3.4</td>\n",
       "      <td>1.5</td>\n",
       "      <td>0.2</td>\n",
       "      <td>Iris-setosa</td>\n",
       "    </tr>\n",
       "    <tr>\n",
       "      <th>38</th>\n",
       "      <td>5.0</td>\n",
       "      <td>3.5</td>\n",
       "      <td>1.3</td>\n",
       "      <td>0.3</td>\n",
       "      <td>Iris-setosa</td>\n",
       "    </tr>\n",
       "    <tr>\n",
       "      <th>39</th>\n",
       "      <td>4.5</td>\n",
       "      <td>2.3</td>\n",
       "      <td>1.3</td>\n",
       "      <td>0.3</td>\n",
       "      <td>Iris-setosa</td>\n",
       "    </tr>\n",
       "  </tbody>\n",
       "</table>\n",
       "</div>"
      ],
      "text/plain": [
       "     SL   SW   PL   PW Classification\n",
       "0   5.1  3.5  1.4  0.2    Iris-setosa\n",
       "1   4.9  3.0  1.4  0.2    Iris-setosa\n",
       "2   NaN  3.2  1.3  0.2    Iris-setosa\n",
       "3   4.6  3.1  1.5  0.2    Iris-setosa\n",
       "4   5.0  3.6  1.4  0.2    Iris-setosa\n",
       "5   5.4  3.9  1.7  0.4    Iris-setosa\n",
       "6   4.6  3.4  1.4  0.3    Iris-setosa\n",
       "7   5.0  3.4  1.5  0.2    Iris-setosa\n",
       "8   4.4  2.9  1.4  0.2    Iris-setosa\n",
       "9   4.9  3.1  1.5  0.1    Iris-setosa\n",
       "10  5.4  NaN  1.5  0.2    Iris-setosa\n",
       "11  4.8  3.4  1.6  0.2    Iris-setosa\n",
       "12  4.8  3.0  1.4  0.1    Iris-setosa\n",
       "13  4.3  3.0  1.1  0.1    Iris-setosa\n",
       "14  5.8  4.0  1.2  0.2    Iris-setosa\n",
       "15  5.7  4.4  1.5  0.4    Iris-setosa\n",
       "16  5.4  3.9  1.3  0.4    Iris-setosa\n",
       "17  5.1  3.5  1.4  0.3    Iris-setosa\n",
       "18  5.7  3.8  1.7  0.3    Iris-setosa\n",
       "19  5.1  3.8  1.5  0.3    Iris-setosa\n",
       "20  5.4  3.4  1.7  0.2    Iris-setosa\n",
       "21  NaN  3.7  1.5  0.4    Iris-setosa\n",
       "22  4.6  3.6  1.0  0.2    Iris-setosa\n",
       "23  5.1  3.3  1.7  0.5    Iris-setosa\n",
       "24  4.8  3.4  1.9  0.2    Iris-setosa\n",
       "25  5.0  3.0  1.6  0.2    Iris-setosa\n",
       "26  5.0  3.4  1.6  0.4    Iris-setosa\n",
       "27  5.2  NaN  1.5  0.2    Iris-setosa\n",
       "28  5.2  3.4  NaN  0.2    Iris-setosa\n",
       "29  4.7  3.2  1.6  0.2    Iris-setosa\n",
       "30  4.8  3.1  1.6  0.2    Iris-setosa\n",
       "31  5.4  3.4  1.5  0.4    Iris-setosa\n",
       "32  5.2  4.1  1.5  0.1    Iris-setosa\n",
       "33  5.5  4.2  1.4  0.2    Iris-setosa\n",
       "34  5.0  3.2  1.2  0.2    Iris-setosa\n",
       "35  5.5  3.5  1.3  0.2    Iris-setosa\n",
       "36  4.4  3.0  1.3  0.2    Iris-setosa\n",
       "37  NaN  3.4  1.5  0.2    Iris-setosa\n",
       "38  5.0  3.5  1.3  0.3    Iris-setosa\n",
       "39  4.5  2.3  1.3  0.3    Iris-setosa"
      ]
     },
     "execution_count": 129,
     "metadata": {},
     "output_type": "execute_result"
    }
   ],
   "source": [
    "# display the first 40 rows of the dataframe after removing the duplicates\n",
    "data1.head(40)"
   ]
  },
  {
   "cell_type": "markdown",
   "id": "544d5cc0",
   "metadata": {},
   "source": [
    "### CHECKING FOR NULL VALUES"
   ]
  },
  {
   "cell_type": "code",
   "execution_count": 130,
   "id": "dda39c6a",
   "metadata": {},
   "outputs": [
    {
     "data": {
      "text/plain": [
       "SL                7\n",
       "SW                6\n",
       "PL                6\n",
       "PW                0\n",
       "Classification    0\n",
       "dtype: int64"
      ]
     },
     "execution_count": 130,
     "metadata": {},
     "output_type": "execute_result"
    }
   ],
   "source": [
    "# number of null values in the dataframe \n",
    "data1.isna().sum()"
   ]
  },
  {
   "cell_type": "markdown",
   "id": "80cc8e71",
   "metadata": {},
   "source": [
    "~ From the above display, SL, SW and  PL are having null values"
   ]
  },
  {
   "cell_type": "code",
   "execution_count": 131,
   "id": "6dcbc7f0",
   "metadata": {},
   "outputs": [
    {
     "data": {
      "text/plain": [
       "(147, 5)"
      ]
     },
     "execution_count": 131,
     "metadata": {},
     "output_type": "execute_result"
    }
   ],
   "source": [
    "# number of rows and columns of the dataframe \n",
    "data1.shape"
   ]
  },
  {
   "cell_type": "markdown",
   "id": "1132ded2",
   "metadata": {},
   "source": [
    " ~It is having 147 rows and 5 columns"
   ]
  },
  {
   "cell_type": "markdown",
   "id": "2d864f7d",
   "metadata": {},
   "source": [
    "### HANDLING NULL VALUES"
   ]
  },
  {
   "cell_type": "markdown",
   "id": "7d305504",
   "metadata": {},
   "source": [
    "#### 1) SL"
   ]
  },
  {
   "cell_type": "code",
   "execution_count": 132,
   "id": "6231b995",
   "metadata": {},
   "outputs": [
    {
     "data": {
      "image/png": "[encoded data removed]",
      "text/plain": [
       "<Figure size 640x480 with 1 Axes>"
      ]
     },
     "metadata": {},
     "output_type": "display_data"
    }
   ],
   "source": [
    "# plotting histogram for 'SL' column\n",
    "plt.hist(data1['SL'])\n",
    "\n",
    "# display title \n",
    "plt.title(\"Histogram of SL\")\n",
    "\n",
    "# display figure\n",
    "plt.show()"
   ]
  },
  {
   "cell_type": "markdown",
   "id": "c672f2e0",
   "metadata": {},
   "source": [
    "~ The above histogram is skewed, hence using median to fill the missing values of 'SL'"
   ]
  },
  {
   "cell_type": "markdown",
   "id": "24b188a2",
   "metadata": {},
   "source": [
    "#### 2) SW"
   ]
  },
  {
   "cell_type": "code",
   "execution_count": 133,
   "id": "9d2b5ba2",
   "metadata": {},
   "outputs": [
    {
     "data": {
      "image/png": "[encoded data removed]",
      "text/plain": [
       "<Figure size 640x480 with 1 Axes>"
      ]
     },
     "metadata": {},
     "output_type": "display_data"
    }
   ],
   "source": [
    "# plotting histogram for 'SW' column\n",
    "plt.hist(data1['SW'])\n",
    "\n",
    "# display title \n",
    "plt.title(\"Histogram of SW\")\n",
    "\n",
    "# display figure\n",
    "plt.show()"
   ]
  },
  {
   "cell_type": "markdown",
   "id": "ef5e074d",
   "metadata": {},
   "source": [
    "~ The above histogram is skewed, hence using median to fill the missing values of 'SW'"
   ]
  },
  {
   "cell_type": "markdown",
   "id": "12e24c99",
   "metadata": {},
   "source": [
    "#### 3) PL"
   ]
  },
  {
   "cell_type": "code",
   "execution_count": 134,
   "id": "97742eca",
   "metadata": {},
   "outputs": [
    {
     "data": {
      "image/png": "[encoded data removed]",
      "text/plain": [
       "<Figure size 640x480 with 1 Axes>"
      ]
     },
     "metadata": {},
     "output_type": "display_data"
    }
   ],
   "source": [
    "# plotting histogram for 'PL' column\n",
    "plt.hist(data1['PL'])\n",
    "\n",
    "# display title \n",
    "plt.title(\"Histogram of PL\")\n",
    "\n",
    "# display figure\n",
    "plt.show()"
   ]
  },
  {
   "cell_type": "markdown",
   "id": "53914012",
   "metadata": {},
   "source": [
    "~ The above histogram is skewed, hence using median to fill the missing values of 'PL'"
   ]
  },
  {
   "cell_type": "code",
   "execution_count": 135,
   "id": "e3807ccc",
   "metadata": {},
   "outputs": [
    {
     "name": "stderr",
     "output_type": "stream",
     "text": [
      "C:\\Users\\Lenovo\\AppData\\Local\\Temp\\ipykernel_7432\\1444685808.py:3: SettingWithCopyWarning: \n",
      "A value is trying to be set on a copy of a slice from a DataFrame.\n",
      "Try using .loc[row_indexer,col_indexer] = value instead\n",
      "\n",
      "See the caveats in the documentation: https://pandas.pydata.org/pandas-docs/stable/user_guide/indexing.html#returning-a-view-versus-a-copy\n",
      "  data1[i] = data1[i].fillna(data1[i].median())\n"
     ]
    }
   ],
   "source": [
    "# fill NaN values under 'SL','SW', 'PL' columns with its median using for loop\n",
    "for i in ['SL','SW', 'PL']:\n",
    "    data1[i] = data1[i].fillna(data1[i].median())"
   ]
  },
  {
   "cell_type": "code",
   "execution_count": 136,
   "id": "115d1d61",
   "metadata": {},
   "outputs": [
    {
     "data": {
      "text/plain": [
       "SL                0\n",
       "SW                0\n",
       "PL                0\n",
       "PW                0\n",
       "Classification    0\n",
       "dtype: int64"
      ]
     },
     "execution_count": 136,
     "metadata": {},
     "output_type": "execute_result"
    }
   ],
   "source": [
    "# number of null values in the dataframe \n",
    "data1.isnull().sum()"
   ]
  },
  {
   "cell_type": "code",
   "execution_count": 137,
   "id": "a9af1d98",
   "metadata": {},
   "outputs": [
    {
     "data": {
      "text/html": [
       "<div>\n",
       "<style scoped>\n",
       "    .dataframe tbody tr th:only-of-type {\n",
       "        vertical-align: middle;\n",
       "    }\n",
       "\n",
       "    .dataframe tbody tr th {\n",
       "        vertical-align: top;\n",
       "    }\n",
       "\n",
       "    .dataframe thead th {\n",
       "        text-align: right;\n",
       "    }\n",
       "</style>\n",
       "<table border=\"1\" class=\"dataframe\">\n",
       "  <thead>\n",
       "    <tr style=\"text-align: right;\">\n",
       "      <th></th>\n",
       "      <th>SL</th>\n",
       "      <th>SW</th>\n",
       "      <th>PL</th>\n",
       "      <th>PW</th>\n",
       "    </tr>\n",
       "  </thead>\n",
       "  <tbody>\n",
       "    <tr>\n",
       "      <th>count</th>\n",
       "      <td>147.000000</td>\n",
       "      <td>147.000000</td>\n",
       "      <td>147.000000</td>\n",
       "      <td>147.000000</td>\n",
       "    </tr>\n",
       "    <tr>\n",
       "      <th>mean</th>\n",
       "      <td>5.866667</td>\n",
       "      <td>3.048980</td>\n",
       "      <td>3.804082</td>\n",
       "      <td>1.208844</td>\n",
       "    </tr>\n",
       "    <tr>\n",
       "      <th>std</th>\n",
       "      <td>0.809053</td>\n",
       "      <td>0.425291</td>\n",
       "      <td>1.723682</td>\n",
       "      <td>0.757874</td>\n",
       "    </tr>\n",
       "    <tr>\n",
       "      <th>min</th>\n",
       "      <td>4.300000</td>\n",
       "      <td>2.000000</td>\n",
       "      <td>1.000000</td>\n",
       "      <td>0.100000</td>\n",
       "    </tr>\n",
       "    <tr>\n",
       "      <th>25%</th>\n",
       "      <td>5.200000</td>\n",
       "      <td>2.800000</td>\n",
       "      <td>1.600000</td>\n",
       "      <td>0.300000</td>\n",
       "    </tr>\n",
       "    <tr>\n",
       "      <th>50%</th>\n",
       "      <td>5.800000</td>\n",
       "      <td>3.000000</td>\n",
       "      <td>4.400000</td>\n",
       "      <td>1.300000</td>\n",
       "    </tr>\n",
       "    <tr>\n",
       "      <th>75%</th>\n",
       "      <td>6.400000</td>\n",
       "      <td>3.300000</td>\n",
       "      <td>5.100000</td>\n",
       "      <td>1.800000</td>\n",
       "    </tr>\n",
       "    <tr>\n",
       "      <th>max</th>\n",
       "      <td>7.900000</td>\n",
       "      <td>4.400000</td>\n",
       "      <td>6.900000</td>\n",
       "      <td>2.500000</td>\n",
       "    </tr>\n",
       "  </tbody>\n",
       "</table>\n",
       "</div>"
      ],
      "text/plain": [
       "               SL          SW          PL          PW\n",
       "count  147.000000  147.000000  147.000000  147.000000\n",
       "mean     5.866667    3.048980    3.804082    1.208844\n",
       "std      0.809053    0.425291    1.723682    0.757874\n",
       "min      4.300000    2.000000    1.000000    0.100000\n",
       "25%      5.200000    2.800000    1.600000    0.300000\n",
       "50%      5.800000    3.000000    4.400000    1.300000\n",
       "75%      6.400000    3.300000    5.100000    1.800000\n",
       "max      7.900000    4.400000    6.900000    2.500000"
      ]
     },
     "execution_count": 137,
     "metadata": {},
     "output_type": "execute_result"
    }
   ],
   "source": [
    "# display summary statistics of all numerical columns\n",
    "data1.describe() "
   ]
  },
  {
   "cell_type": "markdown",
   "id": "66f74b25",
   "metadata": {},
   "source": [
    "### HANDLING OUTLIERS\n",
    "~ Checking for outliers in 'SL', 'SW', 'PL', 'PW'"
   ]
  },
  {
   "cell_type": "markdown",
   "id": "c9cc5a4e",
   "metadata": {},
   "source": [
    "##### 'Outliers' in 'SL' column"
   ]
  },
  {
   "cell_type": "code",
   "execution_count": 138,
   "id": "746875a7",
   "metadata": {},
   "outputs": [
    {
     "data": {
      "image/png": "[encoded data removed]",
      "text/plain": [
       "<Figure size 640x480 with 1 Axes>"
      ]
     },
     "metadata": {},
     "output_type": "display_data"
    }
   ],
   "source": [
    "# Boxplot of 'SL' column to check outliers\n",
    "plt.boxplot(data1['SL'])\n",
    "\n",
    "# display title\n",
    "plt.title(\"Boxplot of SL\")\n",
    "\n",
    "# display figures\n",
    "plt.show()"
   ]
  },
  {
   "cell_type": "markdown",
   "id": "978652fc",
   "metadata": {},
   "source": [
    "~ No oultiers present in 'SL' column"
   ]
  },
  {
   "cell_type": "markdown",
   "id": "96c417ee",
   "metadata": {},
   "source": [
    "##### 'Outliers' in 'SW' column\n"
   ]
  },
  {
   "cell_type": "code",
   "execution_count": 139,
   "id": "9e9a1637",
   "metadata": {},
   "outputs": [
    {
     "data": {
      "image/png": "[encoded data removed]",
      "text/plain": [
       "<Figure size 640x480 with 1 Axes>"
      ]
     },
     "metadata": {},
     "output_type": "display_data"
    }
   ],
   "source": [
    "# Boxplot of 'SW' column to check outliers\n",
    "plt.boxplot(data1['SW'])\n",
    "\n",
    "# display title\n",
    "plt.title(\"Boxplot of SW\")\n",
    "\n",
    "# display figures\n",
    "plt.show()"
   ]
  },
  {
   "cell_type": "markdown",
   "id": "eb3997e3",
   "metadata": {},
   "source": [
    "~ Few oultiers present in 'SW' column"
   ]
  },
  {
   "cell_type": "markdown",
   "id": "8afb9f01",
   "metadata": {},
   "source": [
    "First, Second and Third Quartile of 'SW' column"
   ]
  },
  {
   "cell_type": "code",
   "execution_count": 140,
   "id": "fc630f1f",
   "metadata": {},
   "outputs": [
    {
     "data": {
      "text/plain": [
       "\"First Quartile of 'SW' column = 2.8\""
      ]
     },
     "execution_count": 140,
     "metadata": {},
     "output_type": "execute_result"
    }
   ],
   "source": [
    "# First Quartile of 'SW' column\n",
    "Q1_sw = np.percentile(data1['SW'], 25, interpolation='midpoint')\n",
    "f\"First Quartile of 'SW' column = {Q1_sw}\""
   ]
  },
  {
   "cell_type": "code",
   "execution_count": 141,
   "id": "01ed3289",
   "metadata": {},
   "outputs": [
    {
     "data": {
      "text/plain": [
       "\"Second Quartile of 'SW' column = 3.0\""
      ]
     },
     "execution_count": 141,
     "metadata": {},
     "output_type": "execute_result"
    }
   ],
   "source": [
    "# Second Quartile of 'SW' column\n",
    "Q2_sw = np.percentile(data1['SW'], 50, interpolation='midpoint')\n",
    "f\"Second Quartile of 'SW' column = {Q2_sw}\""
   ]
  },
  {
   "cell_type": "code",
   "execution_count": 142,
   "id": "3dfda87e",
   "metadata": {},
   "outputs": [
    {
     "data": {
      "text/plain": [
       "\"Third Quartile of 'SW' column = 3.3\""
      ]
     },
     "execution_count": 142,
     "metadata": {},
     "output_type": "execute_result"
    }
   ],
   "source": [
    "# Third Quartile of 'SW' column\n",
    "Q3_sw = np.percentile(data1['SW'], 75, interpolation='midpoint')\n",
    "f\"Third Quartile of 'SW' column = {Q3_sw}\""
   ]
  },
  {
   "cell_type": "code",
   "execution_count": 143,
   "id": "55640d15",
   "metadata": {},
   "outputs": [
    {
     "data": {
      "text/plain": [
       "\"IQR of 'SW' column = 0.5\""
      ]
     },
     "execution_count": 143,
     "metadata": {},
     "output_type": "execute_result"
    }
   ],
   "source": [
    "# (interquartile range) IQR of  'SW' column\n",
    "IQR_sw = Q3_sw-Q1_sw\n",
    "f\"IQR of 'SW' column = {IQR_sw}\""
   ]
  },
  {
   "cell_type": "markdown",
   "id": "948d348a",
   "metadata": {},
   "source": [
    "find the lower whisker and upper whisker of 'SW' column"
   ]
  },
  {
   "cell_type": "code",
   "execution_count": 144,
   "id": "41a8088b",
   "metadata": {},
   "outputs": [
    {
     "data": {
      "text/plain": [
       "\"lower whisker of 'SW'  column = 2.05\""
      ]
     },
     "execution_count": 144,
     "metadata": {},
     "output_type": "execute_result"
    }
   ],
   "source": [
    "# lower whisker of 'SW'  column\n",
    "low_sw = Q1_sw-1.5*IQR_sw \n",
    "f\"lower whisker of 'SW'  column = {low_sw}\""
   ]
  },
  {
   "cell_type": "code",
   "execution_count": 145,
   "id": "52503092",
   "metadata": {},
   "outputs": [
    {
     "data": {
      "text/plain": [
       "\"upper whisker of 'SW' column = 4.05\""
      ]
     },
     "execution_count": 145,
     "metadata": {},
     "output_type": "execute_result"
    }
   ],
   "source": [
    "# upper whisker of 'SW' column\n",
    "up_sw = Q3_sw+1.5*IQR_sw\n",
    "f\"upper whisker of 'SW' column = {up_sw}\""
   ]
  },
  {
   "cell_type": "code",
   "execution_count": 146,
   "id": "28a1b23d",
   "metadata": {},
   "outputs": [
    {
     "data": {
      "text/plain": [
       "\"Outliers of 'SW' column = [4.4, 4.1, 4.2, 2.0]\""
      ]
     },
     "execution_count": 146,
     "metadata": {},
     "output_type": "execute_result"
    }
   ],
   "source": [
    "# to find the outliers  in 'SW' column and display it\n",
    "outlier_sw = [] \n",
    "for x_sw in data1['SW']:\n",
    "    if((x_sw>up_sw) or (x_sw<low_sw)):\n",
    "        outlier_sw.append(x_sw)\n",
    "f\"Outliers of 'SW' column = {outlier_sw}\"\n"
   ]
  },
  {
   "cell_type": "markdown",
   "id": "dd053b2a",
   "metadata": {},
   "source": [
    "##### 'Outliers' in 'PL' column"
   ]
  },
  {
   "cell_type": "code",
   "execution_count": 147,
   "id": "14ae10a0",
   "metadata": {},
   "outputs": [
    {
     "data": {
      "image/png": "[encoded data removed]",
      "text/plain": [
       "<Figure size 640x480 with 1 Axes>"
      ]
     },
     "metadata": {},
     "output_type": "display_data"
    }
   ],
   "source": [
    "# Boxplot of 'PL' column to check outliers\n",
    "plt.boxplot(data1['PL'])\n",
    "\n",
    "# display title\n",
    "plt.title(\"Boxplot of PL\")\n",
    "\n",
    "# display figures\n",
    "plt.show()"
   ]
  },
  {
   "cell_type": "markdown",
   "id": "d80ebfb8",
   "metadata": {},
   "source": [
    "~ No outliers in 'PL' column"
   ]
  },
  {
   "cell_type": "markdown",
   "id": "a892b170",
   "metadata": {},
   "source": [
    "##### 'Outliers' in 'PW' column"
   ]
  },
  {
   "cell_type": "code",
   "execution_count": 148,
   "id": "e0242150",
   "metadata": {},
   "outputs": [
    {
     "data": {
      "image/png": "[encoded data removed]",
      "text/plain": [
       "<Figure size 640x480 with 1 Axes>"
      ]
     },
     "metadata": {},
     "output_type": "display_data"
    }
   ],
   "source": [
    "# Boxplot of 'PW' column to check outliers\n",
    "plt.boxplot(data1['PW'])\n",
    "\n",
    "# display title\n",
    "plt.title(\"Boxplot of PW\")\n",
    "\n",
    "# display figures\n",
    "plt.show()"
   ]
  },
  {
   "cell_type": "markdown",
   "id": "621d9134",
   "metadata": {},
   "source": [
    "~ No outliers in 'PW' column"
   ]
  },
  {
   "cell_type": "markdown",
   "id": "f8b8d3b7",
   "metadata": {},
   "source": [
    "### CORRELATION"
   ]
  },
  {
   "cell_type": "code",
   "execution_count": 149,
   "id": "de06786d",
   "metadata": {},
   "outputs": [],
   "source": [
    "# selecting  numerical variables for doing correlation\n",
    "P = data1[['SL', 'SW', 'PL', 'PW']] "
   ]
  },
  {
   "cell_type": "code",
   "execution_count": 150,
   "id": "c02fb9fa",
   "metadata": {},
   "outputs": [
    {
     "data": {
      "text/html": [
       "<div>\n",
       "<style scoped>\n",
       "    .dataframe tbody tr th:only-of-type {\n",
       "        vertical-align: middle;\n",
       "    }\n",
       "\n",
       "    .dataframe tbody tr th {\n",
       "        vertical-align: top;\n",
       "    }\n",
       "\n",
       "    .dataframe thead th {\n",
       "        text-align: right;\n",
       "    }\n",
       "</style>\n",
       "<table border=\"1\" class=\"dataframe\">\n",
       "  <thead>\n",
       "    <tr style=\"text-align: right;\">\n",
       "      <th></th>\n",
       "      <th>SL</th>\n",
       "      <th>SW</th>\n",
       "      <th>PL</th>\n",
       "      <th>PW</th>\n",
       "    </tr>\n",
       "  </thead>\n",
       "  <tbody>\n",
       "    <tr>\n",
       "      <th>SL</th>\n",
       "      <td>1.000000</td>\n",
       "      <td>-0.098734</td>\n",
       "      <td>0.828716</td>\n",
       "      <td>0.799399</td>\n",
       "    </tr>\n",
       "    <tr>\n",
       "      <th>SW</th>\n",
       "      <td>-0.098734</td>\n",
       "      <td>1.000000</td>\n",
       "      <td>-0.405123</td>\n",
       "      <td>-0.337745</td>\n",
       "    </tr>\n",
       "    <tr>\n",
       "      <th>PL</th>\n",
       "      <td>0.828716</td>\n",
       "      <td>-0.405123</td>\n",
       "      <td>1.000000</td>\n",
       "      <td>0.934041</td>\n",
       "    </tr>\n",
       "    <tr>\n",
       "      <th>PW</th>\n",
       "      <td>0.799399</td>\n",
       "      <td>-0.337745</td>\n",
       "      <td>0.934041</td>\n",
       "      <td>1.000000</td>\n",
       "    </tr>\n",
       "  </tbody>\n",
       "</table>\n",
       "</div>"
      ],
      "text/plain": [
       "          SL        SW        PL        PW\n",
       "SL  1.000000 -0.098734  0.828716  0.799399\n",
       "SW -0.098734  1.000000 -0.405123 -0.337745\n",
       "PL  0.828716 -0.405123  1.000000  0.934041\n",
       "PW  0.799399 -0.337745  0.934041  1.000000"
      ]
     },
     "execution_count": 150,
     "metadata": {},
     "output_type": "execute_result"
    }
   ],
   "source": [
    "# creating an instance for correlation\n",
    "corrmatrix = P.corr()\n",
    "\n",
    "# displaying the values of 'corrmatrix'\n",
    "corrmatrix"
   ]
  },
  {
   "cell_type": "markdown",
   "id": "fca0898a",
   "metadata": {},
   "source": [
    "~ From the above display:\n",
    "(a) 'PL' is having better positive correlation with 'SL'"
   ]
  },
  {
   "cell_type": "code",
   "execution_count": 151,
   "id": "d7e47778",
   "metadata": {},
   "outputs": [
    {
     "data": {
      "text/html": [
       "<div>\n",
       "<style scoped>\n",
       "    .dataframe tbody tr th:only-of-type {\n",
       "        vertical-align: middle;\n",
       "    }\n",
       "\n",
       "    .dataframe tbody tr th {\n",
       "        vertical-align: top;\n",
       "    }\n",
       "\n",
       "    .dataframe thead tr th {\n",
       "        text-align: left;\n",
       "    }\n",
       "\n",
       "    .dataframe thead tr:last-of-type th {\n",
       "        text-align: right;\n",
       "    }\n",
       "</style>\n",
       "<table border=\"1\" class=\"dataframe\">\n",
       "  <thead>\n",
       "    <tr>\n",
       "      <th></th>\n",
       "      <th colspan=\"2\" halign=\"left\">SL</th>\n",
       "      <th colspan=\"2\" halign=\"left\">SW</th>\n",
       "      <th colspan=\"2\" halign=\"left\">PL</th>\n",
       "      <th colspan=\"2\" halign=\"left\">PW</th>\n",
       "    </tr>\n",
       "    <tr>\n",
       "      <th></th>\n",
       "      <th>min</th>\n",
       "      <th>max</th>\n",
       "      <th>min</th>\n",
       "      <th>max</th>\n",
       "      <th>min</th>\n",
       "      <th>max</th>\n",
       "      <th>min</th>\n",
       "      <th>max</th>\n",
       "    </tr>\n",
       "    <tr>\n",
       "      <th>Classification</th>\n",
       "      <th></th>\n",
       "      <th></th>\n",
       "      <th></th>\n",
       "      <th></th>\n",
       "      <th></th>\n",
       "      <th></th>\n",
       "      <th></th>\n",
       "      <th></th>\n",
       "    </tr>\n",
       "  </thead>\n",
       "  <tbody>\n",
       "    <tr>\n",
       "      <th>Iris-setosa</th>\n",
       "      <td>4.3</td>\n",
       "      <td>5.8</td>\n",
       "      <td>2.3</td>\n",
       "      <td>4.4</td>\n",
       "      <td>1.0</td>\n",
       "      <td>4.4</td>\n",
       "      <td>0.1</td>\n",
       "      <td>0.6</td>\n",
       "    </tr>\n",
       "    <tr>\n",
       "      <th>Iris-versicolor</th>\n",
       "      <td>4.9</td>\n",
       "      <td>7.0</td>\n",
       "      <td>2.0</td>\n",
       "      <td>3.4</td>\n",
       "      <td>3.0</td>\n",
       "      <td>5.1</td>\n",
       "      <td>1.0</td>\n",
       "      <td>1.8</td>\n",
       "    </tr>\n",
       "    <tr>\n",
       "      <th>Iris-virginica</th>\n",
       "      <td>5.6</td>\n",
       "      <td>7.9</td>\n",
       "      <td>2.2</td>\n",
       "      <td>3.8</td>\n",
       "      <td>4.4</td>\n",
       "      <td>6.9</td>\n",
       "      <td>1.4</td>\n",
       "      <td>2.5</td>\n",
       "    </tr>\n",
       "  </tbody>\n",
       "</table>\n",
       "</div>"
      ],
      "text/plain": [
       "                  SL        SW        PL        PW     \n",
       "                 min  max  min  max  min  max  min  max\n",
       "Classification                                         \n",
       "Iris-setosa      4.3  5.8  2.3  4.4  1.0  4.4  0.1  0.6\n",
       "Iris-versicolor  4.9  7.0  2.0  3.4  3.0  5.1  1.0  1.8\n",
       "Iris-virginica   5.6  7.9  2.2  3.8  4.4  6.9  1.4  2.5"
      ]
     },
     "execution_count": 151,
     "metadata": {},
     "output_type": "execute_result"
    }
   ],
   "source": [
    "# effect of classification on 'SL', 'SW', 'PL', 'PW' \n",
    "data1.groupby(['Classification']).agg(['min','max']) \n"
   ]
  },
  {
   "cell_type": "markdown",
   "id": "186aad38",
   "metadata": {},
   "source": [
    "~ For Iris-setosa, SL varying between 4.3 to 5.8, SW varying between 2.3 to 4.4, PL varying between 1.0 to 4.4 and  PW varying between 0.1 to \t0.6.\n",
    "\n",
    "~ For Iris-versicolor, SL varying between 4.9 to 7.0, SW varying between 2.0 to 3.4, PL varying between 3.0 to 5.1 and  PW varying between 1.0 to\t1.8.\n",
    "\n",
    "~ For Iris-virginica, SL varying between 5.6 to\t7.9, SW varying between 2.2\tto 3.8, PL varying between 4.4 to 6.9 and  PW varying between 1.4 to 2.5."
   ]
  },
  {
   "cell_type": "markdown",
   "id": "1cfb5ba1",
   "metadata": {},
   "source": [
    "~ PW is the smallest for Iris-setosa, and PL is the largest for Iris-virginica\t"
   ]
  },
  {
   "cell_type": "code",
   "execution_count": 152,
   "id": "c8e62191",
   "metadata": {},
   "outputs": [
    {
     "data": {
      "text/html": [
       "<div>\n",
       "<style scoped>\n",
       "    .dataframe tbody tr th:only-of-type {\n",
       "        vertical-align: middle;\n",
       "    }\n",
       "\n",
       "    .dataframe tbody tr th {\n",
       "        vertical-align: top;\n",
       "    }\n",
       "\n",
       "    .dataframe thead th {\n",
       "        text-align: right;\n",
       "    }\n",
       "</style>\n",
       "<table border=\"1\" class=\"dataframe\">\n",
       "  <thead>\n",
       "    <tr style=\"text-align: right;\">\n",
       "      <th></th>\n",
       "      <th>SL</th>\n",
       "      <th>SW</th>\n",
       "      <th>PL</th>\n",
       "      <th>PW</th>\n",
       "    </tr>\n",
       "    <tr>\n",
       "      <th>Classification</th>\n",
       "      <th></th>\n",
       "      <th></th>\n",
       "      <th></th>\n",
       "      <th></th>\n",
       "    </tr>\n",
       "  </thead>\n",
       "  <tbody>\n",
       "    <tr>\n",
       "      <th>Iris-setosa</th>\n",
       "      <td>5.0625</td>\n",
       "      <td>3.395833</td>\n",
       "      <td>1.589583</td>\n",
       "      <td>0.250000</td>\n",
       "    </tr>\n",
       "    <tr>\n",
       "      <th>Iris-versicolor</th>\n",
       "      <td>5.9200</td>\n",
       "      <td>2.790000</td>\n",
       "      <td>4.258000</td>\n",
       "      <td>1.326000</td>\n",
       "    </tr>\n",
       "    <tr>\n",
       "      <th>Iris-virginica</th>\n",
       "      <td>6.6000</td>\n",
       "      <td>2.973469</td>\n",
       "      <td>5.510204</td>\n",
       "      <td>2.028571</td>\n",
       "    </tr>\n",
       "  </tbody>\n",
       "</table>\n",
       "</div>"
      ],
      "text/plain": [
       "                     SL        SW        PL        PW\n",
       "Classification                                       \n",
       "Iris-setosa      5.0625  3.395833  1.589583  0.250000\n",
       "Iris-versicolor  5.9200  2.790000  4.258000  1.326000\n",
       "Iris-virginica   6.6000  2.973469  5.510204  2.028571"
      ]
     },
     "execution_count": 152,
     "metadata": {},
     "output_type": "execute_result"
    }
   ],
   "source": [
    "# mean of SL, SW, PL, PW according to classification and display it\n",
    "mea_class = data1.loc[data1.SL != 0.0][['Classification', 'SL', 'SW', 'PL', 'PW']].groupby(['Classification']).mean()\n",
    "mea_class"
   ]
  },
  {
   "cell_type": "code",
   "execution_count": 153,
   "id": "b2cf9395",
   "metadata": {},
   "outputs": [
    {
     "data": {
      "text/html": [
       "<div>\n",
       "<style scoped>\n",
       "    .dataframe tbody tr th:only-of-type {\n",
       "        vertical-align: middle;\n",
       "    }\n",
       "\n",
       "    .dataframe tbody tr th {\n",
       "        vertical-align: top;\n",
       "    }\n",
       "\n",
       "    .dataframe thead tr th {\n",
       "        text-align: left;\n",
       "    }\n",
       "\n",
       "    .dataframe thead tr:last-of-type th {\n",
       "        text-align: right;\n",
       "    }\n",
       "</style>\n",
       "<table border=\"1\" class=\"dataframe\">\n",
       "  <thead>\n",
       "    <tr>\n",
       "      <th></th>\n",
       "      <th>Classification</th>\n",
       "    </tr>\n",
       "    <tr>\n",
       "      <th></th>\n",
       "      <th>count</th>\n",
       "    </tr>\n",
       "    <tr>\n",
       "      <th>Classification</th>\n",
       "      <th></th>\n",
       "    </tr>\n",
       "  </thead>\n",
       "  <tbody>\n",
       "    <tr>\n",
       "      <th>Iris-setosa</th>\n",
       "      <td>48</td>\n",
       "    </tr>\n",
       "    <tr>\n",
       "      <th>Iris-versicolor</th>\n",
       "      <td>50</td>\n",
       "    </tr>\n",
       "    <tr>\n",
       "      <th>Iris-virginica</th>\n",
       "      <td>49</td>\n",
       "    </tr>\n",
       "  </tbody>\n",
       "</table>\n",
       "</div>"
      ],
      "text/plain": [
       "                Classification\n",
       "                         count\n",
       "Classification                \n",
       "Iris-setosa                 48\n",
       "Iris-versicolor             50\n",
       "Iris-virginica              49"
      ]
     },
     "execution_count": 153,
     "metadata": {},
     "output_type": "execute_result"
    }
   ],
   "source": [
    "# count of data points under each classification\n",
    "data1.groupby(['Classification']).agg({'Classification' :['count']})"
   ]
  },
  {
   "cell_type": "markdown",
   "id": "a238125f",
   "metadata": {},
   "source": [
    "### ENCODING"
   ]
  },
  {
   "cell_type": "code",
   "execution_count": 154,
   "id": "d912e5aa",
   "metadata": {},
   "outputs": [
    {
     "data": {
      "text/plain": [
       "array(['Iris-setosa', 'Iris-versicolor', 'Iris-virginica'], dtype=object)"
      ]
     },
     "execution_count": 154,
     "metadata": {},
     "output_type": "execute_result"
    }
   ],
   "source": [
    "# unique values present in 'Classification' column\n",
    "data1['Classification'].unique() "
   ]
  },
  {
   "cell_type": "code",
   "execution_count": 155,
   "id": "974749e9",
   "metadata": {},
   "outputs": [],
   "source": [
    "# creating an instance of LabelEncoder()\n",
    "le = LabelEncoder() "
   ]
  },
  {
   "cell_type": "code",
   "execution_count": 156,
   "id": "0a0a6485",
   "metadata": {},
   "outputs": [
    {
     "name": "stderr",
     "output_type": "stream",
     "text": [
      "C:\\Users\\Lenovo\\AppData\\Local\\Temp\\ipykernel_7432\\2494099.py:3: SettingWithCopyWarning: \n",
      "A value is trying to be set on a copy of a slice from a DataFrame.\n",
      "Try using .loc[row_indexer,col_indexer] = value instead\n",
      "\n",
      "See the caveats in the documentation: https://pandas.pydata.org/pandas-docs/stable/user_guide/indexing.html#returning-a-view-versus-a-copy\n",
      "  data1['Classification'] = le.fit_transform(data1['Classification'])\n"
     ]
    },
    {
     "data": {
      "text/plain": [
       "0      0\n",
       "1      0\n",
       "2      0\n",
       "3      0\n",
       "4      0\n",
       "      ..\n",
       "142    2\n",
       "143    2\n",
       "144    2\n",
       "145    2\n",
       "146    2\n",
       "Name: Classification, Length: 147, dtype: int32"
      ]
     },
     "execution_count": 156,
     "metadata": {},
     "output_type": "execute_result"
    }
   ],
   "source": [
    "# applying label encoder to 'Classification' column\n",
    "# Fit label encoder and tranform the values, store encoded labels back to  'Classification' column\n",
    "data1['Classification'] = le.fit_transform(data1['Classification'])\n",
    "data1['Classification']"
   ]
  },
  {
   "cell_type": "code",
   "execution_count": 157,
   "id": "597450ce",
   "metadata": {},
   "outputs": [
    {
     "data": {
      "text/plain": [
       "array([0, 1, 2])"
      ]
     },
     "execution_count": 157,
     "metadata": {},
     "output_type": "execute_result"
    }
   ],
   "source": [
    "# unique values present in encoded 'Classification' column\n",
    "data1['Classification'].unique() "
   ]
  },
  {
   "cell_type": "markdown",
   "id": "c5ab3fa5",
   "metadata": {},
   "source": [
    "### SCALING"
   ]
  },
  {
   "cell_type": "code",
   "execution_count": 158,
   "id": "bd049960",
   "metadata": {},
   "outputs": [
    {
     "data": {
      "text/html": [
       "<div>\n",
       "<style scoped>\n",
       "    .dataframe tbody tr th:only-of-type {\n",
       "        vertical-align: middle;\n",
       "    }\n",
       "\n",
       "    .dataframe tbody tr th {\n",
       "        vertical-align: top;\n",
       "    }\n",
       "\n",
       "    .dataframe thead th {\n",
       "        text-align: right;\n",
       "    }\n",
       "</style>\n",
       "<table border=\"1\" class=\"dataframe\">\n",
       "  <thead>\n",
       "    <tr style=\"text-align: right;\">\n",
       "      <th></th>\n",
       "      <th>SL</th>\n",
       "      <th>SW</th>\n",
       "      <th>PL</th>\n",
       "      <th>PW</th>\n",
       "    </tr>\n",
       "  </thead>\n",
       "  <tbody>\n",
       "    <tr>\n",
       "      <th>0</th>\n",
       "      <td>5.1</td>\n",
       "      <td>3.5</td>\n",
       "      <td>1.4</td>\n",
       "      <td>0.2</td>\n",
       "    </tr>\n",
       "    <tr>\n",
       "      <th>1</th>\n",
       "      <td>4.9</td>\n",
       "      <td>3.0</td>\n",
       "      <td>1.4</td>\n",
       "      <td>0.2</td>\n",
       "    </tr>\n",
       "    <tr>\n",
       "      <th>2</th>\n",
       "      <td>5.8</td>\n",
       "      <td>3.2</td>\n",
       "      <td>1.3</td>\n",
       "      <td>0.2</td>\n",
       "    </tr>\n",
       "    <tr>\n",
       "      <th>3</th>\n",
       "      <td>4.6</td>\n",
       "      <td>3.1</td>\n",
       "      <td>1.5</td>\n",
       "      <td>0.2</td>\n",
       "    </tr>\n",
       "    <tr>\n",
       "      <th>4</th>\n",
       "      <td>5.0</td>\n",
       "      <td>3.6</td>\n",
       "      <td>1.4</td>\n",
       "      <td>0.2</td>\n",
       "    </tr>\n",
       "  </tbody>\n",
       "</table>\n",
       "</div>"
      ],
      "text/plain": [
       "    SL   SW   PL   PW\n",
       "0  5.1  3.5  1.4  0.2\n",
       "1  4.9  3.0  1.4  0.2\n",
       "2  5.8  3.2  1.3  0.2\n",
       "3  4.6  3.1  1.5  0.2\n",
       "4  5.0  3.6  1.4  0.2"
      ]
     },
     "execution_count": 158,
     "metadata": {},
     "output_type": "execute_result"
    }
   ],
   "source": [
    "# preparing the dataframe to perform min max scaling and dropping the categorical column\n",
    "S = data1.drop(['Classification'], axis = 1) \n",
    "\n",
    "# display first 5 rows under the dataframe S\n",
    "S.head()"
   ]
  },
  {
   "cell_type": "code",
   "execution_count": 159,
   "id": "1a586bbe",
   "metadata": {},
   "outputs": [],
   "source": [
    "# creating an instance for MinMaxScaler() and defining the range between 0 and 1 using feature_range\n",
    "minmax = MinMaxScaler(feature_range=(0,1)) "
   ]
  },
  {
   "cell_type": "code",
   "execution_count": 160,
   "id": "e26b3458",
   "metadata": {},
   "outputs": [
    {
     "data": {
      "text/plain": [
       "array([[0.22222222, 0.625     , 0.06779661, 0.04166667],\n",
       "       [0.16666667, 0.41666667, 0.06779661, 0.04166667],\n",
       "       [0.41666667, 0.5       , 0.05084746, 0.04166667],\n",
       "       [0.08333333, 0.45833333, 0.08474576, 0.04166667],\n",
       "       [0.19444444, 0.66666667, 0.06779661, 0.04166667],\n",
       "       [0.30555556, 0.79166667, 0.11864407, 0.125     ],\n",
       "       [0.08333333, 0.58333333, 0.06779661, 0.08333333],\n",
       "       [0.19444444, 0.58333333, 0.08474576, 0.04166667],\n",
       "       [0.02777778, 0.375     , 0.06779661, 0.04166667],\n",
       "       [0.16666667, 0.45833333, 0.08474576, 0.        ],\n",
       "       [0.30555556, 0.41666667, 0.08474576, 0.04166667],\n",
       "       [0.13888889, 0.58333333, 0.10169492, 0.04166667],\n",
       "       [0.13888889, 0.41666667, 0.06779661, 0.        ],\n",
       "       [0.        , 0.41666667, 0.01694915, 0.        ],\n",
       "       [0.41666667, 0.83333333, 0.03389831, 0.04166667],\n",
       "       [0.38888889, 1.        , 0.08474576, 0.125     ],\n",
       "       [0.30555556, 0.79166667, 0.05084746, 0.125     ],\n",
       "       [0.22222222, 0.625     , 0.06779661, 0.08333333],\n",
       "       [0.38888889, 0.75      , 0.11864407, 0.08333333],\n",
       "       [0.22222222, 0.75      , 0.08474576, 0.08333333],\n",
       "       [0.30555556, 0.58333333, 0.11864407, 0.04166667],\n",
       "       [0.41666667, 0.70833333, 0.08474576, 0.125     ],\n",
       "       [0.08333333, 0.66666667, 0.        , 0.04166667],\n",
       "       [0.22222222, 0.54166667, 0.11864407, 0.16666667],\n",
       "       [0.13888889, 0.58333333, 0.15254237, 0.04166667],\n",
       "       [0.19444444, 0.41666667, 0.10169492, 0.04166667],\n",
       "       [0.19444444, 0.58333333, 0.10169492, 0.125     ],\n",
       "       [0.25      , 0.41666667, 0.08474576, 0.04166667],\n",
       "       [0.25      , 0.58333333, 0.57627119, 0.04166667],\n",
       "       [0.11111111, 0.5       , 0.10169492, 0.04166667],\n",
       "       [0.13888889, 0.45833333, 0.10169492, 0.04166667],\n",
       "       [0.30555556, 0.58333333, 0.08474576, 0.125     ],\n",
       "       [0.25      , 0.875     , 0.08474576, 0.        ],\n",
       "       [0.33333333, 0.91666667, 0.06779661, 0.04166667],\n",
       "       [0.19444444, 0.5       , 0.03389831, 0.04166667],\n",
       "       [0.33333333, 0.625     , 0.05084746, 0.04166667],\n",
       "       [0.02777778, 0.41666667, 0.05084746, 0.04166667],\n",
       "       [0.41666667, 0.58333333, 0.08474576, 0.04166667],\n",
       "       [0.19444444, 0.625     , 0.05084746, 0.08333333],\n",
       "       [0.05555556, 0.125     , 0.05084746, 0.08333333],\n",
       "       [0.02777778, 0.5       , 0.57627119, 0.04166667],\n",
       "       [0.19444444, 0.41666667, 0.10169492, 0.20833333],\n",
       "       [0.22222222, 0.75      , 0.15254237, 0.125     ],\n",
       "       [0.13888889, 0.41666667, 0.06779661, 0.08333333],\n",
       "       [0.22222222, 0.75      , 0.10169492, 0.04166667],\n",
       "       [0.08333333, 0.5       , 0.06779661, 0.04166667],\n",
       "       [0.27777778, 0.70833333, 0.08474576, 0.04166667],\n",
       "       [0.19444444, 0.54166667, 0.06779661, 0.04166667],\n",
       "       [0.75      , 0.5       , 0.62711864, 0.54166667],\n",
       "       [0.41666667, 0.5       , 0.59322034, 0.58333333],\n",
       "       [0.72222222, 0.45833333, 0.66101695, 0.58333333],\n",
       "       [0.33333333, 0.125     , 0.50847458, 0.5       ],\n",
       "       [0.61111111, 0.33333333, 0.61016949, 0.58333333],\n",
       "       [0.38888889, 0.33333333, 0.59322034, 0.5       ],\n",
       "       [0.55555556, 0.54166667, 0.57627119, 0.625     ],\n",
       "       [0.16666667, 0.16666667, 0.38983051, 0.375     ],\n",
       "       [0.63888889, 0.375     , 0.61016949, 0.5       ],\n",
       "       [0.25      , 0.29166667, 0.49152542, 0.54166667],\n",
       "       [0.19444444, 0.        , 0.42372881, 0.375     ],\n",
       "       [0.44444444, 0.41666667, 0.54237288, 0.58333333],\n",
       "       [0.47222222, 0.08333333, 0.50847458, 0.375     ],\n",
       "       [0.5       , 0.375     , 0.62711864, 0.54166667],\n",
       "       [0.36111111, 0.375     , 0.44067797, 0.5       ],\n",
       "       [0.66666667, 0.45833333, 0.57627119, 0.54166667],\n",
       "       [0.36111111, 0.41666667, 0.59322034, 0.58333333],\n",
       "       [0.41666667, 0.29166667, 0.52542373, 0.375     ],\n",
       "       [0.52777778, 0.08333333, 0.59322034, 0.58333333],\n",
       "       [0.36111111, 0.20833333, 0.49152542, 0.41666667],\n",
       "       [0.44444444, 0.5       , 0.6440678 , 0.70833333],\n",
       "       [0.5       , 0.33333333, 0.50847458, 0.5       ],\n",
       "       [0.55555556, 0.41666667, 0.66101695, 0.58333333],\n",
       "       [0.5       , 0.33333333, 0.62711864, 0.45833333],\n",
       "       [0.58333333, 0.375     , 0.55932203, 0.5       ],\n",
       "       [0.63888889, 0.41666667, 0.57627119, 0.54166667],\n",
       "       [0.69444444, 0.33333333, 0.6440678 , 0.54166667],\n",
       "       [0.66666667, 0.41666667, 0.6779661 , 0.66666667],\n",
       "       [0.47222222, 0.375     , 0.59322034, 0.58333333],\n",
       "       [0.38888889, 0.25      , 0.42372881, 0.375     ],\n",
       "       [0.33333333, 0.16666667, 0.47457627, 0.41666667],\n",
       "       [0.33333333, 0.16666667, 0.45762712, 0.375     ],\n",
       "       [0.41666667, 0.29166667, 0.49152542, 0.45833333],\n",
       "       [0.47222222, 0.29166667, 0.69491525, 0.625     ],\n",
       "       [0.30555556, 0.41666667, 0.59322034, 0.58333333],\n",
       "       [0.41666667, 0.58333333, 0.59322034, 0.625     ],\n",
       "       [0.66666667, 0.45833333, 0.62711864, 0.58333333],\n",
       "       [0.55555556, 0.125     , 0.57627119, 0.5       ],\n",
       "       [0.36111111, 0.41666667, 0.52542373, 0.5       ],\n",
       "       [0.33333333, 0.20833333, 0.50847458, 0.5       ],\n",
       "       [0.33333333, 0.25      , 0.57627119, 0.45833333],\n",
       "       [0.5       , 0.41666667, 0.61016949, 0.54166667],\n",
       "       [0.41666667, 0.25      , 0.50847458, 0.45833333],\n",
       "       [0.19444444, 0.125     , 0.38983051, 0.375     ],\n",
       "       [0.36111111, 0.29166667, 0.57627119, 0.5       ],\n",
       "       [0.38888889, 0.41666667, 0.54237288, 0.45833333],\n",
       "       [0.38888889, 0.375     , 0.54237288, 0.5       ],\n",
       "       [0.52777778, 0.375     , 0.55932203, 0.5       ],\n",
       "       [0.22222222, 0.41666667, 0.33898305, 0.41666667],\n",
       "       [0.38888889, 0.33333333, 0.52542373, 0.5       ],\n",
       "       [0.55555556, 0.54166667, 0.84745763, 1.        ],\n",
       "       [0.41666667, 0.29166667, 0.69491525, 0.75      ],\n",
       "       [0.77777778, 0.41666667, 0.83050847, 0.83333333],\n",
       "       [0.55555556, 0.375     , 0.77966102, 0.70833333],\n",
       "       [0.61111111, 0.41666667, 0.81355932, 0.875     ],\n",
       "       [0.91666667, 0.41666667, 0.94915254, 0.83333333],\n",
       "       [0.41666667, 0.20833333, 0.59322034, 0.66666667],\n",
       "       [0.83333333, 0.375     , 0.89830508, 0.70833333],\n",
       "       [0.66666667, 0.20833333, 0.81355932, 0.70833333],\n",
       "       [0.80555556, 0.66666667, 0.57627119, 1.        ],\n",
       "       [0.61111111, 0.5       , 0.69491525, 0.79166667],\n",
       "       [0.58333333, 0.29166667, 0.72881356, 0.75      ],\n",
       "       [0.69444444, 0.41666667, 0.76271186, 0.83333333],\n",
       "       [0.38888889, 0.20833333, 0.6779661 , 0.79166667],\n",
       "       [0.41666667, 0.33333333, 0.69491525, 0.95833333],\n",
       "       [0.58333333, 0.5       , 0.72881356, 0.91666667],\n",
       "       [0.61111111, 0.41666667, 0.76271186, 0.70833333],\n",
       "       [0.94444444, 0.75      , 0.96610169, 0.875     ],\n",
       "       [0.94444444, 0.25      , 1.        , 0.91666667],\n",
       "       [0.47222222, 0.08333333, 0.6779661 , 0.58333333],\n",
       "       [0.72222222, 0.5       , 0.79661017, 0.91666667],\n",
       "       [0.36111111, 0.33333333, 0.66101695, 0.79166667],\n",
       "       [0.94444444, 0.33333333, 0.96610169, 0.79166667],\n",
       "       [0.55555556, 0.29166667, 0.66101695, 0.70833333],\n",
       "       [0.66666667, 0.41666667, 0.79661017, 0.83333333],\n",
       "       [0.80555556, 0.5       , 0.84745763, 0.70833333],\n",
       "       [0.52777778, 0.33333333, 0.6440678 , 0.70833333],\n",
       "       [0.5       , 0.41666667, 0.66101695, 0.70833333],\n",
       "       [0.58333333, 0.33333333, 0.77966102, 0.83333333],\n",
       "       [0.80555556, 0.41666667, 0.81355932, 0.625     ],\n",
       "       [0.86111111, 0.33333333, 0.86440678, 0.75      ],\n",
       "       [1.        , 0.75      , 0.91525424, 0.79166667],\n",
       "       [0.58333333, 0.33333333, 0.77966102, 0.875     ],\n",
       "       [0.55555556, 0.33333333, 0.69491525, 0.58333333],\n",
       "       [0.5       , 0.25      , 0.77966102, 0.54166667],\n",
       "       [0.94444444, 0.41666667, 0.86440678, 0.91666667],\n",
       "       [0.55555556, 0.58333333, 0.77966102, 0.95833333],\n",
       "       [0.58333333, 0.45833333, 0.76271186, 0.70833333],\n",
       "       [0.47222222, 0.41666667, 0.6440678 , 0.70833333],\n",
       "       [0.72222222, 0.45833333, 0.74576271, 0.83333333],\n",
       "       [0.66666667, 0.45833333, 0.77966102, 0.95833333],\n",
       "       [0.41666667, 0.45833333, 0.69491525, 0.91666667],\n",
       "       [0.69444444, 0.5       , 0.83050847, 0.91666667],\n",
       "       [0.66666667, 0.54166667, 0.79661017, 1.        ],\n",
       "       [0.66666667, 0.41666667, 0.71186441, 0.91666667],\n",
       "       [0.55555556, 0.20833333, 0.6779661 , 0.75      ],\n",
       "       [0.61111111, 0.41666667, 0.57627119, 0.79166667],\n",
       "       [0.52777778, 0.58333333, 0.74576271, 0.91666667],\n",
       "       [0.44444444, 0.41666667, 0.69491525, 0.70833333]])"
      ]
     },
     "execution_count": 160,
     "metadata": {},
     "output_type": "execute_result"
    }
   ],
   "source": [
    "# Fit MinMaxScaler and tranform the scaled values to 'S1'\n",
    "S1 = minmax.fit_transform(S)\n",
    "\n",
    "# display the values of S1\n",
    "S1"
   ]
  },
  {
   "cell_type": "code",
   "execution_count": 161,
   "id": "98fa5f2a",
   "metadata": {},
   "outputs": [
    {
     "data": {
      "text/html": [
       "<div>\n",
       "<style scoped>\n",
       "    .dataframe tbody tr th:only-of-type {\n",
       "        vertical-align: middle;\n",
       "    }\n",
       "\n",
       "    .dataframe tbody tr th {\n",
       "        vertical-align: top;\n",
       "    }\n",
       "\n",
       "    .dataframe thead th {\n",
       "        text-align: right;\n",
       "    }\n",
       "</style>\n",
       "<table border=\"1\" class=\"dataframe\">\n",
       "  <thead>\n",
       "    <tr style=\"text-align: right;\">\n",
       "      <th></th>\n",
       "      <th>SL</th>\n",
       "      <th>SW</th>\n",
       "      <th>PL</th>\n",
       "      <th>PW</th>\n",
       "    </tr>\n",
       "  </thead>\n",
       "  <tbody>\n",
       "    <tr>\n",
       "      <th>0</th>\n",
       "      <td>0.222222</td>\n",
       "      <td>0.625000</td>\n",
       "      <td>0.067797</td>\n",
       "      <td>0.041667</td>\n",
       "    </tr>\n",
       "    <tr>\n",
       "      <th>1</th>\n",
       "      <td>0.166667</td>\n",
       "      <td>0.416667</td>\n",
       "      <td>0.067797</td>\n",
       "      <td>0.041667</td>\n",
       "    </tr>\n",
       "    <tr>\n",
       "      <th>2</th>\n",
       "      <td>0.416667</td>\n",
       "      <td>0.500000</td>\n",
       "      <td>0.050847</td>\n",
       "      <td>0.041667</td>\n",
       "    </tr>\n",
       "    <tr>\n",
       "      <th>3</th>\n",
       "      <td>0.083333</td>\n",
       "      <td>0.458333</td>\n",
       "      <td>0.084746</td>\n",
       "      <td>0.041667</td>\n",
       "    </tr>\n",
       "    <tr>\n",
       "      <th>4</th>\n",
       "      <td>0.194444</td>\n",
       "      <td>0.666667</td>\n",
       "      <td>0.067797</td>\n",
       "      <td>0.041667</td>\n",
       "    </tr>\n",
       "    <tr>\n",
       "      <th>...</th>\n",
       "      <td>...</td>\n",
       "      <td>...</td>\n",
       "      <td>...</td>\n",
       "      <td>...</td>\n",
       "    </tr>\n",
       "    <tr>\n",
       "      <th>142</th>\n",
       "      <td>0.666667</td>\n",
       "      <td>0.416667</td>\n",
       "      <td>0.711864</td>\n",
       "      <td>0.916667</td>\n",
       "    </tr>\n",
       "    <tr>\n",
       "      <th>143</th>\n",
       "      <td>0.555556</td>\n",
       "      <td>0.208333</td>\n",
       "      <td>0.677966</td>\n",
       "      <td>0.750000</td>\n",
       "    </tr>\n",
       "    <tr>\n",
       "      <th>144</th>\n",
       "      <td>0.611111</td>\n",
       "      <td>0.416667</td>\n",
       "      <td>0.576271</td>\n",
       "      <td>0.791667</td>\n",
       "    </tr>\n",
       "    <tr>\n",
       "      <th>145</th>\n",
       "      <td>0.527778</td>\n",
       "      <td>0.583333</td>\n",
       "      <td>0.745763</td>\n",
       "      <td>0.916667</td>\n",
       "    </tr>\n",
       "    <tr>\n",
       "      <th>146</th>\n",
       "      <td>0.444444</td>\n",
       "      <td>0.416667</td>\n",
       "      <td>0.694915</td>\n",
       "      <td>0.708333</td>\n",
       "    </tr>\n",
       "  </tbody>\n",
       "</table>\n",
       "<p>147 rows × 4 columns</p>\n",
       "</div>"
      ],
      "text/plain": [
       "           SL        SW        PL        PW\n",
       "0    0.222222  0.625000  0.067797  0.041667\n",
       "1    0.166667  0.416667  0.067797  0.041667\n",
       "2    0.416667  0.500000  0.050847  0.041667\n",
       "3    0.083333  0.458333  0.084746  0.041667\n",
       "4    0.194444  0.666667  0.067797  0.041667\n",
       "..        ...       ...       ...       ...\n",
       "142  0.666667  0.416667  0.711864  0.916667\n",
       "143  0.555556  0.208333  0.677966  0.750000\n",
       "144  0.611111  0.416667  0.576271  0.791667\n",
       "145  0.527778  0.583333  0.745763  0.916667\n",
       "146  0.444444  0.416667  0.694915  0.708333\n",
       "\n",
       "[147 rows x 4 columns]"
      ]
     },
     "execution_count": 161,
     "metadata": {},
     "output_type": "execute_result"
    }
   ],
   "source": [
    "# converting back to a dataframe since it is array format and displaying it\n",
    "S1 = pd.DataFrame(S1, columns=['SL', 'SW', 'PL', 'PW'])\n",
    "S1"
   ]
  },
  {
   "cell_type": "code",
   "execution_count": 162,
   "id": "ca43df52",
   "metadata": {},
   "outputs": [
    {
     "data": {
      "text/html": [
       "<div>\n",
       "<style scoped>\n",
       "    .dataframe tbody tr th:only-of-type {\n",
       "        vertical-align: middle;\n",
       "    }\n",
       "\n",
       "    .dataframe tbody tr th {\n",
       "        vertical-align: top;\n",
       "    }\n",
       "\n",
       "    .dataframe thead th {\n",
       "        text-align: right;\n",
       "    }\n",
       "</style>\n",
       "<table border=\"1\" class=\"dataframe\">\n",
       "  <thead>\n",
       "    <tr style=\"text-align: right;\">\n",
       "      <th></th>\n",
       "      <th>SL</th>\n",
       "      <th>SW</th>\n",
       "      <th>PL</th>\n",
       "      <th>PW</th>\n",
       "    </tr>\n",
       "  </thead>\n",
       "  <tbody>\n",
       "    <tr>\n",
       "      <th>count</th>\n",
       "      <td>147.000000</td>\n",
       "      <td>147.000000</td>\n",
       "      <td>147.000000</td>\n",
       "      <td>147.000000</td>\n",
       "    </tr>\n",
       "    <tr>\n",
       "      <th>mean</th>\n",
       "      <td>0.435185</td>\n",
       "      <td>0.437075</td>\n",
       "      <td>0.475268</td>\n",
       "      <td>0.462018</td>\n",
       "    </tr>\n",
       "    <tr>\n",
       "      <th>std</th>\n",
       "      <td>0.224737</td>\n",
       "      <td>0.177204</td>\n",
       "      <td>0.292149</td>\n",
       "      <td>0.315781</td>\n",
       "    </tr>\n",
       "    <tr>\n",
       "      <th>min</th>\n",
       "      <td>0.000000</td>\n",
       "      <td>0.000000</td>\n",
       "      <td>0.000000</td>\n",
       "      <td>0.000000</td>\n",
       "    </tr>\n",
       "    <tr>\n",
       "      <th>25%</th>\n",
       "      <td>0.250000</td>\n",
       "      <td>0.333333</td>\n",
       "      <td>0.101695</td>\n",
       "      <td>0.083333</td>\n",
       "    </tr>\n",
       "    <tr>\n",
       "      <th>50%</th>\n",
       "      <td>0.416667</td>\n",
       "      <td>0.416667</td>\n",
       "      <td>0.576271</td>\n",
       "      <td>0.500000</td>\n",
       "    </tr>\n",
       "    <tr>\n",
       "      <th>75%</th>\n",
       "      <td>0.583333</td>\n",
       "      <td>0.541667</td>\n",
       "      <td>0.694915</td>\n",
       "      <td>0.708333</td>\n",
       "    </tr>\n",
       "    <tr>\n",
       "      <th>max</th>\n",
       "      <td>1.000000</td>\n",
       "      <td>1.000000</td>\n",
       "      <td>1.000000</td>\n",
       "      <td>1.000000</td>\n",
       "    </tr>\n",
       "  </tbody>\n",
       "</table>\n",
       "</div>"
      ],
      "text/plain": [
       "               SL          SW          PL          PW\n",
       "count  147.000000  147.000000  147.000000  147.000000\n",
       "mean     0.435185    0.437075    0.475268    0.462018\n",
       "std      0.224737    0.177204    0.292149    0.315781\n",
       "min      0.000000    0.000000    0.000000    0.000000\n",
       "25%      0.250000    0.333333    0.101695    0.083333\n",
       "50%      0.416667    0.416667    0.576271    0.500000\n",
       "75%      0.583333    0.541667    0.694915    0.708333\n",
       "max      1.000000    1.000000    1.000000    1.000000"
      ]
     },
     "execution_count": 162,
     "metadata": {},
     "output_type": "execute_result"
    }
   ],
   "source": [
    "# display the summary statistics of all numerical columns after applying scaling\n",
    "S1.describe()"
   ]
  },
  {
   "cell_type": "markdown",
   "id": "620f4e48",
   "metadata": {},
   "source": [
    "~ For all the columns, minimum value is 0 and maximum value is one after applying scaling"
   ]
  },
  {
   "cell_type": "markdown",
   "id": "1746828f",
   "metadata": {},
   "source": [
    "### SPLITTING THE DATA INTO FEATURES AND TARGET\n",
    "\n",
    "-X indicates Fatures  = 'SL', 'SW', 'PL', 'PW' columns\n",
    "\n",
    "\n",
    "-y indicates Target = 'Classification' column"
   ]
  },
  {
   "cell_type": "code",
   "execution_count": 163,
   "id": "6eb19195",
   "metadata": {},
   "outputs": [
    {
     "data": {
      "text/html": [
       "<div>\n",
       "<style scoped>\n",
       "    .dataframe tbody tr th:only-of-type {\n",
       "        vertical-align: middle;\n",
       "    }\n",
       "\n",
       "    .dataframe tbody tr th {\n",
       "        vertical-align: top;\n",
       "    }\n",
       "\n",
       "    .dataframe thead th {\n",
       "        text-align: right;\n",
       "    }\n",
       "</style>\n",
       "<table border=\"1\" class=\"dataframe\">\n",
       "  <thead>\n",
       "    <tr style=\"text-align: right;\">\n",
       "      <th></th>\n",
       "      <th>SL</th>\n",
       "      <th>SW</th>\n",
       "      <th>PL</th>\n",
       "      <th>PW</th>\n",
       "    </tr>\n",
       "  </thead>\n",
       "  <tbody>\n",
       "    <tr>\n",
       "      <th>0</th>\n",
       "      <td>0.222222</td>\n",
       "      <td>0.625000</td>\n",
       "      <td>0.067797</td>\n",
       "      <td>0.041667</td>\n",
       "    </tr>\n",
       "    <tr>\n",
       "      <th>1</th>\n",
       "      <td>0.166667</td>\n",
       "      <td>0.416667</td>\n",
       "      <td>0.067797</td>\n",
       "      <td>0.041667</td>\n",
       "    </tr>\n",
       "    <tr>\n",
       "      <th>2</th>\n",
       "      <td>0.416667</td>\n",
       "      <td>0.500000</td>\n",
       "      <td>0.050847</td>\n",
       "      <td>0.041667</td>\n",
       "    </tr>\n",
       "    <tr>\n",
       "      <th>3</th>\n",
       "      <td>0.083333</td>\n",
       "      <td>0.458333</td>\n",
       "      <td>0.084746</td>\n",
       "      <td>0.041667</td>\n",
       "    </tr>\n",
       "    <tr>\n",
       "      <th>4</th>\n",
       "      <td>0.194444</td>\n",
       "      <td>0.666667</td>\n",
       "      <td>0.067797</td>\n",
       "      <td>0.041667</td>\n",
       "    </tr>\n",
       "    <tr>\n",
       "      <th>...</th>\n",
       "      <td>...</td>\n",
       "      <td>...</td>\n",
       "      <td>...</td>\n",
       "      <td>...</td>\n",
       "    </tr>\n",
       "    <tr>\n",
       "      <th>142</th>\n",
       "      <td>0.666667</td>\n",
       "      <td>0.416667</td>\n",
       "      <td>0.711864</td>\n",
       "      <td>0.916667</td>\n",
       "    </tr>\n",
       "    <tr>\n",
       "      <th>143</th>\n",
       "      <td>0.555556</td>\n",
       "      <td>0.208333</td>\n",
       "      <td>0.677966</td>\n",
       "      <td>0.750000</td>\n",
       "    </tr>\n",
       "    <tr>\n",
       "      <th>144</th>\n",
       "      <td>0.611111</td>\n",
       "      <td>0.416667</td>\n",
       "      <td>0.576271</td>\n",
       "      <td>0.791667</td>\n",
       "    </tr>\n",
       "    <tr>\n",
       "      <th>145</th>\n",
       "      <td>0.527778</td>\n",
       "      <td>0.583333</td>\n",
       "      <td>0.745763</td>\n",
       "      <td>0.916667</td>\n",
       "    </tr>\n",
       "    <tr>\n",
       "      <th>146</th>\n",
       "      <td>0.444444</td>\n",
       "      <td>0.416667</td>\n",
       "      <td>0.694915</td>\n",
       "      <td>0.708333</td>\n",
       "    </tr>\n",
       "  </tbody>\n",
       "</table>\n",
       "<p>147 rows × 4 columns</p>\n",
       "</div>"
      ],
      "text/plain": [
       "           SL        SW        PL        PW\n",
       "0    0.222222  0.625000  0.067797  0.041667\n",
       "1    0.166667  0.416667  0.067797  0.041667\n",
       "2    0.416667  0.500000  0.050847  0.041667\n",
       "3    0.083333  0.458333  0.084746  0.041667\n",
       "4    0.194444  0.666667  0.067797  0.041667\n",
       "..        ...       ...       ...       ...\n",
       "142  0.666667  0.416667  0.711864  0.916667\n",
       "143  0.555556  0.208333  0.677966  0.750000\n",
       "144  0.611111  0.416667  0.576271  0.791667\n",
       "145  0.527778  0.583333  0.745763  0.916667\n",
       "146  0.444444  0.416667  0.694915  0.708333\n",
       "\n",
       "[147 rows x 4 columns]"
      ]
     },
     "execution_count": 163,
     "metadata": {},
     "output_type": "execute_result"
    }
   ],
   "source": [
    "# displaying features\n",
    "X = S1\n",
    "X"
   ]
  },
  {
   "cell_type": "code",
   "execution_count": 164,
   "id": "13f26148",
   "metadata": {},
   "outputs": [
    {
     "data": {
      "text/plain": [
       "0      0\n",
       "1      0\n",
       "2      0\n",
       "3      0\n",
       "4      0\n",
       "      ..\n",
       "142    2\n",
       "143    2\n",
       "144    2\n",
       "145    2\n",
       "146    2\n",
       "Name: Classification, Length: 147, dtype: int32"
      ]
     },
     "execution_count": 164,
     "metadata": {},
     "output_type": "execute_result"
    }
   ],
   "source": [
    "# displaying target\n",
    "y = data1['Classification']\n",
    "y"
   ]
  },
  {
   "cell_type": "code",
   "execution_count": 165,
   "id": "ebc6acd3",
   "metadata": {},
   "outputs": [],
   "source": [
    "#  splitting the dataset into testing and training data set\n",
    "X_train, X_test, y_train, y_test = train_test_split(X, y, test_size = 0.25, random_state = 42)"
   ]
  },
  {
   "cell_type": "code",
   "execution_count": 166,
   "id": "087d31df",
   "metadata": {},
   "outputs": [
    {
     "data": {
      "text/plain": [
       "0    14\n",
       "2    13\n",
       "1    10\n",
       "Name: Classification, dtype: int64"
      ]
     },
     "execution_count": 166,
     "metadata": {},
     "output_type": "execute_result"
    }
   ],
   "source": [
    "# distribution of classes in actual test data of target\n",
    "y_test.value_counts()"
   ]
  },
  {
   "cell_type": "markdown",
   "id": "bb39a605",
   "metadata": {},
   "source": [
    "#### MODELS"
   ]
  },
  {
   "cell_type": "markdown",
   "id": "32d148d7",
   "metadata": {},
   "source": [
    "#### 1) LOGISTIC REGRESSION"
   ]
  },
  {
   "cell_type": "code",
   "execution_count": 167,
   "id": "502b06d9",
   "metadata": {},
   "outputs": [],
   "source": [
    "# creating an instance for LogisticRegression()\n",
    "log_reg = LogisticRegression()"
   ]
  },
  {
   "cell_type": "code",
   "execution_count": 168,
   "id": "dadb4d29",
   "metadata": {},
   "outputs": [],
   "source": [
    "# fit the training data to the instance of LogisticRegression() and create a model\n",
    "log_model = log_reg.fit(X_train, y_train)"
   ]
  },
  {
   "cell_type": "code",
   "execution_count": 169,
   "id": "984d0b6d",
   "metadata": {},
   "outputs": [
    {
     "data": {
      "text/plain": [
       "array([2, 1, 2, 0, 1, 0, 1, 0, 1, 0, 0, 1, 2, 1, 2, 1, 0, 1, 2, 0, 0, 2,\n",
       "       0, 2, 1, 0, 1, 2, 1, 0, 2, 0, 2, 0, 0, 2, 2])"
      ]
     },
     "execution_count": 169,
     "metadata": {},
     "output_type": "execute_result"
    }
   ],
   "source": [
    "# predict the target of the test data using the features of test data\n",
    "log_ypred = log_model.predict(X_test)\n",
    "log_ypred"
   ]
  },
  {
   "cell_type": "code",
   "execution_count": 170,
   "id": "78bd80bf",
   "metadata": {},
   "outputs": [
    {
     "data": {
      "text/plain": [
       "125    2\n",
       "51     1\n",
       "138    2\n",
       "19     0\n",
       "104    2\n",
       "12     0\n",
       "76     1\n",
       "31     0\n",
       "81     1\n",
       "9      0\n",
       "26     0\n",
       "96     1\n",
       "143    2\n",
       "67     1\n",
       "134    2\n",
       "66     1\n",
       "18     0\n",
       "69     1\n",
       "124    2\n",
       "30     0\n",
       "29     0\n",
       "105    2\n",
       "36     0\n",
       "118    2\n",
       "55     1\n",
       "22     0\n",
       "64     1\n",
       "133    2\n",
       "82     1\n",
       "11     0\n",
       "135    2\n",
       "45     0\n",
       "119    2\n",
       "27     0\n",
       "4      0\n",
       "127    2\n",
       "129    2\n",
       "Name: Classification, dtype: int32"
      ]
     },
     "execution_count": 170,
     "metadata": {},
     "output_type": "execute_result"
    }
   ],
   "source": [
    "y_test"
   ]
  },
  {
   "cell_type": "code",
   "execution_count": 171,
   "id": "1a26d0c8",
   "metadata": {},
   "outputs": [],
   "source": [
    "# displaying confusion matrix\n",
    "log_conf = confusion_matrix(y_test, log_ypred)"
   ]
  },
  {
   "cell_type": "code",
   "execution_count": 172,
   "id": "0eda96e7",
   "metadata": {},
   "outputs": [],
   "source": [
    "# Creating a dataframe for an array-formatted Confusion matrix\n",
    "conf_log_matrix = pd.DataFrame(log_conf,\n",
    "                     index = ['Iris-setosa', 'Iris-versicolor', 'Iris-virginica'], \n",
    "                     columns = ['Iris-setosa', 'Iris-versicolor', 'Iris-virginica'])"
   ]
  },
  {
   "cell_type": "code",
   "execution_count": 173,
   "id": "856719a9",
   "metadata": {
    "scrolled": true
   },
   "outputs": [
    {
     "data": {
      "image/png": "[encoded data removed]",
      "text/plain": [
       "<Figure size 500x400 with 2 Axes>"
      ]
     },
     "metadata": {},
     "output_type": "display_data"
    }
   ],
   "source": [
    "# Plotting the confusion matrix\n",
    "plt.figure(figsize=(5,4))\n",
    "\n",
    "# plotting heatmap\n",
    "sns.heatmap(conf_log_matrix, annot=True)\n",
    "\n",
    "# display title\n",
    "plt.title('Confusion Matrix')\n",
    "\n",
    "# display title on y axis\n",
    "plt.ylabel('Actal Values')\n",
    "\n",
    "# display title on x axis\n",
    "plt.xlabel('Predicted Values')\n",
    "\n",
    "# display figure\n",
    "plt.show()"
   ]
  },
  {
   "cell_type": "markdown",
   "id": "cdbbe68b",
   "metadata": {},
   "source": [
    "~ calculate the TP, TN, FP, FN values for the class 'Iris-setosa'\n",
    "* TP: The actual value and predicted value should be the same.\n",
    "TP = 14\n",
    "* FN: The sum of values of corresponding rows except the TP value\n",
    "FN = 0 + 0 = 0\n",
    "* FP : The sum of values of corresponding column except the TP value\n",
    "FP = 0 + 0 = 0\n",
    "* TN: The sum of values of all columns and row except the values of that class that we are calculating the values for.\n",
    "TN = 10 + 0 + 1 + 12 =23\n",
    "\n",
    "~ calculate the TP, TN, FP, FN values for the class 'Iris-versicolor'\n",
    "* TP: The actual value and predicted value should be the same.\n",
    "TP = 10\n",
    "* FN: The sum of values of corresponding rows except the TP value\n",
    "FN = 0 + 0 = 0\n",
    "* FP : The sum of values of corresponding column except the TP value\n",
    "FP = 0 + 1 = 1\n",
    "* TN: The sum of values of all columns and row except the values of that class that we are calculating the values for.\n",
    "TN = 14 + 0 + 0 + 12 = 26\n",
    "\n",
    "~ calculate the TP, TN, FP, FN values for the class 'Iris-virginica'\n",
    "* TP: The actual value and predicted value should be the same.\n",
    "TP = 12\n",
    "* FN: The sum of values of corresponding rows except the TP value\n",
    "FN = 0 + 1 = 1\n",
    "* FP : The sum of values of corresponding column except the TP value\n",
    "FP = 0 + 0 = 0\n",
    "* TN: The sum of values of all columns and row except the values of that class that we are calculating the values for.\n",
    "TN = 14 + 0 + 0 + 10 = 24"
   ]
  },
  {
   "cell_type": "code",
   "execution_count": 174,
   "id": "28aff213",
   "metadata": {},
   "outputs": [
    {
     "name": "stdout",
     "output_type": "stream",
     "text": [
      "0.972972972972973\n"
     ]
    }
   ],
   "source": [
    "# accuracy score\n",
    "print(accuracy_score(y_test, log_ypred))"
   ]
  },
  {
   "cell_type": "code",
   "execution_count": 175,
   "id": "7fac72e9",
   "metadata": {},
   "outputs": [
    {
     "name": "stdout",
     "output_type": "stream",
     "text": [
      "0.9754299754299754\n"
     ]
    }
   ],
   "source": [
    "# precision score\n",
    "print(precision_score(y_test, log_ypred, average='weighted'))"
   ]
  },
  {
   "cell_type": "code",
   "execution_count": 176,
   "id": "2813dca1",
   "metadata": {},
   "outputs": [
    {
     "name": "stdout",
     "output_type": "stream",
     "text": [
      "0.972972972972973\n"
     ]
    }
   ],
   "source": [
    "# recall score\n",
    "print(recall_score(y_test, log_ypred, average='weighted'))"
   ]
  },
  {
   "cell_type": "code",
   "execution_count": 177,
   "id": "7b1b7e64",
   "metadata": {},
   "outputs": [
    {
     "name": "stdout",
     "output_type": "stream",
     "text": [
      "0.972972972972973\n"
     ]
    }
   ],
   "source": [
    "# f1 score\n",
    "print(f1_score(y_test, log_ypred, average='micro'))"
   ]
  },
  {
   "cell_type": "markdown",
   "id": "d9421286",
   "metadata": {},
   "source": [
    "#### 2) kNN MODEL"
   ]
  },
  {
   "cell_type": "code",
   "execution_count": 178,
   "id": "552e4de3",
   "metadata": {},
   "outputs": [
    {
     "data": {
      "text/plain": [
       "array([ 3,  4,  5,  6,  7,  8,  9, 10, 11, 12, 13, 14])"
      ]
     },
     "execution_count": 178,
     "metadata": {},
     "output_type": "execute_result"
    }
   ],
   "source": [
    "# take values from 3 to 14 and stores in array format\n",
    "neighbors = np.arange(3,15) \n",
    "neighbors"
   ]
  },
  {
   "cell_type": "code",
   "execution_count": 179,
   "id": "93f3e119",
   "metadata": {},
   "outputs": [
    {
     "name": "stderr",
     "output_type": "stream",
     "text": [
      "E:\\anaconda\\lib\\site-packages\\sklearn\\neighbors\\_classification.py:228: FutureWarning: Unlike other reduction functions (e.g. `skew`, `kurtosis`), the default behavior of `mode` typically preserves the axis it acts along. In SciPy 1.11.0, this behavior will change: the default value of `keepdims` will become False, the `axis` over which the statistic is taken will be eliminated, and the value None will no longer be accepted. Set `keepdims` to True or False to avoid this warning.\n",
      "  mode, _ = stats.mode(_y[neigh_ind, k], axis=1)\n",
      "E:\\anaconda\\lib\\site-packages\\sklearn\\neighbors\\_classification.py:228: FutureWarning: Unlike other reduction functions (e.g. `skew`, `kurtosis`), the default behavior of `mode` typically preserves the axis it acts along. In SciPy 1.11.0, this behavior will change: the default value of `keepdims` will become False, the `axis` over which the statistic is taken will be eliminated, and the value None will no longer be accepted. Set `keepdims` to True or False to avoid this warning.\n",
      "  mode, _ = stats.mode(_y[neigh_ind, k], axis=1)\n",
      "E:\\anaconda\\lib\\site-packages\\sklearn\\neighbors\\_classification.py:228: FutureWarning: Unlike other reduction functions (e.g. `skew`, `kurtosis`), the default behavior of `mode` typically preserves the axis it acts along. In SciPy 1.11.0, this behavior will change: the default value of `keepdims` will become False, the `axis` over which the statistic is taken will be eliminated, and the value None will no longer be accepted. Set `keepdims` to True or False to avoid this warning.\n",
      "  mode, _ = stats.mode(_y[neigh_ind, k], axis=1)\n",
      "E:\\anaconda\\lib\\site-packages\\sklearn\\neighbors\\_classification.py:228: FutureWarning: Unlike other reduction functions (e.g. `skew`, `kurtosis`), the default behavior of `mode` typically preserves the axis it acts along. In SciPy 1.11.0, this behavior will change: the default value of `keepdims` will become False, the `axis` over which the statistic is taken will be eliminated, and the value None will no longer be accepted. Set `keepdims` to True or False to avoid this warning.\n",
      "  mode, _ = stats.mode(_y[neigh_ind, k], axis=1)\n",
      "E:\\anaconda\\lib\\site-packages\\sklearn\\neighbors\\_classification.py:228: FutureWarning: Unlike other reduction functions (e.g. `skew`, `kurtosis`), the default behavior of `mode` typically preserves the axis it acts along. In SciPy 1.11.0, this behavior will change: the default value of `keepdims` will become False, the `axis` over which the statistic is taken will be eliminated, and the value None will no longer be accepted. Set `keepdims` to True or False to avoid this warning.\n",
      "  mode, _ = stats.mode(_y[neigh_ind, k], axis=1)\n",
      "E:\\anaconda\\lib\\site-packages\\sklearn\\neighbors\\_classification.py:228: FutureWarning: Unlike other reduction functions (e.g. `skew`, `kurtosis`), the default behavior of `mode` typically preserves the axis it acts along. In SciPy 1.11.0, this behavior will change: the default value of `keepdims` will become False, the `axis` over which the statistic is taken will be eliminated, and the value None will no longer be accepted. Set `keepdims` to True or False to avoid this warning.\n",
      "  mode, _ = stats.mode(_y[neigh_ind, k], axis=1)\n",
      "E:\\anaconda\\lib\\site-packages\\sklearn\\neighbors\\_classification.py:228: FutureWarning: Unlike other reduction functions (e.g. `skew`, `kurtosis`), the default behavior of `mode` typically preserves the axis it acts along. In SciPy 1.11.0, this behavior will change: the default value of `keepdims` will become False, the `axis` over which the statistic is taken will be eliminated, and the value None will no longer be accepted. Set `keepdims` to True or False to avoid this warning.\n",
      "  mode, _ = stats.mode(_y[neigh_ind, k], axis=1)\n",
      "E:\\anaconda\\lib\\site-packages\\sklearn\\neighbors\\_classification.py:228: FutureWarning: Unlike other reduction functions (e.g. `skew`, `kurtosis`), the default behavior of `mode` typically preserves the axis it acts along. In SciPy 1.11.0, this behavior will change: the default value of `keepdims` will become False, the `axis` over which the statistic is taken will be eliminated, and the value None will no longer be accepted. Set `keepdims` to True or False to avoid this warning.\n",
      "  mode, _ = stats.mode(_y[neigh_ind, k], axis=1)\n",
      "E:\\anaconda\\lib\\site-packages\\sklearn\\neighbors\\_classification.py:228: FutureWarning: Unlike other reduction functions (e.g. `skew`, `kurtosis`), the default behavior of `mode` typically preserves the axis it acts along. In SciPy 1.11.0, this behavior will change: the default value of `keepdims` will become False, the `axis` over which the statistic is taken will be eliminated, and the value None will no longer be accepted. Set `keepdims` to True or False to avoid this warning.\n",
      "  mode, _ = stats.mode(_y[neigh_ind, k], axis=1)\n",
      "E:\\anaconda\\lib\\site-packages\\sklearn\\neighbors\\_classification.py:228: FutureWarning: Unlike other reduction functions (e.g. `skew`, `kurtosis`), the default behavior of `mode` typically preserves the axis it acts along. In SciPy 1.11.0, this behavior will change: the default value of `keepdims` will become False, the `axis` over which the statistic is taken will be eliminated, and the value None will no longer be accepted. Set `keepdims` to True or False to avoid this warning.\n",
      "  mode, _ = stats.mode(_y[neigh_ind, k], axis=1)\n",
      "E:\\anaconda\\lib\\site-packages\\sklearn\\neighbors\\_classification.py:228: FutureWarning: Unlike other reduction functions (e.g. `skew`, `kurtosis`), the default behavior of `mode` typically preserves the axis it acts along. In SciPy 1.11.0, this behavior will change: the default value of `keepdims` will become False, the `axis` over which the statistic is taken will be eliminated, and the value None will no longer be accepted. Set `keepdims` to True or False to avoid this warning.\n",
      "  mode, _ = stats.mode(_y[neigh_ind, k], axis=1)\n",
      "E:\\anaconda\\lib\\site-packages\\sklearn\\neighbors\\_classification.py:228: FutureWarning: Unlike other reduction functions (e.g. `skew`, `kurtosis`), the default behavior of `mode` typically preserves the axis it acts along. In SciPy 1.11.0, this behavior will change: the default value of `keepdims` will become False, the `axis` over which the statistic is taken will be eliminated, and the value None will no longer be accepted. Set `keepdims` to True or False to avoid this warning.\n",
      "  mode, _ = stats.mode(_y[neigh_ind, k], axis=1)\n"
     ]
    }
   ],
   "source": [
    "# create an empty list to store accuracy\n",
    "metric_k = [] \n",
    "\n",
    "# take values from 3 to 14 and store it in array format in 'neighbors' variable\n",
    "neighbors = np.arange(3,15) \n",
    "\n",
    "# creating a loop for k and vary the values of k from 3 to 14\n",
    "for k in neighbors:\n",
    "    \n",
    "    # for the first iteration k value = 3,  creating an instance\n",
    "    knn = KNeighborsClassifier(n_neighbors=k) \n",
    "    \n",
    "    # fitting the training data to the model and creating a model using the iteration\n",
    "    knn_model = knn.fit(X_train, y_train) \n",
    "    \n",
    "    # finding the predicted values of test data using features of test data for all iterations\n",
    "    y_pred_knn = knn_model.predict(X_test) \n",
    "    \n",
    "    # calculating accuracy of all iterations and storing in variable \n",
    "    knn_acc = accuracy_score(y_test, y_pred_knn) \n",
    "    \n",
    "    # appending accuracy  of all iterations to the empty list \n",
    "    metric_k.append(knn_acc) \n"
   ]
  },
  {
   "cell_type": "code",
   "execution_count": 180,
   "id": "2f3076ac",
   "metadata": {},
   "outputs": [
    {
     "data": {
      "text/plain": [
       "[0.972972972972973,\n",
       " 0.9459459459459459,\n",
       " 0.972972972972973,\n",
       " 0.972972972972973,\n",
       " 0.972972972972973,\n",
       " 0.918918918918919,\n",
       " 0.972972972972973,\n",
       " 0.918918918918919,\n",
       " 0.972972972972973,\n",
       " 0.9459459459459459,\n",
       " 0.9459459459459459,\n",
       " 0.9459459459459459]"
      ]
     },
     "execution_count": 180,
     "metadata": {},
     "output_type": "execute_result"
    }
   ],
   "source": [
    "# displaying accuracy values for k = 3 to 14\n",
    "metric_k"
   ]
  },
  {
   "cell_type": "code",
   "execution_count": 181,
   "id": "29db9e43",
   "metadata": {},
   "outputs": [
    {
     "data": {
      "image/png": "[encoded data removed]",
      "text/plain": [
       "<Figure size 640x480 with 1 Axes>"
      ]
     },
     "metadata": {},
     "output_type": "display_data"
    }
   ],
   "source": [
    "# plot k values versus accuracy to find out which value of k is having highest accuracy\n",
    "plt.plot(neighbors, metric_k, 'o-') \n",
    "\n",
    "# display title\n",
    "plt.title('Plot to find the k value having highest accuracy')\n",
    "\n",
    "# plot label on x-axis\n",
    "plt.xlabel('k value')\n",
    "\n",
    "# plot label on y-axis\n",
    "plt.ylabel('Accuracy')\n",
    "\n",
    "# display grid\n",
    "plt.grid()"
   ]
  },
  {
   "cell_type": "markdown",
   "id": "27e165c1",
   "metadata": {},
   "source": [
    "from the above display, highest accuracy of 0.972972972972973, is found for k values = 3, 5, 6, 7, 9, 11"
   ]
  },
  {
   "cell_type": "code",
   "execution_count": 182,
   "id": "578248b2",
   "metadata": {},
   "outputs": [
    {
     "name": "stderr",
     "output_type": "stream",
     "text": [
      "E:\\anaconda\\lib\\site-packages\\sklearn\\neighbors\\_classification.py:228: FutureWarning: Unlike other reduction functions (e.g. `skew`, `kurtosis`), the default behavior of `mode` typically preserves the axis it acts along. In SciPy 1.11.0, this behavior will change: the default value of `keepdims` will become False, the `axis` over which the statistic is taken will be eliminated, and the value None will no longer be accepted. Set `keepdims` to True or False to avoid this warning.\n",
      "  mode, _ = stats.mode(_y[neigh_ind, k], axis=1)\n"
     ]
    }
   ],
   "source": [
    "# using k value = 3, creating an instance\n",
    "knn = KNeighborsClassifier(n_neighbors=3) \n",
    "\n",
    "# creating model with training data\n",
    "knn_model = knn.fit(X_train, y_train) \n",
    "\n",
    "# finding the predicted values of test data using features of test data\n",
    "y_pred_knn = knn_model.predict(X_test) "
   ]
  },
  {
   "cell_type": "code",
   "execution_count": 183,
   "id": "d457eb6f",
   "metadata": {},
   "outputs": [],
   "source": [
    "# displaying confusion matrix\n",
    "knn_conf = confusion_matrix(y_test, y_pred_knn)"
   ]
  },
  {
   "cell_type": "code",
   "execution_count": 184,
   "id": "a5285c84",
   "metadata": {},
   "outputs": [],
   "source": [
    "# Creating a dataframe for an array-formatted Confusion matrix\n",
    "knn_conf_matrix = pd.DataFrame(knn_conf,\n",
    "                     index = ['Iris-setosa', 'Iris-versicolor', 'Iris-virginica'], \n",
    "                     columns = ['Iris-setosa', 'Iris-versicolor', 'Iris-virginica'])"
   ]
  },
  {
   "cell_type": "code",
   "execution_count": 185,
   "id": "fbfe725e",
   "metadata": {
    "scrolled": true
   },
   "outputs": [
    {
     "data": {
      "image/png": "[encoded data removed]",
      "text/plain": [
       "<Figure size 500x400 with 2 Axes>"
      ]
     },
     "metadata": {},
     "output_type": "display_data"
    }
   ],
   "source": [
    "# Plotting the confusion matrix\n",
    "plt.figure(figsize=(5,4))\n",
    "\n",
    "# plotting heatmap\n",
    "sns.heatmap(knn_conf_matrix, annot=True)\n",
    "\n",
    "# display title\n",
    "plt.title('Confusion Matrix')\n",
    "\n",
    "# display title on y axis\n",
    "plt.ylabel('Actal Values')\n",
    "\n",
    "# display title on x axis\n",
    "plt.xlabel('Predicted Values')\n",
    "\n",
    "# display figure\n",
    "plt.show()"
   ]
  },
  {
   "cell_type": "markdown",
   "id": "0cad0fed",
   "metadata": {},
   "source": [
    "~ calculate the TP, TN, FP, FN values for the class 'Iris-setosa'\n",
    "* TP: The actual value and predicted value should be the same.\n",
    "TP = 14\n",
    "* FN: The sum of values of corresponding rows except the TP value\n",
    "FN = 0 + 0 = 0\n",
    "* FP : The sum of values of corresponding column except the TP value\n",
    "FP = 0 + 0 = 0\n",
    "* TN: The sum of values of all columns and row except the values of that class that we are calculating the values for.\n",
    "TN = 9 + 1 + 0 + 13 = 23\n",
    "\n",
    "~ calculate the TP, TN, FP, FN values for the class 'Iris-versicolor'\n",
    "* TP: The actual value and predicted value should be the same.\n",
    "TP = 9\n",
    "* FN: The sum of values of corresponding rows except the TP value\n",
    "FN = 0 + 1 = 1\n",
    "* FP : The sum of values of corresponding column except the TP value\n",
    "FP = 0 + 0 = 0\n",
    "* TN: The sum of values of all columns and row except the values of that class that we are calculating the values for.\n",
    "TN = 14 + 0 + 0 + 13 = 27\n",
    "\n",
    "~ calculate the TP, TN, FP, FN values for the class 'Iris-virginica'\n",
    "* TP: The actual value and predicted value should be the same.\n",
    "TP = 13\n",
    "* FN: The sum of values of corresponding rows except the TP value\n",
    "FN = 0 + 0 = 0\n",
    "* FP : The sum of values of corresponding column except the TP value\n",
    "FP = 0 + 1 = 1\n",
    "* TN: The sum of values of all columns and row except the values of that class that we are calculating the values for.\n",
    "TN = 14 + 0 + 0 + 9 = 23"
   ]
  },
  {
   "cell_type": "code",
   "execution_count": 186,
   "id": "7e237298",
   "metadata": {},
   "outputs": [
    {
     "name": "stdout",
     "output_type": "stream",
     "text": [
      "0.972972972972973\n",
      "0.9749034749034748\n",
      "0.972972972972973\n",
      "0.972972972972973\n"
     ]
    }
   ],
   "source": [
    "# display accuracy score\n",
    "print(accuracy_score(y_test, y_pred_knn))\n",
    "\n",
    "# display precision score\n",
    "print(precision_score(y_test, y_pred_knn, average='weighted'))\n",
    "\n",
    "# display recall score\n",
    "print(recall_score(y_test, y_pred_knn, average='weighted'))\n",
    "\n",
    "# f1 score\n",
    "print(f1_score(y_test, y_pred_knn, average='micro'))"
   ]
  },
  {
   "cell_type": "markdown",
   "id": "9afb54e2",
   "metadata": {},
   "source": [
    "#### 3) SVM MODEL"
   ]
  },
  {
   "cell_type": "markdown",
   "id": "0b319fac",
   "metadata": {},
   "source": [
    "##### (a) 'linear' kernel"
   ]
  },
  {
   "cell_type": "code",
   "execution_count": 187,
   "id": "b9f718a8",
   "metadata": {},
   "outputs": [],
   "source": [
    "# creating an instance for SVM using linear kernel\n",
    "svm_lin = SVC(kernel = 'linear') "
   ]
  },
  {
   "cell_type": "code",
   "execution_count": 188,
   "id": "d28286be",
   "metadata": {},
   "outputs": [],
   "source": [
    "# creating model using training data\n",
    "svm_linmod = svm_lin.fit(X_train, y_train) "
   ]
  },
  {
   "cell_type": "code",
   "execution_count": 189,
   "id": "5f4875cc",
   "metadata": {},
   "outputs": [],
   "source": [
    "# predict the target of the test data using the features of test data\n",
    "y_pred_svmlin = svm_lin.predict(X_test) "
   ]
  },
  {
   "cell_type": "code",
   "execution_count": 190,
   "id": "e70a37c8",
   "metadata": {},
   "outputs": [],
   "source": [
    "# displaying confusion matrix\n",
    "svmlin_conf = confusion_matrix(y_test, y_pred_svmlin)"
   ]
  },
  {
   "cell_type": "code",
   "execution_count": 191,
   "id": "1769f7f5",
   "metadata": {},
   "outputs": [],
   "source": [
    "# Creating a dataframe for an array-formatted Confusion matrix\n",
    "svmlin_conf_matrix = pd.DataFrame(svmlin_conf,\n",
    "                     index = ['Iris-setosa', 'Iris-versicolor', 'Iris-virginica'], \n",
    "                     columns = ['Iris-setosa', 'Iris-versicolor', 'Iris-virginica'])"
   ]
  },
  {
   "cell_type": "code",
   "execution_count": 192,
   "id": "280faea7",
   "metadata": {},
   "outputs": [
    {
     "data": {
      "image/png": "[encoded data removed]",
      "text/plain": [
       "<Figure size 500x400 with 2 Axes>"
      ]
     },
     "metadata": {},
     "output_type": "display_data"
    }
   ],
   "source": [
    "# Plotting the confusion matrix\n",
    "plt.figure(figsize=(5,4))\n",
    "\n",
    "# plotting heatmap\n",
    "sns.heatmap(svmlin_conf_matrix, annot=True)\n",
    "\n",
    "# display title\n",
    "plt.title('Confusion Matrix')\n",
    "\n",
    "# display title on y axis\n",
    "plt.ylabel('Actal Values')\n",
    "\n",
    "# display title on x axis\n",
    "plt.xlabel('Predicted Values')\n",
    "\n",
    "# display figure\n",
    "plt.show()"
   ]
  },
  {
   "cell_type": "markdown",
   "id": "f8038d13",
   "metadata": {},
   "source": [
    "~ calculate the TP, TN, FP, FN values for the class 'Iris-setosa'\n",
    "* TP: The actual value and predicted value should be the same.\n",
    "TP = 14\n",
    "* FN: The sum of values of corresponding rows except the TP value\n",
    "FN = 0 + 0 = 0\n",
    "* FP : The sum of values of corresponding column except the TP value\n",
    "FP = 0 + 0 = 0\n",
    "* TN: The sum of values of all columns and row except the values of that class that we are calculating the values for.\n",
    "TN = 10 + 0 + 1 + 12 =23\n",
    "\n",
    "~ calculate the TP, TN, FP, FN values for the class 'Iris-versicolor'\n",
    "* TP: The actual value and predicted value should be the same.\n",
    "TP = 10\n",
    "* FN: The sum of values of corresponding rows except the TP value\n",
    "FN = 0 + 0 = 0\n",
    "* FP : The sum of values of corresponding column except the TP value\n",
    "FP = 0 + 1 = 1\n",
    "* TN: The sum of values of all columns and row except the values of that class that we are calculating the values for.\n",
    "TN = 14 + 0 + 0 + 12 = 26\n",
    "\n",
    "~ calculate the TP, TN, FP, FN values for the class 'Iris-virginica'\n",
    "* TP: The actual value and predicted value should be the same.\n",
    "TP = 12\n",
    "* FN: The sum of values of corresponding rows except the TP value\n",
    "FN = 0 + 1 = 1\n",
    "* FP : The sum of values of corresponding column except the TP value\n",
    "FP = 0 + 0 = 0\n",
    "* TN: The sum of values of all columns and row except the values of that class that we are calculating the values for.\n",
    "TN = 14 + 0 + 0 + 10 = 24"
   ]
  },
  {
   "cell_type": "code",
   "execution_count": 193,
   "id": "44ee2c44",
   "metadata": {},
   "outputs": [
    {
     "data": {
      "text/plain": [
       "0.972972972972973"
      ]
     },
     "execution_count": 193,
     "metadata": {},
     "output_type": "execute_result"
    }
   ],
   "source": [
    "# display accuracy score\n",
    "accuracy_score(y_test, y_pred_svmlin)"
   ]
  },
  {
   "cell_type": "code",
   "execution_count": 194,
   "id": "d374e110",
   "metadata": {},
   "outputs": [
    {
     "name": "stdout",
     "output_type": "stream",
     "text": [
      "0.9754299754299754\n"
     ]
    }
   ],
   "source": [
    "# precision score\n",
    "print(precision_score(y_test, y_pred_svmlin, average='weighted'))"
   ]
  },
  {
   "cell_type": "code",
   "execution_count": 195,
   "id": "c89333c2",
   "metadata": {},
   "outputs": [
    {
     "name": "stdout",
     "output_type": "stream",
     "text": [
      "0.972972972972973\n"
     ]
    }
   ],
   "source": [
    "# recall score\n",
    "print(recall_score(y_test, y_pred_svmlin, average='weighted'))"
   ]
  },
  {
   "cell_type": "code",
   "execution_count": 196,
   "id": "eae7e0e3",
   "metadata": {},
   "outputs": [
    {
     "name": "stdout",
     "output_type": "stream",
     "text": [
      "0.972972972972973\n"
     ]
    }
   ],
   "source": [
    "# f1 score\n",
    "print(f1_score(y_test, y_pred_svmlin, average='micro'))"
   ]
  },
  {
   "cell_type": "markdown",
   "id": "8147150d",
   "metadata": {},
   "source": [
    "##### (b) 'rbf' kernel"
   ]
  },
  {
   "cell_type": "code",
   "execution_count": 197,
   "id": "2447ad50",
   "metadata": {},
   "outputs": [],
   "source": [
    " # creating an instance for SVM  using rbf kernel\n",
    "svm_rbf = SVC(kernel = 'rbf') "
   ]
  },
  {
   "cell_type": "code",
   "execution_count": 198,
   "id": "89e9ae94",
   "metadata": {},
   "outputs": [],
   "source": [
    "# creating model using training data\n",
    "svm_rbfmod = svm_rbf.fit(X_train, y_train) "
   ]
  },
  {
   "cell_type": "code",
   "execution_count": 199,
   "id": "db1474f6",
   "metadata": {},
   "outputs": [],
   "source": [
    "# predict the target of the test data using the features of test data\n",
    "y_pred_svmrbf = svm_rbf.predict(X_test)"
   ]
  },
  {
   "cell_type": "code",
   "execution_count": 200,
   "id": "ef4f526e",
   "metadata": {},
   "outputs": [],
   "source": [
    "# displaying confusion matrix\n",
    "svmrbf_conf = confusion_matrix(y_test, y_pred_svmrbf)"
   ]
  },
  {
   "cell_type": "code",
   "execution_count": 201,
   "id": "680120b1",
   "metadata": {},
   "outputs": [],
   "source": [
    "# Creating a dataframe for an array-formatted Confusion matrix\n",
    "svmrbf_conf_matrix = pd.DataFrame(svmrbf_conf,\n",
    "                     index = ['Iris-setosa', 'Iris-versicolor', 'Iris-virginica'], \n",
    "                     columns = ['Iris-setosa', 'Iris-versicolor', 'Iris-virginica'])"
   ]
  },
  {
   "cell_type": "code",
   "execution_count": 202,
   "id": "54ac3774",
   "metadata": {},
   "outputs": [
    {
     "data": {
      "image/png": "[encoded data removed]",
      "text/plain": [
       "<Figure size 500x400 with 2 Axes>"
      ]
     },
     "metadata": {},
     "output_type": "display_data"
    }
   ],
   "source": [
    "# Plotting the confusion matrix\n",
    "plt.figure(figsize=(5,4))\n",
    "\n",
    "# plotting heatmap\n",
    "sns.heatmap(svmrbf_conf_matrix, annot=True)\n",
    "\n",
    "# display title\n",
    "plt.title('Confusion Matrix')\n",
    "\n",
    "# display title on y axis\n",
    "plt.ylabel('Actal Values')\n",
    "\n",
    "# display title on x axis\n",
    "plt.xlabel('Predicted Values')\n",
    "\n",
    "# display figure\n",
    "plt.show()"
   ]
  },
  {
   "cell_type": "markdown",
   "id": "97646748",
   "metadata": {},
   "source": [
    "~ calculate the TP, TN, FP, FN values for the class 'Iris-setosa'\n",
    "* TP: The actual value and predicted value should be the same.\n",
    "TP = 14\n",
    "* FN: The sum of values of corresponding rows except the TP value\n",
    "FN = 0 + 0 = 0\n",
    "* FP : The sum of values of corresponding column except the TP value\n",
    "FP = 0 + 0 = 0\n",
    "* TN: The sum of values of all columns and row except the values of that class that we are calculating the values for.\n",
    "TN = 9 + 1 + 0 + 13 = 23\n",
    "\n",
    "~ calculate the TP, TN, FP, FN values for the class 'Iris-versicolor'\n",
    "* TP: The actual value and predicted value should be the same.\n",
    "TP = 9\n",
    "* FN: The sum of values of corresponding rows except the TP value\n",
    "FN = 0 + 1 = 1\n",
    "* FP : The sum of values of corresponding column except the TP value\n",
    "FP = 0 + 0 = 0\n",
    "* TN: The sum of values of all columns and row except the values of that class that we are calculating the values for.\n",
    "TN = 14 + 0 + 0 + 13 = 27\n",
    "\n",
    "~ calculate the TP, TN, FP, FN values for the class 'Iris-virginica'\n",
    "* TP: The actual value and predicted value should be the same.\n",
    "TP = 13\n",
    "* FN: The sum of values of corresponding rows except the TP value\n",
    "FN = 0 + 0 = 0\n",
    "* FP : The sum of values of corresponding column except the TP value\n",
    "FP = 0 + 1 = 1\n",
    "* TN: The sum of values of all columns and row except the values of that class that we are calculating the values for.\n",
    "TN = 14 + 0 + 0 + 9 = 23"
   ]
  },
  {
   "cell_type": "code",
   "execution_count": 203,
   "id": "06ec9807",
   "metadata": {},
   "outputs": [
    {
     "data": {
      "text/plain": [
       "0.972972972972973"
      ]
     },
     "execution_count": 203,
     "metadata": {},
     "output_type": "execute_result"
    }
   ],
   "source": [
    "# display accuracy score\n",
    "accuracy_score(y_test, y_pred_svmrbf)"
   ]
  },
  {
   "cell_type": "code",
   "execution_count": 204,
   "id": "d801bfd1",
   "metadata": {},
   "outputs": [
    {
     "name": "stdout",
     "output_type": "stream",
     "text": [
      "0.9749034749034748\n"
     ]
    }
   ],
   "source": [
    "# precision score\n",
    "print(precision_score(y_test, y_pred_svmrbf, average='weighted'))"
   ]
  },
  {
   "cell_type": "code",
   "execution_count": 205,
   "id": "7461adf8",
   "metadata": {},
   "outputs": [
    {
     "name": "stdout",
     "output_type": "stream",
     "text": [
      "0.972972972972973\n"
     ]
    }
   ],
   "source": [
    "# recall score\n",
    "print(recall_score(y_test, y_pred_svmrbf, average='weighted'))"
   ]
  },
  {
   "cell_type": "code",
   "execution_count": 206,
   "id": "87b0564d",
   "metadata": {},
   "outputs": [
    {
     "name": "stdout",
     "output_type": "stream",
     "text": [
      "0.972972972972973\n"
     ]
    }
   ],
   "source": [
    "# f1 score\n",
    "print(f1_score(y_test, y_pred_svmrbf, average='micro'))"
   ]
  },
  {
   "cell_type": "markdown",
   "id": "de674b87",
   "metadata": {},
   "source": [
    "##### (c) 'polynomial' kernel"
   ]
  },
  {
   "cell_type": "code",
   "execution_count": 207,
   "id": "ced0b570",
   "metadata": {},
   "outputs": [],
   "source": [
    "# creating an instance for SVM  using 'polynomial' kernel\n",
    "svm_poly = SVC(kernel='poly') "
   ]
  },
  {
   "cell_type": "code",
   "execution_count": 208,
   "id": "91300ecb",
   "metadata": {},
   "outputs": [],
   "source": [
    "# creating model using training data\n",
    "svm_polmod = svm_poly.fit(X_train, y_train) "
   ]
  },
  {
   "cell_type": "code",
   "execution_count": 209,
   "id": "d193aacc",
   "metadata": {},
   "outputs": [],
   "source": [
    "# predict the target of the test data using the features of test data\n",
    "y_pred_svmpol = svm_poly.predict(X_test)"
   ]
  },
  {
   "cell_type": "code",
   "execution_count": 210,
   "id": "aa0c4508",
   "metadata": {},
   "outputs": [],
   "source": [
    "# displaying confusion matrix\n",
    "svmpol_conf = confusion_matrix(y_test, y_pred_svmpol)"
   ]
  },
  {
   "cell_type": "code",
   "execution_count": 211,
   "id": "504a36ef",
   "metadata": {},
   "outputs": [],
   "source": [
    "# Creating a dataframe for an array-formatted Confusion matrix\n",
    "svmpol_conf_matrix = pd.DataFrame(svmpol_conf,\n",
    "                     index = ['Iris-setosa', 'Iris-versicolor', 'Iris-virginica'], \n",
    "                     columns = ['Iris-setosa', 'Iris-versicolor', 'Iris-virginica'])"
   ]
  },
  {
   "cell_type": "code",
   "execution_count": 212,
   "id": "88388a39",
   "metadata": {},
   "outputs": [
    {
     "data": {
      "image/png": "[encoded data removed]",
      "text/plain": [
       "<Figure size 500x400 with 2 Axes>"
      ]
     },
     "metadata": {},
     "output_type": "display_data"
    }
   ],
   "source": [
    "# Plotting the confusion matrix\n",
    "plt.figure(figsize=(5,4))\n",
    "\n",
    "# plotting heatmap\n",
    "sns.heatmap(svmpol_conf_matrix, annot=True)\n",
    "\n",
    "# display title\n",
    "plt.title('Confusion Matrix')\n",
    "\n",
    "# display title on y axis\n",
    "plt.ylabel('Actal Values')\n",
    "\n",
    "# display title on x axis\n",
    "plt.xlabel('Predicted Values')\n",
    "\n",
    "# display figure\n",
    "plt.show()"
   ]
  },
  {
   "cell_type": "markdown",
   "id": "a161615f",
   "metadata": {},
   "source": [
    "~ calculate the TP, TN, FP, FN values for the class 'Iris-setosa'\n",
    "* TP: The actual value and predicted value should be the same.\n",
    "TP = 14\n",
    "* FN: The sum of values of corresponding rows except the TP value\n",
    "FN = 0 + 0 = 0\n",
    "* FP : The sum of values of corresponding column except the TP value\n",
    "FP = 0 + 0 = 0\n",
    "* TN: The sum of values of all columns and row except the values of that class that we are calculating the values for.\n",
    "TN = 8 + 2 + 1 + 12 = 23\n",
    "\n",
    "~ calculate the TP, TN, FP, FN values for the class 'Iris-versicolor'\n",
    "* TP: The actual value and predicted value should be the same.\n",
    "TP = 8\n",
    "* FN: The sum of values of corresponding rows except the TP value\n",
    "FN = 0 + 2 = 2\n",
    "* FP : The sum of values of corresponding column except the TP value\n",
    "FP = 0 + 1 = 1\n",
    "* TN: The sum of values of all columns and row except the values of that class that we are calculating the values for.\n",
    "TN = 14 + 0 + 0 + 12 = 26\n",
    "\n",
    "~ calculate the TP, TN, FP, FN values for the class 'Iris-virginica'\n",
    "* TP: The actual value and predicted value should be the same.\n",
    "TP = 12\n",
    "* FN: The sum of values of corresponding rows except the TP value\n",
    "FN = 0 + 1 = 1\n",
    "* FP : The sum of values of corresponding column except the TP value\n",
    "FP = 0 + 2 = 2\n",
    "* TN: The sum of values of all columns and row except the values of that class that we are calculating the values for.\n",
    "TN = 14 + 0 + 0 + 8 = 22"
   ]
  },
  {
   "cell_type": "code",
   "execution_count": 213,
   "id": "3b903a77",
   "metadata": {},
   "outputs": [
    {
     "data": {
      "text/plain": [
       "0.918918918918919"
      ]
     },
     "execution_count": 213,
     "metadata": {},
     "output_type": "execute_result"
    }
   ],
   "source": [
    "# display accuracy score\n",
    "accuracy_score(y_test, y_pred_svmpol)"
   ]
  },
  {
   "cell_type": "code",
   "execution_count": 214,
   "id": "98c01025",
   "metadata": {},
   "outputs": [
    {
     "name": "stdout",
     "output_type": "stream",
     "text": [
      "0.9197769197769198\n"
     ]
    }
   ],
   "source": [
    "# precision score\n",
    "print(precision_score(y_test, y_pred_svmpol, average='weighted'))"
   ]
  },
  {
   "cell_type": "code",
   "execution_count": 215,
   "id": "3b55cfc4",
   "metadata": {},
   "outputs": [
    {
     "name": "stdout",
     "output_type": "stream",
     "text": [
      "0.918918918918919\n"
     ]
    }
   ],
   "source": [
    "# recall score\n",
    "print(recall_score(y_test, y_pred_svmpol, average='weighted'))"
   ]
  },
  {
   "cell_type": "code",
   "execution_count": 216,
   "id": "6b7ef4f7",
   "metadata": {},
   "outputs": [
    {
     "name": "stdout",
     "output_type": "stream",
     "text": [
      "0.918918918918919\n"
     ]
    }
   ],
   "source": [
    "# f1 score\n",
    "print(f1_score(y_test, y_pred_svmpol, average='micro'))"
   ]
  },
  {
   "cell_type": "markdown",
   "id": "1d644a78",
   "metadata": {},
   "source": [
    "#### 4) DECISION TREE"
   ]
  },
  {
   "cell_type": "code",
   "execution_count": 217,
   "id": "3bd25fae",
   "metadata": {},
   "outputs": [],
   "source": [
    "# creating an instance for decision tree classifier\n",
    "dec_tree = DecisionTreeClassifier(random_state=42) "
   ]
  },
  {
   "cell_type": "code",
   "execution_count": 218,
   "id": "1ae8bc95",
   "metadata": {},
   "outputs": [
    {
     "data": {
      "text/plain": [
       "DecisionTreeClassifier(random_state=42)"
      ]
     },
     "execution_count": 218,
     "metadata": {},
     "output_type": "execute_result"
    }
   ],
   "source": [
    "# creating model using training data \n",
    "dec_tree.fit(X_train, y_train)"
   ]
  },
  {
   "cell_type": "code",
   "execution_count": 219,
   "id": "9f5b36d5",
   "metadata": {},
   "outputs": [],
   "source": [
    "# predict the target of the test data using the features of test data\n",
    "y_pred_dectree = dec_tree.predict (X_test)"
   ]
  },
  {
   "cell_type": "code",
   "execution_count": 220,
   "id": "19efcd1e",
   "metadata": {},
   "outputs": [],
   "source": [
    "# displaying confusion matrix\n",
    "dectree_conf = confusion_matrix(y_test, y_pred_dectree)"
   ]
  },
  {
   "cell_type": "code",
   "execution_count": 221,
   "id": "dea334a6",
   "metadata": {},
   "outputs": [],
   "source": [
    "# Creating a dataframe for an array-formatted Confusion matrix\n",
    "dectree_conf_matrix = pd.DataFrame(dectree_conf,\n",
    "                     index = ['Iris-setosa', 'Iris-versicolor', 'Iris-virginica'], \n",
    "                     columns = ['Iris-setosa', 'Iris-versicolor', 'Iris-virginica'])"
   ]
  },
  {
   "cell_type": "code",
   "execution_count": 222,
   "id": "7b53d9f6",
   "metadata": {},
   "outputs": [
    {
     "data": {
      "image/png": "[encoded data removed]",
      "text/plain": [
       "<Figure size 500x400 with 2 Axes>"
      ]
     },
     "metadata": {},
     "output_type": "display_data"
    }
   ],
   "source": [
    "# Plotting the confusion matrix\n",
    "plt.figure(figsize=(5,4))\n",
    "\n",
    "# plotting heatmap\n",
    "sns.heatmap(dectree_conf_matrix, annot=True)\n",
    "\n",
    "# display title\n",
    "plt.title('Confusion Matrix')\n",
    "\n",
    "# display title on y axis\n",
    "plt.ylabel('Actal Values')\n",
    "\n",
    "# display title on x axis\n",
    "plt.xlabel('Predicted Values')\n",
    "\n",
    "# display figure\n",
    "plt.show()"
   ]
  },
  {
   "cell_type": "markdown",
   "id": "2a9de403",
   "metadata": {},
   "source": [
    "~ calculate the TP, TN, FP, FN values for the class 'Iris-setosa'\n",
    "* TP: The actual value and predicted value should be the same.\n",
    "TP = 14\n",
    "* FN: The sum of values of corresponding rows except the TP value\n",
    "FN = 0 + 0 = 0\n",
    "* FP : The sum of values of corresponding column except the TP value\n",
    "FP = 0 + 0 = 0\n",
    "* TN: The sum of values of all columns and row except the values of that class that we are calculating the values for.\n",
    "TN = 9 + 1 + 2 + 11 = 23\n",
    "\n",
    "~ calculate the TP, TN, FP, FN values for the class 'Iris-versicolor'\n",
    "* TP: The actual value and predicted value should be the same.\n",
    "TP = 9\n",
    "* FN: The sum of values of corresponding rows except the TP value\n",
    "FN = 0 + 1 = 1\n",
    "* FP : The sum of values of corresponding column except the TP value\n",
    "FP = 0 + 2 = 2\n",
    "* TN: The sum of values of all columns and row except the values of that class that we are calculating the values for.\n",
    "TN = 14 + 0 + 0 + 11 = 25\n",
    "\n",
    "~ calculate the TP, TN, FP, FN values for the class 'Iris-virginica'\n",
    "* TP: The actual value and predicted value should be the same.\n",
    "TP = 11\n",
    "* FN: The sum of values of corresponding rows except the TP value\n",
    "FN = 0 + 2 = 2\n",
    "* FP : The sum of values of corresponding column except the TP value\n",
    "FP = 0 + 1 = 1\n",
    "* TN: The sum of values of all columns and row except the values of that class that we are calculating the values for.\n",
    "TN = 14 + 0 + 0 + 9 = 23"
   ]
  },
  {
   "cell_type": "code",
   "execution_count": 223,
   "id": "fa809338",
   "metadata": {},
   "outputs": [
    {
     "data": {
      "text/plain": [
       "0.918918918918919"
      ]
     },
     "execution_count": 223,
     "metadata": {},
     "output_type": "execute_result"
    }
   ],
   "source": [
    "# display accuracy score\n",
    "accuracy_score(y_test, y_pred_dectree)"
   ]
  },
  {
   "cell_type": "code",
   "execution_count": 224,
   "id": "0e4505c0",
   "metadata": {},
   "outputs": [
    {
     "name": "stdout",
     "output_type": "stream",
     "text": [
      "0.9215806715806715\n"
     ]
    }
   ],
   "source": [
    "# precision score\n",
    "print(precision_score(y_test, y_pred_dectree, average='weighted'))"
   ]
  },
  {
   "cell_type": "code",
   "execution_count": 225,
   "id": "1498a9e3",
   "metadata": {},
   "outputs": [
    {
     "name": "stdout",
     "output_type": "stream",
     "text": [
      "0.918918918918919\n"
     ]
    }
   ],
   "source": [
    "# recall score\n",
    "print(recall_score(y_test, y_pred_dectree, average='weighted'))"
   ]
  },
  {
   "cell_type": "code",
   "execution_count": 226,
   "id": "16d2e6bf",
   "metadata": {},
   "outputs": [
    {
     "name": "stdout",
     "output_type": "stream",
     "text": [
      "0.918918918918919\n"
     ]
    }
   ],
   "source": [
    "# f1 score\n",
    "print(f1_score(y_test, y_pred_dectree, average='micro'))"
   ]
  },
  {
   "cell_type": "markdown",
   "id": "92641469",
   "metadata": {},
   "source": [
    "#### 5) RANDOM FOREST"
   ]
  },
  {
   "cell_type": "code",
   "execution_count": 227,
   "id": "e102d319",
   "metadata": {},
   "outputs": [],
   "source": [
    "# creating an instance for random forest classifier\n",
    "ran_for = RandomForestClassifier(random_state=42)"
   ]
  },
  {
   "cell_type": "code",
   "execution_count": 228,
   "id": "a054c1fa",
   "metadata": {},
   "outputs": [
    {
     "data": {
      "text/plain": [
       "RandomForestClassifier(random_state=42)"
      ]
     },
     "execution_count": 228,
     "metadata": {},
     "output_type": "execute_result"
    }
   ],
   "source": [
    "# creating model using training data \n",
    "ran_for.fit(X_train, y_train)"
   ]
  },
  {
   "cell_type": "code",
   "execution_count": 229,
   "id": "310a25cd",
   "metadata": {},
   "outputs": [],
   "source": [
    "# predict the target of the test data using the features of test data\n",
    "y_pred_ranfor = ran_for.predict (X_test)"
   ]
  },
  {
   "cell_type": "code",
   "execution_count": 230,
   "id": "9371f815",
   "metadata": {},
   "outputs": [],
   "source": [
    "# displaying confusion matrix\n",
    "ranfor_conf = confusion_matrix(y_test, y_pred_ranfor)"
   ]
  },
  {
   "cell_type": "code",
   "execution_count": 231,
   "id": "51073f4d",
   "metadata": {},
   "outputs": [],
   "source": [
    "# Creating a dataframe for an array-formatted Confusion matrix\n",
    "ranfor_conf_matrix = pd.DataFrame(ranfor_conf,\n",
    "                     index = ['Iris-setosa', 'Iris-versicolor', 'Iris-virginica'], \n",
    "                     columns = ['Iris-setosa', 'Iris-versicolor', 'Iris-virginica'])"
   ]
  },
  {
   "cell_type": "code",
   "execution_count": 232,
   "id": "8b146975",
   "metadata": {},
   "outputs": [
    {
     "data": {
      "image/png": "[encoded data removed]",
      "text/plain": [
       "<Figure size 500x400 with 2 Axes>"
      ]
     },
     "metadata": {},
     "output_type": "display_data"
    }
   ],
   "source": [
    "# Plotting the confusion matrix\n",
    "plt.figure(figsize=(5,4))\n",
    "\n",
    "# plotting heatmap\n",
    "sns.heatmap(ranfor_conf_matrix, annot=True)\n",
    "\n",
    "# display title\n",
    "plt.title('Confusion Matrix')\n",
    "\n",
    "# display title on y axis\n",
    "plt.ylabel('Actal Values')\n",
    "\n",
    "# display title on x axis\n",
    "plt.xlabel('Predicted Values')\n",
    "\n",
    "# display figure\n",
    "plt.show()"
   ]
  },
  {
   "cell_type": "markdown",
   "id": "023da3b6",
   "metadata": {},
   "source": [
    "~ calculate the TP, TN, FP, FN values for the class 'Iris-setosa'\n",
    "* TP: The actual value and predicted value should be the same.\n",
    "TP = 14\n",
    "* FN: The sum of values of corresponding rows except the TP value\n",
    "FN = 0 + 0 = 0\n",
    "* FP : The sum of values of corresponding column except the TP value\n",
    "FP = 0 + 0 = 0\n",
    "* TN: The sum of values of all columns and row except the values of that class that we are calculating the values for.\n",
    "TN = 9 + 1 + 1 + 12 = 23\n",
    "\n",
    "~ calculate the TP, TN, FP, FN values for the class 'Iris-versicolor'\n",
    "* TP: The actual value and predicted value should be the same.\n",
    "TP = 9\n",
    "* FN: The sum of values of corresponding rows except the TP value\n",
    "FN = 0 + 1 = 1\n",
    "* FP : The sum of values of corresponding column except the TP value\n",
    "FP = 0 + 1 = 1\n",
    "* TN: The sum of values of all columns and row except the values of that class that we are calculating the values for.\n",
    "TN = 14 + 0 + 0 + 12 = 26\n",
    "\n",
    "~ calculate the TP, TN, FP, FN values for the class 'Iris-virginica'\n",
    "* TP: The actual value and predicted value should be the same.\n",
    "TP = 12\n",
    "* FN: The sum of values of corresponding rows except the TP value\n",
    "FN = 0 + 1 = 1\n",
    "* FP : The sum of values of corresponding column except the TP value\n",
    "FP = 0 + 1 = 1\n",
    "* TN: The sum of values of all columns and row except the values of that class that we are calculating the values for.\n",
    "TN = 14 + 0 + 0 + 9 = 23"
   ]
  },
  {
   "cell_type": "code",
   "execution_count": 233,
   "id": "aa566a88",
   "metadata": {},
   "outputs": [
    {
     "data": {
      "text/plain": [
       "0.9459459459459459"
      ]
     },
     "execution_count": 233,
     "metadata": {},
     "output_type": "execute_result"
    }
   ],
   "source": [
    "# display accuracy score\n",
    "accuracy_score(y_test, y_pred_ranfor)"
   ]
  },
  {
   "cell_type": "code",
   "execution_count": 234,
   "id": "d73d8e4e",
   "metadata": {},
   "outputs": [
    {
     "name": "stdout",
     "output_type": "stream",
     "text": [
      "0.9459459459459459\n"
     ]
    }
   ],
   "source": [
    "# precision score\n",
    "print(precision_score(y_test, y_pred_ranfor, average='weighted'))"
   ]
  },
  {
   "cell_type": "code",
   "execution_count": 235,
   "id": "b18bc67d",
   "metadata": {},
   "outputs": [
    {
     "name": "stdout",
     "output_type": "stream",
     "text": [
      "0.9459459459459459\n"
     ]
    }
   ],
   "source": [
    "# recall score\n",
    "print(recall_score(y_test, y_pred_ranfor, average='weighted'))"
   ]
  },
  {
   "cell_type": "code",
   "execution_count": 236,
   "id": "e6d3bcb2",
   "metadata": {},
   "outputs": [
    {
     "name": "stdout",
     "output_type": "stream",
     "text": [
      "0.9459459459459459\n"
     ]
    }
   ],
   "source": [
    "# f1 score\n",
    "print(f1_score(y_test, y_pred_ranfor, average='micro'))"
   ]
  },
  {
   "cell_type": "markdown",
   "id": "324f3ed2",
   "metadata": {},
   "source": [
    "ACCURACY SCORE\n",
    "******\n",
    "1) LOGISTIC REGRESSION - 0.972972972972973\n",
    "\n",
    "\n",
    "2) kNN MODEL - 0.972972972972973\n",
    "\n",
    "3) SVM MODEL,  (a) 'linear' kernel - 0.972972972972973,\n",
    "\n",
    "               (b) 'rbf' kernel - 0.972972972972973,\n",
    "               \n",
    "               (c) 'polynomial' kernel - 0.918918918918919\n",
    "               \n",
    "4) DECISION TREE - 0.918918918918919\n",
    "\n",
    "5) RANDOM FOREST - 0.9459459459459459"
   ]
  },
  {
   "cell_type": "markdown",
   "id": "9af828cb",
   "metadata": {},
   "source": [
    "~ Highest accuracy score of 0.972972972972973 and highest recall score of 0.972972972972973 are obtained for Logistic Regression model, kNN model, SVM models using linear kernel and rbf kernels.\n",
    "\n",
    "~ Logistic Regression model and  SVM model using linear kernel are having the same confusion matrix while kNN model and SVM model using rbf kernel are having the same confusion matrix.\n",
    "\n",
    "~ Logistic Regression model and  SVM model using linear kernel are performing better and gives  better results because of better recall scores."
   ]
  }
 ],
 "metadata": {
  "kernelspec": {
   "display_name": "Python 3 (ipykernel)",
   "language": "python",
   "name": "python3"
  },
  "language_info": {
   "codemirror_mode": {
    "name": "ipython",
    "version": 3
   },
   "file_extension": ".py",
   "mimetype": "text/x-python",
   "name": "python",
   "nbconvert_exporter": "python",
   "pygments_lexer": "ipython3",
   "version": "3.9.13"
  }
 },
 "nbformat": 4,
 "nbformat_minor": 5
}
